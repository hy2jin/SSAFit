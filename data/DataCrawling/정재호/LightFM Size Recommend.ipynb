{
 "cells": [
  {
   "cell_type": "code",
   "execution_count": 314,
   "id": "d9b0c883",
   "metadata": {},
   "outputs": [],
   "source": [
    "import pandas as pd\n",
    "import numpy as np\n",
    "from lightfm.data import Dataset\n",
    "from lightfm.cross_validation import random_train_test_split\n",
    "from lightfm.evaluation import precision_at_k\n",
    "from lightfm import LightFM\n",
    "\n",
    "from hyperopt import fmin, hp, tpe, Trials\n",
    "from scipy.io import mmwrite"
   ]
  },
  {
   "cell_type": "code",
   "execution_count": 315,
   "id": "c992f414",
   "metadata": {},
   "outputs": [],
   "source": [
    "pd.set_option('display.max_columns', None)"
   ]
  },
  {
   "cell_type": "code",
   "execution_count": 316,
   "id": "e6693fef",
   "metadata": {},
   "outputs": [],
   "source": [
    "size_cloth_column = ['newClothId', 'clothMale', 'clothFemale', 'clothRate', 'clothReviewCnt', 'userHeight', 'userWeight', 'userMale', 'userFemale']\n",
    "size_user_column = ['userId','userMale', 'userFemale', 'userHeight', 'userWeight']\n",
    "favor_ctop_column = ['newClothId', 'smallCategoryHalfshort', 'smallCategoryShirt', 'smallCategoryCollar', 'smallCategoryHoody', 'smallCategorySweatshirt', 'smallCategoryKnit',\n",
    "        'smallCategoryLong', 'smallCategoryShort', 'smallCategoryOthers', 'colorWhite', 'colorGrey', 'colorBlack', 'colorRed', 'colorPink', 'colorOrange', 'colorIvory', 'colorYellow',\n",
    "        'colorGreen', 'colorBlue', 'colorPurple', 'colorBrown', 'colorBeige', 'colorJean', 'colorPattern', 'colorOthers', 'clothPrice', 'clothRate', \n",
    "        'clothReviewCnt', 'fit', 'feeling', 'stretch', 'visibility', 'thickness', 'userMale', 'userFemale', 'month1', 'month2', 'month3', 'month4', 'month5', 'month6', 'month7', 'month8', 'month9', 'month10', 'month11', 'month12']\n",
    "favor_couter_column = ['newClothId', 'smallCategoryHoodie', 'smallCategoryBlouson', 'smallCategoryRiders', 'smallCategoryMustang', 'smallCategoryCardigan', 'smallCategoryFleece',\n",
    "        'smallCategoryCoat', 'smallCategoryPaddedcoat', 'smallCategoryVest', 'smallCategoryJacket', 'smallCategoryOthers', 'colorWhite', 'colorGrey', 'colorBlack', 'colorRed', 'colorPink', 'colorOrange', 'colorIvory', 'colorYellow',\n",
    "        'colorGreen', 'colorBlue', 'colorPurple', 'colorBrown', 'colorBeige', 'colorJean', 'colorPattern', 'colorOthers', 'clothPrice', 'clothRate', \n",
    "        'clothReviewCnt', 'fit', 'feeling', 'stretch', 'visibility', 'thickness', 'month1', 'month2', 'month3', 'month4', 'month5', 'month6', 'month7', 'month8', 'month9', 'month10', 'month11', 'month12']\n",
    "favor_cpants_column = ['newClothId', 'smallCategoryDenimpants', 'smallCategoryCottonpants', 'smallCategorySlacks', 'smallCategoryJoggerpants', 'smallCategoryShortpants', 'smallCategoryLeggings',\n",
    "       'smallCategoryJumpsuit', 'smallCategoryOthers', 'colorWhite', 'colorGrey', 'colorBlack', 'colorRed', 'colorPink', 'colorOrange', 'colorIvory', 'colorYellow',\n",
    "       'colorGreen', 'colorBlue', 'colorPurple', 'colorBrown', 'colorBeige', 'colorJean', 'colorPattern', 'colorOthers', 'clothPrice', 'clothRate', \n",
    "       'clothReviewCnt', 'fit', 'feeling', 'stretch', 'visibility', 'thickness', 'month1', 'month2', 'month3', 'month4', 'month5', 'month6', 'month7', 'month8', 'month9', 'month10', 'month11', 'month12']\n",
    "favor_conepiece_column = ['newClothId', 'smallCategoryMinidress', 'smallCategoryMidi', 'smallCategoryMaxidress', 'colorWhite', 'colorGrey', 'colorBlack', 'colorRed', 'colorPink', 'colorOrange', 'colorIvory', 'colorYellow',\n",
    "       'colorGreen', 'colorBlue', 'colorPurple', 'colorBrown', 'colorBeige', 'colorJean', 'colorPattern', 'colorOthers', 'clothPrice', 'clothRate', \n",
    "       'clothReviewCnt', 'fit', 'feeling', 'stretch', 'visibility', 'thickness', 'month1', 'month2', 'month3', 'month4', 'month5', 'month6', 'month7', 'month8', 'month9', 'month10', 'month11', 'month12']\n",
    "favor_cskirt_column = ['newClothId', 'smallCategoryMiniskirt', 'smallCategoryMidi', 'smallCategoryLongskirt', 'colorWhite', 'colorGrey', 'colorBlack', 'colorRed', 'colorPink', 'colorOrange', 'colorIvory', 'colorYellow',\n",
    "       'colorGreen', 'colorBlue', 'colorPurple', 'colorBrown', 'colorBeige', 'colorJean', 'colorPattern', 'colorOthers', 'clothPrice', 'clothRate', \n",
    "       'clothReviewCnt', 'fit', 'feeling', 'stretch', 'visibility', 'thickness', 'month1', 'month2', 'month3', 'month4', 'month5', 'month6', 'month7', 'month8', 'month9', 'month10', 'month11', 'month12']\n",
    "favor_utop_column = ['userId', 'smallCategoryHalfshort', 'smallCategoryShirt',\n",
    "       'smallCategoryCollar', 'smallCategoryHoody', 'smallCategorySweatshirt', 'smallCategoryKnit', 'smallCategoryLong', 'smallCategoryShort',\n",
    "       'smallCategoryOthers']\n",
    "favor_uouter_column = ['userId', \n",
    "       'smallCategoryHoodie', 'smallCategoryBlouson', 'smallCategoryRiders', 'smallCategoryMustang', 'smallCategoryCardigan', 'smallCategoryFleece',\n",
    "        'smallCategoryCoat', 'smallCategoryPaddedcoat', 'smallCategoryVest', 'smallCategoryJacket', 'smallCategoryOthers']\n",
    "favor_upants_column = ['userId', 'smallCategoryDenimpants', 'smallCategoryCottonpants', 'smallCategorySlacks', 'smallCategoryJoggerpants', 'smallCategoryShortpants', 'smallCategoryLeggings',\n",
    "       'smallCategoryJumpsuit', 'smallCategoryOthers']\n",
    "favor_uonepiece_column = ['userId', 'smallCategoryMinidress', 'smallCategoryMidi', 'smallCategoryMaxidress']\n",
    "favor_uskirt_column = ['userId', 'smallCategoryMiniskirt', 'smallCategoryMidi', 'smallCategoryLongskirt']\n",
    "color_utop_column = ['userId', 'colorWhite', 'colorGrey', 'colorBlack', 'colorRed', 'colorPink', 'colorOrange', 'colorIvory', 'colorYellow',\n",
    "       'colorGreen', 'colorBlue', 'colorPurple', 'colorBrown', 'colorBeige', 'colorJean', 'colorPattern', 'colorOthers']\n",
    "color_uouter_column = ['userId', 'colorWhite', 'colorGrey', 'colorBlack',\n",
    "       'colorRed', 'colorPink', 'colorOrange', 'colorIvory', 'colorYellow', 'colorGreen', 'colorBlue', 'colorPurple', 'colorBrown', 'colorBeige',\n",
    "       'colorJean', 'colorPattern', 'colorOthers']\n",
    "color_upants_column = ['userId', 'colorWhite', 'colorGrey', 'colorBlack', 'colorRed', 'colorPink', 'colorOrange', 'colorIvory', 'colorYellow',\n",
    "       'colorGreen', 'colorBlue', 'colorPurple', 'colorBrown', 'colorBeige', 'colorJean', 'colorPattern', 'colorOthers']\n",
    "color_uonepiece_column = ['userId', 'colorWhite', 'colorGrey', 'colorBlack',\n",
    "       'colorRed', 'colorPink', 'colorOrange', 'colorIvory', 'colorYellow', 'colorGreen', 'colorBlue', 'colorPurple', 'colorBrown', 'colorBeige',\n",
    "       'colorJean', 'colorPattern', 'colorOthers']\n",
    "color_uskirt_column = ['userId', 'colorWhite', 'colorGrey', 'colorBlack',\n",
    "       'colorRed', 'colorPink', 'colorOrange', 'colorIvory', 'colorYellow', 'colorGreen', 'colorBlue', 'colorPurple', 'colorBrown', 'colorBeige',\n",
    "       'colorJean', 'colorPattern', 'colorOthers']\n",
    "style_utop_column = ['userId', 'size', 'bright', 'color', 'thickness']\n",
    "style_uouter_column = ['userId', 'size', 'bright', 'color', 'thickness']\n",
    "style_upants_column = ['userId', 'size', 'bright', 'color', 'thickness']\n",
    "style_uonepiece_column = ['userId', 'size', 'bright', 'color', 'thickness']\n",
    "style_uskirt_column = ['userId', 'size', 'bright', 'color', 'thickness']"
   ]
  },
  {
   "cell_type": "code",
   "execution_count": 453,
   "id": "ce59ad5e",
   "metadata": {},
   "outputs": [],
   "source": [
    "transaction = pd.read_json('./transaction_top.json')\n",
    "cloth_meta = pd.read_json('./final_top.json')\n",
    "user_meta = pd.read_json('./user_top.json')\n",
    "transaction = transaction[['userId', 'newClothId', 'shopCnt']]"
   ]
  },
  {
   "cell_type": "code",
   "execution_count": 454,
   "id": "f6adf863",
   "metadata": {},
   "outputs": [
    {
     "data": {
      "text/plain": [
       "(281090, 3)"
      ]
     },
     "execution_count": 454,
     "metadata": {},
     "output_type": "execute_result"
    }
   ],
   "source": [
    "transaction.shape"
   ]
  },
  {
   "cell_type": "code",
   "execution_count": 455,
   "id": "e3585e0b",
   "metadata": {},
   "outputs": [],
   "source": [
    "unique_id_cloth_meta = list(set(cloth_meta.newClothId))\n",
    "transaction=transaction.loc[transaction.newClothId.isin(unique_id_cloth_meta),:]"
   ]
  },
  {
   "cell_type": "code",
   "execution_count": 456,
   "id": "4ceb9200",
   "metadata": {
    "scrolled": false
   },
   "outputs": [],
   "source": [
    "a = transaction[['newClothId']]\n",
    "a.insert(1, 'idx', 0, True)\n",
    "a = a.drop_duplicates(['newClothId'])\n",
    "a.idx = range(len(a))"
   ]
  },
  {
   "cell_type": "code",
   "execution_count": 457,
   "id": "e88e06f0",
   "metadata": {},
   "outputs": [],
   "source": [
    "transaction = pd.merge(transaction, a, how=\"left\", on=\"newClothId\")"
   ]
  },
  {
   "cell_type": "code",
   "execution_count": 458,
   "id": "6defe4f1",
   "metadata": {
    "scrolled": true
   },
   "outputs": [],
   "source": [
    "user_meta = user_meta[size_user_column]"
   ]
  },
  {
   "cell_type": "code",
   "execution_count": 459,
   "id": "f3ff916a",
   "metadata": {},
   "outputs": [
    {
     "data": {
      "text/html": [
       "<div>\n",
       "<style scoped>\n",
       "    .dataframe tbody tr th:only-of-type {\n",
       "        vertical-align: middle;\n",
       "    }\n",
       "\n",
       "    .dataframe tbody tr th {\n",
       "        vertical-align: top;\n",
       "    }\n",
       "\n",
       "    .dataframe thead th {\n",
       "        text-align: right;\n",
       "    }\n",
       "</style>\n",
       "<table border=\"1\" class=\"dataframe\">\n",
       "  <thead>\n",
       "    <tr style=\"text-align: right;\">\n",
       "      <th></th>\n",
       "      <th>userId</th>\n",
       "      <th>userMale</th>\n",
       "      <th>userFemale</th>\n",
       "      <th>userHeight</th>\n",
       "      <th>userWeight</th>\n",
       "    </tr>\n",
       "  </thead>\n",
       "  <tbody>\n",
       "    <tr>\n",
       "      <th>0</th>\n",
       "      <td>858064</td>\n",
       "      <td>1</td>\n",
       "      <td>0</td>\n",
       "      <td>183</td>\n",
       "      <td>90</td>\n",
       "    </tr>\n",
       "    <tr>\n",
       "      <th>1</th>\n",
       "      <td>858065</td>\n",
       "      <td>0</td>\n",
       "      <td>1</td>\n",
       "      <td>164</td>\n",
       "      <td>57</td>\n",
       "    </tr>\n",
       "    <tr>\n",
       "      <th>2</th>\n",
       "      <td>858067</td>\n",
       "      <td>0</td>\n",
       "      <td>1</td>\n",
       "      <td>172</td>\n",
       "      <td>59</td>\n",
       "    </tr>\n",
       "    <tr>\n",
       "      <th>3</th>\n",
       "      <td>858070</td>\n",
       "      <td>1</td>\n",
       "      <td>0</td>\n",
       "      <td>167</td>\n",
       "      <td>70</td>\n",
       "    </tr>\n",
       "    <tr>\n",
       "      <th>4</th>\n",
       "      <td>858071</td>\n",
       "      <td>1</td>\n",
       "      <td>0</td>\n",
       "      <td>177</td>\n",
       "      <td>68</td>\n",
       "    </tr>\n",
       "    <tr>\n",
       "      <th>...</th>\n",
       "      <td>...</td>\n",
       "      <td>...</td>\n",
       "      <td>...</td>\n",
       "      <td>...</td>\n",
       "      <td>...</td>\n",
       "    </tr>\n",
       "    <tr>\n",
       "      <th>131310</th>\n",
       "      <td>1416935</td>\n",
       "      <td>1</td>\n",
       "      <td>0</td>\n",
       "      <td>183</td>\n",
       "      <td>77</td>\n",
       "    </tr>\n",
       "    <tr>\n",
       "      <th>131311</th>\n",
       "      <td>1416936</td>\n",
       "      <td>1</td>\n",
       "      <td>0</td>\n",
       "      <td>179</td>\n",
       "      <td>78</td>\n",
       "    </tr>\n",
       "    <tr>\n",
       "      <th>131312</th>\n",
       "      <td>1416938</td>\n",
       "      <td>0</td>\n",
       "      <td>1</td>\n",
       "      <td>171</td>\n",
       "      <td>60</td>\n",
       "    </tr>\n",
       "    <tr>\n",
       "      <th>131313</th>\n",
       "      <td>1416946</td>\n",
       "      <td>1</td>\n",
       "      <td>0</td>\n",
       "      <td>175</td>\n",
       "      <td>62</td>\n",
       "    </tr>\n",
       "    <tr>\n",
       "      <th>131314</th>\n",
       "      <td>1416948</td>\n",
       "      <td>1</td>\n",
       "      <td>0</td>\n",
       "      <td>183</td>\n",
       "      <td>77</td>\n",
       "    </tr>\n",
       "  </tbody>\n",
       "</table>\n",
       "<p>131315 rows × 5 columns</p>\n",
       "</div>"
      ],
      "text/plain": [
       "         userId  userMale  userFemale  userHeight  userWeight\n",
       "0        858064         1           0         183          90\n",
       "1        858065         0           1         164          57\n",
       "2        858067         0           1         172          59\n",
       "3        858070         1           0         167          70\n",
       "4        858071         1           0         177          68\n",
       "...         ...       ...         ...         ...         ...\n",
       "131310  1416935         1           0         183          77\n",
       "131311  1416936         1           0         179          78\n",
       "131312  1416938         0           1         171          60\n",
       "131313  1416946         1           0         175          62\n",
       "131314  1416948         1           0         183          77\n",
       "\n",
       "[131315 rows x 5 columns]"
      ]
     },
     "execution_count": 459,
     "metadata": {},
     "output_type": "execute_result"
    }
   ],
   "source": [
    "unique_id_user_meta = list(set(transaction.userId))\n",
    "user_meta=user_meta.loc[user_meta.userId.isin(unique_id_user_meta),:]\n",
    "user_meta = user_meta.reset_index(drop=True)\n",
    "user_meta"
   ]
  },
  {
   "cell_type": "code",
   "execution_count": 460,
   "id": "572e35e1",
   "metadata": {
    "scrolled": true
   },
   "outputs": [
    {
     "data": {
      "text/html": [
       "<div>\n",
       "<style scoped>\n",
       "    .dataframe tbody tr th:only-of-type {\n",
       "        vertical-align: middle;\n",
       "    }\n",
       "\n",
       "    .dataframe tbody tr th {\n",
       "        vertical-align: top;\n",
       "    }\n",
       "\n",
       "    .dataframe thead th {\n",
       "        text-align: right;\n",
       "    }\n",
       "</style>\n",
       "<table border=\"1\" class=\"dataframe\">\n",
       "  <thead>\n",
       "    <tr style=\"text-align: right;\">\n",
       "      <th></th>\n",
       "      <th>userId</th>\n",
       "      <th>userMale</th>\n",
       "      <th>userFemale</th>\n",
       "      <th>userHeight</th>\n",
       "      <th>userWeight</th>\n",
       "    </tr>\n",
       "  </thead>\n",
       "  <tbody>\n",
       "    <tr>\n",
       "      <th>0</th>\n",
       "      <td>8299</td>\n",
       "      <td>0</td>\n",
       "      <td>1</td>\n",
       "      <td>180</td>\n",
       "      <td>65</td>\n",
       "    </tr>\n",
       "  </tbody>\n",
       "</table>\n",
       "</div>"
      ],
      "text/plain": [
       "   userId  userMale  userFemale  userHeight  userWeight\n",
       "0    8299         0           1         180          65"
      ]
     },
     "execution_count": 460,
     "metadata": {},
     "output_type": "execute_result"
    }
   ],
   "source": [
    "new_user = pd.DataFrame(user_meta.loc[0]).transpose()\n",
    "new_user_idx = new_user.index\n",
    "new_user.loc[new_user_idx, ('userId')] = 8299\n",
    "new_user.loc[new_user_idx, ('userMale')] = 0\n",
    "new_user.loc[new_user_idx, ('userFemale')] = 1\n",
    "new_user.loc[new_user_idx, ('userHeight')] = 180\n",
    "new_user.loc[new_user_idx, ('userWeight')] = 65\n",
    "new_user = new_user[['userId', 'userMale', 'userFemale', 'userHeight', 'userWeight']]\n",
    "new_user"
   ]
  },
  {
   "cell_type": "code",
   "execution_count": 461,
   "id": "1505e869",
   "metadata": {
    "scrolled": false
   },
   "outputs": [],
   "source": [
    "sub_user = user_meta[user_meta.userFemale==new_user.userFemale.iloc[0]]"
   ]
  },
  {
   "cell_type": "code",
   "execution_count": 462,
   "id": "d0b48368",
   "metadata": {
    "scrolled": false
   },
   "outputs": [
    {
     "name": "stderr",
     "output_type": "stream",
     "text": [
      "C:\\Users\\SSAFY\\AppData\\Local\\Programs\\Python\\Python39\\lib\\site-packages\\pandas\\core\\generic.py:5516: SettingWithCopyWarning: \n",
      "A value is trying to be set on a copy of a slice from a DataFrame.\n",
      "Try using .loc[row_indexer,col_indexer] = value instead\n",
      "\n",
      "See the caveats in the documentation: https://pandas.pydata.org/pandas-docs/stable/user_guide/indexing.html#returning-a-view-versus-a-copy\n",
      "  self[name] = value\n"
     ]
    }
   ],
   "source": [
    "sub_user.userHeight = sub_user.apply(lambda x: abs(x.userHeight-new_user.userHeight.iloc[0]), axis=1)\n",
    "sub_user.userWeight = sub_user.apply(lambda x: abs(x.userWeight-new_user.userWeight.iloc[0]), axis=1)"
   ]
  },
  {
   "cell_type": "code",
   "execution_count": 463,
   "id": "9e89374b",
   "metadata": {},
   "outputs": [
    {
     "data": {
      "text/html": [
       "<div>\n",
       "<style scoped>\n",
       "    .dataframe tbody tr th:only-of-type {\n",
       "        vertical-align: middle;\n",
       "    }\n",
       "\n",
       "    .dataframe tbody tr th {\n",
       "        vertical-align: top;\n",
       "    }\n",
       "\n",
       "    .dataframe thead th {\n",
       "        text-align: right;\n",
       "    }\n",
       "</style>\n",
       "<table border=\"1\" class=\"dataframe\">\n",
       "  <thead>\n",
       "    <tr style=\"text-align: right;\">\n",
       "      <th></th>\n",
       "      <th>userId</th>\n",
       "      <th>userMale</th>\n",
       "      <th>userFemale</th>\n",
       "      <th>sizeSum</th>\n",
       "      <th>userHeight</th>\n",
       "      <th>userWeight</th>\n",
       "    </tr>\n",
       "  </thead>\n",
       "  <tbody>\n",
       "    <tr>\n",
       "      <th>1</th>\n",
       "      <td>858065</td>\n",
       "      <td>0</td>\n",
       "      <td>1</td>\n",
       "      <td>24</td>\n",
       "      <td>16</td>\n",
       "      <td>8</td>\n",
       "    </tr>\n",
       "    <tr>\n",
       "      <th>2</th>\n",
       "      <td>858067</td>\n",
       "      <td>0</td>\n",
       "      <td>1</td>\n",
       "      <td>14</td>\n",
       "      <td>8</td>\n",
       "      <td>6</td>\n",
       "    </tr>\n",
       "    <tr>\n",
       "      <th>6</th>\n",
       "      <td>858074</td>\n",
       "      <td>0</td>\n",
       "      <td>1</td>\n",
       "      <td>42</td>\n",
       "      <td>24</td>\n",
       "      <td>18</td>\n",
       "    </tr>\n",
       "    <tr>\n",
       "      <th>8</th>\n",
       "      <td>858081</td>\n",
       "      <td>0</td>\n",
       "      <td>1</td>\n",
       "      <td>32</td>\n",
       "      <td>18</td>\n",
       "      <td>14</td>\n",
       "    </tr>\n",
       "    <tr>\n",
       "      <th>10</th>\n",
       "      <td>858087</td>\n",
       "      <td>0</td>\n",
       "      <td>1</td>\n",
       "      <td>26</td>\n",
       "      <td>17</td>\n",
       "      <td>9</td>\n",
       "    </tr>\n",
       "    <tr>\n",
       "      <th>...</th>\n",
       "      <td>...</td>\n",
       "      <td>...</td>\n",
       "      <td>...</td>\n",
       "      <td>...</td>\n",
       "      <td>...</td>\n",
       "      <td>...</td>\n",
       "    </tr>\n",
       "    <tr>\n",
       "      <th>131302</th>\n",
       "      <td>1416900</td>\n",
       "      <td>0</td>\n",
       "      <td>1</td>\n",
       "      <td>24</td>\n",
       "      <td>11</td>\n",
       "      <td>13</td>\n",
       "    </tr>\n",
       "    <tr>\n",
       "      <th>131303</th>\n",
       "      <td>1416901</td>\n",
       "      <td>0</td>\n",
       "      <td>1</td>\n",
       "      <td>26</td>\n",
       "      <td>12</td>\n",
       "      <td>14</td>\n",
       "    </tr>\n",
       "    <tr>\n",
       "      <th>131305</th>\n",
       "      <td>1416919</td>\n",
       "      <td>0</td>\n",
       "      <td>1</td>\n",
       "      <td>37</td>\n",
       "      <td>22</td>\n",
       "      <td>15</td>\n",
       "    </tr>\n",
       "    <tr>\n",
       "      <th>131308</th>\n",
       "      <td>1416929</td>\n",
       "      <td>0</td>\n",
       "      <td>1</td>\n",
       "      <td>22</td>\n",
       "      <td>12</td>\n",
       "      <td>10</td>\n",
       "    </tr>\n",
       "    <tr>\n",
       "      <th>131312</th>\n",
       "      <td>1416938</td>\n",
       "      <td>0</td>\n",
       "      <td>1</td>\n",
       "      <td>14</td>\n",
       "      <td>9</td>\n",
       "      <td>5</td>\n",
       "    </tr>\n",
       "  </tbody>\n",
       "</table>\n",
       "<p>37878 rows × 6 columns</p>\n",
       "</div>"
      ],
      "text/plain": [
       "         userId  userMale  userFemale  sizeSum  userHeight  userWeight\n",
       "1        858065         0           1       24          16           8\n",
       "2        858067         0           1       14           8           6\n",
       "6        858074         0           1       42          24          18\n",
       "8        858081         0           1       32          18          14\n",
       "10       858087         0           1       26          17           9\n",
       "...         ...       ...         ...      ...         ...         ...\n",
       "131302  1416900         0           1       24          11          13\n",
       "131303  1416901         0           1       26          12          14\n",
       "131305  1416919         0           1       37          22          15\n",
       "131308  1416929         0           1       22          12          10\n",
       "131312  1416938         0           1       14           9           5\n",
       "\n",
       "[37878 rows x 6 columns]"
      ]
     },
     "execution_count": 463,
     "metadata": {},
     "output_type": "execute_result"
    }
   ],
   "source": [
    "sub_user.insert(3, 'sizeSum', 0, True)\n",
    "sub_user.sizeSum = sub_user.userHeight + sub_user.userWeight\n",
    "sub_user"
   ]
  },
  {
   "cell_type": "code",
   "execution_count": 464,
   "id": "e4c76a4e",
   "metadata": {},
   "outputs": [
    {
     "name": "stdout",
     "output_type": "stream",
     "text": [
      "[1281758, 968344, 1110912]\n"
     ]
    }
   ],
   "source": [
    "real_user = []\n",
    "for i in range(3):\n",
    "    real_user.append(sub_user.sort_values('sizeSum').iloc[i].userId)\n",
    "real_user = [int(i) for i in real_user]\n",
    "print(real_user)"
   ]
  },
  {
   "cell_type": "code",
   "execution_count": 465,
   "id": "bd38d208",
   "metadata": {},
   "outputs": [
    {
     "data": {
      "text/html": [
       "<div>\n",
       "<style scoped>\n",
       "    .dataframe tbody tr th:only-of-type {\n",
       "        vertical-align: middle;\n",
       "    }\n",
       "\n",
       "    .dataframe tbody tr th {\n",
       "        vertical-align: top;\n",
       "    }\n",
       "\n",
       "    .dataframe thead th {\n",
       "        text-align: right;\n",
       "    }\n",
       "</style>\n",
       "<table border=\"1\" class=\"dataframe\">\n",
       "  <thead>\n",
       "    <tr style=\"text-align: right;\">\n",
       "      <th></th>\n",
       "      <th>userId</th>\n",
       "      <th>userMale</th>\n",
       "      <th>userFemale</th>\n",
       "      <th>sizeSum</th>\n",
       "      <th>userHeight</th>\n",
       "      <th>userWeight</th>\n",
       "    </tr>\n",
       "  </thead>\n",
       "  <tbody>\n",
       "    <tr>\n",
       "      <th>1</th>\n",
       "      <td>858065</td>\n",
       "      <td>0</td>\n",
       "      <td>1</td>\n",
       "      <td>24</td>\n",
       "      <td>16</td>\n",
       "      <td>8</td>\n",
       "    </tr>\n",
       "    <tr>\n",
       "      <th>2</th>\n",
       "      <td>858067</td>\n",
       "      <td>0</td>\n",
       "      <td>1</td>\n",
       "      <td>14</td>\n",
       "      <td>8</td>\n",
       "      <td>6</td>\n",
       "    </tr>\n",
       "    <tr>\n",
       "      <th>6</th>\n",
       "      <td>858074</td>\n",
       "      <td>0</td>\n",
       "      <td>1</td>\n",
       "      <td>42</td>\n",
       "      <td>24</td>\n",
       "      <td>18</td>\n",
       "    </tr>\n",
       "    <tr>\n",
       "      <th>8</th>\n",
       "      <td>858081</td>\n",
       "      <td>0</td>\n",
       "      <td>1</td>\n",
       "      <td>32</td>\n",
       "      <td>18</td>\n",
       "      <td>14</td>\n",
       "    </tr>\n",
       "    <tr>\n",
       "      <th>10</th>\n",
       "      <td>858087</td>\n",
       "      <td>0</td>\n",
       "      <td>1</td>\n",
       "      <td>26</td>\n",
       "      <td>17</td>\n",
       "      <td>9</td>\n",
       "    </tr>\n",
       "    <tr>\n",
       "      <th>...</th>\n",
       "      <td>...</td>\n",
       "      <td>...</td>\n",
       "      <td>...</td>\n",
       "      <td>...</td>\n",
       "      <td>...</td>\n",
       "      <td>...</td>\n",
       "    </tr>\n",
       "    <tr>\n",
       "      <th>131302</th>\n",
       "      <td>1416900</td>\n",
       "      <td>0</td>\n",
       "      <td>1</td>\n",
       "      <td>24</td>\n",
       "      <td>11</td>\n",
       "      <td>13</td>\n",
       "    </tr>\n",
       "    <tr>\n",
       "      <th>131303</th>\n",
       "      <td>1416901</td>\n",
       "      <td>0</td>\n",
       "      <td>1</td>\n",
       "      <td>26</td>\n",
       "      <td>12</td>\n",
       "      <td>14</td>\n",
       "    </tr>\n",
       "    <tr>\n",
       "      <th>131305</th>\n",
       "      <td>1416919</td>\n",
       "      <td>0</td>\n",
       "      <td>1</td>\n",
       "      <td>37</td>\n",
       "      <td>22</td>\n",
       "      <td>15</td>\n",
       "    </tr>\n",
       "    <tr>\n",
       "      <th>131308</th>\n",
       "      <td>1416929</td>\n",
       "      <td>0</td>\n",
       "      <td>1</td>\n",
       "      <td>22</td>\n",
       "      <td>12</td>\n",
       "      <td>10</td>\n",
       "    </tr>\n",
       "    <tr>\n",
       "      <th>131312</th>\n",
       "      <td>1416938</td>\n",
       "      <td>0</td>\n",
       "      <td>1</td>\n",
       "      <td>14</td>\n",
       "      <td>9</td>\n",
       "      <td>5</td>\n",
       "    </tr>\n",
       "  </tbody>\n",
       "</table>\n",
       "<p>37878 rows × 6 columns</p>\n",
       "</div>"
      ],
      "text/plain": [
       "         userId  userMale  userFemale  sizeSum  userHeight  userWeight\n",
       "1        858065         0           1       24          16           8\n",
       "2        858067         0           1       14           8           6\n",
       "6        858074         0           1       42          24          18\n",
       "8        858081         0           1       32          18          14\n",
       "10       858087         0           1       26          17           9\n",
       "...         ...       ...         ...      ...         ...         ...\n",
       "131302  1416900         0           1       24          11          13\n",
       "131303  1416901         0           1       26          12          14\n",
       "131305  1416919         0           1       37          22          15\n",
       "131308  1416929         0           1       22          12          10\n",
       "131312  1416938         0           1       14           9           5\n",
       "\n",
       "[37878 rows x 6 columns]"
      ]
     },
     "execution_count": 465,
     "metadata": {},
     "output_type": "execute_result"
    }
   ],
   "source": [
    "sub_user"
   ]
  },
  {
   "cell_type": "code",
   "execution_count": 466,
   "id": "f6618cdf",
   "metadata": {},
   "outputs": [],
   "source": [
    "cloth_meta = cloth_meta[size_cloth_column]"
   ]
  },
  {
   "cell_type": "code",
   "execution_count": 467,
   "id": "d69a64dc",
   "metadata": {},
   "outputs": [],
   "source": [
    "cloth_meta = pd.merge(cloth_meta, a, how=\"left\", on=\"newClothId\")"
   ]
  },
  {
   "cell_type": "code",
   "execution_count": 468,
   "id": "9b2d9504",
   "metadata": {},
   "outputs": [
    {
     "data": {
      "text/plain": [
       "59819"
      ]
     },
     "execution_count": 468,
     "metadata": {},
     "output_type": "execute_result"
    }
   ],
   "source": [
    "unique_cloth_id = list(transaction['newClothId'].unique())\n",
    "len(unique_cloth_id)"
   ]
  },
  {
   "cell_type": "code",
   "execution_count": 469,
   "id": "b27b96b0",
   "metadata": {},
   "outputs": [],
   "source": [
    "a = cloth_meta.newClothId.isin(unique_cloth_id)\n",
    "cloth_meta = cloth_meta[a]\n",
    "cloth_meta.index = range(len(cloth_meta))"
   ]
  },
  {
   "cell_type": "code",
   "execution_count": 470,
   "id": "677ead7b",
   "metadata": {
    "scrolled": false
   },
   "outputs": [],
   "source": [
    "cloth_meta.idx = cloth_meta.idx.astype('int')"
   ]
  },
  {
   "cell_type": "code",
   "execution_count": 471,
   "id": "44d2f2e1",
   "metadata": {},
   "outputs": [],
   "source": [
    "transaction_source = [(transaction['userId'][i], transaction['idx'][i]) for i in range(transaction.shape[0])]"
   ]
  },
  {
   "cell_type": "code",
   "execution_count": 472,
   "id": "d80af2d3",
   "metadata": {},
   "outputs": [
    {
     "name": "stdout",
     "output_type": "stream",
     "text": [
      "userId의 유니크 개수 : 131315\n",
      "clothId의 유니크 개수 : 59819\n",
      "user테이블의 userId의 유니크 개수 : 131315\n",
      "cloth테이블의 clothId의 유니크 개수 : 59819\n"
     ]
    }
   ],
   "source": [
    "print('userId의 유니크 개수 :', len(transaction.userId.unique()))\n",
    "print('clothId의 유니크 개수 :', len(transaction.idx.unique()))\n",
    "print('user테이블의 userId의 유니크 개수 :', len(user_meta.userId.unique()))\n",
    "print('cloth테이블의 clothId의 유니크 개수 :', len(cloth_meta.idx.unique()))"
   ]
  },
  {
   "cell_type": "code",
   "execution_count": 339,
   "id": "ee472fe0",
   "metadata": {},
   "outputs": [],
   "source": [
    "user_features_source = [(user_meta['userId'][i],\n",
    "                        [user_meta['userMale'][i], user_meta['userFemale'][i], user_meta['userHeight'][i],\n",
    "                        user_meta['userWeight'][i]]) for i in range(user_meta.shape[0])]"
   ]
  },
  {
   "cell_type": "code",
   "execution_count": 340,
   "id": "5a7dd0b2",
   "metadata": {},
   "outputs": [],
   "source": [
    "cloth_features_source = [(cloth_meta['idx'][i],\n",
    "                        [cloth_meta['clothMale'][i], cloth_meta['clothFemale'][i],\n",
    "                         cloth_meta['userHeight'][i], cloth_meta['userWeight'][i] ]) for i in range(cloth_meta.shape[0])]"
   ]
  },
  {
   "cell_type": "code",
   "execution_count": 341,
   "id": "106bbb80",
   "metadata": {},
   "outputs": [],
   "source": [
    "dataset = Dataset()\n",
    "dataset.fit(users=transaction['userId'].unique(),\n",
    "           items=transaction['idx'].unique(),\n",
    "           user_features=user_meta[user_meta.columns[1:]].values.flatten(),\n",
    "           item_features=cloth_meta[cloth_meta.columns[1:]].values.flatten())"
   ]
  },
  {
   "cell_type": "code",
   "execution_count": 342,
   "id": "11a42356",
   "metadata": {},
   "outputs": [],
   "source": [
    "interactions, weights = dataset.build_interactions(transaction_source)"
   ]
  },
  {
   "cell_type": "code",
   "execution_count": 343,
   "id": "908b3a37",
   "metadata": {},
   "outputs": [],
   "source": [
    "user_features = dataset.build_user_features(user_features_source)"
   ]
  },
  {
   "cell_type": "code",
   "execution_count": 29,
   "id": "7d580846",
   "metadata": {
    "scrolled": true
   },
   "outputs": [],
   "source": [
    "cloth_features = dataset.build_item_features(cloth_features_source)"
   ]
  },
  {
   "cell_type": "code",
   "execution_count": 30,
   "id": "df956cdc",
   "metadata": {},
   "outputs": [],
   "source": [
    "train, test = random_train_test_split(interactions, test_percentage=0.2)\n",
    "train, test = train.tocsr().tocoo(), test.tocsr().tocoo()\n",
    "train_weights = train.multiply(weights).tocoo()\n",
    "test_weights = test.multiply(weights).tocoo()"
   ]
  },
  {
   "cell_type": "code",
   "execution_count": 31,
   "id": "03c32a76",
   "metadata": {},
   "outputs": [],
   "source": [
    "# no_components: 10\n",
    "# learning_rate : 0.05\n",
    "trials = Trials()\n",
    "space = [hp.choice('no_components', range(10, 21, 5)),\n",
    "         hp.uniform('learning_rate', 0.05, 0.1)]"
   ]
  },
  {
   "cell_type": "code",
   "execution_count": 85,
   "id": "c147633f",
   "metadata": {},
   "outputs": [],
   "source": [
    "# Define Objective Function\n",
    "def objective(params):\n",
    "    no_components, learning_rate = params\n",
    "    model = LightFM(no_components=no_components,\n",
    "                    learning_schedule='adagrad',\n",
    "                    loss='warp',\n",
    "                    learning_rate=learning_rate,\n",
    "                    random_state=0)\n",
    "\n",
    "    model.fit(interactions=train,\n",
    "              item_features=cloth_features,\n",
    "              user_features=user_features,\n",
    "              sample_weight=train_weights,\n",
    "              epochs=3,\n",
    "              verbose=False)\n",
    "\n",
    "    test_precision = precision_at_k(model, test, k=5, item_features=cloth_features, user_features=user_features).mean()\n",
    "    print(\"no_comp: {}, lrn_rate: {:.5f}, precision: {:.5f}\".format(\n",
    "      no_components, learning_rate, test_precision))\n",
    "    # test_auc = auc_score(model, test, item_features=item_features).mean()\n",
    "    output = -test_precision\n",
    "\n",
    "    if np.abs(output+1) < 0.01 or output < -1.0:\n",
    "        output = 0.0\n",
    "\n",
    "    return output"
   ]
  },
  {
   "cell_type": "code",
   "execution_count": null,
   "id": "9b889fec",
   "metadata": {},
   "outputs": [
    {
     "name": "stdout",
     "output_type": "stream",
     "text": [
      "\r",
      "  0%|          | 0/10 [00:00<?, ?trial/s, best loss=?]"
     ]
    }
   ],
   "source": [
    "best_params = fmin(fn=objective, space=space, algo=tpe.suggest, max_evals=10, trials=trials)"
   ]
  },
  {
   "cell_type": "code",
   "execution_count": 31,
   "id": "eeeed595",
   "metadata": {
    "scrolled": true
   },
   "outputs": [
    {
     "name": "stdout",
     "output_type": "stream",
     "text": [
      "0.05 2\n"
     ]
    }
   ],
   "source": [
    "learning_rate = round(best_params['learning_rate'], 3)\n",
    "no_components = best_params['no_components']\n",
    "print(learning_rate, no_components)"
   ]
  },
  {
   "cell_type": "code",
   "execution_count": 31,
   "id": "de02ac4d",
   "metadata": {},
   "outputs": [],
   "source": [
    "learning_rate = 0.03\n",
    "no_components = 3"
   ]
  },
  {
   "cell_type": "code",
   "execution_count": 79,
   "id": "22d5c726",
   "metadata": {},
   "outputs": [
    {
     "name": "stderr",
     "output_type": "stream",
     "text": [
      "Epoch: 100%|██████████| 10/10 [00:09<00:00,  1.01it/s]\n"
     ]
    },
    {
     "data": {
      "text/plain": [
       "<lightfm.lightfm.LightFM at 0x1d8bb8d71c0>"
      ]
     },
     "execution_count": 79,
     "metadata": {},
     "output_type": "execute_result"
    }
   ],
   "source": [
    "model = LightFM(no_components=no_components,\n",
    "                learning_schedule='adagrad',\n",
    "                loss='warp',\n",
    "                learning_rate=learning_rate,\n",
    "                random_state=0)\n",
    "\n",
    "model.fit(interactions=interactions,\n",
    "          item_features=cloth_features,\n",
    "          user_features=user_features,\n",
    "          sample_weight=weights,\n",
    "          epochs=10,\n",
    "          verbose=True)"
   ]
  },
  {
   "cell_type": "code",
   "execution_count": 80,
   "id": "b280b0eb",
   "metadata": {},
   "outputs": [],
   "source": [
    "# 모델 저장하기\n",
    "import pickle\n",
    "with open('model_size_top.pickle', 'wb') as fw:\n",
    "    pickle.dump(model, fw)"
   ]
  },
  {
   "cell_type": "code",
   "execution_count": 65,
   "id": "4583e5a9",
   "metadata": {},
   "outputs": [],
   "source": [
    "# 모델 불러오기\n",
    "import pickle\n",
    "with open('model_size_top.pickle', 'rb') as f:\n",
    "    model_top = pickle.load(f)"
   ]
  },
  {
   "cell_type": "code",
   "execution_count": 82,
   "id": "f4905096",
   "metadata": {},
   "outputs": [],
   "source": [
    "def sample_recommendation(model, idx, user_ids):\n",
    "    cnt = 1\n",
    "    for user_id in user_ids:\n",
    "        if cnt==1:\n",
    "            scores = model.predict(int(user_meta[user_meta.userId==user_id].index[0]), np.arange(len(cloth_meta)))\n",
    "        else:\n",
    "            scores += model.predict(int(user_meta[user_meta.userId==user_id].index[0]), np.arange(len(cloth_meta)))\n",
    "    \n",
    "    top_items = idx[np.argsort(-scores)]\n",
    "    \n",
    "    sub_clothes = []\n",
    "\n",
    "    for x in top_items[:10]:\n",
    "        sub_clothes.append(x)\n",
    "    \n",
    "    rec_clothes = []\n",
    "    \n",
    "    for i in sub_clothes:\n",
    "        rec_clothes.append(cloth_meta[cloth_meta.idx==i].newClothId.iloc[0])\n",
    "    \n",
    "    return rec_clothes"
   ]
  },
  {
   "cell_type": "code",
   "execution_count": 83,
   "id": "7f8e4079",
   "metadata": {
    "scrolled": false
   },
   "outputs": [
    {
     "data": {
      "text/plain": [
       "[1440587133960,\n",
       " 2139133140300,\n",
       " 2155926132332,\n",
       " 1572660131416,\n",
       " 1804099134922,\n",
       " 2139133140305,\n",
       " 1572660131415,\n",
       " 1282892131862,\n",
       " 1938231133669,\n",
       " 2139133140268]"
      ]
     },
     "execution_count": 83,
     "metadata": {},
     "output_type": "execute_result"
    }
   ],
   "source": [
    "rec_size_top = sample_recommendation(model_top, cloth_meta.idx, real_user)\n",
    "rec_size_top"
   ]
  },
  {
   "cell_type": "code",
   "execution_count": 60,
   "id": "cb0ebabb",
   "metadata": {},
   "outputs": [
    {
     "data": {
      "text/plain": [
       "[1281758, 968344, 1110912]"
      ]
     },
     "execution_count": 60,
     "metadata": {},
     "output_type": "execute_result"
    }
   ],
   "source": [
    "real_user"
   ]
  },
  {
   "cell_type": "code",
   "execution_count": 32,
   "id": "98c4dc9a",
   "metadata": {},
   "outputs": [],
   "source": [
    "cloth_meta.insert(10, 'what', 1, True)\n",
    "user_meta.insert(5, 'what', 1, True)"
   ]
  },
  {
   "cell_type": "code",
   "execution_count": 33,
   "id": "f763579d",
   "metadata": {
    "scrolled": false
   },
   "outputs": [
    {
     "data": {
      "text/html": [
       "<div>\n",
       "<style scoped>\n",
       "    .dataframe tbody tr th:only-of-type {\n",
       "        vertical-align: middle;\n",
       "    }\n",
       "\n",
       "    .dataframe tbody tr th {\n",
       "        vertical-align: top;\n",
       "    }\n",
       "\n",
       "    .dataframe thead th {\n",
       "        text-align: right;\n",
       "    }\n",
       "</style>\n",
       "<table border=\"1\" class=\"dataframe\">\n",
       "  <thead>\n",
       "    <tr style=\"text-align: right;\">\n",
       "      <th></th>\n",
       "      <th>newClothId</th>\n",
       "      <th>idx</th>\n",
       "      <th>what</th>\n",
       "    </tr>\n",
       "  </thead>\n",
       "  <tbody>\n",
       "    <tr>\n",
       "      <th>0</th>\n",
       "      <td>1440513131686</td>\n",
       "      <td>50031</td>\n",
       "      <td>1</td>\n",
       "    </tr>\n",
       "    <tr>\n",
       "      <th>1</th>\n",
       "      <td>1930909131765</td>\n",
       "      <td>7019</td>\n",
       "      <td>1</td>\n",
       "    </tr>\n",
       "    <tr>\n",
       "      <th>2</th>\n",
       "      <td>1930909131764</td>\n",
       "      <td>7840</td>\n",
       "      <td>1</td>\n",
       "    </tr>\n",
       "    <tr>\n",
       "      <th>3</th>\n",
       "      <td>1930909131766</td>\n",
       "      <td>7374</td>\n",
       "      <td>1</td>\n",
       "    </tr>\n",
       "    <tr>\n",
       "      <th>4</th>\n",
       "      <td>1931411131771</td>\n",
       "      <td>9496</td>\n",
       "      <td>1</td>\n",
       "    </tr>\n",
       "    <tr>\n",
       "      <th>...</th>\n",
       "      <td>...</td>\n",
       "      <td>...</td>\n",
       "      <td>...</td>\n",
       "    </tr>\n",
       "    <tr>\n",
       "      <th>59814</th>\n",
       "      <td>1281638267701</td>\n",
       "      <td>31274</td>\n",
       "      <td>1</td>\n",
       "    </tr>\n",
       "    <tr>\n",
       "      <th>59815</th>\n",
       "      <td>1622670267773</td>\n",
       "      <td>9458</td>\n",
       "      <td>1</td>\n",
       "    </tr>\n",
       "    <tr>\n",
       "      <th>59816</th>\n",
       "      <td>1556851267795</td>\n",
       "      <td>47549</td>\n",
       "      <td>1</td>\n",
       "    </tr>\n",
       "    <tr>\n",
       "      <th>59817</th>\n",
       "      <td>1651849267836</td>\n",
       "      <td>3995</td>\n",
       "      <td>1</td>\n",
       "    </tr>\n",
       "    <tr>\n",
       "      <th>59818</th>\n",
       "      <td>1680855267859</td>\n",
       "      <td>19742</td>\n",
       "      <td>1</td>\n",
       "    </tr>\n",
       "  </tbody>\n",
       "</table>\n",
       "<p>59819 rows × 3 columns</p>\n",
       "</div>"
      ],
      "text/plain": [
       "          newClothId    idx  what\n",
       "0      1440513131686  50031     1\n",
       "1      1930909131765   7019     1\n",
       "2      1930909131764   7840     1\n",
       "3      1930909131766   7374     1\n",
       "4      1931411131771   9496     1\n",
       "...              ...    ...   ...\n",
       "59814  1281638267701  31274     1\n",
       "59815  1622670267773   9458     1\n",
       "59816  1556851267795  47549     1\n",
       "59817  1651849267836   3995     1\n",
       "59818  1680855267859  19742     1\n",
       "\n",
       "[59819 rows x 3 columns]"
      ]
     },
     "execution_count": 33,
     "metadata": {},
     "output_type": "execute_result"
    }
   ],
   "source": [
    "cloth_meta = cloth_meta[[\"newClothId\", \"idx\", 'what']]\n",
    "cloth_meta"
   ]
  },
  {
   "cell_type": "code",
   "execution_count": 476,
   "id": "16f1dc96",
   "metadata": {},
   "outputs": [],
   "source": [
    "cloth_meta.to_json('size_top_cloth_meta.json', orient='records', force_ascii=False)\n",
    "user_meta.to_json('size_top_user_meta.json', orient='records', force_ascii=False)"
   ]
  },
  {
   "cell_type": "code",
   "execution_count": 473,
   "id": "3511e65d",
   "metadata": {},
   "outputs": [],
   "source": [
    "# user_meta.insert(0, 'how', 1, True)\n",
    "user_meta.insert(0, 'what', 1, True)"
   ]
  },
  {
   "cell_type": "code",
   "execution_count": 474,
   "id": "3edd8f1c",
   "metadata": {},
   "outputs": [],
   "source": [
    "user_meta = user_meta.drop(['userMale', 'userFemale', 'userHeight', 'userWeight'], axis=1)"
   ]
  },
  {
   "cell_type": "code",
   "execution_count": 475,
   "id": "4554c0d8",
   "metadata": {
    "scrolled": false
   },
   "outputs": [
    {
     "data": {
      "text/html": [
       "<div>\n",
       "<style scoped>\n",
       "    .dataframe tbody tr th:only-of-type {\n",
       "        vertical-align: middle;\n",
       "    }\n",
       "\n",
       "    .dataframe tbody tr th {\n",
       "        vertical-align: top;\n",
       "    }\n",
       "\n",
       "    .dataframe thead th {\n",
       "        text-align: right;\n",
       "    }\n",
       "</style>\n",
       "<table border=\"1\" class=\"dataframe\">\n",
       "  <thead>\n",
       "    <tr style=\"text-align: right;\">\n",
       "      <th></th>\n",
       "      <th>what</th>\n",
       "      <th>userId</th>\n",
       "    </tr>\n",
       "  </thead>\n",
       "  <tbody>\n",
       "    <tr>\n",
       "      <th>0</th>\n",
       "      <td>1</td>\n",
       "      <td>858064</td>\n",
       "    </tr>\n",
       "    <tr>\n",
       "      <th>1</th>\n",
       "      <td>1</td>\n",
       "      <td>858065</td>\n",
       "    </tr>\n",
       "    <tr>\n",
       "      <th>2</th>\n",
       "      <td>1</td>\n",
       "      <td>858067</td>\n",
       "    </tr>\n",
       "    <tr>\n",
       "      <th>3</th>\n",
       "      <td>1</td>\n",
       "      <td>858070</td>\n",
       "    </tr>\n",
       "    <tr>\n",
       "      <th>4</th>\n",
       "      <td>1</td>\n",
       "      <td>858071</td>\n",
       "    </tr>\n",
       "    <tr>\n",
       "      <th>...</th>\n",
       "      <td>...</td>\n",
       "      <td>...</td>\n",
       "    </tr>\n",
       "    <tr>\n",
       "      <th>131310</th>\n",
       "      <td>1</td>\n",
       "      <td>1416935</td>\n",
       "    </tr>\n",
       "    <tr>\n",
       "      <th>131311</th>\n",
       "      <td>1</td>\n",
       "      <td>1416936</td>\n",
       "    </tr>\n",
       "    <tr>\n",
       "      <th>131312</th>\n",
       "      <td>1</td>\n",
       "      <td>1416938</td>\n",
       "    </tr>\n",
       "    <tr>\n",
       "      <th>131313</th>\n",
       "      <td>1</td>\n",
       "      <td>1416946</td>\n",
       "    </tr>\n",
       "    <tr>\n",
       "      <th>131314</th>\n",
       "      <td>1</td>\n",
       "      <td>1416948</td>\n",
       "    </tr>\n",
       "  </tbody>\n",
       "</table>\n",
       "<p>131315 rows × 2 columns</p>\n",
       "</div>"
      ],
      "text/plain": [
       "        what   userId\n",
       "0          1   858064\n",
       "1          1   858065\n",
       "2          1   858067\n",
       "3          1   858070\n",
       "4          1   858071\n",
       "...      ...      ...\n",
       "131310     1  1416935\n",
       "131311     1  1416936\n",
       "131312     1  1416938\n",
       "131313     1  1416946\n",
       "131314     1  1416948\n",
       "\n",
       "[131315 rows x 2 columns]"
      ]
     },
     "execution_count": 475,
     "metadata": {},
     "output_type": "execute_result"
    }
   ],
   "source": [
    "user_meta"
   ]
  },
  {
   "cell_type": "code",
   "execution_count": null,
   "id": "932b67a5",
   "metadata": {},
   "outputs": [],
   "source": []
  },
  {
   "cell_type": "code",
   "execution_count": null,
   "id": "a3ad1d65",
   "metadata": {},
   "outputs": [],
   "source": []
  },
  {
   "cell_type": "markdown",
   "id": "93bc7d72",
   "metadata": {},
   "source": [
    "# Outer"
   ]
  },
  {
   "cell_type": "code",
   "execution_count": 351,
   "id": "0ba5b00e",
   "metadata": {},
   "outputs": [],
   "source": [
    "transaction = pd.read_json('./transaction_outer.json')\n",
    "cloth_meta = pd.read_json('./final_outer.json')\n",
    "user_meta = pd.read_json('./user_outer.json')"
   ]
  },
  {
   "cell_type": "code",
   "execution_count": 353,
   "id": "a2f6a402",
   "metadata": {},
   "outputs": [],
   "source": [
    "unique_id_cloth_meta = list(set(cloth_meta.newClothId))\n",
    "transaction=transaction.loc[transaction.newClothId.isin(unique_id_cloth_meta),:]"
   ]
  },
  {
   "cell_type": "code",
   "execution_count": 354,
   "id": "37b41224",
   "metadata": {
    "scrolled": false
   },
   "outputs": [],
   "source": [
    "a = transaction[['newClothId']]\n",
    "a.insert(1, 'idx', 0, True)\n",
    "a = a.drop_duplicates(['newClothId'])\n",
    "a.idx = range(len(a))"
   ]
  },
  {
   "cell_type": "code",
   "execution_count": 355,
   "id": "58224b3e",
   "metadata": {},
   "outputs": [],
   "source": [
    "transaction = pd.merge(transaction, a, how=\"left\", on=\"newClothId\")"
   ]
  },
  {
   "cell_type": "code",
   "execution_count": 356,
   "id": "54636c1a",
   "metadata": {
    "scrolled": true
   },
   "outputs": [],
   "source": [
    "user_meta = user_meta[size_user_column]"
   ]
  },
  {
   "cell_type": "code",
   "execution_count": 357,
   "id": "83894a9e",
   "metadata": {
    "scrolled": true
   },
   "outputs": [
    {
     "data": {
      "text/html": [
       "<div>\n",
       "<style scoped>\n",
       "    .dataframe tbody tr th:only-of-type {\n",
       "        vertical-align: middle;\n",
       "    }\n",
       "\n",
       "    .dataframe tbody tr th {\n",
       "        vertical-align: top;\n",
       "    }\n",
       "\n",
       "    .dataframe thead th {\n",
       "        text-align: right;\n",
       "    }\n",
       "</style>\n",
       "<table border=\"1\" class=\"dataframe\">\n",
       "  <thead>\n",
       "    <tr style=\"text-align: right;\">\n",
       "      <th></th>\n",
       "      <th>userId</th>\n",
       "      <th>userMale</th>\n",
       "      <th>userFemale</th>\n",
       "      <th>userHeight</th>\n",
       "      <th>userWeight</th>\n",
       "    </tr>\n",
       "  </thead>\n",
       "  <tbody>\n",
       "    <tr>\n",
       "      <th>0</th>\n",
       "      <td>488503</td>\n",
       "      <td>1</td>\n",
       "      <td>0</td>\n",
       "      <td>164</td>\n",
       "      <td>50</td>\n",
       "    </tr>\n",
       "    <tr>\n",
       "      <th>1</th>\n",
       "      <td>488504</td>\n",
       "      <td>0</td>\n",
       "      <td>1</td>\n",
       "      <td>164</td>\n",
       "      <td>57</td>\n",
       "    </tr>\n",
       "    <tr>\n",
       "      <th>2</th>\n",
       "      <td>488506</td>\n",
       "      <td>0</td>\n",
       "      <td>1</td>\n",
       "      <td>172</td>\n",
       "      <td>62</td>\n",
       "    </tr>\n",
       "    <tr>\n",
       "      <th>3</th>\n",
       "      <td>488507</td>\n",
       "      <td>1</td>\n",
       "      <td>0</td>\n",
       "      <td>177</td>\n",
       "      <td>68</td>\n",
       "    </tr>\n",
       "    <tr>\n",
       "      <th>4</th>\n",
       "      <td>488509</td>\n",
       "      <td>0</td>\n",
       "      <td>1</td>\n",
       "      <td>157</td>\n",
       "      <td>43</td>\n",
       "    </tr>\n",
       "    <tr>\n",
       "      <th>...</th>\n",
       "      <td>...</td>\n",
       "      <td>...</td>\n",
       "      <td>...</td>\n",
       "      <td>...</td>\n",
       "      <td>...</td>\n",
       "    </tr>\n",
       "    <tr>\n",
       "      <th>93245</th>\n",
       "      <td>858056</td>\n",
       "      <td>1</td>\n",
       "      <td>0</td>\n",
       "      <td>177</td>\n",
       "      <td>70</td>\n",
       "    </tr>\n",
       "    <tr>\n",
       "      <th>93246</th>\n",
       "      <td>858057</td>\n",
       "      <td>1</td>\n",
       "      <td>0</td>\n",
       "      <td>183</td>\n",
       "      <td>76</td>\n",
       "    </tr>\n",
       "    <tr>\n",
       "      <th>93247</th>\n",
       "      <td>858058</td>\n",
       "      <td>1</td>\n",
       "      <td>0</td>\n",
       "      <td>179</td>\n",
       "      <td>78</td>\n",
       "    </tr>\n",
       "    <tr>\n",
       "      <th>93248</th>\n",
       "      <td>858060</td>\n",
       "      <td>1</td>\n",
       "      <td>0</td>\n",
       "      <td>169</td>\n",
       "      <td>57</td>\n",
       "    </tr>\n",
       "    <tr>\n",
       "      <th>93249</th>\n",
       "      <td>858062</td>\n",
       "      <td>1</td>\n",
       "      <td>0</td>\n",
       "      <td>183</td>\n",
       "      <td>77</td>\n",
       "    </tr>\n",
       "  </tbody>\n",
       "</table>\n",
       "<p>93250 rows × 5 columns</p>\n",
       "</div>"
      ],
      "text/plain": [
       "       userId  userMale  userFemale  userHeight  userWeight\n",
       "0      488503         1           0         164          50\n",
       "1      488504         0           1         164          57\n",
       "2      488506         0           1         172          62\n",
       "3      488507         1           0         177          68\n",
       "4      488509         0           1         157          43\n",
       "...       ...       ...         ...         ...         ...\n",
       "93245  858056         1           0         177          70\n",
       "93246  858057         1           0         183          76\n",
       "93247  858058         1           0         179          78\n",
       "93248  858060         1           0         169          57\n",
       "93249  858062         1           0         183          77\n",
       "\n",
       "[93250 rows x 5 columns]"
      ]
     },
     "execution_count": 357,
     "metadata": {},
     "output_type": "execute_result"
    }
   ],
   "source": [
    "unique_id_user_meta = list(set(transaction.userId))\n",
    "user_meta=user_meta.loc[user_meta.userId.isin(unique_id_user_meta),:]\n",
    "user_meta = user_meta.reset_index(drop=True)\n",
    "user_meta"
   ]
  },
  {
   "cell_type": "code",
   "execution_count": 358,
   "id": "572e35e1",
   "metadata": {
    "scrolled": true
   },
   "outputs": [
    {
     "data": {
      "text/html": [
       "<div>\n",
       "<style scoped>\n",
       "    .dataframe tbody tr th:only-of-type {\n",
       "        vertical-align: middle;\n",
       "    }\n",
       "\n",
       "    .dataframe tbody tr th {\n",
       "        vertical-align: top;\n",
       "    }\n",
       "\n",
       "    .dataframe thead th {\n",
       "        text-align: right;\n",
       "    }\n",
       "</style>\n",
       "<table border=\"1\" class=\"dataframe\">\n",
       "  <thead>\n",
       "    <tr style=\"text-align: right;\">\n",
       "      <th></th>\n",
       "      <th>userId</th>\n",
       "      <th>userMale</th>\n",
       "      <th>userFemale</th>\n",
       "      <th>userHeight</th>\n",
       "      <th>userWeight</th>\n",
       "    </tr>\n",
       "  </thead>\n",
       "  <tbody>\n",
       "    <tr>\n",
       "      <th>0</th>\n",
       "      <td>8299</td>\n",
       "      <td>0</td>\n",
       "      <td>1</td>\n",
       "      <td>180</td>\n",
       "      <td>65</td>\n",
       "    </tr>\n",
       "  </tbody>\n",
       "</table>\n",
       "</div>"
      ],
      "text/plain": [
       "   userId  userMale  userFemale  userHeight  userWeight\n",
       "0    8299         0           1         180          65"
      ]
     },
     "execution_count": 358,
     "metadata": {},
     "output_type": "execute_result"
    }
   ],
   "source": [
    "new_user = pd.DataFrame(user_meta.loc[0]).transpose()\n",
    "new_user_idx = new_user.index\n",
    "new_user.loc[new_user_idx, ('userId')] = 8299\n",
    "new_user.loc[new_user_idx, ('userMale')] = 0\n",
    "new_user.loc[new_user_idx, ('userFemale')] = 1\n",
    "new_user.loc[new_user_idx, ('userHeight')] = 180\n",
    "new_user.loc[new_user_idx, ('userWeight')] = 65\n",
    "new_user = new_user[['userId', 'userMale', 'userFemale', 'userHeight', 'userWeight']]\n",
    "new_user"
   ]
  },
  {
   "cell_type": "code",
   "execution_count": 359,
   "id": "1505e869",
   "metadata": {
    "scrolled": false
   },
   "outputs": [],
   "source": [
    "sub_user = user_meta[user_meta.userFemale==new_user.userFemale.iloc[0]]"
   ]
  },
  {
   "cell_type": "code",
   "execution_count": 360,
   "id": "d0b48368",
   "metadata": {
    "scrolled": true
   },
   "outputs": [
    {
     "name": "stderr",
     "output_type": "stream",
     "text": [
      "C:\\Users\\SSAFY\\AppData\\Local\\Programs\\Python\\Python39\\lib\\site-packages\\pandas\\core\\generic.py:5516: SettingWithCopyWarning: \n",
      "A value is trying to be set on a copy of a slice from a DataFrame.\n",
      "Try using .loc[row_indexer,col_indexer] = value instead\n",
      "\n",
      "See the caveats in the documentation: https://pandas.pydata.org/pandas-docs/stable/user_guide/indexing.html#returning-a-view-versus-a-copy\n",
      "  self[name] = value\n"
     ]
    }
   ],
   "source": [
    "sub_user.userHeight = sub_user.apply(lambda x: abs(x.userHeight-new_user.userHeight.iloc[0]), axis=1)\n",
    "sub_user.userWeight = sub_user.apply(lambda x: abs(x.userWeight-new_user.userWeight.iloc[0]), axis=1)"
   ]
  },
  {
   "cell_type": "code",
   "execution_count": 361,
   "id": "e9c0282f",
   "metadata": {},
   "outputs": [],
   "source": [
    "sub_user.insert(3, 'sizeSum', 0, True)\n",
    "sub_user.sizeSum = sub_user.apply(lambda x: x.userHeight + x.userWeight, axis=1)"
   ]
  },
  {
   "cell_type": "code",
   "execution_count": 362,
   "id": "e4c76a4e",
   "metadata": {},
   "outputs": [
    {
     "name": "stdout",
     "output_type": "stream",
     "text": [
      "[708919, 558795, 538194]\n"
     ]
    }
   ],
   "source": [
    "real_user = []\n",
    "for i in range(3):\n",
    "    real_user.append(sub_user.sort_values('sizeSum').iloc[i].userId)\n",
    "real_user = [int(i) for i in real_user]\n",
    "print(real_user)"
   ]
  },
  {
   "cell_type": "code",
   "execution_count": 363,
   "id": "f6618cdf",
   "metadata": {},
   "outputs": [],
   "source": [
    "cloth_meta = cloth_meta[size_cloth_column]"
   ]
  },
  {
   "cell_type": "code",
   "execution_count": 364,
   "id": "d69a64dc",
   "metadata": {},
   "outputs": [],
   "source": [
    "cloth_meta = pd.merge(cloth_meta, a, how=\"left\", on=\"newClothId\")"
   ]
  },
  {
   "cell_type": "code",
   "execution_count": 365,
   "id": "9b2d9504",
   "metadata": {},
   "outputs": [
    {
     "data": {
      "text/plain": [
       "25916"
      ]
     },
     "execution_count": 365,
     "metadata": {},
     "output_type": "execute_result"
    }
   ],
   "source": [
    "unique_cloth_id = list(transaction['newClothId'].unique())\n",
    "len(unique_cloth_id)"
   ]
  },
  {
   "cell_type": "code",
   "execution_count": 366,
   "id": "b27b96b0",
   "metadata": {},
   "outputs": [],
   "source": [
    "a = cloth_meta.newClothId.isin(unique_cloth_id)\n",
    "cloth_meta = cloth_meta[a]\n",
    "cloth_meta.index = range(len(cloth_meta))"
   ]
  },
  {
   "cell_type": "code",
   "execution_count": 367,
   "id": "677ead7b",
   "metadata": {
    "scrolled": false
   },
   "outputs": [],
   "source": [
    "cloth_meta.idx = cloth_meta.idx.astype('int')"
   ]
  },
  {
   "cell_type": "code",
   "execution_count": 368,
   "id": "44d2f2e1",
   "metadata": {},
   "outputs": [],
   "source": [
    "transaction_source = [(transaction['userId'][i], transaction['idx'][i]) for i in range(transaction.shape[0])]"
   ]
  },
  {
   "cell_type": "code",
   "execution_count": 369,
   "id": "d80af2d3",
   "metadata": {},
   "outputs": [
    {
     "name": "stdout",
     "output_type": "stream",
     "text": [
      "userId의 유니크 개수 : 93250\n",
      "clothId의 유니크 개수 : 25916\n",
      "user테이블의 userId의 유니크 개수 : 93250\n",
      "cloth테이블의 clothId의 유니크 개수 : 25916\n"
     ]
    }
   ],
   "source": [
    "print('userId의 유니크 개수 :', len(transaction.userId.unique()))\n",
    "print('clothId의 유니크 개수 :', len(transaction.idx.unique()))\n",
    "print('user테이블의 userId의 유니크 개수 :', len(user_meta.userId.unique()))\n",
    "print('cloth테이블의 clothId의 유니크 개수 :', len(cloth_meta.idx.unique()))"
   ]
  },
  {
   "cell_type": "code",
   "execution_count": 370,
   "id": "ee472fe0",
   "metadata": {},
   "outputs": [],
   "source": [
    "user_features_source = [(user_meta['userId'][i],\n",
    "                        [user_meta['userMale'][i], user_meta['userFemale'][i], user_meta['userHeight'][i],\n",
    "                        user_meta['userWeight'][i]]) for i in range(user_meta.shape[0])]"
   ]
  },
  {
   "cell_type": "code",
   "execution_count": 371,
   "id": "5a7dd0b2",
   "metadata": {},
   "outputs": [],
   "source": [
    "cloth_features_source = [(cloth_meta['idx'][i],\n",
    "                        [cloth_meta['clothMale'][i], cloth_meta['clothFemale'][i],\n",
    "                         cloth_meta['userHeight'][i], cloth_meta['userWeight'][i] ]) for i in range(cloth_meta.shape[0])]"
   ]
  },
  {
   "cell_type": "code",
   "execution_count": 372,
   "id": "106bbb80",
   "metadata": {},
   "outputs": [],
   "source": [
    "dataset = Dataset()\n",
    "dataset.fit(users=transaction['userId'].unique(),\n",
    "           items=transaction['idx'].unique(),\n",
    "           user_features=user_meta[user_meta.columns[1:]].values.flatten(),\n",
    "           item_features=cloth_meta[cloth_meta.columns[1:]].values.flatten())"
   ]
  },
  {
   "cell_type": "code",
   "execution_count": 373,
   "id": "11a42356",
   "metadata": {},
   "outputs": [],
   "source": [
    "interactions, weights = dataset.build_interactions(transaction_source)"
   ]
  },
  {
   "cell_type": "code",
   "execution_count": 374,
   "id": "908b3a37",
   "metadata": {},
   "outputs": [],
   "source": [
    "user_features = dataset.build_user_features(user_features_source)"
   ]
  },
  {
   "cell_type": "code",
   "execution_count": 375,
   "id": "7d580846",
   "metadata": {
    "scrolled": true
   },
   "outputs": [],
   "source": [
    "cloth_features = dataset.build_item_features(cloth_features_source)"
   ]
  },
  {
   "cell_type": "code",
   "execution_count": 376,
   "id": "df956cdc",
   "metadata": {},
   "outputs": [],
   "source": [
    "train, test = random_train_test_split(interactions, test_percentage=0.2)\n",
    "train, test = train.tocsr().tocoo(), test.tocsr().tocoo()\n",
    "train_weights = train.multiply(weights).tocoo()\n",
    "test_weights = test.multiply(weights).tocoo()"
   ]
  },
  {
   "cell_type": "code",
   "execution_count": 377,
   "id": "03c32a76",
   "metadata": {},
   "outputs": [],
   "source": [
    "# no_components: 10\n",
    "# learning_rate : 0.05\n",
    "trials = Trials()\n",
    "space = [hp.choice('no_components', range(10, 21, 5)),\n",
    "         hp.uniform('learning_rate', 0.05, 0.1)]"
   ]
  },
  {
   "cell_type": "code",
   "execution_count": 378,
   "id": "c147633f",
   "metadata": {},
   "outputs": [],
   "source": [
    "# Define Objective Function\n",
    "def objective(params):\n",
    "    no_components, learning_rate = params\n",
    "    model = LightFM(no_components=no_components,\n",
    "                    learning_schedule='adagrad',\n",
    "                    loss='warp',\n",
    "                    learning_rate=learning_rate,\n",
    "                    random_state=0)\n",
    "\n",
    "    model.fit(interactions=train,\n",
    "              item_features=cloth_features,\n",
    "              user_features=user_features,\n",
    "              sample_weight=train_weights,\n",
    "              epochs=3,\n",
    "              verbose=False)\n",
    "\n",
    "    test_precision = precision_at_k(model, test, k=5, item_features=cloth_features, user_features=user_features).mean()\n",
    "    print(\"no_comp: {}, lrn_rate: {:.5f}, precision: {:.5f}\".format(\n",
    "      no_components, learning_rate, test_precision))\n",
    "    # test_auc = auc_score(model, test, item_features=item_features).mean()\n",
    "    output = -test_precision\n",
    "\n",
    "    if np.abs(output+1) < 0.01 or output < -1.0:\n",
    "        output = 0.0\n",
    "\n",
    "    return output"
   ]
  },
  {
   "cell_type": "code",
   "execution_count": 97,
   "id": "9b889fec",
   "metadata": {},
   "outputs": [
    {
     "name": "stdout",
     "output_type": "stream",
     "text": [
      "  0%|          | 0/10 [01:05<?, ?trial/s, best loss=?]\n"
     ]
    },
    {
     "ename": "KeyboardInterrupt",
     "evalue": "",
     "output_type": "error",
     "traceback": [
      "\u001b[1;31m---------------------------------------------------------------------------\u001b[0m",
      "\u001b[1;31mKeyboardInterrupt\u001b[0m                         Traceback (most recent call last)",
      "Input \u001b[1;32mIn [97]\u001b[0m, in \u001b[0;36m<module>\u001b[1;34m\u001b[0m\n\u001b[1;32m----> 1\u001b[0m best_params \u001b[38;5;241m=\u001b[39m \u001b[43mfmin\u001b[49m\u001b[43m(\u001b[49m\u001b[43mfn\u001b[49m\u001b[38;5;241;43m=\u001b[39;49m\u001b[43mobjective\u001b[49m\u001b[43m,\u001b[49m\u001b[43m \u001b[49m\u001b[43mspace\u001b[49m\u001b[38;5;241;43m=\u001b[39;49m\u001b[43mspace\u001b[49m\u001b[43m,\u001b[49m\u001b[43m \u001b[49m\u001b[43malgo\u001b[49m\u001b[38;5;241;43m=\u001b[39;49m\u001b[43mtpe\u001b[49m\u001b[38;5;241;43m.\u001b[39;49m\u001b[43msuggest\u001b[49m\u001b[43m,\u001b[49m\u001b[43m \u001b[49m\u001b[43mmax_evals\u001b[49m\u001b[38;5;241;43m=\u001b[39;49m\u001b[38;5;241;43m10\u001b[39;49m\u001b[43m,\u001b[49m\u001b[43m \u001b[49m\u001b[43mtrials\u001b[49m\u001b[38;5;241;43m=\u001b[39;49m\u001b[43mtrials\u001b[49m\u001b[43m)\u001b[49m\n",
      "File \u001b[1;32m~\\AppData\\Local\\Programs\\Python\\Python39\\lib\\site-packages\\hyperopt\\fmin.py:540\u001b[0m, in \u001b[0;36mfmin\u001b[1;34m(fn, space, algo, max_evals, timeout, loss_threshold, trials, rstate, allow_trials_fmin, pass_expr_memo_ctrl, catch_eval_exceptions, verbose, return_argmin, points_to_evaluate, max_queue_len, show_progressbar, early_stop_fn, trials_save_file)\u001b[0m\n\u001b[0;32m    537\u001b[0m     fn \u001b[38;5;241m=\u001b[39m __objective_fmin_wrapper(fn)\n\u001b[0;32m    539\u001b[0m \u001b[38;5;28;01mif\u001b[39;00m allow_trials_fmin \u001b[38;5;129;01mand\u001b[39;00m \u001b[38;5;28mhasattr\u001b[39m(trials, \u001b[38;5;124m\"\u001b[39m\u001b[38;5;124mfmin\u001b[39m\u001b[38;5;124m\"\u001b[39m):\n\u001b[1;32m--> 540\u001b[0m     \u001b[38;5;28;01mreturn\u001b[39;00m \u001b[43mtrials\u001b[49m\u001b[38;5;241;43m.\u001b[39;49m\u001b[43mfmin\u001b[49m\u001b[43m(\u001b[49m\n\u001b[0;32m    541\u001b[0m \u001b[43m        \u001b[49m\u001b[43mfn\u001b[49m\u001b[43m,\u001b[49m\n\u001b[0;32m    542\u001b[0m \u001b[43m        \u001b[49m\u001b[43mspace\u001b[49m\u001b[43m,\u001b[49m\n\u001b[0;32m    543\u001b[0m \u001b[43m        \u001b[49m\u001b[43malgo\u001b[49m\u001b[38;5;241;43m=\u001b[39;49m\u001b[43malgo\u001b[49m\u001b[43m,\u001b[49m\n\u001b[0;32m    544\u001b[0m \u001b[43m        \u001b[49m\u001b[43mmax_evals\u001b[49m\u001b[38;5;241;43m=\u001b[39;49m\u001b[43mmax_evals\u001b[49m\u001b[43m,\u001b[49m\n\u001b[0;32m    545\u001b[0m \u001b[43m        \u001b[49m\u001b[43mtimeout\u001b[49m\u001b[38;5;241;43m=\u001b[39;49m\u001b[43mtimeout\u001b[49m\u001b[43m,\u001b[49m\n\u001b[0;32m    546\u001b[0m \u001b[43m        \u001b[49m\u001b[43mloss_threshold\u001b[49m\u001b[38;5;241;43m=\u001b[39;49m\u001b[43mloss_threshold\u001b[49m\u001b[43m,\u001b[49m\n\u001b[0;32m    547\u001b[0m \u001b[43m        \u001b[49m\u001b[43mmax_queue_len\u001b[49m\u001b[38;5;241;43m=\u001b[39;49m\u001b[43mmax_queue_len\u001b[49m\u001b[43m,\u001b[49m\n\u001b[0;32m    548\u001b[0m \u001b[43m        \u001b[49m\u001b[43mrstate\u001b[49m\u001b[38;5;241;43m=\u001b[39;49m\u001b[43mrstate\u001b[49m\u001b[43m,\u001b[49m\n\u001b[0;32m    549\u001b[0m \u001b[43m        \u001b[49m\u001b[43mpass_expr_memo_ctrl\u001b[49m\u001b[38;5;241;43m=\u001b[39;49m\u001b[43mpass_expr_memo_ctrl\u001b[49m\u001b[43m,\u001b[49m\n\u001b[0;32m    550\u001b[0m \u001b[43m        \u001b[49m\u001b[43mverbose\u001b[49m\u001b[38;5;241;43m=\u001b[39;49m\u001b[43mverbose\u001b[49m\u001b[43m,\u001b[49m\n\u001b[0;32m    551\u001b[0m \u001b[43m        \u001b[49m\u001b[43mcatch_eval_exceptions\u001b[49m\u001b[38;5;241;43m=\u001b[39;49m\u001b[43mcatch_eval_exceptions\u001b[49m\u001b[43m,\u001b[49m\n\u001b[0;32m    552\u001b[0m \u001b[43m        \u001b[49m\u001b[43mreturn_argmin\u001b[49m\u001b[38;5;241;43m=\u001b[39;49m\u001b[43mreturn_argmin\u001b[49m\u001b[43m,\u001b[49m\n\u001b[0;32m    553\u001b[0m \u001b[43m        \u001b[49m\u001b[43mshow_progressbar\u001b[49m\u001b[38;5;241;43m=\u001b[39;49m\u001b[43mshow_progressbar\u001b[49m\u001b[43m,\u001b[49m\n\u001b[0;32m    554\u001b[0m \u001b[43m        \u001b[49m\u001b[43mearly_stop_fn\u001b[49m\u001b[38;5;241;43m=\u001b[39;49m\u001b[43mearly_stop_fn\u001b[49m\u001b[43m,\u001b[49m\n\u001b[0;32m    555\u001b[0m \u001b[43m        \u001b[49m\u001b[43mtrials_save_file\u001b[49m\u001b[38;5;241;43m=\u001b[39;49m\u001b[43mtrials_save_file\u001b[49m\u001b[43m,\u001b[49m\n\u001b[0;32m    556\u001b[0m \u001b[43m    \u001b[49m\u001b[43m)\u001b[49m\n\u001b[0;32m    558\u001b[0m \u001b[38;5;28;01mif\u001b[39;00m trials \u001b[38;5;129;01mis\u001b[39;00m \u001b[38;5;28;01mNone\u001b[39;00m:\n\u001b[0;32m    559\u001b[0m     \u001b[38;5;28;01mif\u001b[39;00m os\u001b[38;5;241m.\u001b[39mpath\u001b[38;5;241m.\u001b[39mexists(trials_save_file):\n",
      "File \u001b[1;32m~\\AppData\\Local\\Programs\\Python\\Python39\\lib\\site-packages\\hyperopt\\base.py:671\u001b[0m, in \u001b[0;36mTrials.fmin\u001b[1;34m(self, fn, space, algo, max_evals, timeout, loss_threshold, max_queue_len, rstate, verbose, pass_expr_memo_ctrl, catch_eval_exceptions, return_argmin, show_progressbar, early_stop_fn, trials_save_file)\u001b[0m\n\u001b[0;32m    666\u001b[0m \u001b[38;5;66;03m# -- Stop-gap implementation!\u001b[39;00m\n\u001b[0;32m    667\u001b[0m \u001b[38;5;66;03m#    fmin should have been a Trials method in the first place\u001b[39;00m\n\u001b[0;32m    668\u001b[0m \u001b[38;5;66;03m#    but for now it's still sitting in another file.\u001b[39;00m\n\u001b[0;32m    669\u001b[0m \u001b[38;5;28;01mfrom\u001b[39;00m \u001b[38;5;21;01m.\u001b[39;00m\u001b[38;5;21;01mfmin\u001b[39;00m \u001b[38;5;28;01mimport\u001b[39;00m fmin\n\u001b[1;32m--> 671\u001b[0m \u001b[38;5;28;01mreturn\u001b[39;00m \u001b[43mfmin\u001b[49m\u001b[43m(\u001b[49m\n\u001b[0;32m    672\u001b[0m \u001b[43m    \u001b[49m\u001b[43mfn\u001b[49m\u001b[43m,\u001b[49m\n\u001b[0;32m    673\u001b[0m \u001b[43m    \u001b[49m\u001b[43mspace\u001b[49m\u001b[43m,\u001b[49m\n\u001b[0;32m    674\u001b[0m \u001b[43m    \u001b[49m\u001b[43malgo\u001b[49m\u001b[38;5;241;43m=\u001b[39;49m\u001b[43malgo\u001b[49m\u001b[43m,\u001b[49m\n\u001b[0;32m    675\u001b[0m \u001b[43m    \u001b[49m\u001b[43mmax_evals\u001b[49m\u001b[38;5;241;43m=\u001b[39;49m\u001b[43mmax_evals\u001b[49m\u001b[43m,\u001b[49m\n\u001b[0;32m    676\u001b[0m \u001b[43m    \u001b[49m\u001b[43mtimeout\u001b[49m\u001b[38;5;241;43m=\u001b[39;49m\u001b[43mtimeout\u001b[49m\u001b[43m,\u001b[49m\n\u001b[0;32m    677\u001b[0m \u001b[43m    \u001b[49m\u001b[43mloss_threshold\u001b[49m\u001b[38;5;241;43m=\u001b[39;49m\u001b[43mloss_threshold\u001b[49m\u001b[43m,\u001b[49m\n\u001b[0;32m    678\u001b[0m \u001b[43m    \u001b[49m\u001b[43mtrials\u001b[49m\u001b[38;5;241;43m=\u001b[39;49m\u001b[38;5;28;43mself\u001b[39;49m\u001b[43m,\u001b[49m\n\u001b[0;32m    679\u001b[0m \u001b[43m    \u001b[49m\u001b[43mrstate\u001b[49m\u001b[38;5;241;43m=\u001b[39;49m\u001b[43mrstate\u001b[49m\u001b[43m,\u001b[49m\n\u001b[0;32m    680\u001b[0m \u001b[43m    \u001b[49m\u001b[43mverbose\u001b[49m\u001b[38;5;241;43m=\u001b[39;49m\u001b[43mverbose\u001b[49m\u001b[43m,\u001b[49m\n\u001b[0;32m    681\u001b[0m \u001b[43m    \u001b[49m\u001b[43mmax_queue_len\u001b[49m\u001b[38;5;241;43m=\u001b[39;49m\u001b[43mmax_queue_len\u001b[49m\u001b[43m,\u001b[49m\n\u001b[0;32m    682\u001b[0m \u001b[43m    \u001b[49m\u001b[43mallow_trials_fmin\u001b[49m\u001b[38;5;241;43m=\u001b[39;49m\u001b[38;5;28;43;01mFalse\u001b[39;49;00m\u001b[43m,\u001b[49m\u001b[43m  \u001b[49m\u001b[38;5;66;43;03m# -- prevent recursion\u001b[39;49;00m\n\u001b[0;32m    683\u001b[0m \u001b[43m    \u001b[49m\u001b[43mpass_expr_memo_ctrl\u001b[49m\u001b[38;5;241;43m=\u001b[39;49m\u001b[43mpass_expr_memo_ctrl\u001b[49m\u001b[43m,\u001b[49m\n\u001b[0;32m    684\u001b[0m \u001b[43m    \u001b[49m\u001b[43mcatch_eval_exceptions\u001b[49m\u001b[38;5;241;43m=\u001b[39;49m\u001b[43mcatch_eval_exceptions\u001b[49m\u001b[43m,\u001b[49m\n\u001b[0;32m    685\u001b[0m \u001b[43m    \u001b[49m\u001b[43mreturn_argmin\u001b[49m\u001b[38;5;241;43m=\u001b[39;49m\u001b[43mreturn_argmin\u001b[49m\u001b[43m,\u001b[49m\n\u001b[0;32m    686\u001b[0m \u001b[43m    \u001b[49m\u001b[43mshow_progressbar\u001b[49m\u001b[38;5;241;43m=\u001b[39;49m\u001b[43mshow_progressbar\u001b[49m\u001b[43m,\u001b[49m\n\u001b[0;32m    687\u001b[0m \u001b[43m    \u001b[49m\u001b[43mearly_stop_fn\u001b[49m\u001b[38;5;241;43m=\u001b[39;49m\u001b[43mearly_stop_fn\u001b[49m\u001b[43m,\u001b[49m\n\u001b[0;32m    688\u001b[0m \u001b[43m    \u001b[49m\u001b[43mtrials_save_file\u001b[49m\u001b[38;5;241;43m=\u001b[39;49m\u001b[43mtrials_save_file\u001b[49m\u001b[43m,\u001b[49m\n\u001b[0;32m    689\u001b[0m \u001b[43m\u001b[49m\u001b[43m)\u001b[49m\n",
      "File \u001b[1;32m~\\AppData\\Local\\Programs\\Python\\Python39\\lib\\site-packages\\hyperopt\\fmin.py:586\u001b[0m, in \u001b[0;36mfmin\u001b[1;34m(fn, space, algo, max_evals, timeout, loss_threshold, trials, rstate, allow_trials_fmin, pass_expr_memo_ctrl, catch_eval_exceptions, verbose, return_argmin, points_to_evaluate, max_queue_len, show_progressbar, early_stop_fn, trials_save_file)\u001b[0m\n\u001b[0;32m    583\u001b[0m rval\u001b[38;5;241m.\u001b[39mcatch_eval_exceptions \u001b[38;5;241m=\u001b[39m catch_eval_exceptions\n\u001b[0;32m    585\u001b[0m \u001b[38;5;66;03m# next line is where the fmin is actually executed\u001b[39;00m\n\u001b[1;32m--> 586\u001b[0m \u001b[43mrval\u001b[49m\u001b[38;5;241;43m.\u001b[39;49m\u001b[43mexhaust\u001b[49m\u001b[43m(\u001b[49m\u001b[43m)\u001b[49m\n\u001b[0;32m    588\u001b[0m \u001b[38;5;28;01mif\u001b[39;00m return_argmin:\n\u001b[0;32m    589\u001b[0m     \u001b[38;5;28;01mif\u001b[39;00m \u001b[38;5;28mlen\u001b[39m(trials\u001b[38;5;241m.\u001b[39mtrials) \u001b[38;5;241m==\u001b[39m \u001b[38;5;241m0\u001b[39m:\n",
      "File \u001b[1;32m~\\AppData\\Local\\Programs\\Python\\Python39\\lib\\site-packages\\hyperopt\\fmin.py:364\u001b[0m, in \u001b[0;36mFMinIter.exhaust\u001b[1;34m(self)\u001b[0m\n\u001b[0;32m    362\u001b[0m \u001b[38;5;28;01mdef\u001b[39;00m \u001b[38;5;21mexhaust\u001b[39m(\u001b[38;5;28mself\u001b[39m):\n\u001b[0;32m    363\u001b[0m     n_done \u001b[38;5;241m=\u001b[39m \u001b[38;5;28mlen\u001b[39m(\u001b[38;5;28mself\u001b[39m\u001b[38;5;241m.\u001b[39mtrials)\n\u001b[1;32m--> 364\u001b[0m     \u001b[38;5;28;43mself\u001b[39;49m\u001b[38;5;241;43m.\u001b[39;49m\u001b[43mrun\u001b[49m\u001b[43m(\u001b[49m\u001b[38;5;28;43mself\u001b[39;49m\u001b[38;5;241;43m.\u001b[39;49m\u001b[43mmax_evals\u001b[49m\u001b[43m \u001b[49m\u001b[38;5;241;43m-\u001b[39;49m\u001b[43m \u001b[49m\u001b[43mn_done\u001b[49m\u001b[43m,\u001b[49m\u001b[43m \u001b[49m\u001b[43mblock_until_done\u001b[49m\u001b[38;5;241;43m=\u001b[39;49m\u001b[38;5;28;43mself\u001b[39;49m\u001b[38;5;241;43m.\u001b[39;49m\u001b[43masynchronous\u001b[49m\u001b[43m)\u001b[49m\n\u001b[0;32m    365\u001b[0m     \u001b[38;5;28mself\u001b[39m\u001b[38;5;241m.\u001b[39mtrials\u001b[38;5;241m.\u001b[39mrefresh()\n\u001b[0;32m    366\u001b[0m     \u001b[38;5;28;01mreturn\u001b[39;00m \u001b[38;5;28mself\u001b[39m\n",
      "File \u001b[1;32m~\\AppData\\Local\\Programs\\Python\\Python39\\lib\\site-packages\\hyperopt\\fmin.py:300\u001b[0m, in \u001b[0;36mFMinIter.run\u001b[1;34m(self, N, block_until_done)\u001b[0m\n\u001b[0;32m    297\u001b[0m     time\u001b[38;5;241m.\u001b[39msleep(\u001b[38;5;28mself\u001b[39m\u001b[38;5;241m.\u001b[39mpoll_interval_secs)\n\u001b[0;32m    298\u001b[0m \u001b[38;5;28;01melse\u001b[39;00m:\n\u001b[0;32m    299\u001b[0m     \u001b[38;5;66;03m# -- loop over trials and do the jobs directly\u001b[39;00m\n\u001b[1;32m--> 300\u001b[0m     \u001b[38;5;28;43mself\u001b[39;49m\u001b[38;5;241;43m.\u001b[39;49m\u001b[43mserial_evaluate\u001b[49m\u001b[43m(\u001b[49m\u001b[43m)\u001b[49m\n\u001b[0;32m    302\u001b[0m \u001b[38;5;28mself\u001b[39m\u001b[38;5;241m.\u001b[39mtrials\u001b[38;5;241m.\u001b[39mrefresh()\n\u001b[0;32m    303\u001b[0m \u001b[38;5;28;01mif\u001b[39;00m \u001b[38;5;28mself\u001b[39m\u001b[38;5;241m.\u001b[39mtrials_save_file \u001b[38;5;241m!=\u001b[39m \u001b[38;5;124m\"\u001b[39m\u001b[38;5;124m\"\u001b[39m:\n",
      "File \u001b[1;32m~\\AppData\\Local\\Programs\\Python\\Python39\\lib\\site-packages\\hyperopt\\fmin.py:178\u001b[0m, in \u001b[0;36mFMinIter.serial_evaluate\u001b[1;34m(self, N)\u001b[0m\n\u001b[0;32m    176\u001b[0m ctrl \u001b[38;5;241m=\u001b[39m base\u001b[38;5;241m.\u001b[39mCtrl(\u001b[38;5;28mself\u001b[39m\u001b[38;5;241m.\u001b[39mtrials, current_trial\u001b[38;5;241m=\u001b[39mtrial)\n\u001b[0;32m    177\u001b[0m \u001b[38;5;28;01mtry\u001b[39;00m:\n\u001b[1;32m--> 178\u001b[0m     result \u001b[38;5;241m=\u001b[39m \u001b[38;5;28;43mself\u001b[39;49m\u001b[38;5;241;43m.\u001b[39;49m\u001b[43mdomain\u001b[49m\u001b[38;5;241;43m.\u001b[39;49m\u001b[43mevaluate\u001b[49m\u001b[43m(\u001b[49m\u001b[43mspec\u001b[49m\u001b[43m,\u001b[49m\u001b[43m \u001b[49m\u001b[43mctrl\u001b[49m\u001b[43m)\u001b[49m\n\u001b[0;32m    179\u001b[0m \u001b[38;5;28;01mexcept\u001b[39;00m \u001b[38;5;167;01mException\u001b[39;00m \u001b[38;5;28;01mas\u001b[39;00m e:\n\u001b[0;32m    180\u001b[0m     logger\u001b[38;5;241m.\u001b[39merror(\u001b[38;5;124m\"\u001b[39m\u001b[38;5;124mjob exception: \u001b[39m\u001b[38;5;132;01m%s\u001b[39;00m\u001b[38;5;124m\"\u001b[39m \u001b[38;5;241m%\u001b[39m \u001b[38;5;28mstr\u001b[39m(e))\n",
      "File \u001b[1;32m~\\AppData\\Local\\Programs\\Python\\Python39\\lib\\site-packages\\hyperopt\\base.py:892\u001b[0m, in \u001b[0;36mDomain.evaluate\u001b[1;34m(self, config, ctrl, attach_attachments)\u001b[0m\n\u001b[0;32m    883\u001b[0m \u001b[38;5;28;01melse\u001b[39;00m:\n\u001b[0;32m    884\u001b[0m     \u001b[38;5;66;03m# -- the \"work\" of evaluating `config` can be written\u001b[39;00m\n\u001b[0;32m    885\u001b[0m     \u001b[38;5;66;03m#    either into the pyll part (self.expr)\u001b[39;00m\n\u001b[0;32m    886\u001b[0m     \u001b[38;5;66;03m#    or the normal Python part (self.fn)\u001b[39;00m\n\u001b[0;32m    887\u001b[0m     pyll_rval \u001b[38;5;241m=\u001b[39m pyll\u001b[38;5;241m.\u001b[39mrec_eval(\n\u001b[0;32m    888\u001b[0m         \u001b[38;5;28mself\u001b[39m\u001b[38;5;241m.\u001b[39mexpr,\n\u001b[0;32m    889\u001b[0m         memo\u001b[38;5;241m=\u001b[39mmemo,\n\u001b[0;32m    890\u001b[0m         print_node_on_error\u001b[38;5;241m=\u001b[39m\u001b[38;5;28mself\u001b[39m\u001b[38;5;241m.\u001b[39mrec_eval_print_node_on_error,\n\u001b[0;32m    891\u001b[0m     )\n\u001b[1;32m--> 892\u001b[0m     rval \u001b[38;5;241m=\u001b[39m \u001b[38;5;28;43mself\u001b[39;49m\u001b[38;5;241;43m.\u001b[39;49m\u001b[43mfn\u001b[49m\u001b[43m(\u001b[49m\u001b[43mpyll_rval\u001b[49m\u001b[43m)\u001b[49m\n\u001b[0;32m    894\u001b[0m \u001b[38;5;28;01mif\u001b[39;00m \u001b[38;5;28misinstance\u001b[39m(rval, (\u001b[38;5;28mfloat\u001b[39m, \u001b[38;5;28mint\u001b[39m, np\u001b[38;5;241m.\u001b[39mnumber)):\n\u001b[0;32m    895\u001b[0m     dict_rval \u001b[38;5;241m=\u001b[39m {\u001b[38;5;124m\"\u001b[39m\u001b[38;5;124mloss\u001b[39m\u001b[38;5;124m\"\u001b[39m: \u001b[38;5;28mfloat\u001b[39m(rval), \u001b[38;5;124m\"\u001b[39m\u001b[38;5;124mstatus\u001b[39m\u001b[38;5;124m\"\u001b[39m: STATUS_OK}\n",
      "Input \u001b[1;32mIn [96]\u001b[0m, in \u001b[0;36mobjective\u001b[1;34m(params)\u001b[0m\n\u001b[0;32m      4\u001b[0m model \u001b[38;5;241m=\u001b[39m LightFM(no_components\u001b[38;5;241m=\u001b[39mno_components,\n\u001b[0;32m      5\u001b[0m                 learning_schedule\u001b[38;5;241m=\u001b[39m\u001b[38;5;124m'\u001b[39m\u001b[38;5;124madagrad\u001b[39m\u001b[38;5;124m'\u001b[39m,\n\u001b[0;32m      6\u001b[0m                 loss\u001b[38;5;241m=\u001b[39m\u001b[38;5;124m'\u001b[39m\u001b[38;5;124mwarp\u001b[39m\u001b[38;5;124m'\u001b[39m,\n\u001b[0;32m      7\u001b[0m                 learning_rate\u001b[38;5;241m=\u001b[39mlearning_rate,\n\u001b[0;32m      8\u001b[0m                 random_state\u001b[38;5;241m=\u001b[39m\u001b[38;5;241m0\u001b[39m)\n\u001b[0;32m     10\u001b[0m model\u001b[38;5;241m.\u001b[39mfit(interactions\u001b[38;5;241m=\u001b[39mtrain,\n\u001b[0;32m     11\u001b[0m           item_features\u001b[38;5;241m=\u001b[39mcloth_features,\n\u001b[0;32m     12\u001b[0m           user_features\u001b[38;5;241m=\u001b[39muser_features,\n\u001b[0;32m     13\u001b[0m           sample_weight\u001b[38;5;241m=\u001b[39mtrain_weights,\n\u001b[0;32m     14\u001b[0m           epochs\u001b[38;5;241m=\u001b[39m\u001b[38;5;241m3\u001b[39m,\n\u001b[0;32m     15\u001b[0m           verbose\u001b[38;5;241m=\u001b[39m\u001b[38;5;28;01mFalse\u001b[39;00m)\n\u001b[1;32m---> 17\u001b[0m test_precision \u001b[38;5;241m=\u001b[39m \u001b[43mprecision_at_k\u001b[49m\u001b[43m(\u001b[49m\u001b[43mmodel\u001b[49m\u001b[43m,\u001b[49m\u001b[43m \u001b[49m\u001b[43mtest\u001b[49m\u001b[43m,\u001b[49m\u001b[43m \u001b[49m\u001b[43mk\u001b[49m\u001b[38;5;241;43m=\u001b[39;49m\u001b[38;5;241;43m5\u001b[39;49m\u001b[43m,\u001b[49m\u001b[43m \u001b[49m\u001b[43mitem_features\u001b[49m\u001b[38;5;241;43m=\u001b[39;49m\u001b[43mcloth_features\u001b[49m\u001b[43m,\u001b[49m\u001b[43m \u001b[49m\u001b[43muser_features\u001b[49m\u001b[38;5;241;43m=\u001b[39;49m\u001b[43muser_features\u001b[49m\u001b[43m)\u001b[49m\u001b[38;5;241m.\u001b[39mmean()\n\u001b[0;32m     18\u001b[0m \u001b[38;5;28mprint\u001b[39m(\u001b[38;5;124m\"\u001b[39m\u001b[38;5;124mno_comp: \u001b[39m\u001b[38;5;132;01m{}\u001b[39;00m\u001b[38;5;124m, lrn_rate: \u001b[39m\u001b[38;5;132;01m{:.5f}\u001b[39;00m\u001b[38;5;124m, precision: \u001b[39m\u001b[38;5;132;01m{:.5f}\u001b[39;00m\u001b[38;5;124m\"\u001b[39m\u001b[38;5;241m.\u001b[39mformat(\n\u001b[0;32m     19\u001b[0m   no_components, learning_rate, test_precision))\n\u001b[0;32m     20\u001b[0m \u001b[38;5;66;03m# test_auc = auc_score(model, test, item_features=item_features).mean()\u001b[39;00m\n",
      "File \u001b[1;32m~\\AppData\\Local\\Programs\\Python\\Python39\\lib\\site-packages\\lightfm\\evaluation.py:71\u001b[0m, in \u001b[0;36mprecision_at_k\u001b[1;34m(model, test_interactions, train_interactions, k, user_features, item_features, preserve_rows, num_threads, check_intersections)\u001b[0m\n\u001b[0;32m     68\u001b[0m \u001b[38;5;28;01mif\u001b[39;00m num_threads \u001b[38;5;241m<\u001b[39m \u001b[38;5;241m1\u001b[39m:\n\u001b[0;32m     69\u001b[0m     \u001b[38;5;28;01mraise\u001b[39;00m \u001b[38;5;167;01mValueError\u001b[39;00m(\u001b[38;5;124m\"\u001b[39m\u001b[38;5;124mNumber of threads must be 1 or larger.\u001b[39m\u001b[38;5;124m\"\u001b[39m)\n\u001b[1;32m---> 71\u001b[0m ranks \u001b[38;5;241m=\u001b[39m \u001b[43mmodel\u001b[49m\u001b[38;5;241;43m.\u001b[39;49m\u001b[43mpredict_rank\u001b[49m\u001b[43m(\u001b[49m\n\u001b[0;32m     72\u001b[0m \u001b[43m    \u001b[49m\u001b[43mtest_interactions\u001b[49m\u001b[43m,\u001b[49m\n\u001b[0;32m     73\u001b[0m \u001b[43m    \u001b[49m\u001b[43mtrain_interactions\u001b[49m\u001b[38;5;241;43m=\u001b[39;49m\u001b[43mtrain_interactions\u001b[49m\u001b[43m,\u001b[49m\n\u001b[0;32m     74\u001b[0m \u001b[43m    \u001b[49m\u001b[43muser_features\u001b[49m\u001b[38;5;241;43m=\u001b[39;49m\u001b[43muser_features\u001b[49m\u001b[43m,\u001b[49m\n\u001b[0;32m     75\u001b[0m \u001b[43m    \u001b[49m\u001b[43mitem_features\u001b[49m\u001b[38;5;241;43m=\u001b[39;49m\u001b[43mitem_features\u001b[49m\u001b[43m,\u001b[49m\n\u001b[0;32m     76\u001b[0m \u001b[43m    \u001b[49m\u001b[43mnum_threads\u001b[49m\u001b[38;5;241;43m=\u001b[39;49m\u001b[43mnum_threads\u001b[49m\u001b[43m,\u001b[49m\n\u001b[0;32m     77\u001b[0m \u001b[43m    \u001b[49m\u001b[43mcheck_intersections\u001b[49m\u001b[38;5;241;43m=\u001b[39;49m\u001b[43mcheck_intersections\u001b[49m\u001b[43m,\u001b[49m\n\u001b[0;32m     78\u001b[0m \u001b[43m\u001b[49m\u001b[43m)\u001b[49m\n\u001b[0;32m     80\u001b[0m ranks\u001b[38;5;241m.\u001b[39mdata \u001b[38;5;241m=\u001b[39m np\u001b[38;5;241m.\u001b[39mless(ranks\u001b[38;5;241m.\u001b[39mdata, k, ranks\u001b[38;5;241m.\u001b[39mdata)\n\u001b[0;32m     82\u001b[0m precision \u001b[38;5;241m=\u001b[39m np\u001b[38;5;241m.\u001b[39msqueeze(np\u001b[38;5;241m.\u001b[39marray(ranks\u001b[38;5;241m.\u001b[39msum(axis\u001b[38;5;241m=\u001b[39m\u001b[38;5;241m1\u001b[39m))) \u001b[38;5;241m/\u001b[39m k\n",
      "File \u001b[1;32m~\\AppData\\Local\\Programs\\Python\\Python39\\lib\\site-packages\\lightfm\\lightfm.py:942\u001b[0m, in \u001b[0;36mLightFM.predict_rank\u001b[1;34m(self, test_interactions, train_interactions, item_features, user_features, num_threads, check_intersections)\u001b[0m\n\u001b[0;32m    931\u001b[0m ranks \u001b[38;5;241m=\u001b[39m sp\u001b[38;5;241m.\u001b[39mcsr_matrix(\n\u001b[0;32m    932\u001b[0m     (\n\u001b[0;32m    933\u001b[0m         np\u001b[38;5;241m.\u001b[39mzeros_like(test_interactions\u001b[38;5;241m.\u001b[39mdata),\n\u001b[1;32m   (...)\u001b[0m\n\u001b[0;32m    937\u001b[0m     shape\u001b[38;5;241m=\u001b[39mtest_interactions\u001b[38;5;241m.\u001b[39mshape,\n\u001b[0;32m    938\u001b[0m )\n\u001b[0;32m    940\u001b[0m lightfm_data \u001b[38;5;241m=\u001b[39m \u001b[38;5;28mself\u001b[39m\u001b[38;5;241m.\u001b[39m_get_lightfm_data()\n\u001b[1;32m--> 942\u001b[0m \u001b[43mpredict_ranks\u001b[49m\u001b[43m(\u001b[49m\n\u001b[0;32m    943\u001b[0m \u001b[43m    \u001b[49m\u001b[43mCSRMatrix\u001b[49m\u001b[43m(\u001b[49m\u001b[43mitem_features\u001b[49m\u001b[43m)\u001b[49m\u001b[43m,\u001b[49m\n\u001b[0;32m    944\u001b[0m \u001b[43m    \u001b[49m\u001b[43mCSRMatrix\u001b[49m\u001b[43m(\u001b[49m\u001b[43muser_features\u001b[49m\u001b[43m)\u001b[49m\u001b[43m,\u001b[49m\n\u001b[0;32m    945\u001b[0m \u001b[43m    \u001b[49m\u001b[43mCSRMatrix\u001b[49m\u001b[43m(\u001b[49m\u001b[43mtest_interactions\u001b[49m\u001b[43m)\u001b[49m\u001b[43m,\u001b[49m\n\u001b[0;32m    946\u001b[0m \u001b[43m    \u001b[49m\u001b[43mCSRMatrix\u001b[49m\u001b[43m(\u001b[49m\u001b[43mtrain_interactions\u001b[49m\u001b[43m)\u001b[49m\u001b[43m,\u001b[49m\n\u001b[0;32m    947\u001b[0m \u001b[43m    \u001b[49m\u001b[43mranks\u001b[49m\u001b[38;5;241;43m.\u001b[39;49m\u001b[43mdata\u001b[49m\u001b[43m,\u001b[49m\n\u001b[0;32m    948\u001b[0m \u001b[43m    \u001b[49m\u001b[43mlightfm_data\u001b[49m\u001b[43m,\u001b[49m\n\u001b[0;32m    949\u001b[0m \u001b[43m    \u001b[49m\u001b[43mnum_threads\u001b[49m\u001b[43m,\u001b[49m\n\u001b[0;32m    950\u001b[0m \u001b[43m\u001b[49m\u001b[43m)\u001b[49m\n\u001b[0;32m    952\u001b[0m \u001b[38;5;28;01mreturn\u001b[39;00m ranks\n",
      "\u001b[1;31mKeyboardInterrupt\u001b[0m: "
     ]
    }
   ],
   "source": [
    "best_params = fmin(fn=objective, space=space, algo=tpe.suggest, max_evals=10, trials=trials)"
   ]
  },
  {
   "cell_type": "code",
   "execution_count": 31,
   "id": "eeeed595",
   "metadata": {
    "scrolled": true
   },
   "outputs": [
    {
     "name": "stdout",
     "output_type": "stream",
     "text": [
      "0.05 2\n"
     ]
    }
   ],
   "source": [
    "learning_rate = round(best_params['learning_rate'], 3)\n",
    "no_components = best_params['no_components']\n",
    "print(learning_rate, no_components)"
   ]
  },
  {
   "cell_type": "code",
   "execution_count": 163,
   "id": "de02ac4d",
   "metadata": {},
   "outputs": [],
   "source": [
    "learning_rate = 0.03\n",
    "no_components = 3"
   ]
  },
  {
   "cell_type": "code",
   "execution_count": 164,
   "id": "22d5c726",
   "metadata": {},
   "outputs": [
    {
     "name": "stderr",
     "output_type": "stream",
     "text": [
      "Epoch: 100%|██████████| 10/10 [00:05<00:00,  1.94it/s]\n"
     ]
    },
    {
     "data": {
      "text/plain": [
       "<lightfm.lightfm.LightFM at 0x28825a8ef70>"
      ]
     },
     "execution_count": 164,
     "metadata": {},
     "output_type": "execute_result"
    }
   ],
   "source": [
    "model = LightFM(no_components=no_components,\n",
    "                learning_schedule='adagrad',\n",
    "                loss='warp',\n",
    "                learning_rate=learning_rate,\n",
    "                random_state=0)\n",
    "\n",
    "model.fit(interactions=interactions,\n",
    "          item_features=cloth_features,\n",
    "          user_features=user_features,\n",
    "          sample_weight=weights,\n",
    "          epochs=10,\n",
    "          verbose=True)"
   ]
  },
  {
   "cell_type": "code",
   "execution_count": 165,
   "id": "b280b0eb",
   "metadata": {},
   "outputs": [],
   "source": [
    "# 모델 저장하기\n",
    "import pickle\n",
    "with open('model_size_outer.pickle', 'wb') as fw:\n",
    "    pickle.dump(model, fw)"
   ]
  },
  {
   "cell_type": "code",
   "execution_count": 166,
   "id": "4583e5a9",
   "metadata": {},
   "outputs": [],
   "source": [
    "# 모델 불러오기\n",
    "import pickle\n",
    "with open('model_size_outer.pickle', 'rb') as f:\n",
    "    model_outer = pickle.load(f)"
   ]
  },
  {
   "cell_type": "code",
   "execution_count": 167,
   "id": "f4905096",
   "metadata": {},
   "outputs": [],
   "source": [
    "def sample_recommendation(model, idx, user_ids):\n",
    "    cnt = 1\n",
    "    for user_id in user_ids:\n",
    "        if cnt==1:\n",
    "            scores = model.predict(int(user_meta[user_meta.userId==user_id].index[0]), np.arange(len(cloth_meta)))\n",
    "        else:\n",
    "            scores += model.predict(int(user_meta[user_meta.userId==user_id].index[0]), np.arange(len(cloth_meta)))\n",
    "    \n",
    "    top_items = idx[np.argsort(-scores)]\n",
    "    \n",
    "    sub_clothes = []\n",
    "\n",
    "    for x in top_items[:10]:\n",
    "        sub_clothes.append(x)\n",
    "    \n",
    "    rec_clothes = []\n",
    "    \n",
    "    for i in sub_clothes:\n",
    "        rec_clothes.append(cloth_meta[cloth_meta.idx==i].newClothId.iloc[0])\n",
    "    \n",
    "    return rec_clothes"
   ]
  },
  {
   "cell_type": "code",
   "execution_count": 168,
   "id": "7f8e4079",
   "metadata": {
    "scrolled": false
   },
   "outputs": [
    {
     "data": {
      "text/plain": [
       "[1855501110996,\n",
       " 208155079212,\n",
       " 162907498408,\n",
       " 157348798846,\n",
       " 177400380239,\n",
       " 161198282328,\n",
       " 236907099750,\n",
       " 1577133111047,\n",
       " 231905785481,\n",
       " 235944795060]"
      ]
     },
     "execution_count": 168,
     "metadata": {},
     "output_type": "execute_result"
    }
   ],
   "source": [
    "rec_size_top = sample_recommendation(model_outer, cloth_meta.idx, real_user)\n",
    "rec_size_top"
   ]
  },
  {
   "cell_type": "code",
   "execution_count": 169,
   "id": "aec57909",
   "metadata": {},
   "outputs": [
    {
     "data": {
      "text/plain": [
       "[708919, 558795, 538194]"
      ]
     },
     "execution_count": 169,
     "metadata": {},
     "output_type": "execute_result"
    }
   ],
   "source": [
    "real_user"
   ]
  },
  {
   "cell_type": "code",
   "execution_count": 170,
   "id": "98c4dc9a",
   "metadata": {},
   "outputs": [],
   "source": [
    "cloth_meta.insert(10, 'what', 2, True)\n",
    "user_meta.insert(5, 'what', 2, True)"
   ]
  },
  {
   "cell_type": "code",
   "execution_count": 171,
   "id": "f763579d",
   "metadata": {
    "scrolled": false
   },
   "outputs": [
    {
     "data": {
      "text/html": [
       "<div>\n",
       "<style scoped>\n",
       "    .dataframe tbody tr th:only-of-type {\n",
       "        vertical-align: middle;\n",
       "    }\n",
       "\n",
       "    .dataframe tbody tr th {\n",
       "        vertical-align: top;\n",
       "    }\n",
       "\n",
       "    .dataframe thead th {\n",
       "        text-align: right;\n",
       "    }\n",
       "</style>\n",
       "<table border=\"1\" class=\"dataframe\">\n",
       "  <thead>\n",
       "    <tr style=\"text-align: right;\">\n",
       "      <th></th>\n",
       "      <th>newClothId</th>\n",
       "      <th>idx</th>\n",
       "      <th>what</th>\n",
       "    </tr>\n",
       "  </thead>\n",
       "  <tbody>\n",
       "    <tr>\n",
       "      <th>0</th>\n",
       "      <td>234005278848</td>\n",
       "      <td>25240</td>\n",
       "      <td>2</td>\n",
       "    </tr>\n",
       "    <tr>\n",
       "      <th>1</th>\n",
       "      <td>208155079211</td>\n",
       "      <td>20700</td>\n",
       "      <td>2</td>\n",
       "    </tr>\n",
       "    <tr>\n",
       "      <th>2</th>\n",
       "      <td>208155079212</td>\n",
       "      <td>15426</td>\n",
       "      <td>2</td>\n",
       "    </tr>\n",
       "    <tr>\n",
       "      <th>3</th>\n",
       "      <td>208155079213</td>\n",
       "      <td>23065</td>\n",
       "      <td>2</td>\n",
       "    </tr>\n",
       "    <tr>\n",
       "      <th>4</th>\n",
       "      <td>208155079214</td>\n",
       "      <td>1832</td>\n",
       "      <td>2</td>\n",
       "    </tr>\n",
       "    <tr>\n",
       "      <th>...</th>\n",
       "      <td>...</td>\n",
       "      <td>...</td>\n",
       "      <td>...</td>\n",
       "    </tr>\n",
       "    <tr>\n",
       "      <th>25911</th>\n",
       "      <td>2080918130502</td>\n",
       "      <td>10939</td>\n",
       "      <td>2</td>\n",
       "    </tr>\n",
       "    <tr>\n",
       "      <th>25912</th>\n",
       "      <td>2080918130504</td>\n",
       "      <td>7261</td>\n",
       "      <td>2</td>\n",
       "    </tr>\n",
       "    <tr>\n",
       "      <th>25913</th>\n",
       "      <td>2322135130506</td>\n",
       "      <td>21919</td>\n",
       "      <td>2</td>\n",
       "    </tr>\n",
       "    <tr>\n",
       "      <th>25914</th>\n",
       "      <td>2322135130507</td>\n",
       "      <td>20550</td>\n",
       "      <td>2</td>\n",
       "    </tr>\n",
       "    <tr>\n",
       "      <th>25915</th>\n",
       "      <td>2322135130508</td>\n",
       "      <td>14176</td>\n",
       "      <td>2</td>\n",
       "    </tr>\n",
       "  </tbody>\n",
       "</table>\n",
       "<p>25916 rows × 3 columns</p>\n",
       "</div>"
      ],
      "text/plain": [
       "          newClothId    idx  what\n",
       "0       234005278848  25240     2\n",
       "1       208155079211  20700     2\n",
       "2       208155079212  15426     2\n",
       "3       208155079213  23065     2\n",
       "4       208155079214   1832     2\n",
       "...              ...    ...   ...\n",
       "25911  2080918130502  10939     2\n",
       "25912  2080918130504   7261     2\n",
       "25913  2322135130506  21919     2\n",
       "25914  2322135130507  20550     2\n",
       "25915  2322135130508  14176     2\n",
       "\n",
       "[25916 rows x 3 columns]"
      ]
     },
     "execution_count": 171,
     "metadata": {},
     "output_type": "execute_result"
    }
   ],
   "source": [
    "cloth_meta = cloth_meta[[\"newClothId\", \"idx\", 'what']]\n",
    "cloth_meta"
   ]
  },
  {
   "cell_type": "code",
   "execution_count": 383,
   "id": "16f1dc96",
   "metadata": {},
   "outputs": [],
   "source": [
    "cloth_meta.to_json('size_outer_cloth_meta.json', orient='records', force_ascii=False)\n",
    "user_meta.to_json('size_outer_user_meta.json', orient='records', force_ascii=False)"
   ]
  },
  {
   "cell_type": "code",
   "execution_count": 379,
   "id": "3d621085",
   "metadata": {},
   "outputs": [],
   "source": [
    "# user_meta.insert(0, 'how', 2, True)\n",
    "user_meta.insert(0, 'what', 2, True)"
   ]
  },
  {
   "cell_type": "code",
   "execution_count": 381,
   "id": "8ce5152d",
   "metadata": {},
   "outputs": [],
   "source": [
    "user_meta = user_meta.drop(['userMale', 'userFemale', 'userHeight', 'userWeight'], axis=1)"
   ]
  },
  {
   "cell_type": "code",
   "execution_count": 382,
   "id": "4554c0d8",
   "metadata": {},
   "outputs": [
    {
     "data": {
      "text/html": [
       "<div>\n",
       "<style scoped>\n",
       "    .dataframe tbody tr th:only-of-type {\n",
       "        vertical-align: middle;\n",
       "    }\n",
       "\n",
       "    .dataframe tbody tr th {\n",
       "        vertical-align: top;\n",
       "    }\n",
       "\n",
       "    .dataframe thead th {\n",
       "        text-align: right;\n",
       "    }\n",
       "</style>\n",
       "<table border=\"1\" class=\"dataframe\">\n",
       "  <thead>\n",
       "    <tr style=\"text-align: right;\">\n",
       "      <th></th>\n",
       "      <th>what</th>\n",
       "      <th>userId</th>\n",
       "    </tr>\n",
       "  </thead>\n",
       "  <tbody>\n",
       "    <tr>\n",
       "      <th>0</th>\n",
       "      <td>2</td>\n",
       "      <td>488503</td>\n",
       "    </tr>\n",
       "    <tr>\n",
       "      <th>1</th>\n",
       "      <td>2</td>\n",
       "      <td>488504</td>\n",
       "    </tr>\n",
       "    <tr>\n",
       "      <th>2</th>\n",
       "      <td>2</td>\n",
       "      <td>488506</td>\n",
       "    </tr>\n",
       "    <tr>\n",
       "      <th>3</th>\n",
       "      <td>2</td>\n",
       "      <td>488507</td>\n",
       "    </tr>\n",
       "    <tr>\n",
       "      <th>4</th>\n",
       "      <td>2</td>\n",
       "      <td>488509</td>\n",
       "    </tr>\n",
       "    <tr>\n",
       "      <th>...</th>\n",
       "      <td>...</td>\n",
       "      <td>...</td>\n",
       "    </tr>\n",
       "    <tr>\n",
       "      <th>93245</th>\n",
       "      <td>2</td>\n",
       "      <td>858056</td>\n",
       "    </tr>\n",
       "    <tr>\n",
       "      <th>93246</th>\n",
       "      <td>2</td>\n",
       "      <td>858057</td>\n",
       "    </tr>\n",
       "    <tr>\n",
       "      <th>93247</th>\n",
       "      <td>2</td>\n",
       "      <td>858058</td>\n",
       "    </tr>\n",
       "    <tr>\n",
       "      <th>93248</th>\n",
       "      <td>2</td>\n",
       "      <td>858060</td>\n",
       "    </tr>\n",
       "    <tr>\n",
       "      <th>93249</th>\n",
       "      <td>2</td>\n",
       "      <td>858062</td>\n",
       "    </tr>\n",
       "  </tbody>\n",
       "</table>\n",
       "<p>93250 rows × 2 columns</p>\n",
       "</div>"
      ],
      "text/plain": [
       "       what  userId\n",
       "0         2  488503\n",
       "1         2  488504\n",
       "2         2  488506\n",
       "3         2  488507\n",
       "4         2  488509\n",
       "...     ...     ...\n",
       "93245     2  858056\n",
       "93246     2  858057\n",
       "93247     2  858058\n",
       "93248     2  858060\n",
       "93249     2  858062\n",
       "\n",
       "[93250 rows x 2 columns]"
      ]
     },
     "execution_count": 382,
     "metadata": {},
     "output_type": "execute_result"
    }
   ],
   "source": [
    "user_meta"
   ]
  },
  {
   "cell_type": "code",
   "execution_count": null,
   "id": "5b64d7c7",
   "metadata": {},
   "outputs": [],
   "source": []
  },
  {
   "cell_type": "code",
   "execution_count": null,
   "id": "70a779c2",
   "metadata": {},
   "outputs": [],
   "source": []
  },
  {
   "cell_type": "markdown",
   "id": "3de660d4",
   "metadata": {},
   "source": [
    "# Pants"
   ]
  },
  {
   "cell_type": "code",
   "execution_count": 384,
   "id": "ce59ad5e",
   "metadata": {},
   "outputs": [],
   "source": [
    "transaction = pd.read_json('./transaction_pants.json')\n",
    "cloth_meta = pd.read_json('./final_pants.json')\n",
    "user_meta = pd.read_json('./user_pants.json')"
   ]
  },
  {
   "cell_type": "code",
   "execution_count": 385,
   "id": "e3585e0b",
   "metadata": {},
   "outputs": [],
   "source": [
    "unique_id_cloth_meta = list(set(cloth_meta.newClothId))\n",
    "transaction=transaction.loc[transaction.newClothId.isin(unique_id_cloth_meta),:]"
   ]
  },
  {
   "cell_type": "code",
   "execution_count": 386,
   "id": "4ceb9200",
   "metadata": {
    "scrolled": false
   },
   "outputs": [],
   "source": [
    "a = transaction[['newClothId']]\n",
    "a.insert(1, 'idx', 0, True)\n",
    "a = a.drop_duplicates(['newClothId'])\n",
    "a.idx = range(len(a))"
   ]
  },
  {
   "cell_type": "code",
   "execution_count": 387,
   "id": "e88e06f0",
   "metadata": {},
   "outputs": [],
   "source": [
    "transaction = pd.merge(transaction, a, how=\"left\", on=\"newClothId\")"
   ]
  },
  {
   "cell_type": "code",
   "execution_count": 388,
   "id": "6defe4f1",
   "metadata": {
    "scrolled": true
   },
   "outputs": [],
   "source": [
    "user_meta = user_meta[size_user_column]"
   ]
  },
  {
   "cell_type": "code",
   "execution_count": 389,
   "id": "f3ff916a",
   "metadata": {},
   "outputs": [
    {
     "data": {
      "text/html": [
       "<div>\n",
       "<style scoped>\n",
       "    .dataframe tbody tr th:only-of-type {\n",
       "        vertical-align: middle;\n",
       "    }\n",
       "\n",
       "    .dataframe tbody tr th {\n",
       "        vertical-align: top;\n",
       "    }\n",
       "\n",
       "    .dataframe thead th {\n",
       "        text-align: right;\n",
       "    }\n",
       "</style>\n",
       "<table border=\"1\" class=\"dataframe\">\n",
       "  <thead>\n",
       "    <tr style=\"text-align: right;\">\n",
       "      <th></th>\n",
       "      <th>userId</th>\n",
       "      <th>userMale</th>\n",
       "      <th>userFemale</th>\n",
       "      <th>userHeight</th>\n",
       "      <th>userWeight</th>\n",
       "    </tr>\n",
       "  </thead>\n",
       "  <tbody>\n",
       "    <tr>\n",
       "      <th>0</th>\n",
       "      <td>14135</td>\n",
       "      <td>0</td>\n",
       "      <td>1</td>\n",
       "      <td>172</td>\n",
       "      <td>59</td>\n",
       "    </tr>\n",
       "    <tr>\n",
       "      <th>1</th>\n",
       "      <td>14141</td>\n",
       "      <td>1</td>\n",
       "      <td>0</td>\n",
       "      <td>182</td>\n",
       "      <td>77</td>\n",
       "    </tr>\n",
       "    <tr>\n",
       "      <th>2</th>\n",
       "      <td>14146</td>\n",
       "      <td>0</td>\n",
       "      <td>1</td>\n",
       "      <td>162</td>\n",
       "      <td>51</td>\n",
       "    </tr>\n",
       "    <tr>\n",
       "      <th>3</th>\n",
       "      <td>14148</td>\n",
       "      <td>1</td>\n",
       "      <td>0</td>\n",
       "      <td>180</td>\n",
       "      <td>68</td>\n",
       "    </tr>\n",
       "    <tr>\n",
       "      <th>4</th>\n",
       "      <td>14158</td>\n",
       "      <td>1</td>\n",
       "      <td>0</td>\n",
       "      <td>158</td>\n",
       "      <td>57</td>\n",
       "    </tr>\n",
       "    <tr>\n",
       "      <th>...</th>\n",
       "      <td>...</td>\n",
       "      <td>...</td>\n",
       "      <td>...</td>\n",
       "      <td>...</td>\n",
       "      <td>...</td>\n",
       "    </tr>\n",
       "    <tr>\n",
       "      <th>115960</th>\n",
       "      <td>488479</td>\n",
       "      <td>1</td>\n",
       "      <td>0</td>\n",
       "      <td>180</td>\n",
       "      <td>78</td>\n",
       "    </tr>\n",
       "    <tr>\n",
       "      <th>115961</th>\n",
       "      <td>488483</td>\n",
       "      <td>0</td>\n",
       "      <td>1</td>\n",
       "      <td>168</td>\n",
       "      <td>56</td>\n",
       "    </tr>\n",
       "    <tr>\n",
       "      <th>115962</th>\n",
       "      <td>488490</td>\n",
       "      <td>1</td>\n",
       "      <td>0</td>\n",
       "      <td>183</td>\n",
       "      <td>77</td>\n",
       "    </tr>\n",
       "    <tr>\n",
       "      <th>115963</th>\n",
       "      <td>488491</td>\n",
       "      <td>1</td>\n",
       "      <td>0</td>\n",
       "      <td>179</td>\n",
       "      <td>78</td>\n",
       "    </tr>\n",
       "    <tr>\n",
       "      <th>115964</th>\n",
       "      <td>488502</td>\n",
       "      <td>1</td>\n",
       "      <td>0</td>\n",
       "      <td>183</td>\n",
       "      <td>77</td>\n",
       "    </tr>\n",
       "  </tbody>\n",
       "</table>\n",
       "<p>115965 rows × 5 columns</p>\n",
       "</div>"
      ],
      "text/plain": [
       "        userId  userMale  userFemale  userHeight  userWeight\n",
       "0        14135         0           1         172          59\n",
       "1        14141         1           0         182          77\n",
       "2        14146         0           1         162          51\n",
       "3        14148         1           0         180          68\n",
       "4        14158         1           0         158          57\n",
       "...        ...       ...         ...         ...         ...\n",
       "115960  488479         1           0         180          78\n",
       "115961  488483         0           1         168          56\n",
       "115962  488490         1           0         183          77\n",
       "115963  488491         1           0         179          78\n",
       "115964  488502         1           0         183          77\n",
       "\n",
       "[115965 rows x 5 columns]"
      ]
     },
     "execution_count": 389,
     "metadata": {},
     "output_type": "execute_result"
    }
   ],
   "source": [
    "unique_id_user_meta = list(set(transaction.userId))\n",
    "user_meta=user_meta.loc[user_meta.userId.isin(unique_id_user_meta),:]\n",
    "user_meta = user_meta.reset_index(drop=True)\n",
    "user_meta"
   ]
  },
  {
   "cell_type": "code",
   "execution_count": 390,
   "id": "572e35e1",
   "metadata": {
    "scrolled": true
   },
   "outputs": [
    {
     "data": {
      "text/html": [
       "<div>\n",
       "<style scoped>\n",
       "    .dataframe tbody tr th:only-of-type {\n",
       "        vertical-align: middle;\n",
       "    }\n",
       "\n",
       "    .dataframe tbody tr th {\n",
       "        vertical-align: top;\n",
       "    }\n",
       "\n",
       "    .dataframe thead th {\n",
       "        text-align: right;\n",
       "    }\n",
       "</style>\n",
       "<table border=\"1\" class=\"dataframe\">\n",
       "  <thead>\n",
       "    <tr style=\"text-align: right;\">\n",
       "      <th></th>\n",
       "      <th>userId</th>\n",
       "      <th>userMale</th>\n",
       "      <th>userFemale</th>\n",
       "      <th>userHeight</th>\n",
       "      <th>userWeight</th>\n",
       "    </tr>\n",
       "  </thead>\n",
       "  <tbody>\n",
       "    <tr>\n",
       "      <th>0</th>\n",
       "      <td>8299</td>\n",
       "      <td>0</td>\n",
       "      <td>1</td>\n",
       "      <td>180</td>\n",
       "      <td>65</td>\n",
       "    </tr>\n",
       "  </tbody>\n",
       "</table>\n",
       "</div>"
      ],
      "text/plain": [
       "   userId  userMale  userFemale  userHeight  userWeight\n",
       "0    8299         0           1         180          65"
      ]
     },
     "execution_count": 390,
     "metadata": {},
     "output_type": "execute_result"
    }
   ],
   "source": [
    "new_user = pd.DataFrame(user_meta.loc[0]).transpose()\n",
    "new_user_idx = new_user.index\n",
    "new_user.loc[new_user_idx, ('userId')] = 8299\n",
    "new_user.loc[new_user_idx, ('userMale')] = 0\n",
    "new_user.loc[new_user_idx, ('userFemale')] = 1\n",
    "new_user.loc[new_user_idx, ('userHeight')] = 180\n",
    "new_user.loc[new_user_idx, ('userWeight')] = 65\n",
    "new_user = new_user[['userId', 'userMale', 'userFemale', 'userHeight', 'userWeight']]\n",
    "new_user"
   ]
  },
  {
   "cell_type": "code",
   "execution_count": 391,
   "id": "1505e869",
   "metadata": {
    "scrolled": false
   },
   "outputs": [],
   "source": [
    "sub_user = user_meta[user_meta.userFemale==new_user.userFemale.iloc[0]]"
   ]
  },
  {
   "cell_type": "code",
   "execution_count": 392,
   "id": "d0b48368",
   "metadata": {
    "scrolled": true
   },
   "outputs": [
    {
     "name": "stderr",
     "output_type": "stream",
     "text": [
      "C:\\Users\\SSAFY\\AppData\\Local\\Programs\\Python\\Python39\\lib\\site-packages\\pandas\\core\\generic.py:5516: SettingWithCopyWarning: \n",
      "A value is trying to be set on a copy of a slice from a DataFrame.\n",
      "Try using .loc[row_indexer,col_indexer] = value instead\n",
      "\n",
      "See the caveats in the documentation: https://pandas.pydata.org/pandas-docs/stable/user_guide/indexing.html#returning-a-view-versus-a-copy\n",
      "  self[name] = value\n"
     ]
    }
   ],
   "source": [
    "sub_user.userHeight = sub_user.apply(lambda x: abs(x.userHeight-new_user.userHeight.iloc[0]), axis=1)\n",
    "sub_user.userWeight = sub_user.apply(lambda x: abs(x.userWeight-new_user.userWeight.iloc[0]), axis=1)"
   ]
  },
  {
   "cell_type": "code",
   "execution_count": 393,
   "id": "e9c0282f",
   "metadata": {},
   "outputs": [],
   "source": [
    "sub_user.insert(3, 'sizeSum', 0, True)\n",
    "sub_user.sizeSum = sub_user.apply(lambda x: x.userHeight + x.userWeight, axis=1)"
   ]
  },
  {
   "cell_type": "code",
   "execution_count": 394,
   "id": "e4c76a4e",
   "metadata": {},
   "outputs": [
    {
     "name": "stdout",
     "output_type": "stream",
     "text": [
      "[178769, 217810, 176013]\n"
     ]
    }
   ],
   "source": [
    "real_user = []\n",
    "for i in range(3):\n",
    "    real_user.append(sub_user.sort_values('sizeSum').iloc[i].userId)\n",
    "real_user = [int(i) for i in real_user]\n",
    "print(real_user)"
   ]
  },
  {
   "cell_type": "code",
   "execution_count": 395,
   "id": "f6618cdf",
   "metadata": {},
   "outputs": [],
   "source": [
    "cloth_meta = cloth_meta[size_cloth_column]"
   ]
  },
  {
   "cell_type": "code",
   "execution_count": 396,
   "id": "d69a64dc",
   "metadata": {},
   "outputs": [],
   "source": [
    "cloth_meta = pd.merge(cloth_meta, a, how=\"left\", on=\"newClothId\")"
   ]
  },
  {
   "cell_type": "code",
   "execution_count": 397,
   "id": "9b2d9504",
   "metadata": {},
   "outputs": [
    {
     "data": {
      "text/plain": [
       "33530"
      ]
     },
     "execution_count": 397,
     "metadata": {},
     "output_type": "execute_result"
    }
   ],
   "source": [
    "unique_cloth_id = list(transaction['newClothId'].unique())\n",
    "len(unique_cloth_id)"
   ]
  },
  {
   "cell_type": "code",
   "execution_count": 398,
   "id": "b27b96b0",
   "metadata": {},
   "outputs": [],
   "source": [
    "a = cloth_meta.newClothId.isin(unique_cloth_id)\n",
    "cloth_meta = cloth_meta[a]\n",
    "cloth_meta.index = range(len(cloth_meta))"
   ]
  },
  {
   "cell_type": "code",
   "execution_count": 399,
   "id": "677ead7b",
   "metadata": {
    "scrolled": false
   },
   "outputs": [],
   "source": [
    "cloth_meta.idx = cloth_meta.idx.astype('int')"
   ]
  },
  {
   "cell_type": "code",
   "execution_count": 400,
   "id": "44d2f2e1",
   "metadata": {},
   "outputs": [],
   "source": [
    "transaction_source = [(transaction['userId'][i], transaction['idx'][i]) for i in range(transaction.shape[0])]"
   ]
  },
  {
   "cell_type": "code",
   "execution_count": 401,
   "id": "d80af2d3",
   "metadata": {},
   "outputs": [
    {
     "name": "stdout",
     "output_type": "stream",
     "text": [
      "userId의 유니크 개수 : 115965\n",
      "clothId의 유니크 개수 : 33530\n",
      "user테이블의 userId의 유니크 개수 : 115965\n",
      "cloth테이블의 clothId의 유니크 개수 : 33530\n"
     ]
    }
   ],
   "source": [
    "print('userId의 유니크 개수 :', len(transaction.userId.unique()))\n",
    "print('clothId의 유니크 개수 :', len(transaction.idx.unique()))\n",
    "print('user테이블의 userId의 유니크 개수 :', len(user_meta.userId.unique()))\n",
    "print('cloth테이블의 clothId의 유니크 개수 :', len(cloth_meta.idx.unique()))"
   ]
  },
  {
   "cell_type": "code",
   "execution_count": 402,
   "id": "ee472fe0",
   "metadata": {},
   "outputs": [],
   "source": [
    "user_features_source = [(user_meta['userId'][i],\n",
    "                        [user_meta['userMale'][i], user_meta['userFemale'][i], user_meta['userHeight'][i],\n",
    "                        user_meta['userWeight'][i]]) for i in range(user_meta.shape[0])]"
   ]
  },
  {
   "cell_type": "code",
   "execution_count": 403,
   "id": "5a7dd0b2",
   "metadata": {},
   "outputs": [],
   "source": [
    "cloth_features_source = [(cloth_meta['idx'][i],\n",
    "                        [cloth_meta['clothMale'][i], cloth_meta['clothFemale'][i],\n",
    "                         cloth_meta['userHeight'][i], cloth_meta['userWeight'][i] ]) for i in range(cloth_meta.shape[0])]"
   ]
  },
  {
   "cell_type": "code",
   "execution_count": 404,
   "id": "106bbb80",
   "metadata": {},
   "outputs": [],
   "source": [
    "dataset = Dataset()\n",
    "dataset.fit(users=transaction['userId'].unique(),\n",
    "           items=transaction['idx'].unique(),\n",
    "           user_features=user_meta[user_meta.columns[1:]].values.flatten(),\n",
    "           item_features=cloth_meta[cloth_meta.columns[1:]].values.flatten())"
   ]
  },
  {
   "cell_type": "code",
   "execution_count": 196,
   "id": "11a42356",
   "metadata": {},
   "outputs": [],
   "source": [
    "interactions, weights = dataset.build_interactions(transaction_source)"
   ]
  },
  {
   "cell_type": "code",
   "execution_count": 197,
   "id": "908b3a37",
   "metadata": {},
   "outputs": [],
   "source": [
    "user_features = dataset.build_user_features(user_features_source)"
   ]
  },
  {
   "cell_type": "code",
   "execution_count": 198,
   "id": "7d580846",
   "metadata": {
    "scrolled": true
   },
   "outputs": [],
   "source": [
    "cloth_features = dataset.build_item_features(cloth_features_source)"
   ]
  },
  {
   "cell_type": "code",
   "execution_count": 199,
   "id": "df956cdc",
   "metadata": {},
   "outputs": [],
   "source": [
    "train, test = random_train_test_split(interactions, test_percentage=0.2)\n",
    "train, test = train.tocsr().tocoo(), test.tocsr().tocoo()\n",
    "train_weights = train.multiply(weights).tocoo()\n",
    "test_weights = test.multiply(weights).tocoo()"
   ]
  },
  {
   "cell_type": "code",
   "execution_count": 30,
   "id": "03c32a76",
   "metadata": {},
   "outputs": [],
   "source": [
    "# no_components: 10\n",
    "# learning_rate : 0.05\n",
    "trials = Trials()\n",
    "space = [hp.choice('no_components', range(10, 21, 5)),\n",
    "         hp.uniform('learning_rate', 0.05, 0.1)]"
   ]
  },
  {
   "cell_type": "code",
   "execution_count": 85,
   "id": "c147633f",
   "metadata": {},
   "outputs": [],
   "source": [
    "# Define Objective Function\n",
    "def objective(params):\n",
    "    no_components, learning_rate = params\n",
    "    model = LightFM(no_components=no_components,\n",
    "                    learning_schedule='adagrad',\n",
    "                    loss='warp',\n",
    "                    learning_rate=learning_rate,\n",
    "                    random_state=0)\n",
    "\n",
    "    model.fit(interactions=train,\n",
    "              item_features=cloth_features,\n",
    "              user_features=user_features,\n",
    "              sample_weight=train_weights,\n",
    "              epochs=3,\n",
    "              verbose=False)\n",
    "\n",
    "    test_precision = precision_at_k(model, test, k=5, item_features=cloth_features, user_features=user_features).mean()\n",
    "    print(\"no_comp: {}, lrn_rate: {:.5f}, precision: {:.5f}\".format(\n",
    "      no_components, learning_rate, test_precision))\n",
    "    # test_auc = auc_score(model, test, item_features=item_features).mean()\n",
    "    output = -test_precision\n",
    "\n",
    "    if np.abs(output+1) < 0.01 or output < -1.0:\n",
    "        output = 0.0\n",
    "\n",
    "    return output"
   ]
  },
  {
   "cell_type": "code",
   "execution_count": null,
   "id": "9b889fec",
   "metadata": {},
   "outputs": [
    {
     "name": "stdout",
     "output_type": "stream",
     "text": [
      "\r",
      "  0%|          | 0/10 [00:00<?, ?trial/s, best loss=?]"
     ]
    }
   ],
   "source": [
    "best_params = fmin(fn=objective, space=space, algo=tpe.suggest, max_evals=10, trials=trials)"
   ]
  },
  {
   "cell_type": "code",
   "execution_count": 31,
   "id": "eeeed595",
   "metadata": {
    "scrolled": true
   },
   "outputs": [
    {
     "name": "stdout",
     "output_type": "stream",
     "text": [
      "0.05 2\n"
     ]
    }
   ],
   "source": [
    "learning_rate = round(best_params['learning_rate'], 3)\n",
    "no_components = best_params['no_components']\n",
    "print(learning_rate, no_components)"
   ]
  },
  {
   "cell_type": "code",
   "execution_count": 200,
   "id": "de02ac4d",
   "metadata": {},
   "outputs": [],
   "source": [
    "learning_rate = 0.03\n",
    "no_components = 3"
   ]
  },
  {
   "cell_type": "code",
   "execution_count": 201,
   "id": "22d5c726",
   "metadata": {},
   "outputs": [
    {
     "name": "stderr",
     "output_type": "stream",
     "text": [
      "Epoch: 100%|██████████| 10/10 [00:08<00:00,  1.17it/s]\n"
     ]
    },
    {
     "data": {
      "text/plain": [
       "<lightfm.lightfm.LightFM at 0x2886d4f44f0>"
      ]
     },
     "execution_count": 201,
     "metadata": {},
     "output_type": "execute_result"
    }
   ],
   "source": [
    "model = LightFM(no_components=no_components,\n",
    "                learning_schedule='adagrad',\n",
    "                loss='warp',\n",
    "                learning_rate=learning_rate,\n",
    "                random_state=0)\n",
    "\n",
    "model.fit(interactions=interactions,\n",
    "          item_features=cloth_features,\n",
    "          user_features=user_features,\n",
    "          sample_weight=weights,\n",
    "          epochs=10,\n",
    "          verbose=True)"
   ]
  },
  {
   "cell_type": "code",
   "execution_count": 202,
   "id": "b280b0eb",
   "metadata": {},
   "outputs": [],
   "source": [
    "# 모델 저장하기\n",
    "import pickle\n",
    "with open('model_size_pants.pickle', 'wb') as fw:\n",
    "    pickle.dump(model, fw)"
   ]
  },
  {
   "cell_type": "code",
   "execution_count": 203,
   "id": "4583e5a9",
   "metadata": {},
   "outputs": [],
   "source": [
    "# 모델 불러오기\n",
    "import pickle\n",
    "with open('model_size_pants.pickle', 'rb') as f:\n",
    "    model_pants = pickle.load(f)"
   ]
  },
  {
   "cell_type": "code",
   "execution_count": 204,
   "id": "f4905096",
   "metadata": {},
   "outputs": [],
   "source": [
    "def sample_recommendation(model, idx, user_ids):\n",
    "    cnt = 1\n",
    "    for user_id in user_ids:\n",
    "        if cnt==1:\n",
    "            scores = model.predict(int(user_meta[user_meta.userId==user_id].index[0]), np.arange(len(cloth_meta)))\n",
    "        else:\n",
    "            scores += model.predict(int(user_meta[user_meta.userId==user_id].index[0]), np.arange(len(cloth_meta)))\n",
    "    \n",
    "    top_items = idx[np.argsort(-scores)]\n",
    "    \n",
    "    sub_clothes = []\n",
    "\n",
    "    for x in top_items[:10]:\n",
    "        sub_clothes.append(x)\n",
    "    \n",
    "    rec_clothes = []\n",
    "    \n",
    "    for i in sub_clothes:\n",
    "        rec_clothes.append(cloth_meta[cloth_meta.idx==i].newClothId.iloc[0])\n",
    "    \n",
    "    return rec_clothes"
   ]
  },
  {
   "cell_type": "code",
   "execution_count": 205,
   "id": "7f8e4079",
   "metadata": {
    "scrolled": false
   },
   "outputs": [
    {
     "data": {
      "text/plain": [
       "[185616414367,\n",
       " 20926756690,\n",
       " 143216627295,\n",
       " 166980648348,\n",
       " 203291016298,\n",
       " 222230112640,\n",
       " 21061069363,\n",
       " 20819699449,\n",
       " 135793715512,\n",
       " 120964158399]"
      ]
     },
     "execution_count": 205,
     "metadata": {},
     "output_type": "execute_result"
    }
   ],
   "source": [
    "rec_size_top = sample_recommendation(model_pants, cloth_meta.idx, real_user)\n",
    "rec_size_top"
   ]
  },
  {
   "cell_type": "code",
   "execution_count": 60,
   "id": "9b2b5a68",
   "metadata": {},
   "outputs": [
    {
     "data": {
      "text/plain": [
       "[1281758, 968344, 1110912]"
      ]
     },
     "execution_count": 60,
     "metadata": {},
     "output_type": "execute_result"
    }
   ],
   "source": [
    "real_user"
   ]
  },
  {
   "cell_type": "code",
   "execution_count": 206,
   "id": "98c4dc9a",
   "metadata": {},
   "outputs": [],
   "source": [
    "cloth_meta.insert(10, 'what', 3, True)\n",
    "user_meta.insert(5, 'what', 3, True)"
   ]
  },
  {
   "cell_type": "code",
   "execution_count": 207,
   "id": "f763579d",
   "metadata": {
    "scrolled": false
   },
   "outputs": [
    {
     "data": {
      "text/html": [
       "<div>\n",
       "<style scoped>\n",
       "    .dataframe tbody tr th:only-of-type {\n",
       "        vertical-align: middle;\n",
       "    }\n",
       "\n",
       "    .dataframe tbody tr th {\n",
       "        vertical-align: top;\n",
       "    }\n",
       "\n",
       "    .dataframe thead th {\n",
       "        text-align: right;\n",
       "    }\n",
       "</style>\n",
       "<table border=\"1\" class=\"dataframe\">\n",
       "  <thead>\n",
       "    <tr style=\"text-align: right;\">\n",
       "      <th></th>\n",
       "      <th>newClothId</th>\n",
       "      <th>idx</th>\n",
       "      <th>what</th>\n",
       "    </tr>\n",
       "  </thead>\n",
       "  <tbody>\n",
       "    <tr>\n",
       "      <th>0</th>\n",
       "      <td>16225354884</td>\n",
       "      <td>11720</td>\n",
       "      <td>3</td>\n",
       "    </tr>\n",
       "    <tr>\n",
       "      <th>1</th>\n",
       "      <td>14988915210</td>\n",
       "      <td>15601</td>\n",
       "      <td>3</td>\n",
       "    </tr>\n",
       "    <tr>\n",
       "      <th>2</th>\n",
       "      <td>19409615513</td>\n",
       "      <td>29005</td>\n",
       "      <td>3</td>\n",
       "    </tr>\n",
       "    <tr>\n",
       "      <th>3</th>\n",
       "      <td>20193975542</td>\n",
       "      <td>22897</td>\n",
       "      <td>3</td>\n",
       "    </tr>\n",
       "    <tr>\n",
       "      <th>4</th>\n",
       "      <td>18466875743</td>\n",
       "      <td>17729</td>\n",
       "      <td>3</td>\n",
       "    </tr>\n",
       "    <tr>\n",
       "      <th>...</th>\n",
       "      <td>...</td>\n",
       "      <td>...</td>\n",
       "      <td>...</td>\n",
       "    </tr>\n",
       "    <tr>\n",
       "      <th>33525</th>\n",
       "      <td>180323169094</td>\n",
       "      <td>6877</td>\n",
       "      <td>3</td>\n",
       "    </tr>\n",
       "    <tr>\n",
       "      <th>33526</th>\n",
       "      <td>182037869103</td>\n",
       "      <td>19148</td>\n",
       "      <td>3</td>\n",
       "    </tr>\n",
       "    <tr>\n",
       "      <th>33527</th>\n",
       "      <td>194119769137</td>\n",
       "      <td>18084</td>\n",
       "      <td>3</td>\n",
       "    </tr>\n",
       "    <tr>\n",
       "      <th>33528</th>\n",
       "      <td>179115969145</td>\n",
       "      <td>16294</td>\n",
       "      <td>3</td>\n",
       "    </tr>\n",
       "    <tr>\n",
       "      <th>33529</th>\n",
       "      <td>153871869161</td>\n",
       "      <td>12900</td>\n",
       "      <td>3</td>\n",
       "    </tr>\n",
       "  </tbody>\n",
       "</table>\n",
       "<p>33530 rows × 3 columns</p>\n",
       "</div>"
      ],
      "text/plain": [
       "         newClothId    idx  what\n",
       "0       16225354884  11720     3\n",
       "1       14988915210  15601     3\n",
       "2       19409615513  29005     3\n",
       "3       20193975542  22897     3\n",
       "4       18466875743  17729     3\n",
       "...             ...    ...   ...\n",
       "33525  180323169094   6877     3\n",
       "33526  182037869103  19148     3\n",
       "33527  194119769137  18084     3\n",
       "33528  179115969145  16294     3\n",
       "33529  153871869161  12900     3\n",
       "\n",
       "[33530 rows x 3 columns]"
      ]
     },
     "execution_count": 207,
     "metadata": {},
     "output_type": "execute_result"
    }
   ],
   "source": [
    "cloth_meta = cloth_meta[[\"newClothId\", \"idx\", 'what']]\n",
    "cloth_meta"
   ]
  },
  {
   "cell_type": "code",
   "execution_count": 408,
   "id": "16f1dc96",
   "metadata": {},
   "outputs": [],
   "source": [
    "cloth_meta.to_json('size_pants_cloth_meta.json', orient='records', force_ascii=False)\n",
    "user_meta.to_json('size_pants_user_meta.json', orient='records', force_ascii=False)"
   ]
  },
  {
   "cell_type": "code",
   "execution_count": 405,
   "id": "29c65213",
   "metadata": {},
   "outputs": [],
   "source": [
    "# user_meta.insert(0, 'how', 3, True)\n",
    "user_meta.insert(0, 'what', 3, True)"
   ]
  },
  {
   "cell_type": "code",
   "execution_count": 406,
   "id": "999677ea",
   "metadata": {},
   "outputs": [],
   "source": [
    "user_meta = user_meta.drop(['userMale', 'userFemale', 'userHeight', 'userWeight'], axis=1)"
   ]
  },
  {
   "cell_type": "code",
   "execution_count": 407,
   "id": "4554c0d8",
   "metadata": {
    "scrolled": false
   },
   "outputs": [
    {
     "data": {
      "text/html": [
       "<div>\n",
       "<style scoped>\n",
       "    .dataframe tbody tr th:only-of-type {\n",
       "        vertical-align: middle;\n",
       "    }\n",
       "\n",
       "    .dataframe tbody tr th {\n",
       "        vertical-align: top;\n",
       "    }\n",
       "\n",
       "    .dataframe thead th {\n",
       "        text-align: right;\n",
       "    }\n",
       "</style>\n",
       "<table border=\"1\" class=\"dataframe\">\n",
       "  <thead>\n",
       "    <tr style=\"text-align: right;\">\n",
       "      <th></th>\n",
       "      <th>what</th>\n",
       "      <th>userId</th>\n",
       "    </tr>\n",
       "  </thead>\n",
       "  <tbody>\n",
       "    <tr>\n",
       "      <th>0</th>\n",
       "      <td>3</td>\n",
       "      <td>14135</td>\n",
       "    </tr>\n",
       "    <tr>\n",
       "      <th>1</th>\n",
       "      <td>3</td>\n",
       "      <td>14141</td>\n",
       "    </tr>\n",
       "    <tr>\n",
       "      <th>2</th>\n",
       "      <td>3</td>\n",
       "      <td>14146</td>\n",
       "    </tr>\n",
       "    <tr>\n",
       "      <th>3</th>\n",
       "      <td>3</td>\n",
       "      <td>14148</td>\n",
       "    </tr>\n",
       "    <tr>\n",
       "      <th>4</th>\n",
       "      <td>3</td>\n",
       "      <td>14158</td>\n",
       "    </tr>\n",
       "    <tr>\n",
       "      <th>...</th>\n",
       "      <td>...</td>\n",
       "      <td>...</td>\n",
       "    </tr>\n",
       "    <tr>\n",
       "      <th>115960</th>\n",
       "      <td>3</td>\n",
       "      <td>488479</td>\n",
       "    </tr>\n",
       "    <tr>\n",
       "      <th>115961</th>\n",
       "      <td>3</td>\n",
       "      <td>488483</td>\n",
       "    </tr>\n",
       "    <tr>\n",
       "      <th>115962</th>\n",
       "      <td>3</td>\n",
       "      <td>488490</td>\n",
       "    </tr>\n",
       "    <tr>\n",
       "      <th>115963</th>\n",
       "      <td>3</td>\n",
       "      <td>488491</td>\n",
       "    </tr>\n",
       "    <tr>\n",
       "      <th>115964</th>\n",
       "      <td>3</td>\n",
       "      <td>488502</td>\n",
       "    </tr>\n",
       "  </tbody>\n",
       "</table>\n",
       "<p>115965 rows × 2 columns</p>\n",
       "</div>"
      ],
      "text/plain": [
       "        what  userId\n",
       "0          3   14135\n",
       "1          3   14141\n",
       "2          3   14146\n",
       "3          3   14148\n",
       "4          3   14158\n",
       "...      ...     ...\n",
       "115960     3  488479\n",
       "115961     3  488483\n",
       "115962     3  488490\n",
       "115963     3  488491\n",
       "115964     3  488502\n",
       "\n",
       "[115965 rows x 2 columns]"
      ]
     },
     "execution_count": 407,
     "metadata": {},
     "output_type": "execute_result"
    }
   ],
   "source": [
    "user_meta"
   ]
  },
  {
   "cell_type": "code",
   "execution_count": null,
   "id": "ff36f982",
   "metadata": {},
   "outputs": [],
   "source": []
  },
  {
   "cell_type": "code",
   "execution_count": null,
   "id": "e7f1120a",
   "metadata": {},
   "outputs": [],
   "source": []
  },
  {
   "cell_type": "markdown",
   "id": "921921fa",
   "metadata": {},
   "source": [
    "# Onepiece"
   ]
  },
  {
   "cell_type": "code",
   "execution_count": 409,
   "id": "ce59ad5e",
   "metadata": {},
   "outputs": [],
   "source": [
    "transaction = pd.read_json('./transaction_onepiece.json')\n",
    "cloth_meta = pd.read_json('./final_onepiece.json')\n",
    "user_meta = pd.read_json('./user_onepiece.json')"
   ]
  },
  {
   "cell_type": "code",
   "execution_count": 410,
   "id": "e3585e0b",
   "metadata": {},
   "outputs": [],
   "source": [
    "unique_id_cloth_meta = list(set(cloth_meta.newClothId))\n",
    "transaction=transaction.loc[transaction.newClothId.isin(unique_id_cloth_meta),:]"
   ]
  },
  {
   "cell_type": "code",
   "execution_count": 411,
   "id": "4ceb9200",
   "metadata": {
    "scrolled": false
   },
   "outputs": [],
   "source": [
    "a = transaction[['newClothId']]\n",
    "a.insert(1, 'idx', 0, True)\n",
    "a = a.drop_duplicates(['newClothId'])\n",
    "a.idx = range(len(a))"
   ]
  },
  {
   "cell_type": "code",
   "execution_count": 412,
   "id": "e88e06f0",
   "metadata": {},
   "outputs": [],
   "source": [
    "transaction = pd.merge(transaction, a, how=\"left\", on=\"newClothId\")"
   ]
  },
  {
   "cell_type": "code",
   "execution_count": 413,
   "id": "6defe4f1",
   "metadata": {
    "scrolled": true
   },
   "outputs": [],
   "source": [
    "user_meta = user_meta[size_user_column]"
   ]
  },
  {
   "cell_type": "code",
   "execution_count": 414,
   "id": "f3ff916a",
   "metadata": {},
   "outputs": [
    {
     "data": {
      "text/html": [
       "<div>\n",
       "<style scoped>\n",
       "    .dataframe tbody tr th:only-of-type {\n",
       "        vertical-align: middle;\n",
       "    }\n",
       "\n",
       "    .dataframe tbody tr th {\n",
       "        vertical-align: top;\n",
       "    }\n",
       "\n",
       "    .dataframe thead th {\n",
       "        text-align: right;\n",
       "    }\n",
       "</style>\n",
       "<table border=\"1\" class=\"dataframe\">\n",
       "  <thead>\n",
       "    <tr style=\"text-align: right;\">\n",
       "      <th></th>\n",
       "      <th>userId</th>\n",
       "      <th>userMale</th>\n",
       "      <th>userFemale</th>\n",
       "      <th>userHeight</th>\n",
       "      <th>userWeight</th>\n",
       "    </tr>\n",
       "  </thead>\n",
       "  <tbody>\n",
       "    <tr>\n",
       "      <th>0</th>\n",
       "      <td>8297</td>\n",
       "      <td>0</td>\n",
       "      <td>1</td>\n",
       "      <td>160</td>\n",
       "      <td>49</td>\n",
       "    </tr>\n",
       "    <tr>\n",
       "      <th>1</th>\n",
       "      <td>8298</td>\n",
       "      <td>0</td>\n",
       "      <td>1</td>\n",
       "      <td>157</td>\n",
       "      <td>46</td>\n",
       "    </tr>\n",
       "    <tr>\n",
       "      <th>2</th>\n",
       "      <td>8299</td>\n",
       "      <td>0</td>\n",
       "      <td>1</td>\n",
       "      <td>161</td>\n",
       "      <td>50</td>\n",
       "    </tr>\n",
       "    <tr>\n",
       "      <th>3</th>\n",
       "      <td>8300</td>\n",
       "      <td>0</td>\n",
       "      <td>1</td>\n",
       "      <td>164</td>\n",
       "      <td>47</td>\n",
       "    </tr>\n",
       "    <tr>\n",
       "      <th>4</th>\n",
       "      <td>8301</td>\n",
       "      <td>0</td>\n",
       "      <td>1</td>\n",
       "      <td>164</td>\n",
       "      <td>50</td>\n",
       "    </tr>\n",
       "    <tr>\n",
       "      <th>...</th>\n",
       "      <td>...</td>\n",
       "      <td>...</td>\n",
       "      <td>...</td>\n",
       "      <td>...</td>\n",
       "      <td>...</td>\n",
       "    </tr>\n",
       "    <tr>\n",
       "      <th>5832</th>\n",
       "      <td>14129</td>\n",
       "      <td>0</td>\n",
       "      <td>1</td>\n",
       "      <td>168</td>\n",
       "      <td>56</td>\n",
       "    </tr>\n",
       "    <tr>\n",
       "      <th>5833</th>\n",
       "      <td>14130</td>\n",
       "      <td>0</td>\n",
       "      <td>1</td>\n",
       "      <td>166</td>\n",
       "      <td>51</td>\n",
       "    </tr>\n",
       "    <tr>\n",
       "      <th>5834</th>\n",
       "      <td>14131</td>\n",
       "      <td>0</td>\n",
       "      <td>1</td>\n",
       "      <td>160</td>\n",
       "      <td>50</td>\n",
       "    </tr>\n",
       "    <tr>\n",
       "      <th>5835</th>\n",
       "      <td>14132</td>\n",
       "      <td>0</td>\n",
       "      <td>1</td>\n",
       "      <td>166</td>\n",
       "      <td>48</td>\n",
       "    </tr>\n",
       "    <tr>\n",
       "      <th>5836</th>\n",
       "      <td>14133</td>\n",
       "      <td>0</td>\n",
       "      <td>1</td>\n",
       "      <td>170</td>\n",
       "      <td>50</td>\n",
       "    </tr>\n",
       "  </tbody>\n",
       "</table>\n",
       "<p>5837 rows × 5 columns</p>\n",
       "</div>"
      ],
      "text/plain": [
       "      userId  userMale  userFemale  userHeight  userWeight\n",
       "0       8297         0           1         160          49\n",
       "1       8298         0           1         157          46\n",
       "2       8299         0           1         161          50\n",
       "3       8300         0           1         164          47\n",
       "4       8301         0           1         164          50\n",
       "...      ...       ...         ...         ...         ...\n",
       "5832   14129         0           1         168          56\n",
       "5833   14130         0           1         166          51\n",
       "5834   14131         0           1         160          50\n",
       "5835   14132         0           1         166          48\n",
       "5836   14133         0           1         170          50\n",
       "\n",
       "[5837 rows x 5 columns]"
      ]
     },
     "execution_count": 414,
     "metadata": {},
     "output_type": "execute_result"
    }
   ],
   "source": [
    "unique_id_user_meta = list(set(transaction.userId))\n",
    "user_meta=user_meta.loc[user_meta.userId.isin(unique_id_user_meta),:]\n",
    "user_meta = user_meta.reset_index(drop=True)\n",
    "user_meta"
   ]
  },
  {
   "cell_type": "code",
   "execution_count": 415,
   "id": "572e35e1",
   "metadata": {
    "scrolled": true
   },
   "outputs": [
    {
     "data": {
      "text/html": [
       "<div>\n",
       "<style scoped>\n",
       "    .dataframe tbody tr th:only-of-type {\n",
       "        vertical-align: middle;\n",
       "    }\n",
       "\n",
       "    .dataframe tbody tr th {\n",
       "        vertical-align: top;\n",
       "    }\n",
       "\n",
       "    .dataframe thead th {\n",
       "        text-align: right;\n",
       "    }\n",
       "</style>\n",
       "<table border=\"1\" class=\"dataframe\">\n",
       "  <thead>\n",
       "    <tr style=\"text-align: right;\">\n",
       "      <th></th>\n",
       "      <th>userId</th>\n",
       "      <th>userMale</th>\n",
       "      <th>userFemale</th>\n",
       "      <th>userHeight</th>\n",
       "      <th>userWeight</th>\n",
       "    </tr>\n",
       "  </thead>\n",
       "  <tbody>\n",
       "    <tr>\n",
       "      <th>0</th>\n",
       "      <td>8299</td>\n",
       "      <td>0</td>\n",
       "      <td>1</td>\n",
       "      <td>180</td>\n",
       "      <td>65</td>\n",
       "    </tr>\n",
       "  </tbody>\n",
       "</table>\n",
       "</div>"
      ],
      "text/plain": [
       "   userId  userMale  userFemale  userHeight  userWeight\n",
       "0    8299         0           1         180          65"
      ]
     },
     "execution_count": 415,
     "metadata": {},
     "output_type": "execute_result"
    }
   ],
   "source": [
    "new_user = pd.DataFrame(user_meta.loc[0]).transpose()\n",
    "new_user_idx = new_user.index\n",
    "new_user.loc[new_user_idx, ('userId')] = 8299\n",
    "new_user.loc[new_user_idx, ('userMale')] = 0\n",
    "new_user.loc[new_user_idx, ('userFemale')] = 1\n",
    "new_user.loc[new_user_idx, ('userHeight')] = 180\n",
    "new_user.loc[new_user_idx, ('userWeight')] = 65\n",
    "new_user = new_user[['userId', 'userMale', 'userFemale', 'userHeight', 'userWeight']]\n",
    "new_user"
   ]
  },
  {
   "cell_type": "code",
   "execution_count": 416,
   "id": "1505e869",
   "metadata": {
    "scrolled": false
   },
   "outputs": [],
   "source": [
    "sub_user = user_meta[user_meta.userFemale==new_user.userFemale.iloc[0]]"
   ]
  },
  {
   "cell_type": "code",
   "execution_count": 417,
   "id": "d0b48368",
   "metadata": {
    "scrolled": true
   },
   "outputs": [
    {
     "name": "stderr",
     "output_type": "stream",
     "text": [
      "C:\\Users\\SSAFY\\AppData\\Local\\Programs\\Python\\Python39\\lib\\site-packages\\pandas\\core\\generic.py:5516: SettingWithCopyWarning: \n",
      "A value is trying to be set on a copy of a slice from a DataFrame.\n",
      "Try using .loc[row_indexer,col_indexer] = value instead\n",
      "\n",
      "See the caveats in the documentation: https://pandas.pydata.org/pandas-docs/stable/user_guide/indexing.html#returning-a-view-versus-a-copy\n",
      "  self[name] = value\n"
     ]
    }
   ],
   "source": [
    "sub_user.userHeight = sub_user.apply(lambda x: abs(x.userHeight-new_user.userHeight.iloc[0]), axis=1)\n",
    "sub_user.userWeight = sub_user.apply(lambda x: abs(x.userWeight-new_user.userWeight.iloc[0]), axis=1)"
   ]
  },
  {
   "cell_type": "code",
   "execution_count": 418,
   "id": "e9c0282f",
   "metadata": {},
   "outputs": [],
   "source": [
    "sub_user.insert(3, 'sizeSum', 0, True)\n",
    "sub_user.sizeSum = sub_user.apply(lambda x: x.userHeight + x.userWeight, axis=1)"
   ]
  },
  {
   "cell_type": "code",
   "execution_count": 419,
   "id": "e4c76a4e",
   "metadata": {},
   "outputs": [
    {
     "name": "stdout",
     "output_type": "stream",
     "text": [
      "[10546, 8442, 13398]\n"
     ]
    }
   ],
   "source": [
    "real_user = []\n",
    "for i in range(3):\n",
    "    real_user.append(sub_user.sort_values('sizeSum').iloc[i].userId)\n",
    "real_user = [int(i) for i in real_user]\n",
    "print(real_user)"
   ]
  },
  {
   "cell_type": "code",
   "execution_count": 420,
   "id": "f6618cdf",
   "metadata": {},
   "outputs": [],
   "source": [
    "cloth_meta = cloth_meta[size_cloth_column]"
   ]
  },
  {
   "cell_type": "code",
   "execution_count": 421,
   "id": "d69a64dc",
   "metadata": {},
   "outputs": [],
   "source": [
    "cloth_meta = pd.merge(cloth_meta, a, how=\"left\", on=\"newClothId\")"
   ]
  },
  {
   "cell_type": "code",
   "execution_count": 422,
   "id": "9b2d9504",
   "metadata": {},
   "outputs": [
    {
     "data": {
      "text/plain": [
       "2047"
      ]
     },
     "execution_count": 422,
     "metadata": {},
     "output_type": "execute_result"
    }
   ],
   "source": [
    "unique_cloth_id = list(transaction['newClothId'].unique())\n",
    "len(unique_cloth_id)"
   ]
  },
  {
   "cell_type": "code",
   "execution_count": 423,
   "id": "b27b96b0",
   "metadata": {},
   "outputs": [],
   "source": [
    "a = cloth_meta.newClothId.isin(unique_cloth_id)\n",
    "cloth_meta = cloth_meta[a]\n",
    "cloth_meta.index = range(len(cloth_meta))"
   ]
  },
  {
   "cell_type": "code",
   "execution_count": 424,
   "id": "677ead7b",
   "metadata": {
    "scrolled": false
   },
   "outputs": [],
   "source": [
    "cloth_meta.idx = cloth_meta.idx.astype('int')"
   ]
  },
  {
   "cell_type": "code",
   "execution_count": 425,
   "id": "44d2f2e1",
   "metadata": {},
   "outputs": [],
   "source": [
    "transaction_source = [(transaction['userId'][i], transaction['idx'][i]) for i in range(transaction.shape[0])]"
   ]
  },
  {
   "cell_type": "code",
   "execution_count": 426,
   "id": "d80af2d3",
   "metadata": {},
   "outputs": [
    {
     "name": "stdout",
     "output_type": "stream",
     "text": [
      "userId의 유니크 개수 : 5837\n",
      "clothId의 유니크 개수 : 2047\n",
      "user테이블의 userId의 유니크 개수 : 5837\n",
      "cloth테이블의 clothId의 유니크 개수 : 2047\n"
     ]
    }
   ],
   "source": [
    "print('userId의 유니크 개수 :', len(transaction.userId.unique()))\n",
    "print('clothId의 유니크 개수 :', len(transaction.idx.unique()))\n",
    "print('user테이블의 userId의 유니크 개수 :', len(user_meta.userId.unique()))\n",
    "print('cloth테이블의 clothId의 유니크 개수 :', len(cloth_meta.idx.unique()))"
   ]
  },
  {
   "cell_type": "code",
   "execution_count": 247,
   "id": "ee472fe0",
   "metadata": {},
   "outputs": [],
   "source": [
    "user_features_source = [(user_meta['userId'][i],\n",
    "                        [user_meta['userMale'][i], user_meta['userFemale'][i], user_meta['userHeight'][i],\n",
    "                        user_meta['userWeight'][i]]) for i in range(user_meta.shape[0])]"
   ]
  },
  {
   "cell_type": "code",
   "execution_count": 248,
   "id": "5a7dd0b2",
   "metadata": {},
   "outputs": [],
   "source": [
    "cloth_features_source = [(cloth_meta['idx'][i],\n",
    "                        [cloth_meta['clothMale'][i], cloth_meta['clothFemale'][i],\n",
    "                         cloth_meta['userHeight'][i], cloth_meta['userWeight'][i] ]) for i in range(cloth_meta.shape[0])]"
   ]
  },
  {
   "cell_type": "code",
   "execution_count": 249,
   "id": "106bbb80",
   "metadata": {},
   "outputs": [],
   "source": [
    "dataset = Dataset()\n",
    "dataset.fit(users=transaction['userId'].unique(),\n",
    "           items=transaction['idx'].unique(),\n",
    "           user_features=user_meta[user_meta.columns[1:]].values.flatten(),\n",
    "           item_features=cloth_meta[cloth_meta.columns[1:]].values.flatten())"
   ]
  },
  {
   "cell_type": "code",
   "execution_count": 250,
   "id": "11a42356",
   "metadata": {},
   "outputs": [],
   "source": [
    "interactions, weights = dataset.build_interactions(transaction_source)"
   ]
  },
  {
   "cell_type": "code",
   "execution_count": 251,
   "id": "908b3a37",
   "metadata": {},
   "outputs": [],
   "source": [
    "user_features = dataset.build_user_features(user_features_source)"
   ]
  },
  {
   "cell_type": "code",
   "execution_count": 252,
   "id": "7d580846",
   "metadata": {
    "scrolled": true
   },
   "outputs": [],
   "source": [
    "cloth_features = dataset.build_item_features(cloth_features_source)"
   ]
  },
  {
   "cell_type": "code",
   "execution_count": 253,
   "id": "df956cdc",
   "metadata": {},
   "outputs": [],
   "source": [
    "train, test = random_train_test_split(interactions, test_percentage=0.2)\n",
    "train, test = train.tocsr().tocoo(), test.tocsr().tocoo()\n",
    "train_weights = train.multiply(weights).tocoo()\n",
    "test_weights = test.multiply(weights).tocoo()"
   ]
  },
  {
   "cell_type": "code",
   "execution_count": 261,
   "id": "03c32a76",
   "metadata": {},
   "outputs": [],
   "source": [
    "# no_components: 10\n",
    "# learning_rate : 0.05\n",
    "trials = Trials()\n",
    "space = [hp.choice('no_components', range(10, 50, 5)),\n",
    "         hp.uniform('learning_rate', 0.05, 0.1)]"
   ]
  },
  {
   "cell_type": "code",
   "execution_count": 262,
   "id": "c147633f",
   "metadata": {},
   "outputs": [],
   "source": [
    "# Define Objective Function\n",
    "def objective(params):\n",
    "    no_components, learning_rate = params\n",
    "    model = LightFM(no_components=no_components,\n",
    "                    learning_schedule='adagrad',\n",
    "                    loss='warp',\n",
    "                    learning_rate=learning_rate,\n",
    "                    random_state=0)\n",
    "\n",
    "    model.fit(interactions=train,\n",
    "              item_features=cloth_features,\n",
    "              user_features=user_features,\n",
    "              sample_weight=train_weights,\n",
    "              epochs=3,\n",
    "              verbose=False)\n",
    "\n",
    "    test_precision = precision_at_k(model, test, k=5, item_features=cloth_features, user_features=user_features).mean()\n",
    "    print(\"no_comp: {}, lrn_rate: {:.5f}, precision: {:.5f}\".format(\n",
    "      no_components, learning_rate, test_precision))\n",
    "    # test_auc = auc_score(model, test, item_features=item_features).mean()\n",
    "    output = -test_precision\n",
    "\n",
    "    if np.abs(output+1) < 0.01 or output < -1.0:\n",
    "        output = 0.0\n",
    "\n",
    "    return output"
   ]
  },
  {
   "cell_type": "code",
   "execution_count": 263,
   "id": "9b889fec",
   "metadata": {},
   "outputs": [
    {
     "name": "stdout",
     "output_type": "stream",
     "text": [
      "no_comp: 20, lrn_rate: 0.09204, precision: 0.01574    \n",
      "no_comp: 15, lrn_rate: 0.05984, precision: 0.01304                                \n",
      "no_comp: 15, lrn_rate: 0.08310, precision: 0.01274                                \n",
      "no_comp: 25, lrn_rate: 0.06777, precision: 0.01304                                \n",
      "no_comp: 20, lrn_rate: 0.06705, precision: 0.01319                                \n",
      "no_comp: 35, lrn_rate: 0.07215, precision: 0.01484                                \n",
      "no_comp: 15, lrn_rate: 0.07984, precision: 0.01274                                \n",
      "no_comp: 30, lrn_rate: 0.05666, precision: 0.01364                                \n",
      "no_comp: 10, lrn_rate: 0.06324, precision: 0.01394                                \n",
      "no_comp: 25, lrn_rate: 0.08041, precision: 0.01304                                \n",
      "100%|██████████| 10/10 [00:05<00:00,  1.69trial/s, best loss: -0.01574212871491909]\n"
     ]
    }
   ],
   "source": [
    "best_params = fmin(fn=objective, space=space, algo=tpe.suggest, max_evals=10, trials=trials)"
   ]
  },
  {
   "cell_type": "code",
   "execution_count": 264,
   "id": "eeeed595",
   "metadata": {
    "scrolled": true
   },
   "outputs": [
    {
     "name": "stdout",
     "output_type": "stream",
     "text": [
      "0.092 2\n"
     ]
    }
   ],
   "source": [
    "learning_rate = round(best_params['learning_rate'], 3)\n",
    "no_components = best_params['no_components']\n",
    "print(learning_rate, no_components)"
   ]
  },
  {
   "cell_type": "code",
   "execution_count": 265,
   "id": "22d5c726",
   "metadata": {},
   "outputs": [
    {
     "name": "stderr",
     "output_type": "stream",
     "text": [
      "Epoch: 100%|██████████| 10/10 [00:00<00:00, 56.18it/s]\n"
     ]
    },
    {
     "data": {
      "text/plain": [
       "<lightfm.lightfm.LightFM at 0x28a8ea31e50>"
      ]
     },
     "execution_count": 265,
     "metadata": {},
     "output_type": "execute_result"
    }
   ],
   "source": [
    "model = LightFM(no_components=no_components,\n",
    "                learning_schedule='adagrad',\n",
    "                loss='warp',\n",
    "                learning_rate=learning_rate,\n",
    "                random_state=0)\n",
    "\n",
    "model.fit(interactions=interactions,\n",
    "          item_features=cloth_features,\n",
    "          user_features=user_features,\n",
    "          sample_weight=weights,\n",
    "          epochs=10,\n",
    "          verbose=True)"
   ]
  },
  {
   "cell_type": "code",
   "execution_count": 266,
   "id": "b280b0eb",
   "metadata": {},
   "outputs": [],
   "source": [
    "# 모델 저장하기\n",
    "import pickle\n",
    "with open('model_size_onepiece.pickle', 'wb') as fw:\n",
    "    pickle.dump(model, fw)"
   ]
  },
  {
   "cell_type": "code",
   "execution_count": 267,
   "id": "4583e5a9",
   "metadata": {},
   "outputs": [],
   "source": [
    "# 모델 불러오기\n",
    "import pickle\n",
    "with open('model_size_onepiece.pickle', 'rb') as f:\n",
    "    model_onepiece = pickle.load(f)"
   ]
  },
  {
   "cell_type": "code",
   "execution_count": 268,
   "id": "f4905096",
   "metadata": {},
   "outputs": [],
   "source": [
    "def sample_recommendation(model, idx, user_ids):\n",
    "    cnt = 1\n",
    "    for user_id in user_ids:\n",
    "        if cnt==1:\n",
    "            scores = model.predict(int(user_meta[user_meta.userId==user_id].index[0]), np.arange(len(cloth_meta)))\n",
    "        else:\n",
    "            scores += model.predict(int(user_meta[user_meta.userId==user_id].index[0]), np.arange(len(cloth_meta)))\n",
    "    \n",
    "    top_items = idx[np.argsort(-scores)]\n",
    "    \n",
    "    sub_clothes = []\n",
    "\n",
    "    for x in top_items[:10]:\n",
    "        sub_clothes.append(x)\n",
    "    \n",
    "    rec_clothes = []\n",
    "    \n",
    "    for i in sub_clothes:\n",
    "        rec_clothes.append(cloth_meta[cloth_meta.idx==i].newClothId.iloc[0])\n",
    "    \n",
    "    return rec_clothes"
   ]
  },
  {
   "cell_type": "code",
   "execution_count": 269,
   "id": "7f8e4079",
   "metadata": {
    "scrolled": false
   },
   "outputs": [
    {
     "data": {
      "text/plain": [
       "[19345122958,\n",
       " 21258303010,\n",
       " 17957783204,\n",
       " 19095243432,\n",
       " 19186162758,\n",
       " 15036583193,\n",
       " 19952692865,\n",
       " 17971332979,\n",
       " 20163412966,\n",
       " 23792962867]"
      ]
     },
     "execution_count": 269,
     "metadata": {},
     "output_type": "execute_result"
    }
   ],
   "source": [
    "rec_size_top = sample_recommendation(model_onepiece, cloth_meta.idx, real_user)\n",
    "rec_size_top"
   ]
  },
  {
   "cell_type": "code",
   "execution_count": 270,
   "id": "b115ca5e",
   "metadata": {},
   "outputs": [
    {
     "data": {
      "text/plain": [
       "[10546, 8442, 13398]"
      ]
     },
     "execution_count": 270,
     "metadata": {},
     "output_type": "execute_result"
    }
   ],
   "source": [
    "real_user"
   ]
  },
  {
   "cell_type": "code",
   "execution_count": 288,
   "id": "98c4dc9a",
   "metadata": {},
   "outputs": [],
   "source": [
    "cloth_meta.insert(2, 'what', 4, True)\n",
    "user_meta.insert(5, 'what', 4, True)"
   ]
  },
  {
   "cell_type": "code",
   "execution_count": 276,
   "id": "f763579d",
   "metadata": {
    "scrolled": false
   },
   "outputs": [
    {
     "data": {
      "text/html": [
       "<div>\n",
       "<style scoped>\n",
       "    .dataframe tbody tr th:only-of-type {\n",
       "        vertical-align: middle;\n",
       "    }\n",
       "\n",
       "    .dataframe tbody tr th {\n",
       "        vertical-align: top;\n",
       "    }\n",
       "\n",
       "    .dataframe thead th {\n",
       "        text-align: right;\n",
       "    }\n",
       "</style>\n",
       "<table border=\"1\" class=\"dataframe\">\n",
       "  <thead>\n",
       "    <tr style=\"text-align: right;\">\n",
       "      <th></th>\n",
       "      <th>newClothId</th>\n",
       "      <th>idx</th>\n",
       "      <th>what</th>\n",
       "      <th>what</th>\n",
       "    </tr>\n",
       "  </thead>\n",
       "  <tbody>\n",
       "    <tr>\n",
       "      <th>0</th>\n",
       "      <td>14094532674</td>\n",
       "      <td>279</td>\n",
       "      <td>4</td>\n",
       "      <td>1</td>\n",
       "    </tr>\n",
       "    <tr>\n",
       "      <th>1</th>\n",
       "      <td>14163822698</td>\n",
       "      <td>1239</td>\n",
       "      <td>4</td>\n",
       "      <td>1</td>\n",
       "    </tr>\n",
       "    <tr>\n",
       "      <th>2</th>\n",
       "      <td>18962342742</td>\n",
       "      <td>78</td>\n",
       "      <td>4</td>\n",
       "      <td>1</td>\n",
       "    </tr>\n",
       "    <tr>\n",
       "      <th>3</th>\n",
       "      <td>14829532807</td>\n",
       "      <td>1135</td>\n",
       "      <td>4</td>\n",
       "      <td>1</td>\n",
       "    </tr>\n",
       "    <tr>\n",
       "      <th>4</th>\n",
       "      <td>13617652829</td>\n",
       "      <td>1543</td>\n",
       "      <td>4</td>\n",
       "      <td>1</td>\n",
       "    </tr>\n",
       "    <tr>\n",
       "      <th>...</th>\n",
       "      <td>...</td>\n",
       "      <td>...</td>\n",
       "      <td>...</td>\n",
       "      <td>...</td>\n",
       "    </tr>\n",
       "    <tr>\n",
       "      <th>2042</th>\n",
       "      <td>20653784693</td>\n",
       "      <td>298</td>\n",
       "      <td>4</td>\n",
       "      <td>1</td>\n",
       "    </tr>\n",
       "    <tr>\n",
       "      <th>2043</th>\n",
       "      <td>13105704695</td>\n",
       "      <td>1719</td>\n",
       "      <td>4</td>\n",
       "      <td>1</td>\n",
       "    </tr>\n",
       "    <tr>\n",
       "      <th>2044</th>\n",
       "      <td>14406794698</td>\n",
       "      <td>837</td>\n",
       "      <td>4</td>\n",
       "      <td>1</td>\n",
       "    </tr>\n",
       "    <tr>\n",
       "      <th>2045</th>\n",
       "      <td>19412954699</td>\n",
       "      <td>1421</td>\n",
       "      <td>4</td>\n",
       "      <td>1</td>\n",
       "    </tr>\n",
       "    <tr>\n",
       "      <th>2046</th>\n",
       "      <td>14649944700</td>\n",
       "      <td>1319</td>\n",
       "      <td>4</td>\n",
       "      <td>1</td>\n",
       "    </tr>\n",
       "  </tbody>\n",
       "</table>\n",
       "<p>2047 rows × 4 columns</p>\n",
       "</div>"
      ],
      "text/plain": [
       "       newClothId   idx  what  what\n",
       "0     14094532674   279     4     1\n",
       "1     14163822698  1239     4     1\n",
       "2     18962342742    78     4     1\n",
       "3     14829532807  1135     4     1\n",
       "4     13617652829  1543     4     1\n",
       "...           ...   ...   ...   ...\n",
       "2042  20653784693   298     4     1\n",
       "2043  13105704695  1719     4     1\n",
       "2044  14406794698   837     4     1\n",
       "2045  19412954699  1421     4     1\n",
       "2046  14649944700  1319     4     1\n",
       "\n",
       "[2047 rows x 4 columns]"
      ]
     },
     "execution_count": 276,
     "metadata": {},
     "output_type": "execute_result"
    }
   ],
   "source": [
    "cloth_meta = cloth_meta[[\"newClothId\", \"idx\", 'what']]\n",
    "cloth_meta"
   ]
  },
  {
   "cell_type": "code",
   "execution_count": 430,
   "id": "16f1dc96",
   "metadata": {},
   "outputs": [],
   "source": [
    "cloth_meta.to_json('size_onepiece_cloth_meta.json', orient='records', force_ascii=False)\n",
    "user_meta.to_json('size_onepiece_user_meta.json', orient='records', force_ascii=False)"
   ]
  },
  {
   "cell_type": "code",
   "execution_count": 427,
   "id": "660e9e50",
   "metadata": {},
   "outputs": [],
   "source": [
    "# user_meta.insert(0, 'how', 4, True)\n",
    "user_meta.insert(0, 'what', 4, True)"
   ]
  },
  {
   "cell_type": "code",
   "execution_count": 428,
   "id": "4a4e3e2b",
   "metadata": {},
   "outputs": [],
   "source": [
    "user_meta = user_meta.drop(['userMale', 'userFemale', 'userHeight', 'userWeight'], axis=1)"
   ]
  },
  {
   "cell_type": "code",
   "execution_count": 429,
   "id": "4554c0d8",
   "metadata": {},
   "outputs": [
    {
     "data": {
      "text/html": [
       "<div>\n",
       "<style scoped>\n",
       "    .dataframe tbody tr th:only-of-type {\n",
       "        vertical-align: middle;\n",
       "    }\n",
       "\n",
       "    .dataframe tbody tr th {\n",
       "        vertical-align: top;\n",
       "    }\n",
       "\n",
       "    .dataframe thead th {\n",
       "        text-align: right;\n",
       "    }\n",
       "</style>\n",
       "<table border=\"1\" class=\"dataframe\">\n",
       "  <thead>\n",
       "    <tr style=\"text-align: right;\">\n",
       "      <th></th>\n",
       "      <th>what</th>\n",
       "      <th>userId</th>\n",
       "    </tr>\n",
       "  </thead>\n",
       "  <tbody>\n",
       "    <tr>\n",
       "      <th>0</th>\n",
       "      <td>4</td>\n",
       "      <td>8297</td>\n",
       "    </tr>\n",
       "    <tr>\n",
       "      <th>1</th>\n",
       "      <td>4</td>\n",
       "      <td>8298</td>\n",
       "    </tr>\n",
       "    <tr>\n",
       "      <th>2</th>\n",
       "      <td>4</td>\n",
       "      <td>8299</td>\n",
       "    </tr>\n",
       "    <tr>\n",
       "      <th>3</th>\n",
       "      <td>4</td>\n",
       "      <td>8300</td>\n",
       "    </tr>\n",
       "    <tr>\n",
       "      <th>4</th>\n",
       "      <td>4</td>\n",
       "      <td>8301</td>\n",
       "    </tr>\n",
       "    <tr>\n",
       "      <th>...</th>\n",
       "      <td>...</td>\n",
       "      <td>...</td>\n",
       "    </tr>\n",
       "    <tr>\n",
       "      <th>5832</th>\n",
       "      <td>4</td>\n",
       "      <td>14129</td>\n",
       "    </tr>\n",
       "    <tr>\n",
       "      <th>5833</th>\n",
       "      <td>4</td>\n",
       "      <td>14130</td>\n",
       "    </tr>\n",
       "    <tr>\n",
       "      <th>5834</th>\n",
       "      <td>4</td>\n",
       "      <td>14131</td>\n",
       "    </tr>\n",
       "    <tr>\n",
       "      <th>5835</th>\n",
       "      <td>4</td>\n",
       "      <td>14132</td>\n",
       "    </tr>\n",
       "    <tr>\n",
       "      <th>5836</th>\n",
       "      <td>4</td>\n",
       "      <td>14133</td>\n",
       "    </tr>\n",
       "  </tbody>\n",
       "</table>\n",
       "<p>5837 rows × 2 columns</p>\n",
       "</div>"
      ],
      "text/plain": [
       "      what  userId\n",
       "0        4    8297\n",
       "1        4    8298\n",
       "2        4    8299\n",
       "3        4    8300\n",
       "4        4    8301\n",
       "...    ...     ...\n",
       "5832     4   14129\n",
       "5833     4   14130\n",
       "5834     4   14131\n",
       "5835     4   14132\n",
       "5836     4   14133\n",
       "\n",
       "[5837 rows x 2 columns]"
      ]
     },
     "execution_count": 429,
     "metadata": {},
     "output_type": "execute_result"
    }
   ],
   "source": [
    "user_meta"
   ]
  },
  {
   "cell_type": "code",
   "execution_count": null,
   "id": "6bd8d391",
   "metadata": {},
   "outputs": [],
   "source": []
  },
  {
   "cell_type": "code",
   "execution_count": null,
   "id": "0b1e8126",
   "metadata": {},
   "outputs": [],
   "source": []
  },
  {
   "cell_type": "markdown",
   "id": "be40be92",
   "metadata": {},
   "source": [
    "# Skirt"
   ]
  },
  {
   "cell_type": "code",
   "execution_count": 431,
   "id": "ce59ad5e",
   "metadata": {},
   "outputs": [],
   "source": [
    "transaction = pd.read_json('./transaction_skirt.json')\n",
    "cloth_meta = pd.read_json('./final_skirt.json')\n",
    "user_meta = pd.read_json('./user_skirt.json')"
   ]
  },
  {
   "cell_type": "code",
   "execution_count": 432,
   "id": "e3585e0b",
   "metadata": {},
   "outputs": [],
   "source": [
    "unique_id_cloth_meta = list(set(cloth_meta.newClothId))\n",
    "transaction=transaction.loc[transaction.newClothId.isin(unique_id_cloth_meta),:]"
   ]
  },
  {
   "cell_type": "code",
   "execution_count": 433,
   "id": "4ceb9200",
   "metadata": {
    "scrolled": false
   },
   "outputs": [],
   "source": [
    "a = transaction[['newClothId']]\n",
    "a.insert(1, 'idx', 0, True)\n",
    "a = a.drop_duplicates(['newClothId'])\n",
    "a.idx = range(len(a))"
   ]
  },
  {
   "cell_type": "code",
   "execution_count": 434,
   "id": "e88e06f0",
   "metadata": {},
   "outputs": [],
   "source": [
    "transaction = pd.merge(transaction, a, how=\"left\", on=\"newClothId\")"
   ]
  },
  {
   "cell_type": "code",
   "execution_count": 435,
   "id": "6defe4f1",
   "metadata": {
    "scrolled": true
   },
   "outputs": [],
   "source": [
    "user_meta = user_meta[size_user_column]"
   ]
  },
  {
   "cell_type": "code",
   "execution_count": 436,
   "id": "f3ff916a",
   "metadata": {},
   "outputs": [
    {
     "data": {
      "text/html": [
       "<div>\n",
       "<style scoped>\n",
       "    .dataframe tbody tr th:only-of-type {\n",
       "        vertical-align: middle;\n",
       "    }\n",
       "\n",
       "    .dataframe tbody tr th {\n",
       "        vertical-align: top;\n",
       "    }\n",
       "\n",
       "    .dataframe thead th {\n",
       "        text-align: right;\n",
       "    }\n",
       "</style>\n",
       "<table border=\"1\" class=\"dataframe\">\n",
       "  <thead>\n",
       "    <tr style=\"text-align: right;\">\n",
       "      <th></th>\n",
       "      <th>userId</th>\n",
       "      <th>userMale</th>\n",
       "      <th>userFemale</th>\n",
       "      <th>userHeight</th>\n",
       "      <th>userWeight</th>\n",
       "    </tr>\n",
       "  </thead>\n",
       "  <tbody>\n",
       "    <tr>\n",
       "      <th>0</th>\n",
       "      <td>0</td>\n",
       "      <td>0</td>\n",
       "      <td>1</td>\n",
       "      <td>160</td>\n",
       "      <td>55</td>\n",
       "    </tr>\n",
       "    <tr>\n",
       "      <th>1</th>\n",
       "      <td>1</td>\n",
       "      <td>0</td>\n",
       "      <td>1</td>\n",
       "      <td>160</td>\n",
       "      <td>49</td>\n",
       "    </tr>\n",
       "    <tr>\n",
       "      <th>2</th>\n",
       "      <td>2</td>\n",
       "      <td>0</td>\n",
       "      <td>1</td>\n",
       "      <td>155</td>\n",
       "      <td>50</td>\n",
       "    </tr>\n",
       "    <tr>\n",
       "      <th>3</th>\n",
       "      <td>3</td>\n",
       "      <td>0</td>\n",
       "      <td>1</td>\n",
       "      <td>161</td>\n",
       "      <td>44</td>\n",
       "    </tr>\n",
       "    <tr>\n",
       "      <th>4</th>\n",
       "      <td>4</td>\n",
       "      <td>0</td>\n",
       "      <td>1</td>\n",
       "      <td>164</td>\n",
       "      <td>47</td>\n",
       "    </tr>\n",
       "    <tr>\n",
       "      <th>...</th>\n",
       "      <td>...</td>\n",
       "      <td>...</td>\n",
       "      <td>...</td>\n",
       "      <td>...</td>\n",
       "      <td>...</td>\n",
       "    </tr>\n",
       "    <tr>\n",
       "      <th>8292</th>\n",
       "      <td>8292</td>\n",
       "      <td>0</td>\n",
       "      <td>1</td>\n",
       "      <td>157</td>\n",
       "      <td>55</td>\n",
       "    </tr>\n",
       "    <tr>\n",
       "      <th>8293</th>\n",
       "      <td>8293</td>\n",
       "      <td>0</td>\n",
       "      <td>1</td>\n",
       "      <td>152</td>\n",
       "      <td>45</td>\n",
       "    </tr>\n",
       "    <tr>\n",
       "      <th>8294</th>\n",
       "      <td>8294</td>\n",
       "      <td>0</td>\n",
       "      <td>1</td>\n",
       "      <td>169</td>\n",
       "      <td>48</td>\n",
       "    </tr>\n",
       "    <tr>\n",
       "      <th>8295</th>\n",
       "      <td>8295</td>\n",
       "      <td>0</td>\n",
       "      <td>1</td>\n",
       "      <td>160</td>\n",
       "      <td>48</td>\n",
       "    </tr>\n",
       "    <tr>\n",
       "      <th>8296</th>\n",
       "      <td>8296</td>\n",
       "      <td>0</td>\n",
       "      <td>1</td>\n",
       "      <td>171</td>\n",
       "      <td>60</td>\n",
       "    </tr>\n",
       "  </tbody>\n",
       "</table>\n",
       "<p>8297 rows × 5 columns</p>\n",
       "</div>"
      ],
      "text/plain": [
       "      userId  userMale  userFemale  userHeight  userWeight\n",
       "0          0         0           1         160          55\n",
       "1          1         0           1         160          49\n",
       "2          2         0           1         155          50\n",
       "3          3         0           1         161          44\n",
       "4          4         0           1         164          47\n",
       "...      ...       ...         ...         ...         ...\n",
       "8292    8292         0           1         157          55\n",
       "8293    8293         0           1         152          45\n",
       "8294    8294         0           1         169          48\n",
       "8295    8295         0           1         160          48\n",
       "8296    8296         0           1         171          60\n",
       "\n",
       "[8297 rows x 5 columns]"
      ]
     },
     "execution_count": 436,
     "metadata": {},
     "output_type": "execute_result"
    }
   ],
   "source": [
    "unique_id_user_meta = list(set(transaction.userId))\n",
    "user_meta=user_meta.loc[user_meta.userId.isin(unique_id_user_meta),:]\n",
    "user_meta = user_meta.reset_index(drop=True)\n",
    "user_meta"
   ]
  },
  {
   "cell_type": "code",
   "execution_count": 437,
   "id": "572e35e1",
   "metadata": {
    "scrolled": true
   },
   "outputs": [
    {
     "data": {
      "text/html": [
       "<div>\n",
       "<style scoped>\n",
       "    .dataframe tbody tr th:only-of-type {\n",
       "        vertical-align: middle;\n",
       "    }\n",
       "\n",
       "    .dataframe tbody tr th {\n",
       "        vertical-align: top;\n",
       "    }\n",
       "\n",
       "    .dataframe thead th {\n",
       "        text-align: right;\n",
       "    }\n",
       "</style>\n",
       "<table border=\"1\" class=\"dataframe\">\n",
       "  <thead>\n",
       "    <tr style=\"text-align: right;\">\n",
       "      <th></th>\n",
       "      <th>userId</th>\n",
       "      <th>userMale</th>\n",
       "      <th>userFemale</th>\n",
       "      <th>userHeight</th>\n",
       "      <th>userWeight</th>\n",
       "    </tr>\n",
       "  </thead>\n",
       "  <tbody>\n",
       "    <tr>\n",
       "      <th>0</th>\n",
       "      <td>8299</td>\n",
       "      <td>0</td>\n",
       "      <td>1</td>\n",
       "      <td>180</td>\n",
       "      <td>65</td>\n",
       "    </tr>\n",
       "  </tbody>\n",
       "</table>\n",
       "</div>"
      ],
      "text/plain": [
       "   userId  userMale  userFemale  userHeight  userWeight\n",
       "0    8299         0           1         180          65"
      ]
     },
     "execution_count": 437,
     "metadata": {},
     "output_type": "execute_result"
    }
   ],
   "source": [
    "new_user = pd.DataFrame(user_meta.loc[0]).transpose()\n",
    "new_user_idx = new_user.index\n",
    "new_user.loc[new_user_idx, ('userId')] = 8299\n",
    "new_user.loc[new_user_idx, ('userMale')] = 0\n",
    "new_user.loc[new_user_idx, ('userFemale')] = 1\n",
    "new_user.loc[new_user_idx, ('userHeight')] = 180\n",
    "new_user.loc[new_user_idx, ('userWeight')] = 65\n",
    "new_user = new_user[['userId', 'userMale', 'userFemale', 'userHeight', 'userWeight']]\n",
    "new_user"
   ]
  },
  {
   "cell_type": "code",
   "execution_count": 438,
   "id": "1505e869",
   "metadata": {
    "scrolled": false
   },
   "outputs": [],
   "source": [
    "sub_user = user_meta[user_meta.userFemale==new_user.userFemale.iloc[0]]"
   ]
  },
  {
   "cell_type": "code",
   "execution_count": 439,
   "id": "d0b48368",
   "metadata": {
    "scrolled": true
   },
   "outputs": [
    {
     "name": "stderr",
     "output_type": "stream",
     "text": [
      "C:\\Users\\SSAFY\\AppData\\Local\\Programs\\Python\\Python39\\lib\\site-packages\\pandas\\core\\generic.py:5516: SettingWithCopyWarning: \n",
      "A value is trying to be set on a copy of a slice from a DataFrame.\n",
      "Try using .loc[row_indexer,col_indexer] = value instead\n",
      "\n",
      "See the caveats in the documentation: https://pandas.pydata.org/pandas-docs/stable/user_guide/indexing.html#returning-a-view-versus-a-copy\n",
      "  self[name] = value\n"
     ]
    }
   ],
   "source": [
    "sub_user.userHeight = sub_user.apply(lambda x: abs(x.userHeight-new_user.userHeight.iloc[0]), axis=1)\n",
    "sub_user.userWeight = sub_user.apply(lambda x: abs(x.userWeight-new_user.userWeight.iloc[0]), axis=1)"
   ]
  },
  {
   "cell_type": "code",
   "execution_count": 440,
   "id": "e9c0282f",
   "metadata": {},
   "outputs": [],
   "source": [
    "sub_user.insert(3, 'sizeSum', 0, True)\n",
    "sub_user.sizeSum = sub_user.apply(lambda x: x.userHeight + x.userWeight, axis=1)"
   ]
  },
  {
   "cell_type": "code",
   "execution_count": 441,
   "id": "e4c76a4e",
   "metadata": {},
   "outputs": [
    {
     "name": "stdout",
     "output_type": "stream",
     "text": [
      "[2574, 2057, 5855]\n"
     ]
    }
   ],
   "source": [
    "real_user = []\n",
    "for i in range(3):\n",
    "    real_user.append(sub_user.sort_values('sizeSum').iloc[i].userId)\n",
    "real_user = [int(i) for i in real_user]\n",
    "print(real_user)"
   ]
  },
  {
   "cell_type": "code",
   "execution_count": 442,
   "id": "f6618cdf",
   "metadata": {},
   "outputs": [],
   "source": [
    "cloth_meta = cloth_meta[size_cloth_column]"
   ]
  },
  {
   "cell_type": "code",
   "execution_count": 443,
   "id": "d69a64dc",
   "metadata": {},
   "outputs": [],
   "source": [
    "cloth_meta = pd.merge(cloth_meta, a, how=\"left\", on=\"newClothId\")"
   ]
  },
  {
   "cell_type": "code",
   "execution_count": 444,
   "id": "9b2d9504",
   "metadata": {},
   "outputs": [
    {
     "data": {
      "text/plain": [
       "2654"
      ]
     },
     "execution_count": 444,
     "metadata": {},
     "output_type": "execute_result"
    }
   ],
   "source": [
    "unique_cloth_id = list(transaction['newClothId'].unique())\n",
    "len(unique_cloth_id)"
   ]
  },
  {
   "cell_type": "code",
   "execution_count": 445,
   "id": "b27b96b0",
   "metadata": {},
   "outputs": [],
   "source": [
    "a = cloth_meta.newClothId.isin(unique_cloth_id)\n",
    "cloth_meta = cloth_meta[a]\n",
    "cloth_meta.index = range(len(cloth_meta))"
   ]
  },
  {
   "cell_type": "code",
   "execution_count": 446,
   "id": "677ead7b",
   "metadata": {
    "scrolled": false
   },
   "outputs": [],
   "source": [
    "cloth_meta.idx = cloth_meta.idx.astype('int')"
   ]
  },
  {
   "cell_type": "code",
   "execution_count": 447,
   "id": "44d2f2e1",
   "metadata": {},
   "outputs": [],
   "source": [
    "transaction_source = [(transaction['userId'][i], transaction['idx'][i]) for i in range(transaction.shape[0])]"
   ]
  },
  {
   "cell_type": "code",
   "execution_count": 448,
   "id": "d80af2d3",
   "metadata": {},
   "outputs": [
    {
     "name": "stdout",
     "output_type": "stream",
     "text": [
      "userId의 유니크 개수 : 8297\n",
      "clothId의 유니크 개수 : 2654\n",
      "user테이블의 userId의 유니크 개수 : 8297\n",
      "cloth테이블의 clothId의 유니크 개수 : 2654\n"
     ]
    }
   ],
   "source": [
    "print('userId의 유니크 개수 :', len(transaction.userId.unique()))\n",
    "print('clothId의 유니크 개수 :', len(transaction.idx.unique()))\n",
    "print('user테이블의 userId의 유니크 개수 :', len(user_meta.userId.unique()))\n",
    "print('cloth테이블의 clothId의 유니크 개수 :', len(cloth_meta.idx.unique()))"
   ]
  },
  {
   "cell_type": "code",
   "execution_count": 310,
   "id": "ee472fe0",
   "metadata": {},
   "outputs": [],
   "source": [
    "user_features_source = [(user_meta['userId'][i],\n",
    "                        [user_meta['userMale'][i], user_meta['userFemale'][i], user_meta['userHeight'][i],\n",
    "                        user_meta['userWeight'][i]]) for i in range(user_meta.shape[0])]"
   ]
  },
  {
   "cell_type": "code",
   "execution_count": 311,
   "id": "5a7dd0b2",
   "metadata": {},
   "outputs": [],
   "source": [
    "cloth_features_source = [(cloth_meta['idx'][i],\n",
    "                        [cloth_meta['clothMale'][i], cloth_meta['clothFemale'][i],\n",
    "                         cloth_meta['userHeight'][i], cloth_meta['userWeight'][i] ]) for i in range(cloth_meta.shape[0])]"
   ]
  },
  {
   "cell_type": "code",
   "execution_count": 312,
   "id": "106bbb80",
   "metadata": {},
   "outputs": [],
   "source": [
    "dataset = Dataset()\n",
    "dataset.fit(users=transaction['userId'].unique(),\n",
    "           items=transaction['idx'].unique(),\n",
    "           user_features=user_meta[user_meta.columns[1:]].values.flatten(),\n",
    "           item_features=cloth_meta[cloth_meta.columns[1:]].values.flatten())"
   ]
  },
  {
   "cell_type": "code",
   "execution_count": 313,
   "id": "11a42356",
   "metadata": {},
   "outputs": [],
   "source": [
    "interactions, weights = dataset.build_interactions(transaction_source)"
   ]
  },
  {
   "cell_type": "code",
   "execution_count": 314,
   "id": "908b3a37",
   "metadata": {},
   "outputs": [],
   "source": [
    "user_features = dataset.build_user_features(user_features_source)"
   ]
  },
  {
   "cell_type": "code",
   "execution_count": 315,
   "id": "7d580846",
   "metadata": {
    "scrolled": true
   },
   "outputs": [],
   "source": [
    "cloth_features = dataset.build_item_features(cloth_features_source)"
   ]
  },
  {
   "cell_type": "code",
   "execution_count": 316,
   "id": "df956cdc",
   "metadata": {},
   "outputs": [],
   "source": [
    "train, test = random_train_test_split(interactions, test_percentage=0.2)\n",
    "train, test = train.tocsr().tocoo(), test.tocsr().tocoo()\n",
    "train_weights = train.multiply(weights).tocoo()\n",
    "test_weights = test.multiply(weights).tocoo()"
   ]
  },
  {
   "cell_type": "code",
   "execution_count": 317,
   "id": "03c32a76",
   "metadata": {},
   "outputs": [],
   "source": [
    "# no_components: 10\n",
    "# learning_rate : 0.05\n",
    "trials = Trials()\n",
    "space = [hp.choice('no_components', range(10, 21, 5)),\n",
    "         hp.uniform('learning_rate', 0.05, 0.1)]"
   ]
  },
  {
   "cell_type": "code",
   "execution_count": 318,
   "id": "c147633f",
   "metadata": {},
   "outputs": [],
   "source": [
    "# Define Objective Function\n",
    "def objective(params):\n",
    "    no_components, learning_rate = params\n",
    "    model = LightFM(no_components=no_components,\n",
    "                    learning_schedule='adagrad',\n",
    "                    loss='warp',\n",
    "                    learning_rate=learning_rate,\n",
    "                    random_state=0)\n",
    "\n",
    "    model.fit(interactions=train,\n",
    "              item_features=cloth_features,\n",
    "              user_features=user_features,\n",
    "              sample_weight=train_weights,\n",
    "              epochs=3,\n",
    "              verbose=False)\n",
    "\n",
    "    test_precision = precision_at_k(model, test, k=5, item_features=cloth_features, user_features=user_features).mean()\n",
    "    print(\"no_comp: {}, lrn_rate: {:.5f}, precision: {:.5f}\".format(\n",
    "      no_components, learning_rate, test_precision))\n",
    "    # test_auc = auc_score(model, test, item_features=item_features).mean()\n",
    "    output = -test_precision\n",
    "\n",
    "    if np.abs(output+1) < 0.01 or output < -1.0:\n",
    "        output = 0.0\n",
    "\n",
    "    return output"
   ]
  },
  {
   "cell_type": "code",
   "execution_count": 319,
   "id": "9b889fec",
   "metadata": {},
   "outputs": [
    {
     "name": "stdout",
     "output_type": "stream",
     "text": [
      "no_comp: 10, lrn_rate: 0.08114, precision: 0.00837    \n",
      "no_comp: 10, lrn_rate: 0.06698, precision: 0.00877                                \n",
      "no_comp: 10, lrn_rate: 0.09739, precision: 0.01069                                 \n",
      "no_comp: 20, lrn_rate: 0.07452, precision: 0.00817                                 \n",
      "no_comp: 10, lrn_rate: 0.05717, precision: 0.00797                                 \n",
      "no_comp: 15, lrn_rate: 0.05459, precision: 0.01079                                 \n",
      "no_comp: 10, lrn_rate: 0.09188, precision: 0.01089                                 \n",
      "no_comp: 15, lrn_rate: 0.05946, precision: 0.01200                                 \n",
      "no_comp: 20, lrn_rate: 0.05167, precision: 0.01019                                 \n",
      "no_comp: 10, lrn_rate: 0.09140, precision: 0.01130                                 \n",
      "100%|██████████| 10/10 [00:07<00:00,  1.34trial/s, best loss: -0.012002017349004745]\n"
     ]
    }
   ],
   "source": [
    "best_params = fmin(fn=objective, space=space, algo=tpe.suggest, max_evals=10, trials=trials)"
   ]
  },
  {
   "cell_type": "code",
   "execution_count": 320,
   "id": "eeeed595",
   "metadata": {
    "scrolled": true
   },
   "outputs": [
    {
     "name": "stdout",
     "output_type": "stream",
     "text": [
      "0.059 1\n"
     ]
    }
   ],
   "source": [
    "learning_rate = round(best_params['learning_rate'], 3)\n",
    "no_components = best_params['no_components']\n",
    "print(learning_rate, no_components)"
   ]
  },
  {
   "cell_type": "code",
   "execution_count": 321,
   "id": "22d5c726",
   "metadata": {},
   "outputs": [
    {
     "name": "stderr",
     "output_type": "stream",
     "text": [
      "Epoch: 100%|██████████| 10/10 [00:00<00:00, 52.35it/s]\n"
     ]
    },
    {
     "data": {
      "text/plain": [
       "<lightfm.lightfm.LightFM at 0x288fc781fd0>"
      ]
     },
     "execution_count": 321,
     "metadata": {},
     "output_type": "execute_result"
    }
   ],
   "source": [
    "model = LightFM(no_components=no_components,\n",
    "                learning_schedule='adagrad',\n",
    "                loss='warp',\n",
    "                learning_rate=learning_rate,\n",
    "                random_state=0)\n",
    "\n",
    "model.fit(interactions=interactions,\n",
    "          item_features=cloth_features,\n",
    "          user_features=user_features,\n",
    "          sample_weight=weights,\n",
    "          epochs=10,\n",
    "          verbose=True)"
   ]
  },
  {
   "cell_type": "code",
   "execution_count": 322,
   "id": "b280b0eb",
   "metadata": {},
   "outputs": [],
   "source": [
    "# 모델 저장하기\n",
    "import pickle\n",
    "with open('model_size_skirt.pickle', 'wb') as fw:\n",
    "    pickle.dump(model, fw)"
   ]
  },
  {
   "cell_type": "code",
   "execution_count": 323,
   "id": "4583e5a9",
   "metadata": {},
   "outputs": [],
   "source": [
    "# 모델 불러오기\n",
    "import pickle\n",
    "with open('model_size_skirt.pickle', 'rb') as f:\n",
    "    model_skirt = pickle.load(f)"
   ]
  },
  {
   "cell_type": "code",
   "execution_count": 324,
   "id": "f4905096",
   "metadata": {},
   "outputs": [],
   "source": [
    "def sample_recommendation(model, idx, user_ids):\n",
    "    cnt = 1\n",
    "    for user_id in user_ids:\n",
    "        if cnt==1:\n",
    "            scores = model.predict(int(user_meta[user_meta.userId==user_id].index[0]), np.arange(len(cloth_meta)))\n",
    "        else:\n",
    "            scores += model.predict(int(user_meta[user_meta.userId==user_id].index[0]), np.arange(len(cloth_meta)))\n",
    "    \n",
    "    top_items = idx[np.argsort(-scores)]\n",
    "    \n",
    "    sub_clothes = []\n",
    "\n",
    "    for x in top_items[:10]:\n",
    "        sub_clothes.append(x)\n",
    "    \n",
    "    rec_clothes = []\n",
    "    \n",
    "    for i in sub_clothes:\n",
    "        rec_clothes.append(cloth_meta[cloth_meta.idx==i].newClothId.iloc[0])\n",
    "    \n",
    "    return rec_clothes"
   ]
  },
  {
   "cell_type": "code",
   "execution_count": 325,
   "id": "7f8e4079",
   "metadata": {
    "scrolled": false
   },
   "outputs": [
    {
     "data": {
      "text/plain": [
       "[1907111403,\n",
       " 1926066515,\n",
       " 1775973474,\n",
       " 1969751297,\n",
       " 180781478,\n",
       " 2017517424,\n",
       " 150926840,\n",
       " 1618698368,\n",
       " 2205663410,\n",
       " 1834795393]"
      ]
     },
     "execution_count": 325,
     "metadata": {},
     "output_type": "execute_result"
    }
   ],
   "source": [
    "rec_size_top = sample_recommendation(model_skirt, cloth_meta.idx, real_user)\n",
    "rec_size_top"
   ]
  },
  {
   "cell_type": "code",
   "execution_count": 60,
   "id": "695142ca",
   "metadata": {},
   "outputs": [
    {
     "data": {
      "text/plain": [
       "[1281758, 968344, 1110912]"
      ]
     },
     "execution_count": 60,
     "metadata": {},
     "output_type": "execute_result"
    }
   ],
   "source": [
    "real_user"
   ]
  },
  {
   "cell_type": "code",
   "execution_count": 326,
   "id": "98c4dc9a",
   "metadata": {},
   "outputs": [],
   "source": [
    "cloth_meta.insert(10, 'what', 5, True)\n",
    "user_meta.insert(5, 'what', 5, True)"
   ]
  },
  {
   "cell_type": "code",
   "execution_count": 327,
   "id": "f763579d",
   "metadata": {
    "scrolled": false
   },
   "outputs": [
    {
     "data": {
      "text/html": [
       "<div>\n",
       "<style scoped>\n",
       "    .dataframe tbody tr th:only-of-type {\n",
       "        vertical-align: middle;\n",
       "    }\n",
       "\n",
       "    .dataframe tbody tr th {\n",
       "        vertical-align: top;\n",
       "    }\n",
       "\n",
       "    .dataframe thead th {\n",
       "        text-align: right;\n",
       "    }\n",
       "</style>\n",
       "<table border=\"1\" class=\"dataframe\">\n",
       "  <thead>\n",
       "    <tr style=\"text-align: right;\">\n",
       "      <th></th>\n",
       "      <th>newClothId</th>\n",
       "      <th>idx</th>\n",
       "      <th>what</th>\n",
       "    </tr>\n",
       "  </thead>\n",
       "  <tbody>\n",
       "    <tr>\n",
       "      <th>0</th>\n",
       "      <td>161812522</td>\n",
       "      <td>1682</td>\n",
       "      <td>5</td>\n",
       "    </tr>\n",
       "    <tr>\n",
       "      <th>1</th>\n",
       "      <td>161812521</td>\n",
       "      <td>896</td>\n",
       "      <td>5</td>\n",
       "    </tr>\n",
       "    <tr>\n",
       "      <th>2</th>\n",
       "      <td>185310349</td>\n",
       "      <td>1662</td>\n",
       "      <td>5</td>\n",
       "    </tr>\n",
       "    <tr>\n",
       "      <th>3</th>\n",
       "      <td>1884867110</td>\n",
       "      <td>2304</td>\n",
       "      <td>5</td>\n",
       "    </tr>\n",
       "    <tr>\n",
       "      <th>4</th>\n",
       "      <td>1629303146</td>\n",
       "      <td>965</td>\n",
       "      <td>5</td>\n",
       "    </tr>\n",
       "    <tr>\n",
       "      <th>...</th>\n",
       "      <td>...</td>\n",
       "      <td>...</td>\n",
       "      <td>...</td>\n",
       "    </tr>\n",
       "    <tr>\n",
       "      <th>2649</th>\n",
       "      <td>21172562650</td>\n",
       "      <td>22</td>\n",
       "      <td>5</td>\n",
       "    </tr>\n",
       "    <tr>\n",
       "      <th>2650</th>\n",
       "      <td>21172562649</td>\n",
       "      <td>2</td>\n",
       "      <td>5</td>\n",
       "    </tr>\n",
       "    <tr>\n",
       "      <th>2651</th>\n",
       "      <td>21172562648</td>\n",
       "      <td>531</td>\n",
       "      <td>5</td>\n",
       "    </tr>\n",
       "    <tr>\n",
       "      <th>2652</th>\n",
       "      <td>23400702652</td>\n",
       "      <td>1441</td>\n",
       "      <td>5</td>\n",
       "    </tr>\n",
       "    <tr>\n",
       "      <th>2653</th>\n",
       "      <td>23400702653</td>\n",
       "      <td>1273</td>\n",
       "      <td>5</td>\n",
       "    </tr>\n",
       "  </tbody>\n",
       "</table>\n",
       "<p>2654 rows × 3 columns</p>\n",
       "</div>"
      ],
      "text/plain": [
       "       newClothId   idx  what\n",
       "0       161812522  1682     5\n",
       "1       161812521   896     5\n",
       "2       185310349  1662     5\n",
       "3      1884867110  2304     5\n",
       "4      1629303146   965     5\n",
       "...           ...   ...   ...\n",
       "2649  21172562650    22     5\n",
       "2650  21172562649     2     5\n",
       "2651  21172562648   531     5\n",
       "2652  23400702652  1441     5\n",
       "2653  23400702653  1273     5\n",
       "\n",
       "[2654 rows x 3 columns]"
      ]
     },
     "execution_count": 327,
     "metadata": {},
     "output_type": "execute_result"
    }
   ],
   "source": [
    "cloth_meta = cloth_meta[[\"newClothId\", \"idx\", 'what']]\n",
    "cloth_meta"
   ]
  },
  {
   "cell_type": "code",
   "execution_count": 452,
   "id": "16f1dc96",
   "metadata": {},
   "outputs": [],
   "source": [
    "cloth_meta.to_json('size_skirt_cloth_meta.json', orient='records', force_ascii=False)\n",
    "user_meta.to_json('size_skirt_user_meta.json', orient='records', force_ascii=False)"
   ]
  },
  {
   "cell_type": "code",
   "execution_count": 449,
   "id": "93637842",
   "metadata": {},
   "outputs": [],
   "source": [
    "# user_meta.insert(0, 'how', 5, True)\n",
    "user_meta.insert(0, 'what', 5, True)"
   ]
  },
  {
   "cell_type": "code",
   "execution_count": 450,
   "id": "631d45b0",
   "metadata": {},
   "outputs": [],
   "source": [
    "user_meta = user_meta.drop(['userMale', 'userFemale', 'userHeight', 'userWeight'], axis=1)"
   ]
  },
  {
   "cell_type": "code",
   "execution_count": 451,
   "id": "4554c0d8",
   "metadata": {},
   "outputs": [
    {
     "data": {
      "text/html": [
       "<div>\n",
       "<style scoped>\n",
       "    .dataframe tbody tr th:only-of-type {\n",
       "        vertical-align: middle;\n",
       "    }\n",
       "\n",
       "    .dataframe tbody tr th {\n",
       "        vertical-align: top;\n",
       "    }\n",
       "\n",
       "    .dataframe thead th {\n",
       "        text-align: right;\n",
       "    }\n",
       "</style>\n",
       "<table border=\"1\" class=\"dataframe\">\n",
       "  <thead>\n",
       "    <tr style=\"text-align: right;\">\n",
       "      <th></th>\n",
       "      <th>what</th>\n",
       "      <th>userId</th>\n",
       "    </tr>\n",
       "  </thead>\n",
       "  <tbody>\n",
       "    <tr>\n",
       "      <th>0</th>\n",
       "      <td>5</td>\n",
       "      <td>0</td>\n",
       "    </tr>\n",
       "    <tr>\n",
       "      <th>1</th>\n",
       "      <td>5</td>\n",
       "      <td>1</td>\n",
       "    </tr>\n",
       "    <tr>\n",
       "      <th>2</th>\n",
       "      <td>5</td>\n",
       "      <td>2</td>\n",
       "    </tr>\n",
       "    <tr>\n",
       "      <th>3</th>\n",
       "      <td>5</td>\n",
       "      <td>3</td>\n",
       "    </tr>\n",
       "    <tr>\n",
       "      <th>4</th>\n",
       "      <td>5</td>\n",
       "      <td>4</td>\n",
       "    </tr>\n",
       "    <tr>\n",
       "      <th>...</th>\n",
       "      <td>...</td>\n",
       "      <td>...</td>\n",
       "    </tr>\n",
       "    <tr>\n",
       "      <th>8292</th>\n",
       "      <td>5</td>\n",
       "      <td>8292</td>\n",
       "    </tr>\n",
       "    <tr>\n",
       "      <th>8293</th>\n",
       "      <td>5</td>\n",
       "      <td>8293</td>\n",
       "    </tr>\n",
       "    <tr>\n",
       "      <th>8294</th>\n",
       "      <td>5</td>\n",
       "      <td>8294</td>\n",
       "    </tr>\n",
       "    <tr>\n",
       "      <th>8295</th>\n",
       "      <td>5</td>\n",
       "      <td>8295</td>\n",
       "    </tr>\n",
       "    <tr>\n",
       "      <th>8296</th>\n",
       "      <td>5</td>\n",
       "      <td>8296</td>\n",
       "    </tr>\n",
       "  </tbody>\n",
       "</table>\n",
       "<p>8297 rows × 2 columns</p>\n",
       "</div>"
      ],
      "text/plain": [
       "      what  userId\n",
       "0        5       0\n",
       "1        5       1\n",
       "2        5       2\n",
       "3        5       3\n",
       "4        5       4\n",
       "...    ...     ...\n",
       "8292     5    8292\n",
       "8293     5    8293\n",
       "8294     5    8294\n",
       "8295     5    8295\n",
       "8296     5    8296\n",
       "\n",
       "[8297 rows x 2 columns]"
      ]
     },
     "execution_count": 451,
     "metadata": {},
     "output_type": "execute_result"
    }
   ],
   "source": [
    "user_meta"
   ]
  },
  {
   "cell_type": "code",
   "execution_count": null,
   "id": "965564c6",
   "metadata": {},
   "outputs": [],
   "source": []
  }
 ],
 "metadata": {
  "kernelspec": {
   "display_name": "Python 3 (ipykernel)",
   "language": "python",
   "name": "python3"
  },
  "language_info": {
   "codemirror_mode": {
    "name": "ipython",
    "version": 3
   },
   "file_extension": ".py",
   "mimetype": "text/x-python",
   "name": "python",
   "nbconvert_exporter": "python",
   "pygments_lexer": "ipython3",
   "version": "3.9.10"
  }
 },
 "nbformat": 4,
 "nbformat_minor": 5
}
