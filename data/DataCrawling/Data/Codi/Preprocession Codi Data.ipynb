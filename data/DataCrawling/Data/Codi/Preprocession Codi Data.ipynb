{
 "cells": [
  {
   "cell_type": "code",
   "execution_count": 9,
   "id": "a773071a",
   "metadata": {},
   "outputs": [],
   "source": [
    "import numpy as np\n",
    "import pandas as pd\n",
    "import requests\n",
    "import csv\n",
    "import ssl\n",
    "from urllib.request import urlopen\n",
    "from urllib.parse import quote_plus"
   ]
  },
  {
   "cell_type": "code",
   "execution_count": 128,
   "id": "8c70be57",
   "metadata": {},
   "outputs": [],
   "source": [
    "codi = pd.read_csv('./musinsa_codi.csv')"
   ]
  },
  {
   "cell_type": "code",
   "execution_count": 79,
   "id": "0c0c0746",
   "metadata": {
    "scrolled": true
   },
   "outputs": [
    {
     "data": {
      "text/html": [
       "<div>\n",
       "<style scoped>\n",
       "    .dataframe tbody tr th:only-of-type {\n",
       "        vertical-align: middle;\n",
       "    }\n",
       "\n",
       "    .dataframe tbody tr th {\n",
       "        vertical-align: top;\n",
       "    }\n",
       "\n",
       "    .dataframe thead th {\n",
       "        text-align: right;\n",
       "    }\n",
       "</style>\n",
       "<table border=\"1\" class=\"dataframe\">\n",
       "  <thead>\n",
       "    <tr style=\"text-align: right;\">\n",
       "      <th></th>\n",
       "      <th>codiId</th>\n",
       "      <th>codiStyle</th>\n",
       "      <th>codiTitle</th>\n",
       "      <th>codiContents</th>\n",
       "      <th>date</th>\n",
       "      <th>viewCnt</th>\n",
       "      <th>imgSrc</th>\n",
       "      <th>hashtags</th>\n",
       "      <th>clothes</th>\n",
       "    </tr>\n",
       "  </thead>\n",
       "  <tbody>\n",
       "    <tr>\n",
       "      <th>0</th>\n",
       "      <td>13335</td>\n",
       "      <td>casual</td>\n",
       "      <td>귀여운 남친 룩</td>\n",
       "      <td>귀여운 무드의 베스트에 셔츠와 코튼 팬츠를 스타일링하고 크로스 백, 볼캡으로 포인트...</td>\n",
       "      <td>2022.03.09</td>\n",
       "      <td>983</td>\n",
       "      <td>//image.msscdn.net/images/codimap/list/l_3_202...</td>\n",
       "      <td>['레이어드룩', '캠퍼스', '남친룩', '아가일', '스티치', '피크닉']</td>\n",
       "      <td>[[['2380039', '예스아이씨', '2 Pocket Denim Blouson...</td>\n",
       "    </tr>\n",
       "    <tr>\n",
       "      <th>1</th>\n",
       "      <td>13333</td>\n",
       "      <td>casual</td>\n",
       "      <td>체크는 사랑</td>\n",
       "      <td>체크 패턴이 돋보이는 카디건에 후드 티셔츠, 데님 팬츠를 매치한 후 스니커즈로 포인...</td>\n",
       "      <td>2022.03.09</td>\n",
       "      <td>882</td>\n",
       "      <td>//image.msscdn.net/images/codimap/list/l_3_202...</td>\n",
       "      <td>['파스텔', '체크', '남친룩', '컬러포인트', '오버핏', '벌룬핏']</td>\n",
       "      <td>[[['2279458', '팔렛', '체커보드 모헤어 니트 가디건 핑크', '//i...</td>\n",
       "    </tr>\n",
       "    <tr>\n",
       "      <th>2</th>\n",
       "      <td>13332</td>\n",
       "      <td>casual</td>\n",
       "      <td>화사하고 싶은 날</td>\n",
       "      <td>화사한 컬러의 카디건에 셔츠와 나일론 팬츠를 스타일링하고 모카신으로 완성한 캐주얼 룩</td>\n",
       "      <td>2022.03.09</td>\n",
       "      <td>726</td>\n",
       "      <td>//image.msscdn.net/images/codimap/list/l_3_202...</td>\n",
       "      <td>['화사한', '남친룩', '파스텔', '캠퍼스', '오버핏', '와이드핏']</td>\n",
       "      <td>[[['2312953', '1993스튜디오', '스몰 로고 가디건_그린', '//i...</td>\n",
       "    </tr>\n",
       "    <tr>\n",
       "      <th>3</th>\n",
       "      <td>13361</td>\n",
       "      <td>casual</td>\n",
       "      <td>데일리로 좋아</td>\n",
       "      <td>스트라이프 패턴이 돋보이는 긴팔 티셔츠와 데님 팬츠를 코디하고 스니커즈로 완성한 캐...</td>\n",
       "      <td>2022.03.09</td>\n",
       "      <td>848</td>\n",
       "      <td>//image.msscdn.net/images/codimap/list/l_3_202...</td>\n",
       "      <td>['스트라이프', '꾸안꾸', '캠퍼스', '레터링', '와이드핏', '오버핏', ...</td>\n",
       "      <td>[[['2225490', '마크에이토리', '아트룸 헤비 니트 집업 (아이보리)',...</td>\n",
       "    </tr>\n",
       "    <tr>\n",
       "      <th>4</th>\n",
       "      <td>13360</td>\n",
       "      <td>casual</td>\n",
       "      <td>봄에는 이렇게!</td>\n",
       "      <td>편하게 입기 좋은 스웨트셔츠와 코튼 팬츠를 매치하고 트러커 재킷으로 마무리한 캐주얼 룩</td>\n",
       "      <td>2022.03.09</td>\n",
       "      <td>816</td>\n",
       "      <td>//image.msscdn.net/images/codimap/list/l_3_202...</td>\n",
       "      <td>['오버핏', '캠퍼스', '꾸안꾸', '레터링', '키높이']</td>\n",
       "      <td>[[['2374048', '필드워커', '후드 데님 트러커 HOOD DENIM TR...</td>\n",
       "    </tr>\n",
       "  </tbody>\n",
       "</table>\n",
       "</div>"
      ],
      "text/plain": [
       "   codiId codiStyle  codiTitle  \\\n",
       "0   13335    casual   귀여운 남친 룩   \n",
       "1   13333    casual     체크는 사랑   \n",
       "2   13332    casual  화사하고 싶은 날   \n",
       "3   13361    casual    데일리로 좋아   \n",
       "4   13360    casual   봄에는 이렇게!   \n",
       "\n",
       "                                        codiContents        date viewCnt  \\\n",
       "0  귀여운 무드의 베스트에 셔츠와 코튼 팬츠를 스타일링하고 크로스 백, 볼캡으로 포인트...  2022.03.09     983   \n",
       "1  체크 패턴이 돋보이는 카디건에 후드 티셔츠, 데님 팬츠를 매치한 후 스니커즈로 포인...  2022.03.09     882   \n",
       "2    화사한 컬러의 카디건에 셔츠와 나일론 팬츠를 스타일링하고 모카신으로 완성한 캐주얼 룩  2022.03.09     726   \n",
       "3  스트라이프 패턴이 돋보이는 긴팔 티셔츠와 데님 팬츠를 코디하고 스니커즈로 완성한 캐...  2022.03.09     848   \n",
       "4   편하게 입기 좋은 스웨트셔츠와 코튼 팬츠를 매치하고 트러커 재킷으로 마무리한 캐주얼 룩  2022.03.09     816   \n",
       "\n",
       "                                              imgSrc  \\\n",
       "0  //image.msscdn.net/images/codimap/list/l_3_202...   \n",
       "1  //image.msscdn.net/images/codimap/list/l_3_202...   \n",
       "2  //image.msscdn.net/images/codimap/list/l_3_202...   \n",
       "3  //image.msscdn.net/images/codimap/list/l_3_202...   \n",
       "4  //image.msscdn.net/images/codimap/list/l_3_202...   \n",
       "\n",
       "                                            hashtags  \\\n",
       "0       ['레이어드룩', '캠퍼스', '남친룩', '아가일', '스티치', '피크닉']   \n",
       "1        ['파스텔', '체크', '남친룩', '컬러포인트', '오버핏', '벌룬핏']   \n",
       "2        ['화사한', '남친룩', '파스텔', '캠퍼스', '오버핏', '와이드핏']   \n",
       "3  ['스트라이프', '꾸안꾸', '캠퍼스', '레터링', '와이드핏', '오버핏', ...   \n",
       "4                ['오버핏', '캠퍼스', '꾸안꾸', '레터링', '키높이']   \n",
       "\n",
       "                                             clothes  \n",
       "0  [[['2380039', '예스아이씨', '2 Pocket Denim Blouson...  \n",
       "1  [[['2279458', '팔렛', '체커보드 모헤어 니트 가디건 핑크', '//i...  \n",
       "2  [[['2312953', '1993스튜디오', '스몰 로고 가디건_그린', '//i...  \n",
       "3  [[['2225490', '마크에이토리', '아트룸 헤비 니트 집업 (아이보리)',...  \n",
       "4  [[['2374048', '필드워커', '후드 데님 트러커 HOOD DENIM TR...  "
      ]
     },
     "execution_count": 79,
     "metadata": {},
     "output_type": "execute_result"
    }
   ],
   "source": [
    "codi.head()"
   ]
  },
  {
   "cell_type": "code",
   "execution_count": 30,
   "id": "82d01b03",
   "metadata": {},
   "outputs": [],
   "source": [
    "a = []\n",
    "cnt = 0\n",
    "for i in codi.hashtags:\n",
    "    a += i.split(',')\n",
    "    cnt += 1\n",
    "a = pd.DataFrame(a)\n",
    "a[0] = a[0].apply(lambda x: x.replace(\"'\", \"\"))\n",
    "a[0] = a[0].apply(lambda x: x.replace(\"[\", \"\"))\n",
    "a[0] = a[0].apply(lambda x: x.replace(\"]\", \"\"))\n",
    "a[0] = a[0].apply(lambda x: x.replace(\" \", \"\"))\n",
    "hashtag_list = a[0].unique()"
   ]
  },
  {
   "cell_type": "code",
   "execution_count": 35,
   "id": "f3d3cf34",
   "metadata": {
    "scrolled": false
   },
   "outputs": [
    {
     "data": {
      "text/plain": [
       "array(['레이어드룩', '캠퍼스', '남친룩', '아가일', '스티치', '피크닉', '파스텔', '체크', '컬러포인트',\n",
       "       '오버핏', '벌룬핏', '화사한', '와이드핏', '스트라이프', '꾸안꾸', '레터링', '에코', '키높이',\n",
       "       '콜라보', '워싱', '로고플레이', '리버서블', '편안한', '원마일웨어', '셋업코디', '핀턱', '컬러블록',\n",
       "       '부츠컷', '빅카라', '크롭', '비비드', '그래픽', '레더', '스트링', '루즈핏', '비건패션', '슬릿',\n",
       "       '펀칭', '코듀로이', '퀼팅', '와펜', '신학기', '뉴트럴톤', '모노톤', '셀럽템', '유니크',\n",
       "       '테이퍼드핏', '카고', '슬림핏', '도트', '시스루', '맥시', '셔링', '플라워', '레이스', '린넨',\n",
       "       '타이다이', '귀여운', '톤온톤', '캐릭터', '메쉬', '하이웨이스트', '그라데이션', '빈티지', '짧치',\n",
       "       '폭염', '데미지', '오프숄더', '찢청', '페이즐리', '올블랙', '트로피컬', '여행', '리조트룩',\n",
       "       '미니멀', '패치워크', '태슬', '레귤러핏', '여친룩', '테니스', '미세먼지', '럭셔리', '네온',\n",
       "       '페인팅', '날염', '비', '래글런', '아메카지', '스웨이드', '플리츠', '플리스', '데이트',\n",
       "       '얼죽코', '퍼', '영캐주얼', '명절', '한파', '크리스마스', '앙고라', '레오퍼드', '트위드',\n",
       "       '글로시', '퍼프소매', '시티보이룩', '심볼', '애니멀', '벨루어', '청청패션', '스키니', '믹스매치',\n",
       "       '환절기', 'SELF_LOVE', '힙합', '', '올화이트', '시폰', '카무플라주', '큐빅', '프레피룩',\n",
       "       '에스닉룩', '지브라', '라탄', '페스티벌', '캠핑', '크로셰', '스포티', '보더룩', '밀리터리',\n",
       "       '할로윈', '파이톤', '블링블링', '에나멜', '소개팅', '클래식', '단정한', '출근룩', '하객',\n",
       "       '격식', '면접', '웨스턴', '단아한', '우아한', '하이틴룩', '졸업식', '헤링본', '스퀘어넥',\n",
       "       'A라인', '새틴', '쿨비즈', '레저스포츠', '상견례', '애슬레저룩', '등산', '요가', '테크웨어',\n",
       "       '스터드', '눈', '파티', '수영', '그런지룩'], dtype=object)"
      ]
     },
     "execution_count": 35,
     "metadata": {},
     "output_type": "execute_result"
    }
   ],
   "source": [
    "hashtag_list"
   ]
  },
  {
   "cell_type": "code",
   "execution_count": 118,
   "id": "035fae5a",
   "metadata": {},
   "outputs": [
    {
     "data": {
      "text/plain": [
       "[\"[['2380039', '예스아이씨', '2 Pocket Denim Blouson Medium Blue', '//image.msscdn.net/images/goods_img/20220223/2380039/2380039_1_220.jpg', '159,000'\",\n",
       " \" ['2313375', '척', '시그니처 아가일 니트 베스트 (네이비)', '//image.msscdn.net/images/goods_img/20220118/2313375/2313375_1_220.jpg', '43,900'\",\n",
       " \" ['2367522', '유니폼브릿지', 'oxford bd shirts blue', '//image.msscdn.net/images/goods_img/20220217/2367522/2367522_1_220.jpg', '76,000'\",\n",
       " \" ['1816101', '사운즈라이프', '[SS21] Magbelt Fatigue Pants Brown', '//image.msscdn.net/images/goods_img/20210225/1816101/1816101_2_220.jpg', '119,000'\",\n",
       " \" ['2280117', '밀로', '홀리데이 시그니처 볼 캡 [그린]', '//image.msscdn.net/images/goods_img/20211223/2280117/2280117_1_220.jpg', '33,150'\",\n",
       " \" ['1235676', '브래디백', '에이번 미니 크로스 백 미모사', '//image.msscdn.net/images/goods_img/20191126/1235676/1235676_1_220.jpg', '158,000'\",\n",
       " \" ['810033', '컨버스', '척 70 클래식 블랙 162050C', '//image.msscdn.net/images/goods_img/20180703/810033/810033_2_220.jpg', '99,000']]\"]"
      ]
     },
     "execution_count": 118,
     "metadata": {},
     "output_type": "execute_result"
    }
   ],
   "source": [
    "codi.clothes[0]"
   ]
  },
  {
   "cell_type": "code",
   "execution_count": 129,
   "id": "f19ebdad",
   "metadata": {},
   "outputs": [],
   "source": [
    "codi.clothes = codi.clothes.apply(lambda x: x.split('],'))"
   ]
  },
  {
   "cell_type": "code",
   "execution_count": 130,
   "id": "f21ae7a3",
   "metadata": {},
   "outputs": [],
   "source": [
    "for i in range(codi.shape[0]):\n",
    "    for j in range(len(codi.clothes[i])):\n",
    "        codi.clothes[i][j] = codi.clothes[i][j].replace(\"[['\", \"\").replace(\"[\", \"\").replace(\" '\", \"\").replace(\"'\", \"\").replace(\"]]\", \"\").split(',')"
   ]
  },
  {
   "cell_type": "code",
   "execution_count": 131,
   "id": "fe2662fc",
   "metadata": {},
   "outputs": [
    {
     "data": {
      "text/plain": [
       "['810033',\n",
       " '컨버스',\n",
       " '척 70 클래식 블랙 162050C',\n",
       " '//image.msscdn.net/images/goods_img/20180703/810033/810033_2_220.jpg',\n",
       " '99',\n",
       " '000]]']"
      ]
     },
     "execution_count": 131,
     "metadata": {},
     "output_type": "execute_result"
    }
   ],
   "source": [
    "codi.clothes[0][6]"
   ]
  },
  {
   "cell_type": "code",
   "execution_count": 89,
   "id": "cf5fe055",
   "metadata": {},
   "outputs": [
    {
     "data": {
      "text/html": [
       "<div>\n",
       "<style scoped>\n",
       "    .dataframe tbody tr th:only-of-type {\n",
       "        vertical-align: middle;\n",
       "    }\n",
       "\n",
       "    .dataframe tbody tr th {\n",
       "        vertical-align: top;\n",
       "    }\n",
       "\n",
       "    .dataframe thead th {\n",
       "        text-align: right;\n",
       "    }\n",
       "</style>\n",
       "<table border=\"1\" class=\"dataframe\">\n",
       "  <thead>\n",
       "    <tr style=\"text-align: right;\">\n",
       "      <th></th>\n",
       "      <th>codiId</th>\n",
       "      <th>codiStyle</th>\n",
       "      <th>codiTitle</th>\n",
       "      <th>codiContents</th>\n",
       "      <th>date</th>\n",
       "      <th>viewCnt</th>\n",
       "      <th>imgSrc</th>\n",
       "      <th>hashtags</th>\n",
       "      <th>clothes</th>\n",
       "    </tr>\n",
       "  </thead>\n",
       "  <tbody>\n",
       "    <tr>\n",
       "      <th>11310</th>\n",
       "      <td>2218</td>\n",
       "      <td>street</td>\n",
       "      <td>편안하게 꾸미기</td>\n",
       "      <td>타이다이 패턴이 돋보이는 스웨트셔츠와 트레이닝 팬츠를 매치하고 귀걸이, 캡으로 완성...</td>\n",
       "      <td>2021.03.12</td>\n",
       "      <td>1,353</td>\n",
       "      <td>//image.msscdn.net/images/codimap/list/l_3_202...</td>\n",
       "      <td>[]</td>\n",
       "      <td>[[['1775914', '키르시', '아웃라인 레터 트랙 자켓 KS [스카이, '...</td>\n",
       "    </tr>\n",
       "    <tr>\n",
       "      <th>11311</th>\n",
       "      <td>2177</td>\n",
       "      <td>street</td>\n",
       "      <td>키치한 무드</td>\n",
       "      <td>유니크한 그래픽이 돋보이는 스웨트셔츠에 조거 팬츠를 코디하고 컬러 비니로 캐주얼 무...</td>\n",
       "      <td>2021.03.10</td>\n",
       "      <td>2,528</td>\n",
       "      <td>//image.msscdn.net/images/codimap/list/l_3_202...</td>\n",
       "      <td>[]</td>\n",
       "      <td>[[['1752588', '엘엠씨', 'LMC REBIRTH BEAR SWEATSH...</td>\n",
       "    </tr>\n",
       "    <tr>\n",
       "      <th>11312</th>\n",
       "      <td>2176</td>\n",
       "      <td>street</td>\n",
       "      <td>테크 웨어 코디</td>\n",
       "      <td>레터링 포인트가 돋보이는 티셔츠에 베스트와 조거 팬츠를 더하고 버킷햇으로 마무리한 ...</td>\n",
       "      <td>2021.03.10</td>\n",
       "      <td>906</td>\n",
       "      <td>//image.msscdn.net/images/codimap/list/l_3_202...</td>\n",
       "      <td>[]</td>\n",
       "      <td>[[['1764222', '엘엠씨', 'LMC TAPED UTILITY VEST g...</td>\n",
       "    </tr>\n",
       "    <tr>\n",
       "      <th>11313</th>\n",
       "      <td>2173</td>\n",
       "      <td>street</td>\n",
       "      <td>스트릿 바이브</td>\n",
       "      <td>오버사이즈 핏 후드 티셔츠에 화려한 패턴이 돋보이는 팬츠를 코디하고 컬러 볼캡으로 ...</td>\n",
       "      <td>2021.03.10</td>\n",
       "      <td>722</td>\n",
       "      <td>//image.msscdn.net/images/codimap/list/l_3_202...</td>\n",
       "      <td>[]</td>\n",
       "      <td>[[['1752612', '엘엠씨', 'LMC ACTIVE GEAR HOODIE b...</td>\n",
       "    </tr>\n",
       "    <tr>\n",
       "      <th>11314</th>\n",
       "      <td>2136</td>\n",
       "      <td>street</td>\n",
       "      <td>힙한 무드</td>\n",
       "      <td>오버사이즈 핏의 레더 재킷과 타이다이 패턴이 돋보이는 스웨트 팬츠로 연출한 스트릿 룩</td>\n",
       "      <td>2021.03.08</td>\n",
       "      <td>876</td>\n",
       "      <td>//image.msscdn.net/images/codimap/list/l_3_202...</td>\n",
       "      <td>[]</td>\n",
       "      <td>[[['1773008', '필루미네이트', '오버핏 싱글 비건 레더 자켓', '//...</td>\n",
       "    </tr>\n",
       "  </tbody>\n",
       "</table>\n",
       "</div>"
      ],
      "text/plain": [
       "       codiId codiStyle codiTitle  \\\n",
       "11310    2218    street  편안하게 꾸미기   \n",
       "11311    2177    street    키치한 무드   \n",
       "11312    2176    street  테크 웨어 코디   \n",
       "11313    2173    street   스트릿 바이브   \n",
       "11314    2136    street     힙한 무드   \n",
       "\n",
       "                                            codiContents        date viewCnt  \\\n",
       "11310  타이다이 패턴이 돋보이는 스웨트셔츠와 트레이닝 팬츠를 매치하고 귀걸이, 캡으로 완성...  2021.03.12   1,353   \n",
       "11311  유니크한 그래픽이 돋보이는 스웨트셔츠에 조거 팬츠를 코디하고 컬러 비니로 캐주얼 무...  2021.03.10   2,528   \n",
       "11312  레터링 포인트가 돋보이는 티셔츠에 베스트와 조거 팬츠를 더하고 버킷햇으로 마무리한 ...  2021.03.10     906   \n",
       "11313  오버사이즈 핏 후드 티셔츠에 화려한 패턴이 돋보이는 팬츠를 코디하고 컬러 볼캡으로 ...  2021.03.10     722   \n",
       "11314    오버사이즈 핏의 레더 재킷과 타이다이 패턴이 돋보이는 스웨트 팬츠로 연출한 스트릿 룩  2021.03.08     876   \n",
       "\n",
       "                                                  imgSrc hashtags  \\\n",
       "11310  //image.msscdn.net/images/codimap/list/l_3_202...       []   \n",
       "11311  //image.msscdn.net/images/codimap/list/l_3_202...       []   \n",
       "11312  //image.msscdn.net/images/codimap/list/l_3_202...       []   \n",
       "11313  //image.msscdn.net/images/codimap/list/l_3_202...       []   \n",
       "11314  //image.msscdn.net/images/codimap/list/l_3_202...       []   \n",
       "\n",
       "                                                 clothes  \n",
       "11310  [[['1775914', '키르시', '아웃라인 레터 트랙 자켓 KS [스카이, '...  \n",
       "11311  [[['1752588', '엘엠씨', 'LMC REBIRTH BEAR SWEATSH...  \n",
       "11312  [[['1764222', '엘엠씨', 'LMC TAPED UTILITY VEST g...  \n",
       "11313  [[['1752612', '엘엠씨', 'LMC ACTIVE GEAR HOODIE b...  \n",
       "11314  [[['1773008', '필루미네이트', '오버핏 싱글 비건 레더 자켓', '//...  "
      ]
     },
     "execution_count": 89,
     "metadata": {},
     "output_type": "execute_result"
    }
   ],
   "source": [
    "codi.tail()"
   ]
  },
  {
   "cell_type": "code",
   "execution_count": 73,
   "id": "0681b13e",
   "metadata": {
    "scrolled": true
   },
   "outputs": [
    {
     "data": {
      "text/plain": [
       "\"'2380039', '예스아이씨', '2 Pocket Denim Blouson Medium Blue', '//image.msscdn.net/images/goods_img/20220223/2380039/2380039_1_220.jpg', '159,000'\""
      ]
     },
     "execution_count": 73,
     "metadata": {},
     "output_type": "execute_result"
    }
   ],
   "source": [
    "codi.clothes[0].split(']')[0].replace(\"[[\", \"\").replace(\"]]\", \"\")"
   ]
  },
  {
   "cell_type": "code",
   "execution_count": 107,
   "id": "97fef8c8",
   "metadata": {
    "scrolled": true
   },
   "outputs": [
    {
     "data": {
      "text/plain": [
       "['2380039',\n",
       " '예스아이씨',\n",
       " '2 Pocket Denim Blouson Medium Blue',\n",
       " '//image.msscdn.net/images/goods_img/20220223/2380039/2380039_1_220.jpg',\n",
       " '159',\n",
       " '000']"
      ]
     },
     "execution_count": 107,
     "metadata": {},
     "output_type": "execute_result"
    }
   ],
   "source": [
    "codi.clothes[0][0].replace(\"[['\", \"\").replace(\" '\", \"\").replace(\"'\", \"\").split(',')"
   ]
  },
  {
   "cell_type": "code",
   "execution_count": null,
   "id": "208c38d8",
   "metadata": {},
   "outputs": [],
   "source": []
  },
  {
   "cell_type": "code",
   "execution_count": null,
   "id": "26c25afd",
   "metadata": {},
   "outputs": [],
   "source": []
  },
  {
   "cell_type": "code",
   "execution_count": null,
   "id": "342d118c",
   "metadata": {},
   "outputs": [],
   "source": []
  },
  {
   "cell_type": "code",
   "execution_count": null,
   "id": "01c35e68",
   "metadata": {},
   "outputs": [],
   "source": []
  }
 ],
 "metadata": {
  "kernelspec": {
   "display_name": "Python 3 (ipykernel)",
   "language": "python",
   "name": "python3"
  },
  "language_info": {
   "codemirror_mode": {
    "name": "ipython",
    "version": 3
   },
   "file_extension": ".py",
   "mimetype": "text/x-python",
   "name": "python",
   "nbconvert_exporter": "python",
   "pygments_lexer": "ipython3",
   "version": "3.9.10"
  }
 },
 "nbformat": 4,
 "nbformat_minor": 5
}
