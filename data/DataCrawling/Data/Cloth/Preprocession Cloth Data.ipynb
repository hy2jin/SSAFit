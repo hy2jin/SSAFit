{
 "cells": [
  {
   "cell_type": "code",
   "execution_count": 1,
   "id": "cda1d342",
   "metadata": {},
   "outputs": [],
   "source": [
    "import numpy as np\n",
    "import pandas as pd\n",
    "import requests\n",
    "import csv\n",
    "import ssl\n",
    "from urllib.request import urlopen\n",
    "from urllib.parse import quote_plus"
   ]
  },
  {
   "cell_type": "code",
   "execution_count": 2,
   "id": "40a662e2",
   "metadata": {},
   "outputs": [],
   "source": [
    "pd.set_option('display.max_columns', None)"
   ]
  },
  {
   "cell_type": "markdown",
   "id": "662cac5c",
   "metadata": {},
   "source": [
    " "
   ]
  },
  {
   "cell_type": "markdown",
   "id": "74754ea6",
   "metadata": {},
   "source": [
    " "
   ]
  },
  {
   "cell_type": "markdown",
   "id": "3311d34a",
   "metadata": {},
   "source": [
    "# Top_1"
   ]
  },
  {
   "cell_type": "markdown",
   "id": "284467c3",
   "metadata": {},
   "source": [
    "1. color를 원핫인코딩 변경\n",
    "2. clothSexCommon이 1인 값은 남자와 여자 모두 1로 변경\n",
    "3. user테이블에 그 user가 산 옷들 평균내서 fit ~ thickness ~ season까지 저장"
   ]
  },
  {
   "cell_type": "markdown",
   "id": "fee028d8",
   "metadata": {},
   "source": [
    "top_1 = pd.read_csv('./musinsa_clothes_top_1.csv')"
   ]
  },
  {
   "cell_type": "markdown",
   "id": "1ad758ef",
   "metadata": {
    "scrolled": true
   },
   "source": [
    "top_1.columns"
   ]
  },
  {
   "cell_type": "markdown",
   "id": "d9a7413d",
   "metadata": {},
   "source": [
    "top_1.info()"
   ]
  },
  {
   "cell_type": "markdown",
   "id": "80fe3fa2",
   "metadata": {
    "scrolled": false
   },
   "source": [
    "top_1.describe()"
   ]
  },
  {
   "cell_type": "markdown",
   "id": "9ad1569f",
   "metadata": {},
   "source": [
    "top_1 = top_1.drop_duplicates(subset = \"clothId\")\n",
    "top_1 = top_1.reset_index(drop=True)"
   ]
  },
  {
   "cell_type": "markdown",
   "id": "8b037157",
   "metadata": {},
   "source": [
    "### smallCategory 원핫인코딩 변환"
   ]
  },
  {
   "cell_type": "markdown",
   "id": "0da18f80",
   "metadata": {},
   "source": [
    "top_1.insert(4, \"smallCategoryOthers\", top_1['smallCategory'], True)\n",
    "top_1.insert(4, \"smallCategoryShort\", top_1['smallCategory'], True)\n",
    "top_1.insert(4, \"smallCategoryLong\", top_1['smallCategory'], True)\n",
    "top_1.insert(4, \"smallCategoryKnit\", top_1['smallCategory'], True)\n",
    "top_1.insert(4, \"smallCategorySweatshirt\", top_1['smallCategory'], True)\n",
    "top_1.insert(4, \"smallCategoryHoody\", top_1['smallCategory'], True)\n",
    "top_1.insert(4, \"smallCategoryCollar\", top_1['smallCategory'], True)\n",
    "top_1.insert(4, \"smallCategoryShirt\", top_1['smallCategory'], True)\n",
    "top_1.insert(4, \"smallCategoryHalfshort\", top_1['smallCategory'], True)"
   ]
  },
  {
   "cell_type": "markdown",
   "id": "42c3ca7c",
   "metadata": {},
   "source": [
    "top_1['smallCategoryHalfshort'] = top_1['smallCategoryHalfshort'].apply(lambda x: 1 if x == 101 else 0)\n",
    "top_1['smallCategoryShirt'] = top_1['smallCategoryShirt'].apply(lambda x: 1 if x == 102 else 0)\n",
    "top_1['smallCategoryCollar'] = top_1['smallCategoryCollar'].apply(lambda x: 1 if x == 103 else 0)\n",
    "top_1['smallCategoryHoody'] = top_1['smallCategoryHoody'].apply(lambda x: 1 if x == 104 else 0)\n",
    "top_1['smallCategorySweatshirt'] = top_1['smallCategorySweatshirt'].apply(lambda x: 1 if x == 105 else 0)\n",
    "top_1['smallCategoryKnit'] = top_1['smallCategoryKnit'].apply(lambda x: 1 if x == 106 else 0)\n",
    "top_1['smallCategoryLong'] = top_1['smallCategoryLong'].apply(lambda x: 1 if x == 110 else 0)\n",
    "top_1['smallCategoryShort'] = top_1['smallCategoryShort'].apply(lambda x: 1 if x == 111 else 0)\n",
    "top_1['smallCategoryOthers'] = top_1['smallCategoryOthers'].apply(lambda x: 1 if x == 108 else 0)"
   ]
  },
  {
   "cell_type": "markdown",
   "id": "7f7318f8",
   "metadata": {
    "scrolled": true
   },
   "source": [
    "top_1['largeCategory'].unique()"
   ]
  },
  {
   "cell_type": "markdown",
   "id": "0a7774dc",
   "metadata": {},
   "source": [
    "top_1['largeCategoryName'].unique()"
   ]
  },
  {
   "cell_type": "markdown",
   "id": "8b6ae936",
   "metadata": {
    "scrolled": true
   },
   "source": [
    "top_1['smallCategory'].unique()"
   ]
  },
  {
   "cell_type": "markdown",
   "id": "7aff6184",
   "metadata": {},
   "source": [
    "top_1['smallCategoryName'].unique()"
   ]
  },
  {
   "cell_type": "markdown",
   "id": "3c07e999",
   "metadata": {},
   "source": [
    "top_1 = top_1.drop('smallCategory', axis=1)"
   ]
  },
  {
   "cell_type": "markdown",
   "id": "31396bbd",
   "metadata": {},
   "source": [
    " "
   ]
  },
  {
   "cell_type": "markdown",
   "id": "3c8b1a03",
   "metadata": {
    "scrolled": true
   },
   "source": [
    "top_1.columns"
   ]
  },
  {
   "cell_type": "markdown",
   "id": "a89fbc69",
   "metadata": {},
   "source": [
    "# smallCategory 모든 1의 값의 개수 == 행의 개수\n",
    "\n",
    "num = 0\n",
    "for i in range(3, 12):\n",
    "    num += top_1[top_1.columns[i]].value_counts()[1]\n",
    "print(num)\n",
    "print(top_1.shape)"
   ]
  },
  {
   "cell_type": "markdown",
   "id": "94f12472",
   "metadata": {},
   "source": [
    "### clothSexCommon 변환"
   ]
  },
  {
   "cell_type": "markdown",
   "id": "49262c12",
   "metadata": {
    "scrolled": true
   },
   "source": [
    "top_1.head()"
   ]
  },
  {
   "cell_type": "markdown",
   "id": "f49c3bc3",
   "metadata": {
    "scrolled": true
   },
   "source": [
    "top_1['clothSexMen'] = top_1.apply(lambda x: 1 if x['clothSexCommon'] == 1 else x['clothSexMen'], axis=1)\n",
    "top_1['clothSexWomen'] = top_1.apply(lambda x: 1 if x['clothSexCommon'] == 1 else x['clothSexWomen'], axis=1)"
   ]
  },
  {
   "cell_type": "markdown",
   "id": "bfb41ff4",
   "metadata": {},
   "source": [
    "top_1 = top_1.drop('clothSexCommon', axis=1)"
   ]
  },
  {
   "cell_type": "markdown",
   "id": "89fb6398",
   "metadata": {
    "scrolled": false
   },
   "source": [
    "top_1.columns"
   ]
  },
  {
   "cell_type": "markdown",
   "id": "291c1543",
   "metadata": {},
   "source": [
    "top_1['clothSexMen'] = top_1.apply(lambda x: 1 if (x['clothSexMen']==0 and x['clothSexWomen']==0) else x['clothSexMen'], axis=1)\n",
    "top_1['clothSexWomen'] = top_1.apply(lambda x: 1 if (x['clothSexMen']==0 and x['clothSexWomen']==0) else x['clothSexWomen'], axis=1)"
   ]
  },
  {
   "cell_type": "markdown",
   "id": "a44e3cc8",
   "metadata": {
    "scrolled": false
   },
   "source": [
    "print(top_1['clothSexMen'].value_counts())\n",
    "print(top_1['clothSexWomen'].value_counts())\n",
    "print(top_1.shape)"
   ]
  },
  {
   "cell_type": "markdown",
   "id": "a70421c1",
   "metadata": {},
   "source": [
    "### color 원핫인코딩 변환"
   ]
  },
  {
   "cell_type": "markdown",
   "id": "11e43332",
   "metadata": {},
   "source": [
    "#### 스커트\n",
    "- white (1)\n",
    "- grey (13, 24, 3, 25)\n",
    "- black (2)\n",
    "- red (51, 11, 49)\n",
    "- pink (47, 10, 45, 48, 55)\n",
    "- orange (52, 54, 53, 46, 12)\n",
    "- ivory (23)\n",
    "- yellow (44, 9, 43, 14)\n",
    "- green (33, 31, 32, 6, 34, 30, 35)\n",
    "- blue (37, 38, 7, 36)\n",
    "- purple (41, 39, 8, 40)\n",
    "- brown (4, 27)\n",
    "- beige (28, 26, 29, 5)\n",
    "- jean (16, 57, 58, 59, 60)\n",
    "- pattern (19, 20, 18, 61, 65, 62, 63, 64, 69, 66)\n",
    "- others (71, 67, 70, 17, 21, 68, 22, 15)"
   ]
  },
  {
   "cell_type": "markdown",
   "id": "b72353b7",
   "metadata": {},
   "source": [
    "#### 원피스\n",
    "- white (1)\n",
    "- grey (13, 24, 3, 25)\n",
    "- black (2)\n",
    "- red (51, 11, 49)\n",
    "- pink (50, 47, 10, 45, 48, 55)\n",
    "- orange (52, 54, 53, 46, 12)\n",
    "- ivory (23)\n",
    "- yellow (44, 9, 43, 14)\n",
    "- green (33, 31, 32, 6, 34, 30, 35)\n",
    "- blue (37, 38, 7, 36)\n",
    "- purple (41, 39, 8, 40)\n",
    "- brown (4, 56, 27)\n",
    "- beige (28, 26, 29, 5)\n",
    "- jean (16, 57, 58, 59, 60)\n",
    "- pattern (19, 20, 18, 61, 65, 62, 64, 69, 66)\n",
    "- others (71, 67, 70, 17, 21, 68, 22, 15)"
   ]
  },
  {
   "cell_type": "markdown",
   "id": "813b48ba",
   "metadata": {},
   "source": [
    "#### 바지\n",
    "- white (1)\n",
    "- grey (13, 24, 3, 25)\n",
    "- black (2)\n",
    "- red (51, 11, 49)\n",
    "- pink (50, 47, 10, 45, 48, 55)\n",
    "- orange (52, 54, 53, 46, 12)\n",
    "- ivory (23)\n",
    "- yellow (44, 9, 43, 14)\n",
    "- green (33, 31, 32, 6, 34, 30, 35)\n",
    "- blue (37, 38, 7, 36)\n",
    "- purple (41, 39, 8, 40)\n",
    "- brown (4, 56, 27)\n",
    "- beige (28, 26, 29, 5)\n",
    "- jean (16, 57, 58, 59, 60)\n",
    "- pattern (19, 20, 18, 61, 65, 62, 63, 69, 66)\n",
    "- others (71, 67, 70, 17, 21, 68, 22, 15)"
   ]
  },
  {
   "cell_type": "markdown",
   "id": "07afa4f2",
   "metadata": {},
   "source": [
    "#### 아우터\n",
    "- white (1)\n",
    "- grey (13, 24, 3, 25)\n",
    "- black (2)\n",
    "- red (51, 11, 49)\n",
    "- pink (50, 47, 10, 45, 48, 55)\n",
    "- orange (52, 54, 53, 46, 12)\n",
    "- ivory (23)\n",
    "- yellow (44, 9, 43, 14)\n",
    "- green (33, 31, 32, 6, 34, 30, 35)\n",
    "- blue (37, 38, 7, 36)\n",
    "- purple (41, 39, 8, 40)\n",
    "- brown (4, 56, 27)\n",
    "- beige (28, 26, 29, 5)\n",
    "- jean (16, 57, 58, 59, 60)\n",
    "- pattern (19, 20, 18, 61, 65, 62, 63, 64, 69, 66)\n",
    "- others (71, 67, 70, 17, 21, 68, 22, 15)"
   ]
  },
  {
   "cell_type": "markdown",
   "id": "0fedc87d",
   "metadata": {},
   "source": [
    "#### 상의\n",
    "- white (1)\n",
    "- grey (13, 24, 3, 25)\n",
    "- black (2)\n",
    "- red (51, 11, 49)\n",
    "- pink (50, 47, 10, 45, 48, 55)\n",
    "- orange (52, 54, 53, 46, 12)\n",
    "- ivory (23)\n",
    "- yellow (44, 9, 43, 14)\n",
    "- green (33, 31, 32, 6, 34, 30, 35)\n",
    "- blue (37, 38, 7, 36)\n",
    "- purple (41, 39, 8, 40)\n",
    "- brown (4, 56, 27)\n",
    "- beige (28, 26, 29, 5)\n",
    "- jean (16, 57, 58, 59, 60)\n",
    "- pattern (19, 20, 18, 61, 65, 62, 63, 64, 69, 66)\n",
    "- others (71, 67, 70, 17, 21, 68, 22, 15)"
   ]
  },
  {
   "cell_type": "markdown",
   "id": "aa2ccbd6",
   "metadata": {},
   "source": [
    "top_1.insert(14, \"colorOthers\", top_1['colorNo'], True)\n",
    "top_1.insert(14, \"colorPattern\", top_1['colorNo'], True)\n",
    "top_1.insert(14, \"colorJean\", top_1['colorNo'], True)\n",
    "top_1.insert(14, \"colorBeige\", top_1['colorNo'], True)\n",
    "top_1.insert(14, \"colorBrown\", top_1['colorNo'], True)\n",
    "top_1.insert(14, \"colorPurple\", top_1['colorNo'], True)\n",
    "top_1.insert(14, \"colorBlue\", top_1['colorNo'], True)\n",
    "top_1.insert(14, \"colorGreen\", top_1['colorNo'], True)\n",
    "top_1.insert(14, \"colorYellow\", top_1['colorNo'], True)\n",
    "top_1.insert(14, \"colorIvory\", top_1['colorNo'], True)\n",
    "top_1.insert(14, \"colorOrange\", top_1['colorNo'], True)\n",
    "top_1.insert(14, \"colorPink\", top_1['colorNo'], True)\n",
    "top_1.insert(14, \"colorRed\", top_1['colorNo'], True)\n",
    "top_1.insert(14, \"colorBlack\", top_1['colorNo'], True)\n",
    "top_1.insert(14, \"colorGrey\", top_1['colorNo'], True)\n",
    "top_1.insert(14, \"colorWhite\", top_1['colorNo'], True)"
   ]
  },
  {
   "cell_type": "markdown",
   "id": "14576f19",
   "metadata": {},
   "source": [
    "top_1['colorWhite'] = top_1['colorWhite'].apply(lambda x: 1 if x == 1 else 0)\n",
    "top_1['colorGrey'] = top_1['colorGrey'].apply(lambda x: 1 if x in [13, 24, 3, 25] else 0)\n",
    "top_1['colorBlack'] = top_1['colorBlack'].apply(lambda x: 1 if x == 2 else 0)\n",
    "top_1['colorRed'] = top_1['colorRed'].apply(lambda x: 1 if x in [51, 11, 49] else 0)\n",
    "top_1['colorPink'] = top_1['colorPink'].apply(lambda x: 1 if x in [50, 47, 10, 45, 48, 55] else 0)\n",
    "top_1['colorOrange'] = top_1['colorOrange'].apply(lambda x: 1 if x in [52, 54, 53, 46, 12] else 0)\n",
    "top_1['colorIvory'] = top_1['colorIvory'].apply(lambda x: 1 if x == 23 else 0)\n",
    "top_1['colorYellow'] = top_1['colorYellow'].apply(lambda x: 1 if x in [44, 9, 43, 14] else 0)\n",
    "top_1['colorGreen'] = top_1['colorGreen'].apply(lambda x: 1 if x in [33, 31, 32, 6, 34, 30, 35] else 0)\n",
    "top_1['colorBlue'] = top_1['colorBlue'].apply(lambda x: 1 if x in [37, 38, 7, 36] else 0)\n",
    "top_1['colorPurple'] = top_1['colorPurple'].apply(lambda x: 1 if x in [41, 39, 8, 40] else 0)\n",
    "top_1['colorBrown'] = top_1['colorBrown'].apply(lambda x: 1 if x in [4, 56, 27] else 0)\n",
    "top_1['colorBeige'] = top_1['colorBeige'].apply(lambda x: 1 if x in [28, 26, 29, 5] else 0)\n",
    "top_1['colorJean'] = top_1['colorJean'].apply(lambda x: 1 if x in [16, 57, 58, 59, 60] else 0)\n",
    "top_1['colorPattern'] = top_1['colorPattern'].apply(lambda x: 1 if x in [19, 20, 18, 61, 65, 62, 63, 64, 69, 66] else 0)\n",
    "top_1['colorOthers'] = top_1['colorOthers'].apply(lambda x: 1 if x in [71, 67, 70, 17, 21, 68, 22, 15] else 0)"
   ]
  },
  {
   "cell_type": "markdown",
   "id": "86082a96",
   "metadata": {},
   "source": [
    "top_1 = top_1.drop('colorNo', axis=1)"
   ]
  },
  {
   "cell_type": "markdown",
   "id": "cb0a3d4c",
   "metadata": {},
   "source": [
    "top_1.columns"
   ]
  },
  {
   "cell_type": "markdown",
   "id": "07e70b8d",
   "metadata": {
    "scrolled": true
   },
   "source": [
    "top_1.insert(29, \"colorName\", True)"
   ]
  },
  {
   "cell_type": "markdown",
   "id": "d10f15e7",
   "metadata": {},
   "source": [
    "top_1['colorName'] = top_1.apply(lambda x: 'white' if x['colorWhite']==1 else x['colorName'], axis=1)\n",
    "top_1['colorName'] = top_1.apply(lambda x: 'grey' if x['colorGrey']==1 else x['colorName'], axis=1)\n",
    "top_1['colorName'] = top_1.apply(lambda x: 'black' if x['colorBlack']==1 else x['colorName'], axis=1)\n",
    "top_1['colorName'] = top_1.apply(lambda x: 'red' if x['colorRed']==1 else x['colorName'], axis=1)\n",
    "top_1['colorName'] = top_1.apply(lambda x: 'pink' if x['colorPink']==1 else x['colorName'], axis=1)\n",
    "top_1['colorName'] = top_1.apply(lambda x: 'orange' if x['colorOrange']==1 else x['colorName'], axis=1)\n",
    "top_1['colorName'] = top_1.apply(lambda x: 'ivory' if x['colorIvory']==1 else x['colorName'], axis=1)\n",
    "top_1['colorName'] = top_1.apply(lambda x: 'yellow' if x['colorYellow']==1 else x['colorName'], axis=1)\n",
    "top_1['colorName'] = top_1.apply(lambda x: 'green' if x['colorGreen']==1 else x['colorName'], axis=1)\n",
    "top_1['colorName'] = top_1.apply(lambda x: 'blue' if x['colorBlue']==1 else x['colorName'], axis=1)\n",
    "top_1['colorName'] = top_1.apply(lambda x: 'purple' if x['colorPurple']==1 else x['colorName'], axis=1)\n",
    "top_1['colorName'] = top_1.apply(lambda x: 'brown' if x['colorBrown']==1 else x['colorName'], axis=1)\n",
    "top_1['colorName'] = top_1.apply(lambda x: 'beige' if x['colorBeige']==1 else x['colorName'], axis=1)\n",
    "top_1['colorName'] = top_1.apply(lambda x: 'jean' if x['colorJean']==1 else x['colorName'], axis=1)\n",
    "top_1['colorName'] = top_1.apply(lambda x: 'pattern' if x['colorPattern']==1 else x['colorName'], axis=1)\n",
    "top_1['colorName'] = top_1.apply(lambda x: 'others' if x['colorOthers']==1 else x['colorName'], axis=1)"
   ]
  },
  {
   "cell_type": "markdown",
   "id": "6bb85280",
   "metadata": {
    "scrolled": true
   },
   "source": [
    "top_1['colorName'].value_counts()"
   ]
  },
  {
   "cell_type": "markdown",
   "id": "f6145c66",
   "metadata": {},
   "source": [
    "### Price 전처리"
   ]
  },
  {
   "cell_type": "markdown",
   "id": "c3535a94",
   "metadata": {
    "scrolled": false
   },
   "source": [
    "top_1['clothPrice'] = top_1['clothPrice'].apply(lambda x: x.replace(\",\", \"\"))\n",
    "top_1['clothPrice'] = top_1['clothPrice'].apply(lambda x: x.replace(\"원\", \"\"))\n",
    "top_1['clothPrice']"
   ]
  },
  {
   "cell_type": "markdown",
   "id": "78d49de0",
   "metadata": {},
   "source": [
    "top_1['clothPrice'] = top_1['clothPrice'].astype('int')"
   ]
  },
  {
   "cell_type": "markdown",
   "id": "26bdd3fb",
   "metadata": {
    "scrolled": true
   },
   "source": [
    "top_1['clothReviewNo'] = top_1['clothReviewNo'].apply(lambda x: x.replace(\",\", \"\"))\n",
    "top_1['clothReviewNo'] = top_1['clothReviewNo'].astype('int')\n",
    "top_1['clothReviewNo']"
   ]
  },
  {
   "cell_type": "markdown",
   "id": "6a253ac3",
   "metadata": {},
   "source": [
    "top_1.index = top_1['clothId']\n",
    "top_1 = top_1.drop('clothId', True)\n",
    "print(top_1)"
   ]
  },
  {
   "cell_type": "markdown",
   "id": "872e97cd",
   "metadata": {
    "scrolled": false
   },
   "source": [
    "top_1.info()"
   ]
  },
  {
   "cell_type": "markdown",
   "id": "5683181a",
   "metadata": {},
   "source": [
    " "
   ]
  },
  {
   "cell_type": "markdown",
   "id": "6dac5294",
   "metadata": {},
   "source": [
    " "
   ]
  },
  {
   "cell_type": "markdown",
   "id": "92a43dfd",
   "metadata": {},
   "source": [
    " "
   ]
  },
  {
   "cell_type": "markdown",
   "id": "c69a9c38",
   "metadata": {},
   "source": [
    "# Top_2"
   ]
  },
  {
   "cell_type": "markdown",
   "id": "a4ef081d",
   "metadata": {
    "scrolled": true
   },
   "source": [
    "top_2 = pd.read_csv('./musinsa_clothes_top_2.csv')"
   ]
  },
  {
   "cell_type": "markdown",
   "id": "38e32446",
   "metadata": {
    "scrolled": true
   },
   "source": [
    "top_2.columns"
   ]
  },
  {
   "cell_type": "markdown",
   "id": "56c1794c",
   "metadata": {},
   "source": [
    "top_2.info()"
   ]
  },
  {
   "cell_type": "markdown",
   "id": "002d433b",
   "metadata": {
    "scrolled": false
   },
   "source": [
    "top_2.describe()"
   ]
  },
  {
   "cell_type": "markdown",
   "id": "3227798d",
   "metadata": {},
   "source": [
    "top_2 = top_2.drop_duplicates(subset = \"clothId\")\n",
    "top_2 = top_2.reset_index(drop=True)"
   ]
  },
  {
   "cell_type": "markdown",
   "id": "15e76a51",
   "metadata": {},
   "source": [
    "top_2['smallCategory'] = top_2['smallCategory'].astype('str')"
   ]
  },
  {
   "cell_type": "markdown",
   "id": "8e5b40be",
   "metadata": {},
   "source": [
    "top_2['largeCategory'].unique()"
   ]
  },
  {
   "cell_type": "markdown",
   "id": "cf7888c4",
   "metadata": {},
   "source": [
    "top_2['largeCategoryName'].unique()"
   ]
  },
  {
   "cell_type": "markdown",
   "id": "09bfd471",
   "metadata": {},
   "source": [
    "top_2['smallCategory'].unique()"
   ]
  },
  {
   "cell_type": "markdown",
   "id": "8a1f85e8",
   "metadata": {
    "scrolled": false
   },
   "source": [
    "top_2['smallCategoryName'].unique()"
   ]
  },
  {
   "cell_type": "markdown",
   "id": "22640346",
   "metadata": {
    "scrolled": true
   },
   "source": [
    "top_2[top_2['smallCategoryName']=='\\r\\n            (나이키)        ']"
   ]
  },
  {
   "cell_type": "markdown",
   "id": "9e02df88",
   "metadata": {},
   "source": [
    "top_2.loc[top_2.smallCategoryName=='\\r\\n            (나이키)        ', ('smallCategoryName')] = '반팔 티셔츠'"
   ]
  },
  {
   "cell_type": "markdown",
   "id": "b8ac6051",
   "metadata": {
    "scrolled": true
   },
   "source": [
    "top_2[top_2['smallCategory']==\"1s=\"]"
   ]
  },
  {
   "cell_type": "markdown",
   "id": "d973fcf7",
   "metadata": {},
   "source": [
    "top_2.loc[top_2.smallCategory=='1s=', ('smallCategory')] = '101'"
   ]
  },
  {
   "cell_type": "markdown",
   "id": "e8977872",
   "metadata": {},
   "source": [
    "top_2['smallCategory'] = top_2['smallCategory'].astype('int')"
   ]
  },
  {
   "cell_type": "markdown",
   "id": "e2ebe82c",
   "metadata": {},
   "source": [
    "### smallCategory 원핫인코딩 변환"
   ]
  },
  {
   "cell_type": "markdown",
   "id": "2db64114",
   "metadata": {},
   "source": [
    "top_2.insert(4, \"smallCategoryOthers\", top_2['smallCategory'], True)\n",
    "top_2.insert(4, \"smallCategoryShort\", top_2['smallCategory'], True)\n",
    "top_2.insert(4, \"smallCategoryLong\", top_2['smallCategory'], True)\n",
    "top_2.insert(4, \"smallCategoryKnit\", top_2['smallCategory'], True)\n",
    "top_2.insert(4, \"smallCategorySweatshirt\", top_2['smallCategory'], True)\n",
    "top_2.insert(4, \"smallCategoryHoody\", top_2['smallCategory'], True)\n",
    "top_2.insert(4, \"smallCategoryCollar\", top_2['smallCategory'], True)\n",
    "top_2.insert(4, \"smallCategoryShirt\", top_2['smallCategory'], True)\n",
    "top_2.insert(4, \"smallCategoryHalfshort\", top_2['smallCategory'], True)"
   ]
  },
  {
   "cell_type": "markdown",
   "id": "7058892c",
   "metadata": {},
   "source": [
    "top_2['smallCategoryHalfshort'] = top_2['smallCategoryHalfshort'].apply(lambda x: 1 if x == 101 else 0)\n",
    "top_2['smallCategoryShirt'] = top_2['smallCategoryShirt'].apply(lambda x: 1 if x == 102 else 0)\n",
    "top_2['smallCategoryCollar'] = top_2['smallCategoryCollar'].apply(lambda x: 1 if x == 103 else 0)\n",
    "top_2['smallCategoryHoody'] = top_2['smallCategoryHoody'].apply(lambda x: 1 if x == 104 else 0)\n",
    "top_2['smallCategorySweatshirt'] = top_2['smallCategorySweatshirt'].apply(lambda x: 1 if x == 105 else 0)\n",
    "top_2['smallCategoryKnit'] = top_2['smallCategoryKnit'].apply(lambda x: 1 if x == 106 else 0)\n",
    "top_2['smallCategoryLong'] = top_2['smallCategoryLong'].apply(lambda x: 1 if x == 110 else 0)\n",
    "top_2['smallCategoryShort'] = top_2['smallCategoryShort'].apply(lambda x: 1 if x == 111 else 0)\n",
    "top_2['smallCategoryOthers'] = top_2['smallCategoryOthers'].apply(lambda x: 1 if x == 108 else 0)"
   ]
  },
  {
   "cell_type": "markdown",
   "id": "e3a35bb1",
   "metadata": {},
   "source": [
    "top_2 = top_2.drop('smallCategory', axis=1)"
   ]
  },
  {
   "cell_type": "markdown",
   "id": "907c02a0",
   "metadata": {},
   "source": [
    " "
   ]
  },
  {
   "cell_type": "markdown",
   "id": "da1e7ea4",
   "metadata": {
    "scrolled": true
   },
   "source": [
    "top_2.columns"
   ]
  },
  {
   "cell_type": "markdown",
   "id": "62cf1b35",
   "metadata": {},
   "source": [
    "# smallCategory 모든 1의 값의 개수 == 행의 개수\n",
    "\n",
    "num = 0\n",
    "for i in range(3, 12):\n",
    "    num += top_2[top_2.columns[i]].value_counts()[1]\n",
    "print(num)\n",
    "print(top_2.shape)"
   ]
  },
  {
   "cell_type": "markdown",
   "id": "6be74b49",
   "metadata": {},
   "source": [
    "### clothSexCommon 변환"
   ]
  },
  {
   "cell_type": "markdown",
   "id": "f122c672",
   "metadata": {
    "scrolled": true
   },
   "source": [
    "top_2['clothSexMen'] = top_2.apply(lambda x: 1 if x['clothSexCommon'] == 1 else x['clothSexMen'], axis=1)\n",
    "top_2['clothSexWomen'] = top_2.apply(lambda x: 1 if x['clothSexCommon'] == 1 else x['clothSexWomen'], axis=1)"
   ]
  },
  {
   "cell_type": "markdown",
   "id": "b46a1a5e",
   "metadata": {},
   "source": [
    "top_2 = top_2.drop('clothSexCommon', axis=1)"
   ]
  },
  {
   "cell_type": "markdown",
   "id": "d7ac1c46",
   "metadata": {
    "scrolled": false
   },
   "source": [
    "top_2.columns"
   ]
  },
  {
   "cell_type": "markdown",
   "id": "29622215",
   "metadata": {},
   "source": [
    "top_2['clothSexMen'] = top_2.apply(lambda x: 1 if (x['clothSexMen']==0 and x['clothSexWomen']==0) else x['clothSexMen'], axis=1)\n",
    "top_2['clothSexWomen'] = top_2.apply(lambda x: 1 if (x['clothSexMen']==0 and x['clothSexWomen']==0) else x['clothSexWomen'], axis=1)"
   ]
  },
  {
   "cell_type": "markdown",
   "id": "54ff2558",
   "metadata": {
    "scrolled": false
   },
   "source": [
    "print(top_2['clothSexMen'].value_counts())\n",
    "print(top_2['clothSexWomen'].value_counts())\n",
    "print(top_2.shape)"
   ]
  },
  {
   "cell_type": "markdown",
   "id": "d6ab9d9a",
   "metadata": {},
   "source": [
    "### color 원핫인코딩 변환"
   ]
  },
  {
   "cell_type": "markdown",
   "id": "9baab79c",
   "metadata": {},
   "source": [
    "#### 상의\n",
    "- white (1)\n",
    "- grey (13, 24, 3, 25)\n",
    "- black (2)\n",
    "- red (51, 11, 49)\n",
    "- pink (50, 47, 10, 45, 48, 55)\n",
    "- orange (52, 54, 53, 46, 12)\n",
    "- ivory (23)\n",
    "- yellow (44, 9, 43, 14)\n",
    "- green (33, 31, 32, 6, 34, 30, 35)\n",
    "- blue (37, 38, 7, 36)\n",
    "- purple (41, 39, 8, 40)\n",
    "- brown (4, 56, 27)\n",
    "- beige (28, 26, 29, 5)\n",
    "- jean (16, 57, 58, 59, 60)\n",
    "- pattern (19, 20, 18, 61, 65, 62, 63, 64, 69, 66)\n",
    "- others (71, 67, 70, 17, 21, 68, 22, 15)"
   ]
  },
  {
   "cell_type": "markdown",
   "id": "8a80f288",
   "metadata": {},
   "source": [
    "top_2.insert(14, \"colorOthers\", top_2['colorNo'], True)\n",
    "top_2.insert(14, \"colorPattern\", top_2['colorNo'], True)\n",
    "top_2.insert(14, \"colorJean\", top_2['colorNo'], True)\n",
    "top_2.insert(14, \"colorBeige\", top_2['colorNo'], True)\n",
    "top_2.insert(14, \"colorBrown\", top_2['colorNo'], True)\n",
    "top_2.insert(14, \"colorPurple\", top_2['colorNo'], True)\n",
    "top_2.insert(14, \"colorBlue\", top_2['colorNo'], True)\n",
    "top_2.insert(14, \"colorGreen\", top_2['colorNo'], True)\n",
    "top_2.insert(14, \"colorYellow\", top_2['colorNo'], True)\n",
    "top_2.insert(14, \"colorIvory\", top_2['colorNo'], True)\n",
    "top_2.insert(14, \"colorOrange\", top_2['colorNo'], True)\n",
    "top_2.insert(14, \"colorPink\", top_2['colorNo'], True)\n",
    "top_2.insert(14, \"colorRed\", top_2['colorNo'], True)\n",
    "top_2.insert(14, \"colorBlack\", top_2['colorNo'], True)\n",
    "top_2.insert(14, \"colorGrey\", top_2['colorNo'], True)\n",
    "top_2.insert(14, \"colorWhite\", top_2['colorNo'], True)"
   ]
  },
  {
   "cell_type": "markdown",
   "id": "97149408",
   "metadata": {},
   "source": [
    "top_2['colorWhite'] = top_2['colorWhite'].apply(lambda x: 1 if x == 1 else 0)\n",
    "top_2['colorGrey'] = top_2['colorGrey'].apply(lambda x: 1 if x in [13, 24, 3, 25] else 0)\n",
    "top_2['colorBlack'] = top_2['colorBlack'].apply(lambda x: 1 if x == 2 else 0)\n",
    "top_2['colorRed'] = top_2['colorRed'].apply(lambda x: 1 if x in [51, 11, 49] else 0)\n",
    "top_2['colorPink'] = top_2['colorPink'].apply(lambda x: 1 if x in [50, 47, 10, 45, 48, 55] else 0)\n",
    "top_2['colorOrange'] = top_2['colorOrange'].apply(lambda x: 1 if x in [52, 54, 53, 46, 12] else 0)\n",
    "top_2['colorIvory'] = top_2['colorIvory'].apply(lambda x: 1 if x == 23 else 0)\n",
    "top_2['colorYellow'] = top_2['colorYellow'].apply(lambda x: 1 if x in [44, 9, 43, 14] else 0)\n",
    "top_2['colorGreen'] = top_2['colorGreen'].apply(lambda x: 1 if x in [33, 31, 32, 6, 34, 30, 35] else 0)\n",
    "top_2['colorBlue'] = top_2['colorBlue'].apply(lambda x: 1 if x in [37, 38, 7, 36] else 0)\n",
    "top_2['colorPurple'] = top_2['colorPurple'].apply(lambda x: 1 if x in [41, 39, 8, 40] else 0)\n",
    "top_2['colorBrown'] = top_2['colorBrown'].apply(lambda x: 1 if x in [4, 56, 27] else 0)\n",
    "top_2['colorBeige'] = top_2['colorBeige'].apply(lambda x: 1 if x in [28, 26, 29, 5] else 0)\n",
    "top_2['colorJean'] = top_2['colorJean'].apply(lambda x: 1 if x in [16, 57, 58, 59, 60] else 0)\n",
    "top_2['colorPattern'] = top_2['colorPattern'].apply(lambda x: 1 if x in [19, 20, 18, 61, 65, 62, 63, 64, 69, 66] else 0)\n",
    "top_2['colorOthers'] = top_2['colorOthers'].apply(lambda x: 1 if x in [71, 67, 70, 17, 21, 68, 22, 15] else 0)"
   ]
  },
  {
   "cell_type": "markdown",
   "id": "df173760",
   "metadata": {},
   "source": [
    "top_2 = top_2.drop('colorNo', axis=1)"
   ]
  },
  {
   "cell_type": "markdown",
   "id": "4377429b",
   "metadata": {
    "scrolled": false
   },
   "source": [
    "print(top_2.columns)"
   ]
  },
  {
   "cell_type": "markdown",
   "id": "df0c90ec",
   "metadata": {},
   "source": [
    "# color도 모든 1의 값의 개수 == 행의 개수\n",
    "for i in range(13, 29):\n",
    "    print(top_2[top_2.columns[i]].value_counts())\n",
    "print(top_2.shape)"
   ]
  },
  {
   "cell_type": "markdown",
   "id": "f36e0fcd",
   "metadata": {
    "scrolled": true
   },
   "source": [
    "top_2.insert(29, \"colorName\", True)"
   ]
  },
  {
   "cell_type": "markdown",
   "id": "1e0e64c6",
   "metadata": {},
   "source": [
    "top_2['colorName'] = top_2.apply(lambda x: 'white' if x['colorWhite']==1 else x['colorName'], axis=1)\n",
    "top_2['colorName'] = top_2.apply(lambda x: 'grey' if x['colorGrey']==1 else x['colorName'], axis=1)\n",
    "top_2['colorName'] = top_2.apply(lambda x: 'black' if x['colorBlack']==1 else x['colorName'], axis=1)\n",
    "top_2['colorName'] = top_2.apply(lambda x: 'red' if x['colorRed']==1 else x['colorName'], axis=1)\n",
    "top_2['colorName'] = top_2.apply(lambda x: 'pink' if x['colorPink']==1 else x['colorName'], axis=1)\n",
    "top_2['colorName'] = top_2.apply(lambda x: 'orange' if x['colorOrange']==1 else x['colorName'], axis=1)\n",
    "top_2['colorName'] = top_2.apply(lambda x: 'ivory' if x['colorIvory']==1 else x['colorName'], axis=1)\n",
    "top_2['colorName'] = top_2.apply(lambda x: 'yellow' if x['colorYellow']==1 else x['colorName'], axis=1)\n",
    "top_2['colorName'] = top_2.apply(lambda x: 'green' if x['colorGreen']==1 else x['colorName'], axis=1)\n",
    "top_2['colorName'] = top_2.apply(lambda x: 'blue' if x['colorBlue']==1 else x['colorName'], axis=1)\n",
    "top_2['colorName'] = top_2.apply(lambda x: 'purple' if x['colorPurple']==1 else x['colorName'], axis=1)\n",
    "top_2['colorName'] = top_2.apply(lambda x: 'brown' if x['colorBrown']==1 else x['colorName'], axis=1)\n",
    "top_2['colorName'] = top_2.apply(lambda x: 'beige' if x['colorBeige']==1 else x['colorName'], axis=1)\n",
    "top_2['colorName'] = top_2.apply(lambda x: 'jean' if x['colorJean']==1 else x['colorName'], axis=1)\n",
    "top_2['colorName'] = top_2.apply(lambda x: 'pattern' if x['colorPattern']==1 else x['colorName'], axis=1)\n",
    "top_2['colorName'] = top_2.apply(lambda x: 'others' if x['colorOthers']==1 else x['colorName'], axis=1)"
   ]
  },
  {
   "cell_type": "markdown",
   "id": "a23a53c8",
   "metadata": {
    "scrolled": false
   },
   "source": [
    "top_2['colorName'].value_counts()"
   ]
  },
  {
   "cell_type": "markdown",
   "id": "ada513c4",
   "metadata": {},
   "source": [
    "### Price 전처리"
   ]
  },
  {
   "cell_type": "markdown",
   "id": "ff619bdf",
   "metadata": {
    "scrolled": true
   },
   "source": [
    "top_2['clothPrice'] = top_2['clothPrice'].apply(lambda x: x.replace(\",\", \"\"))\n",
    "top_2['clothPrice'] = top_2['clothPrice'].apply(lambda x: x.replace(\"원\", \"\"))\n",
    "top_2['clothPrice']"
   ]
  },
  {
   "cell_type": "markdown",
   "id": "976dae8b",
   "metadata": {},
   "source": [
    "top_2['clothPrice'] = top_2['clothPrice'].astype('int')"
   ]
  },
  {
   "cell_type": "markdown",
   "id": "32da9cad",
   "metadata": {
    "scrolled": false
   },
   "source": [
    "top_2['clothReviewNo'] = top_2['clothReviewNo'].apply(lambda x: x.replace(\",\", \"\"))\n",
    "top_2['clothReviewNo'] = top_2['clothReviewNo'].astype('int')\n",
    "top_2['clothReviewNo']"
   ]
  },
  {
   "cell_type": "markdown",
   "id": "1fb4610a",
   "metadata": {},
   "source": [
    "top_2.index = top_2['clothId']\n",
    "top_2 = top_2.drop('clothId', True)\n",
    "print(top_2)"
   ]
  },
  {
   "cell_type": "markdown",
   "id": "62253a2d",
   "metadata": {
    "scrolled": false
   },
   "source": [
    "top_2.info()"
   ]
  },
  {
   "cell_type": "markdown",
   "id": "f878d191",
   "metadata": {},
   "source": [
    " "
   ]
  },
  {
   "cell_type": "markdown",
   "id": "6497db1f",
   "metadata": {},
   "source": [
    " "
   ]
  },
  {
   "cell_type": "markdown",
   "id": "1fdf7aca",
   "metadata": {},
   "source": [
    " "
   ]
  },
  {
   "cell_type": "markdown",
   "id": "e558888e",
   "metadata": {},
   "source": [
    "# Top_3"
   ]
  },
  {
   "cell_type": "markdown",
   "id": "e1270aab",
   "metadata": {
    "scrolled": true
   },
   "source": [
    "top_3 = pd.read_csv('./musinsa_clothes_top_3.csv')"
   ]
  },
  {
   "cell_type": "markdown",
   "id": "c62ad36c",
   "metadata": {
    "scrolled": true
   },
   "source": [
    "top_3.columns"
   ]
  },
  {
   "cell_type": "markdown",
   "id": "6ce9f097",
   "metadata": {},
   "source": [
    "top_3.info()"
   ]
  },
  {
   "cell_type": "markdown",
   "id": "02bdaa5a",
   "metadata": {
    "scrolled": true
   },
   "source": [
    "top_3.describe()"
   ]
  },
  {
   "cell_type": "markdown",
   "id": "6fa321f6",
   "metadata": {},
   "source": [
    "top_3 = top_3.drop_duplicates(subset = \"clothId\")\n",
    "top_3 = top_3.reset_index(drop=True)"
   ]
  },
  {
   "cell_type": "markdown",
   "id": "07c364e5",
   "metadata": {},
   "source": [
    "top_3['smallCategory'] = top_3['smallCategory'].astype('str')"
   ]
  },
  {
   "cell_type": "markdown",
   "id": "13b3712e",
   "metadata": {},
   "source": [
    "top_3['largeCategory'].unique()"
   ]
  },
  {
   "cell_type": "markdown",
   "id": "0288e009",
   "metadata": {},
   "source": [
    "top_3['largeCategoryName'].unique()"
   ]
  },
  {
   "cell_type": "markdown",
   "id": "445f822e",
   "metadata": {},
   "source": [
    "top_3['smallCategory'].unique()"
   ]
  },
  {
   "cell_type": "markdown",
   "id": "ef2b2c24",
   "metadata": {
    "scrolled": false
   },
   "source": [
    "top_3['smallCategoryName'].unique()"
   ]
  },
  {
   "cell_type": "markdown",
   "id": "98a8dd3a",
   "metadata": {
    "scrolled": true
   },
   "source": [
    "top_3[top_3['smallCategoryName']=='\\r\\n            (나이키)        ']"
   ]
  },
  {
   "cell_type": "markdown",
   "id": "defc9566",
   "metadata": {},
   "source": [
    "top_3.loc[top_3.smallCategoryName=='\\r\\n            (로라로라)        ', ('smallCategoryName')] = '후드 티셔츠'"
   ]
  },
  {
   "cell_type": "markdown",
   "id": "1f94a123",
   "metadata": {
    "scrolled": true
   },
   "source": [
    "top_3[top_3['smallCategory']==\"1s=\"]"
   ]
  },
  {
   "cell_type": "markdown",
   "id": "68d979b9",
   "metadata": {},
   "source": [
    "top_3.loc[top_3.smallCategory=='1s=', ('smallCategory')] = '104'"
   ]
  },
  {
   "cell_type": "markdown",
   "id": "3436f78e",
   "metadata": {},
   "source": [
    "top_3['smallCategory'] = top_3['smallCategory'].astype('int')"
   ]
  },
  {
   "cell_type": "markdown",
   "id": "48a70287",
   "metadata": {},
   "source": [
    "### smallCategory 원핫인코딩 변환"
   ]
  },
  {
   "cell_type": "markdown",
   "id": "7ac912cf",
   "metadata": {},
   "source": [
    "top_3.insert(4, \"smallCategoryOthers\", top_3['smallCategory'], True)\n",
    "top_3.insert(4, \"smallCategoryShort\", top_3['smallCategory'], True)\n",
    "top_3.insert(4, \"smallCategoryLong\", top_3['smallCategory'], True)\n",
    "top_3.insert(4, \"smallCategoryKnit\", top_3['smallCategory'], True)\n",
    "top_3.insert(4, \"smallCategorySweatshirt\", top_3['smallCategory'], True)\n",
    "top_3.insert(4, \"smallCategoryHoody\", top_3['smallCategory'], True)\n",
    "top_3.insert(4, \"smallCategoryCollar\", top_3['smallCategory'], True)\n",
    "top_3.insert(4, \"smallCategoryShirt\", top_3['smallCategory'], True)\n",
    "top_3.insert(4, \"smallCategoryHalfshort\", top_3['smallCategory'], True)"
   ]
  },
  {
   "cell_type": "markdown",
   "id": "e8e949ad",
   "metadata": {},
   "source": [
    "top_3['smallCategoryHalfshort'] = top_3['smallCategoryHalfshort'].apply(lambda x: 1 if x == 101 else 0)\n",
    "top_3['smallCategoryShirt'] = top_3['smallCategoryShirt'].apply(lambda x: 1 if x == 102 else 0)\n",
    "top_3['smallCategoryCollar'] = top_3['smallCategoryCollar'].apply(lambda x: 1 if x == 103 else 0)\n",
    "top_3['smallCategoryHoody'] = top_3['smallCategoryHoody'].apply(lambda x: 1 if x == 104 else 0)\n",
    "top_3['smallCategorySweatshirt'] = top_3['smallCategorySweatshirt'].apply(lambda x: 1 if x == 105 else 0)\n",
    "top_3['smallCategoryKnit'] = top_3['smallCategoryKnit'].apply(lambda x: 1 if x == 106 else 0)\n",
    "top_3['smallCategoryLong'] = top_3['smallCategoryLong'].apply(lambda x: 1 if x == 110 else 0)\n",
    "top_3['smallCategoryShort'] = top_3['smallCategoryShort'].apply(lambda x: 1 if x == 111 else 0)\n",
    "top_3['smallCategoryOthers'] = top_3['smallCategoryOthers'].apply(lambda x: 1 if x == 108 else 0)"
   ]
  },
  {
   "cell_type": "markdown",
   "id": "4955fd29",
   "metadata": {},
   "source": [
    "top_3 = top_3.drop('smallCategory', axis=1)"
   ]
  },
  {
   "cell_type": "markdown",
   "id": "ea7e3ed2",
   "metadata": {},
   "source": [
    " "
   ]
  },
  {
   "cell_type": "markdown",
   "id": "15a1a1a9",
   "metadata": {
    "scrolled": true
   },
   "source": [
    "top_3.columns"
   ]
  },
  {
   "cell_type": "markdown",
   "id": "748cd6e2",
   "metadata": {},
   "source": [
    "# smallCategory 모든 1의 값의 개수 == 행의 개수\n",
    "\n",
    "num = 0\n",
    "for i in range(3, 12):\n",
    "    num += top_3[top_3.columns[i]].value_counts()[1]\n",
    "    print(top_3[top_3.columns[i]].value_counts())\n",
    "print(num)\n",
    "print(top_3.shape)"
   ]
  },
  {
   "cell_type": "markdown",
   "id": "118f2560",
   "metadata": {},
   "source": [
    "### clothSexCommon 변환"
   ]
  },
  {
   "cell_type": "markdown",
   "id": "c944f277",
   "metadata": {
    "scrolled": true
   },
   "source": [
    "top_3['clothSexMen'] = top_3.apply(lambda x: 1 if x['clothSexCommon'] == 1 else x['clothSexMen'], axis=1)\n",
    "top_3['clothSexWomen'] = top_3.apply(lambda x: 1 if x['clothSexCommon'] == 1 else x['clothSexWomen'], axis=1)"
   ]
  },
  {
   "cell_type": "markdown",
   "id": "306be1a2",
   "metadata": {},
   "source": [
    "top_3 = top_3.drop('clothSexCommon', axis=1)"
   ]
  },
  {
   "cell_type": "markdown",
   "id": "df8659e9",
   "metadata": {
    "scrolled": false
   },
   "source": [
    "top_3.columns"
   ]
  },
  {
   "cell_type": "markdown",
   "id": "1bfe9258",
   "metadata": {},
   "source": [
    "top_3['clothSexMen'] = top_3.apply(lambda x: 1 if (x['clothSexMen']==0 and x['clothSexWomen']==0) else x['clothSexMen'], axis=1)\n",
    "top_3['clothSexWomen'] = top_3.apply(lambda x: 1 if (x['clothSexMen']==0 and x['clothSexWomen']==0) else x['clothSexWomen'], axis=1)"
   ]
  },
  {
   "cell_type": "markdown",
   "id": "e4a4adc1",
   "metadata": {
    "scrolled": false
   },
   "source": [
    "print(top_3['clothSexMen'].value_counts())\n",
    "print(top_3['clothSexWomen'].value_counts())\n",
    "print(top_3.shape)"
   ]
  },
  {
   "cell_type": "markdown",
   "id": "7b12ed21",
   "metadata": {},
   "source": [
    "### color 원핫인코딩 변환"
   ]
  },
  {
   "cell_type": "markdown",
   "id": "4884a013",
   "metadata": {},
   "source": [
    "#### 상의\n",
    "- white (1)\n",
    "- grey (13, 24, 3, 25)\n",
    "- black (2)\n",
    "- red (51, 11, 49)\n",
    "- pink (50, 47, 10, 45, 48, 55)\n",
    "- orange (52, 54, 53, 46, 12)\n",
    "- ivory (23)\n",
    "- yellow (44, 9, 43, 14)\n",
    "- green (33, 31, 32, 6, 34, 30, 35)\n",
    "- blue (37, 38, 7, 36)\n",
    "- purple (41, 39, 8, 40)\n",
    "- brown (4, 56, 27)\n",
    "- beige (28, 26, 29, 5)\n",
    "- jean (16, 57, 58, 59, 60)\n",
    "- pattern (19, 20, 18, 61, 65, 62, 63, 64, 69, 66)\n",
    "- others (71, 67, 70, 17, 21, 68, 22, 15)"
   ]
  },
  {
   "cell_type": "markdown",
   "id": "03d5115c",
   "metadata": {},
   "source": [
    "top_3.insert(14, \"colorOthers\", top_3['colorNo'], True)\n",
    "top_3.insert(14, \"colorPattern\", top_3['colorNo'], True)\n",
    "top_3.insert(14, \"colorJean\", top_3['colorNo'], True)\n",
    "top_3.insert(14, \"colorBeige\", top_3['colorNo'], True)\n",
    "top_3.insert(14, \"colorBrown\", top_3['colorNo'], True)\n",
    "top_3.insert(14, \"colorPurple\", top_3['colorNo'], True)\n",
    "top_3.insert(14, \"colorBlue\", top_3['colorNo'], True)\n",
    "top_3.insert(14, \"colorGreen\", top_3['colorNo'], True)\n",
    "top_3.insert(14, \"colorYellow\", top_3['colorNo'], True)\n",
    "top_3.insert(14, \"colorIvory\", top_3['colorNo'], True)\n",
    "top_3.insert(14, \"colorOrange\", top_3['colorNo'], True)\n",
    "top_3.insert(14, \"colorPink\", top_3['colorNo'], True)\n",
    "top_3.insert(14, \"colorRed\", top_3['colorNo'], True)\n",
    "top_3.insert(14, \"colorBlack\", top_3['colorNo'], True)\n",
    "top_3.insert(14, \"colorGrey\", top_3['colorNo'], True)\n",
    "top_3.insert(14, \"colorWhite\", top_3['colorNo'], True)"
   ]
  },
  {
   "cell_type": "markdown",
   "id": "27c033f6",
   "metadata": {},
   "source": [
    "top_3['colorWhite'] = top_3['colorWhite'].apply(lambda x: 1 if x == 1 else 0)\n",
    "top_3['colorGrey'] = top_3['colorGrey'].apply(lambda x: 1 if x in [13, 24, 3, 25] else 0)\n",
    "top_3['colorBlack'] = top_3['colorBlack'].apply(lambda x: 1 if x == 2 else 0)\n",
    "top_3['colorRed'] = top_3['colorRed'].apply(lambda x: 1 if x in [51, 11, 49] else 0)\n",
    "top_3['colorPink'] = top_3['colorPink'].apply(lambda x: 1 if x in [50, 47, 10, 45, 48, 55] else 0)\n",
    "top_3['colorOrange'] = top_3['colorOrange'].apply(lambda x: 1 if x in [52, 54, 53, 46, 12] else 0)\n",
    "top_3['colorIvory'] = top_3['colorIvory'].apply(lambda x: 1 if x == 23 else 0)\n",
    "top_3['colorYellow'] = top_3['colorYellow'].apply(lambda x: 1 if x in [44, 9, 43, 14] else 0)\n",
    "top_3['colorGreen'] = top_3['colorGreen'].apply(lambda x: 1 if x in [33, 31, 32, 6, 34, 30, 35] else 0)\n",
    "top_3['colorBlue'] = top_3['colorBlue'].apply(lambda x: 1 if x in [37, 38, 7, 36] else 0)\n",
    "top_3['colorPurple'] = top_3['colorPurple'].apply(lambda x: 1 if x in [41, 39, 8, 40] else 0)\n",
    "top_3['colorBrown'] = top_3['colorBrown'].apply(lambda x: 1 if x in [4, 56, 27] else 0)\n",
    "top_3['colorBeige'] = top_3['colorBeige'].apply(lambda x: 1 if x in [28, 26, 29, 5] else 0)\n",
    "top_3['colorJean'] = top_3['colorJean'].apply(lambda x: 1 if x in [16, 57, 58, 59, 60] else 0)\n",
    "top_3['colorPattern'] = top_3['colorPattern'].apply(lambda x: 1 if x in [19, 20, 18, 61, 65, 62, 63, 64, 69, 66] else 0)\n",
    "top_3['colorOthers'] = top_3['colorOthers'].apply(lambda x: 1 if x in [71, 67, 70, 17, 21, 68, 22, 15] else 0)"
   ]
  },
  {
   "cell_type": "markdown",
   "id": "79930d3b",
   "metadata": {
    "scrolled": true
   },
   "source": [
    "print(top_3.columns)"
   ]
  },
  {
   "cell_type": "markdown",
   "id": "7a70040d",
   "metadata": {},
   "source": [
    "top_3 = top_3.drop('colorNo', axis=1)"
   ]
  },
  {
   "cell_type": "markdown",
   "id": "3a12c5cf",
   "metadata": {},
   "source": [
    "# color도 모든 1의 값의 개수 == 행의 개수\n",
    "for i in range(13, 29):\n",
    "    print(top_3[top_3.columns[i]].value_counts())\n",
    "print(top_3.shape)"
   ]
  },
  {
   "cell_type": "markdown",
   "id": "c59d2d93",
   "metadata": {
    "scrolled": true
   },
   "source": [
    "top_3.insert(29, \"colorName\", True)"
   ]
  },
  {
   "cell_type": "markdown",
   "id": "9f7974d2",
   "metadata": {},
   "source": [
    "top_3['colorName'] = top_3.apply(lambda x: 'white' if x['colorWhite']==1 else x['colorName'], axis=1)\n",
    "top_3['colorName'] = top_3.apply(lambda x: 'grey' if x['colorGrey']==1 else x['colorName'], axis=1)\n",
    "top_3['colorName'] = top_3.apply(lambda x: 'black' if x['colorBlack']==1 else x['colorName'], axis=1)\n",
    "top_3['colorName'] = top_3.apply(lambda x: 'red' if x['colorRed']==1 else x['colorName'], axis=1)\n",
    "top_3['colorName'] = top_3.apply(lambda x: 'pink' if x['colorPink']==1 else x['colorName'], axis=1)\n",
    "top_3['colorName'] = top_3.apply(lambda x: 'orange' if x['colorOrange']==1 else x['colorName'], axis=1)\n",
    "top_3['colorName'] = top_3.apply(lambda x: 'ivory' if x['colorIvory']==1 else x['colorName'], axis=1)\n",
    "top_3['colorName'] = top_3.apply(lambda x: 'yellow' if x['colorYellow']==1 else x['colorName'], axis=1)\n",
    "top_3['colorName'] = top_3.apply(lambda x: 'green' if x['colorGreen']==1 else x['colorName'], axis=1)\n",
    "top_3['colorName'] = top_3.apply(lambda x: 'blue' if x['colorBlue']==1 else x['colorName'], axis=1)\n",
    "top_3['colorName'] = top_3.apply(lambda x: 'purple' if x['colorPurple']==1 else x['colorName'], axis=1)\n",
    "top_3['colorName'] = top_3.apply(lambda x: 'brown' if x['colorBrown']==1 else x['colorName'], axis=1)\n",
    "top_3['colorName'] = top_3.apply(lambda x: 'beige' if x['colorBeige']==1 else x['colorName'], axis=1)\n",
    "top_3['colorName'] = top_3.apply(lambda x: 'jean' if x['colorJean']==1 else x['colorName'], axis=1)\n",
    "top_3['colorName'] = top_3.apply(lambda x: 'pattern' if x['colorPattern']==1 else x['colorName'], axis=1)\n",
    "top_3['colorName'] = top_3.apply(lambda x: 'others' if x['colorOthers']==1 else x['colorName'], axis=1)"
   ]
  },
  {
   "cell_type": "markdown",
   "id": "4d594e73",
   "metadata": {
    "scrolled": true
   },
   "source": [
    "top_3['colorName'].value_counts()"
   ]
  },
  {
   "cell_type": "markdown",
   "id": "f5d27954",
   "metadata": {},
   "source": [
    "### Price 전처리"
   ]
  },
  {
   "cell_type": "markdown",
   "id": "d3063af9",
   "metadata": {
    "scrolled": false
   },
   "source": [
    "top_3['clothPrice'] = top_3['clothPrice'].apply(lambda x: x.replace(\",\", \"\"))\n",
    "top_3['clothPrice'] = top_3['clothPrice'].apply(lambda x: x.replace(\"원\", \"\"))\n",
    "top_3['clothPrice']"
   ]
  },
  {
   "cell_type": "markdown",
   "id": "d8d68413",
   "metadata": {},
   "source": [
    "top_3['clothPrice'] = top_3['clothPrice'].astype('int')"
   ]
  },
  {
   "cell_type": "markdown",
   "id": "e384d587",
   "metadata": {
    "scrolled": true
   },
   "source": [
    "top_3['clothReviewNo'] = top_3['clothReviewNo'].apply(lambda x: x.replace(\",\", \"\"))\n",
    "top_3['clothReviewNo'] = top_3['clothReviewNo'].astype('int')\n",
    "top_3['clothReviewNo']"
   ]
  },
  {
   "cell_type": "markdown",
   "id": "756dbded",
   "metadata": {},
   "source": [
    "top_3.index = top_3['clothId']\n",
    "top_3 = top_3.drop('clothId', True)\n",
    "print(top_3)"
   ]
  },
  {
   "cell_type": "markdown",
   "id": "4a8504c3",
   "metadata": {},
   "source": [
    "top_3.info()"
   ]
  },
  {
   "cell_type": "markdown",
   "id": "7d87fc49",
   "metadata": {},
   "source": [
    " "
   ]
  },
  {
   "cell_type": "markdown",
   "id": "bf8ba584",
   "metadata": {},
   "source": [
    " "
   ]
  },
  {
   "cell_type": "markdown",
   "id": "67b63ddc",
   "metadata": {},
   "source": [
    " "
   ]
  },
  {
   "cell_type": "markdown",
   "id": "bb7b8961",
   "metadata": {},
   "source": [
    "# Top_4"
   ]
  },
  {
   "cell_type": "markdown",
   "id": "e8e1e2dd",
   "metadata": {},
   "source": [
    "top_4 = pd.read_csv('./musinsa_clothes_top_4.csv')"
   ]
  },
  {
   "cell_type": "markdown",
   "id": "3bde4cd3",
   "metadata": {
    "scrolled": true
   },
   "source": [
    "top_4.columns"
   ]
  },
  {
   "cell_type": "markdown",
   "id": "025ae6eb",
   "metadata": {},
   "source": [
    "top_4.info()"
   ]
  },
  {
   "cell_type": "markdown",
   "id": "21274403",
   "metadata": {
    "scrolled": false
   },
   "source": [
    "top_4.describe()"
   ]
  },
  {
   "cell_type": "markdown",
   "id": "d73cfd09",
   "metadata": {},
   "source": [
    "top_4 = top_4.drop_duplicates(subset = \"clothId\")\n",
    "top_4 = top_4.reset_index(drop=True)"
   ]
  },
  {
   "cell_type": "markdown",
   "id": "7c3beac8",
   "metadata": {},
   "source": [
    "top_4['smallCategory'] = top_4['smallCategory'].astype('str')"
   ]
  },
  {
   "cell_type": "markdown",
   "id": "f056a359",
   "metadata": {},
   "source": [
    "top_4['largeCategory'].unique()"
   ]
  },
  {
   "cell_type": "markdown",
   "id": "661dfb14",
   "metadata": {},
   "source": [
    "top_4['largeCategoryName'].unique()"
   ]
  },
  {
   "cell_type": "markdown",
   "id": "39369623",
   "metadata": {},
   "source": [
    "top_4['smallCategory'].unique()"
   ]
  },
  {
   "cell_type": "markdown",
   "id": "32af1a84",
   "metadata": {
    "scrolled": false
   },
   "source": [
    "top_4['smallCategoryName'].unique()"
   ]
  },
  {
   "cell_type": "markdown",
   "id": "bc6839f1",
   "metadata": {
    "scrolled": true
   },
   "source": [
    "top_4[top_4['smallCategoryName']=='\\n            (로라로라)        ']"
   ]
  },
  {
   "cell_type": "markdown",
   "id": "2ed55de2",
   "metadata": {},
   "source": [
    "top_4.loc[top_4.smallCategoryName=='\\n            (로라로라)        ', ('smallCategoryName')] = '후드 티셔츠'"
   ]
  },
  {
   "cell_type": "markdown",
   "id": "7e13ce30",
   "metadata": {
    "scrolled": true
   },
   "source": [
    "top_4[top_4['smallCategory']==\"1s=\"]"
   ]
  },
  {
   "cell_type": "markdown",
   "id": "6134a13a",
   "metadata": {},
   "source": [
    "top_4.loc[top_4.smallCategory=='1s=', ('smallCategory')] = '104'"
   ]
  },
  {
   "cell_type": "markdown",
   "id": "4b3b45bd",
   "metadata": {},
   "source": [
    "top_4['smallCategory'] = top_4['smallCategory'].astype('int')"
   ]
  },
  {
   "cell_type": "markdown",
   "id": "6126eee3",
   "metadata": {},
   "source": [
    "### smallCategory 원핫인코딩 변환"
   ]
  },
  {
   "cell_type": "markdown",
   "id": "599abacc",
   "metadata": {},
   "source": [
    "top_4.insert(4, \"smallCategoryOthers\", top_4['smallCategory'], True)\n",
    "top_4.insert(4, \"smallCategoryShort\", top_4['smallCategory'], True)\n",
    "top_4.insert(4, \"smallCategoryLong\", top_4['smallCategory'], True)\n",
    "top_4.insert(4, \"smallCategoryKnit\", top_4['smallCategory'], True)\n",
    "top_4.insert(4, \"smallCategorySweatshirt\", top_4['smallCategory'], True)\n",
    "top_4.insert(4, \"smallCategoryHoody\", top_4['smallCategory'], True)\n",
    "top_4.insert(4, \"smallCategoryCollar\", top_4['smallCategory'], True)\n",
    "top_4.insert(4, \"smallCategoryShirt\", top_4['smallCategory'], True)\n",
    "top_4.insert(4, \"smallCategoryHalfshort\", top_4['smallCategory'], True)"
   ]
  },
  {
   "cell_type": "markdown",
   "id": "6933cd11",
   "metadata": {},
   "source": [
    "top_4['smallCategoryHalfshort'] = top_4['smallCategoryHalfshort'].apply(lambda x: 1 if x == 101 else 0)\n",
    "top_4['smallCategoryShirt'] = top_4['smallCategoryShirt'].apply(lambda x: 1 if x == 102 else 0)\n",
    "top_4['smallCategoryCollar'] = top_4['smallCategoryCollar'].apply(lambda x: 1 if x == 103 else 0)\n",
    "top_4['smallCategoryHoody'] = top_4['smallCategoryHoody'].apply(lambda x: 1 if x == 104 else 0)\n",
    "top_4['smallCategorySweatshirt'] = top_4['smallCategorySweatshirt'].apply(lambda x: 1 if x == 105 else 0)\n",
    "top_4['smallCategoryKnit'] = top_4['smallCategoryKnit'].apply(lambda x: 1 if x == 106 else 0)\n",
    "top_4['smallCategoryLong'] = top_4['smallCategoryLong'].apply(lambda x: 1 if x == 110 else 0)\n",
    "top_4['smallCategoryShort'] = top_4['smallCategoryShort'].apply(lambda x: 1 if x == 111 else 0)\n",
    "top_4['smallCategoryOthers'] = top_4['smallCategoryOthers'].apply(lambda x: 1 if x == 108 else 0)"
   ]
  },
  {
   "cell_type": "markdown",
   "id": "3fff7197",
   "metadata": {},
   "source": [
    "top_4 = top_4.drop('smallCategory', axis=1)"
   ]
  },
  {
   "cell_type": "markdown",
   "id": "0761e035",
   "metadata": {},
   "source": [
    " "
   ]
  },
  {
   "cell_type": "markdown",
   "id": "142d65dd",
   "metadata": {
    "scrolled": true
   },
   "source": [
    "top_4.columns"
   ]
  },
  {
   "cell_type": "markdown",
   "id": "7d568e82",
   "metadata": {},
   "source": [
    "# smallCategory 모든 1의 값의 개수 == 행의 개수\n",
    "\n",
    "num = 0\n",
    "for i in range(3, 12):\n",
    "    num += top_4[top_4.columns[i]].value_counts()[1]\n",
    "    print(top_4[top_4.columns[i]].value_counts())\n",
    "print(num)\n",
    "print(top_4.shape)"
   ]
  },
  {
   "cell_type": "markdown",
   "id": "5867ff4b",
   "metadata": {},
   "source": [
    "### clothSexCommon 변환"
   ]
  },
  {
   "cell_type": "markdown",
   "id": "bb0c205b",
   "metadata": {
    "scrolled": true
   },
   "source": [
    "top_4['clothSexMen'] = top_4.apply(lambda x: 1 if x['clothSexCommon'] == 1 else x['clothSexMen'], axis=1)\n",
    "top_4['clothSexWomen'] = top_4.apply(lambda x: 1 if x['clothSexCommon'] == 1 else x['clothSexWomen'], axis=1)"
   ]
  },
  {
   "cell_type": "markdown",
   "id": "00419747",
   "metadata": {},
   "source": [
    "top_4 = top_4.drop('clothSexCommon', axis=1)"
   ]
  },
  {
   "cell_type": "markdown",
   "id": "2b688d8d",
   "metadata": {
    "scrolled": false
   },
   "source": [
    "top_4.columns"
   ]
  },
  {
   "cell_type": "markdown",
   "id": "766a0b93",
   "metadata": {},
   "source": [
    "top_4['clothSexMen'] = top_4.apply(lambda x: 1 if (x['clothSexMen']==0 and x['clothSexWomen']==0) else x['clothSexMen'], axis=1)\n",
    "top_4['clothSexWomen'] = top_4.apply(lambda x: 1 if (x['clothSexMen']==0 and x['clothSexWomen']==0) else x['clothSexWomen'], axis=1)"
   ]
  },
  {
   "cell_type": "markdown",
   "id": "869c4cee",
   "metadata": {
    "scrolled": true
   },
   "source": [
    "print(top_4['clothSexMen'].value_counts())\n",
    "print(top_4['clothSexWomen'].value_counts())\n",
    "print(top_4.shape)"
   ]
  },
  {
   "cell_type": "markdown",
   "id": "0daae7df",
   "metadata": {},
   "source": [
    "### color 원핫인코딩 변환"
   ]
  },
  {
   "cell_type": "markdown",
   "id": "d5ddeed9",
   "metadata": {},
   "source": [
    "#### 상의\n",
    "- white (1)\n",
    "- grey (13, 24, 3, 25)\n",
    "- black (2)\n",
    "- red (51, 11, 49)\n",
    "- pink (50, 47, 10, 45, 48, 55)\n",
    "- orange (52, 54, 53, 46, 12)\n",
    "- ivory (23)\n",
    "- yellow (44, 9, 43, 14)\n",
    "- green (33, 31, 32, 6, 34, 30, 35)\n",
    "- blue (37, 38, 7, 36)\n",
    "- purple (41, 39, 8, 40)\n",
    "- brown (4, 56, 27)\n",
    "- beige (28, 26, 29, 5)\n",
    "- jean (16, 57, 58, 59, 60)\n",
    "- pattern (19, 20, 18, 61, 65, 62, 63, 64, 69, 66)\n",
    "- others (71, 67, 70, 17, 21, 68, 22, 15)"
   ]
  },
  {
   "cell_type": "markdown",
   "id": "b1cf36d5",
   "metadata": {},
   "source": [
    "top_4.insert(14, \"colorOthers\", top_4['colorNo'], True)\n",
    "top_4.insert(14, \"colorPattern\", top_4['colorNo'], True)\n",
    "top_4.insert(14, \"colorJean\", top_4['colorNo'], True)\n",
    "top_4.insert(14, \"colorBeige\", top_4['colorNo'], True)\n",
    "top_4.insert(14, \"colorBrown\", top_4['colorNo'], True)\n",
    "top_4.insert(14, \"colorPurple\", top_4['colorNo'], True)\n",
    "top_4.insert(14, \"colorBlue\", top_4['colorNo'], True)\n",
    "top_4.insert(14, \"colorGreen\", top_4['colorNo'], True)\n",
    "top_4.insert(14, \"colorYellow\", top_4['colorNo'], True)\n",
    "top_4.insert(14, \"colorIvory\", top_4['colorNo'], True)\n",
    "top_4.insert(14, \"colorOrange\", top_4['colorNo'], True)\n",
    "top_4.insert(14, \"colorPink\", top_4['colorNo'], True)\n",
    "top_4.insert(14, \"colorRed\", top_4['colorNo'], True)\n",
    "top_4.insert(14, \"colorBlack\", top_4['colorNo'], True)\n",
    "top_4.insert(14, \"colorGrey\", top_4['colorNo'], True)\n",
    "top_4.insert(14, \"colorWhite\", top_4['colorNo'], True)"
   ]
  },
  {
   "cell_type": "markdown",
   "id": "bc29ca85",
   "metadata": {},
   "source": [
    "top_4['colorWhite'] = top_4['colorWhite'].apply(lambda x: 1 if x == 1 else 0)\n",
    "top_4['colorGrey'] = top_4['colorGrey'].apply(lambda x: 1 if x in [13, 24, 3, 25] else 0)\n",
    "top_4['colorBlack'] = top_4['colorBlack'].apply(lambda x: 1 if x == 2 else 0)\n",
    "top_4['colorRed'] = top_4['colorRed'].apply(lambda x: 1 if x in [51, 11, 49] else 0)\n",
    "top_4['colorPink'] = top_4['colorPink'].apply(lambda x: 1 if x in [50, 47, 10, 45, 48, 55] else 0)\n",
    "top_4['colorOrange'] = top_4['colorOrange'].apply(lambda x: 1 if x in [52, 54, 53, 46, 12] else 0)\n",
    "top_4['colorIvory'] = top_4['colorIvory'].apply(lambda x: 1 if x == 23 else 0)\n",
    "top_4['colorYellow'] = top_4['colorYellow'].apply(lambda x: 1 if x in [44, 9, 43, 14] else 0)\n",
    "top_4['colorGreen'] = top_4['colorGreen'].apply(lambda x: 1 if x in [33, 31, 32, 6, 34, 30, 35] else 0)\n",
    "top_4['colorBlue'] = top_4['colorBlue'].apply(lambda x: 1 if x in [37, 38, 7, 36] else 0)\n",
    "top_4['colorPurple'] = top_4['colorPurple'].apply(lambda x: 1 if x in [41, 39, 8, 40] else 0)\n",
    "top_4['colorBrown'] = top_4['colorBrown'].apply(lambda x: 1 if x in [4, 56, 27] else 0)\n",
    "top_4['colorBeige'] = top_4['colorBeige'].apply(lambda x: 1 if x in [28, 26, 29, 5] else 0)\n",
    "top_4['colorJean'] = top_4['colorJean'].apply(lambda x: 1 if x in [16, 57, 58, 59, 60] else 0)\n",
    "top_4['colorPattern'] = top_4['colorPattern'].apply(lambda x: 1 if x in [19, 20, 18, 61, 65, 62, 63, 64, 69, 66] else 0)\n",
    "top_4['colorOthers'] = top_4['colorOthers'].apply(lambda x: 1 if x in [71, 67, 70, 17, 21, 68, 22, 15] else 0)"
   ]
  },
  {
   "cell_type": "markdown",
   "id": "47247c6e",
   "metadata": {
    "scrolled": true
   },
   "source": [
    "print(top_4.columns)"
   ]
  },
  {
   "cell_type": "markdown",
   "id": "ee181ab9",
   "metadata": {},
   "source": [
    "top_4 = top_4.drop('colorNo', axis=1)"
   ]
  },
  {
   "cell_type": "markdown",
   "id": "149189a4",
   "metadata": {},
   "source": [
    "# color도 모든 1의 값의 개수 == 행의 개수\n",
    "for i in range(13, 29):\n",
    "    print(top_4[top_4.columns[i]].value_counts())\n",
    "print(top_4.shape)"
   ]
  },
  {
   "cell_type": "markdown",
   "id": "2ee33063",
   "metadata": {
    "scrolled": true
   },
   "source": [
    "top_4.insert(29, \"colorName\", True)"
   ]
  },
  {
   "cell_type": "markdown",
   "id": "9359c9b9",
   "metadata": {},
   "source": [
    "top_4['colorName'] = top_4.apply(lambda x: 'white' if x['colorWhite']==1 else x['colorName'], axis=1)\n",
    "top_4['colorName'] = top_4.apply(lambda x: 'grey' if x['colorGrey']==1 else x['colorName'], axis=1)\n",
    "top_4['colorName'] = top_4.apply(lambda x: 'black' if x['colorBlack']==1 else x['colorName'], axis=1)\n",
    "top_4['colorName'] = top_4.apply(lambda x: 'red' if x['colorRed']==1 else x['colorName'], axis=1)\n",
    "top_4['colorName'] = top_4.apply(lambda x: 'pink' if x['colorPink']==1 else x['colorName'], axis=1)\n",
    "top_4['colorName'] = top_4.apply(lambda x: 'orange' if x['colorOrange']==1 else x['colorName'], axis=1)\n",
    "top_4['colorName'] = top_4.apply(lambda x: 'ivory' if x['colorIvory']==1 else x['colorName'], axis=1)\n",
    "top_4['colorName'] = top_4.apply(lambda x: 'yellow' if x['colorYellow']==1 else x['colorName'], axis=1)\n",
    "top_4['colorName'] = top_4.apply(lambda x: 'green' if x['colorGreen']==1 else x['colorName'], axis=1)\n",
    "top_4['colorName'] = top_4.apply(lambda x: 'blue' if x['colorBlue']==1 else x['colorName'], axis=1)\n",
    "top_4['colorName'] = top_4.apply(lambda x: 'purple' if x['colorPurple']==1 else x['colorName'], axis=1)\n",
    "top_4['colorName'] = top_4.apply(lambda x: 'brown' if x['colorBrown']==1 else x['colorName'], axis=1)\n",
    "top_4['colorName'] = top_4.apply(lambda x: 'beige' if x['colorBeige']==1 else x['colorName'], axis=1)\n",
    "top_4['colorName'] = top_4.apply(lambda x: 'jean' if x['colorJean']==1 else x['colorName'], axis=1)\n",
    "top_4['colorName'] = top_4.apply(lambda x: 'pattern' if x['colorPattern']==1 else x['colorName'], axis=1)\n",
    "top_4['colorName'] = top_4.apply(lambda x: 'others' if x['colorOthers']==1 else x['colorName'], axis=1)"
   ]
  },
  {
   "cell_type": "markdown",
   "id": "c673656d",
   "metadata": {
    "scrolled": true
   },
   "source": [
    "top_4['colorName'].value_counts()"
   ]
  },
  {
   "cell_type": "markdown",
   "id": "7560162e",
   "metadata": {},
   "source": [
    "### Price 전처리"
   ]
  },
  {
   "cell_type": "markdown",
   "id": "750bd705",
   "metadata": {
    "scrolled": true
   },
   "source": [
    "top_4['clothPrice'] = top_4['clothPrice'].apply(lambda x: x.replace(\",\", \"\"))\n",
    "top_4['clothPrice'] = top_4['clothPrice'].apply(lambda x: x.replace(\"원\", \"\"))\n",
    "top_4['clothPrice']"
   ]
  },
  {
   "cell_type": "markdown",
   "id": "ac0e9e4a",
   "metadata": {},
   "source": [
    "top_4['clothPrice'] = top_4['clothPrice'].astype('int')"
   ]
  },
  {
   "cell_type": "markdown",
   "id": "e11d21c3",
   "metadata": {
    "scrolled": true
   },
   "source": [
    "top_4['clothReviewNo'] = top_4['clothReviewNo'].apply(lambda x: x.replace(\",\", \"\"))\n",
    "top_4['clothReviewNo'] = top_4['clothReviewNo'].astype('int')\n",
    "top_4['clothReviewNo']"
   ]
  },
  {
   "cell_type": "markdown",
   "id": "87dc4b49",
   "metadata": {},
   "source": [
    "top_4.index = top_4['clothId']\n",
    "top_4 = top_4.drop('clothId', True)\n",
    "top_4"
   ]
  },
  {
   "cell_type": "markdown",
   "id": "2e5c93b6",
   "metadata": {},
   "source": [
    " "
   ]
  },
  {
   "cell_type": "markdown",
   "id": "8fbd6e6c",
   "metadata": {
    "scrolled": true
   },
   "source": [
    "top_4.info()"
   ]
  },
  {
   "cell_type": "markdown",
   "id": "db7bdf90",
   "metadata": {},
   "source": [
    "df_top = pd.concat([top_1, top_2, top_3, top_4], axis = 0)"
   ]
  },
  {
   "cell_type": "markdown",
   "id": "95b77555",
   "metadata": {},
   "source": [
    "df_top.shape"
   ]
  },
  {
   "cell_type": "markdown",
   "id": "697ea94b",
   "metadata": {},
   "source": [
    "df_top.head()"
   ]
  },
  {
   "cell_type": "markdown",
   "id": "238bab9d",
   "metadata": {
    "scrolled": true
   },
   "source": [
    "df_top.to_csv('final_top.csv',\n",
    "                 sep=',',\n",
    "                 float_format = '%.1f',\n",
    "                 encoding = 'utf-8-sig')"
   ]
  },
  {
   "cell_type": "markdown",
   "id": "92ac9e2c",
   "metadata": {},
   "source": []
  },
  {
   "cell_type": "markdown",
   "id": "763f56bc",
   "metadata": {},
   "source": []
  },
  {
   "cell_type": "markdown",
   "id": "ee0afc7e",
   "metadata": {},
   "source": [
    "# TOP"
   ]
  },
  {
   "cell_type": "code",
   "execution_count": 3,
   "id": "d9044ecc",
   "metadata": {
    "scrolled": true
   },
   "outputs": [
    {
     "name": "stderr",
     "output_type": "stream",
     "text": [
      "C:\\Users\\SSAFY\\AppData\\Local\\Temp\\ipykernel_17388\\3553540150.py:2: DtypeWarning: Columns (3) have mixed types. Specify dtype option on import or set low_memory=False.\n",
      "  top_2 = pd.read_csv('./musinsa_clothes_top_2.csv')\n",
      "C:\\Users\\SSAFY\\AppData\\Local\\Temp\\ipykernel_17388\\3553540150.py:3: DtypeWarning: Columns (3) have mixed types. Specify dtype option on import or set low_memory=False.\n",
      "  top_3 = pd.read_csv('./musinsa_clothes_top_3.csv')\n",
      "C:\\Users\\SSAFY\\AppData\\Local\\Temp\\ipykernel_17388\\3553540150.py:4: DtypeWarning: Columns (3) have mixed types. Specify dtype option on import or set low_memory=False.\n",
      "  top_4 = pd.read_csv('./musinsa_clothes_top_4.csv')\n"
     ]
    }
   ],
   "source": [
    "top_1 = pd.read_csv('./musinsa_clothes_top_1.csv')\n",
    "top_2 = pd.read_csv('./musinsa_clothes_top_2.csv')\n",
    "top_3 = pd.read_csv('./musinsa_clothes_top_3.csv')\n",
    "top_4 = pd.read_csv('./musinsa_clothes_top_4.csv')"
   ]
  },
  {
   "cell_type": "code",
   "execution_count": 4,
   "id": "14a4a592",
   "metadata": {},
   "outputs": [],
   "source": [
    "top = pd.concat([top_1, top_2, top_3, top_4], axis=0)"
   ]
  },
  {
   "cell_type": "code",
   "execution_count": 5,
   "id": "08f0ea30",
   "metadata": {},
   "outputs": [
    {
     "data": {
      "text/plain": [
       "Index(['clothId', 'largeCategory', 'largeCategoryName', 'smallCategory',\n",
       "       'smallCategoryName', 'colorNo', 'clothName', 'brand', 'image',\n",
       "       'clothPrice', 'date', 'hashtags', 'clothSexMen', 'clothSexWomen',\n",
       "       'clothSexCommon', 'clothRate', 'clothReviewNo', 'fit', 'feeling',\n",
       "       'stretch', 'visibility', 'thickness', 'seasonSpring', 'seasonSummer',\n",
       "       'seasonFall', 'seasonWinter'],\n",
       "      dtype='object')"
      ]
     },
     "execution_count": 5,
     "metadata": {},
     "output_type": "execute_result"
    }
   ],
   "source": [
    "top.columns"
   ]
  },
  {
   "cell_type": "code",
   "execution_count": 6,
   "id": "930d3939",
   "metadata": {},
   "outputs": [
    {
     "name": "stdout",
     "output_type": "stream",
     "text": [
      "<class 'pandas.core.frame.DataFrame'>\n",
      "Int64Index: 158232 entries, 0 to 34325\n",
      "Data columns (total 26 columns):\n",
      " #   Column             Non-Null Count   Dtype  \n",
      "---  ------             --------------   -----  \n",
      " 0   clothId            158232 non-null  int64  \n",
      " 1   largeCategory      158232 non-null  int64  \n",
      " 2   largeCategoryName  158232 non-null  object \n",
      " 3   smallCategory      158232 non-null  object \n",
      " 4   smallCategoryName  158232 non-null  object \n",
      " 5   colorNo            158232 non-null  int64  \n",
      " 6   clothName          158232 non-null  object \n",
      " 7   brand              158232 non-null  object \n",
      " 8   image              158232 non-null  object \n",
      " 9   clothPrice         158232 non-null  object \n",
      " 10  date               158232 non-null  int64  \n",
      " 11  hashtags           158232 non-null  object \n",
      " 12  clothSexMen        158232 non-null  int64  \n",
      " 13  clothSexWomen      158232 non-null  int64  \n",
      " 14  clothSexCommon     158232 non-null  int64  \n",
      " 15  clothRate          158232 non-null  float64\n",
      " 16  clothReviewNo      158232 non-null  object \n",
      " 17  fit                158232 non-null  int64  \n",
      " 18  feeling            158232 non-null  int64  \n",
      " 19  stretch            158232 non-null  int64  \n",
      " 20  visibility         158232 non-null  int64  \n",
      " 21  thickness          158232 non-null  int64  \n",
      " 22  seasonSpring       158232 non-null  int64  \n",
      " 23  seasonSummer       158232 non-null  int64  \n",
      " 24  seasonFall         158232 non-null  int64  \n",
      " 25  seasonWinter       158232 non-null  int64  \n",
      "dtypes: float64(1), int64(16), object(9)\n",
      "memory usage: 32.6+ MB\n"
     ]
    }
   ],
   "source": [
    "top.info()"
   ]
  },
  {
   "cell_type": "code",
   "execution_count": 7,
   "id": "1b90e0d5",
   "metadata": {},
   "outputs": [
    {
     "data": {
      "text/html": [
       "<div>\n",
       "<style scoped>\n",
       "    .dataframe tbody tr th:only-of-type {\n",
       "        vertical-align: middle;\n",
       "    }\n",
       "\n",
       "    .dataframe tbody tr th {\n",
       "        vertical-align: top;\n",
       "    }\n",
       "\n",
       "    .dataframe thead th {\n",
       "        text-align: right;\n",
       "    }\n",
       "</style>\n",
       "<table border=\"1\" class=\"dataframe\">\n",
       "  <thead>\n",
       "    <tr style=\"text-align: right;\">\n",
       "      <th></th>\n",
       "      <th>clothId</th>\n",
       "      <th>largeCategory</th>\n",
       "      <th>colorNo</th>\n",
       "      <th>date</th>\n",
       "      <th>clothSexMen</th>\n",
       "      <th>clothSexWomen</th>\n",
       "      <th>clothSexCommon</th>\n",
       "      <th>clothRate</th>\n",
       "      <th>fit</th>\n",
       "      <th>feeling</th>\n",
       "      <th>stretch</th>\n",
       "      <th>visibility</th>\n",
       "      <th>thickness</th>\n",
       "      <th>seasonSpring</th>\n",
       "      <th>seasonSummer</th>\n",
       "      <th>seasonFall</th>\n",
       "      <th>seasonWinter</th>\n",
       "    </tr>\n",
       "  </thead>\n",
       "  <tbody>\n",
       "    <tr>\n",
       "      <th>count</th>\n",
       "      <td>1.582320e+05</td>\n",
       "      <td>158232.0</td>\n",
       "      <td>158232.000000</td>\n",
       "      <td>1.582320e+05</td>\n",
       "      <td>158232.000000</td>\n",
       "      <td>158232.000000</td>\n",
       "      <td>158232.000000</td>\n",
       "      <td>158232.000000</td>\n",
       "      <td>158232.000000</td>\n",
       "      <td>158232.000000</td>\n",
       "      <td>158232.000000</td>\n",
       "      <td>158232.000000</td>\n",
       "      <td>158232.000000</td>\n",
       "      <td>158232.000000</td>\n",
       "      <td>158232.000000</td>\n",
       "      <td>158232.000000</td>\n",
       "      <td>158232.000000</td>\n",
       "    </tr>\n",
       "    <tr>\n",
       "      <th>mean</th>\n",
       "      <td>1.783307e+06</td>\n",
       "      <td>1.0</td>\n",
       "      <td>12.773921</td>\n",
       "      <td>2.020522e+07</td>\n",
       "      <td>0.675533</td>\n",
       "      <td>0.285663</td>\n",
       "      <td>0.038526</td>\n",
       "      <td>2.319507</td>\n",
       "      <td>1.093837</td>\n",
       "      <td>0.616904</td>\n",
       "      <td>1.018391</td>\n",
       "      <td>1.272126</td>\n",
       "      <td>0.898282</td>\n",
       "      <td>0.204636</td>\n",
       "      <td>0.134240</td>\n",
       "      <td>0.206286</td>\n",
       "      <td>0.147492</td>\n",
       "    </tr>\n",
       "    <tr>\n",
       "      <th>std</th>\n",
       "      <td>5.163266e+05</td>\n",
       "      <td>0.0</td>\n",
       "      <td>14.117192</td>\n",
       "      <td>1.361415e+04</td>\n",
       "      <td>0.468177</td>\n",
       "      <td>0.451731</td>\n",
       "      <td>0.192462</td>\n",
       "      <td>2.374161</td>\n",
       "      <td>1.845494</td>\n",
       "      <td>1.104713</td>\n",
       "      <td>1.712370</td>\n",
       "      <td>2.058405</td>\n",
       "      <td>1.492389</td>\n",
       "      <td>0.403437</td>\n",
       "      <td>0.340911</td>\n",
       "      <td>0.404639</td>\n",
       "      <td>0.354597</td>\n",
       "    </tr>\n",
       "    <tr>\n",
       "      <th>min</th>\n",
       "      <td>1.039000e+04</td>\n",
       "      <td>1.0</td>\n",
       "      <td>1.000000</td>\n",
       "      <td>2.011061e+07</td>\n",
       "      <td>0.000000</td>\n",
       "      <td>0.000000</td>\n",
       "      <td>0.000000</td>\n",
       "      <td>0.000000</td>\n",
       "      <td>0.000000</td>\n",
       "      <td>0.000000</td>\n",
       "      <td>0.000000</td>\n",
       "      <td>0.000000</td>\n",
       "      <td>0.000000</td>\n",
       "      <td>0.000000</td>\n",
       "      <td>0.000000</td>\n",
       "      <td>0.000000</td>\n",
       "      <td>0.000000</td>\n",
       "    </tr>\n",
       "    <tr>\n",
       "      <th>25%</th>\n",
       "      <td>1.482432e+06</td>\n",
       "      <td>1.0</td>\n",
       "      <td>2.000000</td>\n",
       "      <td>2.020061e+07</td>\n",
       "      <td>0.000000</td>\n",
       "      <td>0.000000</td>\n",
       "      <td>0.000000</td>\n",
       "      <td>0.000000</td>\n",
       "      <td>0.000000</td>\n",
       "      <td>0.000000</td>\n",
       "      <td>0.000000</td>\n",
       "      <td>0.000000</td>\n",
       "      <td>0.000000</td>\n",
       "      <td>0.000000</td>\n",
       "      <td>0.000000</td>\n",
       "      <td>0.000000</td>\n",
       "      <td>0.000000</td>\n",
       "    </tr>\n",
       "    <tr>\n",
       "      <th>50%</th>\n",
       "      <td>1.923626e+06</td>\n",
       "      <td>1.0</td>\n",
       "      <td>5.000000</td>\n",
       "      <td>2.021043e+07</td>\n",
       "      <td>1.000000</td>\n",
       "      <td>0.000000</td>\n",
       "      <td>0.000000</td>\n",
       "      <td>0.000000</td>\n",
       "      <td>0.000000</td>\n",
       "      <td>0.000000</td>\n",
       "      <td>0.000000</td>\n",
       "      <td>0.000000</td>\n",
       "      <td>0.000000</td>\n",
       "      <td>0.000000</td>\n",
       "      <td>0.000000</td>\n",
       "      <td>0.000000</td>\n",
       "      <td>0.000000</td>\n",
       "    </tr>\n",
       "    <tr>\n",
       "      <th>75%</th>\n",
       "      <td>2.180262e+06</td>\n",
       "      <td>1.0</td>\n",
       "      <td>23.000000</td>\n",
       "      <td>2.021102e+07</td>\n",
       "      <td>1.000000</td>\n",
       "      <td>1.000000</td>\n",
       "      <td>0.000000</td>\n",
       "      <td>4.800000</td>\n",
       "      <td>3.000000</td>\n",
       "      <td>1.000000</td>\n",
       "      <td>3.000000</td>\n",
       "      <td>3.000000</td>\n",
       "      <td>2.000000</td>\n",
       "      <td>0.000000</td>\n",
       "      <td>0.000000</td>\n",
       "      <td>0.000000</td>\n",
       "      <td>0.000000</td>\n",
       "    </tr>\n",
       "    <tr>\n",
       "      <th>max</th>\n",
       "      <td>2.413604e+06</td>\n",
       "      <td>1.0</td>\n",
       "      <td>71.000000</td>\n",
       "      <td>2.022031e+07</td>\n",
       "      <td>1.000000</td>\n",
       "      <td>1.000000</td>\n",
       "      <td>1.000000</td>\n",
       "      <td>6.700000</td>\n",
       "      <td>5.000000</td>\n",
       "      <td>6.000000</td>\n",
       "      <td>6.000000</td>\n",
       "      <td>6.000000</td>\n",
       "      <td>6.000000</td>\n",
       "      <td>1.000000</td>\n",
       "      <td>1.000000</td>\n",
       "      <td>1.000000</td>\n",
       "      <td>1.000000</td>\n",
       "    </tr>\n",
       "  </tbody>\n",
       "</table>\n",
       "</div>"
      ],
      "text/plain": [
       "            clothId  largeCategory        colorNo          date  \\\n",
       "count  1.582320e+05       158232.0  158232.000000  1.582320e+05   \n",
       "mean   1.783307e+06            1.0      12.773921  2.020522e+07   \n",
       "std    5.163266e+05            0.0      14.117192  1.361415e+04   \n",
       "min    1.039000e+04            1.0       1.000000  2.011061e+07   \n",
       "25%    1.482432e+06            1.0       2.000000  2.020061e+07   \n",
       "50%    1.923626e+06            1.0       5.000000  2.021043e+07   \n",
       "75%    2.180262e+06            1.0      23.000000  2.021102e+07   \n",
       "max    2.413604e+06            1.0      71.000000  2.022031e+07   \n",
       "\n",
       "         clothSexMen  clothSexWomen  clothSexCommon      clothRate  \\\n",
       "count  158232.000000  158232.000000   158232.000000  158232.000000   \n",
       "mean        0.675533       0.285663        0.038526       2.319507   \n",
       "std         0.468177       0.451731        0.192462       2.374161   \n",
       "min         0.000000       0.000000        0.000000       0.000000   \n",
       "25%         0.000000       0.000000        0.000000       0.000000   \n",
       "50%         1.000000       0.000000        0.000000       0.000000   \n",
       "75%         1.000000       1.000000        0.000000       4.800000   \n",
       "max         1.000000       1.000000        1.000000       6.700000   \n",
       "\n",
       "                 fit        feeling        stretch     visibility  \\\n",
       "count  158232.000000  158232.000000  158232.000000  158232.000000   \n",
       "mean        1.093837       0.616904       1.018391       1.272126   \n",
       "std         1.845494       1.104713       1.712370       2.058405   \n",
       "min         0.000000       0.000000       0.000000       0.000000   \n",
       "25%         0.000000       0.000000       0.000000       0.000000   \n",
       "50%         0.000000       0.000000       0.000000       0.000000   \n",
       "75%         3.000000       1.000000       3.000000       3.000000   \n",
       "max         5.000000       6.000000       6.000000       6.000000   \n",
       "\n",
       "           thickness   seasonSpring   seasonSummer     seasonFall  \\\n",
       "count  158232.000000  158232.000000  158232.000000  158232.000000   \n",
       "mean        0.898282       0.204636       0.134240       0.206286   \n",
       "std         1.492389       0.403437       0.340911       0.404639   \n",
       "min         0.000000       0.000000       0.000000       0.000000   \n",
       "25%         0.000000       0.000000       0.000000       0.000000   \n",
       "50%         0.000000       0.000000       0.000000       0.000000   \n",
       "75%         2.000000       0.000000       0.000000       0.000000   \n",
       "max         6.000000       1.000000       1.000000       1.000000   \n",
       "\n",
       "        seasonWinter  \n",
       "count  158232.000000  \n",
       "mean        0.147492  \n",
       "std         0.354597  \n",
       "min         0.000000  \n",
       "25%         0.000000  \n",
       "50%         0.000000  \n",
       "75%         0.000000  \n",
       "max         1.000000  "
      ]
     },
     "execution_count": 7,
     "metadata": {},
     "output_type": "execute_result"
    }
   ],
   "source": [
    "top.describe()"
   ]
  },
  {
   "cell_type": "code",
   "execution_count": 8,
   "id": "2d126e11",
   "metadata": {},
   "outputs": [],
   "source": [
    "top = top.drop_duplicates(subset = \"clothId\")\n",
    "top = top.reset_index(drop=True)"
   ]
  },
  {
   "cell_type": "code",
   "execution_count": 9,
   "id": "acc89e78",
   "metadata": {},
   "outputs": [],
   "source": [
    "top['smallCategory'] = top['smallCategory'].astype('str')"
   ]
  },
  {
   "cell_type": "code",
   "execution_count": 10,
   "id": "8a94a83f",
   "metadata": {},
   "outputs": [
    {
     "data": {
      "text/plain": [
       "array([1], dtype=int64)"
      ]
     },
     "execution_count": 10,
     "metadata": {},
     "output_type": "execute_result"
    }
   ],
   "source": [
    "top['largeCategory'].unique()"
   ]
  },
  {
   "cell_type": "code",
   "execution_count": 11,
   "id": "ebe5deae",
   "metadata": {},
   "outputs": [
    {
     "data": {
      "text/plain": [
       "array(['상의'], dtype=object)"
      ]
     },
     "execution_count": 11,
     "metadata": {},
     "output_type": "execute_result"
    }
   ],
   "source": [
    "top['largeCategoryName'].unique()"
   ]
  },
  {
   "cell_type": "code",
   "execution_count": 12,
   "id": "ac1c8239",
   "metadata": {},
   "outputs": [
    {
     "data": {
      "text/plain": [
       "array(['101', '103', '111', '110', '108', '105', '106', '102', '104',\n",
       "       '1s='], dtype=object)"
      ]
     },
     "execution_count": 12,
     "metadata": {},
     "output_type": "execute_result"
    }
   ],
   "source": [
    "top['smallCategory'].unique()"
   ]
  },
  {
   "cell_type": "code",
   "execution_count": 13,
   "id": "e0bde3c2",
   "metadata": {},
   "outputs": [
    {
     "data": {
      "text/plain": [
       "array(['반팔 티셔츠', '피케/카라 티셔츠', '민소매 티셔츠', '긴팔 티셔츠', '기타 상의', '맨투맨/스웨트셔츠',\n",
       "       '니트/스웨터', '셔츠/블라우스', '후드 티셔츠', '\\r\\n            (나이키)        ',\n",
       "       '\\r\\n            (로라로라)        ', '\\n            (로라로라)        '],\n",
       "      dtype=object)"
      ]
     },
     "execution_count": 13,
     "metadata": {},
     "output_type": "execute_result"
    }
   ],
   "source": [
    "top['smallCategoryName'].unique()"
   ]
  },
  {
   "cell_type": "code",
   "execution_count": 14,
   "id": "76595ca6",
   "metadata": {},
   "outputs": [
    {
     "data": {
      "text/html": [
       "<div>\n",
       "<style scoped>\n",
       "    .dataframe tbody tr th:only-of-type {\n",
       "        vertical-align: middle;\n",
       "    }\n",
       "\n",
       "    .dataframe tbody tr th {\n",
       "        vertical-align: top;\n",
       "    }\n",
       "\n",
       "    .dataframe thead th {\n",
       "        text-align: right;\n",
       "    }\n",
       "</style>\n",
       "<table border=\"1\" class=\"dataframe\">\n",
       "  <thead>\n",
       "    <tr style=\"text-align: right;\">\n",
       "      <th></th>\n",
       "      <th>clothId</th>\n",
       "      <th>largeCategory</th>\n",
       "      <th>largeCategoryName</th>\n",
       "      <th>smallCategory</th>\n",
       "      <th>smallCategoryName</th>\n",
       "      <th>colorNo</th>\n",
       "      <th>clothName</th>\n",
       "      <th>brand</th>\n",
       "      <th>image</th>\n",
       "      <th>clothPrice</th>\n",
       "      <th>date</th>\n",
       "      <th>hashtags</th>\n",
       "      <th>clothSexMen</th>\n",
       "      <th>clothSexWomen</th>\n",
       "      <th>clothSexCommon</th>\n",
       "      <th>clothRate</th>\n",
       "      <th>clothReviewNo</th>\n",
       "      <th>fit</th>\n",
       "      <th>feeling</th>\n",
       "      <th>stretch</th>\n",
       "      <th>visibility</th>\n",
       "      <th>thickness</th>\n",
       "      <th>seasonSpring</th>\n",
       "      <th>seasonSummer</th>\n",
       "      <th>seasonFall</th>\n",
       "      <th>seasonWinter</th>\n",
       "    </tr>\n",
       "  </thead>\n",
       "  <tbody>\n",
       "    <tr>\n",
       "      <th>75195</th>\n",
       "      <td>1385204</td>\n",
       "      <td>1</td>\n",
       "      <td>상의</td>\n",
       "      <td>1s=</td>\n",
       "      <td>\\r\\n            (나이키)</td>\n",
       "      <td>2</td>\n",
       "      <td>반팔티 레전드 2.0 NI-TT7 택1 718833</td>\n",
       "      <td>나이키</td>\n",
       "      <td>//image.msscdn.net/images/goods_img/20200403/1...</td>\n",
       "      <td>38,900원</td>\n",
       "      <td>20200403</td>\n",
       "      <td>[]</td>\n",
       "      <td>1</td>\n",
       "      <td>0</td>\n",
       "      <td>0</td>\n",
       "      <td>5.0</td>\n",
       "      <td>1</td>\n",
       "      <td>0</td>\n",
       "      <td>0</td>\n",
       "      <td>0</td>\n",
       "      <td>0</td>\n",
       "      <td>0</td>\n",
       "      <td>0</td>\n",
       "      <td>0</td>\n",
       "      <td>0</td>\n",
       "      <td>0</td>\n",
       "    </tr>\n",
       "    <tr>\n",
       "      <th>102957</th>\n",
       "      <td>1541525</td>\n",
       "      <td>1</td>\n",
       "      <td>상의</td>\n",
       "      <td>1s=</td>\n",
       "      <td>\\r\\n            (로라로라)</td>\n",
       "      <td>32</td>\n",
       "      <td>(HD-20521) ROLA SIGNATURE HOOD T-SHIRT MINT</td>\n",
       "      <td>로라로라</td>\n",
       "      <td>//image.msscdn.net/images/goods_img/20200807/1...</td>\n",
       "      <td>63,200원</td>\n",
       "      <td>20200807</td>\n",
       "      <td>['시그니처후드', '로고후드', '파스텔후드', '자수후드', '후드티', '로고...</td>\n",
       "      <td>0</td>\n",
       "      <td>1</td>\n",
       "      <td>0</td>\n",
       "      <td>4.7</td>\n",
       "      <td>108</td>\n",
       "      <td>0</td>\n",
       "      <td>0</td>\n",
       "      <td>0</td>\n",
       "      <td>0</td>\n",
       "      <td>0</td>\n",
       "      <td>0</td>\n",
       "      <td>0</td>\n",
       "      <td>0</td>\n",
       "      <td>0</td>\n",
       "    </tr>\n",
       "    <tr>\n",
       "      <th>136650</th>\n",
       "      <td>1541526</td>\n",
       "      <td>1</td>\n",
       "      <td>상의</td>\n",
       "      <td>1s=</td>\n",
       "      <td>\\n            (로라로라)</td>\n",
       "      <td>39</td>\n",
       "      <td>(HD-20521) ROLA SIGNATURE HOOD T-SHIRT LAVENDER</td>\n",
       "      <td>로라로라</td>\n",
       "      <td>//image.msscdn.net/images/goods_img/20200807/1...</td>\n",
       "      <td>63,200원</td>\n",
       "      <td>20200807</td>\n",
       "      <td>['시그니처후드', '로고후드', '파스텔후드', '자수후드', '후드티', '로고...</td>\n",
       "      <td>0</td>\n",
       "      <td>1</td>\n",
       "      <td>0</td>\n",
       "      <td>4.7</td>\n",
       "      <td>108</td>\n",
       "      <td>0</td>\n",
       "      <td>0</td>\n",
       "      <td>0</td>\n",
       "      <td>0</td>\n",
       "      <td>0</td>\n",
       "      <td>0</td>\n",
       "      <td>0</td>\n",
       "      <td>0</td>\n",
       "      <td>0</td>\n",
       "    </tr>\n",
       "  </tbody>\n",
       "</table>\n",
       "</div>"
      ],
      "text/plain": [
       "        clothId  largeCategory largeCategoryName smallCategory  \\\n",
       "75195   1385204              1                상의           1s=   \n",
       "102957  1541525              1                상의           1s=   \n",
       "136650  1541526              1                상의           1s=   \n",
       "\n",
       "                     smallCategoryName  colorNo  \\\n",
       "75195    \\r\\n            (나이키)                2   \n",
       "102957  \\r\\n            (로라로라)               32   \n",
       "136650    \\n            (로라로라)               39   \n",
       "\n",
       "                                              clothName brand  \\\n",
       "75195                      반팔티 레전드 2.0 NI-TT7 택1 718833   나이키   \n",
       "102957      (HD-20521) ROLA SIGNATURE HOOD T-SHIRT MINT  로라로라   \n",
       "136650  (HD-20521) ROLA SIGNATURE HOOD T-SHIRT LAVENDER  로라로라   \n",
       "\n",
       "                                                    image clothPrice  \\\n",
       "75195   //image.msscdn.net/images/goods_img/20200403/1...    38,900원   \n",
       "102957  //image.msscdn.net/images/goods_img/20200807/1...    63,200원   \n",
       "136650  //image.msscdn.net/images/goods_img/20200807/1...    63,200원   \n",
       "\n",
       "            date                                           hashtags  \\\n",
       "75195   20200403                                                 []   \n",
       "102957  20200807  ['시그니처후드', '로고후드', '파스텔후드', '자수후드', '후드티', '로고...   \n",
       "136650  20200807  ['시그니처후드', '로고후드', '파스텔후드', '자수후드', '후드티', '로고...   \n",
       "\n",
       "        clothSexMen  clothSexWomen  clothSexCommon  clothRate clothReviewNo  \\\n",
       "75195             1              0               0        5.0             1   \n",
       "102957            0              1               0        4.7           108   \n",
       "136650            0              1               0        4.7           108   \n",
       "\n",
       "        fit  feeling  stretch  visibility  thickness  seasonSpring  \\\n",
       "75195     0        0        0           0          0             0   \n",
       "102957    0        0        0           0          0             0   \n",
       "136650    0        0        0           0          0             0   \n",
       "\n",
       "        seasonSummer  seasonFall  seasonWinter  \n",
       "75195              0           0             0  \n",
       "102957             0           0             0  \n",
       "136650             0           0             0  "
      ]
     },
     "execution_count": 14,
     "metadata": {},
     "output_type": "execute_result"
    }
   ],
   "source": [
    "top[top['smallCategory']==\"1s=\"]"
   ]
  },
  {
   "cell_type": "code",
   "execution_count": 15,
   "id": "87cc3bc1",
   "metadata": {},
   "outputs": [],
   "source": [
    "top.loc[top.clothId==1385204, 'smallCategory'] = '101'\n",
    "top.loc[top.clothId==1385204, 'smallCategoryName'] = '반팔 티셔츠'\n",
    "top.loc[top.clothId==1541525, 'smallCategory'] = '104'\n",
    "top.loc[top.clothId==1541525, 'smallCategoryName'] = '후드 티셔츠'\n",
    "top.loc[top.clothId==1541526, 'smallCategory'] = '104'\n",
    "top.loc[top.clothId==1541526, 'smallCategoryName'] = '후드 티셔츠'"
   ]
  },
  {
   "cell_type": "code",
   "execution_count": 16,
   "id": "b52ac780",
   "metadata": {},
   "outputs": [],
   "source": [
    "top['smallCategory'] = top['smallCategory'].astype('int')"
   ]
  },
  {
   "cell_type": "code",
   "execution_count": 17,
   "id": "8b227482",
   "metadata": {},
   "outputs": [
    {
     "data": {
      "text/plain": [
       "101    49337\n",
       "105    31165\n",
       "102    19847\n",
       "104    18336\n",
       "110    15180\n",
       "106    13918\n",
       "103     5299\n",
       "111     2981\n",
       "108     1577\n",
       "Name: smallCategory, dtype: int64"
      ]
     },
     "execution_count": 17,
     "metadata": {},
     "output_type": "execute_result"
    }
   ],
   "source": [
    "top['smallCategory'].value_counts()"
   ]
  },
  {
   "cell_type": "code",
   "execution_count": 18,
   "id": "9e56013f",
   "metadata": {},
   "outputs": [
    {
     "name": "stdout",
     "output_type": "stream",
     "text": [
      "157640\n",
      "(157640, 26)\n"
     ]
    }
   ],
   "source": [
    "print(49337+31165+19847+18336+15180+13918+5299+2981+1577)\n",
    "print(top.shape)"
   ]
  },
  {
   "cell_type": "markdown",
   "id": "a9d0a668",
   "metadata": {},
   "source": [
    "### smallCategory 원핫인코딩 변환"
   ]
  },
  {
   "cell_type": "code",
   "execution_count": 19,
   "id": "3bec9417",
   "metadata": {},
   "outputs": [],
   "source": [
    "top.insert(4, \"smallCategoryOthers\", top['smallCategory'], True)\n",
    "top.insert(4, \"smallCategoryShort\", top['smallCategory'], True)\n",
    "top.insert(4, \"smallCategoryLong\", top['smallCategory'], True)\n",
    "top.insert(4, \"smallCategoryKnit\", top['smallCategory'], True)\n",
    "top.insert(4, \"smallCategorySweatshirt\", top['smallCategory'], True)\n",
    "top.insert(4, \"smallCategoryHoody\", top['smallCategory'], True)\n",
    "top.insert(4, \"smallCategoryCollar\", top['smallCategory'], True)\n",
    "top.insert(4, \"smallCategoryShirt\", top['smallCategory'], True)\n",
    "top.insert(4, \"smallCategoryHalfshort\", top['smallCategory'], True)"
   ]
  },
  {
   "cell_type": "code",
   "execution_count": 20,
   "id": "f1756c2a",
   "metadata": {},
   "outputs": [],
   "source": [
    "top['smallCategoryHalfshort'] = top['smallCategoryHalfshort'].apply(lambda x: 1 if x == 101 else 0)\n",
    "top['smallCategoryShirt'] = top['smallCategoryShirt'].apply(lambda x: 1 if x == 102 else 0)\n",
    "top['smallCategoryCollar'] = top['smallCategoryCollar'].apply(lambda x: 1 if x == 103 else 0)\n",
    "top['smallCategoryHoody'] = top['smallCategoryHoody'].apply(lambda x: 1 if x == 104 else 0)\n",
    "top['smallCategorySweatshirt'] = top['smallCategorySweatshirt'].apply(lambda x: 1 if x == 105 else 0)\n",
    "top['smallCategoryKnit'] = top['smallCategoryKnit'].apply(lambda x: 1 if x == 106 else 0)\n",
    "top['smallCategoryLong'] = top['smallCategoryLong'].apply(lambda x: 1 if x == 110 else 0)\n",
    "top['smallCategoryShort'] = top['smallCategoryShort'].apply(lambda x: 1 if x == 111 else 0)\n",
    "top['smallCategoryOthers'] = top['smallCategoryOthers'].apply(lambda x: 1 if x == 108 else 0)"
   ]
  },
  {
   "cell_type": "code",
   "execution_count": 21,
   "id": "e6b5fdea",
   "metadata": {},
   "outputs": [],
   "source": [
    "top = top.drop('smallCategory', axis=1)"
   ]
  },
  {
   "cell_type": "code",
   "execution_count": null,
   "id": "3910a4ac",
   "metadata": {},
   "outputs": [],
   "source": [
    " "
   ]
  },
  {
   "cell_type": "code",
   "execution_count": 22,
   "id": "3c75fa06",
   "metadata": {},
   "outputs": [
    {
     "data": {
      "text/plain": [
       "Index(['clothId', 'largeCategory', 'largeCategoryName',\n",
       "       'smallCategoryHalfshort', 'smallCategoryShirt', 'smallCategoryCollar',\n",
       "       'smallCategoryHoody', 'smallCategorySweatshirt', 'smallCategoryKnit',\n",
       "       'smallCategoryLong', 'smallCategoryShort', 'smallCategoryOthers',\n",
       "       'smallCategoryName', 'colorNo', 'clothName', 'brand', 'image',\n",
       "       'clothPrice', 'date', 'hashtags', 'clothSexMen', 'clothSexWomen',\n",
       "       'clothSexCommon', 'clothRate', 'clothReviewNo', 'fit', 'feeling',\n",
       "       'stretch', 'visibility', 'thickness', 'seasonSpring', 'seasonSummer',\n",
       "       'seasonFall', 'seasonWinter'],\n",
       "      dtype='object')"
      ]
     },
     "execution_count": 22,
     "metadata": {},
     "output_type": "execute_result"
    }
   ],
   "source": [
    "top.columns"
   ]
  },
  {
   "cell_type": "code",
   "execution_count": 23,
   "id": "2d8726dd",
   "metadata": {},
   "outputs": [
    {
     "name": "stdout",
     "output_type": "stream",
     "text": [
      "0    108303\n",
      "1     49337\n",
      "Name: smallCategoryHalfshort, dtype: int64\n",
      "0    137793\n",
      "1     19847\n",
      "Name: smallCategoryShirt, dtype: int64\n",
      "0    152341\n",
      "1      5299\n",
      "Name: smallCategoryCollar, dtype: int64\n",
      "0    139304\n",
      "1     18336\n",
      "Name: smallCategoryHoody, dtype: int64\n",
      "0    126475\n",
      "1     31165\n",
      "Name: smallCategorySweatshirt, dtype: int64\n",
      "0    143722\n",
      "1     13918\n",
      "Name: smallCategoryKnit, dtype: int64\n",
      "0    142460\n",
      "1     15180\n",
      "Name: smallCategoryLong, dtype: int64\n",
      "0    154659\n",
      "1      2981\n",
      "Name: smallCategoryShort, dtype: int64\n",
      "0    156063\n",
      "1      1577\n",
      "Name: smallCategoryOthers, dtype: int64\n",
      "157640\n",
      "(157640, 34)\n"
     ]
    }
   ],
   "source": [
    "# smallCategory 모든 1의 값의 개수 == 행의 개수\n",
    "\n",
    "num = 0\n",
    "for i in range(3, 12):\n",
    "    num += top[top.columns[i]].value_counts()[1]\n",
    "    print(top[top.columns[i]].value_counts())\n",
    "print(num)\n",
    "print(top.shape)"
   ]
  },
  {
   "cell_type": "markdown",
   "id": "f864355e",
   "metadata": {},
   "source": [
    "### clothSexCommon 변환"
   ]
  },
  {
   "cell_type": "code",
   "execution_count": 24,
   "id": "e29a4713",
   "metadata": {},
   "outputs": [],
   "source": [
    "top['clothSexMen'] = top.apply(lambda x: 1 if x['clothSexCommon'] == 1 else x['clothSexMen'], axis=1)\n",
    "top['clothSexWomen'] = top.apply(lambda x: 1 if x['clothSexCommon'] == 1 else x['clothSexWomen'], axis=1)"
   ]
  },
  {
   "cell_type": "code",
   "execution_count": 25,
   "id": "a5696c06",
   "metadata": {},
   "outputs": [],
   "source": [
    "top = top.drop('clothSexCommon', axis=1)"
   ]
  },
  {
   "cell_type": "code",
   "execution_count": 26,
   "id": "c49f3db9",
   "metadata": {},
   "outputs": [
    {
     "data": {
      "text/plain": [
       "Index(['clothId', 'largeCategory', 'largeCategoryName',\n",
       "       'smallCategoryHalfshort', 'smallCategoryShirt', 'smallCategoryCollar',\n",
       "       'smallCategoryHoody', 'smallCategorySweatshirt', 'smallCategoryKnit',\n",
       "       'smallCategoryLong', 'smallCategoryShort', 'smallCategoryOthers',\n",
       "       'smallCategoryName', 'colorNo', 'clothName', 'brand', 'image',\n",
       "       'clothPrice', 'date', 'hashtags', 'clothSexMen', 'clothSexWomen',\n",
       "       'clothRate', 'clothReviewNo', 'fit', 'feeling', 'stretch', 'visibility',\n",
       "       'thickness', 'seasonSpring', 'seasonSummer', 'seasonFall',\n",
       "       'seasonWinter'],\n",
       "      dtype='object')"
      ]
     },
     "execution_count": 26,
     "metadata": {},
     "output_type": "execute_result"
    }
   ],
   "source": [
    "top.columns"
   ]
  },
  {
   "cell_type": "code",
   "execution_count": 27,
   "id": "7ea744d9",
   "metadata": {},
   "outputs": [],
   "source": [
    "top['clothSexMen'] = top.apply(lambda x: 1 if (x['clothSexMen']==0 and x['clothSexWomen']==0) else x['clothSexMen'], axis=1)\n",
    "top['clothSexWomen'] = top.apply(lambda x: 1 if (x['clothSexMen']==0 and x['clothSexWomen']==0) else x['clothSexWomen'], axis=1)"
   ]
  },
  {
   "cell_type": "code",
   "execution_count": 28,
   "id": "033c6e3e",
   "metadata": {},
   "outputs": [
    {
     "name": "stdout",
     "output_type": "stream",
     "text": [
      "1    112546\n",
      "0     45094\n",
      "Name: clothSexMen, dtype: int64\n",
      "0    106459\n",
      "1     51181\n",
      "Name: clothSexWomen, dtype: int64\n",
      "(157640, 33)\n"
     ]
    }
   ],
   "source": [
    "print(top['clothSexMen'].value_counts())\n",
    "print(top['clothSexWomen'].value_counts())\n",
    "print(top.shape)"
   ]
  },
  {
   "cell_type": "markdown",
   "id": "3c71ad85",
   "metadata": {},
   "source": [
    "### color 원핫인코딩 변환"
   ]
  },
  {
   "cell_type": "markdown",
   "id": "3d77eec2",
   "metadata": {},
   "source": [
    "#### 아우터\n",
    "- white (1)\n",
    "- grey (13, 24, 3, 25)\n",
    "- black (2)\n",
    "- red (51, 11, 49)\n",
    "- pink (50, 47, 10, 45, 48, 55)\n",
    "- orange (52, 54, 53, 46, 12)\n",
    "- ivory (23)\n",
    "- yellow (44, 9, 43, 14)\n",
    "- green (33, 31, 32, 6, 34, 30, 35)\n",
    "- blue (37, 38, 7, 36)\n",
    "- purple (41, 39, 8, 40)\n",
    "- brown (4, 56, 27)\n",
    "- beige (28, 26, 29, 5)\n",
    "- jean (16, 57, 58, 59, 60)\n",
    "- pattern (19, 20, 18, 61, 65, 62, 63, 64, 69, 66)\n",
    "- others (71, 67, 70, 17, 21, 68, 22, 15)"
   ]
  },
  {
   "cell_type": "code",
   "execution_count": 29,
   "id": "15c8b0b7",
   "metadata": {},
   "outputs": [],
   "source": [
    "top.insert(14, \"colorOthers\", top['colorNo'], True)\n",
    "top.insert(14, \"colorPattern\", top['colorNo'], True)\n",
    "top.insert(14, \"colorJean\", top['colorNo'], True)\n",
    "top.insert(14, \"colorBeige\", top['colorNo'], True)\n",
    "top.insert(14, \"colorBrown\", top['colorNo'], True)\n",
    "top.insert(14, \"colorPurple\", top['colorNo'], True)\n",
    "top.insert(14, \"colorBlue\", top['colorNo'], True)\n",
    "top.insert(14, \"colorGreen\", top['colorNo'], True)\n",
    "top.insert(14, \"colorYellow\", top['colorNo'], True)\n",
    "top.insert(14, \"colorIvory\", top['colorNo'], True)\n",
    "top.insert(14, \"colorOrange\", top['colorNo'], True)\n",
    "top.insert(14, \"colorPink\", top['colorNo'], True)\n",
    "top.insert(14, \"colorRed\", top['colorNo'], True)\n",
    "top.insert(14, \"colorBlack\", top['colorNo'], True)\n",
    "top.insert(14, \"colorGrey\", top['colorNo'], True)\n",
    "top.insert(14, \"colorWhite\", top['colorNo'], True)"
   ]
  },
  {
   "cell_type": "code",
   "execution_count": 30,
   "id": "7a7b5d26",
   "metadata": {},
   "outputs": [],
   "source": [
    "top['colorWhite'] = top['colorWhite'].apply(lambda x: 1 if x == 1 else 0)\n",
    "top['colorGrey'] = top['colorGrey'].apply(lambda x: 1 if x in [13, 24, 3, 25] else 0)\n",
    "top['colorBlack'] = top['colorBlack'].apply(lambda x: 1 if x == 2 else 0)\n",
    "top['colorRed'] = top['colorRed'].apply(lambda x: 1 if x in [51, 11, 49] else 0)\n",
    "top['colorPink'] = top['colorPink'].apply(lambda x: 1 if x in [50, 47, 10, 45, 48, 55] else 0)\n",
    "top['colorOrange'] = top['colorOrange'].apply(lambda x: 1 if x in [52, 54, 53, 46, 12] else 0)\n",
    "top['colorIvory'] = top['colorIvory'].apply(lambda x: 1 if x == 23 else 0)\n",
    "top['colorYellow'] = top['colorYellow'].apply(lambda x: 1 if x in [44, 9, 43, 14] else 0)\n",
    "top['colorGreen'] = top['colorGreen'].apply(lambda x: 1 if x in [33, 31, 32, 6, 34, 30, 35] else 0)\n",
    "top['colorBlue'] = top['colorBlue'].apply(lambda x: 1 if x in [37, 38, 7, 36] else 0)\n",
    "top['colorPurple'] = top['colorPurple'].apply(lambda x: 1 if x in [41, 39, 8, 40] else 0)\n",
    "top['colorBrown'] = top['colorBrown'].apply(lambda x: 1 if x in [4, 56, 27] else 0)\n",
    "top['colorBeige'] = top['colorBeige'].apply(lambda x: 1 if x in [28, 26, 29, 5] else 0)\n",
    "top['colorJean'] = top['colorJean'].apply(lambda x: 1 if x in [16, 57, 58, 59, 60] else 0)\n",
    "top['colorPattern'] = top['colorPattern'].apply(lambda x: 1 if x in [19, 20, 18, 61, 65, 62, 63, 64, 69, 66] else 0)\n",
    "top['colorOthers'] = top['colorOthers'].apply(lambda x: 1 if x in [71, 67, 70, 17, 21, 68, 22, 15] else 0)"
   ]
  },
  {
   "cell_type": "code",
   "execution_count": 31,
   "id": "3b0a42a0",
   "metadata": {},
   "outputs": [],
   "source": [
    "top = top.drop('colorNo', axis=1)"
   ]
  },
  {
   "cell_type": "code",
   "execution_count": 32,
   "id": "72318158",
   "metadata": {},
   "outputs": [
    {
     "name": "stdout",
     "output_type": "stream",
     "text": [
      "Index(['clothId', 'largeCategory', 'largeCategoryName',\n",
      "       'smallCategoryHalfshort', 'smallCategoryShirt', 'smallCategoryCollar',\n",
      "       'smallCategoryHoody', 'smallCategorySweatshirt', 'smallCategoryKnit',\n",
      "       'smallCategoryLong', 'smallCategoryShort', 'smallCategoryOthers',\n",
      "       'smallCategoryName', 'colorWhite', 'colorGrey', 'colorBlack',\n",
      "       'colorRed', 'colorPink', 'colorOrange', 'colorIvory', 'colorYellow',\n",
      "       'colorGreen', 'colorBlue', 'colorPurple', 'colorBrown', 'colorBeige',\n",
      "       'colorJean', 'colorPattern', 'colorOthers', 'clothName', 'brand',\n",
      "       'image', 'clothPrice', 'date', 'hashtags', 'clothSexMen',\n",
      "       'clothSexWomen', 'clothRate', 'clothReviewNo', 'fit', 'feeling',\n",
      "       'stretch', 'visibility', 'thickness', 'seasonSpring', 'seasonSummer',\n",
      "       'seasonFall', 'seasonWinter'],\n",
      "      dtype='object')\n"
     ]
    }
   ],
   "source": [
    "print(top.columns)"
   ]
  },
  {
   "cell_type": "code",
   "execution_count": 33,
   "id": "06eae7c8",
   "metadata": {},
   "outputs": [
    {
     "name": "stdout",
     "output_type": "stream",
     "text": [
      "0    134982\n",
      "1     22658\n",
      "Name: colorWhite, dtype: int64\n",
      "0    137043\n",
      "1     20597\n",
      "Name: colorGrey, dtype: int64\n",
      "0    121855\n",
      "1     35785\n",
      "Name: colorBlack, dtype: int64\n",
      "0    154478\n",
      "1      3162\n",
      "Name: colorRed, dtype: int64\n",
      "0    153415\n",
      "1      4225\n",
      "Name: colorPink, dtype: int64\n",
      "0    155132\n",
      "1      2508\n",
      "Name: colorOrange, dtype: int64\n",
      "0    149883\n",
      "1      7757\n",
      "Name: colorIvory, dtype: int64\n",
      "0    153687\n",
      "1      3953\n",
      "Name: colorYellow, dtype: int64\n",
      "0    145792\n",
      "1     11848\n",
      "Name: colorGreen, dtype: int64\n",
      "0    135975\n",
      "1     21665\n",
      "Name: colorBlue, dtype: int64\n",
      "0    154304\n",
      "1      3336\n",
      "Name: colorPurple, dtype: int64\n",
      "0    154699\n",
      "1      2941\n",
      "Name: colorBrown, dtype: int64\n",
      "0    149941\n",
      "1      7699\n",
      "Name: colorBeige, dtype: int64\n",
      "0    157113\n",
      "1       527\n",
      "Name: colorJean, dtype: int64\n",
      "0    154801\n",
      "1      2839\n",
      "Name: colorPattern, dtype: int64\n",
      "0    151500\n",
      "1      6140\n",
      "Name: colorOthers, dtype: int64\n",
      "157640\n",
      "(157640, 48)\n"
     ]
    }
   ],
   "source": [
    "# color도 모든 1의 값의 개수 == 행의 개수\n",
    "num = 0\n",
    "for i in range(13, 29):\n",
    "    num+=top[top.columns[i]].value_counts()[1]\n",
    "    print(top[top.columns[i]].value_counts())\n",
    "print(num)\n",
    "print(top.shape)"
   ]
  },
  {
   "cell_type": "code",
   "execution_count": 34,
   "id": "0ad0b0c9",
   "metadata": {},
   "outputs": [],
   "source": [
    "top.insert(29, \"colorName\", True)"
   ]
  },
  {
   "cell_type": "code",
   "execution_count": 35,
   "id": "ec85117c",
   "metadata": {},
   "outputs": [
    {
     "data": {
      "text/plain": [
       "Index(['clothId', 'largeCategory', 'largeCategoryName',\n",
       "       'smallCategoryHalfshort', 'smallCategoryShirt', 'smallCategoryCollar',\n",
       "       'smallCategoryHoody', 'smallCategorySweatshirt', 'smallCategoryKnit',\n",
       "       'smallCategoryLong', 'smallCategoryShort', 'smallCategoryOthers',\n",
       "       'smallCategoryName', 'colorWhite', 'colorGrey', 'colorBlack',\n",
       "       'colorRed', 'colorPink', 'colorOrange', 'colorIvory', 'colorYellow',\n",
       "       'colorGreen', 'colorBlue', 'colorPurple', 'colorBrown', 'colorBeige',\n",
       "       'colorJean', 'colorPattern', 'colorOthers', 'colorName', 'clothName',\n",
       "       'brand', 'image', 'clothPrice', 'date', 'hashtags', 'clothSexMen',\n",
       "       'clothSexWomen', 'clothRate', 'clothReviewNo', 'fit', 'feeling',\n",
       "       'stretch', 'visibility', 'thickness', 'seasonSpring', 'seasonSummer',\n",
       "       'seasonFall', 'seasonWinter'],\n",
       "      dtype='object')"
      ]
     },
     "execution_count": 35,
     "metadata": {},
     "output_type": "execute_result"
    }
   ],
   "source": [
    "top.columns"
   ]
  },
  {
   "cell_type": "code",
   "execution_count": 36,
   "id": "c941e67d",
   "metadata": {},
   "outputs": [],
   "source": [
    "top['colorName'] = top.apply(lambda x: 'white' if x['colorWhite']==1 else x['colorName'], axis=1)\n",
    "top['colorName'] = top.apply(lambda x: 'grey' if x['colorGrey']==1 else x['colorName'], axis=1)\n",
    "top['colorName'] = top.apply(lambda x: 'black' if x['colorBlack']==1 else x['colorName'], axis=1)\n",
    "top['colorName'] = top.apply(lambda x: 'red' if x['colorRed']==1 else x['colorName'], axis=1)\n",
    "top['colorName'] = top.apply(lambda x: 'pink' if x['colorPink']==1 else x['colorName'], axis=1)\n",
    "top['colorName'] = top.apply(lambda x: 'orange' if x['colorOrange']==1 else x['colorName'], axis=1)\n",
    "top['colorName'] = top.apply(lambda x: 'ivory' if x['colorIvory']==1 else x['colorName'], axis=1)\n",
    "top['colorName'] = top.apply(lambda x: 'yellow' if x['colorYellow']==1 else x['colorName'], axis=1)\n",
    "top['colorName'] = top.apply(lambda x: 'green' if x['colorGreen']==1 else x['colorName'], axis=1)\n",
    "top['colorName'] = top.apply(lambda x: 'blue' if x['colorBlue']==1 else x['colorName'], axis=1)\n",
    "top['colorName'] = top.apply(lambda x: 'purple' if x['colorPurple']==1 else x['colorName'], axis=1)\n",
    "top['colorName'] = top.apply(lambda x: 'brown' if x['colorBrown']==1 else x['colorName'], axis=1)\n",
    "top['colorName'] = top.apply(lambda x: 'beige' if x['colorBeige']==1 else x['colorName'], axis=1)\n",
    "top['colorName'] = top.apply(lambda x: 'jean' if x['colorJean']==1 else x['colorName'], axis=1)\n",
    "top['colorName'] = top.apply(lambda x: 'pattern' if x['colorPattern']==1 else x['colorName'], axis=1)\n",
    "top['colorName'] = top.apply(lambda x: 'others' if x['colorOthers']==1 else x['colorName'], axis=1)"
   ]
  },
  {
   "cell_type": "code",
   "execution_count": 37,
   "id": "199403d1",
   "metadata": {},
   "outputs": [
    {
     "data": {
      "text/plain": [
       "black      35785\n",
       "white      22658\n",
       "blue       21665\n",
       "grey       20597\n",
       "green      11848\n",
       "ivory       7757\n",
       "beige       7699\n",
       "others      6140\n",
       "pink        4225\n",
       "yellow      3953\n",
       "purple      3336\n",
       "red         3162\n",
       "brown       2941\n",
       "pattern     2839\n",
       "orange      2508\n",
       "jean         527\n",
       "Name: colorName, dtype: int64"
      ]
     },
     "execution_count": 37,
     "metadata": {},
     "output_type": "execute_result"
    }
   ],
   "source": [
    "top['colorName'].value_counts()"
   ]
  },
  {
   "cell_type": "markdown",
   "id": "44cdbc58",
   "metadata": {},
   "source": [
    "### Price 전처리"
   ]
  },
  {
   "cell_type": "code",
   "execution_count": 38,
   "id": "57295b6a",
   "metadata": {},
   "outputs": [
    {
     "data": {
      "text/plain": [
       "0         59000\n",
       "1         43000\n",
       "2         43000\n",
       "3         26600\n",
       "4         24000\n",
       "          ...  \n",
       "157635    58000\n",
       "157636    66400\n",
       "157637     8900\n",
       "157638    69300\n",
       "157639    29900\n",
       "Name: clothPrice, Length: 157640, dtype: object"
      ]
     },
     "execution_count": 38,
     "metadata": {},
     "output_type": "execute_result"
    }
   ],
   "source": [
    "top['clothPrice'] = top['clothPrice'].apply(lambda x: x.replace(\",\", \"\"))\n",
    "top['clothPrice'] = top['clothPrice'].apply(lambda x: x.replace(\"원\", \"\"))\n",
    "top['clothPrice']"
   ]
  },
  {
   "cell_type": "code",
   "execution_count": 39,
   "id": "85629d8e",
   "metadata": {},
   "outputs": [],
   "source": [
    "top['clothPrice'] = top['clothPrice'].astype('int')"
   ]
  },
  {
   "cell_type": "code",
   "execution_count": 40,
   "id": "559707b6",
   "metadata": {},
   "outputs": [
    {
     "data": {
      "text/plain": [
       "0         0\n",
       "1         0\n",
       "2         2\n",
       "3         1\n",
       "4         0\n",
       "         ..\n",
       "157635    0\n",
       "157636    0\n",
       "157637    0\n",
       "157638    0\n",
       "157639    0\n",
       "Name: clothReviewNo, Length: 157640, dtype: int32"
      ]
     },
     "execution_count": 40,
     "metadata": {},
     "output_type": "execute_result"
    }
   ],
   "source": [
    "top['clothReviewNo'] = top['clothReviewNo'].apply(lambda x: x.replace(\",\", \"\"))\n",
    "top['clothReviewNo'] = top['clothReviewNo'].astype('int')\n",
    "top['clothReviewNo']"
   ]
  },
  {
   "cell_type": "markdown",
   "id": "9275c8c4",
   "metadata": {},
   "source": [
    "### Index를 NewGoodsNo로 변경"
   ]
  },
  {
   "cell_type": "code",
   "execution_count": 41,
   "id": "59fb5991",
   "metadata": {
    "scrolled": true
   },
   "outputs": [
    {
     "data": {
      "text/html": [
       "<div>\n",
       "<style scoped>\n",
       "    .dataframe tbody tr th:only-of-type {\n",
       "        vertical-align: middle;\n",
       "    }\n",
       "\n",
       "    .dataframe tbody tr th {\n",
       "        vertical-align: top;\n",
       "    }\n",
       "\n",
       "    .dataframe thead th {\n",
       "        text-align: right;\n",
       "    }\n",
       "</style>\n",
       "<table border=\"1\" class=\"dataframe\">\n",
       "  <thead>\n",
       "    <tr style=\"text-align: right;\">\n",
       "      <th></th>\n",
       "      <th>goodsNo</th>\n",
       "      <th>goodsSize</th>\n",
       "      <th>newGoodsNo</th>\n",
       "      <th>index</th>\n",
       "      <th>reviewNoun</th>\n",
       "      <th>userHeight</th>\n",
       "      <th>userWeight</th>\n",
       "      <th>userSexMen</th>\n",
       "      <th>userSexWomen</th>\n",
       "      <th>month1</th>\n",
       "      <th>month2</th>\n",
       "      <th>month3</th>\n",
       "      <th>month4</th>\n",
       "      <th>month5</th>\n",
       "      <th>month6</th>\n",
       "      <th>month7</th>\n",
       "      <th>month8</th>\n",
       "      <th>month9</th>\n",
       "      <th>month10</th>\n",
       "      <th>month11</th>\n",
       "      <th>month12</th>\n",
       "    </tr>\n",
       "  </thead>\n",
       "  <tbody>\n",
       "    <tr>\n",
       "      <th>0</th>\n",
       "      <td>10390</td>\n",
       "      <td>M</td>\n",
       "      <td>1039000230446</td>\n",
       "      <td>230446</td>\n",
       "      <td>[{'text': '문구', 'value': 1}, {'text': '맘', 'va...</td>\n",
       "      <td>160.000000</td>\n",
       "      <td>65.000000</td>\n",
       "      <td>0.0000</td>\n",
       "      <td>1.0000</td>\n",
       "      <td>0</td>\n",
       "      <td>0</td>\n",
       "      <td>0</td>\n",
       "      <td>0</td>\n",
       "      <td>0</td>\n",
       "      <td>0</td>\n",
       "      <td>0</td>\n",
       "      <td>0</td>\n",
       "      <td>0</td>\n",
       "      <td>1</td>\n",
       "      <td>0</td>\n",
       "      <td>0</td>\n",
       "    </tr>\n",
       "    <tr>\n",
       "      <th>1</th>\n",
       "      <td>10396</td>\n",
       "      <td>M</td>\n",
       "      <td>1039600198495</td>\n",
       "      <td>198495</td>\n",
       "      <td>[{'text': '구매', 'value': 2}, {'text': '프린팅', '...</td>\n",
       "      <td>164.000000</td>\n",
       "      <td>55.000000</td>\n",
       "      <td>0.5000</td>\n",
       "      <td>0.5000</td>\n",
       "      <td>0</td>\n",
       "      <td>0</td>\n",
       "      <td>0</td>\n",
       "      <td>0</td>\n",
       "      <td>0</td>\n",
       "      <td>0</td>\n",
       "      <td>0</td>\n",
       "      <td>0</td>\n",
       "      <td>1</td>\n",
       "      <td>1</td>\n",
       "      <td>0</td>\n",
       "      <td>0</td>\n",
       "    </tr>\n",
       "    <tr>\n",
       "      <th>2</th>\n",
       "      <td>18716</td>\n",
       "      <td>XXL</td>\n",
       "      <td>1871600198467</td>\n",
       "      <td>198467</td>\n",
       "      <td>[{'text': '잠옷', 'value': 4}, {'text': '집', 'va...</td>\n",
       "      <td>175.000000</td>\n",
       "      <td>88.000000</td>\n",
       "      <td>1.0000</td>\n",
       "      <td>0.0000</td>\n",
       "      <td>0</td>\n",
       "      <td>0</td>\n",
       "      <td>2</td>\n",
       "      <td>0</td>\n",
       "      <td>0</td>\n",
       "      <td>0</td>\n",
       "      <td>0</td>\n",
       "      <td>0</td>\n",
       "      <td>0</td>\n",
       "      <td>0</td>\n",
       "      <td>0</td>\n",
       "      <td>0</td>\n",
       "    </tr>\n",
       "    <tr>\n",
       "      <th>3</th>\n",
       "      <td>18724</td>\n",
       "      <td>S</td>\n",
       "      <td>1872400194701</td>\n",
       "      <td>194701</td>\n",
       "      <td>[{'text': '외', 'value': 1}, {'text': '제일', 'va...</td>\n",
       "      <td>162.000000</td>\n",
       "      <td>48.000000</td>\n",
       "      <td>0.0000</td>\n",
       "      <td>1.0000</td>\n",
       "      <td>0</td>\n",
       "      <td>0</td>\n",
       "      <td>0</td>\n",
       "      <td>0</td>\n",
       "      <td>1</td>\n",
       "      <td>0</td>\n",
       "      <td>0</td>\n",
       "      <td>0</td>\n",
       "      <td>0</td>\n",
       "      <td>0</td>\n",
       "      <td>0</td>\n",
       "      <td>0</td>\n",
       "    </tr>\n",
       "    <tr>\n",
       "      <th>4</th>\n",
       "      <td>23466</td>\n",
       "      <td>S</td>\n",
       "      <td>2346600231696</td>\n",
       "      <td>231696</td>\n",
       "      <td>[{'text': '생각', 'value': 1}, {'text': '치', 'va...</td>\n",
       "      <td>160.000000</td>\n",
       "      <td>50.000000</td>\n",
       "      <td>1.0000</td>\n",
       "      <td>0.0000</td>\n",
       "      <td>0</td>\n",
       "      <td>0</td>\n",
       "      <td>0</td>\n",
       "      <td>0</td>\n",
       "      <td>0</td>\n",
       "      <td>0</td>\n",
       "      <td>0</td>\n",
       "      <td>0</td>\n",
       "      <td>1</td>\n",
       "      <td>0</td>\n",
       "      <td>0</td>\n",
       "      <td>0</td>\n",
       "    </tr>\n",
       "    <tr>\n",
       "      <th>...</th>\n",
       "      <td>...</td>\n",
       "      <td>...</td>\n",
       "      <td>...</td>\n",
       "      <td>...</td>\n",
       "      <td>...</td>\n",
       "      <td>...</td>\n",
       "      <td>...</td>\n",
       "      <td>...</td>\n",
       "      <td>...</td>\n",
       "      <td>...</td>\n",
       "      <td>...</td>\n",
       "      <td>...</td>\n",
       "      <td>...</td>\n",
       "      <td>...</td>\n",
       "      <td>...</td>\n",
       "      <td>...</td>\n",
       "      <td>...</td>\n",
       "      <td>...</td>\n",
       "      <td>...</td>\n",
       "      <td>...</td>\n",
       "      <td>...</td>\n",
       "    </tr>\n",
       "    <tr>\n",
       "      <th>150225</th>\n",
       "      <td>2408672</td>\n",
       "      <td>M</td>\n",
       "      <td>2408672154785</td>\n",
       "      <td>154785</td>\n",
       "      <td>[{'text': '핏', 'value': 2}, {'text': '디테일', 'v...</td>\n",
       "      <td>176.375000</td>\n",
       "      <td>70.437500</td>\n",
       "      <td>0.9375</td>\n",
       "      <td>0.0625</td>\n",
       "      <td>0</td>\n",
       "      <td>1</td>\n",
       "      <td>0</td>\n",
       "      <td>1</td>\n",
       "      <td>2</td>\n",
       "      <td>4</td>\n",
       "      <td>1</td>\n",
       "      <td>1</td>\n",
       "      <td>0</td>\n",
       "      <td>4</td>\n",
       "      <td>0</td>\n",
       "      <td>2</td>\n",
       "    </tr>\n",
       "    <tr>\n",
       "      <th>150226</th>\n",
       "      <td>2408675</td>\n",
       "      <td>M</td>\n",
       "      <td>2408675213992</td>\n",
       "      <td>213992</td>\n",
       "      <td>[{'text': '느낌', 'value': 6}, {'text': '스타일', '...</td>\n",
       "      <td>171.315789</td>\n",
       "      <td>65.105263</td>\n",
       "      <td>1.0000</td>\n",
       "      <td>0.0000</td>\n",
       "      <td>0</td>\n",
       "      <td>0</td>\n",
       "      <td>1</td>\n",
       "      <td>3</td>\n",
       "      <td>2</td>\n",
       "      <td>2</td>\n",
       "      <td>4</td>\n",
       "      <td>0</td>\n",
       "      <td>1</td>\n",
       "      <td>4</td>\n",
       "      <td>2</td>\n",
       "      <td>0</td>\n",
       "    </tr>\n",
       "    <tr>\n",
       "      <th>150227</th>\n",
       "      <td>2409261</td>\n",
       "      <td>WOMEN-ONE</td>\n",
       "      <td>2409261194715</td>\n",
       "      <td>194715</td>\n",
       "      <td>[{'text': '유니크', 'value': 1}, {'text': '바로', '...</td>\n",
       "      <td>168.400000</td>\n",
       "      <td>60.400000</td>\n",
       "      <td>0.8000</td>\n",
       "      <td>0.2000</td>\n",
       "      <td>0</td>\n",
       "      <td>0</td>\n",
       "      <td>0</td>\n",
       "      <td>0</td>\n",
       "      <td>0</td>\n",
       "      <td>1</td>\n",
       "      <td>0</td>\n",
       "      <td>0</td>\n",
       "      <td>0</td>\n",
       "      <td>3</td>\n",
       "      <td>1</td>\n",
       "      <td>0</td>\n",
       "    </tr>\n",
       "    <tr>\n",
       "      <th>150228</th>\n",
       "      <td>2410927</td>\n",
       "      <td>beige/L</td>\n",
       "      <td>2410927248936</td>\n",
       "      <td>248936</td>\n",
       "      <td>[{'text': '디자인', 'value': 2}, {'text': '앞', 'v...</td>\n",
       "      <td>179.625000</td>\n",
       "      <td>77.625000</td>\n",
       "      <td>1.0000</td>\n",
       "      <td>0.0000</td>\n",
       "      <td>0</td>\n",
       "      <td>2</td>\n",
       "      <td>1</td>\n",
       "      <td>2</td>\n",
       "      <td>0</td>\n",
       "      <td>2</td>\n",
       "      <td>2</td>\n",
       "      <td>1</td>\n",
       "      <td>3</td>\n",
       "      <td>2</td>\n",
       "      <td>1</td>\n",
       "      <td>0</td>\n",
       "    </tr>\n",
       "    <tr>\n",
       "      <th>150229</th>\n",
       "      <td>2411637</td>\n",
       "      <td>S</td>\n",
       "      <td>2411637205476</td>\n",
       "      <td>205476</td>\n",
       "      <td>[{'text': '청바지', 'value': 1}, {'text': '슬랙스', ...</td>\n",
       "      <td>179.666667</td>\n",
       "      <td>88.466667</td>\n",
       "      <td>1.0000</td>\n",
       "      <td>0.0000</td>\n",
       "      <td>2</td>\n",
       "      <td>0</td>\n",
       "      <td>0</td>\n",
       "      <td>0</td>\n",
       "      <td>1</td>\n",
       "      <td>1</td>\n",
       "      <td>2</td>\n",
       "      <td>1</td>\n",
       "      <td>3</td>\n",
       "      <td>1</td>\n",
       "      <td>2</td>\n",
       "      <td>2</td>\n",
       "    </tr>\n",
       "  </tbody>\n",
       "</table>\n",
       "<p>150230 rows × 21 columns</p>\n",
       "</div>"
      ],
      "text/plain": [
       "        goodsNo  goodsSize     newGoodsNo   index  \\\n",
       "0         10390          M  1039000230446  230446   \n",
       "1         10396          M  1039600198495  198495   \n",
       "2         18716        XXL  1871600198467  198467   \n",
       "3         18724          S  1872400194701  194701   \n",
       "4         23466          S  2346600231696  231696   \n",
       "...         ...        ...            ...     ...   \n",
       "150225  2408672          M  2408672154785  154785   \n",
       "150226  2408675          M  2408675213992  213992   \n",
       "150227  2409261  WOMEN-ONE  2409261194715  194715   \n",
       "150228  2410927    beige/L  2410927248936  248936   \n",
       "150229  2411637          S  2411637205476  205476   \n",
       "\n",
       "                                               reviewNoun  userHeight  \\\n",
       "0       [{'text': '문구', 'value': 1}, {'text': '맘', 'va...  160.000000   \n",
       "1       [{'text': '구매', 'value': 2}, {'text': '프린팅', '...  164.000000   \n",
       "2       [{'text': '잠옷', 'value': 4}, {'text': '집', 'va...  175.000000   \n",
       "3       [{'text': '외', 'value': 1}, {'text': '제일', 'va...  162.000000   \n",
       "4       [{'text': '생각', 'value': 1}, {'text': '치', 'va...  160.000000   \n",
       "...                                                   ...         ...   \n",
       "150225  [{'text': '핏', 'value': 2}, {'text': '디테일', 'v...  176.375000   \n",
       "150226  [{'text': '느낌', 'value': 6}, {'text': '스타일', '...  171.315789   \n",
       "150227  [{'text': '유니크', 'value': 1}, {'text': '바로', '...  168.400000   \n",
       "150228  [{'text': '디자인', 'value': 2}, {'text': '앞', 'v...  179.625000   \n",
       "150229  [{'text': '청바지', 'value': 1}, {'text': '슬랙스', ...  179.666667   \n",
       "\n",
       "        userWeight  userSexMen  userSexWomen  month1  month2  month3  month4  \\\n",
       "0        65.000000      0.0000        1.0000       0       0       0       0   \n",
       "1        55.000000      0.5000        0.5000       0       0       0       0   \n",
       "2        88.000000      1.0000        0.0000       0       0       2       0   \n",
       "3        48.000000      0.0000        1.0000       0       0       0       0   \n",
       "4        50.000000      1.0000        0.0000       0       0       0       0   \n",
       "...            ...         ...           ...     ...     ...     ...     ...   \n",
       "150225   70.437500      0.9375        0.0625       0       1       0       1   \n",
       "150226   65.105263      1.0000        0.0000       0       0       1       3   \n",
       "150227   60.400000      0.8000        0.2000       0       0       0       0   \n",
       "150228   77.625000      1.0000        0.0000       0       2       1       2   \n",
       "150229   88.466667      1.0000        0.0000       2       0       0       0   \n",
       "\n",
       "        month5  month6  month7  month8  month9  month10  month11  month12  \n",
       "0            0       0       0       0       0        1        0        0  \n",
       "1            0       0       0       0       1        1        0        0  \n",
       "2            0       0       0       0       0        0        0        0  \n",
       "3            1       0       0       0       0        0        0        0  \n",
       "4            0       0       0       0       1        0        0        0  \n",
       "...        ...     ...     ...     ...     ...      ...      ...      ...  \n",
       "150225       2       4       1       1       0        4        0        2  \n",
       "150226       2       2       4       0       1        4        2        0  \n",
       "150227       0       1       0       0       0        3        1        0  \n",
       "150228       0       2       2       1       3        2        1        0  \n",
       "150229       1       1       2       1       3        1        2        2  \n",
       "\n",
       "[150230 rows x 21 columns]"
      ]
     },
     "execution_count": 41,
     "metadata": {},
     "output_type": "execute_result"
    }
   ],
   "source": [
    "sub_top = pd.read_json('./size_top.json')\n",
    "sub_top"
   ]
  },
  {
   "cell_type": "code",
   "execution_count": 42,
   "id": "ee678a85",
   "metadata": {},
   "outputs": [
    {
     "data": {
      "text/plain": [
       "(249606, 70)"
      ]
     },
     "execution_count": 42,
     "metadata": {},
     "output_type": "execute_result"
    }
   ],
   "source": [
    "top = pd.merge(top, sub_top, how=\"left\", left_on=\"clothId\", right_on=\"goodsNo\")\n",
    "top.shape"
   ]
  },
  {
   "cell_type": "code",
   "execution_count": 43,
   "id": "686fd6f9",
   "metadata": {},
   "outputs": [
    {
     "data": {
      "text/plain": [
       "Index(['clothId', 'largeCategory', 'largeCategoryName',\n",
       "       'smallCategoryHalfshort', 'smallCategoryShirt', 'smallCategoryCollar',\n",
       "       'smallCategoryHoody', 'smallCategorySweatshirt', 'smallCategoryKnit',\n",
       "       'smallCategoryLong', 'smallCategoryShort', 'smallCategoryOthers',\n",
       "       'smallCategoryName', 'colorWhite', 'colorGrey', 'colorBlack',\n",
       "       'colorRed', 'colorPink', 'colorOrange', 'colorIvory', 'colorYellow',\n",
       "       'colorGreen', 'colorBlue', 'colorPurple', 'colorBrown', 'colorBeige',\n",
       "       'colorJean', 'colorPattern', 'colorOthers', 'colorName', 'clothName',\n",
       "       'brand', 'image', 'clothPrice', 'date', 'hashtags', 'clothSexMen',\n",
       "       'clothSexWomen', 'clothRate', 'clothReviewNo', 'fit', 'feeling',\n",
       "       'stretch', 'visibility', 'thickness', 'seasonSpring', 'seasonSummer',\n",
       "       'seasonFall', 'seasonWinter', 'goodsNo', 'goodsSize', 'newGoodsNo',\n",
       "       'index', 'reviewNoun', 'userHeight', 'userWeight', 'userSexMen',\n",
       "       'userSexWomen', 'month1', 'month2', 'month3', 'month4', 'month5',\n",
       "       'month6', 'month7', 'month8', 'month9', 'month10', 'month11',\n",
       "       'month12'],\n",
       "      dtype='object')"
      ]
     },
     "execution_count": 43,
     "metadata": {},
     "output_type": "execute_result"
    }
   ],
   "source": [
    "top.columns"
   ]
  },
  {
   "cell_type": "code",
   "execution_count": 44,
   "id": "859afdfc",
   "metadata": {},
   "outputs": [
    {
     "data": {
      "text/plain": [
       "(249606, 68)"
      ]
     },
     "execution_count": 44,
     "metadata": {},
     "output_type": "execute_result"
    }
   ],
   "source": [
    "top = top.drop([\"goodsNo\", \"index\"], axis=1)\n",
    "top.shape"
   ]
  },
  {
   "cell_type": "code",
   "execution_count": 45,
   "id": "2cbe28c4",
   "metadata": {},
   "outputs": [
    {
     "data": {
      "text/plain": [
       "91966"
      ]
     },
     "execution_count": 45,
     "metadata": {},
     "output_type": "execute_result"
    }
   ],
   "source": [
    "# 249606 : 반복문을 통해 변화된 skirt 행 개수\n",
    "# 157640 : 원래의 skirt 행 개수\n",
    "# 91966 : 새로 생긴 skirt 행 개수\n",
    "249606-157640"
   ]
  },
  {
   "cell_type": "code",
   "execution_count": 46,
   "id": "ad38ac85",
   "metadata": {},
   "outputs": [
    {
     "data": {
      "text/plain": [
       "91966"
      ]
     },
     "execution_count": 46,
     "metadata": {},
     "output_type": "execute_result"
    }
   ],
   "source": [
    "150230-58264"
   ]
  },
  {
   "cell_type": "code",
   "execution_count": 47,
   "id": "612c3138",
   "metadata": {},
   "outputs": [
    {
     "data": {
      "text/plain": [
       "150230"
      ]
     },
     "execution_count": 47,
     "metadata": {},
     "output_type": "execute_result"
    }
   ],
   "source": [
    "len(sub_top)"
   ]
  },
  {
   "cell_type": "code",
   "execution_count": 48,
   "id": "55d22886",
   "metadata": {},
   "outputs": [
    {
     "data": {
      "text/plain": [
       "58264"
      ]
     },
     "execution_count": 48,
     "metadata": {},
     "output_type": "execute_result"
    }
   ],
   "source": [
    "len(sub_top.goodsNo.unique())"
   ]
  },
  {
   "cell_type": "code",
   "execution_count": 49,
   "id": "2d29adf6",
   "metadata": {},
   "outputs": [],
   "source": [
    "from copy import deepcopy\n",
    "b = deepcopy(top)"
   ]
  },
  {
   "cell_type": "code",
   "execution_count": 50,
   "id": "2aaa64dd",
   "metadata": {},
   "outputs": [
    {
     "data": {
      "text/plain": [
       "Index(['clothId', 'largeCategory', 'largeCategoryName',\n",
       "       'smallCategoryHalfshort', 'smallCategoryShirt', 'smallCategoryCollar',\n",
       "       'smallCategoryHoody', 'smallCategorySweatshirt', 'smallCategoryKnit',\n",
       "       'smallCategoryLong', 'smallCategoryShort', 'smallCategoryOthers',\n",
       "       'smallCategoryName', 'colorWhite', 'colorGrey', 'colorBlack',\n",
       "       'colorRed', 'colorPink', 'colorOrange', 'colorIvory', 'colorYellow',\n",
       "       'colorGreen', 'colorBlue', 'colorPurple', 'colorBrown', 'colorBeige',\n",
       "       'colorJean', 'colorPattern', 'colorOthers', 'colorName', 'clothName',\n",
       "       'brand', 'image', 'clothPrice', 'date', 'hashtags', 'clothSexMen',\n",
       "       'clothSexWomen', 'clothRate', 'clothReviewNo', 'fit', 'feeling',\n",
       "       'stretch', 'visibility', 'thickness', 'seasonSpring', 'seasonSummer',\n",
       "       'seasonFall', 'seasonWinter', 'goodsSize', 'newGoodsNo', 'reviewNoun',\n",
       "       'userHeight', 'userWeight', 'userSexMen', 'userSexWomen', 'month1',\n",
       "       'month2', 'month3', 'month4', 'month5', 'month6', 'month7', 'month8',\n",
       "       'month9', 'month10', 'month11', 'month12'],\n",
       "      dtype='object')"
      ]
     },
     "execution_count": 50,
     "metadata": {},
     "output_type": "execute_result"
    }
   ],
   "source": [
    "b.columns"
   ]
  },
  {
   "cell_type": "code",
   "execution_count": 51,
   "id": "652fe402",
   "metadata": {},
   "outputs": [],
   "source": [
    "col_list_1 = ['newGoodsNo', 'userSexMen', 'userSexWomen']\n",
    "col_list_2 = ['goodsSize', 'reviewNoun', 'userHeight', 'userWeight', 'month1', 'month2',\n",
    "       'month3', 'month4', 'month5', 'month6', 'month7', 'month8', 'month9',\n",
    "       'month10', 'month11', 'month12']\n",
    "check_list_1 = ['clothId',  'clothSexMen', 'clothSexWomen']\n",
    "check_list_2 = ['Free', [], 0, 0, 0, 0, 0, 0, 0, 0, 0, 0, 0, 0, 0, 0]\n",
    "for i in range(len(col_list_1)):\n",
    "    b[col_list_1[i]] = b[col_list_1[i]].fillna(0)\n",
    "    b[col_list_1[i]] = b.apply(lambda x: x[check_list_1[i]] if x[col_list_1[i]]==0 else x[col_list_1[i]], axis=1)\n",
    "    if i==0:\n",
    "        b[col_list_1[i]] = b[col_list_1[i]].astype('int64')\n",
    "    \n",
    "for i in range(len(col_list_2)):\n",
    "    b[col_list_2[i]] = b[col_list_2[i]].fillna(0)\n",
    "    b[col_list_2[i]] = b.apply(lambda x: check_list_2[i] if x[col_list_2[i]]==0 else x[col_list_2[i]], axis=1)\n",
    "    if i == 0:\n",
    "        b[col_list_2[i]] = b[col_list_2[i]].astype('str')\n",
    "    elif i >= 3:\n",
    "        b[col_list_2[i]] = b[col_list_2[i]].astype('int64')"
   ]
  },
  {
   "cell_type": "code",
   "execution_count": 52,
   "id": "ceef2d50",
   "metadata": {},
   "outputs": [],
   "source": [
    "top = deepcopy(b)"
   ]
  },
  {
   "cell_type": "code",
   "execution_count": 53,
   "id": "db82be85",
   "metadata": {},
   "outputs": [
    {
     "name": "stdout",
     "output_type": "stream",
     "text": [
      "0\n"
     ]
    }
   ],
   "source": [
    "# 이미지 null 값 확인\n",
    "print(len(top[top.image.isnull()]))"
   ]
  },
  {
   "cell_type": "code",
   "execution_count": 54,
   "id": "d68a5a61",
   "metadata": {},
   "outputs": [],
   "source": [
    "# hashtags 전처리\n",
    "top.hashtags = top.apply(lambda x: x.hashtags.replace(\"['\", \"\").replace(\"']\", \"\").replace(\"'\", \"\").replace(\" \", \"\").split(\",\"), axis=1)"
   ]
  },
  {
   "cell_type": "code",
   "execution_count": 55,
   "id": "584f94fc",
   "metadata": {},
   "outputs": [],
   "source": [
    "top.userHeight = top.userHeight.astype('float')\n",
    "top.userWeight = top.userWeight.astype('float')\n",
    "top.userSexMen = top.userSexMen.astype('float')\n",
    "top.userSexWomen = top.userSexWomen.astype('float')"
   ]
  },
  {
   "cell_type": "code",
   "execution_count": 56,
   "id": "bbe8c5c4",
   "metadata": {},
   "outputs": [
    {
     "data": {
      "text/plain": [
       "[{'text': '하의', 'value': 2},\n",
       " {'text': '길이', 'value': 1},\n",
       " {'text': '생각', 'value': 1},\n",
       " {'text': '키', 'value': 1},\n",
       " {'text': '덩', 'value': 1},\n",
       " {'text': '치가', 'value': 1},\n",
       " {'text': '편이', 'value': 1},\n",
       " {'text': '정말', 'value': 1},\n",
       " {'text': '반바지', 'value': 1},\n",
       " {'text': '실종', 'value': 1},\n",
       " {'text': '패션', 'value': 1},\n",
       " {'text': '디자인', 'value': 1}]"
      ]
     },
     "execution_count": 56,
     "metadata": {},
     "output_type": "execute_result"
    }
   ],
   "source": [
    "top.reviewNoun.iloc[2]"
   ]
  },
  {
   "cell_type": "code",
   "execution_count": 57,
   "id": "09866882",
   "metadata": {},
   "outputs": [
    {
     "data": {
      "text/plain": [
       "Index(['clothId', 'largeCategory', 'largeCategoryName',\n",
       "       'smallCategoryHalfshort', 'smallCategoryShirt', 'smallCategoryCollar',\n",
       "       'smallCategoryHoody', 'smallCategorySweatshirt', 'smallCategoryKnit',\n",
       "       'smallCategoryLong', 'smallCategoryShort', 'smallCategoryOthers',\n",
       "       'smallCategoryName', 'colorWhite', 'colorGrey', 'colorBlack',\n",
       "       'colorRed', 'colorPink', 'colorOrange', 'colorIvory', 'colorYellow',\n",
       "       'colorGreen', 'colorBlue', 'colorPurple', 'colorBrown', 'colorBeige',\n",
       "       'colorJean', 'colorPattern', 'colorOthers', 'colorName', 'clothName',\n",
       "       'brand', 'image', 'clothPrice', 'date', 'hashtags', 'clothSexMen',\n",
       "       'clothSexWomen', 'clothRate', 'clothReviewNo', 'fit', 'feeling',\n",
       "       'stretch', 'visibility', 'thickness', 'seasonSpring', 'seasonSummer',\n",
       "       'seasonFall', 'seasonWinter', 'goodsSize', 'newGoodsNo', 'reviewNoun',\n",
       "       'userHeight', 'userWeight', 'userSexMen', 'userSexWomen', 'month1',\n",
       "       'month2', 'month3', 'month4', 'month5', 'month6', 'month7', 'month8',\n",
       "       'month9', 'month10', 'month11', 'month12'],\n",
       "      dtype='object')"
      ]
     },
     "execution_count": 57,
     "metadata": {},
     "output_type": "execute_result"
    }
   ],
   "source": [
    "top.columns"
   ]
  },
  {
   "cell_type": "code",
   "execution_count": 58,
   "id": "dac3f4a9",
   "metadata": {},
   "outputs": [],
   "source": [
    "top.columns = ['clothId', 'largeCategory', 'largeCategoryName',\n",
    "       'smallCategoryHalfshort', 'smallCategoryShirt', 'smallCategoryCollar',\n",
    "       'smallCategoryHoody', 'smallCategorySweatshirt', 'smallCategoryKnit',\n",
    "       'smallCategoryLong', 'smallCategoryShort', 'smallCategoryOthers',\n",
    "       'smallCategoryName', 'colorWhite', 'colorGrey', 'colorBlack',\n",
    "       'colorRed', 'colorPink', 'colorOrange', 'colorIvory', 'colorYellow',\n",
    "       'colorGreen', 'colorBlue', 'colorPurple', 'colorBrown', 'colorBeige',\n",
    "       'colorJean', 'colorPattern', 'colorOthers', 'colorName', 'clothName',\n",
    "       'brand', 'clothImg', 'clothPrice', 'date', 'clothHashtags', 'clothMale',\n",
    "       'clothFemale', 'clothRate', 'clothReviewCnt', 'fit', 'feeling',\n",
    "       'stretch', 'visibility', 'thickness', 'seasonSpring', 'seasonSummer',\n",
    "       'seasonFall', 'seasonWinter', 'goodsSize', 'newClothId', 'reviewNoun', 'userHeight',\n",
    "       'userWeight', 'userMale', 'userFemale', 'month1', 'month2',\n",
    "       'month3', 'month4', 'month5', 'month6', 'month7', 'month8', 'month9',\n",
    "       'month10', 'month11', 'month12']"
   ]
  },
  {
   "cell_type": "code",
   "execution_count": 59,
   "id": "bc521e37",
   "metadata": {},
   "outputs": [],
   "source": [
    "top = top[['newClothId', 'clothId', 'largeCategory', 'largeCategoryName',\n",
    "       'smallCategoryHalfshort', 'smallCategoryShirt', 'smallCategoryCollar',\n",
    "       'smallCategoryHoody', 'smallCategorySweatshirt', 'smallCategoryKnit',\n",
    "       'smallCategoryLong', 'smallCategoryShort', 'smallCategoryOthers',\n",
    "       'smallCategoryName', 'colorWhite', 'colorGrey', 'colorBlack',\n",
    "       'colorRed', 'colorPink', 'colorOrange', 'colorIvory', 'colorYellow',\n",
    "       'colorGreen', 'colorBlue', 'colorPurple', 'colorBrown', 'colorBeige',\n",
    "       'colorJean', 'colorPattern', 'colorOthers', 'colorName', 'clothName',\n",
    "       'brand', 'clothImg', 'clothPrice', 'date', 'clothHashtags', 'clothMale',\n",
    "       'clothFemale', 'clothRate', 'clothReviewCnt', 'fit', 'feeling',\n",
    "       'stretch', 'visibility', 'thickness', 'seasonSpring', 'seasonSummer',\n",
    "       'seasonFall', 'seasonWinter', 'goodsSize', 'reviewNoun', 'userHeight',\n",
    "       'userWeight', 'userMale', 'userFemale', 'month1', 'month2',\n",
    "       'month3', 'month4', 'month5', 'month6', 'month7', 'month8', 'month9',\n",
    "       'month10', 'month11', 'month12']]"
   ]
  },
  {
   "cell_type": "code",
   "execution_count": 60,
   "id": "bc40b2c2",
   "metadata": {},
   "outputs": [
    {
     "data": {
      "text/plain": [
       "(249606, 68)"
      ]
     },
     "execution_count": 60,
     "metadata": {},
     "output_type": "execute_result"
    }
   ],
   "source": [
    "top.shape"
   ]
  },
  {
   "cell_type": "code",
   "execution_count": 61,
   "id": "58c8f3d2",
   "metadata": {},
   "outputs": [],
   "source": [
    "top.to_json('final_top.json', orient='records', force_ascii=False)"
   ]
  },
  {
   "cell_type": "code",
   "execution_count": 62,
   "id": "d4ea506f",
   "metadata": {},
   "outputs": [],
   "source": [
    "top.to_csv('final_top.csv',\n",
    "                 sep=',',\n",
    "                 float_format = '%.4f',\n",
    "                 encoding = 'utf-8-sig')"
   ]
  },
  {
   "cell_type": "code",
   "execution_count": null,
   "id": "3082ff6a",
   "metadata": {},
   "outputs": [],
   "source": []
  },
  {
   "cell_type": "markdown",
   "id": "eb69d435",
   "metadata": {},
   "source": [
    " "
   ]
  },
  {
   "cell_type": "markdown",
   "id": "ae885610",
   "metadata": {},
   "source": [
    " "
   ]
  },
  {
   "cell_type": "markdown",
   "id": "1725ab2f",
   "metadata": {},
   "source": [
    "# Outer"
   ]
  },
  {
   "cell_type": "code",
   "execution_count": 63,
   "id": "d9605d06",
   "metadata": {
    "scrolled": true
   },
   "outputs": [
    {
     "name": "stderr",
     "output_type": "stream",
     "text": [
      "C:\\Users\\SSAFY\\AppData\\Local\\Temp\\ipykernel_17388\\3755538683.py:1: DtypeWarning: Columns (3) have mixed types. Specify dtype option on import or set low_memory=False.\n",
      "  outer = pd.read_csv('./musinsa_clothes_outer.csv')\n"
     ]
    }
   ],
   "source": [
    "outer = pd.read_csv('./musinsa_clothes_outer.csv')"
   ]
  },
  {
   "cell_type": "code",
   "execution_count": 64,
   "id": "9c43c3c2",
   "metadata": {
    "scrolled": true
   },
   "outputs": [
    {
     "data": {
      "text/plain": [
       "Index(['clothId', 'largeCategory', 'largeCategoryName', 'smallCategory',\n",
       "       'smallCategoryName', 'colorNo', 'clothName', 'brand', 'image',\n",
       "       'clothPrice', 'date', 'hashtags', 'clothSexMen', 'clothSexWomen',\n",
       "       'clothSexCommon', 'clothRate', 'clothReviewNo', 'fit', 'feeling',\n",
       "       'stretch', 'visibility', 'thickness', 'seasonSpring', 'seasonSummer',\n",
       "       'seasonFall', 'seasonWinter'],\n",
       "      dtype='object')"
      ]
     },
     "execution_count": 64,
     "metadata": {},
     "output_type": "execute_result"
    }
   ],
   "source": [
    "outer.columns"
   ]
  },
  {
   "cell_type": "code",
   "execution_count": 65,
   "id": "b72e44a4",
   "metadata": {},
   "outputs": [
    {
     "name": "stdout",
     "output_type": "stream",
     "text": [
      "<class 'pandas.core.frame.DataFrame'>\n",
      "RangeIndex: 55039 entries, 0 to 55038\n",
      "Data columns (total 26 columns):\n",
      " #   Column             Non-Null Count  Dtype  \n",
      "---  ------             --------------  -----  \n",
      " 0   clothId            55039 non-null  int64  \n",
      " 1   largeCategory      55039 non-null  int64  \n",
      " 2   largeCategoryName  55039 non-null  object \n",
      " 3   smallCategory      55039 non-null  object \n",
      " 4   smallCategoryName  55039 non-null  object \n",
      " 5   colorNo            55039 non-null  int64  \n",
      " 6   clothName          55039 non-null  object \n",
      " 7   brand              55039 non-null  object \n",
      " 8   image              55039 non-null  object \n",
      " 9   clothPrice         55039 non-null  object \n",
      " 10  date               55039 non-null  int64  \n",
      " 11  hashtags           55039 non-null  object \n",
      " 12  clothSexMen        55039 non-null  int64  \n",
      " 13  clothSexWomen      55039 non-null  int64  \n",
      " 14  clothSexCommon     55039 non-null  int64  \n",
      " 15  clothRate          55039 non-null  float64\n",
      " 16  clothReviewNo      55039 non-null  object \n",
      " 17  fit                55039 non-null  int64  \n",
      " 18  feeling            55039 non-null  int64  \n",
      " 19  stretch            55039 non-null  int64  \n",
      " 20  visibility         55039 non-null  int64  \n",
      " 21  thickness          55039 non-null  int64  \n",
      " 22  seasonSpring       55039 non-null  int64  \n",
      " 23  seasonSummer       55039 non-null  int64  \n",
      " 24  seasonFall         55039 non-null  int64  \n",
      " 25  seasonWinter       55039 non-null  int64  \n",
      "dtypes: float64(1), int64(16), object(9)\n",
      "memory usage: 10.9+ MB\n"
     ]
    }
   ],
   "source": [
    "outer.info()"
   ]
  },
  {
   "cell_type": "code",
   "execution_count": 66,
   "id": "38160c07",
   "metadata": {
    "scrolled": false
   },
   "outputs": [
    {
     "data": {
      "text/html": [
       "<div>\n",
       "<style scoped>\n",
       "    .dataframe tbody tr th:only-of-type {\n",
       "        vertical-align: middle;\n",
       "    }\n",
       "\n",
       "    .dataframe tbody tr th {\n",
       "        vertical-align: top;\n",
       "    }\n",
       "\n",
       "    .dataframe thead th {\n",
       "        text-align: right;\n",
       "    }\n",
       "</style>\n",
       "<table border=\"1\" class=\"dataframe\">\n",
       "  <thead>\n",
       "    <tr style=\"text-align: right;\">\n",
       "      <th></th>\n",
       "      <th>clothId</th>\n",
       "      <th>largeCategory</th>\n",
       "      <th>colorNo</th>\n",
       "      <th>date</th>\n",
       "      <th>clothSexMen</th>\n",
       "      <th>clothSexWomen</th>\n",
       "      <th>clothSexCommon</th>\n",
       "      <th>clothRate</th>\n",
       "      <th>fit</th>\n",
       "      <th>feeling</th>\n",
       "      <th>stretch</th>\n",
       "      <th>visibility</th>\n",
       "      <th>thickness</th>\n",
       "      <th>seasonSpring</th>\n",
       "      <th>seasonSummer</th>\n",
       "      <th>seasonFall</th>\n",
       "      <th>seasonWinter</th>\n",
       "    </tr>\n",
       "  </thead>\n",
       "  <tbody>\n",
       "    <tr>\n",
       "      <th>count</th>\n",
       "      <td>5.503900e+04</td>\n",
       "      <td>55039.0</td>\n",
       "      <td>55039.000000</td>\n",
       "      <td>5.503900e+04</td>\n",
       "      <td>55039.000000</td>\n",
       "      <td>55039.000000</td>\n",
       "      <td>55039.000000</td>\n",
       "      <td>55039.000000</td>\n",
       "      <td>55039.000000</td>\n",
       "      <td>55039.000000</td>\n",
       "      <td>55039.000000</td>\n",
       "      <td>55039.000000</td>\n",
       "      <td>55039.000000</td>\n",
       "      <td>55039.000000</td>\n",
       "      <td>55039.000000</td>\n",
       "      <td>55039.000000</td>\n",
       "      <td>55039.00000</td>\n",
       "    </tr>\n",
       "    <tr>\n",
       "      <th>mean</th>\n",
       "      <td>1.935946e+06</td>\n",
       "      <td>2.0</td>\n",
       "      <td>13.667290</td>\n",
       "      <td>2.020825e+07</td>\n",
       "      <td>0.585512</td>\n",
       "      <td>0.372118</td>\n",
       "      <td>0.042261</td>\n",
       "      <td>2.237203</td>\n",
       "      <td>1.057632</td>\n",
       "      <td>0.648177</td>\n",
       "      <td>0.734316</td>\n",
       "      <td>1.297444</td>\n",
       "      <td>0.965915</td>\n",
       "      <td>0.192409</td>\n",
       "      <td>0.045095</td>\n",
       "      <td>0.217864</td>\n",
       "      <td>0.17315</td>\n",
       "    </tr>\n",
       "    <tr>\n",
       "      <th>std</th>\n",
       "      <td>4.423802e+05</td>\n",
       "      <td>0.0</td>\n",
       "      <td>14.269903</td>\n",
       "      <td>1.106843e+04</td>\n",
       "      <td>0.492638</td>\n",
       "      <td>0.483374</td>\n",
       "      <td>0.201186</td>\n",
       "      <td>2.377868</td>\n",
       "      <td>1.794288</td>\n",
       "      <td>1.184583</td>\n",
       "      <td>1.389274</td>\n",
       "      <td>2.131908</td>\n",
       "      <td>1.641572</td>\n",
       "      <td>0.394196</td>\n",
       "      <td>0.207515</td>\n",
       "      <td>0.412798</td>\n",
       "      <td>0.37838</td>\n",
       "    </tr>\n",
       "    <tr>\n",
       "      <th>min</th>\n",
       "      <td>1.878100e+04</td>\n",
       "      <td>2.0</td>\n",
       "      <td>1.000000</td>\n",
       "      <td>2.012051e+07</td>\n",
       "      <td>0.000000</td>\n",
       "      <td>0.000000</td>\n",
       "      <td>0.000000</td>\n",
       "      <td>0.000000</td>\n",
       "      <td>0.000000</td>\n",
       "      <td>0.000000</td>\n",
       "      <td>0.000000</td>\n",
       "      <td>0.000000</td>\n",
       "      <td>0.000000</td>\n",
       "      <td>0.000000</td>\n",
       "      <td>0.000000</td>\n",
       "      <td>0.000000</td>\n",
       "      <td>0.00000</td>\n",
       "    </tr>\n",
       "    <tr>\n",
       "      <th>25%</th>\n",
       "      <td>1.682430e+06</td>\n",
       "      <td>2.0</td>\n",
       "      <td>2.000000</td>\n",
       "      <td>2.020111e+07</td>\n",
       "      <td>0.000000</td>\n",
       "      <td>0.000000</td>\n",
       "      <td>0.000000</td>\n",
       "      <td>0.000000</td>\n",
       "      <td>0.000000</td>\n",
       "      <td>0.000000</td>\n",
       "      <td>0.000000</td>\n",
       "      <td>0.000000</td>\n",
       "      <td>0.000000</td>\n",
       "      <td>0.000000</td>\n",
       "      <td>0.000000</td>\n",
       "      <td>0.000000</td>\n",
       "      <td>0.00000</td>\n",
       "    </tr>\n",
       "    <tr>\n",
       "      <th>50%</th>\n",
       "      <td>2.117505e+06</td>\n",
       "      <td>2.0</td>\n",
       "      <td>5.000000</td>\n",
       "      <td>2.021091e+07</td>\n",
       "      <td>1.000000</td>\n",
       "      <td>0.000000</td>\n",
       "      <td>0.000000</td>\n",
       "      <td>0.000000</td>\n",
       "      <td>0.000000</td>\n",
       "      <td>0.000000</td>\n",
       "      <td>0.000000</td>\n",
       "      <td>0.000000</td>\n",
       "      <td>0.000000</td>\n",
       "      <td>0.000000</td>\n",
       "      <td>0.000000</td>\n",
       "      <td>0.000000</td>\n",
       "      <td>0.00000</td>\n",
       "    </tr>\n",
       "    <tr>\n",
       "      <th>75%</th>\n",
       "      <td>2.259102e+06</td>\n",
       "      <td>2.0</td>\n",
       "      <td>24.000000</td>\n",
       "      <td>2.021121e+07</td>\n",
       "      <td>1.000000</td>\n",
       "      <td>1.000000</td>\n",
       "      <td>0.000000</td>\n",
       "      <td>4.800000</td>\n",
       "      <td>3.000000</td>\n",
       "      <td>1.000000</td>\n",
       "      <td>1.000000</td>\n",
       "      <td>3.000000</td>\n",
       "      <td>3.000000</td>\n",
       "      <td>0.000000</td>\n",
       "      <td>0.000000</td>\n",
       "      <td>0.000000</td>\n",
       "      <td>0.00000</td>\n",
       "    </tr>\n",
       "    <tr>\n",
       "      <th>max</th>\n",
       "      <td>2.413481e+06</td>\n",
       "      <td>2.0</td>\n",
       "      <td>71.000000</td>\n",
       "      <td>2.022031e+07</td>\n",
       "      <td>1.000000</td>\n",
       "      <td>1.000000</td>\n",
       "      <td>1.000000</td>\n",
       "      <td>5.000000</td>\n",
       "      <td>5.000000</td>\n",
       "      <td>6.000000</td>\n",
       "      <td>5.000000</td>\n",
       "      <td>6.000000</td>\n",
       "      <td>6.000000</td>\n",
       "      <td>1.000000</td>\n",
       "      <td>1.000000</td>\n",
       "      <td>1.000000</td>\n",
       "      <td>1.00000</td>\n",
       "    </tr>\n",
       "  </tbody>\n",
       "</table>\n",
       "</div>"
      ],
      "text/plain": [
       "            clothId  largeCategory       colorNo          date   clothSexMen  \\\n",
       "count  5.503900e+04        55039.0  55039.000000  5.503900e+04  55039.000000   \n",
       "mean   1.935946e+06            2.0     13.667290  2.020825e+07      0.585512   \n",
       "std    4.423802e+05            0.0     14.269903  1.106843e+04      0.492638   \n",
       "min    1.878100e+04            2.0      1.000000  2.012051e+07      0.000000   \n",
       "25%    1.682430e+06            2.0      2.000000  2.020111e+07      0.000000   \n",
       "50%    2.117505e+06            2.0      5.000000  2.021091e+07      1.000000   \n",
       "75%    2.259102e+06            2.0     24.000000  2.021121e+07      1.000000   \n",
       "max    2.413481e+06            2.0     71.000000  2.022031e+07      1.000000   \n",
       "\n",
       "       clothSexWomen  clothSexCommon     clothRate           fit  \\\n",
       "count   55039.000000    55039.000000  55039.000000  55039.000000   \n",
       "mean        0.372118        0.042261      2.237203      1.057632   \n",
       "std         0.483374        0.201186      2.377868      1.794288   \n",
       "min         0.000000        0.000000      0.000000      0.000000   \n",
       "25%         0.000000        0.000000      0.000000      0.000000   \n",
       "50%         0.000000        0.000000      0.000000      0.000000   \n",
       "75%         1.000000        0.000000      4.800000      3.000000   \n",
       "max         1.000000        1.000000      5.000000      5.000000   \n",
       "\n",
       "            feeling       stretch    visibility     thickness  seasonSpring  \\\n",
       "count  55039.000000  55039.000000  55039.000000  55039.000000  55039.000000   \n",
       "mean       0.648177      0.734316      1.297444      0.965915      0.192409   \n",
       "std        1.184583      1.389274      2.131908      1.641572      0.394196   \n",
       "min        0.000000      0.000000      0.000000      0.000000      0.000000   \n",
       "25%        0.000000      0.000000      0.000000      0.000000      0.000000   \n",
       "50%        0.000000      0.000000      0.000000      0.000000      0.000000   \n",
       "75%        1.000000      1.000000      3.000000      3.000000      0.000000   \n",
       "max        6.000000      5.000000      6.000000      6.000000      1.000000   \n",
       "\n",
       "       seasonSummer    seasonFall  seasonWinter  \n",
       "count  55039.000000  55039.000000   55039.00000  \n",
       "mean       0.045095      0.217864       0.17315  \n",
       "std        0.207515      0.412798       0.37838  \n",
       "min        0.000000      0.000000       0.00000  \n",
       "25%        0.000000      0.000000       0.00000  \n",
       "50%        0.000000      0.000000       0.00000  \n",
       "75%        0.000000      0.000000       0.00000  \n",
       "max        1.000000      1.000000       1.00000  "
      ]
     },
     "execution_count": 66,
     "metadata": {},
     "output_type": "execute_result"
    }
   ],
   "source": [
    "outer.describe()"
   ]
  },
  {
   "cell_type": "code",
   "execution_count": 67,
   "id": "691eabd4",
   "metadata": {},
   "outputs": [],
   "source": [
    "outer = outer.drop_duplicates(subset = \"clothId\")\n",
    "outer = outer.reset_index(drop=True)"
   ]
  },
  {
   "cell_type": "code",
   "execution_count": 68,
   "id": "8160bc57",
   "metadata": {},
   "outputs": [],
   "source": [
    "outer['smallCategory'] = outer['smallCategory'].astype('str')"
   ]
  },
  {
   "cell_type": "code",
   "execution_count": 69,
   "id": "04669a4e",
   "metadata": {},
   "outputs": [
    {
     "data": {
      "text/plain": [
       "array([2], dtype=int64)"
      ]
     },
     "execution_count": 69,
     "metadata": {},
     "output_type": "execute_result"
    }
   ],
   "source": [
    "outer['largeCategory'].unique()"
   ]
  },
  {
   "cell_type": "code",
   "execution_count": 70,
   "id": "d8f8a2e2",
   "metadata": {},
   "outputs": [
    {
     "data": {
      "text/plain": [
       "array(['아우터'], dtype=object)"
      ]
     },
     "execution_count": 70,
     "metadata": {},
     "output_type": "execute_result"
    }
   ],
   "source": [
    "outer['largeCategoryName'].unique()"
   ]
  },
  {
   "cell_type": "code",
   "execution_count": 71,
   "id": "289dfca4",
   "metadata": {},
   "outputs": [
    {
     "data": {
      "text/plain": [
       "array(['218', '220', '201', '212', '206', '221', '213', '207', '222',\n",
       "       '215', '219', '223', '209', '217', '216', '203', '214', '225',\n",
       "       '202', '224', '208', '204', '2s='], dtype=object)"
      ]
     },
     "execution_count": 71,
     "metadata": {},
     "output_type": "execute_result"
    }
   ],
   "source": [
    "outer['smallCategory'].unique()"
   ]
  },
  {
   "cell_type": "code",
   "execution_count": 72,
   "id": "c3b8c30a",
   "metadata": {
    "scrolled": false
   },
   "outputs": [
    {
     "data": {
      "text/plain": [
       "array(['트레이닝 재킷', '카디건', '블루종/MA-1', '숏패딩/숏헤비 아우터', '나일론/코치  재킷', '베스트',\n",
       "       '롱패딩/롱헤비 아우터', '겨울 싱글 코트', '후드 집업', '기타 아우터', '아노락 재킷', '플리스/뽀글이',\n",
       "       '겨울 기타 코트', '트러커 재킷', '패딩 베스트', '슈트/블레이저 재킷', '사파리/헌팅 재킷', '무스탕/퍼',\n",
       "       '레더/라이더스 재킷', '겨울 더블 코트', '환절기 코트', '스타디움 재킷',\n",
       "       '\\r\\n            (휠라)        '], dtype=object)"
      ]
     },
     "execution_count": 72,
     "metadata": {},
     "output_type": "execute_result"
    }
   ],
   "source": [
    "outer['smallCategoryName'].unique()"
   ]
  },
  {
   "cell_type": "code",
   "execution_count": 73,
   "id": "0a11e9d2",
   "metadata": {
    "scrolled": true
   },
   "outputs": [
    {
     "data": {
      "text/html": [
       "<div>\n",
       "<style scoped>\n",
       "    .dataframe tbody tr th:only-of-type {\n",
       "        vertical-align: middle;\n",
       "    }\n",
       "\n",
       "    .dataframe tbody tr th {\n",
       "        vertical-align: top;\n",
       "    }\n",
       "\n",
       "    .dataframe thead th {\n",
       "        text-align: right;\n",
       "    }\n",
       "</style>\n",
       "<table border=\"1\" class=\"dataframe\">\n",
       "  <thead>\n",
       "    <tr style=\"text-align: right;\">\n",
       "      <th></th>\n",
       "      <th>clothId</th>\n",
       "      <th>largeCategory</th>\n",
       "      <th>largeCategoryName</th>\n",
       "      <th>smallCategory</th>\n",
       "      <th>smallCategoryName</th>\n",
       "      <th>colorNo</th>\n",
       "      <th>clothName</th>\n",
       "      <th>brand</th>\n",
       "      <th>image</th>\n",
       "      <th>clothPrice</th>\n",
       "      <th>date</th>\n",
       "      <th>hashtags</th>\n",
       "      <th>clothSexMen</th>\n",
       "      <th>clothSexWomen</th>\n",
       "      <th>clothSexCommon</th>\n",
       "      <th>clothRate</th>\n",
       "      <th>clothReviewNo</th>\n",
       "      <th>fit</th>\n",
       "      <th>feeling</th>\n",
       "      <th>stretch</th>\n",
       "      <th>visibility</th>\n",
       "      <th>thickness</th>\n",
       "      <th>seasonSpring</th>\n",
       "      <th>seasonSummer</th>\n",
       "      <th>seasonFall</th>\n",
       "      <th>seasonWinter</th>\n",
       "    </tr>\n",
       "  </thead>\n",
       "  <tbody>\n",
       "    <tr>\n",
       "      <th>11366</th>\n",
       "      <td>1532828</td>\n",
       "      <td>2</td>\n",
       "      <td>아우터</td>\n",
       "      <td>2s=</td>\n",
       "      <td>\\r\\n            (휠라)</td>\n",
       "      <td>23</td>\n",
       "      <td>에센셜 리니어 보아 후드 자켓 (FE2JKD6101XCRM)</td>\n",
       "      <td>휠라</td>\n",
       "      <td>//image.msscdn.net/images/goods_img/20200730/1...</td>\n",
       "      <td>79,000원</td>\n",
       "      <td>20200730</td>\n",
       "      <td>['보아', '자켓', '플리스', '후드', '후리스', '캐리오버', '온라인전...</td>\n",
       "      <td>0</td>\n",
       "      <td>0</td>\n",
       "      <td>1</td>\n",
       "      <td>4.8</td>\n",
       "      <td>355</td>\n",
       "      <td>0</td>\n",
       "      <td>0</td>\n",
       "      <td>0</td>\n",
       "      <td>0</td>\n",
       "      <td>0</td>\n",
       "      <td>0</td>\n",
       "      <td>0</td>\n",
       "      <td>0</td>\n",
       "      <td>0</td>\n",
       "    </tr>\n",
       "    <tr>\n",
       "      <th>16581</th>\n",
       "      <td>1532833</td>\n",
       "      <td>2</td>\n",
       "      <td>아우터</td>\n",
       "      <td>2s=</td>\n",
       "      <td>\\r\\n            (휠라)</td>\n",
       "      <td>3</td>\n",
       "      <td>리니어 와펜 본딩 보아 자켓 (FE2JKC6102XGRY)</td>\n",
       "      <td>휠라</td>\n",
       "      <td>//image.msscdn.net/images/goods_img/20200730/1...</td>\n",
       "      <td>69,000원</td>\n",
       "      <td>20200730</td>\n",
       "      <td>['보아', '자켓', '집업', '플리스', '후리스', '온라인전용']</td>\n",
       "      <td>0</td>\n",
       "      <td>0</td>\n",
       "      <td>1</td>\n",
       "      <td>4.6</td>\n",
       "      <td>483</td>\n",
       "      <td>0</td>\n",
       "      <td>0</td>\n",
       "      <td>0</td>\n",
       "      <td>0</td>\n",
       "      <td>0</td>\n",
       "      <td>0</td>\n",
       "      <td>0</td>\n",
       "      <td>0</td>\n",
       "      <td>0</td>\n",
       "    </tr>\n",
       "    <tr>\n",
       "      <th>29633</th>\n",
       "      <td>1532832</td>\n",
       "      <td>2</td>\n",
       "      <td>아우터</td>\n",
       "      <td>2s=</td>\n",
       "      <td>\\r\\n            (휠라)</td>\n",
       "      <td>2</td>\n",
       "      <td>우븐 포켓 보아 자켓 (FE2JKD6103XBLK)</td>\n",
       "      <td>휠라</td>\n",
       "      <td>//image.msscdn.net/images/goods_img/20200730/1...</td>\n",
       "      <td>89,000원</td>\n",
       "      <td>20200730</td>\n",
       "      <td>['보아', '자켓', '집업', '플리스', '후리스', '캐리오버', '온라인전용']</td>\n",
       "      <td>0</td>\n",
       "      <td>1</td>\n",
       "      <td>0</td>\n",
       "      <td>4.6</td>\n",
       "      <td>483</td>\n",
       "      <td>0</td>\n",
       "      <td>0</td>\n",
       "      <td>0</td>\n",
       "      <td>0</td>\n",
       "      <td>0</td>\n",
       "      <td>0</td>\n",
       "      <td>0</td>\n",
       "      <td>0</td>\n",
       "      <td>0</td>\n",
       "    </tr>\n",
       "  </tbody>\n",
       "</table>\n",
       "</div>"
      ],
      "text/plain": [
       "       clothId  largeCategory largeCategoryName smallCategory  \\\n",
       "11366  1532828              2               아우터           2s=   \n",
       "16581  1532833              2               아우터           2s=   \n",
       "29633  1532832              2               아우터           2s=   \n",
       "\n",
       "                  smallCategoryName  colorNo  \\\n",
       "11366  \\r\\n            (휠라)               23   \n",
       "16581  \\r\\n            (휠라)                3   \n",
       "29633  \\r\\n            (휠라)                2   \n",
       "\n",
       "                               clothName brand  \\\n",
       "11366  에센셜 리니어 보아 후드 자켓 (FE2JKD6101XCRM)    휠라   \n",
       "16581   리니어 와펜 본딩 보아 자켓 (FE2JKC6102XGRY)    휠라   \n",
       "29633       우븐 포켓 보아 자켓 (FE2JKD6103XBLK)    휠라   \n",
       "\n",
       "                                                   image clothPrice      date  \\\n",
       "11366  //image.msscdn.net/images/goods_img/20200730/1...    79,000원  20200730   \n",
       "16581  //image.msscdn.net/images/goods_img/20200730/1...    69,000원  20200730   \n",
       "29633  //image.msscdn.net/images/goods_img/20200730/1...    89,000원  20200730   \n",
       "\n",
       "                                                hashtags  clothSexMen  \\\n",
       "11366  ['보아', '자켓', '플리스', '후드', '후리스', '캐리오버', '온라인전...            0   \n",
       "16581          ['보아', '자켓', '집업', '플리스', '후리스', '온라인전용']            0   \n",
       "29633  ['보아', '자켓', '집업', '플리스', '후리스', '캐리오버', '온라인전용']            0   \n",
       "\n",
       "       clothSexWomen  clothSexCommon  clothRate clothReviewNo  fit  feeling  \\\n",
       "11366              0               1        4.8           355    0        0   \n",
       "16581              0               1        4.6           483    0        0   \n",
       "29633              1               0        4.6           483    0        0   \n",
       "\n",
       "       stretch  visibility  thickness  seasonSpring  seasonSummer  seasonFall  \\\n",
       "11366        0           0          0             0             0           0   \n",
       "16581        0           0          0             0             0           0   \n",
       "29633        0           0          0             0             0           0   \n",
       "\n",
       "       seasonWinter  \n",
       "11366             0  \n",
       "16581             0  \n",
       "29633             0  "
      ]
     },
     "execution_count": 73,
     "metadata": {},
     "output_type": "execute_result"
    }
   ],
   "source": [
    "outer[outer['smallCategoryName']=='\\r\\n            (휠라)        ']"
   ]
  },
  {
   "cell_type": "code",
   "execution_count": 74,
   "id": "3530e7bc",
   "metadata": {},
   "outputs": [],
   "source": [
    "outer.loc[outer.smallCategoryName=='\\r\\n            (휠라)        ', ('smallCategoryName')] = '기타 아우터'"
   ]
  },
  {
   "cell_type": "code",
   "execution_count": 75,
   "id": "781fac9c",
   "metadata": {
    "scrolled": true
   },
   "outputs": [
    {
     "data": {
      "text/html": [
       "<div>\n",
       "<style scoped>\n",
       "    .dataframe tbody tr th:only-of-type {\n",
       "        vertical-align: middle;\n",
       "    }\n",
       "\n",
       "    .dataframe tbody tr th {\n",
       "        vertical-align: top;\n",
       "    }\n",
       "\n",
       "    .dataframe thead th {\n",
       "        text-align: right;\n",
       "    }\n",
       "</style>\n",
       "<table border=\"1\" class=\"dataframe\">\n",
       "  <thead>\n",
       "    <tr style=\"text-align: right;\">\n",
       "      <th></th>\n",
       "      <th>clothId</th>\n",
       "      <th>largeCategory</th>\n",
       "      <th>largeCategoryName</th>\n",
       "      <th>smallCategory</th>\n",
       "      <th>smallCategoryName</th>\n",
       "      <th>colorNo</th>\n",
       "      <th>clothName</th>\n",
       "      <th>brand</th>\n",
       "      <th>image</th>\n",
       "      <th>clothPrice</th>\n",
       "      <th>date</th>\n",
       "      <th>hashtags</th>\n",
       "      <th>clothSexMen</th>\n",
       "      <th>clothSexWomen</th>\n",
       "      <th>clothSexCommon</th>\n",
       "      <th>clothRate</th>\n",
       "      <th>clothReviewNo</th>\n",
       "      <th>fit</th>\n",
       "      <th>feeling</th>\n",
       "      <th>stretch</th>\n",
       "      <th>visibility</th>\n",
       "      <th>thickness</th>\n",
       "      <th>seasonSpring</th>\n",
       "      <th>seasonSummer</th>\n",
       "      <th>seasonFall</th>\n",
       "      <th>seasonWinter</th>\n",
       "    </tr>\n",
       "  </thead>\n",
       "  <tbody>\n",
       "    <tr>\n",
       "      <th>11366</th>\n",
       "      <td>1532828</td>\n",
       "      <td>2</td>\n",
       "      <td>아우터</td>\n",
       "      <td>2s=</td>\n",
       "      <td>기타 아우터</td>\n",
       "      <td>23</td>\n",
       "      <td>에센셜 리니어 보아 후드 자켓 (FE2JKD6101XCRM)</td>\n",
       "      <td>휠라</td>\n",
       "      <td>//image.msscdn.net/images/goods_img/20200730/1...</td>\n",
       "      <td>79,000원</td>\n",
       "      <td>20200730</td>\n",
       "      <td>['보아', '자켓', '플리스', '후드', '후리스', '캐리오버', '온라인전...</td>\n",
       "      <td>0</td>\n",
       "      <td>0</td>\n",
       "      <td>1</td>\n",
       "      <td>4.8</td>\n",
       "      <td>355</td>\n",
       "      <td>0</td>\n",
       "      <td>0</td>\n",
       "      <td>0</td>\n",
       "      <td>0</td>\n",
       "      <td>0</td>\n",
       "      <td>0</td>\n",
       "      <td>0</td>\n",
       "      <td>0</td>\n",
       "      <td>0</td>\n",
       "    </tr>\n",
       "    <tr>\n",
       "      <th>16581</th>\n",
       "      <td>1532833</td>\n",
       "      <td>2</td>\n",
       "      <td>아우터</td>\n",
       "      <td>2s=</td>\n",
       "      <td>기타 아우터</td>\n",
       "      <td>3</td>\n",
       "      <td>리니어 와펜 본딩 보아 자켓 (FE2JKC6102XGRY)</td>\n",
       "      <td>휠라</td>\n",
       "      <td>//image.msscdn.net/images/goods_img/20200730/1...</td>\n",
       "      <td>69,000원</td>\n",
       "      <td>20200730</td>\n",
       "      <td>['보아', '자켓', '집업', '플리스', '후리스', '온라인전용']</td>\n",
       "      <td>0</td>\n",
       "      <td>0</td>\n",
       "      <td>1</td>\n",
       "      <td>4.6</td>\n",
       "      <td>483</td>\n",
       "      <td>0</td>\n",
       "      <td>0</td>\n",
       "      <td>0</td>\n",
       "      <td>0</td>\n",
       "      <td>0</td>\n",
       "      <td>0</td>\n",
       "      <td>0</td>\n",
       "      <td>0</td>\n",
       "      <td>0</td>\n",
       "    </tr>\n",
       "    <tr>\n",
       "      <th>29633</th>\n",
       "      <td>1532832</td>\n",
       "      <td>2</td>\n",
       "      <td>아우터</td>\n",
       "      <td>2s=</td>\n",
       "      <td>기타 아우터</td>\n",
       "      <td>2</td>\n",
       "      <td>우븐 포켓 보아 자켓 (FE2JKD6103XBLK)</td>\n",
       "      <td>휠라</td>\n",
       "      <td>//image.msscdn.net/images/goods_img/20200730/1...</td>\n",
       "      <td>89,000원</td>\n",
       "      <td>20200730</td>\n",
       "      <td>['보아', '자켓', '집업', '플리스', '후리스', '캐리오버', '온라인전용']</td>\n",
       "      <td>0</td>\n",
       "      <td>1</td>\n",
       "      <td>0</td>\n",
       "      <td>4.6</td>\n",
       "      <td>483</td>\n",
       "      <td>0</td>\n",
       "      <td>0</td>\n",
       "      <td>0</td>\n",
       "      <td>0</td>\n",
       "      <td>0</td>\n",
       "      <td>0</td>\n",
       "      <td>0</td>\n",
       "      <td>0</td>\n",
       "      <td>0</td>\n",
       "    </tr>\n",
       "  </tbody>\n",
       "</table>\n",
       "</div>"
      ],
      "text/plain": [
       "       clothId  largeCategory largeCategoryName smallCategory  \\\n",
       "11366  1532828              2               아우터           2s=   \n",
       "16581  1532833              2               아우터           2s=   \n",
       "29633  1532832              2               아우터           2s=   \n",
       "\n",
       "      smallCategoryName  colorNo                          clothName brand  \\\n",
       "11366            기타 아우터       23  에센셜 리니어 보아 후드 자켓 (FE2JKD6101XCRM)    휠라   \n",
       "16581            기타 아우터        3   리니어 와펜 본딩 보아 자켓 (FE2JKC6102XGRY)    휠라   \n",
       "29633            기타 아우터        2       우븐 포켓 보아 자켓 (FE2JKD6103XBLK)    휠라   \n",
       "\n",
       "                                                   image clothPrice      date  \\\n",
       "11366  //image.msscdn.net/images/goods_img/20200730/1...    79,000원  20200730   \n",
       "16581  //image.msscdn.net/images/goods_img/20200730/1...    69,000원  20200730   \n",
       "29633  //image.msscdn.net/images/goods_img/20200730/1...    89,000원  20200730   \n",
       "\n",
       "                                                hashtags  clothSexMen  \\\n",
       "11366  ['보아', '자켓', '플리스', '후드', '후리스', '캐리오버', '온라인전...            0   \n",
       "16581          ['보아', '자켓', '집업', '플리스', '후리스', '온라인전용']            0   \n",
       "29633  ['보아', '자켓', '집업', '플리스', '후리스', '캐리오버', '온라인전용']            0   \n",
       "\n",
       "       clothSexWomen  clothSexCommon  clothRate clothReviewNo  fit  feeling  \\\n",
       "11366              0               1        4.8           355    0        0   \n",
       "16581              0               1        4.6           483    0        0   \n",
       "29633              1               0        4.6           483    0        0   \n",
       "\n",
       "       stretch  visibility  thickness  seasonSpring  seasonSummer  seasonFall  \\\n",
       "11366        0           0          0             0             0           0   \n",
       "16581        0           0          0             0             0           0   \n",
       "29633        0           0          0             0             0           0   \n",
       "\n",
       "       seasonWinter  \n",
       "11366             0  \n",
       "16581             0  \n",
       "29633             0  "
      ]
     },
     "execution_count": 75,
     "metadata": {},
     "output_type": "execute_result"
    }
   ],
   "source": [
    "outer[outer['smallCategory']==\"2s=\"]"
   ]
  },
  {
   "cell_type": "code",
   "execution_count": 76,
   "id": "0cc04756",
   "metadata": {},
   "outputs": [],
   "source": [
    "outer.loc[outer.smallCategory=='2s=', ('smallCategory')] = '215'"
   ]
  },
  {
   "cell_type": "code",
   "execution_count": 77,
   "id": "6fb7dc4e",
   "metadata": {},
   "outputs": [],
   "source": [
    "outer['smallCategory'] = outer['smallCategory'].astype('int')"
   ]
  },
  {
   "cell_type": "code",
   "execution_count": 78,
   "id": "b444088d",
   "metadata": {},
   "outputs": [
    {
     "data": {
      "text/plain": [
       "220    6148\n",
       "203    5378\n",
       "212    4926\n",
       "206    4592\n",
       "222    4118\n",
       "215    4059\n",
       "223    3310\n",
       "221    3178\n",
       "201    2253\n",
       "217    2172\n",
       "208    2057\n",
       "202    1732\n",
       "219    1587\n",
       "218    1576\n",
       "214    1457\n",
       "207    1400\n",
       "209     946\n",
       "216     912\n",
       "225     879\n",
       "213     836\n",
       "224     798\n",
       "204     649\n",
       "Name: smallCategory, dtype: int64"
      ]
     },
     "execution_count": 78,
     "metadata": {},
     "output_type": "execute_result"
    }
   ],
   "source": [
    "outer['smallCategory'].value_counts()"
   ]
  },
  {
   "cell_type": "markdown",
   "id": "44f5a183",
   "metadata": {},
   "source": [
    "### smallCategory 원핫인코딩 변환"
   ]
  },
  {
   "cell_type": "code",
   "execution_count": 79,
   "id": "8ffdafda",
   "metadata": {},
   "outputs": [],
   "source": [
    "outer.insert(4, \"smallCategoryOthers\", outer['smallCategory'], True)\n",
    "outer.insert(4, \"smallCategoryJacket\", outer['smallCategory'], True)\n",
    "outer.insert(4, \"smallCategoryVest\", outer['smallCategory'], True)\n",
    "outer.insert(4, \"smallCategoryPaddedcoat\", outer['smallCategory'], True)\n",
    "outer.insert(4, \"smallCategoryCoat\", outer['smallCategory'], True)\n",
    "outer.insert(4, \"smallCategoryFleece\", outer['smallCategory'], True)\n",
    "outer.insert(4, \"smallCategoryCardigan\", outer['smallCategory'], True)\n",
    "outer.insert(4, \"smallCategoryMustang\", outer['smallCategory'], True)\n",
    "outer.insert(4, \"smallCategoryRiders\", outer['smallCategory'], True)\n",
    "outer.insert(4, \"smallCategoryBlouson\", outer['smallCategory'], True)\n",
    "outer.insert(4, \"smallCategoryHoodie\", outer['smallCategory'], True)"
   ]
  },
  {
   "cell_type": "code",
   "execution_count": 80,
   "id": "5e8b05a9",
   "metadata": {},
   "outputs": [],
   "source": [
    "outer['smallCategoryHoodie'] = outer['smallCategoryHoodie'].apply(lambda x: 1 if x == 222 else 0)\n",
    "outer['smallCategoryBlouson'] = outer['smallCategoryBlouson'].apply(lambda x: 1 if x == 201 else 0)\n",
    "outer['smallCategoryRiders'] = outer['smallCategoryRiders'].apply(lambda x: 1 if x == 202 else 0)\n",
    "outer['smallCategoryMustang'] = outer['smallCategoryMustang'].apply(lambda x: 1 if x == 225 else 0)\n",
    "outer['smallCategoryCardigan'] = outer['smallCategoryCardigan'].apply(lambda x: 1 if x == 220 else 0)\n",
    "outer['smallCategoryFleece'] = outer['smallCategoryFleece'].apply(lambda x: 1 if x == 223 else 0)\n",
    "outer['smallCategoryCoat'] = outer['smallCategoryCoat'].apply(lambda x: 1 if x in [208, 207, 224, 209] else 0)\n",
    "outer['smallCategoryPaddedcoat'] = outer['smallCategoryPaddedcoat'].apply(lambda x: 1 if x in [212, 213, 216] else 0)\n",
    "outer['smallCategoryVest'] = outer['smallCategoryVest'].apply(lambda x: 1 if x == 221 else 0)\n",
    "outer['smallCategoryJacket'] = outer['smallCategoryJacket'].apply(lambda x: 1 if x in [217, 203, 219, 218, 204, 214, 206] else 0)\n",
    "outer['smallCategoryOthers'] = outer['smallCategoryOthers'].apply(lambda x: 1 if x == 215 else 0)"
   ]
  },
  {
   "cell_type": "code",
   "execution_count": 81,
   "id": "2fda1195",
   "metadata": {},
   "outputs": [],
   "source": [
    "outer = outer.drop('smallCategory', axis=1)"
   ]
  },
  {
   "cell_type": "markdown",
   "id": "9d8d65fe",
   "metadata": {},
   "source": [
    " "
   ]
  },
  {
   "cell_type": "code",
   "execution_count": 82,
   "id": "4a02dc71",
   "metadata": {
    "scrolled": true
   },
   "outputs": [
    {
     "data": {
      "text/plain": [
       "Index(['clothId', 'largeCategory', 'largeCategoryName', 'smallCategoryHoodie',\n",
       "       'smallCategoryBlouson', 'smallCategoryRiders', 'smallCategoryMustang',\n",
       "       'smallCategoryCardigan', 'smallCategoryFleece', 'smallCategoryCoat',\n",
       "       'smallCategoryPaddedcoat', 'smallCategoryVest', 'smallCategoryJacket',\n",
       "       'smallCategoryOthers', 'smallCategoryName', 'colorNo', 'clothName',\n",
       "       'brand', 'image', 'clothPrice', 'date', 'hashtags', 'clothSexMen',\n",
       "       'clothSexWomen', 'clothSexCommon', 'clothRate', 'clothReviewNo', 'fit',\n",
       "       'feeling', 'stretch', 'visibility', 'thickness', 'seasonSpring',\n",
       "       'seasonSummer', 'seasonFall', 'seasonWinter'],\n",
       "      dtype='object')"
      ]
     },
     "execution_count": 82,
     "metadata": {},
     "output_type": "execute_result"
    }
   ],
   "source": [
    "outer.columns"
   ]
  },
  {
   "cell_type": "code",
   "execution_count": 83,
   "id": "f0b55eec",
   "metadata": {},
   "outputs": [
    {
     "name": "stdout",
     "output_type": "stream",
     "text": [
      "0    50845\n",
      "1     4118\n",
      "Name: smallCategoryHoodie, dtype: int64\n",
      "0    52710\n",
      "1     2253\n",
      "Name: smallCategoryBlouson, dtype: int64\n",
      "0    53231\n",
      "1     1732\n",
      "Name: smallCategoryRiders, dtype: int64\n",
      "0    54084\n",
      "1      879\n",
      "Name: smallCategoryMustang, dtype: int64\n",
      "0    48815\n",
      "1     6148\n",
      "Name: smallCategoryCardigan, dtype: int64\n",
      "0    51653\n",
      "1     3310\n",
      "Name: smallCategoryFleece, dtype: int64\n",
      "0    49762\n",
      "1     5201\n",
      "Name: smallCategoryCoat, dtype: int64\n",
      "0    48289\n",
      "1     6674\n",
      "Name: smallCategoryPaddedcoat, dtype: int64\n",
      "0    51785\n",
      "1     3178\n",
      "Name: smallCategoryVest, dtype: int64\n",
      "0    37552\n",
      "1    17411\n",
      "Name: smallCategoryJacket, dtype: int64\n",
      "0    50904\n",
      "1     4059\n",
      "Name: smallCategoryOthers, dtype: int64\n",
      "54963\n",
      "(54963, 36)\n"
     ]
    }
   ],
   "source": [
    "# smallCategory 모든 1의 값의 개수 == 행의 개수\n",
    "\n",
    "num = 0\n",
    "for i in range(3, 14):\n",
    "    num += outer[outer.columns[i]].value_counts()[1]\n",
    "    print(outer[outer.columns[i]].value_counts())\n",
    "print(num)\n",
    "print(outer.shape)"
   ]
  },
  {
   "cell_type": "markdown",
   "id": "5c66535a",
   "metadata": {},
   "source": [
    "### clothSexCommon 변환"
   ]
  },
  {
   "cell_type": "code",
   "execution_count": 84,
   "id": "dc22a10e",
   "metadata": {
    "scrolled": true
   },
   "outputs": [],
   "source": [
    "outer['clothSexMen'] = outer.apply(lambda x: 1 if x['clothSexCommon'] == 1 else x['clothSexMen'], axis=1)\n",
    "outer['clothSexWomen'] = outer.apply(lambda x: 1 if x['clothSexCommon'] == 1 else x['clothSexWomen'], axis=1)"
   ]
  },
  {
   "cell_type": "code",
   "execution_count": 85,
   "id": "dc4f9a76",
   "metadata": {},
   "outputs": [],
   "source": [
    "outer = outer.drop('clothSexCommon', axis=1)"
   ]
  },
  {
   "cell_type": "code",
   "execution_count": 86,
   "id": "ce2323bd",
   "metadata": {
    "scrolled": false
   },
   "outputs": [
    {
     "data": {
      "text/plain": [
       "Index(['clothId', 'largeCategory', 'largeCategoryName', 'smallCategoryHoodie',\n",
       "       'smallCategoryBlouson', 'smallCategoryRiders', 'smallCategoryMustang',\n",
       "       'smallCategoryCardigan', 'smallCategoryFleece', 'smallCategoryCoat',\n",
       "       'smallCategoryPaddedcoat', 'smallCategoryVest', 'smallCategoryJacket',\n",
       "       'smallCategoryOthers', 'smallCategoryName', 'colorNo', 'clothName',\n",
       "       'brand', 'image', 'clothPrice', 'date', 'hashtags', 'clothSexMen',\n",
       "       'clothSexWomen', 'clothRate', 'clothReviewNo', 'fit', 'feeling',\n",
       "       'stretch', 'visibility', 'thickness', 'seasonSpring', 'seasonSummer',\n",
       "       'seasonFall', 'seasonWinter'],\n",
       "      dtype='object')"
      ]
     },
     "execution_count": 86,
     "metadata": {},
     "output_type": "execute_result"
    }
   ],
   "source": [
    "outer.columns"
   ]
  },
  {
   "cell_type": "code",
   "execution_count": 87,
   "id": "066c9bd0",
   "metadata": {},
   "outputs": [],
   "source": [
    "outer['clothSexMen'] = outer.apply(lambda x: 1 if (x['clothSexMen']==0 and x['clothSexWomen']==0) else x['clothSexMen'], axis=1)\n",
    "outer['clothSexWomen'] = outer.apply(lambda x: 1 if (x['clothSexMen']==0 and x['clothSexWomen']==0) else x['clothSexWomen'], axis=1)"
   ]
  },
  {
   "cell_type": "code",
   "execution_count": 88,
   "id": "5270302e",
   "metadata": {
    "scrolled": false
   },
   "outputs": [
    {
     "name": "stdout",
     "output_type": "stream",
     "text": [
      "1    34493\n",
      "0    20470\n",
      "Name: clothSexMen, dtype: int64\n",
      "0    32168\n",
      "1    22795\n",
      "Name: clothSexWomen, dtype: int64\n",
      "(54963, 35)\n"
     ]
    }
   ],
   "source": [
    "print(outer['clothSexMen'].value_counts())\n",
    "print(outer['clothSexWomen'].value_counts())\n",
    "print(outer.shape)"
   ]
  },
  {
   "cell_type": "markdown",
   "id": "7a14fb86",
   "metadata": {},
   "source": [
    "### color 원핫인코딩 변환"
   ]
  },
  {
   "cell_type": "markdown",
   "id": "2c1a5f36",
   "metadata": {},
   "source": [
    "#### 아우터\n",
    "- white (1)\n",
    "- grey (13, 24, 3, 25)\n",
    "- black (2)\n",
    "- red (51, 11, 49)\n",
    "- pink (50, 47, 10, 45, 48, 55)\n",
    "- orange (52, 54, 53, 46, 12)\n",
    "- ivory (23)\n",
    "- yellow (44, 9, 43, 14)\n",
    "- green (33, 31, 32, 6, 34, 30, 35)\n",
    "- blue (37, 38, 7, 36)\n",
    "- purple (41, 39, 8, 40)\n",
    "- brown (4, 56, 27)\n",
    "- beige (28, 26, 29, 5)\n",
    "- jean (16, 57, 58, 59, 60)\n",
    "- pattern (19, 20, 18, 61, 65, 62, 63, 64, 69, 66)\n",
    "- others (71, 67, 70, 17, 21, 68, 22, 15)"
   ]
  },
  {
   "cell_type": "code",
   "execution_count": 89,
   "id": "5ad27f93",
   "metadata": {},
   "outputs": [],
   "source": [
    "outer.insert(15, \"colorOthers\", outer['colorNo'], True)\n",
    "outer.insert(15, \"colorPattern\", outer['colorNo'], True)\n",
    "outer.insert(15, \"colorJean\", outer['colorNo'], True)\n",
    "outer.insert(15, \"colorBeige\", outer['colorNo'], True)\n",
    "outer.insert(15, \"colorBrown\", outer['colorNo'], True)\n",
    "outer.insert(15, \"colorPurple\", outer['colorNo'], True)\n",
    "outer.insert(15, \"colorBlue\", outer['colorNo'], True)\n",
    "outer.insert(15, \"colorGreen\", outer['colorNo'], True)\n",
    "outer.insert(15, \"colorYellow\", outer['colorNo'], True)\n",
    "outer.insert(15, \"colorIvory\", outer['colorNo'], True)\n",
    "outer.insert(15, \"colorOrange\", outer['colorNo'], True)\n",
    "outer.insert(15, \"colorPink\", outer['colorNo'], True)\n",
    "outer.insert(15, \"colorRed\", outer['colorNo'], True)\n",
    "outer.insert(15, \"colorBlack\", outer['colorNo'], True)\n",
    "outer.insert(15, \"colorGrey\", outer['colorNo'], True)\n",
    "outer.insert(15, \"colorWhite\", outer['colorNo'], True)"
   ]
  },
  {
   "cell_type": "code",
   "execution_count": 90,
   "id": "1872ed60",
   "metadata": {},
   "outputs": [],
   "source": [
    "outer['colorWhite'] = outer['colorWhite'].apply(lambda x: 1 if x == 1 else 0)\n",
    "outer['colorGrey'] = outer['colorGrey'].apply(lambda x: 1 if x in [13, 24, 3, 25] else 0)\n",
    "outer['colorBlack'] = outer['colorBlack'].apply(lambda x: 1 if x == 2 else 0)\n",
    "outer['colorRed'] = outer['colorRed'].apply(lambda x: 1 if x in [51, 11, 49] else 0)\n",
    "outer['colorPink'] = outer['colorPink'].apply(lambda x: 1 if x in [50, 47, 10, 45, 48, 55] else 0)\n",
    "outer['colorOrange'] = outer['colorOrange'].apply(lambda x: 1 if x in [52, 54, 53, 46, 12] else 0)\n",
    "outer['colorIvory'] = outer['colorIvory'].apply(lambda x: 1 if x == 23 else 0)\n",
    "outer['colorYellow'] = outer['colorYellow'].apply(lambda x: 1 if x in [44, 9, 43, 14] else 0)\n",
    "outer['colorGreen'] = outer['colorGreen'].apply(lambda x: 1 if x in [33, 31, 32, 6, 34, 30, 35] else 0)\n",
    "outer['colorBlue'] = outer['colorBlue'].apply(lambda x: 1 if x in [37, 38, 7, 36] else 0)\n",
    "outer['colorPurple'] = outer['colorPurple'].apply(lambda x: 1 if x in [41, 39, 8, 40] else 0)\n",
    "outer['colorBrown'] = outer['colorBrown'].apply(lambda x: 1 if x in [4, 56, 27] else 0)\n",
    "outer['colorBeige'] = outer['colorBeige'].apply(lambda x: 1 if x in [28, 26, 29, 5] else 0)\n",
    "outer['colorJean'] = outer['colorJean'].apply(lambda x: 1 if x in [16, 57, 58, 59, 60] else 0)\n",
    "outer['colorPattern'] = outer['colorPattern'].apply(lambda x: 1 if x in [19, 20, 18, 61, 65, 62, 63, 64, 69, 66] else 0)\n",
    "outer['colorOthers'] = outer['colorOthers'].apply(lambda x: 1 if x in [71, 67, 70, 17, 21, 68, 22, 15] else 0)"
   ]
  },
  {
   "cell_type": "code",
   "execution_count": 91,
   "id": "c51ebb98",
   "metadata": {},
   "outputs": [],
   "source": [
    "outer = outer.drop('colorNo', axis=1)"
   ]
  },
  {
   "cell_type": "code",
   "execution_count": 92,
   "id": "7ea3199d",
   "metadata": {
    "scrolled": false
   },
   "outputs": [
    {
     "name": "stdout",
     "output_type": "stream",
     "text": [
      "Index(['clothId', 'largeCategory', 'largeCategoryName', 'smallCategoryHoodie',\n",
      "       'smallCategoryBlouson', 'smallCategoryRiders', 'smallCategoryMustang',\n",
      "       'smallCategoryCardigan', 'smallCategoryFleece', 'smallCategoryCoat',\n",
      "       'smallCategoryPaddedcoat', 'smallCategoryVest', 'smallCategoryJacket',\n",
      "       'smallCategoryOthers', 'smallCategoryName', 'colorWhite', 'colorGrey',\n",
      "       'colorBlack', 'colorRed', 'colorPink', 'colorOrange', 'colorIvory',\n",
      "       'colorYellow', 'colorGreen', 'colorBlue', 'colorPurple', 'colorBrown',\n",
      "       'colorBeige', 'colorJean', 'colorPattern', 'colorOthers', 'clothName',\n",
      "       'brand', 'image', 'clothPrice', 'date', 'hashtags', 'clothSexMen',\n",
      "       'clothSexWomen', 'clothRate', 'clothReviewNo', 'fit', 'feeling',\n",
      "       'stretch', 'visibility', 'thickness', 'seasonSpring', 'seasonSummer',\n",
      "       'seasonFall', 'seasonWinter'],\n",
      "      dtype='object')\n"
     ]
    }
   ],
   "source": [
    "print(outer.columns)"
   ]
  },
  {
   "cell_type": "code",
   "execution_count": 93,
   "id": "9c330a0c",
   "metadata": {
    "scrolled": true
   },
   "outputs": [
    {
     "name": "stdout",
     "output_type": "stream",
     "text": [
      "0    53068\n",
      "1     1895\n",
      "Name: colorWhite, dtype: int64\n",
      "0    48564\n",
      "1     6399\n",
      "Name: colorGrey, dtype: int64\n",
      "0    38979\n",
      "1    15984\n",
      "Name: colorBlack, dtype: int64\n",
      "0    54066\n",
      "1      897\n",
      "Name: colorRed, dtype: int64\n",
      "0    53953\n",
      "1     1010\n",
      "Name: colorPink, dtype: int64\n",
      "0    54538\n",
      "1      425\n",
      "Name: colorOrange, dtype: int64\n",
      "0    51706\n",
      "1     3257\n",
      "Name: colorIvory, dtype: int64\n",
      "0    54235\n",
      "1      728\n",
      "Name: colorYellow, dtype: int64\n",
      "0    50135\n",
      "1     4828\n",
      "Name: colorGreen, dtype: int64\n",
      "0    48743\n",
      "1     6220\n",
      "Name: colorBlue, dtype: int64\n",
      "0    54257\n",
      "1      706\n",
      "Name: colorPurple, dtype: int64\n",
      "0    52678\n",
      "1     2285\n",
      "Name: colorBrown, dtype: int64\n",
      "0    48963\n",
      "1     6000\n",
      "Name: colorBeige, dtype: int64\n",
      "0    54186\n",
      "1      777\n",
      "Name: colorJean, dtype: int64\n",
      "0    54072\n",
      "1      891\n",
      "Name: colorPattern, dtype: int64\n",
      "0    52302\n",
      "1     2661\n",
      "Name: colorOthers, dtype: int64\n",
      "54963\n",
      "(54963, 50)\n"
     ]
    }
   ],
   "source": [
    "# color도 모든 1의 값의 개수 == 행의 개수\n",
    "num = 0\n",
    "for i in range(15, 31):\n",
    "    num+=outer[outer.columns[i]].value_counts()[1]\n",
    "    print(outer[outer.columns[i]].value_counts())\n",
    "print(num)\n",
    "print(outer.shape)"
   ]
  },
  {
   "cell_type": "code",
   "execution_count": 94,
   "id": "d958922e",
   "metadata": {
    "scrolled": true
   },
   "outputs": [],
   "source": [
    "outer.insert(31, \"colorName\", True)"
   ]
  },
  {
   "cell_type": "code",
   "execution_count": 95,
   "id": "416334a6",
   "metadata": {},
   "outputs": [],
   "source": [
    "outer['colorName'] = outer.apply(lambda x: 'white' if x['colorWhite']==1 else x['colorName'], axis=1)\n",
    "outer['colorName'] = outer.apply(lambda x: 'grey' if x['colorGrey']==1 else x['colorName'], axis=1)\n",
    "outer['colorName'] = outer.apply(lambda x: 'black' if x['colorBlack']==1 else x['colorName'], axis=1)\n",
    "outer['colorName'] = outer.apply(lambda x: 'red' if x['colorRed']==1 else x['colorName'], axis=1)\n",
    "outer['colorName'] = outer.apply(lambda x: 'pink' if x['colorPink']==1 else x['colorName'], axis=1)\n",
    "outer['colorName'] = outer.apply(lambda x: 'orange' if x['colorOrange']==1 else x['colorName'], axis=1)\n",
    "outer['colorName'] = outer.apply(lambda x: 'ivory' if x['colorIvory']==1 else x['colorName'], axis=1)\n",
    "outer['colorName'] = outer.apply(lambda x: 'yellow' if x['colorYellow']==1 else x['colorName'], axis=1)\n",
    "outer['colorName'] = outer.apply(lambda x: 'green' if x['colorGreen']==1 else x['colorName'], axis=1)\n",
    "outer['colorName'] = outer.apply(lambda x: 'blue' if x['colorBlue']==1 else x['colorName'], axis=1)\n",
    "outer['colorName'] = outer.apply(lambda x: 'purple' if x['colorPurple']==1 else x['colorName'], axis=1)\n",
    "outer['colorName'] = outer.apply(lambda x: 'brown' if x['colorBrown']==1 else x['colorName'], axis=1)\n",
    "outer['colorName'] = outer.apply(lambda x: 'beige' if x['colorBeige']==1 else x['colorName'], axis=1)\n",
    "outer['colorName'] = outer.apply(lambda x: 'jean' if x['colorJean']==1 else x['colorName'], axis=1)\n",
    "outer['colorName'] = outer.apply(lambda x: 'pattern' if x['colorPattern']==1 else x['colorName'], axis=1)\n",
    "outer['colorName'] = outer.apply(lambda x: 'others' if x['colorOthers']==1 else x['colorName'], axis=1)"
   ]
  },
  {
   "cell_type": "code",
   "execution_count": 96,
   "id": "98cb3e82",
   "metadata": {
    "scrolled": false
   },
   "outputs": [
    {
     "data": {
      "text/plain": [
       "black      15984\n",
       "grey        6399\n",
       "blue        6220\n",
       "beige       6000\n",
       "green       4828\n",
       "ivory       3257\n",
       "others      2661\n",
       "brown       2285\n",
       "white       1895\n",
       "pink        1010\n",
       "red          897\n",
       "pattern      891\n",
       "jean         777\n",
       "yellow       728\n",
       "purple       706\n",
       "orange       425\n",
       "Name: colorName, dtype: int64"
      ]
     },
     "execution_count": 96,
     "metadata": {},
     "output_type": "execute_result"
    }
   ],
   "source": [
    "outer['colorName'].value_counts()"
   ]
  },
  {
   "cell_type": "markdown",
   "id": "edd41c03",
   "metadata": {},
   "source": [
    "### Price 전처리"
   ]
  },
  {
   "cell_type": "code",
   "execution_count": 97,
   "id": "36a90029",
   "metadata": {
    "scrolled": true
   },
   "outputs": [
    {
     "data": {
      "text/plain": [
       "0        109000\n",
       "1         38700\n",
       "2        159000\n",
       "3        210000\n",
       "4         95400\n",
       "          ...  \n",
       "54958    118300\n",
       "54959    152100\n",
       "54960    169200\n",
       "54961    153000\n",
       "54962    286000\n",
       "Name: clothPrice, Length: 54963, dtype: object"
      ]
     },
     "execution_count": 97,
     "metadata": {},
     "output_type": "execute_result"
    }
   ],
   "source": [
    "outer['clothPrice'] = outer['clothPrice'].apply(lambda x: x.replace(\",\", \"\"))\n",
    "outer['clothPrice'] = outer['clothPrice'].apply(lambda x: x.replace(\"원\", \"\"))\n",
    "outer['clothPrice']"
   ]
  },
  {
   "cell_type": "code",
   "execution_count": 98,
   "id": "52280c5e",
   "metadata": {},
   "outputs": [],
   "source": [
    "outer['clothPrice'] = outer['clothPrice'].astype('int')"
   ]
  },
  {
   "cell_type": "code",
   "execution_count": 99,
   "id": "1822a85c",
   "metadata": {
    "scrolled": true
   },
   "outputs": [
    {
     "data": {
      "text/plain": [
       "0          0\n",
       "1         16\n",
       "2          0\n",
       "3          0\n",
       "4          0\n",
       "        ... \n",
       "54958    424\n",
       "54959    279\n",
       "54960     37\n",
       "54961      0\n",
       "54962      0\n",
       "Name: clothReviewNo, Length: 54963, dtype: int32"
      ]
     },
     "execution_count": 99,
     "metadata": {},
     "output_type": "execute_result"
    }
   ],
   "source": [
    "outer['clothReviewNo'] = outer['clothReviewNo'].apply(lambda x: x.replace(\",\", \"\"))\n",
    "outer['clothReviewNo'] = outer['clothReviewNo'].astype('int')\n",
    "outer['clothReviewNo']"
   ]
  },
  {
   "cell_type": "markdown",
   "id": "f2b69fb5",
   "metadata": {},
   "source": [
    "### Index를 NewGoodsNo로 변경"
   ]
  },
  {
   "cell_type": "code",
   "execution_count": 100,
   "id": "a785bfc5",
   "metadata": {
    "scrolled": false
   },
   "outputs": [
    {
     "data": {
      "text/html": [
       "<div>\n",
       "<style scoped>\n",
       "    .dataframe tbody tr th:only-of-type {\n",
       "        vertical-align: middle;\n",
       "    }\n",
       "\n",
       "    .dataframe tbody tr th {\n",
       "        vertical-align: top;\n",
       "    }\n",
       "\n",
       "    .dataframe thead th {\n",
       "        text-align: right;\n",
       "    }\n",
       "</style>\n",
       "<table border=\"1\" class=\"dataframe\">\n",
       "  <thead>\n",
       "    <tr style=\"text-align: right;\">\n",
       "      <th></th>\n",
       "      <th>goodsNo</th>\n",
       "      <th>goodsSize</th>\n",
       "      <th>newGoodsNo</th>\n",
       "      <th>index</th>\n",
       "      <th>reviewNoun</th>\n",
       "      <th>userHeight</th>\n",
       "      <th>userWeight</th>\n",
       "      <th>userSexMen</th>\n",
       "      <th>userSexWomen</th>\n",
       "      <th>month1</th>\n",
       "      <th>month2</th>\n",
       "      <th>month3</th>\n",
       "      <th>month4</th>\n",
       "      <th>month5</th>\n",
       "      <th>month6</th>\n",
       "      <th>month7</th>\n",
       "      <th>month8</th>\n",
       "      <th>month9</th>\n",
       "      <th>month10</th>\n",
       "      <th>month11</th>\n",
       "      <th>month12</th>\n",
       "    </tr>\n",
       "  </thead>\n",
       "  <tbody>\n",
       "    <tr>\n",
       "      <th>0</th>\n",
       "      <td>18798</td>\n",
       "      <td>L</td>\n",
       "      <td>187980097723</td>\n",
       "      <td>97723</td>\n",
       "      <td>[{'text': '몸', 'value': 1}, {'text': '모양', 'va...</td>\n",
       "      <td>176.000000</td>\n",
       "      <td>68.000000</td>\n",
       "      <td>1.0</td>\n",
       "      <td>0.0</td>\n",
       "      <td>0</td>\n",
       "      <td>0</td>\n",
       "      <td>0</td>\n",
       "      <td>0</td>\n",
       "      <td>0</td>\n",
       "      <td>0</td>\n",
       "      <td>0</td>\n",
       "      <td>0</td>\n",
       "      <td>0</td>\n",
       "      <td>1</td>\n",
       "      <td>0</td>\n",
       "      <td>0</td>\n",
       "    </tr>\n",
       "    <tr>\n",
       "      <th>1</th>\n",
       "      <td>50937</td>\n",
       "      <td>S</td>\n",
       "      <td>5093700101241</td>\n",
       "      <td>101241</td>\n",
       "      <td>[{'text': '가격', 'value': 2}, {'text': '옷', 'va...</td>\n",
       "      <td>167.500000</td>\n",
       "      <td>54.500000</td>\n",
       "      <td>0.5</td>\n",
       "      <td>0.5</td>\n",
       "      <td>0</td>\n",
       "      <td>0</td>\n",
       "      <td>0</td>\n",
       "      <td>2</td>\n",
       "      <td>0</td>\n",
       "      <td>0</td>\n",
       "      <td>0</td>\n",
       "      <td>0</td>\n",
       "      <td>1</td>\n",
       "      <td>0</td>\n",
       "      <td>0</td>\n",
       "      <td>1</td>\n",
       "    </tr>\n",
       "    <tr>\n",
       "      <th>2</th>\n",
       "      <td>50937</td>\n",
       "      <td>XL</td>\n",
       "      <td>5093700101242</td>\n",
       "      <td>101242</td>\n",
       "      <td>[{'text': '가격', 'value': 2}, {'text': '옷', 'va...</td>\n",
       "      <td>171.000000</td>\n",
       "      <td>68.000000</td>\n",
       "      <td>1.0</td>\n",
       "      <td>0.0</td>\n",
       "      <td>0</td>\n",
       "      <td>0</td>\n",
       "      <td>0</td>\n",
       "      <td>0</td>\n",
       "      <td>0</td>\n",
       "      <td>0</td>\n",
       "      <td>0</td>\n",
       "      <td>0</td>\n",
       "      <td>0</td>\n",
       "      <td>0</td>\n",
       "      <td>1</td>\n",
       "      <td>0</td>\n",
       "    </tr>\n",
       "    <tr>\n",
       "      <th>3</th>\n",
       "      <td>55782</td>\n",
       "      <td>38</td>\n",
       "      <td>5578200118983</td>\n",
       "      <td>118983</td>\n",
       "      <td>[{'text': '옷', 'value': 2}, {'text': '가격', 'va...</td>\n",
       "      <td>171.500000</td>\n",
       "      <td>82.500000</td>\n",
       "      <td>1.0</td>\n",
       "      <td>0.0</td>\n",
       "      <td>1</td>\n",
       "      <td>0</td>\n",
       "      <td>0</td>\n",
       "      <td>0</td>\n",
       "      <td>0</td>\n",
       "      <td>0</td>\n",
       "      <td>0</td>\n",
       "      <td>0</td>\n",
       "      <td>0</td>\n",
       "      <td>0</td>\n",
       "      <td>1</td>\n",
       "      <td>0</td>\n",
       "    </tr>\n",
       "    <tr>\n",
       "      <th>4</th>\n",
       "      <td>55782</td>\n",
       "      <td>42</td>\n",
       "      <td>5578200118982</td>\n",
       "      <td>118982</td>\n",
       "      <td>[{'text': '옷', 'value': 2}, {'text': '가격', 'va...</td>\n",
       "      <td>176.333333</td>\n",
       "      <td>80.666667</td>\n",
       "      <td>1.0</td>\n",
       "      <td>0.0</td>\n",
       "      <td>1</td>\n",
       "      <td>0</td>\n",
       "      <td>0</td>\n",
       "      <td>0</td>\n",
       "      <td>0</td>\n",
       "      <td>0</td>\n",
       "      <td>0</td>\n",
       "      <td>0</td>\n",
       "      <td>0</td>\n",
       "      <td>0</td>\n",
       "      <td>2</td>\n",
       "      <td>0</td>\n",
       "    </tr>\n",
       "    <tr>\n",
       "      <th>...</th>\n",
       "      <td>...</td>\n",
       "      <td>...</td>\n",
       "      <td>...</td>\n",
       "      <td>...</td>\n",
       "      <td>...</td>\n",
       "      <td>...</td>\n",
       "      <td>...</td>\n",
       "      <td>...</td>\n",
       "      <td>...</td>\n",
       "      <td>...</td>\n",
       "      <td>...</td>\n",
       "      <td>...</td>\n",
       "      <td>...</td>\n",
       "      <td>...</td>\n",
       "      <td>...</td>\n",
       "      <td>...</td>\n",
       "      <td>...</td>\n",
       "      <td>...</td>\n",
       "      <td>...</td>\n",
       "      <td>...</td>\n",
       "      <td>...</td>\n",
       "    </tr>\n",
       "    <tr>\n",
       "      <th>52541</th>\n",
       "      <td>2408513</td>\n",
       "      <td>WHITE/FREE</td>\n",
       "      <td>240851385961</td>\n",
       "      <td>85961</td>\n",
       "      <td>[{'text': '링클', 'value': 1}, {'text': '느낌', 'v...</td>\n",
       "      <td>176.000000</td>\n",
       "      <td>65.000000</td>\n",
       "      <td>1.0</td>\n",
       "      <td>0.0</td>\n",
       "      <td>0</td>\n",
       "      <td>0</td>\n",
       "      <td>0</td>\n",
       "      <td>1</td>\n",
       "      <td>0</td>\n",
       "      <td>0</td>\n",
       "      <td>0</td>\n",
       "      <td>0</td>\n",
       "      <td>0</td>\n",
       "      <td>0</td>\n",
       "      <td>0</td>\n",
       "      <td>0</td>\n",
       "    </tr>\n",
       "    <tr>\n",
       "      <th>52542</th>\n",
       "      <td>2408513</td>\n",
       "      <td>WHITE/FREE</td>\n",
       "      <td>2408513110869</td>\n",
       "      <td>110869</td>\n",
       "      <td>[{'text': '링클', 'value': 1}, {'text': '느낌', 'v...</td>\n",
       "      <td>182.000000</td>\n",
       "      <td>77.000000</td>\n",
       "      <td>1.0</td>\n",
       "      <td>0.0</td>\n",
       "      <td>0</td>\n",
       "      <td>0</td>\n",
       "      <td>0</td>\n",
       "      <td>1</td>\n",
       "      <td>0</td>\n",
       "      <td>0</td>\n",
       "      <td>0</td>\n",
       "      <td>0</td>\n",
       "      <td>0</td>\n",
       "      <td>0</td>\n",
       "      <td>0</td>\n",
       "      <td>0</td>\n",
       "    </tr>\n",
       "    <tr>\n",
       "      <th>52543</th>\n",
       "      <td>2408664</td>\n",
       "      <td>DCH0_DARK-CHARCOL/095</td>\n",
       "      <td>2408664110810</td>\n",
       "      <td>110810</td>\n",
       "      <td>[{'text': '디자인', 'value': 1}, {'text': '색감', '...</td>\n",
       "      <td>160.000000</td>\n",
       "      <td>60.000000</td>\n",
       "      <td>0.0</td>\n",
       "      <td>1.0</td>\n",
       "      <td>0</td>\n",
       "      <td>0</td>\n",
       "      <td>1</td>\n",
       "      <td>0</td>\n",
       "      <td>0</td>\n",
       "      <td>0</td>\n",
       "      <td>0</td>\n",
       "      <td>0</td>\n",
       "      <td>0</td>\n",
       "      <td>0</td>\n",
       "      <td>0</td>\n",
       "      <td>0</td>\n",
       "    </tr>\n",
       "    <tr>\n",
       "      <th>52544</th>\n",
       "      <td>2410723</td>\n",
       "      <td>M</td>\n",
       "      <td>241072382324</td>\n",
       "      <td>82324</td>\n",
       "      <td>[{'text': '개', 'value': 1}, {'text': '생각', 'va...</td>\n",
       "      <td>168.000000</td>\n",
       "      <td>54.000000</td>\n",
       "      <td>1.0</td>\n",
       "      <td>0.0</td>\n",
       "      <td>0</td>\n",
       "      <td>0</td>\n",
       "      <td>0</td>\n",
       "      <td>0</td>\n",
       "      <td>0</td>\n",
       "      <td>0</td>\n",
       "      <td>0</td>\n",
       "      <td>0</td>\n",
       "      <td>1</td>\n",
       "      <td>0</td>\n",
       "      <td>0</td>\n",
       "      <td>0</td>\n",
       "    </tr>\n",
       "    <tr>\n",
       "      <th>52545</th>\n",
       "      <td>2411184</td>\n",
       "      <td>M(100)레귤러</td>\n",
       "      <td>2411184108697</td>\n",
       "      <td>108697</td>\n",
       "      <td>[{'text': '사이즈', 'value': 2}, {'text': '추천', '...</td>\n",
       "      <td>162.000000</td>\n",
       "      <td>60.000000</td>\n",
       "      <td>0.0</td>\n",
       "      <td>1.0</td>\n",
       "      <td>0</td>\n",
       "      <td>0</td>\n",
       "      <td>0</td>\n",
       "      <td>0</td>\n",
       "      <td>0</td>\n",
       "      <td>0</td>\n",
       "      <td>0</td>\n",
       "      <td>1</td>\n",
       "      <td>0</td>\n",
       "      <td>0</td>\n",
       "      <td>0</td>\n",
       "      <td>0</td>\n",
       "    </tr>\n",
       "  </tbody>\n",
       "</table>\n",
       "<p>52546 rows × 21 columns</p>\n",
       "</div>"
      ],
      "text/plain": [
       "       goodsNo              goodsSize     newGoodsNo   index  \\\n",
       "0        18798                      L   187980097723   97723   \n",
       "1        50937                      S  5093700101241  101241   \n",
       "2        50937                     XL  5093700101242  101242   \n",
       "3        55782                     38  5578200118983  118983   \n",
       "4        55782                     42  5578200118982  118982   \n",
       "...        ...                    ...            ...     ...   \n",
       "52541  2408513             WHITE/FREE   240851385961   85961   \n",
       "52542  2408513             WHITE/FREE  2408513110869  110869   \n",
       "52543  2408664  DCH0_DARK-CHARCOL/095  2408664110810  110810   \n",
       "52544  2410723                      M   241072382324   82324   \n",
       "52545  2411184              M(100)레귤러  2411184108697  108697   \n",
       "\n",
       "                                              reviewNoun  userHeight  \\\n",
       "0      [{'text': '몸', 'value': 1}, {'text': '모양', 'va...  176.000000   \n",
       "1      [{'text': '가격', 'value': 2}, {'text': '옷', 'va...  167.500000   \n",
       "2      [{'text': '가격', 'value': 2}, {'text': '옷', 'va...  171.000000   \n",
       "3      [{'text': '옷', 'value': 2}, {'text': '가격', 'va...  171.500000   \n",
       "4      [{'text': '옷', 'value': 2}, {'text': '가격', 'va...  176.333333   \n",
       "...                                                  ...         ...   \n",
       "52541  [{'text': '링클', 'value': 1}, {'text': '느낌', 'v...  176.000000   \n",
       "52542  [{'text': '링클', 'value': 1}, {'text': '느낌', 'v...  182.000000   \n",
       "52543  [{'text': '디자인', 'value': 1}, {'text': '색감', '...  160.000000   \n",
       "52544  [{'text': '개', 'value': 1}, {'text': '생각', 'va...  168.000000   \n",
       "52545  [{'text': '사이즈', 'value': 2}, {'text': '추천', '...  162.000000   \n",
       "\n",
       "       userWeight  userSexMen  userSexWomen  month1  month2  month3  month4  \\\n",
       "0       68.000000         1.0           0.0       0       0       0       0   \n",
       "1       54.500000         0.5           0.5       0       0       0       2   \n",
       "2       68.000000         1.0           0.0       0       0       0       0   \n",
       "3       82.500000         1.0           0.0       1       0       0       0   \n",
       "4       80.666667         1.0           0.0       1       0       0       0   \n",
       "...           ...         ...           ...     ...     ...     ...     ...   \n",
       "52541   65.000000         1.0           0.0       0       0       0       1   \n",
       "52542   77.000000         1.0           0.0       0       0       0       1   \n",
       "52543   60.000000         0.0           1.0       0       0       1       0   \n",
       "52544   54.000000         1.0           0.0       0       0       0       0   \n",
       "52545   60.000000         0.0           1.0       0       0       0       0   \n",
       "\n",
       "       month5  month6  month7  month8  month9  month10  month11  month12  \n",
       "0           0       0       0       0       0        1        0        0  \n",
       "1           0       0       0       0       1        0        0        1  \n",
       "2           0       0       0       0       0        0        1        0  \n",
       "3           0       0       0       0       0        0        1        0  \n",
       "4           0       0       0       0       0        0        2        0  \n",
       "...       ...     ...     ...     ...     ...      ...      ...      ...  \n",
       "52541       0       0       0       0       0        0        0        0  \n",
       "52542       0       0       0       0       0        0        0        0  \n",
       "52543       0       0       0       0       0        0        0        0  \n",
       "52544       0       0       0       0       1        0        0        0  \n",
       "52545       0       0       0       1       0        0        0        0  \n",
       "\n",
       "[52546 rows x 21 columns]"
      ]
     },
     "execution_count": 100,
     "metadata": {},
     "output_type": "execute_result"
    }
   ],
   "source": [
    "sub_outer = pd.read_json('./size_outer.json')\n",
    "sub_outer"
   ]
  },
  {
   "cell_type": "code",
   "execution_count": 101,
   "id": "ff4daec1",
   "metadata": {},
   "outputs": [
    {
     "data": {
      "text/plain": [
       "(85641, 72)"
      ]
     },
     "execution_count": 101,
     "metadata": {},
     "output_type": "execute_result"
    }
   ],
   "source": [
    "outer = pd.merge(outer, sub_outer, how=\"left\", left_on=\"clothId\", right_on=\"goodsNo\")\n",
    "outer.shape"
   ]
  },
  {
   "cell_type": "code",
   "execution_count": 102,
   "id": "8e24b04d",
   "metadata": {},
   "outputs": [
    {
     "data": {
      "text/plain": [
       "Index(['clothId', 'largeCategory', 'largeCategoryName', 'smallCategoryHoodie',\n",
       "       'smallCategoryBlouson', 'smallCategoryRiders', 'smallCategoryMustang',\n",
       "       'smallCategoryCardigan', 'smallCategoryFleece', 'smallCategoryCoat',\n",
       "       'smallCategoryPaddedcoat', 'smallCategoryVest', 'smallCategoryJacket',\n",
       "       'smallCategoryOthers', 'smallCategoryName', 'colorWhite', 'colorGrey',\n",
       "       'colorBlack', 'colorRed', 'colorPink', 'colorOrange', 'colorIvory',\n",
       "       'colorYellow', 'colorGreen', 'colorBlue', 'colorPurple', 'colorBrown',\n",
       "       'colorBeige', 'colorJean', 'colorPattern', 'colorOthers', 'colorName',\n",
       "       'clothName', 'brand', 'image', 'clothPrice', 'date', 'hashtags',\n",
       "       'clothSexMen', 'clothSexWomen', 'clothRate', 'clothReviewNo', 'fit',\n",
       "       'feeling', 'stretch', 'visibility', 'thickness', 'seasonSpring',\n",
       "       'seasonSummer', 'seasonFall', 'seasonWinter', 'goodsNo', 'goodsSize',\n",
       "       'newGoodsNo', 'index', 'reviewNoun', 'userHeight', 'userWeight',\n",
       "       'userSexMen', 'userSexWomen', 'month1', 'month2', 'month3', 'month4',\n",
       "       'month5', 'month6', 'month7', 'month8', 'month9', 'month10', 'month11',\n",
       "       'month12'],\n",
       "      dtype='object')"
      ]
     },
     "execution_count": 102,
     "metadata": {},
     "output_type": "execute_result"
    }
   ],
   "source": [
    "outer.columns"
   ]
  },
  {
   "cell_type": "code",
   "execution_count": 103,
   "id": "30ff368d",
   "metadata": {},
   "outputs": [
    {
     "data": {
      "text/plain": [
       "(85641, 70)"
      ]
     },
     "execution_count": 103,
     "metadata": {},
     "output_type": "execute_result"
    }
   ],
   "source": [
    "outer = outer.drop([\"goodsNo\", \"index\"], axis=1)\n",
    "outer.shape"
   ]
  },
  {
   "cell_type": "code",
   "execution_count": 104,
   "id": "b2df1688",
   "metadata": {},
   "outputs": [
    {
     "data": {
      "text/plain": [
       "30678"
      ]
     },
     "execution_count": 104,
     "metadata": {},
     "output_type": "execute_result"
    }
   ],
   "source": [
    "# 85641 : 반복문을 통해 변화된 skirt 행 개수\n",
    "# 54963 : 원래의 skirt 행 개수\n",
    "# 427 : 새로 생긴 skirt 행 개수\n",
    "85641-54963"
   ]
  },
  {
   "cell_type": "code",
   "execution_count": 105,
   "id": "99f7f1b2",
   "metadata": {},
   "outputs": [
    {
     "data": {
      "text/plain": [
       "52546"
      ]
     },
     "execution_count": 105,
     "metadata": {},
     "output_type": "execute_result"
    }
   ],
   "source": [
    "len(sub_outer)"
   ]
  },
  {
   "cell_type": "code",
   "execution_count": 106,
   "id": "498099bf",
   "metadata": {
    "scrolled": false
   },
   "outputs": [
    {
     "data": {
      "text/plain": [
       "21868"
      ]
     },
     "execution_count": 106,
     "metadata": {},
     "output_type": "execute_result"
    }
   ],
   "source": [
    "len(sub_outer.goodsNo.unique())"
   ]
  },
  {
   "cell_type": "code",
   "execution_count": 107,
   "id": "20da98f9",
   "metadata": {},
   "outputs": [],
   "source": [
    "from copy import deepcopy\n",
    "b = deepcopy(outer)"
   ]
  },
  {
   "cell_type": "code",
   "execution_count": 108,
   "id": "e8fc203f",
   "metadata": {},
   "outputs": [
    {
     "data": {
      "text/plain": [
       "Index(['clothId', 'largeCategory', 'largeCategoryName', 'smallCategoryHoodie',\n",
       "       'smallCategoryBlouson', 'smallCategoryRiders', 'smallCategoryMustang',\n",
       "       'smallCategoryCardigan', 'smallCategoryFleece', 'smallCategoryCoat',\n",
       "       'smallCategoryPaddedcoat', 'smallCategoryVest', 'smallCategoryJacket',\n",
       "       'smallCategoryOthers', 'smallCategoryName', 'colorWhite', 'colorGrey',\n",
       "       'colorBlack', 'colorRed', 'colorPink', 'colorOrange', 'colorIvory',\n",
       "       'colorYellow', 'colorGreen', 'colorBlue', 'colorPurple', 'colorBrown',\n",
       "       'colorBeige', 'colorJean', 'colorPattern', 'colorOthers', 'colorName',\n",
       "       'clothName', 'brand', 'image', 'clothPrice', 'date', 'hashtags',\n",
       "       'clothSexMen', 'clothSexWomen', 'clothRate', 'clothReviewNo', 'fit',\n",
       "       'feeling', 'stretch', 'visibility', 'thickness', 'seasonSpring',\n",
       "       'seasonSummer', 'seasonFall', 'seasonWinter', 'goodsSize', 'newGoodsNo',\n",
       "       'reviewNoun', 'userHeight', 'userWeight', 'userSexMen', 'userSexWomen',\n",
       "       'month1', 'month2', 'month3', 'month4', 'month5', 'month6', 'month7',\n",
       "       'month8', 'month9', 'month10', 'month11', 'month12'],\n",
       "      dtype='object')"
      ]
     },
     "execution_count": 108,
     "metadata": {},
     "output_type": "execute_result"
    }
   ],
   "source": [
    "b.columns"
   ]
  },
  {
   "cell_type": "code",
   "execution_count": 109,
   "id": "78b10369",
   "metadata": {},
   "outputs": [],
   "source": [
    "col_list_1 = ['newGoodsNo', 'userSexMen', 'userSexWomen']\n",
    "col_list_2 = ['goodsSize', 'reviewNoun', 'userHeight', 'userWeight', 'month1', 'month2',\n",
    "       'month3', 'month4', 'month5', 'month6', 'month7', 'month8', 'month9',\n",
    "       'month10', 'month11', 'month12']\n",
    "check_list_1 = ['clothId',  'clothSexMen', 'clothSexWomen']\n",
    "check_list_2 = ['Free', [], 0, 0, 0, 0, 0, 0, 0, 0, 0, 0, 0, 0, 0, 0]\n",
    "for i in range(len(col_list_1)):\n",
    "    b[col_list_1[i]] = b[col_list_1[i]].fillna(0)\n",
    "    b[col_list_1[i]] = b.apply(lambda x: x[check_list_1[i]] if x[col_list_1[i]]==0 else x[col_list_1[i]], axis=1)\n",
    "    if i==0:\n",
    "        b[col_list_1[i]] = b[col_list_1[i]].astype('int64')\n",
    "    \n",
    "for i in range(len(col_list_2)):\n",
    "    b[col_list_2[i]] = b[col_list_2[i]].fillna(0)\n",
    "    b[col_list_2[i]] = b.apply(lambda x: check_list_2[i] if x[col_list_2[i]]==0 else x[col_list_2[i]], axis=1)\n",
    "    if i == 0:\n",
    "        b[col_list_2[i]] = b[col_list_2[i]].astype('str')\n",
    "    elif i >= 3:\n",
    "        b[col_list_2[i]] = b[col_list_2[i]].astype('int64')"
   ]
  },
  {
   "cell_type": "code",
   "execution_count": 110,
   "id": "1cc28c34",
   "metadata": {
    "scrolled": false
   },
   "outputs": [],
   "source": [
    "outer = deepcopy(b)"
   ]
  },
  {
   "cell_type": "code",
   "execution_count": 111,
   "id": "4ca725b2",
   "metadata": {},
   "outputs": [
    {
     "name": "stdout",
     "output_type": "stream",
     "text": [
      "0\n"
     ]
    }
   ],
   "source": [
    "# 이미지 null 값 확인\n",
    "print(len(outer[outer.image.isnull()]))"
   ]
  },
  {
   "cell_type": "code",
   "execution_count": 112,
   "id": "01083edd",
   "metadata": {},
   "outputs": [],
   "source": [
    "# hashtags 전처리\n",
    "outer.hashtags = outer.apply(lambda x: x.hashtags.replace(\"['\", \"\").replace(\"']\", \"\").replace(\"'\", \"\").replace(\" \", \"\").split(\",\"), axis=1)"
   ]
  },
  {
   "cell_type": "code",
   "execution_count": 113,
   "id": "3fcb7d4b",
   "metadata": {},
   "outputs": [],
   "source": [
    "outer.userHeight = outer.userHeight.astype('float')\n",
    "outer.userWeight = outer.userWeight.astype('float')\n",
    "outer.userSexMen = outer.userSexMen.astype('float')\n",
    "outer.userSexWomen = outer.userSexWomen.astype('float')"
   ]
  },
  {
   "cell_type": "code",
   "execution_count": 114,
   "id": "59f57c57",
   "metadata": {},
   "outputs": [
    {
     "data": {
      "text/plain": [
       "[]"
      ]
     },
     "execution_count": 114,
     "metadata": {},
     "output_type": "execute_result"
    }
   ],
   "source": [
    "outer.reviewNoun.iloc[2]"
   ]
  },
  {
   "cell_type": "code",
   "execution_count": 115,
   "id": "3d8d1329",
   "metadata": {},
   "outputs": [
    {
     "data": {
      "text/plain": [
       "Index(['clothId', 'largeCategory', 'largeCategoryName', 'smallCategoryHoodie',\n",
       "       'smallCategoryBlouson', 'smallCategoryRiders', 'smallCategoryMustang',\n",
       "       'smallCategoryCardigan', 'smallCategoryFleece', 'smallCategoryCoat',\n",
       "       'smallCategoryPaddedcoat', 'smallCategoryVest', 'smallCategoryJacket',\n",
       "       'smallCategoryOthers', 'smallCategoryName', 'colorWhite', 'colorGrey',\n",
       "       'colorBlack', 'colorRed', 'colorPink', 'colorOrange', 'colorIvory',\n",
       "       'colorYellow', 'colorGreen', 'colorBlue', 'colorPurple', 'colorBrown',\n",
       "       'colorBeige', 'colorJean', 'colorPattern', 'colorOthers', 'colorName',\n",
       "       'clothName', 'brand', 'image', 'clothPrice', 'date', 'hashtags',\n",
       "       'clothSexMen', 'clothSexWomen', 'clothRate', 'clothReviewNo', 'fit',\n",
       "       'feeling', 'stretch', 'visibility', 'thickness', 'seasonSpring',\n",
       "       'seasonSummer', 'seasonFall', 'seasonWinter', 'goodsSize', 'newGoodsNo',\n",
       "       'reviewNoun', 'userHeight', 'userWeight', 'userSexMen', 'userSexWomen',\n",
       "       'month1', 'month2', 'month3', 'month4', 'month5', 'month6', 'month7',\n",
       "       'month8', 'month9', 'month10', 'month11', 'month12'],\n",
       "      dtype='object')"
      ]
     },
     "execution_count": 115,
     "metadata": {},
     "output_type": "execute_result"
    }
   ],
   "source": [
    "outer.columns"
   ]
  },
  {
   "cell_type": "code",
   "execution_count": 116,
   "id": "1bde86c4",
   "metadata": {},
   "outputs": [],
   "source": [
    "outer.columns = ['clothId', 'largeCategory', 'largeCategoryName',\n",
    "       'smallCategoryHoodie', 'smallCategoryBlouson', 'smallCategoryRiders',\n",
    "       'smallCategoryMustang', 'smallCategoryCardigan', 'smallCategoryFleece',\n",
    "       'smallCategoryCoat', 'smallCategoryPaddedcoat', 'smallCategoryVest',\n",
    "       'smallCategoryJacket', 'smallCategoryOthers',\n",
    "       'smallCategoryName', 'colorWhite', 'colorGrey', 'colorBlack',\n",
    "       'colorRed', 'colorPink', 'colorOrange', 'colorIvory', 'colorYellow',\n",
    "       'colorGreen', 'colorBlue', 'colorPurple', 'colorBrown', 'colorBeige',\n",
    "       'colorJean', 'colorPattern', 'colorOthers', 'colorName', 'clothName',\n",
    "       'brand', 'clothImg', 'clothPrice', 'date', 'clothHashtags', 'clothMale',\n",
    "       'clothFemale', 'clothRate', 'clothReviewCnt', 'fit', 'feeling',\n",
    "       'stretch', 'visibility', 'thickness', 'seasonSpring', 'seasonSummer',\n",
    "       'seasonFall', 'seasonWinter', 'goodsSize', 'newClothId', 'reviewNoun', 'userHeight',\n",
    "       'userWeight', 'userMale', 'userFemale', 'month1', 'month2',\n",
    "       'month3', 'month4', 'month5', 'month6', 'month7', 'month8', 'month9',\n",
    "       'month10', 'month11', 'month12']"
   ]
  },
  {
   "cell_type": "code",
   "execution_count": 117,
   "id": "82a03119",
   "metadata": {},
   "outputs": [],
   "source": [
    "outer = outer[['newClothId', 'clothId', 'largeCategory', 'largeCategoryName',\n",
    "       'smallCategoryHoodie', 'smallCategoryBlouson', 'smallCategoryRiders',\n",
    "       'smallCategoryMustang', 'smallCategoryCardigan', 'smallCategoryFleece',\n",
    "       'smallCategoryCoat', 'smallCategoryPaddedcoat', 'smallCategoryVest',\n",
    "       'smallCategoryJacket', 'smallCategoryOthers',\n",
    "       'smallCategoryName', 'colorWhite', 'colorGrey', 'colorBlack',\n",
    "       'colorRed', 'colorPink', 'colorOrange', 'colorIvory', 'colorYellow',\n",
    "       'colorGreen', 'colorBlue', 'colorPurple', 'colorBrown', 'colorBeige',\n",
    "       'colorJean', 'colorPattern', 'colorOthers', 'colorName', 'clothName',\n",
    "       'brand', 'clothImg', 'clothPrice', 'date', 'clothHashtags', 'clothMale',\n",
    "       'clothFemale', 'clothRate', 'clothReviewCnt', 'fit', 'feeling',\n",
    "       'stretch', 'visibility', 'thickness', 'seasonSpring', 'seasonSummer',\n",
    "       'seasonFall', 'seasonWinter', 'goodsSize', 'reviewNoun', 'userHeight',\n",
    "       'userWeight', 'userMale', 'userFemale', 'month1', 'month2',\n",
    "       'month3', 'month4', 'month5', 'month6', 'month7', 'month8', 'month9',\n",
    "       'month10', 'month11', 'month12']]"
   ]
  },
  {
   "cell_type": "code",
   "execution_count": 292,
   "id": "46d81170",
   "metadata": {},
   "outputs": [],
   "source": [
    "outer.to_json('final_outer.json', orient='records', force_ascii=False)"
   ]
  },
  {
   "cell_type": "code",
   "execution_count": 119,
   "id": "37b22231",
   "metadata": {},
   "outputs": [],
   "source": [
    "outer.to_csv('final_outer.csv',\n",
    "                 sep=',',\n",
    "                 float_format = '%.4f',\n",
    "                 encoding = 'utf-8-sig')"
   ]
  },
  {
   "cell_type": "markdown",
   "id": "3bc49964",
   "metadata": {},
   "source": [
    " "
   ]
  },
  {
   "cell_type": "markdown",
   "id": "072346b0",
   "metadata": {},
   "source": [
    " "
   ]
  },
  {
   "cell_type": "markdown",
   "id": "f3d4e8f1",
   "metadata": {},
   "source": [
    " "
   ]
  },
  {
   "cell_type": "markdown",
   "id": "161eb967",
   "metadata": {},
   "source": [
    "# Pants"
   ]
  },
  {
   "cell_type": "code",
   "execution_count": 120,
   "id": "1d7e4a22",
   "metadata": {},
   "outputs": [],
   "source": [
    "pants = pd.read_csv('./musinsa_clothes_pants.csv')"
   ]
  },
  {
   "cell_type": "code",
   "execution_count": 121,
   "id": "ae3f0e10",
   "metadata": {
    "scrolled": true
   },
   "outputs": [
    {
     "data": {
      "text/plain": [
       "Index(['clothId', 'largeCategory', 'largeCategoryName', 'smallCategory',\n",
       "       'smallCategoryName', 'colorNo', 'clothName', 'brand', 'image',\n",
       "       'clothPrice', 'date', 'hashtags', 'clothSexMen', 'clothSexWomen',\n",
       "       'clothSexCommon', 'clothRate', 'clothReviewNo', 'fit', 'feeling',\n",
       "       'stretch', 'visibility', 'thickness', 'seasonSpring', 'seasonSummer',\n",
       "       'seasonFall', 'seasonWinter'],\n",
       "      dtype='object')"
      ]
     },
     "execution_count": 121,
     "metadata": {},
     "output_type": "execute_result"
    }
   ],
   "source": [
    "pants.columns"
   ]
  },
  {
   "cell_type": "code",
   "execution_count": 122,
   "id": "23fbb07b",
   "metadata": {},
   "outputs": [
    {
     "name": "stdout",
     "output_type": "stream",
     "text": [
      "<class 'pandas.core.frame.DataFrame'>\n",
      "RangeIndex: 57679 entries, 0 to 57678\n",
      "Data columns (total 26 columns):\n",
      " #   Column             Non-Null Count  Dtype  \n",
      "---  ------             --------------  -----  \n",
      " 0   clothId            57679 non-null  int64  \n",
      " 1   largeCategory      57679 non-null  int64  \n",
      " 2   largeCategoryName  57679 non-null  object \n",
      " 3   smallCategory      57679 non-null  int64  \n",
      " 4   smallCategoryName  57679 non-null  object \n",
      " 5   colorNo            57679 non-null  int64  \n",
      " 6   clothName          57679 non-null  object \n",
      " 7   brand              57679 non-null  object \n",
      " 8   image              57679 non-null  object \n",
      " 9   clothPrice         57679 non-null  object \n",
      " 10  date               57679 non-null  int64  \n",
      " 11  hashtags           57679 non-null  object \n",
      " 12  clothSexMen        57679 non-null  int64  \n",
      " 13  clothSexWomen      57679 non-null  int64  \n",
      " 14  clothSexCommon     57679 non-null  int64  \n",
      " 15  clothRate          57679 non-null  float64\n",
      " 16  clothReviewNo      57679 non-null  object \n",
      " 17  fit                57679 non-null  int64  \n",
      " 18  feeling            57679 non-null  int64  \n",
      " 19  stretch            57679 non-null  int64  \n",
      " 20  visibility         57679 non-null  int64  \n",
      " 21  thickness          57679 non-null  int64  \n",
      " 22  seasonSpring       57679 non-null  int64  \n",
      " 23  seasonSummer       57679 non-null  int64  \n",
      " 24  seasonFall         57679 non-null  int64  \n",
      " 25  seasonWinter       57679 non-null  int64  \n",
      "dtypes: float64(1), int64(17), object(8)\n",
      "memory usage: 11.4+ MB\n"
     ]
    }
   ],
   "source": [
    "pants.info()"
   ]
  },
  {
   "cell_type": "code",
   "execution_count": 123,
   "id": "fee9cea0",
   "metadata": {
    "scrolled": false
   },
   "outputs": [
    {
     "data": {
      "text/html": [
       "<div>\n",
       "<style scoped>\n",
       "    .dataframe tbody tr th:only-of-type {\n",
       "        vertical-align: middle;\n",
       "    }\n",
       "\n",
       "    .dataframe tbody tr th {\n",
       "        vertical-align: top;\n",
       "    }\n",
       "\n",
       "    .dataframe thead th {\n",
       "        text-align: right;\n",
       "    }\n",
       "</style>\n",
       "<table border=\"1\" class=\"dataframe\">\n",
       "  <thead>\n",
       "    <tr style=\"text-align: right;\">\n",
       "      <th></th>\n",
       "      <th>clothId</th>\n",
       "      <th>largeCategory</th>\n",
       "      <th>smallCategory</th>\n",
       "      <th>colorNo</th>\n",
       "      <th>date</th>\n",
       "      <th>clothSexMen</th>\n",
       "      <th>clothSexWomen</th>\n",
       "      <th>clothSexCommon</th>\n",
       "      <th>clothRate</th>\n",
       "      <th>fit</th>\n",
       "      <th>feeling</th>\n",
       "      <th>stretch</th>\n",
       "      <th>visibility</th>\n",
       "      <th>thickness</th>\n",
       "      <th>seasonSpring</th>\n",
       "      <th>seasonSummer</th>\n",
       "      <th>seasonFall</th>\n",
       "      <th>seasonWinter</th>\n",
       "    </tr>\n",
       "  </thead>\n",
       "  <tbody>\n",
       "    <tr>\n",
       "      <th>count</th>\n",
       "      <td>5.767900e+04</td>\n",
       "      <td>57679.0</td>\n",
       "      <td>57679.000000</td>\n",
       "      <td>57679.000000</td>\n",
       "      <td>5.767900e+04</td>\n",
       "      <td>57679.000000</td>\n",
       "      <td>57679.000000</td>\n",
       "      <td>57679.000000</td>\n",
       "      <td>57679.000000</td>\n",
       "      <td>57679.000000</td>\n",
       "      <td>57679.000000</td>\n",
       "      <td>57679.000000</td>\n",
       "      <td>57679.000000</td>\n",
       "      <td>57679.000000</td>\n",
       "      <td>57679.000000</td>\n",
       "      <td>57679.000000</td>\n",
       "      <td>57679.000000</td>\n",
       "      <td>57679.000000</td>\n",
       "    </tr>\n",
       "    <tr>\n",
       "      <th>mean</th>\n",
       "      <td>1.840605e+06</td>\n",
       "      <td>3.0</td>\n",
       "      <td>305.918601</td>\n",
       "      <td>15.812115</td>\n",
       "      <td>2.020691e+07</td>\n",
       "      <td>0.645868</td>\n",
       "      <td>0.324295</td>\n",
       "      <td>0.029768</td>\n",
       "      <td>2.475041</td>\n",
       "      <td>1.118345</td>\n",
       "      <td>0.775482</td>\n",
       "      <td>0.989962</td>\n",
       "      <td>1.485844</td>\n",
       "      <td>0.960037</td>\n",
       "      <td>0.248669</td>\n",
       "      <td>0.183620</td>\n",
       "      <td>0.251443</td>\n",
       "      <td>0.175038</td>\n",
       "    </tr>\n",
       "    <tr>\n",
       "      <th>std</th>\n",
       "      <td>4.652932e+05</td>\n",
       "      <td>0.0</td>\n",
       "      <td>2.625236</td>\n",
       "      <td>16.485140</td>\n",
       "      <td>1.145007e+04</td>\n",
       "      <td>0.478254</td>\n",
       "      <td>0.468115</td>\n",
       "      <td>0.169949</td>\n",
       "      <td>2.367970</td>\n",
       "      <td>1.739613</td>\n",
       "      <td>1.266744</td>\n",
       "      <td>1.657343</td>\n",
       "      <td>2.221116</td>\n",
       "      <td>1.478658</td>\n",
       "      <td>0.432245</td>\n",
       "      <td>0.387177</td>\n",
       "      <td>0.433847</td>\n",
       "      <td>0.380003</td>\n",
       "    </tr>\n",
       "    <tr>\n",
       "      <th>min</th>\n",
       "      <td>2.586800e+04</td>\n",
       "      <td>3.0</td>\n",
       "      <td>302.000000</td>\n",
       "      <td>1.000000</td>\n",
       "      <td>2.012110e+07</td>\n",
       "      <td>0.000000</td>\n",
       "      <td>0.000000</td>\n",
       "      <td>0.000000</td>\n",
       "      <td>0.000000</td>\n",
       "      <td>0.000000</td>\n",
       "      <td>0.000000</td>\n",
       "      <td>0.000000</td>\n",
       "      <td>0.000000</td>\n",
       "      <td>0.000000</td>\n",
       "      <td>0.000000</td>\n",
       "      <td>0.000000</td>\n",
       "      <td>0.000000</td>\n",
       "      <td>0.000000</td>\n",
       "    </tr>\n",
       "    <tr>\n",
       "      <th>25%</th>\n",
       "      <td>1.564060e+06</td>\n",
       "      <td>3.0</td>\n",
       "      <td>304.000000</td>\n",
       "      <td>2.000000</td>\n",
       "      <td>2.020083e+07</td>\n",
       "      <td>0.000000</td>\n",
       "      <td>0.000000</td>\n",
       "      <td>0.000000</td>\n",
       "      <td>0.000000</td>\n",
       "      <td>0.000000</td>\n",
       "      <td>0.000000</td>\n",
       "      <td>0.000000</td>\n",
       "      <td>0.000000</td>\n",
       "      <td>0.000000</td>\n",
       "      <td>0.000000</td>\n",
       "      <td>0.000000</td>\n",
       "      <td>0.000000</td>\n",
       "      <td>0.000000</td>\n",
       "    </tr>\n",
       "    <tr>\n",
       "      <th>50%</th>\n",
       "      <td>1.945703e+06</td>\n",
       "      <td>3.0</td>\n",
       "      <td>306.000000</td>\n",
       "      <td>7.000000</td>\n",
       "      <td>2.021051e+07</td>\n",
       "      <td>1.000000</td>\n",
       "      <td>0.000000</td>\n",
       "      <td>0.000000</td>\n",
       "      <td>4.000000</td>\n",
       "      <td>0.000000</td>\n",
       "      <td>0.000000</td>\n",
       "      <td>0.000000</td>\n",
       "      <td>0.000000</td>\n",
       "      <td>0.000000</td>\n",
       "      <td>0.000000</td>\n",
       "      <td>0.000000</td>\n",
       "      <td>0.000000</td>\n",
       "      <td>0.000000</td>\n",
       "    </tr>\n",
       "    <tr>\n",
       "      <th>75%</th>\n",
       "      <td>2.204482e+06</td>\n",
       "      <td>3.0</td>\n",
       "      <td>308.000000</td>\n",
       "      <td>25.000000</td>\n",
       "      <td>2.021103e+07</td>\n",
       "      <td>1.000000</td>\n",
       "      <td>1.000000</td>\n",
       "      <td>0.000000</td>\n",
       "      <td>4.800000</td>\n",
       "      <td>3.000000</td>\n",
       "      <td>1.000000</td>\n",
       "      <td>2.000000</td>\n",
       "      <td>5.000000</td>\n",
       "      <td>3.000000</td>\n",
       "      <td>0.000000</td>\n",
       "      <td>0.000000</td>\n",
       "      <td>1.000000</td>\n",
       "      <td>0.000000</td>\n",
       "    </tr>\n",
       "    <tr>\n",
       "      <th>max</th>\n",
       "      <td>2.413615e+06</td>\n",
       "      <td>3.0</td>\n",
       "      <td>310.000000</td>\n",
       "      <td>71.000000</td>\n",
       "      <td>2.022031e+07</td>\n",
       "      <td>1.000000</td>\n",
       "      <td>1.000000</td>\n",
       "      <td>1.000000</td>\n",
       "      <td>5.000000</td>\n",
       "      <td>5.000000</td>\n",
       "      <td>6.000000</td>\n",
       "      <td>6.000000</td>\n",
       "      <td>6.000000</td>\n",
       "      <td>5.000000</td>\n",
       "      <td>1.000000</td>\n",
       "      <td>1.000000</td>\n",
       "      <td>1.000000</td>\n",
       "      <td>1.000000</td>\n",
       "    </tr>\n",
       "  </tbody>\n",
       "</table>\n",
       "</div>"
      ],
      "text/plain": [
       "            clothId  largeCategory  smallCategory       colorNo          date  \\\n",
       "count  5.767900e+04        57679.0   57679.000000  57679.000000  5.767900e+04   \n",
       "mean   1.840605e+06            3.0     305.918601     15.812115  2.020691e+07   \n",
       "std    4.652932e+05            0.0       2.625236     16.485140  1.145007e+04   \n",
       "min    2.586800e+04            3.0     302.000000      1.000000  2.012110e+07   \n",
       "25%    1.564060e+06            3.0     304.000000      2.000000  2.020083e+07   \n",
       "50%    1.945703e+06            3.0     306.000000      7.000000  2.021051e+07   \n",
       "75%    2.204482e+06            3.0     308.000000     25.000000  2.021103e+07   \n",
       "max    2.413615e+06            3.0     310.000000     71.000000  2.022031e+07   \n",
       "\n",
       "        clothSexMen  clothSexWomen  clothSexCommon     clothRate  \\\n",
       "count  57679.000000   57679.000000    57679.000000  57679.000000   \n",
       "mean       0.645868       0.324295        0.029768      2.475041   \n",
       "std        0.478254       0.468115        0.169949      2.367970   \n",
       "min        0.000000       0.000000        0.000000      0.000000   \n",
       "25%        0.000000       0.000000        0.000000      0.000000   \n",
       "50%        1.000000       0.000000        0.000000      4.000000   \n",
       "75%        1.000000       1.000000        0.000000      4.800000   \n",
       "max        1.000000       1.000000        1.000000      5.000000   \n",
       "\n",
       "                fit       feeling       stretch    visibility     thickness  \\\n",
       "count  57679.000000  57679.000000  57679.000000  57679.000000  57679.000000   \n",
       "mean       1.118345      0.775482      0.989962      1.485844      0.960037   \n",
       "std        1.739613      1.266744      1.657343      2.221116      1.478658   \n",
       "min        0.000000      0.000000      0.000000      0.000000      0.000000   \n",
       "25%        0.000000      0.000000      0.000000      0.000000      0.000000   \n",
       "50%        0.000000      0.000000      0.000000      0.000000      0.000000   \n",
       "75%        3.000000      1.000000      2.000000      5.000000      3.000000   \n",
       "max        5.000000      6.000000      6.000000      6.000000      5.000000   \n",
       "\n",
       "       seasonSpring  seasonSummer    seasonFall  seasonWinter  \n",
       "count  57679.000000  57679.000000  57679.000000  57679.000000  \n",
       "mean       0.248669      0.183620      0.251443      0.175038  \n",
       "std        0.432245      0.387177      0.433847      0.380003  \n",
       "min        0.000000      0.000000      0.000000      0.000000  \n",
       "25%        0.000000      0.000000      0.000000      0.000000  \n",
       "50%        0.000000      0.000000      0.000000      0.000000  \n",
       "75%        0.000000      0.000000      1.000000      0.000000  \n",
       "max        1.000000      1.000000      1.000000      1.000000  "
      ]
     },
     "execution_count": 123,
     "metadata": {},
     "output_type": "execute_result"
    }
   ],
   "source": [
    "pants.describe()"
   ]
  },
  {
   "cell_type": "code",
   "execution_count": 124,
   "id": "a1c45a6d",
   "metadata": {},
   "outputs": [],
   "source": [
    "pants = pants.drop_duplicates(subset = \"clothId\")\n",
    "pants = pants.reset_index(drop=True)"
   ]
  },
  {
   "cell_type": "code",
   "execution_count": 125,
   "id": "4f586289",
   "metadata": {},
   "outputs": [],
   "source": [
    "pants['smallCategory'] = pants['smallCategory'].astype('str')"
   ]
  },
  {
   "cell_type": "code",
   "execution_count": 126,
   "id": "8c1e68c5",
   "metadata": {},
   "outputs": [
    {
     "data": {
      "text/plain": [
       "array([3], dtype=int64)"
      ]
     },
     "execution_count": 126,
     "metadata": {},
     "output_type": "execute_result"
    }
   ],
   "source": [
    "pants['largeCategory'].unique()"
   ]
  },
  {
   "cell_type": "code",
   "execution_count": 127,
   "id": "4ed40eed",
   "metadata": {},
   "outputs": [
    {
     "data": {
      "text/plain": [
       "array(['바지'], dtype=object)"
      ]
     },
     "execution_count": 127,
     "metadata": {},
     "output_type": "execute_result"
    }
   ],
   "source": [
    "pants['largeCategoryName'].unique()"
   ]
  },
  {
   "cell_type": "code",
   "execution_count": 128,
   "id": "eae0359a",
   "metadata": {},
   "outputs": [
    {
     "data": {
      "text/plain": [
       "array(['306', '304', '308', '309', '302', '310', '307', '305'],\n",
       "      dtype=object)"
      ]
     },
     "execution_count": 128,
     "metadata": {},
     "output_type": "execute_result"
    }
   ],
   "source": [
    "pants['smallCategory'].unique()"
   ]
  },
  {
   "cell_type": "code",
   "execution_count": 129,
   "id": "c4f56f2d",
   "metadata": {
    "scrolled": true
   },
   "outputs": [
    {
     "data": {
      "text/plain": [
       "array(['기타 바지', '트레이닝/조거 팬츠', '슈트 팬츠/슬랙스', '숏 팬츠', '데님 팬츠', '기능성 하의',\n",
       "       '점프 슈트/오버올', '코튼 팬츠', '레깅스'], dtype=object)"
      ]
     },
     "execution_count": 129,
     "metadata": {},
     "output_type": "execute_result"
    }
   ],
   "source": [
    "pants['smallCategoryName'].unique()"
   ]
  },
  {
   "cell_type": "code",
   "execution_count": 130,
   "id": "3b94038b",
   "metadata": {
    "scrolled": true
   },
   "outputs": [
    {
     "data": {
      "text/html": [
       "<div>\n",
       "<style scoped>\n",
       "    .dataframe tbody tr th:only-of-type {\n",
       "        vertical-align: middle;\n",
       "    }\n",
       "\n",
       "    .dataframe tbody tr th {\n",
       "        vertical-align: top;\n",
       "    }\n",
       "\n",
       "    .dataframe thead th {\n",
       "        text-align: right;\n",
       "    }\n",
       "</style>\n",
       "<table border=\"1\" class=\"dataframe\">\n",
       "  <thead>\n",
       "    <tr style=\"text-align: right;\">\n",
       "      <th></th>\n",
       "      <th>clothId</th>\n",
       "      <th>largeCategory</th>\n",
       "      <th>largeCategoryName</th>\n",
       "      <th>smallCategory</th>\n",
       "      <th>smallCategoryName</th>\n",
       "      <th>colorNo</th>\n",
       "      <th>clothName</th>\n",
       "      <th>brand</th>\n",
       "      <th>image</th>\n",
       "      <th>clothPrice</th>\n",
       "      <th>date</th>\n",
       "      <th>hashtags</th>\n",
       "      <th>clothSexMen</th>\n",
       "      <th>clothSexWomen</th>\n",
       "      <th>clothSexCommon</th>\n",
       "      <th>clothRate</th>\n",
       "      <th>clothReviewNo</th>\n",
       "      <th>fit</th>\n",
       "      <th>feeling</th>\n",
       "      <th>stretch</th>\n",
       "      <th>visibility</th>\n",
       "      <th>thickness</th>\n",
       "      <th>seasonSpring</th>\n",
       "      <th>seasonSummer</th>\n",
       "      <th>seasonFall</th>\n",
       "      <th>seasonWinter</th>\n",
       "    </tr>\n",
       "  </thead>\n",
       "  <tbody>\n",
       "    <tr>\n",
       "      <th>32</th>\n",
       "      <td>1321523</td>\n",
       "      <td>3</td>\n",
       "      <td>바지</td>\n",
       "      <td>310</td>\n",
       "      <td>기능성 하의</td>\n",
       "      <td>3</td>\n",
       "      <td>여성 요가복 DEVI-B0036-그레이 필라테스 레깅스 9부 베이직</td>\n",
       "      <td>데비웨어</td>\n",
       "      <td>//image.msscdn.net/images/goods_img/20200225/1...</td>\n",
       "      <td>24,000원</td>\n",
       "      <td>20200225</td>\n",
       "      <td>['여성요가복', '요가복', '필라테스', '필라테스복', '필라테스운동복', '...</td>\n",
       "      <td>0</td>\n",
       "      <td>1</td>\n",
       "      <td>0</td>\n",
       "      <td>0.0</td>\n",
       "      <td>0</td>\n",
       "      <td>0</td>\n",
       "      <td>0</td>\n",
       "      <td>0</td>\n",
       "      <td>0</td>\n",
       "      <td>0</td>\n",
       "      <td>0</td>\n",
       "      <td>0</td>\n",
       "      <td>0</td>\n",
       "      <td>0</td>\n",
       "    </tr>\n",
       "    <tr>\n",
       "      <th>34</th>\n",
       "      <td>1667376</td>\n",
       "      <td>3</td>\n",
       "      <td>바지</td>\n",
       "      <td>310</td>\n",
       "      <td>기능성 하의</td>\n",
       "      <td>3</td>\n",
       "      <td>여성 사이드 스타프린트 레깅스 GREY / FF0WLG01F87</td>\n",
       "      <td>피피라핀</td>\n",
       "      <td>//image.msscdn.net/images/goods_img/20201028/1...</td>\n",
       "      <td>29,900원</td>\n",
       "      <td>20201028</td>\n",
       "      <td>['레깅스', '여성레깅스', '겨울레깅스', '여자레깅스', '케주얼레깅스']</td>\n",
       "      <td>0</td>\n",
       "      <td>1</td>\n",
       "      <td>0</td>\n",
       "      <td>4.0</td>\n",
       "      <td>2</td>\n",
       "      <td>1</td>\n",
       "      <td>3</td>\n",
       "      <td>5</td>\n",
       "      <td>5</td>\n",
       "      <td>3</td>\n",
       "      <td>1</td>\n",
       "      <td>0</td>\n",
       "      <td>1</td>\n",
       "      <td>1</td>\n",
       "    </tr>\n",
       "    <tr>\n",
       "      <th>138</th>\n",
       "      <td>2316809</td>\n",
       "      <td>3</td>\n",
       "      <td>바지</td>\n",
       "      <td>310</td>\n",
       "      <td>기능성 하의</td>\n",
       "      <td>3</td>\n",
       "      <td>기모_CREORA &amp; CELLA LEGGINS GR</td>\n",
       "      <td>아이코노그라피</td>\n",
       "      <td>//image.msscdn.net/images/goods_img/20220120/2...</td>\n",
       "      <td>19,800원</td>\n",
       "      <td>20220120</td>\n",
       "      <td>['레깅스추천', '레깅스', '여성레깅스', '레깅스컬렉션', '레깅스팬츠', '...</td>\n",
       "      <td>0</td>\n",
       "      <td>1</td>\n",
       "      <td>0</td>\n",
       "      <td>0.0</td>\n",
       "      <td>0</td>\n",
       "      <td>1</td>\n",
       "      <td>1</td>\n",
       "      <td>5</td>\n",
       "      <td>5</td>\n",
       "      <td>3</td>\n",
       "      <td>1</td>\n",
       "      <td>0</td>\n",
       "      <td>1</td>\n",
       "      <td>1</td>\n",
       "    </tr>\n",
       "    <tr>\n",
       "      <th>146</th>\n",
       "      <td>2185722</td>\n",
       "      <td>3</td>\n",
       "      <td>바지</td>\n",
       "      <td>310</td>\n",
       "      <td>기능성 하의</td>\n",
       "      <td>3</td>\n",
       "      <td>RIF (리프) 여성 본딩 타이즈 팬츠_Ciment</td>\n",
       "      <td>아이더</td>\n",
       "      <td>//image.msscdn.net/images/goods_img/20211019/2...</td>\n",
       "      <td>129,000원</td>\n",
       "      <td>20211019</td>\n",
       "      <td>[]</td>\n",
       "      <td>0</td>\n",
       "      <td>1</td>\n",
       "      <td>0</td>\n",
       "      <td>0.0</td>\n",
       "      <td>0</td>\n",
       "      <td>0</td>\n",
       "      <td>0</td>\n",
       "      <td>0</td>\n",
       "      <td>0</td>\n",
       "      <td>0</td>\n",
       "      <td>0</td>\n",
       "      <td>0</td>\n",
       "      <td>0</td>\n",
       "      <td>0</td>\n",
       "    </tr>\n",
       "    <tr>\n",
       "      <th>161</th>\n",
       "      <td>2301479</td>\n",
       "      <td>3</td>\n",
       "      <td>바지</td>\n",
       "      <td>310</td>\n",
       "      <td>기능성 하의</td>\n",
       "      <td>3</td>\n",
       "      <td>TS 럭스 하이라이즈 레깅스 - 그레이 / HB2028</td>\n",
       "      <td>리복</td>\n",
       "      <td>//image.msscdn.net/images/goods_img/20220111/2...</td>\n",
       "      <td>44,900원</td>\n",
       "      <td>20220111</td>\n",
       "      <td>['타이츠', '하이웨스트레깅스', '하이웨스트타이츠', '요가', '필라테스', ...</td>\n",
       "      <td>0</td>\n",
       "      <td>1</td>\n",
       "      <td>0</td>\n",
       "      <td>0.0</td>\n",
       "      <td>0</td>\n",
       "      <td>0</td>\n",
       "      <td>0</td>\n",
       "      <td>0</td>\n",
       "      <td>0</td>\n",
       "      <td>0</td>\n",
       "      <td>0</td>\n",
       "      <td>0</td>\n",
       "      <td>0</td>\n",
       "      <td>0</td>\n",
       "    </tr>\n",
       "    <tr>\n",
       "      <th>...</th>\n",
       "      <td>...</td>\n",
       "      <td>...</td>\n",
       "      <td>...</td>\n",
       "      <td>...</td>\n",
       "      <td>...</td>\n",
       "      <td>...</td>\n",
       "      <td>...</td>\n",
       "      <td>...</td>\n",
       "      <td>...</td>\n",
       "      <td>...</td>\n",
       "      <td>...</td>\n",
       "      <td>...</td>\n",
       "      <td>...</td>\n",
       "      <td>...</td>\n",
       "      <td>...</td>\n",
       "      <td>...</td>\n",
       "      <td>...</td>\n",
       "      <td>...</td>\n",
       "      <td>...</td>\n",
       "      <td>...</td>\n",
       "      <td>...</td>\n",
       "      <td>...</td>\n",
       "      <td>...</td>\n",
       "      <td>...</td>\n",
       "      <td>...</td>\n",
       "      <td>...</td>\n",
       "    </tr>\n",
       "    <tr>\n",
       "      <th>57567</th>\n",
       "      <td>1161106</td>\n",
       "      <td>3</td>\n",
       "      <td>바지</td>\n",
       "      <td>310</td>\n",
       "      <td>기능성 하의</td>\n",
       "      <td>15</td>\n",
       "      <td>여성 사티 팬츠(하의) 4종 시리즈</td>\n",
       "      <td>69슬램</td>\n",
       "      <td>//image.msscdn.net/images/goods_img/20190920/1...</td>\n",
       "      <td>69,000원</td>\n",
       "      <td>20190920</td>\n",
       "      <td>['래쉬팬츠', '레깅스', '엑티브웨어', '여성요가복하의', '여성필라테스하의']</td>\n",
       "      <td>0</td>\n",
       "      <td>1</td>\n",
       "      <td>0</td>\n",
       "      <td>0.0</td>\n",
       "      <td>0</td>\n",
       "      <td>0</td>\n",
       "      <td>0</td>\n",
       "      <td>0</td>\n",
       "      <td>0</td>\n",
       "      <td>0</td>\n",
       "      <td>0</td>\n",
       "      <td>0</td>\n",
       "      <td>0</td>\n",
       "      <td>0</td>\n",
       "    </tr>\n",
       "    <tr>\n",
       "      <th>57579</th>\n",
       "      <td>876594</td>\n",
       "      <td>3</td>\n",
       "      <td>바지</td>\n",
       "      <td>310</td>\n",
       "      <td>기능성 하의</td>\n",
       "      <td>15</td>\n",
       "      <td>액티브웨어 레깅스 센느 네이비</td>\n",
       "      <td>밸롭</td>\n",
       "      <td>//image.msscdn.net/images/goods_img/20181010/8...</td>\n",
       "      <td>39,000원</td>\n",
       "      <td>20181010</td>\n",
       "      <td>[]</td>\n",
       "      <td>0</td>\n",
       "      <td>1</td>\n",
       "      <td>0</td>\n",
       "      <td>0.0</td>\n",
       "      <td>0</td>\n",
       "      <td>0</td>\n",
       "      <td>0</td>\n",
       "      <td>0</td>\n",
       "      <td>0</td>\n",
       "      <td>0</td>\n",
       "      <td>0</td>\n",
       "      <td>0</td>\n",
       "      <td>0</td>\n",
       "      <td>0</td>\n",
       "    </tr>\n",
       "    <tr>\n",
       "      <th>57583</th>\n",
       "      <td>1614139</td>\n",
       "      <td>3</td>\n",
       "      <td>바지</td>\n",
       "      <td>310</td>\n",
       "      <td>기능성 하의</td>\n",
       "      <td>15</td>\n",
       "      <td>CLWP7004 7부 팬츠 마젠타</td>\n",
       "      <td>씨엘코코</td>\n",
       "      <td>//image.msscdn.net/images/goods_img/20200921/1...</td>\n",
       "      <td>13,900원</td>\n",
       "      <td>20200921</td>\n",
       "      <td>['요가복', '필라테스복', '레깅스', '요가복상의', '요가복하의', '요가복...</td>\n",
       "      <td>0</td>\n",
       "      <td>1</td>\n",
       "      <td>0</td>\n",
       "      <td>0.0</td>\n",
       "      <td>0</td>\n",
       "      <td>0</td>\n",
       "      <td>0</td>\n",
       "      <td>0</td>\n",
       "      <td>0</td>\n",
       "      <td>0</td>\n",
       "      <td>0</td>\n",
       "      <td>0</td>\n",
       "      <td>0</td>\n",
       "      <td>0</td>\n",
       "    </tr>\n",
       "    <tr>\n",
       "      <th>57592</th>\n",
       "      <td>1441580</td>\n",
       "      <td>3</td>\n",
       "      <td>바지</td>\n",
       "      <td>310</td>\n",
       "      <td>기능성 하의</td>\n",
       "      <td>15</td>\n",
       "      <td>AW01PL04 아이스 숏 레깅스_다크 그레이</td>\n",
       "      <td>애스플래폼</td>\n",
       "      <td>//image.msscdn.net/images/goods_img/20200512/1...</td>\n",
       "      <td>39,000원</td>\n",
       "      <td>20200512</td>\n",
       "      <td>['그레이레깅스', '레깅스반바지', '반바지레깅스', '숏레깅스', '아이스레깅스...</td>\n",
       "      <td>0</td>\n",
       "      <td>1</td>\n",
       "      <td>0</td>\n",
       "      <td>0.0</td>\n",
       "      <td>0</td>\n",
       "      <td>1</td>\n",
       "      <td>1</td>\n",
       "      <td>5</td>\n",
       "      <td>2</td>\n",
       "      <td>2</td>\n",
       "      <td>0</td>\n",
       "      <td>1</td>\n",
       "      <td>0</td>\n",
       "      <td>0</td>\n",
       "    </tr>\n",
       "    <tr>\n",
       "      <th>57593</th>\n",
       "      <td>1613590</td>\n",
       "      <td>3</td>\n",
       "      <td>바지</td>\n",
       "      <td>310</td>\n",
       "      <td>기능성 하의</td>\n",
       "      <td>15</td>\n",
       "      <td>CLWP7006 메쉬 배색 7부 민트</td>\n",
       "      <td>씨엘코코</td>\n",
       "      <td>//image.msscdn.net/images/goods_img/20200921/1...</td>\n",
       "      <td>13,900원</td>\n",
       "      <td>20200921</td>\n",
       "      <td>['요가복', '필라테스복', '레깅스', '요가복상의', '요가복하의', '요가복...</td>\n",
       "      <td>0</td>\n",
       "      <td>1</td>\n",
       "      <td>0</td>\n",
       "      <td>0.0</td>\n",
       "      <td>0</td>\n",
       "      <td>0</td>\n",
       "      <td>0</td>\n",
       "      <td>0</td>\n",
       "      <td>0</td>\n",
       "      <td>0</td>\n",
       "      <td>0</td>\n",
       "      <td>0</td>\n",
       "      <td>0</td>\n",
       "      <td>0</td>\n",
       "    </tr>\n",
       "  </tbody>\n",
       "</table>\n",
       "<p>2234 rows × 26 columns</p>\n",
       "</div>"
      ],
      "text/plain": [
       "       clothId  largeCategory largeCategoryName smallCategory  \\\n",
       "32     1321523              3                바지           310   \n",
       "34     1667376              3                바지           310   \n",
       "138    2316809              3                바지           310   \n",
       "146    2185722              3                바지           310   \n",
       "161    2301479              3                바지           310   \n",
       "...        ...            ...               ...           ...   \n",
       "57567  1161106              3                바지           310   \n",
       "57579   876594              3                바지           310   \n",
       "57583  1614139              3                바지           310   \n",
       "57592  1441580              3                바지           310   \n",
       "57593  1613590              3                바지           310   \n",
       "\n",
       "      smallCategoryName  colorNo                              clothName  \\\n",
       "32               기능성 하의        3  여성 요가복 DEVI-B0036-그레이 필라테스 레깅스 9부 베이직   \n",
       "34               기능성 하의        3    여성 사이드 스타프린트 레깅스 GREY / FF0WLG01F87   \n",
       "138              기능성 하의        3           기모_CREORA & CELLA LEGGINS GR   \n",
       "146              기능성 하의        3           RIF (리프) 여성 본딩 타이즈 팬츠_Ciment   \n",
       "161              기능성 하의        3         TS 럭스 하이라이즈 레깅스 - 그레이 / HB2028   \n",
       "...                 ...      ...                                    ...   \n",
       "57567            기능성 하의       15                    여성 사티 팬츠(하의) 4종 시리즈   \n",
       "57579            기능성 하의       15                       액티브웨어 레깅스 센느 네이비   \n",
       "57583            기능성 하의       15                     CLWP7004 7부 팬츠 마젠타   \n",
       "57592            기능성 하의       15              AW01PL04 아이스 숏 레깅스_다크 그레이   \n",
       "57593            기능성 하의       15                   CLWP7006 메쉬 배색 7부 민트   \n",
       "\n",
       "         brand                                              image clothPrice  \\\n",
       "32        데비웨어  //image.msscdn.net/images/goods_img/20200225/1...    24,000원   \n",
       "34        피피라핀  //image.msscdn.net/images/goods_img/20201028/1...    29,900원   \n",
       "138    아이코노그라피  //image.msscdn.net/images/goods_img/20220120/2...    19,800원   \n",
       "146        아이더  //image.msscdn.net/images/goods_img/20211019/2...   129,000원   \n",
       "161         리복  //image.msscdn.net/images/goods_img/20220111/2...    44,900원   \n",
       "...        ...                                                ...        ...   \n",
       "57567     69슬램  //image.msscdn.net/images/goods_img/20190920/1...    69,000원   \n",
       "57579       밸롭  //image.msscdn.net/images/goods_img/20181010/8...    39,000원   \n",
       "57583     씨엘코코  //image.msscdn.net/images/goods_img/20200921/1...    13,900원   \n",
       "57592    애스플래폼  //image.msscdn.net/images/goods_img/20200512/1...    39,000원   \n",
       "57593     씨엘코코  //image.msscdn.net/images/goods_img/20200921/1...    13,900원   \n",
       "\n",
       "           date                                           hashtags  \\\n",
       "32     20200225  ['여성요가복', '요가복', '필라테스', '필라테스복', '필라테스운동복', '...   \n",
       "34     20201028       ['레깅스', '여성레깅스', '겨울레깅스', '여자레깅스', '케주얼레깅스']   \n",
       "138    20220120  ['레깅스추천', '레깅스', '여성레깅스', '레깅스컬렉션', '레깅스팬츠', '...   \n",
       "146    20211019                                                 []   \n",
       "161    20220111  ['타이츠', '하이웨스트레깅스', '하이웨스트타이츠', '요가', '필라테스', ...   \n",
       "...         ...                                                ...   \n",
       "57567  20190920    ['래쉬팬츠', '레깅스', '엑티브웨어', '여성요가복하의', '여성필라테스하의']   \n",
       "57579  20181010                                                 []   \n",
       "57583  20200921  ['요가복', '필라테스복', '레깅스', '요가복상의', '요가복하의', '요가복...   \n",
       "57592  20200512  ['그레이레깅스', '레깅스반바지', '반바지레깅스', '숏레깅스', '아이스레깅스...   \n",
       "57593  20200921  ['요가복', '필라테스복', '레깅스', '요가복상의', '요가복하의', '요가복...   \n",
       "\n",
       "       clothSexMen  clothSexWomen  clothSexCommon  clothRate clothReviewNo  \\\n",
       "32               0              1               0        0.0             0   \n",
       "34               0              1               0        4.0             2   \n",
       "138              0              1               0        0.0             0   \n",
       "146              0              1               0        0.0             0   \n",
       "161              0              1               0        0.0             0   \n",
       "...            ...            ...             ...        ...           ...   \n",
       "57567            0              1               0        0.0             0   \n",
       "57579            0              1               0        0.0             0   \n",
       "57583            0              1               0        0.0             0   \n",
       "57592            0              1               0        0.0             0   \n",
       "57593            0              1               0        0.0             0   \n",
       "\n",
       "       fit  feeling  stretch  visibility  thickness  seasonSpring  \\\n",
       "32       0        0        0           0          0             0   \n",
       "34       1        3        5           5          3             1   \n",
       "138      1        1        5           5          3             1   \n",
       "146      0        0        0           0          0             0   \n",
       "161      0        0        0           0          0             0   \n",
       "...    ...      ...      ...         ...        ...           ...   \n",
       "57567    0        0        0           0          0             0   \n",
       "57579    0        0        0           0          0             0   \n",
       "57583    0        0        0           0          0             0   \n",
       "57592    1        1        5           2          2             0   \n",
       "57593    0        0        0           0          0             0   \n",
       "\n",
       "       seasonSummer  seasonFall  seasonWinter  \n",
       "32                0           0             0  \n",
       "34                0           1             1  \n",
       "138               0           1             1  \n",
       "146               0           0             0  \n",
       "161               0           0             0  \n",
       "...             ...         ...           ...  \n",
       "57567             0           0             0  \n",
       "57579             0           0             0  \n",
       "57583             0           0             0  \n",
       "57592             1           0             0  \n",
       "57593             0           0             0  \n",
       "\n",
       "[2234 rows x 26 columns]"
      ]
     },
     "execution_count": 130,
     "metadata": {},
     "output_type": "execute_result"
    }
   ],
   "source": [
    "pants[pants['smallCategoryName']=='기능성 하의']"
   ]
  },
  {
   "cell_type": "code",
   "execution_count": 131,
   "id": "3da6233a",
   "metadata": {},
   "outputs": [],
   "source": [
    "pants.loc[pants.smallCategoryName=='기능성 하의', ('smallCategoryName')] = '레깅스'\n",
    "pants.loc[pants.smallCategoryName=='기능성 하의', ('smallCategory')] = '305'"
   ]
  },
  {
   "cell_type": "code",
   "execution_count": 132,
   "id": "b0b84d9b",
   "metadata": {},
   "outputs": [],
   "source": [
    "pants['smallCategory'] = pants['smallCategory'].astype('int')"
   ]
  },
  {
   "cell_type": "markdown",
   "id": "de58c6be",
   "metadata": {},
   "source": [
    "### smallCategory 원핫인코딩 변환"
   ]
  },
  {
   "cell_type": "code",
   "execution_count": 133,
   "id": "1a78b2d7",
   "metadata": {},
   "outputs": [],
   "source": [
    "pants.insert(4, \"smallCategoryOthers\", pants['smallCategory'], True)\n",
    "pants.insert(4, \"smallCategoryJumpsuit\", pants['smallCategory'], True)\n",
    "pants.insert(4, \"smallCategoryLeggings\", pants['smallCategory'], True)\n",
    "pants.insert(4, \"smallCategoryShortpants\", pants['smallCategory'], True)\n",
    "pants.insert(4, \"smallCategoryJoggerpants\", pants['smallCategory'], True)\n",
    "pants.insert(4, \"smallCategorySlacks\", pants['smallCategory'], True)\n",
    "pants.insert(4, \"smallCategoryCottonpants\", pants['smallCategory'], True)\n",
    "pants.insert(4, \"smallCategoryDenimpants\", pants['smallCategory'], True)"
   ]
  },
  {
   "cell_type": "code",
   "execution_count": 134,
   "id": "55e45203",
   "metadata": {},
   "outputs": [],
   "source": [
    "pants['smallCategoryDenimpants'] = pants['smallCategoryDenimpants'].apply(lambda x: 1 if x == 302 else 0)\n",
    "pants['smallCategoryCottonpants'] = pants['smallCategoryCottonpants'].apply(lambda x: 1 if x == 307 else 0)\n",
    "pants['smallCategorySlacks'] = pants['smallCategorySlacks'].apply(lambda x: 1 if x == 308 else 0)\n",
    "pants['smallCategoryJoggerpants'] = pants['smallCategoryJoggerpants'].apply(lambda x: 1 if x == 304 else 0)\n",
    "pants['smallCategoryShortpants'] = pants['smallCategoryShortpants'].apply(lambda x: 1 if x == 309 else 0)\n",
    "pants['smallCategoryLeggings'] = pants['smallCategoryLeggings'].apply(lambda x: 1 if x == 305 else 0)\n",
    "pants['smallCategoryJumpsuit'] = pants['smallCategoryJumpsuit'].apply(lambda x: 1 if x == 310 else 0)\n",
    "pants['smallCategoryOthers'] = pants['smallCategoryOthers'].apply(lambda x: 1 if x == 306 else 0)"
   ]
  },
  {
   "cell_type": "code",
   "execution_count": 135,
   "id": "a26b3ae3",
   "metadata": {},
   "outputs": [],
   "source": [
    "pants = pants.drop('smallCategory', axis=1)"
   ]
  },
  {
   "cell_type": "markdown",
   "id": "4394dbb2",
   "metadata": {},
   "source": [
    " "
   ]
  },
  {
   "cell_type": "code",
   "execution_count": 136,
   "id": "ddd8839e",
   "metadata": {
    "scrolled": true
   },
   "outputs": [
    {
     "data": {
      "text/plain": [
       "Index(['clothId', 'largeCategory', 'largeCategoryName',\n",
       "       'smallCategoryDenimpants', 'smallCategoryCottonpants',\n",
       "       'smallCategorySlacks', 'smallCategoryJoggerpants',\n",
       "       'smallCategoryShortpants', 'smallCategoryLeggings',\n",
       "       'smallCategoryJumpsuit', 'smallCategoryOthers', 'smallCategoryName',\n",
       "       'colorNo', 'clothName', 'brand', 'image', 'clothPrice', 'date',\n",
       "       'hashtags', 'clothSexMen', 'clothSexWomen', 'clothSexCommon',\n",
       "       'clothRate', 'clothReviewNo', 'fit', 'feeling', 'stretch', 'visibility',\n",
       "       'thickness', 'seasonSpring', 'seasonSummer', 'seasonFall',\n",
       "       'seasonWinter'],\n",
       "      dtype='object')"
      ]
     },
     "execution_count": 136,
     "metadata": {},
     "output_type": "execute_result"
    }
   ],
   "source": [
    "pants.columns"
   ]
  },
  {
   "cell_type": "code",
   "execution_count": 137,
   "id": "33824041",
   "metadata": {},
   "outputs": [
    {
     "name": "stdout",
     "output_type": "stream",
     "text": [
      "0    47646\n",
      "1     9954\n",
      "Name: smallCategoryDenimpants, dtype: int64\n",
      "0    49928\n",
      "1     7672\n",
      "Name: smallCategoryCottonpants, dtype: int64\n",
      "0    50396\n",
      "1     7204\n",
      "Name: smallCategorySlacks, dtype: int64\n",
      "0    42486\n",
      "1    15114\n",
      "Name: smallCategoryJoggerpants, dtype: int64\n",
      "0    47026\n",
      "1    10574\n",
      "Name: smallCategoryShortpants, dtype: int64\n",
      "0    57578\n",
      "1       22\n",
      "Name: smallCategoryLeggings, dtype: int64\n",
      "0    54730\n",
      "1     2870\n",
      "Name: smallCategoryJumpsuit, dtype: int64\n",
      "0    53410\n",
      "1     4190\n",
      "Name: smallCategoryOthers, dtype: int64\n",
      "57600\n",
      "(57600, 33)\n"
     ]
    }
   ],
   "source": [
    "# smallCategory 모든 1의 값의 개수 == 행의 개수\n",
    "\n",
    "num = 0\n",
    "for i in range(3, 11):\n",
    "    num += pants[pants.columns[i]].value_counts()[1]\n",
    "    print(pants[pants.columns[i]].value_counts())\n",
    "print(num)\n",
    "print(pants.shape)"
   ]
  },
  {
   "cell_type": "markdown",
   "id": "0511a175",
   "metadata": {},
   "source": [
    "### clothSexCommon 변환"
   ]
  },
  {
   "cell_type": "code",
   "execution_count": 138,
   "id": "4a95fb46",
   "metadata": {
    "scrolled": true
   },
   "outputs": [],
   "source": [
    "pants['clothSexMen'] = pants.apply(lambda x: 1 if x['clothSexCommon'] == 1 else x['clothSexMen'], axis=1)\n",
    "pants['clothSexWomen'] = pants.apply(lambda x: 1 if x['clothSexCommon'] == 1 else x['clothSexWomen'], axis=1)"
   ]
  },
  {
   "cell_type": "code",
   "execution_count": 139,
   "id": "dac1d62a",
   "metadata": {},
   "outputs": [],
   "source": [
    "pants = pants.drop('clothSexCommon', axis=1)"
   ]
  },
  {
   "cell_type": "code",
   "execution_count": 140,
   "id": "6c1b7ea3",
   "metadata": {
    "scrolled": false
   },
   "outputs": [
    {
     "data": {
      "text/plain": [
       "Index(['clothId', 'largeCategory', 'largeCategoryName',\n",
       "       'smallCategoryDenimpants', 'smallCategoryCottonpants',\n",
       "       'smallCategorySlacks', 'smallCategoryJoggerpants',\n",
       "       'smallCategoryShortpants', 'smallCategoryLeggings',\n",
       "       'smallCategoryJumpsuit', 'smallCategoryOthers', 'smallCategoryName',\n",
       "       'colorNo', 'clothName', 'brand', 'image', 'clothPrice', 'date',\n",
       "       'hashtags', 'clothSexMen', 'clothSexWomen', 'clothRate',\n",
       "       'clothReviewNo', 'fit', 'feeling', 'stretch', 'visibility', 'thickness',\n",
       "       'seasonSpring', 'seasonSummer', 'seasonFall', 'seasonWinter'],\n",
       "      dtype='object')"
      ]
     },
     "execution_count": 140,
     "metadata": {},
     "output_type": "execute_result"
    }
   ],
   "source": [
    "pants.columns"
   ]
  },
  {
   "cell_type": "code",
   "execution_count": 141,
   "id": "fe282884",
   "metadata": {},
   "outputs": [],
   "source": [
    "pants['clothSexMen'] = pants.apply(lambda x: 1 if (x['clothSexMen']==0 and x['clothSexWomen']==0) else x['clothSexMen'], axis=1)\n",
    "pants['clothSexWomen'] = pants.apply(lambda x: 1 if (x['clothSexMen']==0 and x['clothSexWomen']==0) else x['clothSexWomen'], axis=1)"
   ]
  },
  {
   "cell_type": "code",
   "execution_count": 142,
   "id": "e9613676",
   "metadata": {
    "scrolled": true
   },
   "outputs": [
    {
     "name": "stdout",
     "output_type": "stream",
     "text": [
      "1    38914\n",
      "0    18686\n",
      "Name: clothSexMen, dtype: int64\n",
      "0    37198\n",
      "1    20402\n",
      "Name: clothSexWomen, dtype: int64\n",
      "(57600, 32)\n"
     ]
    }
   ],
   "source": [
    "print(pants['clothSexMen'].value_counts())\n",
    "print(pants['clothSexWomen'].value_counts())\n",
    "print(pants.shape)"
   ]
  },
  {
   "cell_type": "markdown",
   "id": "2fd30bbe",
   "metadata": {},
   "source": [
    "### color 원핫인코딩 변환"
   ]
  },
  {
   "cell_type": "markdown",
   "id": "20d9bca8",
   "metadata": {},
   "source": [
    "#### 바지\n",
    "- white (1)\n",
    "- grey (13, 24, 3, 25)\n",
    "- black (2)\n",
    "- red (51, 11, 49)\n",
    "- pink (50, 47, 10, 45, 48, 55)\n",
    "- orange (52, 54, 53, 46, 12)\n",
    "- ivory (23)\n",
    "- yellow (44, 9, 43, 14)\n",
    "- green (33, 31, 32, 6, 34, 30, 35)\n",
    "- blue (37, 38, 7, 36)\n",
    "- purple (41, 39, 8, 40)\n",
    "- brown (4, 56, 27)\n",
    "- beige (28, 26, 29, 5)\n",
    "- jean (16, 57, 58, 59, 60)\n",
    "- pattern (19, 20, 18, 61, 65, 62, 63, 69, 66)\n",
    "- others (71, 67, 70, 17, 21, 68, 22, 15)"
   ]
  },
  {
   "cell_type": "code",
   "execution_count": 143,
   "id": "7ae88345",
   "metadata": {},
   "outputs": [],
   "source": [
    "pants.insert(13, \"colorOthers\", pants['colorNo'], True)\n",
    "pants.insert(13, \"colorPattern\", pants['colorNo'], True)\n",
    "pants.insert(13, \"colorJean\", pants['colorNo'], True)\n",
    "pants.insert(13, \"colorBeige\", pants['colorNo'], True)\n",
    "pants.insert(13, \"colorBrown\", pants['colorNo'], True)\n",
    "pants.insert(13, \"colorPurple\", pants['colorNo'], True)\n",
    "pants.insert(13, \"colorBlue\", pants['colorNo'], True)\n",
    "pants.insert(13, \"colorGreen\", pants['colorNo'], True)\n",
    "pants.insert(13, \"colorYellow\", pants['colorNo'], True)\n",
    "pants.insert(13, \"colorIvory\", pants['colorNo'], True)\n",
    "pants.insert(13, \"colorOrange\", pants['colorNo'], True)\n",
    "pants.insert(13, \"colorPink\", pants['colorNo'], True)\n",
    "pants.insert(13, \"colorRed\", pants['colorNo'], True)\n",
    "pants.insert(13, \"colorBlack\", pants['colorNo'], True)\n",
    "pants.insert(13, \"colorGrey\", pants['colorNo'], True)\n",
    "pants.insert(13, \"colorWhite\", pants['colorNo'], True)"
   ]
  },
  {
   "cell_type": "code",
   "execution_count": 144,
   "id": "e0c36387",
   "metadata": {},
   "outputs": [],
   "source": [
    "pants['colorWhite'] = pants['colorWhite'].apply(lambda x: 1 if x == 1 else 0)\n",
    "pants['colorGrey'] = pants['colorGrey'].apply(lambda x: 1 if x in [13, 24, 3, 25] else 0)\n",
    "pants['colorBlack'] = pants['colorBlack'].apply(lambda x: 1 if x == 2 else 0)\n",
    "pants['colorRed'] = pants['colorRed'].apply(lambda x: 1 if x in [51, 11, 49] else 0)\n",
    "pants['colorPink'] = pants['colorPink'].apply(lambda x: 1 if x in [50, 47, 10, 45, 48, 55] else 0)\n",
    "pants['colorOrange'] = pants['colorOrange'].apply(lambda x: 1 if x in [52, 54, 53, 46, 12] else 0)\n",
    "pants['colorIvory'] = pants['colorIvory'].apply(lambda x: 1 if x == 23 else 0)\n",
    "pants['colorYellow'] = pants['colorYellow'].apply(lambda x: 1 if x in [44, 9, 43, 14] else 0)\n",
    "pants['colorGreen'] = pants['colorGreen'].apply(lambda x: 1 if x in [33, 31, 32, 6, 34, 30, 35] else 0)\n",
    "pants['colorBlue'] = pants['colorBlue'].apply(lambda x: 1 if x in [37, 38, 7, 36] else 0)\n",
    "pants['colorPurple'] = pants['colorPurple'].apply(lambda x: 1 if x in [41, 39, 8, 40] else 0)\n",
    "pants['colorBrown'] = pants['colorBrown'].apply(lambda x: 1 if x in [4, 56, 27] else 0)\n",
    "pants['colorBeige'] = pants['colorBeige'].apply(lambda x: 1 if x in [28, 26, 29, 5] else 0)\n",
    "pants['colorJean'] = pants['colorJean'].apply(lambda x: 1 if x in [16, 57, 58, 59, 60] else 0)\n",
    "pants['colorPattern'] = pants['colorPattern'].apply(lambda x: 1 if x in [19, 20, 18, 61, 65, 62, 63, 69, 66] else 0)\n",
    "pants['colorOthers'] = pants['colorOthers'].apply(lambda x: 1 if x in [71, 67, 70, 17, 21, 68, 22, 15] else 0)"
   ]
  },
  {
   "cell_type": "code",
   "execution_count": 145,
   "id": "a4fc5a75",
   "metadata": {
    "scrolled": false
   },
   "outputs": [
    {
     "name": "stdout",
     "output_type": "stream",
     "text": [
      "Index(['clothId', 'largeCategory', 'largeCategoryName',\n",
      "       'smallCategoryDenimpants', 'smallCategoryCottonpants',\n",
      "       'smallCategorySlacks', 'smallCategoryJoggerpants',\n",
      "       'smallCategoryShortpants', 'smallCategoryLeggings',\n",
      "       'smallCategoryJumpsuit', 'smallCategoryOthers', 'smallCategoryName',\n",
      "       'colorNo', 'colorWhite', 'colorGrey', 'colorBlack', 'colorRed',\n",
      "       'colorPink', 'colorOrange', 'colorIvory', 'colorYellow', 'colorGreen',\n",
      "       'colorBlue', 'colorPurple', 'colorBrown', 'colorBeige', 'colorJean',\n",
      "       'colorPattern', 'colorOthers', 'clothName', 'brand', 'image',\n",
      "       'clothPrice', 'date', 'hashtags', 'clothSexMen', 'clothSexWomen',\n",
      "       'clothRate', 'clothReviewNo', 'fit', 'feeling', 'stretch', 'visibility',\n",
      "       'thickness', 'seasonSpring', 'seasonSummer', 'seasonFall',\n",
      "       'seasonWinter'],\n",
      "      dtype='object')\n"
     ]
    }
   ],
   "source": [
    "print(pants.columns)"
   ]
  },
  {
   "cell_type": "code",
   "execution_count": 146,
   "id": "86771783",
   "metadata": {},
   "outputs": [],
   "source": [
    "pants = pants.drop('colorNo', axis=1)"
   ]
  },
  {
   "cell_type": "code",
   "execution_count": 147,
   "id": "1ba370b4",
   "metadata": {},
   "outputs": [
    {
     "name": "stdout",
     "output_type": "stream",
     "text": [
      "0    55827\n",
      "1     1773\n",
      "Name: colorWhite, dtype: int64\n",
      "0    49481\n",
      "1     8119\n",
      "Name: colorGrey, dtype: int64\n",
      "0    42691\n",
      "1    14909\n",
      "Name: colorBlack, dtype: int64\n",
      "0    56943\n",
      "1      657\n",
      "Name: colorRed, dtype: int64\n",
      "0    56783\n",
      "1      817\n",
      "Name: colorPink, dtype: int64\n",
      "0    57163\n",
      "1      437\n",
      "Name: colorOrange, dtype: int64\n",
      "0    54887\n",
      "1     2713\n",
      "Name: colorIvory, dtype: int64\n",
      "0    57034\n",
      "1      566\n",
      "Name: colorYellow, dtype: int64\n",
      "0    53309\n",
      "1     4291\n",
      "Name: colorGreen, dtype: int64\n",
      "0    51080\n",
      "1     6520\n",
      "Name: colorBlue, dtype: int64\n",
      "0    56953\n",
      "1      647\n",
      "Name: colorPurple, dtype: int64\n",
      "0    55964\n",
      "1     1636\n",
      "Name: colorBrown, dtype: int64\n",
      "0    52433\n",
      "1     5167\n",
      "Name: colorBeige, dtype: int64\n",
      "0    51267\n",
      "1     6333\n",
      "Name: colorJean, dtype: int64\n",
      "0    57187\n",
      "1      413\n",
      "Name: colorPattern, dtype: int64\n",
      "0    54998\n",
      "1     2602\n",
      "Name: colorOthers, dtype: int64\n",
      "57600\n",
      "(57600, 47)\n"
     ]
    }
   ],
   "source": [
    "# color도 모든 1의 값의 개수 == 행의 개수\n",
    "num = 0\n",
    "for i in range(12, 28):\n",
    "    num += pants[pants.columns[i]].value_counts()[1]\n",
    "    print(pants[pants.columns[i]].value_counts())\n",
    "print(num)\n",
    "print(pants.shape)"
   ]
  },
  {
   "cell_type": "code",
   "execution_count": 148,
   "id": "75f88aa1",
   "metadata": {
    "scrolled": true
   },
   "outputs": [],
   "source": [
    "pants.insert(28, \"colorName\", True)"
   ]
  },
  {
   "cell_type": "code",
   "execution_count": 149,
   "id": "c08e2fe6",
   "metadata": {},
   "outputs": [],
   "source": [
    "pants['colorName'] = pants.apply(lambda x: 'white' if x['colorWhite']==1 else x['colorName'], axis=1)\n",
    "pants['colorName'] = pants.apply(lambda x: 'grey' if x['colorGrey']==1 else x['colorName'], axis=1)\n",
    "pants['colorName'] = pants.apply(lambda x: 'black' if x['colorBlack']==1 else x['colorName'], axis=1)\n",
    "pants['colorName'] = pants.apply(lambda x: 'red' if x['colorRed']==1 else x['colorName'], axis=1)\n",
    "pants['colorName'] = pants.apply(lambda x: 'pink' if x['colorPink']==1 else x['colorName'], axis=1)\n",
    "pants['colorName'] = pants.apply(lambda x: 'orange' if x['colorOrange']==1 else x['colorName'], axis=1)\n",
    "pants['colorName'] = pants.apply(lambda x: 'ivory' if x['colorIvory']==1 else x['colorName'], axis=1)\n",
    "pants['colorName'] = pants.apply(lambda x: 'yellow' if x['colorYellow']==1 else x['colorName'], axis=1)\n",
    "pants['colorName'] = pants.apply(lambda x: 'green' if x['colorGreen']==1 else x['colorName'], axis=1)\n",
    "pants['colorName'] = pants.apply(lambda x: 'blue' if x['colorBlue']==1 else x['colorName'], axis=1)\n",
    "pants['colorName'] = pants.apply(lambda x: 'purple' if x['colorPurple']==1 else x['colorName'], axis=1)\n",
    "pants['colorName'] = pants.apply(lambda x: 'brown' if x['colorBrown']==1 else x['colorName'], axis=1)\n",
    "pants['colorName'] = pants.apply(lambda x: 'beige' if x['colorBeige']==1 else x['colorName'], axis=1)\n",
    "pants['colorName'] = pants.apply(lambda x: 'jean' if x['colorJean']==1 else x['colorName'], axis=1)\n",
    "pants['colorName'] = pants.apply(lambda x: 'pattern' if x['colorPattern']==1 else x['colorName'], axis=1)\n",
    "pants['colorName'] = pants.apply(lambda x: 'others' if x['colorOthers']==1 else x['colorName'], axis=1)"
   ]
  },
  {
   "cell_type": "code",
   "execution_count": 150,
   "id": "58453885",
   "metadata": {
    "scrolled": false
   },
   "outputs": [
    {
     "data": {
      "text/plain": [
       "black      14909\n",
       "grey        8119\n",
       "blue        6520\n",
       "jean        6333\n",
       "beige       5167\n",
       "green       4291\n",
       "ivory       2713\n",
       "others      2602\n",
       "white       1773\n",
       "brown       1636\n",
       "pink         817\n",
       "red          657\n",
       "purple       647\n",
       "yellow       566\n",
       "orange       437\n",
       "pattern      413\n",
       "Name: colorName, dtype: int64"
      ]
     },
     "execution_count": 150,
     "metadata": {},
     "output_type": "execute_result"
    }
   ],
   "source": [
    "pants['colorName'].value_counts()"
   ]
  },
  {
   "cell_type": "markdown",
   "id": "183314d8",
   "metadata": {},
   "source": [
    "### Price 전처리"
   ]
  },
  {
   "cell_type": "code",
   "execution_count": 151,
   "id": "6862473c",
   "metadata": {
    "scrolled": true
   },
   "outputs": [
    {
     "data": {
      "text/plain": [
       "0        130000\n",
       "1         69000\n",
       "2        199000\n",
       "3         95000\n",
       "4         69000\n",
       "          ...  \n",
       "57595    149000\n",
       "57596     70500\n",
       "57597     69000\n",
       "57598    110000\n",
       "57599    171000\n",
       "Name: clothPrice, Length: 57600, dtype: object"
      ]
     },
     "execution_count": 151,
     "metadata": {},
     "output_type": "execute_result"
    }
   ],
   "source": [
    "pants['clothPrice'] = pants['clothPrice'].apply(lambda x: x.replace(\",\", \"\"))\n",
    "pants['clothPrice'] = pants['clothPrice'].apply(lambda x: x.replace(\"원\", \"\"))\n",
    "pants['clothPrice']"
   ]
  },
  {
   "cell_type": "code",
   "execution_count": 152,
   "id": "8d43624f",
   "metadata": {},
   "outputs": [],
   "source": [
    "pants['clothPrice'] = pants['clothPrice'].astype('int')"
   ]
  },
  {
   "cell_type": "code",
   "execution_count": 153,
   "id": "3b6e1d1b",
   "metadata": {
    "scrolled": true
   },
   "outputs": [
    {
     "data": {
      "text/plain": [
       "0        0\n",
       "1        0\n",
       "2        0\n",
       "3        0\n",
       "4        0\n",
       "        ..\n",
       "57595    0\n",
       "57596    0\n",
       "57597    0\n",
       "57598    0\n",
       "57599    0\n",
       "Name: clothReviewNo, Length: 57600, dtype: int32"
      ]
     },
     "execution_count": 153,
     "metadata": {},
     "output_type": "execute_result"
    }
   ],
   "source": [
    "pants['clothReviewNo'] = pants['clothReviewNo'].apply(lambda x: x.replace(\",\", \"\"))\n",
    "pants['clothReviewNo'] = pants['clothReviewNo'].astype('int')\n",
    "pants['clothReviewNo']"
   ]
  },
  {
   "cell_type": "markdown",
   "id": "6d377715",
   "metadata": {},
   "source": [
    "### Index를 NewGoodsNo로 변경"
   ]
  },
  {
   "cell_type": "code",
   "execution_count": 154,
   "id": "8cc3861f",
   "metadata": {
    "scrolled": false
   },
   "outputs": [
    {
     "data": {
      "text/html": [
       "<div>\n",
       "<style scoped>\n",
       "    .dataframe tbody tr th:only-of-type {\n",
       "        vertical-align: middle;\n",
       "    }\n",
       "\n",
       "    .dataframe tbody tr th {\n",
       "        vertical-align: top;\n",
       "    }\n",
       "\n",
       "    .dataframe thead th {\n",
       "        text-align: right;\n",
       "    }\n",
       "</style>\n",
       "<table border=\"1\" class=\"dataframe\">\n",
       "  <thead>\n",
       "    <tr style=\"text-align: right;\">\n",
       "      <th></th>\n",
       "      <th>goodsNo</th>\n",
       "      <th>goodsSize</th>\n",
       "      <th>newGoodsNo</th>\n",
       "      <th>index</th>\n",
       "      <th>reviewNoun</th>\n",
       "      <th>userHeight</th>\n",
       "      <th>userWeight</th>\n",
       "      <th>userSexMen</th>\n",
       "      <th>userSexWomen</th>\n",
       "      <th>month1</th>\n",
       "      <th>month2</th>\n",
       "      <th>month3</th>\n",
       "      <th>month4</th>\n",
       "      <th>month5</th>\n",
       "      <th>month6</th>\n",
       "      <th>month7</th>\n",
       "      <th>month8</th>\n",
       "      <th>month9</th>\n",
       "      <th>month10</th>\n",
       "      <th>month11</th>\n",
       "      <th>month12</th>\n",
       "    </tr>\n",
       "  </thead>\n",
       "  <tbody>\n",
       "    <tr>\n",
       "      <th>0</th>\n",
       "      <td>25868</td>\n",
       "      <td>28/28</td>\n",
       "      <td>258680052215</td>\n",
       "      <td>52215</td>\n",
       "      <td>[{'text': '사이즈', 'value': 32}, {'text': '핏', '...</td>\n",
       "      <td>167.833333</td>\n",
       "      <td>54.333333</td>\n",
       "      <td>0.666667</td>\n",
       "      <td>0.333333</td>\n",
       "      <td>0</td>\n",
       "      <td>0</td>\n",
       "      <td>1</td>\n",
       "      <td>1</td>\n",
       "      <td>0</td>\n",
       "      <td>0</td>\n",
       "      <td>0</td>\n",
       "      <td>0</td>\n",
       "      <td>1</td>\n",
       "      <td>2</td>\n",
       "      <td>1</td>\n",
       "      <td>0</td>\n",
       "    </tr>\n",
       "    <tr>\n",
       "      <th>1</th>\n",
       "      <td>25868</td>\n",
       "      <td>28/30</td>\n",
       "      <td>258680052218</td>\n",
       "      <td>52218</td>\n",
       "      <td>[{'text': '사이즈', 'value': 32}, {'text': '핏', '...</td>\n",
       "      <td>174.000000</td>\n",
       "      <td>53.000000</td>\n",
       "      <td>1.000000</td>\n",
       "      <td>0.000000</td>\n",
       "      <td>0</td>\n",
       "      <td>0</td>\n",
       "      <td>0</td>\n",
       "      <td>0</td>\n",
       "      <td>0</td>\n",
       "      <td>0</td>\n",
       "      <td>1</td>\n",
       "      <td>0</td>\n",
       "      <td>0</td>\n",
       "      <td>0</td>\n",
       "      <td>0</td>\n",
       "      <td>0</td>\n",
       "    </tr>\n",
       "    <tr>\n",
       "      <th>2</th>\n",
       "      <td>25868</td>\n",
       "      <td>28/32</td>\n",
       "      <td>258680052204</td>\n",
       "      <td>52204</td>\n",
       "      <td>[{'text': '사이즈', 'value': 32}, {'text': '핏', '...</td>\n",
       "      <td>167.000000</td>\n",
       "      <td>50.000000</td>\n",
       "      <td>0.000000</td>\n",
       "      <td>1.000000</td>\n",
       "      <td>0</td>\n",
       "      <td>0</td>\n",
       "      <td>0</td>\n",
       "      <td>0</td>\n",
       "      <td>0</td>\n",
       "      <td>0</td>\n",
       "      <td>0</td>\n",
       "      <td>0</td>\n",
       "      <td>1</td>\n",
       "      <td>0</td>\n",
       "      <td>0</td>\n",
       "      <td>0</td>\n",
       "    </tr>\n",
       "    <tr>\n",
       "      <th>3</th>\n",
       "      <td>25868</td>\n",
       "      <td>29/28</td>\n",
       "      <td>258680052205</td>\n",
       "      <td>52205</td>\n",
       "      <td>[{'text': '사이즈', 'value': 32}, {'text': '핏', '...</td>\n",
       "      <td>170.222222</td>\n",
       "      <td>63.444444</td>\n",
       "      <td>1.000000</td>\n",
       "      <td>0.000000</td>\n",
       "      <td>0</td>\n",
       "      <td>0</td>\n",
       "      <td>2</td>\n",
       "      <td>0</td>\n",
       "      <td>1</td>\n",
       "      <td>0</td>\n",
       "      <td>1</td>\n",
       "      <td>0</td>\n",
       "      <td>1</td>\n",
       "      <td>2</td>\n",
       "      <td>1</td>\n",
       "      <td>1</td>\n",
       "    </tr>\n",
       "    <tr>\n",
       "      <th>4</th>\n",
       "      <td>25868</td>\n",
       "      <td>29/30</td>\n",
       "      <td>258680052201</td>\n",
       "      <td>52201</td>\n",
       "      <td>[{'text': '사이즈', 'value': 32}, {'text': '핏', '...</td>\n",
       "      <td>174.500000</td>\n",
       "      <td>62.500000</td>\n",
       "      <td>1.000000</td>\n",
       "      <td>0.000000</td>\n",
       "      <td>0</td>\n",
       "      <td>0</td>\n",
       "      <td>0</td>\n",
       "      <td>0</td>\n",
       "      <td>0</td>\n",
       "      <td>0</td>\n",
       "      <td>0</td>\n",
       "      <td>1</td>\n",
       "      <td>0</td>\n",
       "      <td>1</td>\n",
       "      <td>0</td>\n",
       "      <td>0</td>\n",
       "    </tr>\n",
       "    <tr>\n",
       "      <th>...</th>\n",
       "      <td>...</td>\n",
       "      <td>...</td>\n",
       "      <td>...</td>\n",
       "      <td>...</td>\n",
       "      <td>...</td>\n",
       "      <td>...</td>\n",
       "      <td>...</td>\n",
       "      <td>...</td>\n",
       "      <td>...</td>\n",
       "      <td>...</td>\n",
       "      <td>...</td>\n",
       "      <td>...</td>\n",
       "      <td>...</td>\n",
       "      <td>...</td>\n",
       "      <td>...</td>\n",
       "      <td>...</td>\n",
       "      <td>...</td>\n",
       "      <td>...</td>\n",
       "      <td>...</td>\n",
       "      <td>...</td>\n",
       "      <td>...</td>\n",
       "    </tr>\n",
       "    <tr>\n",
       "      <th>74132</th>\n",
       "      <td>2407517</td>\n",
       "      <td>30</td>\n",
       "      <td>240751752980</td>\n",
       "      <td>52980</td>\n",
       "      <td>[{'text': '노', 'value': 1}, {'text': '베이지색', '...</td>\n",
       "      <td>172.000000</td>\n",
       "      <td>65.000000</td>\n",
       "      <td>1.000000</td>\n",
       "      <td>0.000000</td>\n",
       "      <td>0</td>\n",
       "      <td>0</td>\n",
       "      <td>1</td>\n",
       "      <td>0</td>\n",
       "      <td>0</td>\n",
       "      <td>0</td>\n",
       "      <td>0</td>\n",
       "      <td>0</td>\n",
       "      <td>0</td>\n",
       "      <td>0</td>\n",
       "      <td>0</td>\n",
       "      <td>0</td>\n",
       "    </tr>\n",
       "    <tr>\n",
       "      <th>74133</th>\n",
       "      <td>2407719</td>\n",
       "      <td>L</td>\n",
       "      <td>240771913225</td>\n",
       "      <td>13225</td>\n",
       "      <td>[{'text': '만족', 'value': 1}, {'text': '지퍼', 'v...</td>\n",
       "      <td>183.000000</td>\n",
       "      <td>78.000000</td>\n",
       "      <td>1.000000</td>\n",
       "      <td>0.000000</td>\n",
       "      <td>0</td>\n",
       "      <td>0</td>\n",
       "      <td>1</td>\n",
       "      <td>0</td>\n",
       "      <td>0</td>\n",
       "      <td>0</td>\n",
       "      <td>0</td>\n",
       "      <td>0</td>\n",
       "      <td>0</td>\n",
       "      <td>0</td>\n",
       "      <td>0</td>\n",
       "      <td>0</td>\n",
       "    </tr>\n",
       "    <tr>\n",
       "      <th>74134</th>\n",
       "      <td>2410780</td>\n",
       "      <td>L</td>\n",
       "      <td>241078053057</td>\n",
       "      <td>53057</td>\n",
       "      <td>[{'text': '재질', 'value': 1}, {'text': '생각', 'v...</td>\n",
       "      <td>169.000000</td>\n",
       "      <td>56.000000</td>\n",
       "      <td>0.000000</td>\n",
       "      <td>1.000000</td>\n",
       "      <td>0</td>\n",
       "      <td>0</td>\n",
       "      <td>1</td>\n",
       "      <td>0</td>\n",
       "      <td>0</td>\n",
       "      <td>0</td>\n",
       "      <td>0</td>\n",
       "      <td>0</td>\n",
       "      <td>0</td>\n",
       "      <td>0</td>\n",
       "      <td>0</td>\n",
       "      <td>0</td>\n",
       "    </tr>\n",
       "    <tr>\n",
       "      <th>74135</th>\n",
       "      <td>2411470</td>\n",
       "      <td>그레이/L(75)</td>\n",
       "      <td>241147046647</td>\n",
       "      <td>46647</td>\n",
       "      <td>[{'text': '핏', 'value': 1}, {'text': '평소', 'va...</td>\n",
       "      <td>167.000000</td>\n",
       "      <td>59.000000</td>\n",
       "      <td>0.000000</td>\n",
       "      <td>1.000000</td>\n",
       "      <td>0</td>\n",
       "      <td>0</td>\n",
       "      <td>1</td>\n",
       "      <td>0</td>\n",
       "      <td>0</td>\n",
       "      <td>0</td>\n",
       "      <td>0</td>\n",
       "      <td>0</td>\n",
       "      <td>0</td>\n",
       "      <td>0</td>\n",
       "      <td>0</td>\n",
       "      <td>0</td>\n",
       "    </tr>\n",
       "    <tr>\n",
       "      <th>74136</th>\n",
       "      <td>2413456</td>\n",
       "      <td>M(85)</td>\n",
       "      <td>241345656453</td>\n",
       "      <td>56453</td>\n",
       "      <td>[{'text': '재질', 'value': 2}, {'text': '색감', 'v...</td>\n",
       "      <td>173.000000</td>\n",
       "      <td>69.000000</td>\n",
       "      <td>1.000000</td>\n",
       "      <td>0.000000</td>\n",
       "      <td>0</td>\n",
       "      <td>0</td>\n",
       "      <td>2</td>\n",
       "      <td>0</td>\n",
       "      <td>0</td>\n",
       "      <td>0</td>\n",
       "      <td>0</td>\n",
       "      <td>0</td>\n",
       "      <td>0</td>\n",
       "      <td>0</td>\n",
       "      <td>0</td>\n",
       "      <td>0</td>\n",
       "    </tr>\n",
       "  </tbody>\n",
       "</table>\n",
       "<p>74137 rows × 21 columns</p>\n",
       "</div>"
      ],
      "text/plain": [
       "       goodsNo  goodsSize    newGoodsNo  index  \\\n",
       "0        25868      28/28  258680052215  52215   \n",
       "1        25868      28/30  258680052218  52218   \n",
       "2        25868      28/32  258680052204  52204   \n",
       "3        25868      29/28  258680052205  52205   \n",
       "4        25868      29/30  258680052201  52201   \n",
       "...        ...        ...           ...    ...   \n",
       "74132  2407517         30  240751752980  52980   \n",
       "74133  2407719          L  240771913225  13225   \n",
       "74134  2410780          L  241078053057  53057   \n",
       "74135  2411470  그레이/L(75)  241147046647  46647   \n",
       "74136  2413456      M(85)  241345656453  56453   \n",
       "\n",
       "                                              reviewNoun  userHeight  \\\n",
       "0      [{'text': '사이즈', 'value': 32}, {'text': '핏', '...  167.833333   \n",
       "1      [{'text': '사이즈', 'value': 32}, {'text': '핏', '...  174.000000   \n",
       "2      [{'text': '사이즈', 'value': 32}, {'text': '핏', '...  167.000000   \n",
       "3      [{'text': '사이즈', 'value': 32}, {'text': '핏', '...  170.222222   \n",
       "4      [{'text': '사이즈', 'value': 32}, {'text': '핏', '...  174.500000   \n",
       "...                                                  ...         ...   \n",
       "74132  [{'text': '노', 'value': 1}, {'text': '베이지색', '...  172.000000   \n",
       "74133  [{'text': '만족', 'value': 1}, {'text': '지퍼', 'v...  183.000000   \n",
       "74134  [{'text': '재질', 'value': 1}, {'text': '생각', 'v...  169.000000   \n",
       "74135  [{'text': '핏', 'value': 1}, {'text': '평소', 'va...  167.000000   \n",
       "74136  [{'text': '재질', 'value': 2}, {'text': '색감', 'v...  173.000000   \n",
       "\n",
       "       userWeight  userSexMen  userSexWomen  month1  month2  month3  month4  \\\n",
       "0       54.333333    0.666667      0.333333       0       0       1       1   \n",
       "1       53.000000    1.000000      0.000000       0       0       0       0   \n",
       "2       50.000000    0.000000      1.000000       0       0       0       0   \n",
       "3       63.444444    1.000000      0.000000       0       0       2       0   \n",
       "4       62.500000    1.000000      0.000000       0       0       0       0   \n",
       "...           ...         ...           ...     ...     ...     ...     ...   \n",
       "74132   65.000000    1.000000      0.000000       0       0       1       0   \n",
       "74133   78.000000    1.000000      0.000000       0       0       1       0   \n",
       "74134   56.000000    0.000000      1.000000       0       0       1       0   \n",
       "74135   59.000000    0.000000      1.000000       0       0       1       0   \n",
       "74136   69.000000    1.000000      0.000000       0       0       2       0   \n",
       "\n",
       "       month5  month6  month7  month8  month9  month10  month11  month12  \n",
       "0           0       0       0       0       1        2        1        0  \n",
       "1           0       0       1       0       0        0        0        0  \n",
       "2           0       0       0       0       1        0        0        0  \n",
       "3           1       0       1       0       1        2        1        1  \n",
       "4           0       0       0       1       0        1        0        0  \n",
       "...       ...     ...     ...     ...     ...      ...      ...      ...  \n",
       "74132       0       0       0       0       0        0        0        0  \n",
       "74133       0       0       0       0       0        0        0        0  \n",
       "74134       0       0       0       0       0        0        0        0  \n",
       "74135       0       0       0       0       0        0        0        0  \n",
       "74136       0       0       0       0       0        0        0        0  \n",
       "\n",
       "[74137 rows x 21 columns]"
      ]
     },
     "execution_count": 154,
     "metadata": {},
     "output_type": "execute_result"
    }
   ],
   "source": [
    "sub_pants = pd.read_json('./size_pants.json')\n",
    "sub_pants"
   ]
  },
  {
   "cell_type": "code",
   "execution_count": 155,
   "id": "40a32352",
   "metadata": {},
   "outputs": [
    {
     "data": {
      "text/plain": [
       "(106878, 69)"
      ]
     },
     "execution_count": 155,
     "metadata": {},
     "output_type": "execute_result"
    }
   ],
   "source": [
    "pants = pd.merge(pants, sub_pants, how=\"left\", left_on=\"clothId\", right_on=\"goodsNo\")\n",
    "pants.shape"
   ]
  },
  {
   "cell_type": "code",
   "execution_count": 156,
   "id": "22df3244",
   "metadata": {},
   "outputs": [
    {
     "data": {
      "text/plain": [
       "Index(['clothId', 'largeCategory', 'largeCategoryName',\n",
       "       'smallCategoryDenimpants', 'smallCategoryCottonpants',\n",
       "       'smallCategorySlacks', 'smallCategoryJoggerpants',\n",
       "       'smallCategoryShortpants', 'smallCategoryLeggings',\n",
       "       'smallCategoryJumpsuit', 'smallCategoryOthers', 'smallCategoryName',\n",
       "       'colorWhite', 'colorGrey', 'colorBlack', 'colorRed', 'colorPink',\n",
       "       'colorOrange', 'colorIvory', 'colorYellow', 'colorGreen', 'colorBlue',\n",
       "       'colorPurple', 'colorBrown', 'colorBeige', 'colorJean', 'colorPattern',\n",
       "       'colorOthers', 'colorName', 'clothName', 'brand', 'image', 'clothPrice',\n",
       "       'date', 'hashtags', 'clothSexMen', 'clothSexWomen', 'clothRate',\n",
       "       'clothReviewNo', 'fit', 'feeling', 'stretch', 'visibility', 'thickness',\n",
       "       'seasonSpring', 'seasonSummer', 'seasonFall', 'seasonWinter', 'goodsNo',\n",
       "       'goodsSize', 'newGoodsNo', 'index', 'reviewNoun', 'userHeight',\n",
       "       'userWeight', 'userSexMen', 'userSexWomen', 'month1', 'month2',\n",
       "       'month3', 'month4', 'month5', 'month6', 'month7', 'month8', 'month9',\n",
       "       'month10', 'month11', 'month12'],\n",
       "      dtype='object')"
      ]
     },
     "execution_count": 156,
     "metadata": {},
     "output_type": "execute_result"
    }
   ],
   "source": [
    "pants.columns"
   ]
  },
  {
   "cell_type": "code",
   "execution_count": 157,
   "id": "6cd5ce39",
   "metadata": {},
   "outputs": [
    {
     "data": {
      "text/plain": [
       "(106878, 67)"
      ]
     },
     "execution_count": 157,
     "metadata": {},
     "output_type": "execute_result"
    }
   ],
   "source": [
    "pants = pants.drop([\"goodsNo\", \"index\"], axis=1)\n",
    "pants.shape"
   ]
  },
  {
   "cell_type": "code",
   "execution_count": 158,
   "id": "f4a84e9f",
   "metadata": {},
   "outputs": [
    {
     "data": {
      "text/plain": [
       "49279"
      ]
     },
     "execution_count": 158,
     "metadata": {},
     "output_type": "execute_result"
    }
   ],
   "source": [
    "# 106879 : 반복문을 통해 변화된 skirt 행 개수\n",
    "# 57600 : 원래의 skirt 행 개수\n",
    "# 49279 : 새로 생긴 skirt 행 개수\n",
    "106879-57600"
   ]
  },
  {
   "cell_type": "code",
   "execution_count": 159,
   "id": "b284c05d",
   "metadata": {},
   "outputs": [
    {
     "data": {
      "text/plain": [
       "74137"
      ]
     },
     "execution_count": 159,
     "metadata": {},
     "output_type": "execute_result"
    }
   ],
   "source": [
    "len(sub_pants)"
   ]
  },
  {
   "cell_type": "code",
   "execution_count": 160,
   "id": "f832edef",
   "metadata": {
    "scrolled": false
   },
   "outputs": [
    {
     "data": {
      "text/plain": [
       "24859"
      ]
     },
     "execution_count": 160,
     "metadata": {},
     "output_type": "execute_result"
    }
   ],
   "source": [
    "len(sub_pants.goodsNo.unique())"
   ]
  },
  {
   "cell_type": "code",
   "execution_count": 161,
   "id": "bf1a908f",
   "metadata": {},
   "outputs": [],
   "source": [
    "from copy import deepcopy\n",
    "b = deepcopy(pants)"
   ]
  },
  {
   "cell_type": "code",
   "execution_count": 162,
   "id": "6ef427b9",
   "metadata": {},
   "outputs": [
    {
     "data": {
      "text/plain": [
       "Index(['clothId', 'largeCategory', 'largeCategoryName',\n",
       "       'smallCategoryDenimpants', 'smallCategoryCottonpants',\n",
       "       'smallCategorySlacks', 'smallCategoryJoggerpants',\n",
       "       'smallCategoryShortpants', 'smallCategoryLeggings',\n",
       "       'smallCategoryJumpsuit', 'smallCategoryOthers', 'smallCategoryName',\n",
       "       'colorWhite', 'colorGrey', 'colorBlack', 'colorRed', 'colorPink',\n",
       "       'colorOrange', 'colorIvory', 'colorYellow', 'colorGreen', 'colorBlue',\n",
       "       'colorPurple', 'colorBrown', 'colorBeige', 'colorJean', 'colorPattern',\n",
       "       'colorOthers', 'colorName', 'clothName', 'brand', 'image', 'clothPrice',\n",
       "       'date', 'hashtags', 'clothSexMen', 'clothSexWomen', 'clothRate',\n",
       "       'clothReviewNo', 'fit', 'feeling', 'stretch', 'visibility', 'thickness',\n",
       "       'seasonSpring', 'seasonSummer', 'seasonFall', 'seasonWinter',\n",
       "       'goodsSize', 'newGoodsNo', 'reviewNoun', 'userHeight', 'userWeight',\n",
       "       'userSexMen', 'userSexWomen', 'month1', 'month2', 'month3', 'month4',\n",
       "       'month5', 'month6', 'month7', 'month8', 'month9', 'month10', 'month11',\n",
       "       'month12'],\n",
       "      dtype='object')"
      ]
     },
     "execution_count": 162,
     "metadata": {},
     "output_type": "execute_result"
    }
   ],
   "source": [
    "b.columns"
   ]
  },
  {
   "cell_type": "code",
   "execution_count": 163,
   "id": "c225382c",
   "metadata": {},
   "outputs": [],
   "source": [
    "col_list_1 = ['newGoodsNo', 'userSexMen', 'userSexWomen']\n",
    "col_list_2 = ['goodsSize', 'reviewNoun', 'userHeight', 'userWeight', 'month1', 'month2',\n",
    "       'month3', 'month4', 'month5', 'month6', 'month7', 'month8', 'month9',\n",
    "       'month10', 'month11', 'month12']\n",
    "check_list_1 = ['clothId',  'clothSexMen', 'clothSexWomen']\n",
    "check_list_2 = ['Free', [], 0, 0, 0, 0, 0, 0, 0, 0, 0, 0, 0, 0, 0, 0]\n",
    "for i in range(len(col_list_1)):\n",
    "    b[col_list_1[i]] = b[col_list_1[i]].fillna(0)\n",
    "    b[col_list_1[i]] = b.apply(lambda x: x[check_list_1[i]] if x[col_list_1[i]]==0 else x[col_list_1[i]], axis=1)\n",
    "    if i==0:\n",
    "        b[col_list_1[i]] = b[col_list_1[i]].astype('int64')\n",
    "    \n",
    "for i in range(len(col_list_2)):\n",
    "    b[col_list_2[i]] = b[col_list_2[i]].fillna(0)\n",
    "    b[col_list_2[i]] = b.apply(lambda x: check_list_2[i] if x[col_list_2[i]]==0 else x[col_list_2[i]], axis=1)\n",
    "    if i == 0:\n",
    "        b[col_list_2[i]] = b[col_list_2[i]].astype('str')\n",
    "    elif i >= 3:\n",
    "        b[col_list_2[i]] = b[col_list_2[i]].astype('int64')"
   ]
  },
  {
   "cell_type": "code",
   "execution_count": 164,
   "id": "0aed1721",
   "metadata": {
    "scrolled": false
   },
   "outputs": [],
   "source": [
    "pants = deepcopy(b)"
   ]
  },
  {
   "cell_type": "code",
   "execution_count": 165,
   "id": "1cf1714d",
   "metadata": {},
   "outputs": [
    {
     "name": "stdout",
     "output_type": "stream",
     "text": [
      "0\n"
     ]
    }
   ],
   "source": [
    "# 이미지 null 값 확인\n",
    "print(len(pants[pants.image.isnull()]))"
   ]
  },
  {
   "cell_type": "code",
   "execution_count": 166,
   "id": "9cd92782",
   "metadata": {},
   "outputs": [],
   "source": [
    "# hashtags 전처리\n",
    "pants.hashtags = pants.apply(lambda x: x.hashtags.replace(\"['\", \"\").replace(\"']\", \"\").replace(\"'\", \"\").replace(\" \", \"\").split(\",\"), axis=1)"
   ]
  },
  {
   "cell_type": "code",
   "execution_count": 167,
   "id": "1586b071",
   "metadata": {},
   "outputs": [],
   "source": [
    "pants.userHeight = pants.userHeight.astype('float')\n",
    "pants.userWeight = pants.userWeight.astype('float')\n",
    "pants.userSexMen = pants.userSexMen.astype('float')\n",
    "pants.userSexWomen = pants.userSexWomen.astype('float')"
   ]
  },
  {
   "cell_type": "code",
   "execution_count": 168,
   "id": "23a237f8",
   "metadata": {},
   "outputs": [
    {
     "data": {
      "text/plain": [
       "[{'text': '하비', 'value': 1},\n",
       " {'text': '허벅지', 'value': 1},\n",
       " {'text': '길이', 'value': 1},\n",
       " {'text': '통', 'value': 1},\n",
       " {'text': '자체', 'value': 1},\n",
       " {'text': '타이', 'value': 1},\n",
       " {'text': '트', 'value': 1},\n",
       " {'text': '살', 'value': 1},\n",
       " {'text': '부각', 'value': 1},\n",
       " {'text': '무지', 'value': 1},\n",
       " {'text': '티', 'value': 1},\n",
       " {'text': '다른', 'value': 1},\n",
       " {'text': '색도', 'value': 1},\n",
       " {'text': '진짜', 'value': 1},\n",
       " {'text': '반바지', 'value': 1},\n",
       " {'text': '만', 'value': 1},\n",
       " {'text': '살이', 'value': 1},\n",
       " {'text': '좀', 'value': 1},\n",
       " {'text': '자주', 'value': 1},\n",
       " {'text': '뉴', 'value': 1},\n",
       " {'text': '정말', 'value': 1},\n",
       " {'text': '여름', 'value': 1}]"
      ]
     },
     "execution_count": 168,
     "metadata": {},
     "output_type": "execute_result"
    }
   ],
   "source": [
    "pants.reviewNoun[5]"
   ]
  },
  {
   "cell_type": "code",
   "execution_count": 169,
   "id": "b78553e6",
   "metadata": {},
   "outputs": [
    {
     "data": {
      "text/plain": [
       "Index(['clothId', 'largeCategory', 'largeCategoryName',\n",
       "       'smallCategoryDenimpants', 'smallCategoryCottonpants',\n",
       "       'smallCategorySlacks', 'smallCategoryJoggerpants',\n",
       "       'smallCategoryShortpants', 'smallCategoryLeggings',\n",
       "       'smallCategoryJumpsuit', 'smallCategoryOthers', 'smallCategoryName',\n",
       "       'colorWhite', 'colorGrey', 'colorBlack', 'colorRed', 'colorPink',\n",
       "       'colorOrange', 'colorIvory', 'colorYellow', 'colorGreen', 'colorBlue',\n",
       "       'colorPurple', 'colorBrown', 'colorBeige', 'colorJean', 'colorPattern',\n",
       "       'colorOthers', 'colorName', 'clothName', 'brand', 'image', 'clothPrice',\n",
       "       'date', 'hashtags', 'clothSexMen', 'clothSexWomen', 'clothRate',\n",
       "       'clothReviewNo', 'fit', 'feeling', 'stretch', 'visibility', 'thickness',\n",
       "       'seasonSpring', 'seasonSummer', 'seasonFall', 'seasonWinter',\n",
       "       'goodsSize', 'newGoodsNo', 'reviewNoun', 'userHeight', 'userWeight',\n",
       "       'userSexMen', 'userSexWomen', 'month1', 'month2', 'month3', 'month4',\n",
       "       'month5', 'month6', 'month7', 'month8', 'month9', 'month10', 'month11',\n",
       "       'month12'],\n",
       "      dtype='object')"
      ]
     },
     "execution_count": 169,
     "metadata": {},
     "output_type": "execute_result"
    }
   ],
   "source": [
    "pants.columns"
   ]
  },
  {
   "cell_type": "code",
   "execution_count": 170,
   "id": "baaa9e82",
   "metadata": {},
   "outputs": [],
   "source": [
    "pants.columns = ['clothId', 'largeCategory', 'largeCategoryName',\n",
    "       'smallCategoryDenimpants', 'smallCategoryCottonpants', 'smallCategorySlacks',\n",
    "       'smallCategoryJoggerpants', 'smallCategoryShortpants', 'smallCategoryLeggings',\n",
    "       'smallCategoryJumpsuit', 'smallCategoryOthers',\n",
    "       'smallCategoryName', 'colorWhite', 'colorGrey', 'colorBlack',\n",
    "       'colorRed', 'colorPink', 'colorOrange', 'colorIvory', 'colorYellow',\n",
    "       'colorGreen', 'colorBlue', 'colorPurple', 'colorBrown', 'colorBeige',\n",
    "       'colorJean', 'colorPattern', 'colorOthers', 'colorName', 'clothName',\n",
    "       'brand', 'clothImg', 'clothPrice', 'date', 'clothHashtags', 'clothMale',\n",
    "       'clothFemale', 'clothRate', 'clothReviewCnt', 'fit', 'feeling',\n",
    "       'stretch', 'visibility', 'thickness', 'seasonSpring', 'seasonSummer',\n",
    "       'seasonFall', 'seasonWinter', 'goodsSize', 'newClothId', 'reviewNoun', 'userHeight',\n",
    "       'userWeight', 'userMale', 'userFemale', 'month1', 'month2',\n",
    "       'month3', 'month4', 'month5', 'month6', 'month7', 'month8', 'month9',\n",
    "       'month10', 'month11', 'month12']"
   ]
  },
  {
   "cell_type": "code",
   "execution_count": 171,
   "id": "b450922c",
   "metadata": {},
   "outputs": [],
   "source": [
    "pants = pants[['newClothId', 'clothId', 'largeCategory', 'largeCategoryName',\n",
    "       'smallCategoryDenimpants', 'smallCategoryCottonpants', 'smallCategorySlacks',\n",
    "       'smallCategoryJoggerpants', 'smallCategoryShortpants', 'smallCategoryLeggings',\n",
    "       'smallCategoryJumpsuit', 'smallCategoryOthers',\n",
    "       'smallCategoryName', 'colorWhite', 'colorGrey', 'colorBlack',\n",
    "       'colorRed', 'colorPink', 'colorOrange', 'colorIvory', 'colorYellow',\n",
    "       'colorGreen', 'colorBlue', 'colorPurple', 'colorBrown', 'colorBeige',\n",
    "       'colorJean', 'colorPattern', 'colorOthers', 'colorName', 'clothName',\n",
    "       'brand', 'clothImg', 'clothPrice', 'date', 'clothHashtags', 'clothMale',\n",
    "       'clothFemale', 'clothRate', 'clothReviewCnt', 'fit', 'feeling',\n",
    "       'stretch', 'visibility', 'thickness', 'seasonSpring', 'seasonSummer',\n",
    "       'seasonFall', 'seasonWinter', 'goodsSize', 'reviewNoun', 'userHeight',\n",
    "       'userWeight', 'userMale', 'userFemale', 'month1', 'month2',\n",
    "       'month3', 'month4', 'month5', 'month6', 'month7', 'month8', 'month9',\n",
    "       'month10', 'month11', 'month12']]"
   ]
  },
  {
   "cell_type": "code",
   "execution_count": 172,
   "id": "c79d95ef",
   "metadata": {},
   "outputs": [],
   "source": [
    "pants.to_json('final_pants.json', orient='records', force_ascii=False)"
   ]
  },
  {
   "cell_type": "code",
   "execution_count": 173,
   "id": "acb0f9a1",
   "metadata": {},
   "outputs": [],
   "source": [
    "pants.to_csv('final_pants.csv',\n",
    "                 sep=',',\n",
    "                 float_format = '%.4f',\n",
    "                 encoding = 'utf-8-sig')"
   ]
  },
  {
   "cell_type": "markdown",
   "id": "b307f79c",
   "metadata": {},
   "source": [
    " "
   ]
  },
  {
   "cell_type": "markdown",
   "id": "6f66d8db",
   "metadata": {},
   "source": [
    " "
   ]
  },
  {
   "cell_type": "markdown",
   "id": "60e842a6",
   "metadata": {},
   "source": [
    " "
   ]
  },
  {
   "cell_type": "markdown",
   "id": "efeaa6f6",
   "metadata": {},
   "source": [
    "# Onepiece"
   ]
  },
  {
   "cell_type": "code",
   "execution_count": 174,
   "id": "239d6635",
   "metadata": {},
   "outputs": [],
   "source": [
    "onepiece = pd.read_csv('./musinsa_clothes_onepiece.csv')"
   ]
  },
  {
   "cell_type": "code",
   "execution_count": 175,
   "id": "1b563f09",
   "metadata": {
    "scrolled": true
   },
   "outputs": [
    {
     "data": {
      "text/plain": [
       "Index(['clothId', 'largeCategory', 'largeCategoryName', 'smallCategory',\n",
       "       'smallCategoryName', 'colorNo', 'clothName', 'brand', 'image',\n",
       "       'clothPrice', 'date', 'hashtags', 'clothSexMen', 'clothSexWomen',\n",
       "       'clothSexCommon', 'clothRate', 'clothReviewNo', 'fit', 'feeling',\n",
       "       'stretch', 'visibility', 'thickness', 'seasonSpring', 'seasonSummer',\n",
       "       'seasonFall', 'seasonWinter'],\n",
       "      dtype='object')"
      ]
     },
     "execution_count": 175,
     "metadata": {},
     "output_type": "execute_result"
    }
   ],
   "source": [
    "onepiece.columns"
   ]
  },
  {
   "cell_type": "code",
   "execution_count": 176,
   "id": "69591aee",
   "metadata": {
    "scrolled": false
   },
   "outputs": [
    {
     "name": "stdout",
     "output_type": "stream",
     "text": [
      "<class 'pandas.core.frame.DataFrame'>\n",
      "RangeIndex: 9456 entries, 0 to 9455\n",
      "Data columns (total 26 columns):\n",
      " #   Column             Non-Null Count  Dtype  \n",
      "---  ------             --------------  -----  \n",
      " 0   clothId            9456 non-null   int64  \n",
      " 1   largeCategory      9456 non-null   int64  \n",
      " 2   largeCategoryName  9456 non-null   object \n",
      " 3   smallCategory      9456 non-null   int64  \n",
      " 4   smallCategoryName  9456 non-null   object \n",
      " 5   colorNo            9456 non-null   int64  \n",
      " 6   clothName          9456 non-null   object \n",
      " 7   brand              9456 non-null   object \n",
      " 8   image              9456 non-null   object \n",
      " 9   clothPrice         9456 non-null   object \n",
      " 10  date               9456 non-null   int64  \n",
      " 11  hashtags           9456 non-null   object \n",
      " 12  clothSexMen        9456 non-null   int64  \n",
      " 13  clothSexWomen      9456 non-null   int64  \n",
      " 14  clothSexCommon     9456 non-null   int64  \n",
      " 15  clothRate          9456 non-null   float64\n",
      " 16  clothReviewNo      9456 non-null   object \n",
      " 17  fit                9456 non-null   int64  \n",
      " 18  feeling            9456 non-null   int64  \n",
      " 19  stretch            9456 non-null   int64  \n",
      " 20  visibility         9456 non-null   int64  \n",
      " 21  thickness          9456 non-null   int64  \n",
      " 22  seasonSpring       9456 non-null   int64  \n",
      " 23  seasonSummer       9456 non-null   int64  \n",
      " 24  seasonFall         9456 non-null   int64  \n",
      " 25  seasonWinter       9456 non-null   int64  \n",
      "dtypes: float64(1), int64(17), object(8)\n",
      "memory usage: 1.9+ MB\n"
     ]
    }
   ],
   "source": [
    "onepiece.info()"
   ]
  },
  {
   "cell_type": "code",
   "execution_count": 177,
   "id": "055680dc",
   "metadata": {
    "scrolled": false
   },
   "outputs": [
    {
     "data": {
      "text/html": [
       "<div>\n",
       "<style scoped>\n",
       "    .dataframe tbody tr th:only-of-type {\n",
       "        vertical-align: middle;\n",
       "    }\n",
       "\n",
       "    .dataframe tbody tr th {\n",
       "        vertical-align: top;\n",
       "    }\n",
       "\n",
       "    .dataframe thead th {\n",
       "        text-align: right;\n",
       "    }\n",
       "</style>\n",
       "<table border=\"1\" class=\"dataframe\">\n",
       "  <thead>\n",
       "    <tr style=\"text-align: right;\">\n",
       "      <th></th>\n",
       "      <th>clothId</th>\n",
       "      <th>largeCategory</th>\n",
       "      <th>smallCategory</th>\n",
       "      <th>colorNo</th>\n",
       "      <th>date</th>\n",
       "      <th>clothSexMen</th>\n",
       "      <th>clothSexWomen</th>\n",
       "      <th>clothSexCommon</th>\n",
       "      <th>clothRate</th>\n",
       "      <th>fit</th>\n",
       "      <th>feeling</th>\n",
       "      <th>stretch</th>\n",
       "      <th>visibility</th>\n",
       "      <th>thickness</th>\n",
       "      <th>seasonSpring</th>\n",
       "      <th>seasonSummer</th>\n",
       "      <th>seasonFall</th>\n",
       "      <th>seasonWinter</th>\n",
       "    </tr>\n",
       "  </thead>\n",
       "  <tbody>\n",
       "    <tr>\n",
       "      <th>count</th>\n",
       "      <td>9.456000e+03</td>\n",
       "      <td>9456.0</td>\n",
       "      <td>9456.000000</td>\n",
       "      <td>9456.000000</td>\n",
       "      <td>9.456000e+03</td>\n",
       "      <td>9456.0</td>\n",
       "      <td>9456.0</td>\n",
       "      <td>9456.0</td>\n",
       "      <td>9456.000000</td>\n",
       "      <td>9456.000000</td>\n",
       "      <td>9456.000000</td>\n",
       "      <td>9456.000000</td>\n",
       "      <td>9456.000000</td>\n",
       "      <td>9456.000000</td>\n",
       "      <td>9456.000000</td>\n",
       "      <td>9456.000000</td>\n",
       "      <td>9456.000000</td>\n",
       "      <td>9456.000000</td>\n",
       "    </tr>\n",
       "    <tr>\n",
       "      <th>mean</th>\n",
       "      <td>1.828642e+06</td>\n",
       "      <td>4.0</td>\n",
       "      <td>407.105859</td>\n",
       "      <td>16.600465</td>\n",
       "      <td>2.020675e+07</td>\n",
       "      <td>0.0</td>\n",
       "      <td>1.0</td>\n",
       "      <td>0.0</td>\n",
       "      <td>1.104209</td>\n",
       "      <td>1.119924</td>\n",
       "      <td>0.748519</td>\n",
       "      <td>0.949979</td>\n",
       "      <td>1.498731</td>\n",
       "      <td>0.940567</td>\n",
       "      <td>0.240376</td>\n",
       "      <td>0.202728</td>\n",
       "      <td>0.218591</td>\n",
       "      <td>0.118655</td>\n",
       "    </tr>\n",
       "    <tr>\n",
       "      <th>std</th>\n",
       "      <td>4.241448e+05</td>\n",
       "      <td>0.0</td>\n",
       "      <td>0.776100</td>\n",
       "      <td>17.107649</td>\n",
       "      <td>9.750778e+03</td>\n",
       "      <td>0.0</td>\n",
       "      <td>0.0</td>\n",
       "      <td>0.0</td>\n",
       "      <td>1.993787</td>\n",
       "      <td>1.610713</td>\n",
       "      <td>1.159970</td>\n",
       "      <td>1.539927</td>\n",
       "      <td>2.121980</td>\n",
       "      <td>1.386594</td>\n",
       "      <td>0.427335</td>\n",
       "      <td>0.402053</td>\n",
       "      <td>0.413313</td>\n",
       "      <td>0.323399</td>\n",
       "    </tr>\n",
       "    <tr>\n",
       "      <th>min</th>\n",
       "      <td>1.374480e+05</td>\n",
       "      <td>4.0</td>\n",
       "      <td>406.000000</td>\n",
       "      <td>1.000000</td>\n",
       "      <td>2.014103e+07</td>\n",
       "      <td>0.0</td>\n",
       "      <td>1.0</td>\n",
       "      <td>0.0</td>\n",
       "      <td>0.000000</td>\n",
       "      <td>0.000000</td>\n",
       "      <td>0.000000</td>\n",
       "      <td>0.000000</td>\n",
       "      <td>0.000000</td>\n",
       "      <td>0.000000</td>\n",
       "      <td>0.000000</td>\n",
       "      <td>0.000000</td>\n",
       "      <td>0.000000</td>\n",
       "      <td>0.000000</td>\n",
       "    </tr>\n",
       "    <tr>\n",
       "      <th>25%</th>\n",
       "      <td>1.509934e+06</td>\n",
       "      <td>4.0</td>\n",
       "      <td>406.000000</td>\n",
       "      <td>2.000000</td>\n",
       "      <td>2.020071e+07</td>\n",
       "      <td>0.0</td>\n",
       "      <td>1.0</td>\n",
       "      <td>0.0</td>\n",
       "      <td>0.000000</td>\n",
       "      <td>0.000000</td>\n",
       "      <td>0.000000</td>\n",
       "      <td>0.000000</td>\n",
       "      <td>0.000000</td>\n",
       "      <td>0.000000</td>\n",
       "      <td>0.000000</td>\n",
       "      <td>0.000000</td>\n",
       "      <td>0.000000</td>\n",
       "      <td>0.000000</td>\n",
       "    </tr>\n",
       "    <tr>\n",
       "      <th>50%</th>\n",
       "      <td>1.942870e+06</td>\n",
       "      <td>4.0</td>\n",
       "      <td>407.000000</td>\n",
       "      <td>8.000000</td>\n",
       "      <td>2.021051e+07</td>\n",
       "      <td>0.0</td>\n",
       "      <td>1.0</td>\n",
       "      <td>0.0</td>\n",
       "      <td>0.000000</td>\n",
       "      <td>0.000000</td>\n",
       "      <td>0.000000</td>\n",
       "      <td>0.000000</td>\n",
       "      <td>0.000000</td>\n",
       "      <td>0.000000</td>\n",
       "      <td>0.000000</td>\n",
       "      <td>0.000000</td>\n",
       "      <td>0.000000</td>\n",
       "      <td>0.000000</td>\n",
       "    </tr>\n",
       "    <tr>\n",
       "      <th>75%</th>\n",
       "      <td>2.143857e+06</td>\n",
       "      <td>4.0</td>\n",
       "      <td>408.000000</td>\n",
       "      <td>30.000000</td>\n",
       "      <td>2.021092e+07</td>\n",
       "      <td>0.0</td>\n",
       "      <td>1.0</td>\n",
       "      <td>0.0</td>\n",
       "      <td>0.000000</td>\n",
       "      <td>3.000000</td>\n",
       "      <td>1.000000</td>\n",
       "      <td>1.000000</td>\n",
       "      <td>4.000000</td>\n",
       "      <td>2.000000</td>\n",
       "      <td>0.000000</td>\n",
       "      <td>0.000000</td>\n",
       "      <td>0.000000</td>\n",
       "      <td>0.000000</td>\n",
       "    </tr>\n",
       "    <tr>\n",
       "      <th>max</th>\n",
       "      <td>2.413328e+06</td>\n",
       "      <td>4.0</td>\n",
       "      <td>408.000000</td>\n",
       "      <td>71.000000</td>\n",
       "      <td>2.022031e+07</td>\n",
       "      <td>0.0</td>\n",
       "      <td>1.0</td>\n",
       "      <td>0.0</td>\n",
       "      <td>5.000000</td>\n",
       "      <td>5.000000</td>\n",
       "      <td>5.000000</td>\n",
       "      <td>5.000000</td>\n",
       "      <td>5.000000</td>\n",
       "      <td>5.000000</td>\n",
       "      <td>1.000000</td>\n",
       "      <td>1.000000</td>\n",
       "      <td>1.000000</td>\n",
       "      <td>1.000000</td>\n",
       "    </tr>\n",
       "  </tbody>\n",
       "</table>\n",
       "</div>"
      ],
      "text/plain": [
       "            clothId  largeCategory  smallCategory      colorNo          date  \\\n",
       "count  9.456000e+03         9456.0    9456.000000  9456.000000  9.456000e+03   \n",
       "mean   1.828642e+06            4.0     407.105859    16.600465  2.020675e+07   \n",
       "std    4.241448e+05            0.0       0.776100    17.107649  9.750778e+03   \n",
       "min    1.374480e+05            4.0     406.000000     1.000000  2.014103e+07   \n",
       "25%    1.509934e+06            4.0     406.000000     2.000000  2.020071e+07   \n",
       "50%    1.942870e+06            4.0     407.000000     8.000000  2.021051e+07   \n",
       "75%    2.143857e+06            4.0     408.000000    30.000000  2.021092e+07   \n",
       "max    2.413328e+06            4.0     408.000000    71.000000  2.022031e+07   \n",
       "\n",
       "       clothSexMen  clothSexWomen  clothSexCommon    clothRate          fit  \\\n",
       "count       9456.0         9456.0          9456.0  9456.000000  9456.000000   \n",
       "mean           0.0            1.0             0.0     1.104209     1.119924   \n",
       "std            0.0            0.0             0.0     1.993787     1.610713   \n",
       "min            0.0            1.0             0.0     0.000000     0.000000   \n",
       "25%            0.0            1.0             0.0     0.000000     0.000000   \n",
       "50%            0.0            1.0             0.0     0.000000     0.000000   \n",
       "75%            0.0            1.0             0.0     0.000000     3.000000   \n",
       "max            0.0            1.0             0.0     5.000000     5.000000   \n",
       "\n",
       "           feeling      stretch   visibility    thickness  seasonSpring  \\\n",
       "count  9456.000000  9456.000000  9456.000000  9456.000000   9456.000000   \n",
       "mean      0.748519     0.949979     1.498731     0.940567      0.240376   \n",
       "std       1.159970     1.539927     2.121980     1.386594      0.427335   \n",
       "min       0.000000     0.000000     0.000000     0.000000      0.000000   \n",
       "25%       0.000000     0.000000     0.000000     0.000000      0.000000   \n",
       "50%       0.000000     0.000000     0.000000     0.000000      0.000000   \n",
       "75%       1.000000     1.000000     4.000000     2.000000      0.000000   \n",
       "max       5.000000     5.000000     5.000000     5.000000      1.000000   \n",
       "\n",
       "       seasonSummer   seasonFall  seasonWinter  \n",
       "count   9456.000000  9456.000000   9456.000000  \n",
       "mean       0.202728     0.218591      0.118655  \n",
       "std        0.402053     0.413313      0.323399  \n",
       "min        0.000000     0.000000      0.000000  \n",
       "25%        0.000000     0.000000      0.000000  \n",
       "50%        0.000000     0.000000      0.000000  \n",
       "75%        0.000000     0.000000      0.000000  \n",
       "max        1.000000     1.000000      1.000000  "
      ]
     },
     "execution_count": 177,
     "metadata": {},
     "output_type": "execute_result"
    }
   ],
   "source": [
    "onepiece.describe()"
   ]
  },
  {
   "cell_type": "code",
   "execution_count": 178,
   "id": "482927b2",
   "metadata": {},
   "outputs": [],
   "source": [
    "onepiece = onepiece.drop_duplicates(subset = \"clothId\")\n",
    "onepiece = onepiece.reset_index(drop=True)"
   ]
  },
  {
   "cell_type": "code",
   "execution_count": 179,
   "id": "7c317d20",
   "metadata": {},
   "outputs": [],
   "source": [
    "onepiece['smallCategory'] = onepiece['smallCategory'].astype('str')"
   ]
  },
  {
   "cell_type": "code",
   "execution_count": 180,
   "id": "1c390835",
   "metadata": {},
   "outputs": [
    {
     "data": {
      "text/plain": [
       "array([4], dtype=int64)"
      ]
     },
     "execution_count": 180,
     "metadata": {},
     "output_type": "execute_result"
    }
   ],
   "source": [
    "onepiece['largeCategory'].unique()"
   ]
  },
  {
   "cell_type": "code",
   "execution_count": 181,
   "id": "7b2f21f4",
   "metadata": {},
   "outputs": [
    {
     "data": {
      "text/plain": [
       "array(['원피스'], dtype=object)"
      ]
     },
     "execution_count": 181,
     "metadata": {},
     "output_type": "execute_result"
    }
   ],
   "source": [
    "onepiece['largeCategoryName'].unique()"
   ]
  },
  {
   "cell_type": "code",
   "execution_count": 182,
   "id": "aa7b2a27",
   "metadata": {},
   "outputs": [
    {
     "data": {
      "text/plain": [
       "array(['407', '408', '406'], dtype=object)"
      ]
     },
     "execution_count": 182,
     "metadata": {},
     "output_type": "execute_result"
    }
   ],
   "source": [
    "onepiece['smallCategory'].unique()"
   ]
  },
  {
   "cell_type": "code",
   "execution_count": 183,
   "id": "0de8a744",
   "metadata": {
    "scrolled": false
   },
   "outputs": [
    {
     "data": {
      "text/plain": [
       "array(['미디 원피스', '맥시 원피스', '미니 원피스'], dtype=object)"
      ]
     },
     "execution_count": 183,
     "metadata": {},
     "output_type": "execute_result"
    }
   ],
   "source": [
    "onepiece['smallCategoryName'].unique()"
   ]
  },
  {
   "cell_type": "code",
   "execution_count": 184,
   "id": "e4fa2ba6",
   "metadata": {},
   "outputs": [],
   "source": [
    "onepiece['smallCategory'] = onepiece['smallCategory'].astype('int')"
   ]
  },
  {
   "cell_type": "markdown",
   "id": "ce626875",
   "metadata": {},
   "source": [
    "### smallCategory 원핫인코딩 변환"
   ]
  },
  {
   "cell_type": "code",
   "execution_count": 185,
   "id": "bb64baff",
   "metadata": {},
   "outputs": [],
   "source": [
    "onepiece.insert(4, \"smallCategoryMaxidress\", onepiece['smallCategory'], True)\n",
    "onepiece.insert(4, \"smallCategoryMidi\", onepiece['smallCategory'], True)\n",
    "onepiece.insert(4, \"smallCategoryMinidress\", onepiece['smallCategory'], True)"
   ]
  },
  {
   "cell_type": "code",
   "execution_count": 186,
   "id": "7f424e00",
   "metadata": {},
   "outputs": [],
   "source": [
    "onepiece['smallCategoryMinidress'] = onepiece['smallCategoryMinidress'].apply(lambda x: 1 if x == 406 else 0)\n",
    "onepiece['smallCategoryMidi'] = onepiece['smallCategoryMidi'].apply(lambda x: 1 if x == 407 else 0)\n",
    "onepiece['smallCategoryMaxidress'] = onepiece['smallCategoryMaxidress'].apply(lambda x: 1 if x == 408 else 0)"
   ]
  },
  {
   "cell_type": "code",
   "execution_count": 187,
   "id": "263fe371",
   "metadata": {},
   "outputs": [],
   "source": [
    "onepiece = onepiece.drop('smallCategory', axis=1)"
   ]
  },
  {
   "cell_type": "markdown",
   "id": "05103a9c",
   "metadata": {},
   "source": [
    " "
   ]
  },
  {
   "cell_type": "code",
   "execution_count": 188,
   "id": "7f869930",
   "metadata": {
    "scrolled": false
   },
   "outputs": [
    {
     "data": {
      "text/plain": [
       "Index(['clothId', 'largeCategory', 'largeCategoryName',\n",
       "       'smallCategoryMinidress', 'smallCategoryMidi', 'smallCategoryMaxidress',\n",
       "       'smallCategoryName', 'colorNo', 'clothName', 'brand', 'image',\n",
       "       'clothPrice', 'date', 'hashtags', 'clothSexMen', 'clothSexWomen',\n",
       "       'clothSexCommon', 'clothRate', 'clothReviewNo', 'fit', 'feeling',\n",
       "       'stretch', 'visibility', 'thickness', 'seasonSpring', 'seasonSummer',\n",
       "       'seasonFall', 'seasonWinter'],\n",
       "      dtype='object')"
      ]
     },
     "execution_count": 188,
     "metadata": {},
     "output_type": "execute_result"
    }
   ],
   "source": [
    "onepiece.columns"
   ]
  },
  {
   "cell_type": "code",
   "execution_count": 189,
   "id": "9600dbcf",
   "metadata": {},
   "outputs": [
    {
     "name": "stdout",
     "output_type": "stream",
     "text": [
      "0    7054\n",
      "1    2394\n",
      "Name: smallCategoryMinidress, dtype: int64\n",
      "0    5793\n",
      "1    3655\n",
      "Name: smallCategoryMidi, dtype: int64\n",
      "0    6049\n",
      "1    3399\n",
      "Name: smallCategoryMaxidress, dtype: int64\n",
      "9448\n",
      "(9448, 28)\n"
     ]
    }
   ],
   "source": [
    "# smallCategory 모든 1의 값의 개수 == 행의 개수\n",
    "\n",
    "num = 0\n",
    "for i in range(3, 6):\n",
    "    num += onepiece[onepiece.columns[i]].value_counts()[1]\n",
    "    print(onepiece[onepiece.columns[i]].value_counts())\n",
    "print(num)\n",
    "print(onepiece.shape)"
   ]
  },
  {
   "cell_type": "markdown",
   "id": "44171175",
   "metadata": {},
   "source": [
    "### clothSexCommon 변환"
   ]
  },
  {
   "cell_type": "code",
   "execution_count": 190,
   "id": "0d46843b",
   "metadata": {
    "scrolled": true
   },
   "outputs": [],
   "source": [
    "onepiece['clothSexMen'] = onepiece.apply(lambda x: 1 if x['clothSexCommon'] == 1 else x['clothSexMen'], axis=1)\n",
    "onepiece['clothSexWomen'] = onepiece.apply(lambda x: 1 if x['clothSexCommon'] == 1 else x['clothSexWomen'], axis=1)"
   ]
  },
  {
   "cell_type": "code",
   "execution_count": 191,
   "id": "ad17c649",
   "metadata": {},
   "outputs": [],
   "source": [
    "onepiece = onepiece.drop('clothSexCommon', axis=1)"
   ]
  },
  {
   "cell_type": "code",
   "execution_count": 192,
   "id": "87053b6a",
   "metadata": {
    "scrolled": false
   },
   "outputs": [
    {
     "data": {
      "text/plain": [
       "Index(['clothId', 'largeCategory', 'largeCategoryName',\n",
       "       'smallCategoryMinidress', 'smallCategoryMidi', 'smallCategoryMaxidress',\n",
       "       'smallCategoryName', 'colorNo', 'clothName', 'brand', 'image',\n",
       "       'clothPrice', 'date', 'hashtags', 'clothSexMen', 'clothSexWomen',\n",
       "       'clothRate', 'clothReviewNo', 'fit', 'feeling', 'stretch', 'visibility',\n",
       "       'thickness', 'seasonSpring', 'seasonSummer', 'seasonFall',\n",
       "       'seasonWinter'],\n",
       "      dtype='object')"
      ]
     },
     "execution_count": 192,
     "metadata": {},
     "output_type": "execute_result"
    }
   ],
   "source": [
    "onepiece.columns"
   ]
  },
  {
   "cell_type": "code",
   "execution_count": 193,
   "id": "1e6615d3",
   "metadata": {},
   "outputs": [],
   "source": [
    "onepiece['clothSexMen'] = onepiece.apply(lambda x: 1 if (x['clothSexMen']==0 and x['clothSexWomen']==0) else x['clothSexMen'], axis=1)\n",
    "onepiece['clothSexWomen'] = onepiece.apply(lambda x: 1 if (x['clothSexMen']==0 and x['clothSexWomen']==0) else x['clothSexWomen'], axis=1)"
   ]
  },
  {
   "cell_type": "code",
   "execution_count": 194,
   "id": "77063506",
   "metadata": {
    "scrolled": false
   },
   "outputs": [
    {
     "name": "stdout",
     "output_type": "stream",
     "text": [
      "0    9448\n",
      "Name: clothSexMen, dtype: int64\n",
      "1    9448\n",
      "Name: clothSexWomen, dtype: int64\n",
      "(9448, 27)\n"
     ]
    }
   ],
   "source": [
    "print(onepiece['clothSexMen'].value_counts())\n",
    "print(onepiece['clothSexWomen'].value_counts())\n",
    "print(onepiece.shape)"
   ]
  },
  {
   "cell_type": "markdown",
   "id": "c131a52f",
   "metadata": {},
   "source": [
    "### color 원핫인코딩 변환"
   ]
  },
  {
   "cell_type": "markdown",
   "id": "142f7a7a",
   "metadata": {},
   "source": [
    "#### 원피스\n",
    "- white (1)\n",
    "- grey (13, 24, 3, 25)\n",
    "- black (2)\n",
    "- red (51, 11, 49)\n",
    "- pink (50, 47, 10, 45, 48, 55)\n",
    "- orange (52, 54, 53, 46, 12)\n",
    "- ivory (23)\n",
    "- yellow (44, 9, 43, 14)\n",
    "- green (33, 31, 32, 6, 34, 30, 35)\n",
    "- blue (37, 38, 7, 36)\n",
    "- purple (41, 39, 8, 40)\n",
    "- brown (4, 56, 27)\n",
    "- beige (28, 26, 29, 5)\n",
    "- jean (16, 57, 58, 59, 60)\n",
    "- pattern (19, 20, 18, 61, 65, 62, 64, 69, 66)\n",
    "- others (71, 67, 70, 17, 21, 68, 22, 15)"
   ]
  },
  {
   "cell_type": "code",
   "execution_count": 195,
   "id": "180ad4d2",
   "metadata": {},
   "outputs": [],
   "source": [
    "onepiece.insert(8, \"colorOthers\", onepiece['colorNo'], True)\n",
    "onepiece.insert(8, \"colorPattern\", onepiece['colorNo'], True)\n",
    "onepiece.insert(8, \"colorJean\", onepiece['colorNo'], True)\n",
    "onepiece.insert(8, \"colorBeige\", onepiece['colorNo'], True)\n",
    "onepiece.insert(8, \"colorBrown\", onepiece['colorNo'], True)\n",
    "onepiece.insert(8, \"colorPurple\", onepiece['colorNo'], True)\n",
    "onepiece.insert(8, \"colorBlue\", onepiece['colorNo'], True)\n",
    "onepiece.insert(8, \"colorGreen\", onepiece['colorNo'], True)\n",
    "onepiece.insert(8, \"colorYellow\", onepiece['colorNo'], True)\n",
    "onepiece.insert(8, \"colorIvory\", onepiece['colorNo'], True)\n",
    "onepiece.insert(8, \"colorOrange\", onepiece['colorNo'], True)\n",
    "onepiece.insert(8, \"colorPink\", onepiece['colorNo'], True)\n",
    "onepiece.insert(8, \"colorRed\", onepiece['colorNo'], True)\n",
    "onepiece.insert(8, \"colorBlack\", onepiece['colorNo'], True)\n",
    "onepiece.insert(8, \"colorGrey\", onepiece['colorNo'], True)\n",
    "onepiece.insert(8, \"colorWhite\", onepiece['colorNo'], True)"
   ]
  },
  {
   "cell_type": "code",
   "execution_count": 196,
   "id": "e049ec6c",
   "metadata": {},
   "outputs": [],
   "source": [
    "onepiece['colorWhite'] = onepiece['colorWhite'].apply(lambda x: 1 if x == 1 else 0)\n",
    "onepiece['colorGrey'] = onepiece['colorGrey'].apply(lambda x: 1 if x in [13, 24, 3, 25] else 0)\n",
    "onepiece['colorBlack'] = onepiece['colorBlack'].apply(lambda x: 1 if x == 2 else 0)\n",
    "onepiece['colorRed'] = onepiece['colorRed'].apply(lambda x: 1 if x in [51, 11, 49] else 0)\n",
    "onepiece['colorPink'] = onepiece['colorPink'].apply(lambda x: 1 if x in [50, 47, 10, 45, 48, 55] else 0)\n",
    "onepiece['colorOrange'] = onepiece['colorOrange'].apply(lambda x: 1 if x in [52, 54, 53, 46, 12] else 0)\n",
    "onepiece['colorIvory'] = onepiece['colorIvory'].apply(lambda x: 1 if x == 23 else 0)\n",
    "onepiece['colorYellow'] = onepiece['colorYellow'].apply(lambda x: 1 if x in [44, 9, 43, 14] else 0)\n",
    "onepiece['colorGreen'] = onepiece['colorGreen'].apply(lambda x: 1 if x in [33, 31, 32, 6, 34, 30, 35] else 0)\n",
    "onepiece['colorBlue'] = onepiece['colorBlue'].apply(lambda x: 1 if x in [37, 38, 7, 36] else 0)\n",
    "onepiece['colorPurple'] = onepiece['colorPurple'].apply(lambda x: 1 if x in [41, 39, 8, 40] else 0)\n",
    "onepiece['colorBrown'] = onepiece['colorBrown'].apply(lambda x: 1 if x in [4, 56, 27] else 0)\n",
    "onepiece['colorBeige'] = onepiece['colorBeige'].apply(lambda x: 1 if x in [28, 26, 29, 5] else 0)\n",
    "onepiece['colorJean'] = onepiece['colorJean'].apply(lambda x: 1 if x in [16, 57, 58, 59, 60] else 0)\n",
    "onepiece['colorPattern'] = onepiece['colorPattern'].apply(lambda x: 1 if x in [19, 20, 18, 61, 65, 62, 64, 69, 66] else 0)\n",
    "onepiece['colorOthers'] = onepiece['colorOthers'].apply(lambda x: 1 if x in [71, 67, 70, 17, 21, 68, 22, 15] else 0)"
   ]
  },
  {
   "cell_type": "code",
   "execution_count": 197,
   "id": "b1f8ce8c",
   "metadata": {
    "scrolled": false
   },
   "outputs": [
    {
     "name": "stdout",
     "output_type": "stream",
     "text": [
      "Index(['clothId', 'largeCategory', 'largeCategoryName',\n",
      "       'smallCategoryMinidress', 'smallCategoryMidi', 'smallCategoryMaxidress',\n",
      "       'smallCategoryName', 'colorNo', 'colorWhite', 'colorGrey', 'colorBlack',\n",
      "       'colorRed', 'colorPink', 'colorOrange', 'colorIvory', 'colorYellow',\n",
      "       'colorGreen', 'colorBlue', 'colorPurple', 'colorBrown', 'colorBeige',\n",
      "       'colorJean', 'colorPattern', 'colorOthers', 'clothName', 'brand',\n",
      "       'image', 'clothPrice', 'date', 'hashtags', 'clothSexMen',\n",
      "       'clothSexWomen', 'clothRate', 'clothReviewNo', 'fit', 'feeling',\n",
      "       'stretch', 'visibility', 'thickness', 'seasonSpring', 'seasonSummer',\n",
      "       'seasonFall', 'seasonWinter'],\n",
      "      dtype='object')\n"
     ]
    }
   ],
   "source": [
    "print(onepiece.columns)"
   ]
  },
  {
   "cell_type": "code",
   "execution_count": 198,
   "id": "e5ce3aab",
   "metadata": {},
   "outputs": [],
   "source": [
    "onepiece = onepiece.drop('colorNo', axis=1)"
   ]
  },
  {
   "cell_type": "code",
   "execution_count": 199,
   "id": "0b315a84",
   "metadata": {},
   "outputs": [
    {
     "name": "stdout",
     "output_type": "stream",
     "text": [
      "0    8744\n",
      "1     704\n",
      "Name: colorWhite, dtype: int64\n",
      "0    8986\n",
      "1     462\n",
      "Name: colorGrey, dtype: int64\n",
      "0    7389\n",
      "1    2059\n",
      "Name: colorBlack, dtype: int64\n",
      "0    9204\n",
      "1     244\n",
      "Name: colorRed, dtype: int64\n",
      "0    8985\n",
      "1     463\n",
      "Name: colorPink, dtype: int64\n",
      "0    9329\n",
      "1     119\n",
      "Name: colorOrange, dtype: int64\n",
      "0    8900\n",
      "1     548\n",
      "Name: colorIvory, dtype: int64\n",
      "0    9106\n",
      "1     342\n",
      "Name: colorYellow, dtype: int64\n",
      "0    8759\n",
      "1     689\n",
      "Name: colorGreen, dtype: int64\n",
      "0    7966\n",
      "1    1482\n",
      "Name: colorBlue, dtype: int64\n",
      "0    9212\n",
      "1     236\n",
      "Name: colorPurple, dtype: int64\n",
      "0    9128\n",
      "1     320\n",
      "Name: colorBrown, dtype: int64\n",
      "0    8570\n",
      "1     878\n",
      "Name: colorBeige, dtype: int64\n",
      "0    9352\n",
      "1      96\n",
      "Name: colorJean, dtype: int64\n",
      "0    9191\n",
      "1     257\n",
      "Name: colorPattern, dtype: int64\n",
      "0    8899\n",
      "1     549\n",
      "Name: colorOthers, dtype: int64\n",
      "9448\n",
      "(9448, 42)\n"
     ]
    }
   ],
   "source": [
    "# color도 모든 1의 값의 개수 == 행의 개수\n",
    "num = 0\n",
    "for i in range(7, 23):\n",
    "    num += onepiece[onepiece.columns[i]].value_counts()[1]\n",
    "    print(onepiece[onepiece.columns[i]].value_counts())\n",
    "print(num)\n",
    "print(onepiece.shape)"
   ]
  },
  {
   "cell_type": "code",
   "execution_count": 200,
   "id": "ca4e0034",
   "metadata": {
    "scrolled": true
   },
   "outputs": [],
   "source": [
    "onepiece.insert(23, \"colorName\", True)"
   ]
  },
  {
   "cell_type": "code",
   "execution_count": 201,
   "id": "6141f500",
   "metadata": {},
   "outputs": [],
   "source": [
    "onepiece['colorName'] = onepiece.apply(lambda x: 'white' if x['colorWhite']==1 else x['colorName'], axis=1)\n",
    "onepiece['colorName'] = onepiece.apply(lambda x: 'grey' if x['colorGrey']==1 else x['colorName'], axis=1)\n",
    "onepiece['colorName'] = onepiece.apply(lambda x: 'black' if x['colorBlack']==1 else x['colorName'], axis=1)\n",
    "onepiece['colorName'] = onepiece.apply(lambda x: 'red' if x['colorRed']==1 else x['colorName'], axis=1)\n",
    "onepiece['colorName'] = onepiece.apply(lambda x: 'pink' if x['colorPink']==1 else x['colorName'], axis=1)\n",
    "onepiece['colorName'] = onepiece.apply(lambda x: 'orange' if x['colorOrange']==1 else x['colorName'], axis=1)\n",
    "onepiece['colorName'] = onepiece.apply(lambda x: 'ivory' if x['colorIvory']==1 else x['colorName'], axis=1)\n",
    "onepiece['colorName'] = onepiece.apply(lambda x: 'yellow' if x['colorYellow']==1 else x['colorName'], axis=1)\n",
    "onepiece['colorName'] = onepiece.apply(lambda x: 'green' if x['colorGreen']==1 else x['colorName'], axis=1)\n",
    "onepiece['colorName'] = onepiece.apply(lambda x: 'blue' if x['colorBlue']==1 else x['colorName'], axis=1)\n",
    "onepiece['colorName'] = onepiece.apply(lambda x: 'purple' if x['colorPurple']==1 else x['colorName'], axis=1)\n",
    "onepiece['colorName'] = onepiece.apply(lambda x: 'brown' if x['colorBrown']==1 else x['colorName'], axis=1)\n",
    "onepiece['colorName'] = onepiece.apply(lambda x: 'beige' if x['colorBeige']==1 else x['colorName'], axis=1)\n",
    "onepiece['colorName'] = onepiece.apply(lambda x: 'jean' if x['colorJean']==1 else x['colorName'], axis=1)\n",
    "onepiece['colorName'] = onepiece.apply(lambda x: 'pattern' if x['colorPattern']==1 else x['colorName'], axis=1)\n",
    "onepiece['colorName'] = onepiece.apply(lambda x: 'others' if x['colorOthers']==1 else x['colorName'], axis=1)"
   ]
  },
  {
   "cell_type": "code",
   "execution_count": 202,
   "id": "81f2ffe1",
   "metadata": {
    "scrolled": false
   },
   "outputs": [
    {
     "data": {
      "text/plain": [
       "black      2059\n",
       "blue       1482\n",
       "beige       878\n",
       "white       704\n",
       "green       689\n",
       "others      549\n",
       "ivory       548\n",
       "pink        463\n",
       "grey        462\n",
       "yellow      342\n",
       "brown       320\n",
       "pattern     257\n",
       "red         244\n",
       "purple      236\n",
       "orange      119\n",
       "jean         96\n",
       "Name: colorName, dtype: int64"
      ]
     },
     "execution_count": 202,
     "metadata": {},
     "output_type": "execute_result"
    }
   ],
   "source": [
    "onepiece['colorName'].value_counts()"
   ]
  },
  {
   "cell_type": "markdown",
   "id": "31628bbb",
   "metadata": {},
   "source": [
    "### Price 전처리"
   ]
  },
  {
   "cell_type": "code",
   "execution_count": 203,
   "id": "27ef41e5",
   "metadata": {
    "scrolled": false
   },
   "outputs": [
    {
     "data": {
      "text/plain": [
       "0        98000\n",
       "1       127000\n",
       "2       269000\n",
       "3       125300\n",
       "4       164000\n",
       "         ...  \n",
       "9443    111200\n",
       "9444     63750\n",
       "9445     89500\n",
       "9446     85000\n",
       "9447     71100\n",
       "Name: clothPrice, Length: 9448, dtype: object"
      ]
     },
     "execution_count": 203,
     "metadata": {},
     "output_type": "execute_result"
    }
   ],
   "source": [
    "onepiece['clothPrice'] = onepiece['clothPrice'].apply(lambda x: x.replace(\",\", \"\"))\n",
    "onepiece['clothPrice'] = onepiece['clothPrice'].apply(lambda x: x.replace(\"원\", \"\"))\n",
    "onepiece['clothPrice']"
   ]
  },
  {
   "cell_type": "code",
   "execution_count": 204,
   "id": "973f5820",
   "metadata": {},
   "outputs": [],
   "source": [
    "onepiece['clothPrice'] = onepiece['clothPrice'].astype('int')"
   ]
  },
  {
   "cell_type": "code",
   "execution_count": 205,
   "id": "fadef9cc",
   "metadata": {
    "scrolled": true
   },
   "outputs": [
    {
     "data": {
      "text/plain": [
       "0       0\n",
       "1       0\n",
       "2       0\n",
       "3       0\n",
       "4       0\n",
       "       ..\n",
       "9443    0\n",
       "9444    5\n",
       "9445    0\n",
       "9446    0\n",
       "9447    2\n",
       "Name: clothReviewNo, Length: 9448, dtype: int32"
      ]
     },
     "execution_count": 205,
     "metadata": {},
     "output_type": "execute_result"
    }
   ],
   "source": [
    "onepiece['clothReviewNo'] = onepiece['clothReviewNo'].apply(lambda x: x.replace(\",\", \"\"))\n",
    "onepiece['clothReviewNo'] = onepiece['clothReviewNo'].astype('int')\n",
    "onepiece['clothReviewNo']"
   ]
  },
  {
   "cell_type": "markdown",
   "id": "4103b8bb",
   "metadata": {},
   "source": [
    "### Index를 NewGoodsNo로 변경"
   ]
  },
  {
   "cell_type": "code",
   "execution_count": 206,
   "id": "833a1b66",
   "metadata": {
    "scrolled": false
   },
   "outputs": [
    {
     "data": {
      "text/html": [
       "<div>\n",
       "<style scoped>\n",
       "    .dataframe tbody tr th:only-of-type {\n",
       "        vertical-align: middle;\n",
       "    }\n",
       "\n",
       "    .dataframe tbody tr th {\n",
       "        vertical-align: top;\n",
       "    }\n",
       "\n",
       "    .dataframe thead th {\n",
       "        text-align: right;\n",
       "    }\n",
       "</style>\n",
       "<table border=\"1\" class=\"dataframe\">\n",
       "  <thead>\n",
       "    <tr style=\"text-align: right;\">\n",
       "      <th></th>\n",
       "      <th>goodsNo</th>\n",
       "      <th>goodsSize</th>\n",
       "      <th>newGoodsNo</th>\n",
       "      <th>index</th>\n",
       "      <th>reviewNoun</th>\n",
       "      <th>userHeight</th>\n",
       "      <th>userWeight</th>\n",
       "      <th>userSexMen</th>\n",
       "      <th>userSexWomen</th>\n",
       "      <th>month1</th>\n",
       "      <th>month2</th>\n",
       "      <th>month3</th>\n",
       "      <th>month4</th>\n",
       "      <th>month5</th>\n",
       "      <th>month6</th>\n",
       "      <th>month7</th>\n",
       "      <th>month8</th>\n",
       "      <th>month9</th>\n",
       "      <th>month10</th>\n",
       "      <th>month11</th>\n",
       "      <th>month12</th>\n",
       "    </tr>\n",
       "  </thead>\n",
       "  <tbody>\n",
       "    <tr>\n",
       "      <th>0</th>\n",
       "      <td>230853</td>\n",
       "      <td>none</td>\n",
       "      <td>23085304022</td>\n",
       "      <td>4022</td>\n",
       "      <td>[상큼]</td>\n",
       "      <td>155.0</td>\n",
       "      <td>45.0</td>\n",
       "      <td>0.0</td>\n",
       "      <td>1.0</td>\n",
       "      <td>0</td>\n",
       "      <td>0</td>\n",
       "      <td>0</td>\n",
       "      <td>0</td>\n",
       "      <td>0</td>\n",
       "      <td>0</td>\n",
       "      <td>1</td>\n",
       "      <td>0</td>\n",
       "      <td>0</td>\n",
       "      <td>0</td>\n",
       "      <td>0</td>\n",
       "      <td>0</td>\n",
       "    </tr>\n",
       "    <tr>\n",
       "      <th>1</th>\n",
       "      <td>387218</td>\n",
       "      <td>그레이헤더/S</td>\n",
       "      <td>38721803234</td>\n",
       "      <td>3234</td>\n",
       "      <td>[생각, 사이즈, 가도, 핏, 느낌, 참고]</td>\n",
       "      <td>161.0</td>\n",
       "      <td>43.0</td>\n",
       "      <td>0.0</td>\n",
       "      <td>1.0</td>\n",
       "      <td>0</td>\n",
       "      <td>0</td>\n",
       "      <td>0</td>\n",
       "      <td>0</td>\n",
       "      <td>0</td>\n",
       "      <td>0</td>\n",
       "      <td>0</td>\n",
       "      <td>1</td>\n",
       "      <td>0</td>\n",
       "      <td>0</td>\n",
       "      <td>0</td>\n",
       "      <td>0</td>\n",
       "    </tr>\n",
       "    <tr>\n",
       "      <th>2</th>\n",
       "      <td>435992</td>\n",
       "      <td>NONE</td>\n",
       "      <td>43599203203</td>\n",
       "      <td>3203</td>\n",
       "      <td>[디자인, 맘, 드네, 멋, 입, 듯, 구김, 원단]</td>\n",
       "      <td>162.0</td>\n",
       "      <td>55.0</td>\n",
       "      <td>0.0</td>\n",
       "      <td>1.0</td>\n",
       "      <td>0</td>\n",
       "      <td>0</td>\n",
       "      <td>0</td>\n",
       "      <td>1</td>\n",
       "      <td>0</td>\n",
       "      <td>0</td>\n",
       "      <td>0</td>\n",
       "      <td>0</td>\n",
       "      <td>0</td>\n",
       "      <td>0</td>\n",
       "      <td>0</td>\n",
       "      <td>0</td>\n",
       "    </tr>\n",
       "    <tr>\n",
       "      <th>3</th>\n",
       "      <td>653344</td>\n",
       "      <td>none</td>\n",
       "      <td>65334404183</td>\n",
       "      <td>4183</td>\n",
       "      <td>[스타일, 레깅스, 일리]</td>\n",
       "      <td>155.0</td>\n",
       "      <td>55.0</td>\n",
       "      <td>0.0</td>\n",
       "      <td>1.0</td>\n",
       "      <td>0</td>\n",
       "      <td>0</td>\n",
       "      <td>0</td>\n",
       "      <td>0</td>\n",
       "      <td>0</td>\n",
       "      <td>0</td>\n",
       "      <td>0</td>\n",
       "      <td>0</td>\n",
       "      <td>0</td>\n",
       "      <td>0</td>\n",
       "      <td>1</td>\n",
       "      <td>0</td>\n",
       "    </tr>\n",
       "    <tr>\n",
       "      <th>4</th>\n",
       "      <td>677397</td>\n",
       "      <td>FREE</td>\n",
       "      <td>67739703065</td>\n",
       "      <td>3065</td>\n",
       "      <td>[입, 옷, 마음, 듭니]</td>\n",
       "      <td>163.0</td>\n",
       "      <td>55.0</td>\n",
       "      <td>0.0</td>\n",
       "      <td>1.0</td>\n",
       "      <td>0</td>\n",
       "      <td>0</td>\n",
       "      <td>1</td>\n",
       "      <td>0</td>\n",
       "      <td>0</td>\n",
       "      <td>0</td>\n",
       "      <td>0</td>\n",
       "      <td>0</td>\n",
       "      <td>0</td>\n",
       "      <td>0</td>\n",
       "      <td>0</td>\n",
       "      <td>0</td>\n",
       "    </tr>\n",
       "    <tr>\n",
       "      <th>...</th>\n",
       "      <td>...</td>\n",
       "      <td>...</td>\n",
       "      <td>...</td>\n",
       "      <td>...</td>\n",
       "      <td>...</td>\n",
       "      <td>...</td>\n",
       "      <td>...</td>\n",
       "      <td>...</td>\n",
       "      <td>...</td>\n",
       "      <td>...</td>\n",
       "      <td>...</td>\n",
       "      <td>...</td>\n",
       "      <td>...</td>\n",
       "      <td>...</td>\n",
       "      <td>...</td>\n",
       "      <td>...</td>\n",
       "      <td>...</td>\n",
       "      <td>...</td>\n",
       "      <td>...</td>\n",
       "      <td>...</td>\n",
       "      <td>...</td>\n",
       "    </tr>\n",
       "    <tr>\n",
       "      <th>2042</th>\n",
       "      <td>2386153</td>\n",
       "      <td>M</td>\n",
       "      <td>23861533521</td>\n",
       "      <td>3521</td>\n",
       "      <td>[원단, 생각, 여름, 듯, 무난, 무난, 디자인, 핏]</td>\n",
       "      <td>171.0</td>\n",
       "      <td>58.0</td>\n",
       "      <td>0.0</td>\n",
       "      <td>1.0</td>\n",
       "      <td>0</td>\n",
       "      <td>0</td>\n",
       "      <td>1</td>\n",
       "      <td>0</td>\n",
       "      <td>0</td>\n",
       "      <td>0</td>\n",
       "      <td>0</td>\n",
       "      <td>0</td>\n",
       "      <td>0</td>\n",
       "      <td>0</td>\n",
       "      <td>0</td>\n",
       "      <td>0</td>\n",
       "    </tr>\n",
       "    <tr>\n",
       "      <th>2043</th>\n",
       "      <td>2396014</td>\n",
       "      <td>M</td>\n",
       "      <td>23960143328</td>\n",
       "      <td>3328</td>\n",
       "      <td>[기장, 맘, 듭니]</td>\n",
       "      <td>173.0</td>\n",
       "      <td>53.0</td>\n",
       "      <td>0.0</td>\n",
       "      <td>1.0</td>\n",
       "      <td>0</td>\n",
       "      <td>0</td>\n",
       "      <td>1</td>\n",
       "      <td>0</td>\n",
       "      <td>0</td>\n",
       "      <td>0</td>\n",
       "      <td>0</td>\n",
       "      <td>0</td>\n",
       "      <td>0</td>\n",
       "      <td>0</td>\n",
       "      <td>0</td>\n",
       "      <td>0</td>\n",
       "    </tr>\n",
       "    <tr>\n",
       "      <th>2044</th>\n",
       "      <td>2396257</td>\n",
       "      <td>FREE</td>\n",
       "      <td>23962573722</td>\n",
       "      <td>3722</td>\n",
       "      <td>[색상, 블랙, 팔이, 크게, 신경, 정도, 색상, 블랙, 팔이, 크게, 신경, 정도]</td>\n",
       "      <td>158.0</td>\n",
       "      <td>48.0</td>\n",
       "      <td>0.0</td>\n",
       "      <td>1.0</td>\n",
       "      <td>0</td>\n",
       "      <td>0</td>\n",
       "      <td>2</td>\n",
       "      <td>0</td>\n",
       "      <td>0</td>\n",
       "      <td>0</td>\n",
       "      <td>0</td>\n",
       "      <td>0</td>\n",
       "      <td>0</td>\n",
       "      <td>0</td>\n",
       "      <td>0</td>\n",
       "      <td>0</td>\n",
       "    </tr>\n",
       "    <tr>\n",
       "      <th>2045</th>\n",
       "      <td>2396259</td>\n",
       "      <td>FREE</td>\n",
       "      <td>23962593321</td>\n",
       "      <td>3321</td>\n",
       "      <td>[카키색, 색상, 카키색, 색상]</td>\n",
       "      <td>158.0</td>\n",
       "      <td>48.0</td>\n",
       "      <td>0.0</td>\n",
       "      <td>1.0</td>\n",
       "      <td>0</td>\n",
       "      <td>0</td>\n",
       "      <td>2</td>\n",
       "      <td>0</td>\n",
       "      <td>0</td>\n",
       "      <td>0</td>\n",
       "      <td>0</td>\n",
       "      <td>0</td>\n",
       "      <td>0</td>\n",
       "      <td>0</td>\n",
       "      <td>0</td>\n",
       "      <td>0</td>\n",
       "    </tr>\n",
       "    <tr>\n",
       "      <th>2046</th>\n",
       "      <td>2397414</td>\n",
       "      <td>라벤더/SM</td>\n",
       "      <td>23974143269</td>\n",
       "      <td>3269</td>\n",
       "      <td>[일단, 소재, 키작, 뚱퉁이, 다만, 때, 키라, 복숭아, 뼈, 길이, 감, 저,...</td>\n",
       "      <td>150.0</td>\n",
       "      <td>60.0</td>\n",
       "      <td>0.0</td>\n",
       "      <td>1.0</td>\n",
       "      <td>0</td>\n",
       "      <td>0</td>\n",
       "      <td>2</td>\n",
       "      <td>0</td>\n",
       "      <td>0</td>\n",
       "      <td>0</td>\n",
       "      <td>0</td>\n",
       "      <td>0</td>\n",
       "      <td>0</td>\n",
       "      <td>0</td>\n",
       "      <td>0</td>\n",
       "      <td>0</td>\n",
       "    </tr>\n",
       "  </tbody>\n",
       "</table>\n",
       "<p>2047 rows × 21 columns</p>\n",
       "</div>"
      ],
      "text/plain": [
       "      goodsNo goodsSize   newGoodsNo  index  \\\n",
       "0      230853      none  23085304022   4022   \n",
       "1      387218   그레이헤더/S  38721803234   3234   \n",
       "2      435992      NONE  43599203203   3203   \n",
       "3      653344      none  65334404183   4183   \n",
       "4      677397      FREE  67739703065   3065   \n",
       "...       ...       ...          ...    ...   \n",
       "2042  2386153         M  23861533521   3521   \n",
       "2043  2396014         M  23960143328   3328   \n",
       "2044  2396257      FREE  23962573722   3722   \n",
       "2045  2396259      FREE  23962593321   3321   \n",
       "2046  2397414    라벤더/SM  23974143269   3269   \n",
       "\n",
       "                                             reviewNoun  userHeight  \\\n",
       "0                                                  [상큼]       155.0   \n",
       "1                              [생각, 사이즈, 가도, 핏, 느낌, 참고]       161.0   \n",
       "2                         [디자인, 맘, 드네, 멋, 입, 듯, 구김, 원단]       162.0   \n",
       "3                                        [스타일, 레깅스, 일리]       155.0   \n",
       "4                                        [입, 옷, 마음, 듭니]       163.0   \n",
       "...                                                 ...         ...   \n",
       "2042                    [원단, 생각, 여름, 듯, 무난, 무난, 디자인, 핏]       171.0   \n",
       "2043                                        [기장, 맘, 듭니]       173.0   \n",
       "2044   [색상, 블랙, 팔이, 크게, 신경, 정도, 색상, 블랙, 팔이, 크게, 신경, 정도]       158.0   \n",
       "2045                                 [카키색, 색상, 카키색, 색상]       158.0   \n",
       "2046  [일단, 소재, 키작, 뚱퉁이, 다만, 때, 키라, 복숭아, 뼈, 길이, 감, 저,...       150.0   \n",
       "\n",
       "      userWeight  userSexMen  userSexWomen  month1  month2  month3  month4  \\\n",
       "0           45.0         0.0           1.0       0       0       0       0   \n",
       "1           43.0         0.0           1.0       0       0       0       0   \n",
       "2           55.0         0.0           1.0       0       0       0       1   \n",
       "3           55.0         0.0           1.0       0       0       0       0   \n",
       "4           55.0         0.0           1.0       0       0       1       0   \n",
       "...          ...         ...           ...     ...     ...     ...     ...   \n",
       "2042        58.0         0.0           1.0       0       0       1       0   \n",
       "2043        53.0         0.0           1.0       0       0       1       0   \n",
       "2044        48.0         0.0           1.0       0       0       2       0   \n",
       "2045        48.0         0.0           1.0       0       0       2       0   \n",
       "2046        60.0         0.0           1.0       0       0       2       0   \n",
       "\n",
       "      month5  month6  month7  month8  month9  month10  month11  month12  \n",
       "0          0       0       1       0       0        0        0        0  \n",
       "1          0       0       0       1       0        0        0        0  \n",
       "2          0       0       0       0       0        0        0        0  \n",
       "3          0       0       0       0       0        0        1        0  \n",
       "4          0       0       0       0       0        0        0        0  \n",
       "...      ...     ...     ...     ...     ...      ...      ...      ...  \n",
       "2042       0       0       0       0       0        0        0        0  \n",
       "2043       0       0       0       0       0        0        0        0  \n",
       "2044       0       0       0       0       0        0        0        0  \n",
       "2045       0       0       0       0       0        0        0        0  \n",
       "2046       0       0       0       0       0        0        0        0  \n",
       "\n",
       "[2047 rows x 21 columns]"
      ]
     },
     "execution_count": 206,
     "metadata": {},
     "output_type": "execute_result"
    }
   ],
   "source": [
    "sub_onepiece = pd.read_json('./size_onepiece.json')\n",
    "sub_onepiece"
   ]
  },
  {
   "cell_type": "code",
   "execution_count": 207,
   "id": "f041efea",
   "metadata": {},
   "outputs": [
    {
     "data": {
      "text/plain": [
       "(9875, 64)"
      ]
     },
     "execution_count": 207,
     "metadata": {},
     "output_type": "execute_result"
    }
   ],
   "source": [
    "onepiece = pd.merge(onepiece, sub_onepiece, how=\"left\", left_on=\"clothId\", right_on=\"goodsNo\")\n",
    "onepiece.shape"
   ]
  },
  {
   "cell_type": "code",
   "execution_count": 208,
   "id": "e1ee7600",
   "metadata": {},
   "outputs": [
    {
     "data": {
      "text/plain": [
       "Index(['clothId', 'largeCategory', 'largeCategoryName',\n",
       "       'smallCategoryMinidress', 'smallCategoryMidi', 'smallCategoryMaxidress',\n",
       "       'smallCategoryName', 'colorWhite', 'colorGrey', 'colorBlack',\n",
       "       'colorRed', 'colorPink', 'colorOrange', 'colorIvory', 'colorYellow',\n",
       "       'colorGreen', 'colorBlue', 'colorPurple', 'colorBrown', 'colorBeige',\n",
       "       'colorJean', 'colorPattern', 'colorOthers', 'colorName', 'clothName',\n",
       "       'brand', 'image', 'clothPrice', 'date', 'hashtags', 'clothSexMen',\n",
       "       'clothSexWomen', 'clothRate', 'clothReviewNo', 'fit', 'feeling',\n",
       "       'stretch', 'visibility', 'thickness', 'seasonSpring', 'seasonSummer',\n",
       "       'seasonFall', 'seasonWinter', 'goodsNo', 'goodsSize', 'newGoodsNo',\n",
       "       'index', 'reviewNoun', 'userHeight', 'userWeight', 'userSexMen',\n",
       "       'userSexWomen', 'month1', 'month2', 'month3', 'month4', 'month5',\n",
       "       'month6', 'month7', 'month8', 'month9', 'month10', 'month11',\n",
       "       'month12'],\n",
       "      dtype='object')"
      ]
     },
     "execution_count": 208,
     "metadata": {},
     "output_type": "execute_result"
    }
   ],
   "source": [
    "onepiece.columns"
   ]
  },
  {
   "cell_type": "code",
   "execution_count": 209,
   "id": "36acaf05",
   "metadata": {},
   "outputs": [
    {
     "data": {
      "text/plain": [
       "(9875, 62)"
      ]
     },
     "execution_count": 209,
     "metadata": {},
     "output_type": "execute_result"
    }
   ],
   "source": [
    "onepiece = onepiece.drop([\"goodsNo\", \"index\"], axis=1)\n",
    "onepiece.shape"
   ]
  },
  {
   "cell_type": "code",
   "execution_count": 210,
   "id": "1dc939d9",
   "metadata": {},
   "outputs": [
    {
     "data": {
      "text/plain": [
       "427"
      ]
     },
     "execution_count": 210,
     "metadata": {},
     "output_type": "execute_result"
    }
   ],
   "source": [
    "# 9875 : 반복문을 통해 변화된 skirt 행 개수\n",
    "# 9448 : 원래의 skirt 행 개수\n",
    "# 427 : 새로 생긴 skirt 행 개수\n",
    "9875-9448"
   ]
  },
  {
   "cell_type": "code",
   "execution_count": 211,
   "id": "0e65d5ca",
   "metadata": {},
   "outputs": [
    {
     "data": {
      "text/plain": [
       "2047"
      ]
     },
     "execution_count": 211,
     "metadata": {},
     "output_type": "execute_result"
    }
   ],
   "source": [
    "len(sub_onepiece)"
   ]
  },
  {
   "cell_type": "code",
   "execution_count": 212,
   "id": "ed3560e7",
   "metadata": {
    "scrolled": false
   },
   "outputs": [
    {
     "data": {
      "text/plain": [
       "1620"
      ]
     },
     "execution_count": 212,
     "metadata": {},
     "output_type": "execute_result"
    }
   ],
   "source": [
    "len(sub_onepiece.goodsNo.unique())"
   ]
  },
  {
   "cell_type": "code",
   "execution_count": 213,
   "id": "984a0fdf",
   "metadata": {},
   "outputs": [],
   "source": [
    "from copy import deepcopy\n",
    "b = deepcopy(onepiece)"
   ]
  },
  {
   "cell_type": "code",
   "execution_count": 214,
   "id": "dfecf689",
   "metadata": {},
   "outputs": [
    {
     "data": {
      "text/plain": [
       "Index(['clothId', 'largeCategory', 'largeCategoryName',\n",
       "       'smallCategoryMinidress', 'smallCategoryMidi', 'smallCategoryMaxidress',\n",
       "       'smallCategoryName', 'colorWhite', 'colorGrey', 'colorBlack',\n",
       "       'colorRed', 'colorPink', 'colorOrange', 'colorIvory', 'colorYellow',\n",
       "       'colorGreen', 'colorBlue', 'colorPurple', 'colorBrown', 'colorBeige',\n",
       "       'colorJean', 'colorPattern', 'colorOthers', 'colorName', 'clothName',\n",
       "       'brand', 'image', 'clothPrice', 'date', 'hashtags', 'clothSexMen',\n",
       "       'clothSexWomen', 'clothRate', 'clothReviewNo', 'fit', 'feeling',\n",
       "       'stretch', 'visibility', 'thickness', 'seasonSpring', 'seasonSummer',\n",
       "       'seasonFall', 'seasonWinter', 'goodsSize', 'newGoodsNo', 'reviewNoun',\n",
       "       'userHeight', 'userWeight', 'userSexMen', 'userSexWomen', 'month1',\n",
       "       'month2', 'month3', 'month4', 'month5', 'month6', 'month7', 'month8',\n",
       "       'month9', 'month10', 'month11', 'month12'],\n",
       "      dtype='object')"
      ]
     },
     "execution_count": 214,
     "metadata": {},
     "output_type": "execute_result"
    }
   ],
   "source": [
    "b.columns"
   ]
  },
  {
   "cell_type": "code",
   "execution_count": 215,
   "id": "c939ed66",
   "metadata": {},
   "outputs": [],
   "source": [
    "col_list_1 = ['newGoodsNo', 'userSexMen', 'userSexWomen']\n",
    "col_list_2 = ['goodsSize', 'reviewNoun', 'userHeight', 'userWeight', 'month1', 'month2',\n",
    "       'month3', 'month4', 'month5', 'month6', 'month7', 'month8', 'month9',\n",
    "       'month10', 'month11', 'month12']\n",
    "check_list_1 = ['clothId',  'clothSexMen', 'clothSexWomen']\n",
    "check_list_2 = ['Free', [], 0, 0, 0, 0, 0, 0, 0, 0, 0, 0, 0, 0, 0, 0]\n",
    "for i in range(len(col_list_1)):\n",
    "    b[col_list_1[i]] = b[col_list_1[i]].fillna(0)\n",
    "    b[col_list_1[i]] = b.apply(lambda x: x[check_list_1[i]] if x[col_list_1[i]]==0 else x[col_list_1[i]], axis=1)\n",
    "    if i==0:\n",
    "        b[col_list_1[i]] = b[col_list_1[i]].astype('int64')\n",
    "    \n",
    "for i in range(len(col_list_2)):\n",
    "    b[col_list_2[i]] = b[col_list_2[i]].fillna(0)\n",
    "    b[col_list_2[i]] = b.apply(lambda x: check_list_2[i] if x[col_list_2[i]]==0 else x[col_list_2[i]], axis=1)\n",
    "    if i == 0:\n",
    "        b[col_list_2[i]] = b[col_list_2[i]].astype('str')\n",
    "    elif i >= 3:\n",
    "        b[col_list_2[i]] = b[col_list_2[i]].astype('int64')"
   ]
  },
  {
   "cell_type": "code",
   "execution_count": 216,
   "id": "4c19bb50",
   "metadata": {
    "scrolled": false
   },
   "outputs": [],
   "source": [
    "onepiece = deepcopy(b)"
   ]
  },
  {
   "cell_type": "code",
   "execution_count": 217,
   "id": "c3fe538a",
   "metadata": {},
   "outputs": [
    {
     "name": "stdout",
     "output_type": "stream",
     "text": [
      "0\n"
     ]
    }
   ],
   "source": [
    "# 이미지 null 값 확인\n",
    "print(len(onepiece[onepiece.image.isnull()]))"
   ]
  },
  {
   "cell_type": "code",
   "execution_count": 218,
   "id": "fd88a940",
   "metadata": {},
   "outputs": [],
   "source": [
    "# hashtags 전처리\n",
    "onepiece.hashtags = onepiece.apply(lambda x: x.hashtags.replace(\"['\", \"\").replace(\"']\", \"\").replace(\"'\", \"\").replace(\" \", \"\").split(\",\"), axis=1)"
   ]
  },
  {
   "cell_type": "code",
   "execution_count": 219,
   "id": "af2f31e1",
   "metadata": {},
   "outputs": [],
   "source": [
    "onepiece.userHeight = onepiece.userHeight.astype('float')\n",
    "onepiece.userWeight = onepiece.userWeight.astype('float')\n",
    "onepiece.userSexMen = onepiece.userSexMen.astype('float')\n",
    "onepiece.userSexWomen = onepiece.userSexWomen.astype('float')"
   ]
  },
  {
   "cell_type": "code",
   "execution_count": 220,
   "id": "0e9d9949",
   "metadata": {},
   "outputs": [
    {
     "data": {
      "text/plain": [
       "[]"
      ]
     },
     "execution_count": 220,
     "metadata": {},
     "output_type": "execute_result"
    }
   ],
   "source": [
    "onepiece.reviewNoun.iloc[2]"
   ]
  },
  {
   "cell_type": "code",
   "execution_count": 221,
   "id": "f3e007e3",
   "metadata": {},
   "outputs": [
    {
     "data": {
      "text/plain": [
       "Index(['clothId', 'largeCategory', 'largeCategoryName',\n",
       "       'smallCategoryMinidress', 'smallCategoryMidi', 'smallCategoryMaxidress',\n",
       "       'smallCategoryName', 'colorWhite', 'colorGrey', 'colorBlack',\n",
       "       'colorRed', 'colorPink', 'colorOrange', 'colorIvory', 'colorYellow',\n",
       "       'colorGreen', 'colorBlue', 'colorPurple', 'colorBrown', 'colorBeige',\n",
       "       'colorJean', 'colorPattern', 'colorOthers', 'colorName', 'clothName',\n",
       "       'brand', 'image', 'clothPrice', 'date', 'hashtags', 'clothSexMen',\n",
       "       'clothSexWomen', 'clothRate', 'clothReviewNo', 'fit', 'feeling',\n",
       "       'stretch', 'visibility', 'thickness', 'seasonSpring', 'seasonSummer',\n",
       "       'seasonFall', 'seasonWinter', 'goodsSize', 'newGoodsNo', 'reviewNoun',\n",
       "       'userHeight', 'userWeight', 'userSexMen', 'userSexWomen', 'month1',\n",
       "       'month2', 'month3', 'month4', 'month5', 'month6', 'month7', 'month8',\n",
       "       'month9', 'month10', 'month11', 'month12'],\n",
       "      dtype='object')"
      ]
     },
     "execution_count": 221,
     "metadata": {},
     "output_type": "execute_result"
    }
   ],
   "source": [
    "onepiece.columns"
   ]
  },
  {
   "cell_type": "code",
   "execution_count": 222,
   "id": "232bb067",
   "metadata": {},
   "outputs": [],
   "source": [
    "onepiece.columns = ['clothId', 'largeCategory', 'largeCategoryName',\n",
    "       'smallCategoryMinidress', 'smallCategoryMidi', 'smallCategoryMaxidress',\n",
    "       'smallCategoryName', 'colorWhite', 'colorGrey', 'colorBlack',\n",
    "       'colorRed', 'colorPink', 'colorOrange', 'colorIvory', 'colorYellow',\n",
    "       'colorGreen', 'colorBlue', 'colorPurple', 'colorBrown', 'colorBeige',\n",
    "       'colorJean', 'colorPattern', 'colorOthers', 'colorName', 'clothName',\n",
    "       'brand', 'clothImg', 'clothPrice', 'date', 'clothHashtags', 'clothMale',\n",
    "       'clothFemale', 'clothRate', 'clothReviewCnt', 'fit', 'feeling',\n",
    "       'stretch', 'visibility', 'thickness', 'seasonSpring', 'seasonSummer',\n",
    "       'seasonFall', 'seasonWinter', 'goodsSize', 'newClothId', 'reviewNoun', 'userHeight',\n",
    "       'userWeight', 'userMale', 'userFemale', 'month1', 'month2',\n",
    "       'month3', 'month4', 'month5', 'month6', 'month7', 'month8', 'month9',\n",
    "       'month10', 'month11', 'month12']"
   ]
  },
  {
   "cell_type": "code",
   "execution_count": 223,
   "id": "880add75",
   "metadata": {},
   "outputs": [],
   "source": [
    "onepiece = onepiece[['newClothId', 'clothId', 'largeCategory', 'largeCategoryName',\n",
    "       'smallCategoryMinidress', 'smallCategoryMidi', 'smallCategoryMaxidress',\n",
    "       'smallCategoryName', 'colorWhite', 'colorGrey', 'colorBlack',\n",
    "       'colorRed', 'colorPink', 'colorOrange', 'colorIvory', 'colorYellow',\n",
    "       'colorGreen', 'colorBlue', 'colorPurple', 'colorBrown', 'colorBeige',\n",
    "       'colorJean', 'colorPattern', 'colorOthers', 'colorName', 'clothName',\n",
    "       'brand', 'clothImg', 'clothPrice', 'date', 'clothHashtags', 'clothMale',\n",
    "       'clothFemale', 'clothRate', 'clothReviewCnt', 'fit', 'feeling',\n",
    "       'stretch', 'visibility', 'thickness', 'seasonSpring', 'seasonSummer',\n",
    "       'seasonFall', 'seasonWinter', 'goodsSize', 'reviewNoun', 'userHeight',\n",
    "       'userWeight', 'userMale', 'userFemale', 'month1', 'month2',\n",
    "       'month3', 'month4', 'month5', 'month6', 'month7', 'month8', 'month9',\n",
    "       'month10', 'month11', 'month12']]"
   ]
  },
  {
   "cell_type": "code",
   "execution_count": 224,
   "id": "fc611204",
   "metadata": {},
   "outputs": [],
   "source": [
    "onepiece.to_json('final_onepiece.json', orient='records', force_ascii=False)"
   ]
  },
  {
   "cell_type": "code",
   "execution_count": 225,
   "id": "d1819288",
   "metadata": {},
   "outputs": [],
   "source": [
    "onepiece.to_csv('final_onepiece.csv',\n",
    "                 sep=',',\n",
    "                 float_format = '%.4f',\n",
    "                 encoding = 'utf-8-sig')"
   ]
  },
  {
   "cell_type": "markdown",
   "id": "3f2b64dc",
   "metadata": {},
   "source": [
    " "
   ]
  },
  {
   "cell_type": "markdown",
   "id": "97034649",
   "metadata": {},
   "source": [
    " "
   ]
  },
  {
   "cell_type": "markdown",
   "id": "0de47f65",
   "metadata": {},
   "source": [
    " "
   ]
  },
  {
   "cell_type": "markdown",
   "id": "1ff577e4",
   "metadata": {},
   "source": [
    "# Skirt"
   ]
  },
  {
   "cell_type": "code",
   "execution_count": 226,
   "id": "3d6d3473",
   "metadata": {},
   "outputs": [],
   "source": [
    "skirt = pd.read_csv('./musinsa_clothes_skirt.csv')"
   ]
  },
  {
   "cell_type": "code",
   "execution_count": 227,
   "id": "d95edf0d",
   "metadata": {
    "scrolled": true
   },
   "outputs": [
    {
     "data": {
      "text/plain": [
       "Index(['clothId', 'largeCategory', 'largeCategoryName', 'smallCategory',\n",
       "       'smallCategoryName', 'colorNo', 'clothName', 'brand', 'image',\n",
       "       'clothPrice', 'date', 'hashtags', 'clothSexMen', 'clothSexWomen',\n",
       "       'clothSexCommon', 'clothRate', 'clothReviewNo', 'fit', 'feeling',\n",
       "       'stretch', 'visibility', 'thickness', 'seasonSpring', 'seasonSummer',\n",
       "       'seasonFall', 'seasonWinter'],\n",
       "      dtype='object')"
      ]
     },
     "execution_count": 227,
     "metadata": {},
     "output_type": "execute_result"
    }
   ],
   "source": [
    "skirt.columns"
   ]
  },
  {
   "cell_type": "code",
   "execution_count": 228,
   "id": "8a3f16ce",
   "metadata": {},
   "outputs": [
    {
     "name": "stdout",
     "output_type": "stream",
     "text": [
      "<class 'pandas.core.frame.DataFrame'>\n",
      "RangeIndex: 8030 entries, 0 to 8029\n",
      "Data columns (total 26 columns):\n",
      " #   Column             Non-Null Count  Dtype  \n",
      "---  ------             --------------  -----  \n",
      " 0   clothId            8030 non-null   int64  \n",
      " 1   largeCategory      8030 non-null   int64  \n",
      " 2   largeCategoryName  8030 non-null   object \n",
      " 3   smallCategory      8030 non-null   int64  \n",
      " 4   smallCategoryName  8030 non-null   object \n",
      " 5   colorNo            8030 non-null   int64  \n",
      " 6   clothName          8030 non-null   object \n",
      " 7   brand              8030 non-null   object \n",
      " 8   image              8030 non-null   object \n",
      " 9   clothPrice         8030 non-null   object \n",
      " 10  date               8030 non-null   int64  \n",
      " 11  hashtags           8030 non-null   object \n",
      " 12  clothSexMen        8030 non-null   int64  \n",
      " 13  clothSexWomen      8030 non-null   int64  \n",
      " 14  clothSexCommon     8030 non-null   int64  \n",
      " 15  clothRate          8030 non-null   float64\n",
      " 16  clothReviewNo      8030 non-null   object \n",
      " 17  fit                8030 non-null   int64  \n",
      " 18  feeling            8030 non-null   int64  \n",
      " 19  stretch            8030 non-null   int64  \n",
      " 20  visibility         8030 non-null   int64  \n",
      " 21  thickness          8030 non-null   int64  \n",
      " 22  seasonSpring       8030 non-null   int64  \n",
      " 23  seasonSummer       8030 non-null   int64  \n",
      " 24  seasonFall         8030 non-null   int64  \n",
      " 25  seasonWinter       8030 non-null   int64  \n",
      "dtypes: float64(1), int64(17), object(8)\n",
      "memory usage: 1.6+ MB\n"
     ]
    }
   ],
   "source": [
    "skirt.info()"
   ]
  },
  {
   "cell_type": "code",
   "execution_count": 229,
   "id": "36593144",
   "metadata": {
    "scrolled": false
   },
   "outputs": [
    {
     "data": {
      "text/html": [
       "<div>\n",
       "<style scoped>\n",
       "    .dataframe tbody tr th:only-of-type {\n",
       "        vertical-align: middle;\n",
       "    }\n",
       "\n",
       "    .dataframe tbody tr th {\n",
       "        vertical-align: top;\n",
       "    }\n",
       "\n",
       "    .dataframe thead th {\n",
       "        text-align: right;\n",
       "    }\n",
       "</style>\n",
       "<table border=\"1\" class=\"dataframe\">\n",
       "  <thead>\n",
       "    <tr style=\"text-align: right;\">\n",
       "      <th></th>\n",
       "      <th>clothId</th>\n",
       "      <th>largeCategory</th>\n",
       "      <th>smallCategory</th>\n",
       "      <th>colorNo</th>\n",
       "      <th>date</th>\n",
       "      <th>clothSexMen</th>\n",
       "      <th>clothSexWomen</th>\n",
       "      <th>clothSexCommon</th>\n",
       "      <th>clothRate</th>\n",
       "      <th>fit</th>\n",
       "      <th>feeling</th>\n",
       "      <th>stretch</th>\n",
       "      <th>visibility</th>\n",
       "      <th>thickness</th>\n",
       "      <th>seasonSpring</th>\n",
       "      <th>seasonSummer</th>\n",
       "      <th>seasonFall</th>\n",
       "      <th>seasonWinter</th>\n",
       "    </tr>\n",
       "  </thead>\n",
       "  <tbody>\n",
       "    <tr>\n",
       "      <th>count</th>\n",
       "      <td>8.030000e+03</td>\n",
       "      <td>8030.0</td>\n",
       "      <td>8030.00000</td>\n",
       "      <td>8030.000000</td>\n",
       "      <td>8.030000e+03</td>\n",
       "      <td>8030.0</td>\n",
       "      <td>8030.0</td>\n",
       "      <td>8030.0</td>\n",
       "      <td>8030.000000</td>\n",
       "      <td>8030.000000</td>\n",
       "      <td>8030.000000</td>\n",
       "      <td>8030.000000</td>\n",
       "      <td>8030.000000</td>\n",
       "      <td>8030.000000</td>\n",
       "      <td>8030.000000</td>\n",
       "      <td>8030.000000</td>\n",
       "      <td>8030.000000</td>\n",
       "      <td>8030.000000</td>\n",
       "    </tr>\n",
       "    <tr>\n",
       "      <th>mean</th>\n",
       "      <td>1.827303e+06</td>\n",
       "      <td>5.0</td>\n",
       "      <td>501.82142</td>\n",
       "      <td>14.868742</td>\n",
       "      <td>2.020636e+07</td>\n",
       "      <td>0.0</td>\n",
       "      <td>1.0</td>\n",
       "      <td>0.0</td>\n",
       "      <td>1.441557</td>\n",
       "      <td>0.921046</td>\n",
       "      <td>0.747572</td>\n",
       "      <td>0.918929</td>\n",
       "      <td>1.466874</td>\n",
       "      <td>0.951930</td>\n",
       "      <td>0.224782</td>\n",
       "      <td>0.158157</td>\n",
       "      <td>0.232628</td>\n",
       "      <td>0.144085</td>\n",
       "    </tr>\n",
       "    <tr>\n",
       "      <th>std</th>\n",
       "      <td>4.721685e+05</td>\n",
       "      <td>0.0</td>\n",
       "      <td>0.80569</td>\n",
       "      <td>15.687411</td>\n",
       "      <td>1.121140e+04</td>\n",
       "      <td>0.0</td>\n",
       "      <td>0.0</td>\n",
       "      <td>0.0</td>\n",
       "      <td>2.164618</td>\n",
       "      <td>1.388257</td>\n",
       "      <td>1.216880</td>\n",
       "      <td>1.549058</td>\n",
       "      <td>2.183245</td>\n",
       "      <td>1.477841</td>\n",
       "      <td>0.417465</td>\n",
       "      <td>0.364911</td>\n",
       "      <td>0.422533</td>\n",
       "      <td>0.351197</td>\n",
       "    </tr>\n",
       "    <tr>\n",
       "      <th>min</th>\n",
       "      <td>1.465310e+05</td>\n",
       "      <td>5.0</td>\n",
       "      <td>501.00000</td>\n",
       "      <td>1.000000</td>\n",
       "      <td>2.014112e+07</td>\n",
       "      <td>0.0</td>\n",
       "      <td>1.0</td>\n",
       "      <td>0.0</td>\n",
       "      <td>0.000000</td>\n",
       "      <td>0.000000</td>\n",
       "      <td>0.000000</td>\n",
       "      <td>0.000000</td>\n",
       "      <td>0.000000</td>\n",
       "      <td>0.000000</td>\n",
       "      <td>0.000000</td>\n",
       "      <td>0.000000</td>\n",
       "      <td>0.000000</td>\n",
       "      <td>0.000000</td>\n",
       "    </tr>\n",
       "    <tr>\n",
       "      <th>25%</th>\n",
       "      <td>1.530896e+06</td>\n",
       "      <td>5.0</td>\n",
       "      <td>501.00000</td>\n",
       "      <td>2.000000</td>\n",
       "      <td>2.020073e+07</td>\n",
       "      <td>0.0</td>\n",
       "      <td>1.0</td>\n",
       "      <td>0.0</td>\n",
       "      <td>0.000000</td>\n",
       "      <td>0.000000</td>\n",
       "      <td>0.000000</td>\n",
       "      <td>0.000000</td>\n",
       "      <td>0.000000</td>\n",
       "      <td>0.000000</td>\n",
       "      <td>0.000000</td>\n",
       "      <td>0.000000</td>\n",
       "      <td>0.000000</td>\n",
       "      <td>0.000000</td>\n",
       "    </tr>\n",
       "    <tr>\n",
       "      <th>50%</th>\n",
       "      <td>1.954120e+06</td>\n",
       "      <td>5.0</td>\n",
       "      <td>502.00000</td>\n",
       "      <td>7.000000</td>\n",
       "      <td>2.021052e+07</td>\n",
       "      <td>0.0</td>\n",
       "      <td>1.0</td>\n",
       "      <td>0.0</td>\n",
       "      <td>0.000000</td>\n",
       "      <td>0.000000</td>\n",
       "      <td>0.000000</td>\n",
       "      <td>0.000000</td>\n",
       "      <td>0.000000</td>\n",
       "      <td>0.000000</td>\n",
       "      <td>0.000000</td>\n",
       "      <td>0.000000</td>\n",
       "      <td>0.000000</td>\n",
       "      <td>0.000000</td>\n",
       "    </tr>\n",
       "    <tr>\n",
       "      <th>75%</th>\n",
       "      <td>2.203965e+06</td>\n",
       "      <td>5.0</td>\n",
       "      <td>503.00000</td>\n",
       "      <td>24.000000</td>\n",
       "      <td>2.021103e+07</td>\n",
       "      <td>0.0</td>\n",
       "      <td>1.0</td>\n",
       "      <td>0.0</td>\n",
       "      <td>4.300000</td>\n",
       "      <td>2.000000</td>\n",
       "      <td>1.000000</td>\n",
       "      <td>1.000000</td>\n",
       "      <td>4.000000</td>\n",
       "      <td>3.000000</td>\n",
       "      <td>0.000000</td>\n",
       "      <td>0.000000</td>\n",
       "      <td>0.000000</td>\n",
       "      <td>0.000000</td>\n",
       "    </tr>\n",
       "    <tr>\n",
       "      <th>max</th>\n",
       "      <td>2.413365e+06</td>\n",
       "      <td>5.0</td>\n",
       "      <td>503.00000</td>\n",
       "      <td>71.000000</td>\n",
       "      <td>2.022031e+07</td>\n",
       "      <td>0.0</td>\n",
       "      <td>1.0</td>\n",
       "      <td>0.0</td>\n",
       "      <td>5.000000</td>\n",
       "      <td>5.000000</td>\n",
       "      <td>5.000000</td>\n",
       "      <td>5.000000</td>\n",
       "      <td>6.000000</td>\n",
       "      <td>5.000000</td>\n",
       "      <td>1.000000</td>\n",
       "      <td>1.000000</td>\n",
       "      <td>1.000000</td>\n",
       "      <td>1.000000</td>\n",
       "    </tr>\n",
       "  </tbody>\n",
       "</table>\n",
       "</div>"
      ],
      "text/plain": [
       "            clothId  largeCategory  smallCategory      colorNo          date  \\\n",
       "count  8.030000e+03         8030.0     8030.00000  8030.000000  8.030000e+03   \n",
       "mean   1.827303e+06            5.0      501.82142    14.868742  2.020636e+07   \n",
       "std    4.721685e+05            0.0        0.80569    15.687411  1.121140e+04   \n",
       "min    1.465310e+05            5.0      501.00000     1.000000  2.014112e+07   \n",
       "25%    1.530896e+06            5.0      501.00000     2.000000  2.020073e+07   \n",
       "50%    1.954120e+06            5.0      502.00000     7.000000  2.021052e+07   \n",
       "75%    2.203965e+06            5.0      503.00000    24.000000  2.021103e+07   \n",
       "max    2.413365e+06            5.0      503.00000    71.000000  2.022031e+07   \n",
       "\n",
       "       clothSexMen  clothSexWomen  clothSexCommon    clothRate          fit  \\\n",
       "count       8030.0         8030.0          8030.0  8030.000000  8030.000000   \n",
       "mean           0.0            1.0             0.0     1.441557     0.921046   \n",
       "std            0.0            0.0             0.0     2.164618     1.388257   \n",
       "min            0.0            1.0             0.0     0.000000     0.000000   \n",
       "25%            0.0            1.0             0.0     0.000000     0.000000   \n",
       "50%            0.0            1.0             0.0     0.000000     0.000000   \n",
       "75%            0.0            1.0             0.0     4.300000     2.000000   \n",
       "max            0.0            1.0             0.0     5.000000     5.000000   \n",
       "\n",
       "           feeling      stretch   visibility    thickness  seasonSpring  \\\n",
       "count  8030.000000  8030.000000  8030.000000  8030.000000   8030.000000   \n",
       "mean      0.747572     0.918929     1.466874     0.951930      0.224782   \n",
       "std       1.216880     1.549058     2.183245     1.477841      0.417465   \n",
       "min       0.000000     0.000000     0.000000     0.000000      0.000000   \n",
       "25%       0.000000     0.000000     0.000000     0.000000      0.000000   \n",
       "50%       0.000000     0.000000     0.000000     0.000000      0.000000   \n",
       "75%       1.000000     1.000000     4.000000     3.000000      0.000000   \n",
       "max       5.000000     5.000000     6.000000     5.000000      1.000000   \n",
       "\n",
       "       seasonSummer   seasonFall  seasonWinter  \n",
       "count   8030.000000  8030.000000   8030.000000  \n",
       "mean       0.158157     0.232628      0.144085  \n",
       "std        0.364911     0.422533      0.351197  \n",
       "min        0.000000     0.000000      0.000000  \n",
       "25%        0.000000     0.000000      0.000000  \n",
       "50%        0.000000     0.000000      0.000000  \n",
       "75%        0.000000     0.000000      0.000000  \n",
       "max        1.000000     1.000000      1.000000  "
      ]
     },
     "execution_count": 229,
     "metadata": {},
     "output_type": "execute_result"
    }
   ],
   "source": [
    "skirt.describe()"
   ]
  },
  {
   "cell_type": "code",
   "execution_count": 230,
   "id": "ef9cc3fb",
   "metadata": {},
   "outputs": [],
   "source": [
    "skirt = skirt.drop_duplicates(subset = \"clothId\")\n",
    "skirt = skirt.reset_index(drop=True)"
   ]
  },
  {
   "cell_type": "code",
   "execution_count": 231,
   "id": "ec3de9d7",
   "metadata": {},
   "outputs": [],
   "source": [
    "skirt['smallCategory'] = skirt['smallCategory'].astype('str')"
   ]
  },
  {
   "cell_type": "code",
   "execution_count": 232,
   "id": "9b119c74",
   "metadata": {},
   "outputs": [
    {
     "data": {
      "text/plain": [
       "array([5], dtype=int64)"
      ]
     },
     "execution_count": 232,
     "metadata": {},
     "output_type": "execute_result"
    }
   ],
   "source": [
    "skirt['largeCategory'].unique()"
   ]
  },
  {
   "cell_type": "code",
   "execution_count": 233,
   "id": "e04ce950",
   "metadata": {},
   "outputs": [
    {
     "data": {
      "text/plain": [
       "array(['스커트'], dtype=object)"
      ]
     },
     "execution_count": 233,
     "metadata": {},
     "output_type": "execute_result"
    }
   ],
   "source": [
    "skirt['largeCategoryName'].unique()"
   ]
  },
  {
   "cell_type": "code",
   "execution_count": 234,
   "id": "68bb530a",
   "metadata": {},
   "outputs": [
    {
     "data": {
      "text/plain": [
       "array(['503', '501', '502'], dtype=object)"
      ]
     },
     "execution_count": 234,
     "metadata": {},
     "output_type": "execute_result"
    }
   ],
   "source": [
    "skirt['smallCategory'].unique()"
   ]
  },
  {
   "cell_type": "code",
   "execution_count": 235,
   "id": "ee7cd6d6",
   "metadata": {
    "scrolled": false
   },
   "outputs": [
    {
     "data": {
      "text/plain": [
       "array(['롱스커트', '미니스커트', '미디스커트'], dtype=object)"
      ]
     },
     "execution_count": 235,
     "metadata": {},
     "output_type": "execute_result"
    }
   ],
   "source": [
    "skirt['smallCategoryName'].unique()"
   ]
  },
  {
   "cell_type": "code",
   "execution_count": 236,
   "id": "ad91f092",
   "metadata": {},
   "outputs": [],
   "source": [
    "skirt['smallCategory'] = skirt['smallCategory'].astype('int')"
   ]
  },
  {
   "cell_type": "markdown",
   "id": "91dd8116",
   "metadata": {},
   "source": [
    "### smallCategory 원핫인코딩 변환"
   ]
  },
  {
   "cell_type": "code",
   "execution_count": 237,
   "id": "5d269fa5",
   "metadata": {},
   "outputs": [],
   "source": [
    "skirt.insert(4, \"smallCategoryLongskirt\", skirt['smallCategory'], True)\n",
    "skirt.insert(4, \"smallCategoryMidi\", skirt['smallCategory'], True)\n",
    "skirt.insert(4, \"smallCategoryMiniskirt\", skirt['smallCategory'], True)"
   ]
  },
  {
   "cell_type": "code",
   "execution_count": 238,
   "id": "32eee44a",
   "metadata": {},
   "outputs": [],
   "source": [
    "skirt['smallCategoryMiniskirt'] = skirt['smallCategoryMiniskirt'].apply(lambda x: 1 if x == 501 else 0)\n",
    "skirt['smallCategoryMidi'] = skirt['smallCategoryMidi'].apply(lambda x: 1 if x == 502 else 0)\n",
    "skirt['smallCategoryLongskirt'] = skirt['smallCategoryLongskirt'].apply(lambda x: 1 if x == 503 else 0)"
   ]
  },
  {
   "cell_type": "code",
   "execution_count": 239,
   "id": "7536a508",
   "metadata": {},
   "outputs": [],
   "source": [
    "skirt = skirt.drop('smallCategory', axis=1)"
   ]
  },
  {
   "cell_type": "markdown",
   "id": "162e74e3",
   "metadata": {},
   "source": [
    " "
   ]
  },
  {
   "cell_type": "code",
   "execution_count": 240,
   "id": "24e4964f",
   "metadata": {
    "scrolled": true
   },
   "outputs": [
    {
     "data": {
      "text/plain": [
       "Index(['clothId', 'largeCategory', 'largeCategoryName',\n",
       "       'smallCategoryMiniskirt', 'smallCategoryMidi', 'smallCategoryLongskirt',\n",
       "       'smallCategoryName', 'colorNo', 'clothName', 'brand', 'image',\n",
       "       'clothPrice', 'date', 'hashtags', 'clothSexMen', 'clothSexWomen',\n",
       "       'clothSexCommon', 'clothRate', 'clothReviewNo', 'fit', 'feeling',\n",
       "       'stretch', 'visibility', 'thickness', 'seasonSpring', 'seasonSummer',\n",
       "       'seasonFall', 'seasonWinter'],\n",
       "      dtype='object')"
      ]
     },
     "execution_count": 240,
     "metadata": {},
     "output_type": "execute_result"
    }
   ],
   "source": [
    "skirt.columns"
   ]
  },
  {
   "cell_type": "code",
   "execution_count": 241,
   "id": "211bf458",
   "metadata": {},
   "outputs": [
    {
     "name": "stdout",
     "output_type": "stream",
     "text": [
      "0    4573\n",
      "1    3449\n",
      "Name: smallCategoryMiniskirt, dtype: int64\n",
      "0    5466\n",
      "1    2556\n",
      "Name: smallCategoryMidi, dtype: int64\n",
      "0    6005\n",
      "1    2017\n",
      "Name: smallCategoryLongskirt, dtype: int64\n",
      "8022\n",
      "(8022, 28)\n"
     ]
    }
   ],
   "source": [
    "# smallCategory 모든 1의 값의 개수 == 행의 개수\n",
    "\n",
    "num = 0\n",
    "for i in range(3, 6):\n",
    "    num += skirt[skirt.columns[i]].value_counts()[1]\n",
    "    print(skirt[skirt.columns[i]].value_counts())\n",
    "print(num)\n",
    "print(skirt.shape)"
   ]
  },
  {
   "cell_type": "markdown",
   "id": "c0557b77",
   "metadata": {},
   "source": [
    "### clothSexCommon 변환"
   ]
  },
  {
   "cell_type": "code",
   "execution_count": 242,
   "id": "ac541e04",
   "metadata": {
    "scrolled": true
   },
   "outputs": [],
   "source": [
    "skirt['clothSexMen'] = skirt.apply(lambda x: 1 if x['clothSexCommon'] == 1 else x['clothSexMen'], axis=1)\n",
    "skirt['clothSexWomen'] = skirt.apply(lambda x: 1 if x['clothSexCommon'] == 1 else x['clothSexWomen'], axis=1)"
   ]
  },
  {
   "cell_type": "code",
   "execution_count": 243,
   "id": "aca9be60",
   "metadata": {},
   "outputs": [],
   "source": [
    "skirt = skirt.drop('clothSexCommon', axis=1)"
   ]
  },
  {
   "cell_type": "code",
   "execution_count": 244,
   "id": "ea01b401",
   "metadata": {
    "scrolled": false
   },
   "outputs": [
    {
     "data": {
      "text/plain": [
       "Index(['clothId', 'largeCategory', 'largeCategoryName',\n",
       "       'smallCategoryMiniskirt', 'smallCategoryMidi', 'smallCategoryLongskirt',\n",
       "       'smallCategoryName', 'colorNo', 'clothName', 'brand', 'image',\n",
       "       'clothPrice', 'date', 'hashtags', 'clothSexMen', 'clothSexWomen',\n",
       "       'clothRate', 'clothReviewNo', 'fit', 'feeling', 'stretch', 'visibility',\n",
       "       'thickness', 'seasonSpring', 'seasonSummer', 'seasonFall',\n",
       "       'seasonWinter'],\n",
       "      dtype='object')"
      ]
     },
     "execution_count": 244,
     "metadata": {},
     "output_type": "execute_result"
    }
   ],
   "source": [
    "skirt.columns"
   ]
  },
  {
   "cell_type": "code",
   "execution_count": 245,
   "id": "64132acd",
   "metadata": {},
   "outputs": [],
   "source": [
    "skirt['clothSexMen'] = skirt.apply(lambda x: 1 if (x['clothSexMen']==0 and x['clothSexWomen']==0) else x['clothSexMen'], axis=1)\n",
    "skirt['clothSexWomen'] = skirt.apply(lambda x: 1 if (x['clothSexMen']==0 and x['clothSexWomen']==0) else x['clothSexWomen'], axis=1)"
   ]
  },
  {
   "cell_type": "code",
   "execution_count": 246,
   "id": "b70d54c4",
   "metadata": {
    "scrolled": false
   },
   "outputs": [
    {
     "name": "stdout",
     "output_type": "stream",
     "text": [
      "0    8022\n",
      "Name: clothSexMen, dtype: int64\n",
      "1    8022\n",
      "Name: clothSexWomen, dtype: int64\n",
      "(8022, 27)\n"
     ]
    }
   ],
   "source": [
    "print(skirt['clothSexMen'].value_counts())\n",
    "print(skirt['clothSexWomen'].value_counts())\n",
    "print(skirt.shape)"
   ]
  },
  {
   "cell_type": "markdown",
   "id": "d5c159a1",
   "metadata": {},
   "source": [
    "### color 원핫인코딩 변환"
   ]
  },
  {
   "cell_type": "markdown",
   "id": "7b09fd5d",
   "metadata": {},
   "source": [
    "#### 스커트\n",
    "- white (1)\n",
    "- grey (13, 24, 3, 25)\n",
    "- black (2)\n",
    "- red (51, 11, 49)\n",
    "- pink (47, 10, 45, 48, 55)\n",
    "- orange (52, 54, 53, 46, 12)\n",
    "- ivory (23)\n",
    "- yellow (44, 9, 43, 14)\n",
    "- green (33, 31, 32, 6, 34, 30, 35)\n",
    "- blue (37, 38, 7, 36)\n",
    "- purple (41, 39, 8, 40)\n",
    "- brown (4, 27)\n",
    "- beige (28, 26, 29, 5)\n",
    "- jean (16, 57, 58, 59, 60)\n",
    "- pattern (19, 20, 18, 61, 65, 62, 63, 64, 69, 66)\n",
    "- others (71, 67, 70, 17, 21, 68, 22, 15)"
   ]
  },
  {
   "cell_type": "code",
   "execution_count": 247,
   "id": "c80ef353",
   "metadata": {},
   "outputs": [],
   "source": [
    "skirt.insert(8, \"colorOthers\", skirt['colorNo'], True)\n",
    "skirt.insert(8, \"colorPattern\", skirt['colorNo'], True)\n",
    "skirt.insert(8, \"colorJean\", skirt['colorNo'], True)\n",
    "skirt.insert(8, \"colorBeige\", skirt['colorNo'], True)\n",
    "skirt.insert(8, \"colorBrown\", skirt['colorNo'], True)\n",
    "skirt.insert(8, \"colorPurple\", skirt['colorNo'], True)\n",
    "skirt.insert(8, \"colorBlue\", skirt['colorNo'], True)\n",
    "skirt.insert(8, \"colorGreen\", skirt['colorNo'], True)\n",
    "skirt.insert(8, \"colorYellow\", skirt['colorNo'], True)\n",
    "skirt.insert(8, \"colorIvory\", skirt['colorNo'], True)\n",
    "skirt.insert(8, \"colorOrange\", skirt['colorNo'], True)\n",
    "skirt.insert(8, \"colorPink\", skirt['colorNo'], True)\n",
    "skirt.insert(8, \"colorRed\", skirt['colorNo'], True)\n",
    "skirt.insert(8, \"colorBlack\", skirt['colorNo'], True)\n",
    "skirt.insert(8, \"colorGrey\", skirt['colorNo'], True)\n",
    "skirt.insert(8, \"colorWhite\", skirt['colorNo'], True)"
   ]
  },
  {
   "cell_type": "code",
   "execution_count": 248,
   "id": "b7a1fad2",
   "metadata": {},
   "outputs": [],
   "source": [
    "skirt['colorWhite'] = skirt['colorWhite'].apply(lambda x: 1 if x == 1 else 0)\n",
    "skirt['colorGrey'] = skirt['colorGrey'].apply(lambda x: 1 if x in [13, 24, 3, 25] else 0)\n",
    "skirt['colorBlack'] = skirt['colorBlack'].apply(lambda x: 1 if x == 2 else 0)\n",
    "skirt['colorRed'] = skirt['colorRed'].apply(lambda x: 1 if x in [51, 11, 49] else 0)\n",
    "skirt['colorPink'] = skirt['colorPink'].apply(lambda x: 1 if x in [47, 10, 45, 48, 55] else 0)\n",
    "skirt['colorOrange'] = skirt['colorOrange'].apply(lambda x: 1 if x in [52, 54, 53, 46, 12] else 0)\n",
    "skirt['colorIvory'] = skirt['colorIvory'].apply(lambda x: 1 if x == 23 else 0)\n",
    "skirt['colorYellow'] = skirt['colorYellow'].apply(lambda x: 1 if x in [44, 9, 43, 14] else 0)\n",
    "skirt['colorGreen'] = skirt['colorGreen'].apply(lambda x: 1 if x in [33, 31, 32, 6, 34, 30, 35] else 0)\n",
    "skirt['colorBlue'] = skirt['colorBlue'].apply(lambda x: 1 if x in [37, 38, 7, 36] else 0)\n",
    "skirt['colorPurple'] = skirt['colorPurple'].apply(lambda x: 1 if x in [41, 39, 8, 40] else 0)\n",
    "skirt['colorBrown'] = skirt['colorBrown'].apply(lambda x: 1 if x in [4, 27] else 0)\n",
    "skirt['colorBeige'] = skirt['colorBeige'].apply(lambda x: 1 if x in [28, 26, 29, 5] else 0)\n",
    "skirt['colorJean'] = skirt['colorJean'].apply(lambda x: 1 if x in [16, 57, 58, 59, 60] else 0)\n",
    "skirt['colorPattern'] = skirt['colorPattern'].apply(lambda x: 1 if x in [19, 20, 18, 61, 65, 62, 63, 64, 69, 66] else 0)\n",
    "skirt['colorOthers'] = skirt['colorOthers'].apply(lambda x: 1 if x in [71, 67, 70, 17, 21, 68, 22, 15] else 0)"
   ]
  },
  {
   "cell_type": "code",
   "execution_count": 249,
   "id": "275edc46",
   "metadata": {
    "scrolled": false
   },
   "outputs": [
    {
     "name": "stdout",
     "output_type": "stream",
     "text": [
      "Index(['clothId', 'largeCategory', 'largeCategoryName',\n",
      "       'smallCategoryMiniskirt', 'smallCategoryMidi', 'smallCategoryLongskirt',\n",
      "       'smallCategoryName', 'colorNo', 'colorWhite', 'colorGrey', 'colorBlack',\n",
      "       'colorRed', 'colorPink', 'colorOrange', 'colorIvory', 'colorYellow',\n",
      "       'colorGreen', 'colorBlue', 'colorPurple', 'colorBrown', 'colorBeige',\n",
      "       'colorJean', 'colorPattern', 'colorOthers', 'clothName', 'brand',\n",
      "       'image', 'clothPrice', 'date', 'hashtags', 'clothSexMen',\n",
      "       'clothSexWomen', 'clothRate', 'clothReviewNo', 'fit', 'feeling',\n",
      "       'stretch', 'visibility', 'thickness', 'seasonSpring', 'seasonSummer',\n",
      "       'seasonFall', 'seasonWinter'],\n",
      "      dtype='object')\n"
     ]
    }
   ],
   "source": [
    "print(skirt.columns)"
   ]
  },
  {
   "cell_type": "code",
   "execution_count": 250,
   "id": "9b38d303",
   "metadata": {},
   "outputs": [],
   "source": [
    "skirt = skirt.drop('colorNo', axis=1)"
   ]
  },
  {
   "cell_type": "code",
   "execution_count": 251,
   "id": "66fd3f9d",
   "metadata": {},
   "outputs": [
    {
     "name": "stdout",
     "output_type": "stream",
     "text": [
      "0    7545\n",
      "1     477\n",
      "Name: colorWhite, dtype: int64\n",
      "0    7465\n",
      "1     557\n",
      "Name: colorGrey, dtype: int64\n",
      "0    6157\n",
      "1    1865\n",
      "Name: colorBlack, dtype: int64\n",
      "0    7835\n",
      "1     187\n",
      "Name: colorRed, dtype: int64\n",
      "0    7666\n",
      "1     356\n",
      "Name: colorPink, dtype: int64\n",
      "0    7960\n",
      "1      62\n",
      "Name: colorOrange, dtype: int64\n",
      "0    7576\n",
      "1     446\n",
      "Name: colorIvory, dtype: int64\n",
      "0    7874\n",
      "1     148\n",
      "Name: colorYellow, dtype: int64\n",
      "0    7400\n",
      "1     622\n",
      "Name: colorGreen, dtype: int64\n",
      "0    7040\n",
      "1     982\n",
      "Name: colorBlue, dtype: int64\n",
      "0    7848\n",
      "1     174\n",
      "Name: colorPurple, dtype: int64\n",
      "0    7642\n",
      "1     380\n",
      "Name: colorBrown, dtype: int64\n",
      "0    7181\n",
      "1     841\n",
      "Name: colorBeige, dtype: int64\n",
      "0    7700\n",
      "1     322\n",
      "Name: colorJean, dtype: int64\n",
      "0    7685\n",
      "1     337\n",
      "Name: colorPattern, dtype: int64\n",
      "0    7756\n",
      "1     266\n",
      "Name: colorOthers, dtype: int64\n",
      "8022\n",
      "(8022, 42)\n"
     ]
    }
   ],
   "source": [
    "# color도 모든 1의 값의 개수 == 행의 개수\n",
    "num = 0\n",
    "for i in range(7, 23):\n",
    "    num += skirt[skirt.columns[i]].value_counts()[1]\n",
    "    print(skirt[skirt.columns[i]].value_counts())\n",
    "print(num)\n",
    "print(skirt.shape)"
   ]
  },
  {
   "cell_type": "code",
   "execution_count": 252,
   "id": "7473af0b",
   "metadata": {
    "scrolled": true
   },
   "outputs": [],
   "source": [
    "skirt.insert(23, \"colorName\", True)"
   ]
  },
  {
   "cell_type": "code",
   "execution_count": 253,
   "id": "5a9d158b",
   "metadata": {},
   "outputs": [],
   "source": [
    "skirt['colorName'] = skirt.apply(lambda x: 'white' if x['colorWhite']==1 else x['colorName'], axis=1)\n",
    "skirt['colorName'] = skirt.apply(lambda x: 'grey' if x['colorGrey']==1 else x['colorName'], axis=1)\n",
    "skirt['colorName'] = skirt.apply(lambda x: 'black' if x['colorBlack']==1 else x['colorName'], axis=1)\n",
    "skirt['colorName'] = skirt.apply(lambda x: 'red' if x['colorRed']==1 else x['colorName'], axis=1)\n",
    "skirt['colorName'] = skirt.apply(lambda x: 'pink' if x['colorPink']==1 else x['colorName'], axis=1)\n",
    "skirt['colorName'] = skirt.apply(lambda x: 'orange' if x['colorOrange']==1 else x['colorName'], axis=1)\n",
    "skirt['colorName'] = skirt.apply(lambda x: 'ivory' if x['colorIvory']==1 else x['colorName'], axis=1)\n",
    "skirt['colorName'] = skirt.apply(lambda x: 'yellow' if x['colorYellow']==1 else x['colorName'], axis=1)\n",
    "skirt['colorName'] = skirt.apply(lambda x: 'green' if x['colorGreen']==1 else x['colorName'], axis=1)\n",
    "skirt['colorName'] = skirt.apply(lambda x: 'blue' if x['colorBlue']==1 else x['colorName'], axis=1)\n",
    "skirt['colorName'] = skirt.apply(lambda x: 'purple' if x['colorPurple']==1 else x['colorName'], axis=1)\n",
    "skirt['colorName'] = skirt.apply(lambda x: 'brown' if x['colorBrown']==1 else x['colorName'], axis=1)\n",
    "skirt['colorName'] = skirt.apply(lambda x: 'beige' if x['colorBeige']==1 else x['colorName'], axis=1)\n",
    "skirt['colorName'] = skirt.apply(lambda x: 'jean' if x['colorJean']==1 else x['colorName'], axis=1)\n",
    "skirt['colorName'] = skirt.apply(lambda x: 'pattern' if x['colorPattern']==1 else x['colorName'], axis=1)\n",
    "skirt['colorName'] = skirt.apply(lambda x: 'others' if x['colorOthers']==1 else x['colorName'], axis=1)"
   ]
  },
  {
   "cell_type": "code",
   "execution_count": 254,
   "id": "6d480038",
   "metadata": {
    "scrolled": false
   },
   "outputs": [
    {
     "data": {
      "text/plain": [
       "black      1865\n",
       "blue        982\n",
       "beige       841\n",
       "green       622\n",
       "grey        557\n",
       "white       477\n",
       "ivory       446\n",
       "brown       380\n",
       "pink        356\n",
       "pattern     337\n",
       "jean        322\n",
       "others      266\n",
       "red         187\n",
       "purple      174\n",
       "yellow      148\n",
       "orange       62\n",
       "Name: colorName, dtype: int64"
      ]
     },
     "execution_count": 254,
     "metadata": {},
     "output_type": "execute_result"
    }
   ],
   "source": [
    "skirt['colorName'].value_counts()"
   ]
  },
  {
   "cell_type": "markdown",
   "id": "d915831f",
   "metadata": {},
   "source": [
    "### Price 전처리"
   ]
  },
  {
   "cell_type": "code",
   "execution_count": 255,
   "id": "df67d6c1",
   "metadata": {
    "scrolled": false
   },
   "outputs": [
    {
     "data": {
      "text/plain": [
       "0       228000\n",
       "1       156000\n",
       "2       182000\n",
       "3        88000\n",
       "4       160000\n",
       "         ...  \n",
       "8017     99000\n",
       "8018     89000\n",
       "8019     32900\n",
       "8020     51300\n",
       "8021     58500\n",
       "Name: clothPrice, Length: 8022, dtype: object"
      ]
     },
     "execution_count": 255,
     "metadata": {},
     "output_type": "execute_result"
    }
   ],
   "source": [
    "skirt['clothPrice'] = skirt['clothPrice'].apply(lambda x: x.replace(\",\", \"\"))\n",
    "skirt['clothPrice'] = skirt['clothPrice'].apply(lambda x: x.replace(\"원\", \"\"))\n",
    "skirt['clothPrice']"
   ]
  },
  {
   "cell_type": "code",
   "execution_count": 256,
   "id": "2cb6083b",
   "metadata": {},
   "outputs": [],
   "source": [
    "skirt['clothPrice'] = skirt['clothPrice'].astype('int')"
   ]
  },
  {
   "cell_type": "code",
   "execution_count": 257,
   "id": "a9075a92",
   "metadata": {
    "scrolled": true
   },
   "outputs": [
    {
     "data": {
      "text/plain": [
       "0         0\n",
       "1         0\n",
       "2         0\n",
       "3         0\n",
       "4         0\n",
       "       ... \n",
       "8017      1\n",
       "8018      0\n",
       "8019    148\n",
       "8020     14\n",
       "8021      0\n",
       "Name: clothReviewNo, Length: 8022, dtype: int32"
      ]
     },
     "execution_count": 257,
     "metadata": {},
     "output_type": "execute_result"
    }
   ],
   "source": [
    "skirt['clothReviewNo'] = skirt['clothReviewNo'].apply(lambda x: x.replace(\",\", \"\"))\n",
    "skirt['clothReviewNo'] = skirt['clothReviewNo'].astype('int')\n",
    "skirt['clothReviewNo']"
   ]
  },
  {
   "cell_type": "markdown",
   "id": "c0e68b34",
   "metadata": {},
   "source": [
    "skirt.index = skirt['clothId']\n",
    "skirt = skirt.drop('clothId', True)"
   ]
  },
  {
   "cell_type": "code",
   "execution_count": 258,
   "id": "f1388ba9",
   "metadata": {},
   "outputs": [
    {
     "data": {
      "text/plain": [
       "str"
      ]
     },
     "execution_count": 258,
     "metadata": {},
     "output_type": "execute_result"
    }
   ],
   "source": [
    "type(skirt.hashtags.iloc[0])"
   ]
  },
  {
   "cell_type": "code",
   "execution_count": null,
   "id": "ba1bca7d",
   "metadata": {},
   "outputs": [],
   "source": []
  },
  {
   "cell_type": "markdown",
   "id": "f47570cf",
   "metadata": {},
   "source": [
    "### Index를 NewGoodsNo로 변경"
   ]
  },
  {
   "cell_type": "code",
   "execution_count": 259,
   "id": "35c14dc2",
   "metadata": {
    "scrolled": false
   },
   "outputs": [
    {
     "data": {
      "text/html": [
       "<div>\n",
       "<style scoped>\n",
       "    .dataframe tbody tr th:only-of-type {\n",
       "        vertical-align: middle;\n",
       "    }\n",
       "\n",
       "    .dataframe tbody tr th {\n",
       "        vertical-align: top;\n",
       "    }\n",
       "\n",
       "    .dataframe thead th {\n",
       "        text-align: right;\n",
       "    }\n",
       "</style>\n",
       "<table border=\"1\" class=\"dataframe\">\n",
       "  <thead>\n",
       "    <tr style=\"text-align: right;\">\n",
       "      <th></th>\n",
       "      <th>goodsNo</th>\n",
       "      <th>goodsSize</th>\n",
       "      <th>newGoodsNo</th>\n",
       "      <th>index</th>\n",
       "      <th>reviewNoun</th>\n",
       "      <th>userHeight</th>\n",
       "      <th>userWeight</th>\n",
       "      <th>userSexMen</th>\n",
       "      <th>userSexWomen</th>\n",
       "      <th>month1</th>\n",
       "      <th>month2</th>\n",
       "      <th>month3</th>\n",
       "      <th>month4</th>\n",
       "      <th>month5</th>\n",
       "      <th>month6</th>\n",
       "      <th>month7</th>\n",
       "      <th>month8</th>\n",
       "      <th>month9</th>\n",
       "      <th>month10</th>\n",
       "      <th>month11</th>\n",
       "      <th>month12</th>\n",
       "    </tr>\n",
       "  </thead>\n",
       "  <tbody>\n",
       "    <tr>\n",
       "      <th>0</th>\n",
       "      <td>387628</td>\n",
       "      <td>FREE/PINK</td>\n",
       "      <td>38762801116</td>\n",
       "      <td>1116</td>\n",
       "      <td>[{'text': '리본', 'value': 1}, {'text': '포인트', '...</td>\n",
       "      <td>162.702128</td>\n",
       "      <td>51.744681</td>\n",
       "      <td>0.042553</td>\n",
       "      <td>0.957447</td>\n",
       "      <td>9</td>\n",
       "      <td>10</td>\n",
       "      <td>0</td>\n",
       "      <td>1</td>\n",
       "      <td>0</td>\n",
       "      <td>0</td>\n",
       "      <td>0</td>\n",
       "      <td>0</td>\n",
       "      <td>1</td>\n",
       "      <td>3</td>\n",
       "      <td>11</td>\n",
       "      <td>12</td>\n",
       "    </tr>\n",
       "    <tr>\n",
       "      <th>1</th>\n",
       "      <td>387631</td>\n",
       "      <td>FREE/BLUE</td>\n",
       "      <td>38763101604</td>\n",
       "      <td>1604</td>\n",
       "      <td>[{'text': '생각', 'value': 1}, {'text': '색', 'va...</td>\n",
       "      <td>165.000000</td>\n",
       "      <td>50.000000</td>\n",
       "      <td>0.000000</td>\n",
       "      <td>1.000000</td>\n",
       "      <td>0</td>\n",
       "      <td>0</td>\n",
       "      <td>2</td>\n",
       "      <td>0</td>\n",
       "      <td>0</td>\n",
       "      <td>0</td>\n",
       "      <td>0</td>\n",
       "      <td>0</td>\n",
       "      <td>0</td>\n",
       "      <td>0</td>\n",
       "      <td>0</td>\n",
       "      <td>0</td>\n",
       "    </tr>\n",
       "    <tr>\n",
       "      <th>2</th>\n",
       "      <td>387632</td>\n",
       "      <td>FREE/NAVY</td>\n",
       "      <td>38763201044</td>\n",
       "      <td>1044</td>\n",
       "      <td>[{'text': '마음', 'value': 2}, {'text': '듭니', 'v...</td>\n",
       "      <td>163.000000</td>\n",
       "      <td>50.000000</td>\n",
       "      <td>0.000000</td>\n",
       "      <td>1.000000</td>\n",
       "      <td>2</td>\n",
       "      <td>0</td>\n",
       "      <td>0</td>\n",
       "      <td>0</td>\n",
       "      <td>0</td>\n",
       "      <td>0</td>\n",
       "      <td>0</td>\n",
       "      <td>0</td>\n",
       "      <td>0</td>\n",
       "      <td>0</td>\n",
       "      <td>0</td>\n",
       "      <td>0</td>\n",
       "    </tr>\n",
       "    <tr>\n",
       "      <th>3</th>\n",
       "      <td>407626</td>\n",
       "      <td>FREE</td>\n",
       "      <td>4076260740</td>\n",
       "      <td>740</td>\n",
       "      <td>[{'text': '배송', 'value': 1}, {'text': '색감', 'v...</td>\n",
       "      <td>165.000000</td>\n",
       "      <td>52.000000</td>\n",
       "      <td>0.000000</td>\n",
       "      <td>1.000000</td>\n",
       "      <td>0</td>\n",
       "      <td>1</td>\n",
       "      <td>0</td>\n",
       "      <td>0</td>\n",
       "      <td>0</td>\n",
       "      <td>0</td>\n",
       "      <td>0</td>\n",
       "      <td>0</td>\n",
       "      <td>0</td>\n",
       "      <td>0</td>\n",
       "      <td>0</td>\n",
       "      <td>0</td>\n",
       "    </tr>\n",
       "    <tr>\n",
       "      <th>4</th>\n",
       "      <td>463655</td>\n",
       "      <td>FREE</td>\n",
       "      <td>4636550465</td>\n",
       "      <td>465</td>\n",
       "      <td>[{'text': '허리', 'value': 2}, {'text': '앞', 'va...</td>\n",
       "      <td>161.733333</td>\n",
       "      <td>53.933333</td>\n",
       "      <td>0.066667</td>\n",
       "      <td>0.933333</td>\n",
       "      <td>0</td>\n",
       "      <td>2</td>\n",
       "      <td>0</td>\n",
       "      <td>0</td>\n",
       "      <td>1</td>\n",
       "      <td>3</td>\n",
       "      <td>2</td>\n",
       "      <td>1</td>\n",
       "      <td>1</td>\n",
       "      <td>2</td>\n",
       "      <td>2</td>\n",
       "      <td>1</td>\n",
       "    </tr>\n",
       "    <tr>\n",
       "      <th>...</th>\n",
       "      <td>...</td>\n",
       "      <td>...</td>\n",
       "      <td>...</td>\n",
       "      <td>...</td>\n",
       "      <td>...</td>\n",
       "      <td>...</td>\n",
       "      <td>...</td>\n",
       "      <td>...</td>\n",
       "      <td>...</td>\n",
       "      <td>...</td>\n",
       "      <td>...</td>\n",
       "      <td>...</td>\n",
       "      <td>...</td>\n",
       "      <td>...</td>\n",
       "      <td>...</td>\n",
       "      <td>...</td>\n",
       "      <td>...</td>\n",
       "      <td>...</td>\n",
       "      <td>...</td>\n",
       "      <td>...</td>\n",
       "      <td>...</td>\n",
       "    </tr>\n",
       "    <tr>\n",
       "      <th>2649</th>\n",
       "      <td>2389731</td>\n",
       "      <td>FREE</td>\n",
       "      <td>23897312219</td>\n",
       "      <td>2219</td>\n",
       "      <td>[{'text': '밴딩', 'value': 1}, {'text': '길이', 'v...</td>\n",
       "      <td>155.000000</td>\n",
       "      <td>50.000000</td>\n",
       "      <td>0.000000</td>\n",
       "      <td>1.000000</td>\n",
       "      <td>0</td>\n",
       "      <td>0</td>\n",
       "      <td>0</td>\n",
       "      <td>0</td>\n",
       "      <td>0</td>\n",
       "      <td>0</td>\n",
       "      <td>0</td>\n",
       "      <td>0</td>\n",
       "      <td>0</td>\n",
       "      <td>1</td>\n",
       "      <td>0</td>\n",
       "      <td>0</td>\n",
       "    </tr>\n",
       "    <tr>\n",
       "      <th>2650</th>\n",
       "      <td>2391576</td>\n",
       "      <td>S</td>\n",
       "      <td>23915762318</td>\n",
       "      <td>2318</td>\n",
       "      <td>[{'text': '와우', 'value': 1}, {'text': '스타일', '...</td>\n",
       "      <td>159.625000</td>\n",
       "      <td>47.750000</td>\n",
       "      <td>0.125000</td>\n",
       "      <td>0.875000</td>\n",
       "      <td>4</td>\n",
       "      <td>3</td>\n",
       "      <td>1</td>\n",
       "      <td>0</td>\n",
       "      <td>0</td>\n",
       "      <td>0</td>\n",
       "      <td>0</td>\n",
       "      <td>0</td>\n",
       "      <td>0</td>\n",
       "      <td>0</td>\n",
       "      <td>0</td>\n",
       "      <td>0</td>\n",
       "    </tr>\n",
       "    <tr>\n",
       "      <th>2651</th>\n",
       "      <td>2391598</td>\n",
       "      <td>S</td>\n",
       "      <td>23915981607</td>\n",
       "      <td>1607</td>\n",
       "      <td>[{'text': '핏', 'value': 1}, {'text': '것', 'val...</td>\n",
       "      <td>167.294118</td>\n",
       "      <td>65.647059</td>\n",
       "      <td>0.000000</td>\n",
       "      <td>1.000000</td>\n",
       "      <td>0</td>\n",
       "      <td>0</td>\n",
       "      <td>0</td>\n",
       "      <td>0</td>\n",
       "      <td>1</td>\n",
       "      <td>4</td>\n",
       "      <td>0</td>\n",
       "      <td>0</td>\n",
       "      <td>4</td>\n",
       "      <td>6</td>\n",
       "      <td>1</td>\n",
       "      <td>1</td>\n",
       "    </tr>\n",
       "    <tr>\n",
       "      <th>2652</th>\n",
       "      <td>2394978</td>\n",
       "      <td>M</td>\n",
       "      <td>2394978371</td>\n",
       "      <td>371</td>\n",
       "      <td>[{'text': '전체', 'value': 1}, {'text': '색상', 'v...</td>\n",
       "      <td>164.000000</td>\n",
       "      <td>52.250000</td>\n",
       "      <td>0.000000</td>\n",
       "      <td>1.000000</td>\n",
       "      <td>0</td>\n",
       "      <td>0</td>\n",
       "      <td>0</td>\n",
       "      <td>0</td>\n",
       "      <td>0</td>\n",
       "      <td>0</td>\n",
       "      <td>0</td>\n",
       "      <td>0</td>\n",
       "      <td>0</td>\n",
       "      <td>0</td>\n",
       "      <td>3</td>\n",
       "      <td>1</td>\n",
       "    </tr>\n",
       "    <tr>\n",
       "      <th>2653</th>\n",
       "      <td>2399426</td>\n",
       "      <td>1</td>\n",
       "      <td>23994261000</td>\n",
       "      <td>1000</td>\n",
       "      <td>[{'text': '사이즈', 'value': 2}, {'text': '평소', '...</td>\n",
       "      <td>162.000000</td>\n",
       "      <td>51.000000</td>\n",
       "      <td>0.000000</td>\n",
       "      <td>1.000000</td>\n",
       "      <td>0</td>\n",
       "      <td>0</td>\n",
       "      <td>0</td>\n",
       "      <td>0</td>\n",
       "      <td>0</td>\n",
       "      <td>0</td>\n",
       "      <td>0</td>\n",
       "      <td>0</td>\n",
       "      <td>0</td>\n",
       "      <td>0</td>\n",
       "      <td>1</td>\n",
       "      <td>0</td>\n",
       "    </tr>\n",
       "  </tbody>\n",
       "</table>\n",
       "<p>2654 rows × 21 columns</p>\n",
       "</div>"
      ],
      "text/plain": [
       "      goodsNo  goodsSize   newGoodsNo  index  \\\n",
       "0      387628  FREE/PINK  38762801116   1116   \n",
       "1      387631  FREE/BLUE  38763101604   1604   \n",
       "2      387632  FREE/NAVY  38763201044   1044   \n",
       "3      407626       FREE   4076260740    740   \n",
       "4      463655       FREE   4636550465    465   \n",
       "...       ...        ...          ...    ...   \n",
       "2649  2389731       FREE  23897312219   2219   \n",
       "2650  2391576          S  23915762318   2318   \n",
       "2651  2391598          S  23915981607   1607   \n",
       "2652  2394978          M   2394978371    371   \n",
       "2653  2399426          1  23994261000   1000   \n",
       "\n",
       "                                             reviewNoun  userHeight  \\\n",
       "0     [{'text': '리본', 'value': 1}, {'text': '포인트', '...  162.702128   \n",
       "1     [{'text': '생각', 'value': 1}, {'text': '색', 'va...  165.000000   \n",
       "2     [{'text': '마음', 'value': 2}, {'text': '듭니', 'v...  163.000000   \n",
       "3     [{'text': '배송', 'value': 1}, {'text': '색감', 'v...  165.000000   \n",
       "4     [{'text': '허리', 'value': 2}, {'text': '앞', 'va...  161.733333   \n",
       "...                                                 ...         ...   \n",
       "2649  [{'text': '밴딩', 'value': 1}, {'text': '길이', 'v...  155.000000   \n",
       "2650  [{'text': '와우', 'value': 1}, {'text': '스타일', '...  159.625000   \n",
       "2651  [{'text': '핏', 'value': 1}, {'text': '것', 'val...  167.294118   \n",
       "2652  [{'text': '전체', 'value': 1}, {'text': '색상', 'v...  164.000000   \n",
       "2653  [{'text': '사이즈', 'value': 2}, {'text': '평소', '...  162.000000   \n",
       "\n",
       "      userWeight  userSexMen  userSexWomen  month1  month2  month3  month4  \\\n",
       "0      51.744681    0.042553      0.957447       9      10       0       1   \n",
       "1      50.000000    0.000000      1.000000       0       0       2       0   \n",
       "2      50.000000    0.000000      1.000000       2       0       0       0   \n",
       "3      52.000000    0.000000      1.000000       0       1       0       0   \n",
       "4      53.933333    0.066667      0.933333       0       2       0       0   \n",
       "...          ...         ...           ...     ...     ...     ...     ...   \n",
       "2649   50.000000    0.000000      1.000000       0       0       0       0   \n",
       "2650   47.750000    0.125000      0.875000       4       3       1       0   \n",
       "2651   65.647059    0.000000      1.000000       0       0       0       0   \n",
       "2652   52.250000    0.000000      1.000000       0       0       0       0   \n",
       "2653   51.000000    0.000000      1.000000       0       0       0       0   \n",
       "\n",
       "      month5  month6  month7  month8  month9  month10  month11  month12  \n",
       "0          0       0       0       0       1        3       11       12  \n",
       "1          0       0       0       0       0        0        0        0  \n",
       "2          0       0       0       0       0        0        0        0  \n",
       "3          0       0       0       0       0        0        0        0  \n",
       "4          1       3       2       1       1        2        2        1  \n",
       "...      ...     ...     ...     ...     ...      ...      ...      ...  \n",
       "2649       0       0       0       0       0        1        0        0  \n",
       "2650       0       0       0       0       0        0        0        0  \n",
       "2651       1       4       0       0       4        6        1        1  \n",
       "2652       0       0       0       0       0        0        3        1  \n",
       "2653       0       0       0       0       0        0        1        0  \n",
       "\n",
       "[2654 rows x 21 columns]"
      ]
     },
     "execution_count": 259,
     "metadata": {},
     "output_type": "execute_result"
    }
   ],
   "source": [
    "sub_skirt = pd.read_json('./size_skirt.json')\n",
    "sub_skirt"
   ]
  },
  {
   "cell_type": "code",
   "execution_count": 267,
   "id": "556dc2da",
   "metadata": {},
   "outputs": [
    {
     "data": {
      "text/plain": [
       "(8876, 64)"
      ]
     },
     "execution_count": 267,
     "metadata": {},
     "output_type": "execute_result"
    }
   ],
   "source": [
    "skirt = pd.merge(skirt, sub_skirt, how=\"left\", left_on=\"clothId\", right_on=\"goodsNo\")\n",
    "skirt.shape"
   ]
  },
  {
   "cell_type": "code",
   "execution_count": 268,
   "id": "8e24b04d",
   "metadata": {},
   "outputs": [
    {
     "data": {
      "text/plain": [
       "Index(['clothId', 'largeCategory', 'largeCategoryName',\n",
       "       'smallCategoryMiniskirt', 'smallCategoryMidi', 'smallCategoryLongskirt',\n",
       "       'smallCategoryName', 'colorWhite', 'colorGrey', 'colorBlack',\n",
       "       'colorRed', 'colorPink', 'colorOrange', 'colorIvory', 'colorYellow',\n",
       "       'colorGreen', 'colorBlue', 'colorPurple', 'colorBrown', 'colorBeige',\n",
       "       'colorJean', 'colorPattern', 'colorOthers', 'colorName', 'clothName',\n",
       "       'brand', 'image', 'clothPrice', 'date', 'hashtags', 'clothSexMen',\n",
       "       'clothSexWomen', 'clothRate', 'clothReviewNo', 'fit', 'feeling',\n",
       "       'stretch', 'visibility', 'thickness', 'seasonSpring', 'seasonSummer',\n",
       "       'seasonFall', 'seasonWinter', 'goodsNo', 'goodsSize', 'newGoodsNo',\n",
       "       'index', 'reviewNoun', 'userHeight', 'userWeight', 'userSexMen',\n",
       "       'userSexWomen', 'month1', 'month2', 'month3', 'month4', 'month5',\n",
       "       'month6', 'month7', 'month8', 'month9', 'month10', 'month11',\n",
       "       'month12'],\n",
       "      dtype='object')"
      ]
     },
     "execution_count": 268,
     "metadata": {},
     "output_type": "execute_result"
    }
   ],
   "source": [
    "skirt.columns"
   ]
  },
  {
   "cell_type": "code",
   "execution_count": 269,
   "id": "30ff368d",
   "metadata": {},
   "outputs": [
    {
     "data": {
      "text/plain": [
       "(8876, 62)"
      ]
     },
     "execution_count": 269,
     "metadata": {},
     "output_type": "execute_result"
    }
   ],
   "source": [
    "skirt = skirt.drop([\"goodsNo\", \"index\"], axis=1)\n",
    "skirt.shape"
   ]
  },
  {
   "cell_type": "code",
   "execution_count": 270,
   "id": "b2df1688",
   "metadata": {},
   "outputs": [
    {
     "data": {
      "text/plain": [
       "854"
      ]
     },
     "execution_count": 270,
     "metadata": {},
     "output_type": "execute_result"
    }
   ],
   "source": [
    "# 8876 : 반복문을 통해 변화된 skirt 행 개수\n",
    "# 8022 : 원래의 skirt 행 개수\n",
    "# 854 : 새로 생긴 skirt 행 개수\n",
    "8876-8022"
   ]
  },
  {
   "cell_type": "code",
   "execution_count": 271,
   "id": "99f7f1b2",
   "metadata": {},
   "outputs": [
    {
     "data": {
      "text/plain": [
       "2654"
      ]
     },
     "execution_count": 271,
     "metadata": {},
     "output_type": "execute_result"
    }
   ],
   "source": [
    "len(sub_skirt)"
   ]
  },
  {
   "cell_type": "code",
   "execution_count": 272,
   "id": "498099bf",
   "metadata": {
    "scrolled": false
   },
   "outputs": [
    {
     "data": {
      "text/plain": [
       "1800"
      ]
     },
     "execution_count": 272,
     "metadata": {},
     "output_type": "execute_result"
    }
   ],
   "source": [
    "len(sub_skirt.goodsNo.unique())"
   ]
  },
  {
   "cell_type": "code",
   "execution_count": 273,
   "id": "68f69f28",
   "metadata": {},
   "outputs": [],
   "source": [
    "from copy import deepcopy\n",
    "b = deepcopy(skirt)"
   ]
  },
  {
   "cell_type": "code",
   "execution_count": 274,
   "id": "721abd64",
   "metadata": {},
   "outputs": [
    {
     "data": {
      "text/plain": [
       "Index(['clothId', 'largeCategory', 'largeCategoryName',\n",
       "       'smallCategoryMiniskirt', 'smallCategoryMidi', 'smallCategoryLongskirt',\n",
       "       'smallCategoryName', 'colorWhite', 'colorGrey', 'colorBlack',\n",
       "       'colorRed', 'colorPink', 'colorOrange', 'colorIvory', 'colorYellow',\n",
       "       'colorGreen', 'colorBlue', 'colorPurple', 'colorBrown', 'colorBeige',\n",
       "       'colorJean', 'colorPattern', 'colorOthers', 'colorName', 'clothName',\n",
       "       'brand', 'image', 'clothPrice', 'date', 'hashtags', 'clothSexMen',\n",
       "       'clothSexWomen', 'clothRate', 'clothReviewNo', 'fit', 'feeling',\n",
       "       'stretch', 'visibility', 'thickness', 'seasonSpring', 'seasonSummer',\n",
       "       'seasonFall', 'seasonWinter', 'goodsSize', 'newGoodsNo', 'reviewNoun',\n",
       "       'userHeight', 'userWeight', 'userSexMen', 'userSexWomen', 'month1',\n",
       "       'month2', 'month3', 'month4', 'month5', 'month6', 'month7', 'month8',\n",
       "       'month9', 'month10', 'month11', 'month12'],\n",
       "      dtype='object')"
      ]
     },
     "execution_count": 274,
     "metadata": {},
     "output_type": "execute_result"
    }
   ],
   "source": [
    "b.columns"
   ]
  },
  {
   "cell_type": "code",
   "execution_count": 275,
   "id": "f0e6b43e",
   "metadata": {},
   "outputs": [],
   "source": [
    "col_list_1 = ['newGoodsNo', 'userSexMen', 'userSexWomen']\n",
    "col_list_2 = ['goodsSize', 'reviewNoun', 'userHeight', 'userWeight', 'month1', 'month2',\n",
    "       'month3', 'month4', 'month5', 'month6', 'month7', 'month8', 'month9',\n",
    "       'month10', 'month11', 'month12']\n",
    "check_list_1 = ['clothId',  'clothSexMen', 'clothSexWomen']\n",
    "check_list_2 = ['Free', [], 0, 0, 0, 0, 0, 0, 0, 0, 0, 0, 0, 0, 0, 0]\n",
    "for i in range(len(col_list_1)):\n",
    "    b[col_list_1[i]] = b[col_list_1[i]].fillna(0)\n",
    "    b[col_list_1[i]] = b.apply(lambda x: x[check_list_1[i]] if x[col_list_1[i]]==0 else x[col_list_1[i]], axis=1)\n",
    "    if i==0:\n",
    "        b[col_list_1[i]] = b[col_list_1[i]].astype('int64')\n",
    "    \n",
    "for i in range(len(col_list_2)):\n",
    "    b[col_list_2[i]] = b[col_list_2[i]].fillna(0)\n",
    "    b[col_list_2[i]] = b.apply(lambda x: check_list_2[i] if x[col_list_2[i]]==0 else x[col_list_2[i]], axis=1)\n",
    "    if i == 0:\n",
    "        b[col_list_2[i]] = b[col_list_2[i]].astype('str')\n",
    "    elif i >= 3:\n",
    "        b[col_list_2[i]] = b[col_list_2[i]].astype('int64')"
   ]
  },
  {
   "cell_type": "code",
   "execution_count": 276,
   "id": "1cc28c34",
   "metadata": {
    "scrolled": false
   },
   "outputs": [],
   "source": [
    "skirt = deepcopy(b)"
   ]
  },
  {
   "cell_type": "code",
   "execution_count": 277,
   "id": "c0472457",
   "metadata": {},
   "outputs": [
    {
     "name": "stdout",
     "output_type": "stream",
     "text": [
      "0\n"
     ]
    }
   ],
   "source": [
    "# 이미지 null 값 확인\n",
    "print(len(skirt[skirt.image.isnull()]))"
   ]
  },
  {
   "cell_type": "code",
   "execution_count": 278,
   "id": "bde79b7e",
   "metadata": {},
   "outputs": [],
   "source": [
    "# hashtags 전처리\n",
    "skirt.hashtags = skirt.apply(lambda x: x.hashtags.replace(\"['\", \"\").replace(\"']\", \"\").replace(\"'\", \"\").replace(\" \", \"\").split(\",\"), axis=1)"
   ]
  },
  {
   "cell_type": "code",
   "execution_count": 279,
   "id": "1586b071",
   "metadata": {},
   "outputs": [],
   "source": [
    "skirt.userHeight = skirt.userHeight.astype('float')\n",
    "skirt.userWeight = skirt.userWeight.astype('float')\n",
    "skirt.userSexMen = skirt.userSexMen.astype('float')\n",
    "skirt.userSexWomen = skirt.userSexWomen.astype('float')"
   ]
  },
  {
   "cell_type": "code",
   "execution_count": 280,
   "id": "d7612771",
   "metadata": {},
   "outputs": [
    {
     "data": {
      "text/plain": [
       "Index(['clothId', 'largeCategory', 'largeCategoryName',\n",
       "       'smallCategoryMiniskirt', 'smallCategoryMidi', 'smallCategoryLongskirt',\n",
       "       'smallCategoryName', 'colorWhite', 'colorGrey', 'colorBlack',\n",
       "       'colorRed', 'colorPink', 'colorOrange', 'colorIvory', 'colorYellow',\n",
       "       'colorGreen', 'colorBlue', 'colorPurple', 'colorBrown', 'colorBeige',\n",
       "       'colorJean', 'colorPattern', 'colorOthers', 'colorName', 'clothName',\n",
       "       'brand', 'image', 'clothPrice', 'date', 'hashtags', 'clothSexMen',\n",
       "       'clothSexWomen', 'clothRate', 'clothReviewNo', 'fit', 'feeling',\n",
       "       'stretch', 'visibility', 'thickness', 'seasonSpring', 'seasonSummer',\n",
       "       'seasonFall', 'seasonWinter', 'goodsSize', 'newGoodsNo', 'reviewNoun',\n",
       "       'userHeight', 'userWeight', 'userSexMen', 'userSexWomen', 'month1',\n",
       "       'month2', 'month3', 'month4', 'month5', 'month6', 'month7', 'month8',\n",
       "       'month9', 'month10', 'month11', 'month12'],\n",
       "      dtype='object')"
      ]
     },
     "execution_count": 280,
     "metadata": {},
     "output_type": "execute_result"
    }
   ],
   "source": [
    "skirt.columns"
   ]
  },
  {
   "cell_type": "code",
   "execution_count": 281,
   "id": "1bde86c4",
   "metadata": {},
   "outputs": [],
   "source": [
    "skirt.columns = ['clothId', 'largeCategory', 'largeCategoryName',\n",
    "       'smallCategoryMiniskirt', 'smallCategoryMidi', 'smallCategoryLongskirt',\n",
    "       'smallCategoryName', 'colorWhite', 'colorGrey', 'colorBlack',\n",
    "       'colorRed', 'colorPink', 'colorOrange', 'colorIvory', 'colorYellow',\n",
    "       'colorGreen', 'colorBlue', 'colorPurple', 'colorBrown', 'colorBeige',\n",
    "       'colorJean', 'colorPattern', 'colorOthers', 'colorName', 'clothName',\n",
    "       'brand', 'clothImg', 'clothPrice', 'date', 'clothHashtags', 'clothMale',\n",
    "       'clothFemale', 'clothRate', 'clothReviewCnt', 'fit', 'feeling',\n",
    "       'stretch', 'visibility', 'thickness', 'seasonSpring', 'seasonSummer',\n",
    "       'seasonFall', 'seasonWinter', 'goodsSize', 'newClothId', 'reviewNoun', 'userHeight',\n",
    "       'userWeight', 'userMale', 'userFemale', 'month1', 'month2',\n",
    "       'month3', 'month4', 'month5', 'month6', 'month7', 'month8', 'month9',\n",
    "       'month10', 'month11', 'month12']"
   ]
  },
  {
   "cell_type": "code",
   "execution_count": 282,
   "id": "716b9123",
   "metadata": {},
   "outputs": [],
   "source": [
    "skirt = skirt[['newClothId', 'clothId', 'largeCategory', 'largeCategoryName',\n",
    "       'smallCategoryMiniskirt', 'smallCategoryMidi', 'smallCategoryLongskirt',\n",
    "       'smallCategoryName', 'colorWhite', 'colorGrey', 'colorBlack',\n",
    "       'colorRed', 'colorPink', 'colorOrange', 'colorIvory', 'colorYellow',\n",
    "       'colorGreen', 'colorBlue', 'colorPurple', 'colorBrown', 'colorBeige',\n",
    "       'colorJean', 'colorPattern', 'colorOthers', 'colorName', 'clothName',\n",
    "       'brand', 'clothImg', 'clothPrice', 'date', 'clothHashtags', 'clothMale',\n",
    "       'clothFemale', 'clothRate', 'clothReviewCnt', 'fit', 'feeling',\n",
    "       'stretch', 'visibility', 'thickness', 'seasonSpring', 'seasonSummer',\n",
    "       'seasonFall', 'seasonWinter', 'goodsSize', 'reviewNoun', 'userHeight',\n",
    "       'userWeight', 'userMale', 'userFemale', 'month1', 'month2',\n",
    "       'month3', 'month4', 'month5', 'month6', 'month7', 'month8', 'month9',\n",
    "       'month10', 'month11', 'month12']]"
   ]
  },
  {
   "cell_type": "code",
   "execution_count": 290,
   "id": "295deb85",
   "metadata": {},
   "outputs": [],
   "source": [
    "skirt.to_json('final_skirt.json', orient='records', force_ascii=False)"
   ]
  },
  {
   "cell_type": "code",
   "execution_count": 291,
   "id": "37b22231",
   "metadata": {},
   "outputs": [],
   "source": [
    "skirt.to_csv('final_skirt.csv',\n",
    "                 sep=',',\n",
    "                 float_format = '%.4f',\n",
    "                 encoding = 'utf-8-sig')"
   ]
  },
  {
   "cell_type": "code",
   "execution_count": null,
   "id": "31f544f8",
   "metadata": {},
   "outputs": [],
   "source": []
  },
  {
   "cell_type": "code",
   "execution_count": null,
   "id": "03828676",
   "metadata": {},
   "outputs": [],
   "source": []
  },
  {
   "cell_type": "code",
   "execution_count": null,
   "id": "583cefd4",
   "metadata": {},
   "outputs": [],
   "source": []
  },
  {
   "cell_type": "code",
   "execution_count": null,
   "id": "08a0330a",
   "metadata": {},
   "outputs": [],
   "source": []
  },
  {
   "cell_type": "code",
   "execution_count": null,
   "id": "b3015899",
   "metadata": {},
   "outputs": [],
   "source": []
  },
  {
   "cell_type": "code",
   "execution_count": null,
   "id": "bfcd37b4",
   "metadata": {},
   "outputs": [],
   "source": []
  }
 ],
 "metadata": {
  "kernelspec": {
   "display_name": "Python 3 (ipykernel)",
   "language": "python",
   "name": "python3"
  },
  "language_info": {
   "codemirror_mode": {
    "name": "ipython",
    "version": 3
   },
   "file_extension": ".py",
   "mimetype": "text/x-python",
   "name": "python",
   "nbconvert_exporter": "python",
   "pygments_lexer": "ipython3",
   "version": "3.9.10"
  }
 },
 "nbformat": 4,
 "nbformat_minor": 5
}
