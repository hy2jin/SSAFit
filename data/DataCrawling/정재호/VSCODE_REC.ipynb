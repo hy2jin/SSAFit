{
 "cells": [
  {
   "cell_type": "code",
   "execution_count": 1,
   "id": "4583e5a9",
   "metadata": {},
   "outputs": [
    {
     "name": "stderr",
     "output_type": "stream",
     "text": [
      "C:\\Users\\SSAFY\\AppData\\Local\\Programs\\Python\\Python39\\lib\\site-packages\\lightfm\\_lightfm_fast.py:9: UserWarning: LightFM was compiled without OpenMP support. Only a single thread will be used.\n",
      "  warnings.warn(\n"
     ]
    }
   ],
   "source": [
    "# 모델 불러오기\n",
    "import pickle\n",
    "with open('model_size_top.pickle', 'rb') as f:\n",
    "    model_top = pickle.load(f)"
   ]
  },
  {
   "cell_type": "code",
   "execution_count": 17,
   "id": "5fdb5ac1",
   "metadata": {},
   "outputs": [],
   "source": [
    "import pandas as pd\n",
    "import numpy as np\n",
    "cloth_meta = pd.read_json('./size_top_cloth_meta.json')\n",
    "user_meta = pd.read_json('./size_top_user_meta.json')"
   ]
  },
  {
   "cell_type": "code",
   "execution_count": 18,
   "id": "09f03789",
   "metadata": {},
   "outputs": [],
   "source": [
    "real_user = [1322098, 961373, 941676]"
   ]
  },
  {
   "cell_type": "code",
   "execution_count": 19,
   "id": "f4905096",
   "metadata": {},
   "outputs": [],
   "source": [
    "def sample_recommendation(model, idx, user_ids):\n",
    "    cnt = 1\n",
    "    for user_id in user_ids:\n",
    "        if cnt==1:\n",
    "            scores = model.predict(int(user_meta[user_meta.userId==user_id].index[0]), np.arange(len(cloth_meta)))\n",
    "        else:\n",
    "            scores += model.predict(int(user_meta[user_meta.userId==user_id].index[0]), np.arange(len(cloth_meta)))\n",
    "    \n",
    "    top_items = idx[np.argsort(-scores)]\n",
    "    \n",
    "    sub_clothes = []\n",
    "\n",
    "    for x in top_items[:10]:\n",
    "        sub_clothes.append(x)\n",
    "    \n",
    "    rec_clothes = []\n",
    "    \n",
    "    for i in sub_clothes:\n",
    "        rec_clothes.append(cloth_meta[cloth_meta.idx==i].newClothId.iloc[0])\n",
    "    \n",
    "    return rec_clothes"
   ]
  },
  {
   "cell_type": "code",
   "execution_count": 20,
   "id": "7f8e4079",
   "metadata": {
    "scrolled": false
   },
   "outputs": [
    {
     "data": {
      "text/plain": [
       "[1902118132484,\n",
       " 2174419133241,\n",
       " 2139144142785,\n",
       " 1983415132560,\n",
       " 1793413134207,\n",
       " 1938490132348,\n",
       " 1903814132550,\n",
       " 2139144142613,\n",
       " 1873411132197,\n",
       " 2266944133129]"
      ]
     },
     "execution_count": 20,
     "metadata": {},
     "output_type": "execute_result"
    }
   ],
   "source": [
    "rec_size_top = sample_recommendation(model_top, cloth_meta.idx, real_user)\n",
    "rec_size_top"
   ]
  },
  {
   "cell_type": "code",
   "execution_count": null,
   "id": "20c5be3d",
   "metadata": {},
   "outputs": [],
   "source": []
  },
  {
   "cell_type": "code",
   "execution_count": null,
   "id": "fed8a959",
   "metadata": {},
   "outputs": [],
   "source": []
  },
  {
   "cell_type": "code",
   "execution_count": null,
   "id": "dd7b84b4",
   "metadata": {},
   "outputs": [],
   "source": []
  },
  {
   "cell_type": "code",
   "execution_count": null,
   "id": "b4c22ae5",
   "metadata": {},
   "outputs": [],
   "source": []
  },
  {
   "cell_type": "code",
   "execution_count": null,
   "id": "70a779c2",
   "metadata": {},
   "outputs": [],
   "source": []
  },
  {
   "cell_type": "code",
   "execution_count": null,
   "id": "ff36f982",
   "metadata": {},
   "outputs": [],
   "source": []
  },
  {
   "cell_type": "code",
   "execution_count": null,
   "id": "e7f1120a",
   "metadata": {},
   "outputs": [],
   "source": []
  }
 ],
 "metadata": {
  "kernelspec": {
   "display_name": "Python 3 (ipykernel)",
   "language": "python",
   "name": "python3"
  },
  "language_info": {
   "codemirror_mode": {
    "name": "ipython",
    "version": 3
   },
   "file_extension": ".py",
   "mimetype": "text/x-python",
   "name": "python",
   "nbconvert_exporter": "python",
   "pygments_lexer": "ipython3",
   "version": "3.9.10"
  }
 },
 "nbformat": 4,
 "nbformat_minor": 5
}
