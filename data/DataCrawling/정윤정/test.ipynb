{
 "cells": [
  {
   "cell_type": "code",
   "execution_count": 2,
   "id": "411ee7c0",
   "metadata": {},
   "outputs": [],
   "source": [
    "import numpy as np\n",
    "import pandas as pd\n",
    "import requests\n",
    "import csv\n",
    "import ssl\n",
    "from urllib.request import urlopen\n",
    "from urllib.parse import quote_plus"
   ]
  },
  {
   "cell_type": "code",
   "execution_count": 3,
   "id": "5b8e1c01",
   "metadata": {},
   "outputs": [],
   "source": [
    "df = pd.read_csv('./musinsa_review_pants.csv')\n",
    "df2 = pd.read_csv('./unique_id_pants.csv')"
   ]
  },
  {
   "cell_type": "code",
   "execution_count": 4,
   "id": "6e8c1aff",
   "metadata": {},
   "outputs": [
    {
     "data": {
      "text/html": [
       "<div>\n",
       "<style scoped>\n",
       "    .dataframe tbody tr th:only-of-type {\n",
       "        vertical-align: middle;\n",
       "    }\n",
       "\n",
       "    .dataframe tbody tr th {\n",
       "        vertical-align: top;\n",
       "    }\n",
       "\n",
       "    .dataframe thead th {\n",
       "        text-align: right;\n",
       "    }\n",
       "</style>\n",
       "<table border=\"1\" class=\"dataframe\">\n",
       "  <thead>\n",
       "    <tr style=\"text-align: right;\">\n",
       "      <th></th>\n",
       "      <th>userName</th>\n",
       "      <th>date</th>\n",
       "      <th>goodsNo</th>\n",
       "      <th>userSexMen</th>\n",
       "      <th>userSexWomen</th>\n",
       "      <th>userHeight</th>\n",
       "      <th>userWeight</th>\n",
       "      <th>goodsSize</th>\n",
       "      <th>reviewContent</th>\n",
       "      <th>reviewImg</th>\n",
       "      <th>reviewStyle</th>\n",
       "      <th>size</th>\n",
       "      <th>bright</th>\n",
       "      <th>color</th>\n",
       "      <th>thickness</th>\n",
       "      <th>weightness</th>\n",
       "      <th>touch</th>\n",
       "      <th>helpNo</th>\n",
       "      <th>styleLikeNo</th>\n",
       "    </tr>\n",
       "  </thead>\n",
       "  <tbody>\n",
       "    <tr>\n",
       "      <th>0</th>\n",
       "      <td>기무태</td>\n",
       "      <td>2022.01.10</td>\n",
       "      <td>2258181</td>\n",
       "      <td>1</td>\n",
       "      <td>0</td>\n",
       "      <td>171cm</td>\n",
       "      <td>74kg</td>\n",
       "      <td>M</td>\n",
       "      <td>['세트별로 다사서 이번엔 바지만 샀는데', &lt;br/&gt;, '이것도 위에 같이 살걸 ...</td>\n",
       "      <td>https://image.msscdn.net/data/estimate/2258181...</td>\n",
       "      <td>1</td>\n",
       "      <td>2</td>\n",
       "      <td>2</td>\n",
       "      <td>2</td>\n",
       "      <td>2</td>\n",
       "      <td>0</td>\n",
       "      <td>0</td>\n",
       "      <td>0</td>\n",
       "      <td>0</td>\n",
       "    </tr>\n",
       "    <tr>\n",
       "      <th>1</th>\n",
       "      <td>10407</td>\n",
       "      <td>2021.12.24</td>\n",
       "      <td>2258181</td>\n",
       "      <td>1</td>\n",
       "      <td>0</td>\n",
       "      <td>175cm</td>\n",
       "      <td>80kg</td>\n",
       "      <td>L</td>\n",
       "      <td>['배송도 빨랐고 사이즈도 딱이구 기모라서 따뜻합니댱']</td>\n",
       "      <td>https://image.msscdn.net/data/estimate/2258181...</td>\n",
       "      <td>1</td>\n",
       "      <td>2</td>\n",
       "      <td>2</td>\n",
       "      <td>2</td>\n",
       "      <td>2</td>\n",
       "      <td>0</td>\n",
       "      <td>0</td>\n",
       "      <td>0</td>\n",
       "      <td>0</td>\n",
       "    </tr>\n",
       "    <tr>\n",
       "      <th>2</th>\n",
       "      <td>기무태</td>\n",
       "      <td>2022.01.10</td>\n",
       "      <td>2258181</td>\n",
       "      <td>1</td>\n",
       "      <td>0</td>\n",
       "      <td>171cm</td>\n",
       "      <td>74kg</td>\n",
       "      <td>M</td>\n",
       "      <td>['진짜 너무 이뻐서바지만 또사요', &lt;br/&gt;, '정말 최고 아이템']</td>\n",
       "      <td>NaN</td>\n",
       "      <td>0</td>\n",
       "      <td>2</td>\n",
       "      <td>2</td>\n",
       "      <td>2</td>\n",
       "      <td>2</td>\n",
       "      <td>0</td>\n",
       "      <td>0</td>\n",
       "      <td>0</td>\n",
       "      <td>0</td>\n",
       "    </tr>\n",
       "    <tr>\n",
       "      <th>3</th>\n",
       "      <td>10407</td>\n",
       "      <td>2021.12.24</td>\n",
       "      <td>2258181</td>\n",
       "      <td>1</td>\n",
       "      <td>0</td>\n",
       "      <td>175cm</td>\n",
       "      <td>80kg</td>\n",
       "      <td>L</td>\n",
       "      <td>['배송도 빨랐고 사이즈도 딱이구 기모라서 따뜻합니댱']</td>\n",
       "      <td>NaN</td>\n",
       "      <td>0</td>\n",
       "      <td>2</td>\n",
       "      <td>2</td>\n",
       "      <td>2</td>\n",
       "      <td>2</td>\n",
       "      <td>0</td>\n",
       "      <td>0</td>\n",
       "      <td>0</td>\n",
       "      <td>0</td>\n",
       "    </tr>\n",
       "    <tr>\n",
       "      <th>4</th>\n",
       "      <td>브론즈_f0b04c5803c</td>\n",
       "      <td>2020.12.23</td>\n",
       "      <td>1281045</td>\n",
       "      <td>1</td>\n",
       "      <td>0</td>\n",
       "      <td>173cm</td>\n",
       "      <td>69kg</td>\n",
       "      <td>S</td>\n",
       "      <td>['제 값 하는 옷이에요, 핏도 너무 이쁘고 스판이라 너무 좋습니다. 배송 왔을 때...</td>\n",
       "      <td>https://image.msscdn.net/data/estimate/1281045...</td>\n",
       "      <td>1</td>\n",
       "      <td>2</td>\n",
       "      <td>2</td>\n",
       "      <td>2</td>\n",
       "      <td>2</td>\n",
       "      <td>0</td>\n",
       "      <td>0</td>\n",
       "      <td>0</td>\n",
       "      <td>0</td>\n",
       "    </tr>\n",
       "  </tbody>\n",
       "</table>\n",
       "</div>"
      ],
      "text/plain": [
       "          userName        date  goodsNo  userSexMen  userSexWomen userHeight  \\\n",
       "0              기무태  2022.01.10  2258181           1             0      171cm   \n",
       "1            10407  2021.12.24  2258181           1             0      175cm   \n",
       "2              기무태  2022.01.10  2258181           1             0      171cm   \n",
       "3            10407  2021.12.24  2258181           1             0      175cm   \n",
       "4  브론즈_f0b04c5803c  2020.12.23  1281045           1             0      173cm   \n",
       "\n",
       "  userWeight goodsSize                                      reviewContent  \\\n",
       "0       74kg         M  ['세트별로 다사서 이번엔 바지만 샀는데', <br/>, '이것도 위에 같이 살걸 ...   \n",
       "1       80kg         L                    ['배송도 빨랐고 사이즈도 딱이구 기모라서 따뜻합니댱']   \n",
       "2       74kg         M           ['진짜 너무 이뻐서바지만 또사요', <br/>, '정말 최고 아이템']   \n",
       "3       80kg         L                    ['배송도 빨랐고 사이즈도 딱이구 기모라서 따뜻합니댱']   \n",
       "4       69kg         S  ['제 값 하는 옷이에요, 핏도 너무 이쁘고 스판이라 너무 좋습니다. 배송 왔을 때...   \n",
       "\n",
       "                                           reviewImg  reviewStyle  size  \\\n",
       "0  https://image.msscdn.net/data/estimate/2258181...            1     2   \n",
       "1  https://image.msscdn.net/data/estimate/2258181...            1     2   \n",
       "2                                                NaN            0     2   \n",
       "3                                                NaN            0     2   \n",
       "4  https://image.msscdn.net/data/estimate/1281045...            1     2   \n",
       "\n",
       "   bright  color  thickness  weightness  touch  helpNo  styleLikeNo  \n",
       "0       2      2          2           0      0       0            0  \n",
       "1       2      2          2           0      0       0            0  \n",
       "2       2      2          2           0      0       0            0  \n",
       "3       2      2          2           0      0       0            0  \n",
       "4       2      2          2           0      0       0            0  "
      ]
     },
     "execution_count": 4,
     "metadata": {},
     "output_type": "execute_result"
    }
   ],
   "source": [
    "df.head()"
   ]
  },
  {
   "cell_type": "code",
   "execution_count": 9,
   "id": "371023f5",
   "metadata": {},
   "outputs": [
    {
     "data": {
      "text/plain": [
       "16450"
      ]
     },
     "execution_count": 9,
     "metadata": {},
     "output_type": "execute_result"
    }
   ],
   "source": [
    "len(list(df['goodsNo'].unique()))"
   ]
  },
  {
   "cell_type": "code",
   "execution_count": 30,
   "id": "bf3010ea",
   "metadata": {},
   "outputs": [
    {
     "data": {
      "text/html": [
       "<div>\n",
       "<style scoped>\n",
       "    .dataframe tbody tr th:only-of-type {\n",
       "        vertical-align: middle;\n",
       "    }\n",
       "\n",
       "    .dataframe tbody tr th {\n",
       "        vertical-align: top;\n",
       "    }\n",
       "\n",
       "    .dataframe thead th {\n",
       "        text-align: right;\n",
       "    }\n",
       "</style>\n",
       "<table border=\"1\" class=\"dataframe\">\n",
       "  <thead>\n",
       "    <tr style=\"text-align: right;\">\n",
       "      <th></th>\n",
       "      <th>userName</th>\n",
       "      <th>date</th>\n",
       "      <th>goodsNo</th>\n",
       "      <th>userSexMen</th>\n",
       "      <th>userSexWomen</th>\n",
       "      <th>userHeight</th>\n",
       "      <th>userWeight</th>\n",
       "      <th>goodsSize</th>\n",
       "      <th>reviewContent</th>\n",
       "      <th>reviewImg</th>\n",
       "      <th>reviewStyle</th>\n",
       "      <th>size</th>\n",
       "      <th>bright</th>\n",
       "      <th>color</th>\n",
       "      <th>thickness</th>\n",
       "      <th>weightness</th>\n",
       "      <th>touch</th>\n",
       "      <th>helpNo</th>\n",
       "      <th>styleLikeNo</th>\n",
       "    </tr>\n",
       "  </thead>\n",
       "  <tbody>\n",
       "  </tbody>\n",
       "</table>\n",
       "</div>"
      ],
      "text/plain": [
       "Empty DataFrame\n",
       "Columns: [userName, date, goodsNo, userSexMen, userSexWomen, userHeight, userWeight, goodsSize, reviewContent, reviewImg, reviewStyle, size, bright, color, thickness, weightness, touch, helpNo, styleLikeNo]\n",
       "Index: []"
      ]
     },
     "execution_count": 30,
     "metadata": {},
     "output_type": "execute_result"
    }
   ],
   "source": [
    "df[df['goodsNo']==1370101]"
   ]
  },
  {
   "cell_type": "code",
   "execution_count": 5,
   "id": "41523690",
   "metadata": {},
   "outputs": [
    {
     "data": {
      "text/plain": [
       "57600"
      ]
     },
     "execution_count": 5,
     "metadata": {},
     "output_type": "execute_result"
    }
   ],
   "source": [
    "len(list(df2))"
   ]
  },
  {
   "cell_type": "code",
   "execution_count": null,
   "id": "0f96cfa8",
   "metadata": {},
   "outputs": [],
   "source": []
  }
 ],
 "metadata": {
  "kernelspec": {
   "display_name": "Python 3 (ipykernel)",
   "language": "python",
   "name": "python3"
  },
  "language_info": {
   "codemirror_mode": {
    "name": "ipython",
    "version": 3
   },
   "file_extension": ".py",
   "mimetype": "text/x-python",
   "name": "python",
   "nbconvert_exporter": "python",
   "pygments_lexer": "ipython3",
   "version": "3.7.9"
  }
 },
 "nbformat": 4,
 "nbformat_minor": 5
}
