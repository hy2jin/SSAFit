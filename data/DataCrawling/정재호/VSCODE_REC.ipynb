{
 "cells": [
  {
   "cell_type": "code",
   "execution_count": 1,
   "id": "4583e5a9",
   "metadata": {},
   "outputs": [
    {
     "name": "stderr",
     "output_type": "stream",
     "text": [
      "C:\\Users\\SSAFY\\AppData\\Local\\Programs\\Python\\Python39\\lib\\site-packages\\lightfm\\_lightfm_fast.py:9: UserWarning: LightFM was compiled without OpenMP support. Only a single thread will be used.\n",
      "  warnings.warn(\n"
     ]
    }
   ],
   "source": [
    "# 모델 불러오기\n",
    "import pickle\n",
    "with open('model_size_top.pickle', 'rb') as f:\n",
    "    model_top = pickle.load(f)"
   ]
  },
  {
   "cell_type": "code",
   "execution_count": 41,
   "id": "5fdb5ac1",
   "metadata": {},
   "outputs": [],
   "source": [
    "import pandas as pd\n",
    "import numpy as np\n",
    "import lightfm\n",
    "clothes = pd.read_json('./size_top_cloth_meta.json')\n",
    "users = pd.read_json('./size_top_user_meta.json')"
   ]
  },
  {
   "cell_type": "code",
   "execution_count": 42,
   "id": "43b6254c",
   "metadata": {},
   "outputs": [
    {
     "data": {
      "text/plain": [
       "array([0], dtype=int64)"
      ]
     },
     "execution_count": 42,
     "metadata": {},
     "output_type": "execute_result"
    }
   ],
   "source": [
    "np.argsort(0.46966028)"
   ]
  },
  {
   "cell_type": "code",
   "execution_count": 43,
   "id": "09f03789",
   "metadata": {},
   "outputs": [],
   "source": [
    "real_user = [1281758, 968344, 1110912]"
   ]
  },
  {
   "cell_type": "code",
   "execution_count": 46,
   "id": "f4905096",
   "metadata": {},
   "outputs": [],
   "source": [
    "def sample_recommendation(model, clothes, users, user_ids):\n",
    "    cnt = 1\n",
    "    for user_id in user_ids:\n",
    "        if cnt==1:\n",
    "            scores = model.predict(int(users[users.userId==user_id].index[0]), np.arange(len(clothes)))\n",
    "        else:\n",
    "            scores += model.predict(int(users[users.userId==user_id].index[0]), np.arange(len(clothes)))\n",
    "        \n",
    "        cnt+=1\n",
    "    top_items = clothes.idx[np.argsort(-scores)]\n",
    "    sub_clothes = []\n",
    "    for x in top_items[:10]:\n",
    "        sub_clothes.append(x)\n",
    "    rec_clothes = []\n",
    "    for i in sub_clothes:\n",
    "        rec_clothes.append(clothes[clothes.idx==i].newClothId.iloc[0])\n",
    "    return rec_clothes"
   ]
  },
  {
   "cell_type": "code",
   "execution_count": 47,
   "id": "7f8e4079",
   "metadata": {
    "scrolled": false
   },
   "outputs": [
    {
     "data": {
      "text/plain": [
       "[1440587133960,\n",
       " 2139133140305,\n",
       " 2155926132332,\n",
       " 1572660131416,\n",
       " 1804099134922,\n",
       " 1282892131862,\n",
       " 2139133140300,\n",
       " 1572660131415,\n",
       " 1799856132834,\n",
       " 1930454132207]"
      ]
     },
     "execution_count": 47,
     "metadata": {},
     "output_type": "execute_result"
    }
   ],
   "source": [
    "rec_size_top = sample_recommendation(model_top, clothes, users, real_user)\n",
    "rec_size_top"
   ]
  },
  {
   "cell_type": "code",
   "execution_count": null,
   "id": "20c5be3d",
   "metadata": {},
   "outputs": [],
   "source": []
  },
  {
   "cell_type": "code",
   "execution_count": null,
   "id": "fed8a959",
   "metadata": {},
   "outputs": [],
   "source": []
  },
  {
   "cell_type": "code",
   "execution_count": null,
   "id": "dd7b84b4",
   "metadata": {},
   "outputs": [],
   "source": []
  },
  {
   "cell_type": "code",
   "execution_count": null,
   "id": "b4c22ae5",
   "metadata": {},
   "outputs": [],
   "source": []
  },
  {
   "cell_type": "code",
   "execution_count": null,
   "id": "70a779c2",
   "metadata": {},
   "outputs": [],
   "source": []
  },
  {
   "cell_type": "code",
   "execution_count": null,
   "id": "ff36f982",
   "metadata": {},
   "outputs": [],
   "source": []
  },
  {
   "cell_type": "code",
   "execution_count": null,
   "id": "e7f1120a",
   "metadata": {},
   "outputs": [],
   "source": []
  }
 ],
 "metadata": {
  "kernelspec": {
   "display_name": "Python 3 (ipykernel)",
   "language": "python",
   "name": "python3"
  },
  "language_info": {
   "codemirror_mode": {
    "name": "ipython",
    "version": 3
   },
   "file_extension": ".py",
   "mimetype": "text/x-python",
   "name": "python",
   "nbconvert_exporter": "python",
   "pygments_lexer": "ipython3",
   "version": "3.9.10"
  }
 },
 "nbformat": 4,
 "nbformat_minor": 5
}
