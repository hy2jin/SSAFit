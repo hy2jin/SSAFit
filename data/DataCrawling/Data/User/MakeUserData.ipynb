{
 "cells": [
  {
   "cell_type": "code",
   "execution_count": 2,
   "id": "6c23dd35",
   "metadata": {},
   "outputs": [],
   "source": [
    "import numpy as np\n",
    "import pandas as pd\n",
    "import requests\n",
    "import csv\n",
    "import ssl\n",
    "from urllib.request import urlopen\n",
    "from urllib.parse import quote_plus"
   ]
  },
  {
   "cell_type": "code",
   "execution_count": 7,
   "id": "d26aede2",
   "metadata": {},
   "outputs": [],
   "source": [
    "df = pd.read_csv('./musinsa_review_skirt.csv')"
   ]
  },
  {
   "cell_type": "code",
   "execution_count": 12,
   "id": "61c4f556",
   "metadata": {},
   "outputs": [],
   "source": [
    "df = df.sort_values('reviewImg')"
   ]
  },
  {
   "cell_type": "code",
   "execution_count": null,
   "id": "f2f7e64e",
   "metadata": {
    "scrolled": true
   },
   "outputs": [],
   "source": [
    "df.head(50)"
   ]
  },
  {
   "cell_type": "code",
   "execution_count": 4,
   "id": "415afe5e",
   "metadata": {},
   "outputs": [
    {
     "data": {
      "text/plain": [
       "(16229, 19)"
      ]
     },
     "execution_count": 4,
     "metadata": {},
     "output_type": "execute_result"
    }
   ],
   "source": [
    "df.shape"
   ]
  },
  {
   "cell_type": "code",
   "execution_count": 5,
   "id": "d2766221",
   "metadata": {},
   "outputs": [
    {
     "data": {
      "text/plain": [
       "8606"
      ]
     },
     "execution_count": 5,
     "metadata": {},
     "output_type": "execute_result"
    }
   ],
   "source": [
    "len(df['userName'].unique())"
   ]
  },
  {
   "cell_type": "code",
   "execution_count": 14,
   "id": "ef508f36",
   "metadata": {},
   "outputs": [],
   "source": [
    "df_1 = df.drop_duplicates(['userName', 'date', 'goodsNo']).reset_index(drop=True)"
   ]
  },
  {
   "cell_type": "code",
   "execution_count": 18,
   "id": "26dbba21",
   "metadata": {
    "scrolled": true
   },
   "outputs": [
    {
     "data": {
      "text/plain": [
       "(12501, 19)"
      ]
     },
     "execution_count": 18,
     "metadata": {},
     "output_type": "execute_result"
    }
   ],
   "source": [
    "df_1.shape"
   ]
  },
  {
   "cell_type": "code",
   "execution_count": 20,
   "id": "aa5351b0",
   "metadata": {
    "scrolled": true
   },
   "outputs": [
    {
     "data": {
      "text/plain": [
       "8606"
      ]
     },
     "execution_count": 20,
     "metadata": {},
     "output_type": "execute_result"
    }
   ],
   "source": [
    "len(df_1['userName'].unique())"
   ]
  },
  {
   "cell_type": "code",
   "execution_count": null,
   "id": "b5edcba7",
   "metadata": {},
   "outputs": [],
   "source": []
  },
  {
   "cell_type": "code",
   "execution_count": 96,
   "id": "1d2d5bd5",
   "metadata": {},
   "outputs": [],
   "source": [
    "df_pants = pd.read_csv('./musinsa_review_pants.csv')"
   ]
  },
  {
   "cell_type": "code",
   "execution_count": 97,
   "id": "60674d99",
   "metadata": {},
   "outputs": [
    {
     "data": {
      "text/plain": [
       "(558110, 19)"
      ]
     },
     "execution_count": 97,
     "metadata": {},
     "output_type": "execute_result"
    }
   ],
   "source": [
    "df_pants.shape"
   ]
  },
  {
   "cell_type": "code",
   "execution_count": 98,
   "id": "b02199e8",
   "metadata": {},
   "outputs": [],
   "source": [
    "df_pants = df_pants.drop_duplicates(subset=\"goodsNo\").reset_index(drop=True)"
   ]
  },
  {
   "cell_type": "code",
   "execution_count": 99,
   "id": "74009472",
   "metadata": {
    "scrolled": true
   },
   "outputs": [
    {
     "data": {
      "text/plain": [
       "(16450, 19)"
      ]
     },
     "execution_count": 99,
     "metadata": {},
     "output_type": "execute_result"
    }
   ],
   "source": [
    "df_pants.shape"
   ]
  },
  {
   "cell_type": "code",
   "execution_count": 125,
   "id": "d7e51eb3",
   "metadata": {},
   "outputs": [
    {
     "data": {
      "text/html": [
       "<div>\n",
       "<style scoped>\n",
       "    .dataframe tbody tr th:only-of-type {\n",
       "        vertical-align: middle;\n",
       "    }\n",
       "\n",
       "    .dataframe tbody tr th {\n",
       "        vertical-align: top;\n",
       "    }\n",
       "\n",
       "    .dataframe thead th {\n",
       "        text-align: right;\n",
       "    }\n",
       "</style>\n",
       "<table border=\"1\" class=\"dataframe\">\n",
       "  <thead>\n",
       "    <tr style=\"text-align: right;\">\n",
       "      <th></th>\n",
       "      <th>userName</th>\n",
       "      <th>date</th>\n",
       "      <th>goodsNo</th>\n",
       "      <th>userSexMen</th>\n",
       "      <th>userSexWomen</th>\n",
       "      <th>userHeight</th>\n",
       "      <th>userWeight</th>\n",
       "      <th>goodsSize</th>\n",
       "      <th>reviewContent</th>\n",
       "      <th>reviewImg</th>\n",
       "      <th>reviewStyle</th>\n",
       "      <th>size</th>\n",
       "      <th>bright</th>\n",
       "      <th>color</th>\n",
       "      <th>thickness</th>\n",
       "      <th>weightness</th>\n",
       "      <th>touch</th>\n",
       "      <th>helpNo</th>\n",
       "      <th>styleLikeNo</th>\n",
       "    </tr>\n",
       "  </thead>\n",
       "  <tbody>\n",
       "  </tbody>\n",
       "</table>\n",
       "</div>"
      ],
      "text/plain": [
       "Empty DataFrame\n",
       "Columns: [userName, date, goodsNo, userSexMen, userSexWomen, userHeight, userWeight, goodsSize, reviewContent, reviewImg, reviewStyle, size, bright, color, thickness, weightness, touch, helpNo, styleLikeNo]\n",
       "Index: []"
      ]
     },
     "execution_count": 125,
     "metadata": {},
     "output_type": "execute_result"
    }
   ],
   "source": [
    "df_pants[df_pants['goodsNo']==1116624]"
   ]
  },
  {
   "cell_type": "code",
   "execution_count": 58,
   "id": "aee41f66",
   "metadata": {},
   "outputs": [],
   "source": [
    "df_pants_cloth = pd.read_csv('./musinsa_clothes_pants.csv')"
   ]
  },
  {
   "cell_type": "code",
   "execution_count": 45,
   "id": "4b9bb695",
   "metadata": {},
   "outputs": [],
   "source": [
    "df_pants_cloth = df_pants_cloth.drop_duplicates(subset='clothId').reset_index(drop=True)"
   ]
  },
  {
   "cell_type": "code",
   "execution_count": 71,
   "id": "ffb8500d",
   "metadata": {},
   "outputs": [
    {
     "data": {
      "text/plain": [
       "0        0\n",
       "1        0\n",
       "2        0\n",
       "3        0\n",
       "4        0\n",
       "        ..\n",
       "57674    0\n",
       "57675    0\n",
       "57676    0\n",
       "57677    0\n",
       "57678    0\n",
       "Name: clothReviewNo, Length: 57679, dtype: int32"
      ]
     },
     "execution_count": 71,
     "metadata": {},
     "output_type": "execute_result"
    }
   ],
   "source": [
    "df_pants_cloth['clothReviewNo'] = df_pants_cloth['clothReviewNo'].apply(lambda x: x.replace(\",\", \"\"))\n",
    "df_pants_cloth['clothReviewNo'] = df_pants_cloth['clothReviewNo'].astype('int')\n",
    "df_pants_cloth['clothReviewNo']"
   ]
  },
  {
   "cell_type": "code",
   "execution_count": 72,
   "id": "1ce5e8dc",
   "metadata": {
    "scrolled": true
   },
   "outputs": [
    {
     "data": {
      "text/plain": [
       "12754733"
      ]
     },
     "execution_count": 72,
     "metadata": {},
     "output_type": "execute_result"
    }
   ],
   "source": [
    "sum(df_pants_cloth[df_pants_cloth.clothId.isin(pants_id)].clothReviewNo)"
   ]
  },
  {
   "cell_type": "code",
   "execution_count": 73,
   "id": "364bd598",
   "metadata": {
    "scrolled": true
   },
   "outputs": [
    {
     "data": {
      "text/plain": [
       "12632014"
      ]
     },
     "execution_count": 73,
     "metadata": {},
     "output_type": "execute_result"
    }
   ],
   "source": [
    "sum(df_pants_cloth[~df_pants_cloth.clothId.isin(pants_id)].clothReviewNo)"
   ]
  },
  {
   "cell_type": "code",
   "execution_count": 77,
   "id": "99580692",
   "metadata": {},
   "outputs": [],
   "source": [
    "pants_id = list(df_pants_cloth[~df_pants_cloth.clothId.isin(pants_id)].clothId)"
   ]
  },
  {
   "cell_type": "code",
   "execution_count": 78,
   "id": "a852740b",
   "metadata": {},
   "outputs": [],
   "source": [
    "with open('unique_id_pants1.csv', 'w',newline='') as f: \n",
    "    write = csv.writer(f)\n",
    "    write.writerow(pants_id)"
   ]
  },
  {
   "cell_type": "code",
   "execution_count": 49,
   "id": "e2a77195",
   "metadata": {},
   "outputs": [],
   "source": [
    "pants_id = df_pants.goodsNo"
   ]
  },
  {
   "cell_type": "code",
   "execution_count": 50,
   "id": "84e6b92e",
   "metadata": {},
   "outputs": [
    {
     "data": {
      "text/plain": [
       "0        2258181\n",
       "1        1281045\n",
       "2        2328543\n",
       "3        2346636\n",
       "4        2173494\n",
       "          ...   \n",
       "16445    1619031\n",
       "16446    2060719\n",
       "16447    2383006\n",
       "16448    1875032\n",
       "16449    2164743\n",
       "Name: goodsNo, Length: 16450, dtype: int64"
      ]
     },
     "execution_count": 50,
     "metadata": {},
     "output_type": "execute_result"
    }
   ],
   "source": [
    "pants_id"
   ]
  },
  {
   "cell_type": "code",
   "execution_count": 54,
   "id": "4b4b6b3d",
   "metadata": {},
   "outputs": [
    {
     "data": {
      "text/html": [
       "<div>\n",
       "<style scoped>\n",
       "    .dataframe tbody tr th:only-of-type {\n",
       "        vertical-align: middle;\n",
       "    }\n",
       "\n",
       "    .dataframe tbody tr th {\n",
       "        vertical-align: top;\n",
       "    }\n",
       "\n",
       "    .dataframe thead th {\n",
       "        text-align: right;\n",
       "    }\n",
       "</style>\n",
       "<table border=\"1\" class=\"dataframe\">\n",
       "  <thead>\n",
       "    <tr style=\"text-align: right;\">\n",
       "      <th></th>\n",
       "      <th>clothId</th>\n",
       "      <th>largeCategory</th>\n",
       "      <th>largeCategoryName</th>\n",
       "      <th>smallCategory</th>\n",
       "      <th>smallCategoryName</th>\n",
       "      <th>colorNo</th>\n",
       "      <th>clothName</th>\n",
       "      <th>brand</th>\n",
       "      <th>image</th>\n",
       "      <th>clothPrice</th>\n",
       "      <th>...</th>\n",
       "      <th>clothReviewNo</th>\n",
       "      <th>fit</th>\n",
       "      <th>feeling</th>\n",
       "      <th>stretch</th>\n",
       "      <th>visibility</th>\n",
       "      <th>thickness</th>\n",
       "      <th>seasonSpring</th>\n",
       "      <th>seasonSummer</th>\n",
       "      <th>seasonFall</th>\n",
       "      <th>seasonWinter</th>\n",
       "    </tr>\n",
       "  </thead>\n",
       "  <tbody>\n",
       "    <tr>\n",
       "      <th>0</th>\n",
       "      <td>1971752</td>\n",
       "      <td>3</td>\n",
       "      <td>바지</td>\n",
       "      <td>306</td>\n",
       "      <td>기타 바지</td>\n",
       "      <td>3</td>\n",
       "      <td>카치아 61360203000 CACCIA 006 여자 울 팬츠</td>\n",
       "      <td>막스마라</td>\n",
       "      <td>//image.msscdn.net/images/goods_img/20210527/1...</td>\n",
       "      <td>130,000원</td>\n",
       "      <td>...</td>\n",
       "      <td>0</td>\n",
       "      <td>0</td>\n",
       "      <td>0</td>\n",
       "      <td>0</td>\n",
       "      <td>0</td>\n",
       "      <td>0</td>\n",
       "      <td>0</td>\n",
       "      <td>0</td>\n",
       "      <td>0</td>\n",
       "      <td>0</td>\n",
       "    </tr>\n",
       "    <tr>\n",
       "      <th>1</th>\n",
       "      <td>726566</td>\n",
       "      <td>3</td>\n",
       "      <td>바지</td>\n",
       "      <td>304</td>\n",
       "      <td>트레이닝/조거 팬츠</td>\n",
       "      <td>3</td>\n",
       "      <td>SSC TEAM TRACK PANTS (GREY)</td>\n",
       "      <td>피피피</td>\n",
       "      <td>//image.msscdn.net/images/goods_img/20180228/7...</td>\n",
       "      <td>69,000원</td>\n",
       "      <td>...</td>\n",
       "      <td>0</td>\n",
       "      <td>0</td>\n",
       "      <td>0</td>\n",
       "      <td>0</td>\n",
       "      <td>0</td>\n",
       "      <td>0</td>\n",
       "      <td>0</td>\n",
       "      <td>0</td>\n",
       "      <td>0</td>\n",
       "      <td>0</td>\n",
       "    </tr>\n",
       "    <tr>\n",
       "      <th>2</th>\n",
       "      <td>2213618</td>\n",
       "      <td>3</td>\n",
       "      <td>바지</td>\n",
       "      <td>306</td>\n",
       "      <td>기타 바지</td>\n",
       "      <td>3</td>\n",
       "      <td>미니투어맨 패턴 팬츠_L213PT403P</td>\n",
       "      <td>피지에이투어</td>\n",
       "      <td>//image.msscdn.net/images/goods_img/20211103/2...</td>\n",
       "      <td>199,000원</td>\n",
       "      <td>...</td>\n",
       "      <td>0</td>\n",
       "      <td>0</td>\n",
       "      <td>0</td>\n",
       "      <td>0</td>\n",
       "      <td>0</td>\n",
       "      <td>0</td>\n",
       "      <td>0</td>\n",
       "      <td>0</td>\n",
       "      <td>0</td>\n",
       "      <td>0</td>\n",
       "    </tr>\n",
       "    <tr>\n",
       "      <th>3</th>\n",
       "      <td>2265443</td>\n",
       "      <td>3</td>\n",
       "      <td>바지</td>\n",
       "      <td>308</td>\n",
       "      <td>슈트 팬츠/슬랙스</td>\n",
       "      <td>3</td>\n",
       "      <td>[UNISEX] 턱 와이드 팬츠 그레이</td>\n",
       "      <td>니커보커</td>\n",
       "      <td>//image.msscdn.net/images/goods_img/20211210/2...</td>\n",
       "      <td>95,000원</td>\n",
       "      <td>...</td>\n",
       "      <td>0</td>\n",
       "      <td>0</td>\n",
       "      <td>0</td>\n",
       "      <td>0</td>\n",
       "      <td>0</td>\n",
       "      <td>0</td>\n",
       "      <td>0</td>\n",
       "      <td>0</td>\n",
       "      <td>0</td>\n",
       "      <td>0</td>\n",
       "    </tr>\n",
       "    <tr>\n",
       "      <th>4</th>\n",
       "      <td>2005302</td>\n",
       "      <td>3</td>\n",
       "      <td>바지</td>\n",
       "      <td>309</td>\n",
       "      <td>숏 팬츠</td>\n",
       "      <td>3</td>\n",
       "      <td>버뮤다 이지 숏 팬츠 OUOSP002-GY</td>\n",
       "      <td>오브젝트 뮤지엄</td>\n",
       "      <td>//image.msscdn.net/images/goods_img/20210622/2...</td>\n",
       "      <td>69,000원</td>\n",
       "      <td>...</td>\n",
       "      <td>0</td>\n",
       "      <td>0</td>\n",
       "      <td>0</td>\n",
       "      <td>0</td>\n",
       "      <td>0</td>\n",
       "      <td>0</td>\n",
       "      <td>0</td>\n",
       "      <td>0</td>\n",
       "      <td>0</td>\n",
       "      <td>0</td>\n",
       "    </tr>\n",
       "    <tr>\n",
       "      <th>...</th>\n",
       "      <td>...</td>\n",
       "      <td>...</td>\n",
       "      <td>...</td>\n",
       "      <td>...</td>\n",
       "      <td>...</td>\n",
       "      <td>...</td>\n",
       "      <td>...</td>\n",
       "      <td>...</td>\n",
       "      <td>...</td>\n",
       "      <td>...</td>\n",
       "      <td>...</td>\n",
       "      <td>...</td>\n",
       "      <td>...</td>\n",
       "      <td>...</td>\n",
       "      <td>...</td>\n",
       "      <td>...</td>\n",
       "      <td>...</td>\n",
       "      <td>...</td>\n",
       "      <td>...</td>\n",
       "      <td>...</td>\n",
       "      <td>...</td>\n",
       "    </tr>\n",
       "    <tr>\n",
       "      <th>57595</th>\n",
       "      <td>1889420</td>\n",
       "      <td>3</td>\n",
       "      <td>바지</td>\n",
       "      <td>302</td>\n",
       "      <td>데님 팬츠</td>\n",
       "      <td>15</td>\n",
       "      <td>남)프리미엄 스모킹 포인트 빈티지 워싱 AL1DTA15-DB</td>\n",
       "      <td>잠뱅이</td>\n",
       "      <td>//image.msscdn.net/images/goods_img/20210408/1...</td>\n",
       "      <td>149,000원</td>\n",
       "      <td>...</td>\n",
       "      <td>0</td>\n",
       "      <td>0</td>\n",
       "      <td>0</td>\n",
       "      <td>0</td>\n",
       "      <td>0</td>\n",
       "      <td>0</td>\n",
       "      <td>0</td>\n",
       "      <td>0</td>\n",
       "      <td>0</td>\n",
       "      <td>0</td>\n",
       "    </tr>\n",
       "    <tr>\n",
       "      <th>57596</th>\n",
       "      <td>1275944</td>\n",
       "      <td>3</td>\n",
       "      <td>바지</td>\n",
       "      <td>302</td>\n",
       "      <td>데님 팬츠</td>\n",
       "      <td>15</td>\n",
       "      <td>스키니스트레치지퍼데님팬츠 KJE8904_LB</td>\n",
       "      <td>코너스</td>\n",
       "      <td>//image.msscdn.net/images/goods_img/20200120/1...</td>\n",
       "      <td>70,500원</td>\n",
       "      <td>...</td>\n",
       "      <td>0</td>\n",
       "      <td>0</td>\n",
       "      <td>0</td>\n",
       "      <td>0</td>\n",
       "      <td>0</td>\n",
       "      <td>0</td>\n",
       "      <td>0</td>\n",
       "      <td>0</td>\n",
       "      <td>0</td>\n",
       "      <td>0</td>\n",
       "    </tr>\n",
       "    <tr>\n",
       "      <th>57597</th>\n",
       "      <td>1889504</td>\n",
       "      <td>3</td>\n",
       "      <td>바지</td>\n",
       "      <td>302</td>\n",
       "      <td>데님 팬츠</td>\n",
       "      <td>15</td>\n",
       "      <td>여)오비안밴드 바이오스톤 탈색워싱  AL1DRS61-LB</td>\n",
       "      <td>잠뱅이</td>\n",
       "      <td>//image.msscdn.net/images/goods_img/20210408/1...</td>\n",
       "      <td>69,000원</td>\n",
       "      <td>...</td>\n",
       "      <td>0</td>\n",
       "      <td>0</td>\n",
       "      <td>0</td>\n",
       "      <td>0</td>\n",
       "      <td>0</td>\n",
       "      <td>0</td>\n",
       "      <td>0</td>\n",
       "      <td>0</td>\n",
       "      <td>0</td>\n",
       "      <td>0</td>\n",
       "    </tr>\n",
       "    <tr>\n",
       "      <th>57598</th>\n",
       "      <td>552678</td>\n",
       "      <td>3</td>\n",
       "      <td>바지</td>\n",
       "      <td>309</td>\n",
       "      <td>숏 팬츠</td>\n",
       "      <td>15</td>\n",
       "      <td>[5.11 택티컬] 스트라이크 반바지 (다크 네이비)</td>\n",
       "      <td>5.11택티컬</td>\n",
       "      <td>//image.msscdn.net/images/goods_img/20170510/5...</td>\n",
       "      <td>110,000원</td>\n",
       "      <td>...</td>\n",
       "      <td>0</td>\n",
       "      <td>0</td>\n",
       "      <td>0</td>\n",
       "      <td>0</td>\n",
       "      <td>0</td>\n",
       "      <td>0</td>\n",
       "      <td>0</td>\n",
       "      <td>0</td>\n",
       "      <td>0</td>\n",
       "      <td>0</td>\n",
       "    </tr>\n",
       "    <tr>\n",
       "      <th>57599</th>\n",
       "      <td>655497</td>\n",
       "      <td>3</td>\n",
       "      <td>바지</td>\n",
       "      <td>307</td>\n",
       "      <td>코튼 팬츠</td>\n",
       "      <td>15</td>\n",
       "      <td>[에머슨 기어] 블루라벨 트레이닝 팬츠 G3 (멀티캠)</td>\n",
       "      <td>에머슨</td>\n",
       "      <td>//image.msscdn.net/images/goods_img/20171018/6...</td>\n",
       "      <td>171,000원</td>\n",
       "      <td>...</td>\n",
       "      <td>0</td>\n",
       "      <td>0</td>\n",
       "      <td>0</td>\n",
       "      <td>0</td>\n",
       "      <td>0</td>\n",
       "      <td>0</td>\n",
       "      <td>0</td>\n",
       "      <td>0</td>\n",
       "      <td>0</td>\n",
       "      <td>0</td>\n",
       "    </tr>\n",
       "  </tbody>\n",
       "</table>\n",
       "<p>41150 rows × 26 columns</p>\n",
       "</div>"
      ],
      "text/plain": [
       "       clothId  largeCategory largeCategoryName  smallCategory  \\\n",
       "0      1971752              3                바지            306   \n",
       "1       726566              3                바지            304   \n",
       "2      2213618              3                바지            306   \n",
       "3      2265443              3                바지            308   \n",
       "4      2005302              3                바지            309   \n",
       "...        ...            ...               ...            ...   \n",
       "57595  1889420              3                바지            302   \n",
       "57596  1275944              3                바지            302   \n",
       "57597  1889504              3                바지            302   \n",
       "57598   552678              3                바지            309   \n",
       "57599   655497              3                바지            307   \n",
       "\n",
       "      smallCategoryName  colorNo                           clothName  \\\n",
       "0                 기타 바지        3  카치아 61360203000 CACCIA 006 여자 울 팬츠   \n",
       "1            트레이닝/조거 팬츠        3         SSC TEAM TRACK PANTS (GREY)   \n",
       "2                 기타 바지        3              미니투어맨 패턴 팬츠_L213PT403P   \n",
       "3             슈트 팬츠/슬랙스        3               [UNISEX] 턱 와이드 팬츠 그레이   \n",
       "4                  숏 팬츠        3             버뮤다 이지 숏 팬츠 OUOSP002-GY   \n",
       "...                 ...      ...                                 ...   \n",
       "57595             데님 팬츠       15   남)프리미엄 스모킹 포인트 빈티지 워싱 AL1DTA15-DB   \n",
       "57596             데님 팬츠       15            스키니스트레치지퍼데님팬츠 KJE8904_LB   \n",
       "57597             데님 팬츠       15     여)오비안밴드 바이오스톤 탈색워싱  AL1DRS61-LB   \n",
       "57598              숏 팬츠       15       [5.11 택티컬] 스트라이크 반바지 (다크 네이비)   \n",
       "57599             코튼 팬츠       15      [에머슨 기어] 블루라벨 트레이닝 팬츠 G3 (멀티캠)   \n",
       "\n",
       "          brand                                              image clothPrice  \\\n",
       "0          막스마라  //image.msscdn.net/images/goods_img/20210527/1...   130,000원   \n",
       "1           피피피  //image.msscdn.net/images/goods_img/20180228/7...    69,000원   \n",
       "2        피지에이투어  //image.msscdn.net/images/goods_img/20211103/2...   199,000원   \n",
       "3          니커보커  //image.msscdn.net/images/goods_img/20211210/2...    95,000원   \n",
       "4      오브젝트 뮤지엄  //image.msscdn.net/images/goods_img/20210622/2...    69,000원   \n",
       "...         ...                                                ...        ...   \n",
       "57595       잠뱅이  //image.msscdn.net/images/goods_img/20210408/1...   149,000원   \n",
       "57596       코너스  //image.msscdn.net/images/goods_img/20200120/1...    70,500원   \n",
       "57597       잠뱅이  //image.msscdn.net/images/goods_img/20210408/1...    69,000원   \n",
       "57598   5.11택티컬  //image.msscdn.net/images/goods_img/20170510/5...   110,000원   \n",
       "57599       에머슨  //image.msscdn.net/images/goods_img/20171018/6...   171,000원   \n",
       "\n",
       "       ...  clothReviewNo fit  feeling  stretch  visibility  thickness  \\\n",
       "0      ...              0   0        0        0           0          0   \n",
       "1      ...              0   0        0        0           0          0   \n",
       "2      ...              0   0        0        0           0          0   \n",
       "3      ...              0   0        0        0           0          0   \n",
       "4      ...              0   0        0        0           0          0   \n",
       "...    ...            ...  ..      ...      ...         ...        ...   \n",
       "57595  ...              0   0        0        0           0          0   \n",
       "57596  ...              0   0        0        0           0          0   \n",
       "57597  ...              0   0        0        0           0          0   \n",
       "57598  ...              0   0        0        0           0          0   \n",
       "57599  ...              0   0        0        0           0          0   \n",
       "\n",
       "      seasonSpring  seasonSummer  seasonFall  seasonWinter  \n",
       "0                0             0           0             0  \n",
       "1                0             0           0             0  \n",
       "2                0             0           0             0  \n",
       "3                0             0           0             0  \n",
       "4                0             0           0             0  \n",
       "...            ...           ...         ...           ...  \n",
       "57595            0             0           0             0  \n",
       "57596            0             0           0             0  \n",
       "57597            0             0           0             0  \n",
       "57598            0             0           0             0  \n",
       "57599            0             0           0             0  \n",
       "\n",
       "[41150 rows x 26 columns]"
      ]
     },
     "execution_count": 54,
     "metadata": {},
     "output_type": "execute_result"
    }
   ],
   "source": [
    "df_pants_cloth[~df_pants_cloth['clothId'].isin(pants_id)]"
   ]
  },
  {
   "cell_type": "code",
   "execution_count": null,
   "id": "25b7ec46",
   "metadata": {},
   "outputs": [],
   "source": []
  },
  {
   "cell_type": "code",
   "execution_count": 87,
   "id": "a8ec51e6",
   "metadata": {
    "scrolled": true
   },
   "outputs": [
    {
     "name": "stderr",
     "output_type": "stream",
     "text": [
      "C:\\Users\\SSAFY\\AppData\\Local\\Temp\\ipykernel_3008\\1012811855.py:1: DtypeWarning: Columns (2,3,4) have mixed types. Specify dtype option on import or set low_memory=False.\n",
      "  df_outer = pd.read_csv('./musinsa_review_outer.csv')\n"
     ]
    }
   ],
   "source": [
    "df_outer = pd.read_csv('./musinsa_review_outer.csv')"
   ]
  },
  {
   "cell_type": "code",
   "execution_count": 88,
   "id": "6a9a3819",
   "metadata": {},
   "outputs": [
    {
     "data": {
      "text/plain": [
       "(530159, 19)"
      ]
     },
     "execution_count": 88,
     "metadata": {},
     "output_type": "execute_result"
    }
   ],
   "source": [
    "df_outer.shape"
   ]
  },
  {
   "cell_type": "code",
   "execution_count": 89,
   "id": "55ea8bea",
   "metadata": {},
   "outputs": [],
   "source": [
    "df_outer = df_outer.drop_duplicates(subset=\"goodsNo\").reset_index(drop=True)"
   ]
  },
  {
   "cell_type": "code",
   "execution_count": 95,
   "id": "c97fbfcd",
   "metadata": {},
   "outputs": [
    {
     "data": {
      "text/plain": [
       "(13477, 19)"
      ]
     },
     "execution_count": 95,
     "metadata": {},
     "output_type": "execute_result"
    }
   ],
   "source": [
    "df_outer.shape"
   ]
  },
  {
   "cell_type": "code",
   "execution_count": 100,
   "id": "5a16814a",
   "metadata": {},
   "outputs": [
    {
     "name": "stderr",
     "output_type": "stream",
     "text": [
      "C:\\Users\\SSAFY\\AppData\\Local\\Temp\\ipykernel_3008\\3247063839.py:1: DtypeWarning: Columns (3) have mixed types. Specify dtype option on import or set low_memory=False.\n",
      "  df_outer_cloth = pd.read_csv('./musinsa_clothes_outer.csv')\n"
     ]
    }
   ],
   "source": [
    "df_outer_cloth = pd.read_csv('./musinsa_clothes_outer.csv')"
   ]
  },
  {
   "cell_type": "code",
   "execution_count": 101,
   "id": "4b9bb695",
   "metadata": {},
   "outputs": [],
   "source": [
    "df_outer_cloth = df_outer_cloth.drop_duplicates(subset='clothId').reset_index(drop=True)"
   ]
  },
  {
   "cell_type": "code",
   "execution_count": 102,
   "id": "619bdd4d",
   "metadata": {},
   "outputs": [
    {
     "data": {
      "text/plain": [
       "(54963, 26)"
      ]
     },
     "execution_count": 102,
     "metadata": {},
     "output_type": "execute_result"
    }
   ],
   "source": [
    "df_outer_cloth.shape"
   ]
  },
  {
   "cell_type": "code",
   "execution_count": 103,
   "id": "324947a2",
   "metadata": {},
   "outputs": [
    {
     "data": {
      "text/plain": [
       "0          0\n",
       "1         16\n",
       "2          0\n",
       "3          0\n",
       "4          0\n",
       "        ... \n",
       "54958    424\n",
       "54959    279\n",
       "54960     37\n",
       "54961      0\n",
       "54962      0\n",
       "Name: clothReviewNo, Length: 54963, dtype: int32"
      ]
     },
     "execution_count": 103,
     "metadata": {},
     "output_type": "execute_result"
    }
   ],
   "source": [
    "df_outer_cloth['clothReviewNo'] = df_outer_cloth['clothReviewNo'].apply(lambda x: x.replace(\",\", \"\"))\n",
    "df_outer_cloth['clothReviewNo'] = df_outer_cloth['clothReviewNo'].astype('int')\n",
    "df_outer_cloth['clothReviewNo']"
   ]
  },
  {
   "cell_type": "code",
   "execution_count": 106,
   "id": "8bc169fc",
   "metadata": {},
   "outputs": [
    {
     "data": {
      "text/plain": [
       "5885855"
      ]
     },
     "execution_count": 106,
     "metadata": {},
     "output_type": "execute_result"
    }
   ],
   "source": [
    "sum(df_outer_cloth[df_outer_cloth.clothId.isin(outer_id)].clothReviewNo)"
   ]
  },
  {
   "cell_type": "code",
   "execution_count": 107,
   "id": "f46c0f10",
   "metadata": {},
   "outputs": [
    {
     "data": {
      "text/plain": [
       "2483531"
      ]
     },
     "execution_count": 107,
     "metadata": {},
     "output_type": "execute_result"
    }
   ],
   "source": [
    "sum(df_outer_cloth[~df_outer_cloth.clothId.isin(outer_id)].clothReviewNo)"
   ]
  },
  {
   "cell_type": "code",
   "execution_count": 108,
   "id": "4d15a606",
   "metadata": {},
   "outputs": [],
   "source": [
    "outer_id = list(df_outer_cloth[~df_outer_cloth.clothId.isin(outer_id)].clothId)"
   ]
  },
  {
   "cell_type": "code",
   "execution_count": 109,
   "id": "b2f64563",
   "metadata": {},
   "outputs": [],
   "source": [
    "with open('unique_id_outer1.csv', 'w',newline='') as f: \n",
    "    write = csv.writer(f)\n",
    "    write.writerow(outer_id)"
   ]
  },
  {
   "cell_type": "code",
   "execution_count": 105,
   "id": "c451dbeb",
   "metadata": {},
   "outputs": [],
   "source": [
    "outer_id = df_outer.goodsNo"
   ]
  },
  {
   "cell_type": "code",
   "execution_count": 50,
   "id": "20275740",
   "metadata": {},
   "outputs": [
    {
     "data": {
      "text/plain": [
       "0        2258181\n",
       "1        1281045\n",
       "2        2328543\n",
       "3        2346636\n",
       "4        2173494\n",
       "          ...   \n",
       "16445    1619031\n",
       "16446    2060719\n",
       "16447    2383006\n",
       "16448    1875032\n",
       "16449    2164743\n",
       "Name: goodsNo, Length: 16450, dtype: int64"
      ]
     },
     "execution_count": 50,
     "metadata": {},
     "output_type": "execute_result"
    }
   ],
   "source": [
    "outer_id"
   ]
  },
  {
   "cell_type": "code",
   "execution_count": 54,
   "id": "6116331c",
   "metadata": {
    "scrolled": true
   },
   "outputs": [
    {
     "data": {
      "text/html": [
       "<div>\n",
       "<style scoped>\n",
       "    .dataframe tbody tr th:only-of-type {\n",
       "        vertical-align: middle;\n",
       "    }\n",
       "\n",
       "    .dataframe tbody tr th {\n",
       "        vertical-align: top;\n",
       "    }\n",
       "\n",
       "    .dataframe thead th {\n",
       "        text-align: right;\n",
       "    }\n",
       "</style>\n",
       "<table border=\"1\" class=\"dataframe\">\n",
       "  <thead>\n",
       "    <tr style=\"text-align: right;\">\n",
       "      <th></th>\n",
       "      <th>clothId</th>\n",
       "      <th>largeCategory</th>\n",
       "      <th>largeCategoryName</th>\n",
       "      <th>smallCategory</th>\n",
       "      <th>smallCategoryName</th>\n",
       "      <th>colorNo</th>\n",
       "      <th>clothName</th>\n",
       "      <th>brand</th>\n",
       "      <th>image</th>\n",
       "      <th>clothPrice</th>\n",
       "      <th>...</th>\n",
       "      <th>clothReviewNo</th>\n",
       "      <th>fit</th>\n",
       "      <th>feeling</th>\n",
       "      <th>stretch</th>\n",
       "      <th>visibility</th>\n",
       "      <th>thickness</th>\n",
       "      <th>seasonSpring</th>\n",
       "      <th>seasonSummer</th>\n",
       "      <th>seasonFall</th>\n",
       "      <th>seasonWinter</th>\n",
       "    </tr>\n",
       "  </thead>\n",
       "  <tbody>\n",
       "    <tr>\n",
       "      <th>0</th>\n",
       "      <td>1971752</td>\n",
       "      <td>3</td>\n",
       "      <td>바지</td>\n",
       "      <td>306</td>\n",
       "      <td>기타 바지</td>\n",
       "      <td>3</td>\n",
       "      <td>카치아 61360203000 CACCIA 006 여자 울 팬츠</td>\n",
       "      <td>막스마라</td>\n",
       "      <td>//image.msscdn.net/images/goods_img/20210527/1...</td>\n",
       "      <td>130,000원</td>\n",
       "      <td>...</td>\n",
       "      <td>0</td>\n",
       "      <td>0</td>\n",
       "      <td>0</td>\n",
       "      <td>0</td>\n",
       "      <td>0</td>\n",
       "      <td>0</td>\n",
       "      <td>0</td>\n",
       "      <td>0</td>\n",
       "      <td>0</td>\n",
       "      <td>0</td>\n",
       "    </tr>\n",
       "    <tr>\n",
       "      <th>1</th>\n",
       "      <td>726566</td>\n",
       "      <td>3</td>\n",
       "      <td>바지</td>\n",
       "      <td>304</td>\n",
       "      <td>트레이닝/조거 팬츠</td>\n",
       "      <td>3</td>\n",
       "      <td>SSC TEAM TRACK PANTS (GREY)</td>\n",
       "      <td>피피피</td>\n",
       "      <td>//image.msscdn.net/images/goods_img/20180228/7...</td>\n",
       "      <td>69,000원</td>\n",
       "      <td>...</td>\n",
       "      <td>0</td>\n",
       "      <td>0</td>\n",
       "      <td>0</td>\n",
       "      <td>0</td>\n",
       "      <td>0</td>\n",
       "      <td>0</td>\n",
       "      <td>0</td>\n",
       "      <td>0</td>\n",
       "      <td>0</td>\n",
       "      <td>0</td>\n",
       "    </tr>\n",
       "    <tr>\n",
       "      <th>2</th>\n",
       "      <td>2213618</td>\n",
       "      <td>3</td>\n",
       "      <td>바지</td>\n",
       "      <td>306</td>\n",
       "      <td>기타 바지</td>\n",
       "      <td>3</td>\n",
       "      <td>미니투어맨 패턴 팬츠_L213PT403P</td>\n",
       "      <td>피지에이투어</td>\n",
       "      <td>//image.msscdn.net/images/goods_img/20211103/2...</td>\n",
       "      <td>199,000원</td>\n",
       "      <td>...</td>\n",
       "      <td>0</td>\n",
       "      <td>0</td>\n",
       "      <td>0</td>\n",
       "      <td>0</td>\n",
       "      <td>0</td>\n",
       "      <td>0</td>\n",
       "      <td>0</td>\n",
       "      <td>0</td>\n",
       "      <td>0</td>\n",
       "      <td>0</td>\n",
       "    </tr>\n",
       "    <tr>\n",
       "      <th>3</th>\n",
       "      <td>2265443</td>\n",
       "      <td>3</td>\n",
       "      <td>바지</td>\n",
       "      <td>308</td>\n",
       "      <td>슈트 팬츠/슬랙스</td>\n",
       "      <td>3</td>\n",
       "      <td>[UNISEX] 턱 와이드 팬츠 그레이</td>\n",
       "      <td>니커보커</td>\n",
       "      <td>//image.msscdn.net/images/goods_img/20211210/2...</td>\n",
       "      <td>95,000원</td>\n",
       "      <td>...</td>\n",
       "      <td>0</td>\n",
       "      <td>0</td>\n",
       "      <td>0</td>\n",
       "      <td>0</td>\n",
       "      <td>0</td>\n",
       "      <td>0</td>\n",
       "      <td>0</td>\n",
       "      <td>0</td>\n",
       "      <td>0</td>\n",
       "      <td>0</td>\n",
       "    </tr>\n",
       "    <tr>\n",
       "      <th>4</th>\n",
       "      <td>2005302</td>\n",
       "      <td>3</td>\n",
       "      <td>바지</td>\n",
       "      <td>309</td>\n",
       "      <td>숏 팬츠</td>\n",
       "      <td>3</td>\n",
       "      <td>버뮤다 이지 숏 팬츠 OUOSP002-GY</td>\n",
       "      <td>오브젝트 뮤지엄</td>\n",
       "      <td>//image.msscdn.net/images/goods_img/20210622/2...</td>\n",
       "      <td>69,000원</td>\n",
       "      <td>...</td>\n",
       "      <td>0</td>\n",
       "      <td>0</td>\n",
       "      <td>0</td>\n",
       "      <td>0</td>\n",
       "      <td>0</td>\n",
       "      <td>0</td>\n",
       "      <td>0</td>\n",
       "      <td>0</td>\n",
       "      <td>0</td>\n",
       "      <td>0</td>\n",
       "    </tr>\n",
       "    <tr>\n",
       "      <th>...</th>\n",
       "      <td>...</td>\n",
       "      <td>...</td>\n",
       "      <td>...</td>\n",
       "      <td>...</td>\n",
       "      <td>...</td>\n",
       "      <td>...</td>\n",
       "      <td>...</td>\n",
       "      <td>...</td>\n",
       "      <td>...</td>\n",
       "      <td>...</td>\n",
       "      <td>...</td>\n",
       "      <td>...</td>\n",
       "      <td>...</td>\n",
       "      <td>...</td>\n",
       "      <td>...</td>\n",
       "      <td>...</td>\n",
       "      <td>...</td>\n",
       "      <td>...</td>\n",
       "      <td>...</td>\n",
       "      <td>...</td>\n",
       "      <td>...</td>\n",
       "    </tr>\n",
       "    <tr>\n",
       "      <th>57595</th>\n",
       "      <td>1889420</td>\n",
       "      <td>3</td>\n",
       "      <td>바지</td>\n",
       "      <td>302</td>\n",
       "      <td>데님 팬츠</td>\n",
       "      <td>15</td>\n",
       "      <td>남)프리미엄 스모킹 포인트 빈티지 워싱 AL1DTA15-DB</td>\n",
       "      <td>잠뱅이</td>\n",
       "      <td>//image.msscdn.net/images/goods_img/20210408/1...</td>\n",
       "      <td>149,000원</td>\n",
       "      <td>...</td>\n",
       "      <td>0</td>\n",
       "      <td>0</td>\n",
       "      <td>0</td>\n",
       "      <td>0</td>\n",
       "      <td>0</td>\n",
       "      <td>0</td>\n",
       "      <td>0</td>\n",
       "      <td>0</td>\n",
       "      <td>0</td>\n",
       "      <td>0</td>\n",
       "    </tr>\n",
       "    <tr>\n",
       "      <th>57596</th>\n",
       "      <td>1275944</td>\n",
       "      <td>3</td>\n",
       "      <td>바지</td>\n",
       "      <td>302</td>\n",
       "      <td>데님 팬츠</td>\n",
       "      <td>15</td>\n",
       "      <td>스키니스트레치지퍼데님팬츠 KJE8904_LB</td>\n",
       "      <td>코너스</td>\n",
       "      <td>//image.msscdn.net/images/goods_img/20200120/1...</td>\n",
       "      <td>70,500원</td>\n",
       "      <td>...</td>\n",
       "      <td>0</td>\n",
       "      <td>0</td>\n",
       "      <td>0</td>\n",
       "      <td>0</td>\n",
       "      <td>0</td>\n",
       "      <td>0</td>\n",
       "      <td>0</td>\n",
       "      <td>0</td>\n",
       "      <td>0</td>\n",
       "      <td>0</td>\n",
       "    </tr>\n",
       "    <tr>\n",
       "      <th>57597</th>\n",
       "      <td>1889504</td>\n",
       "      <td>3</td>\n",
       "      <td>바지</td>\n",
       "      <td>302</td>\n",
       "      <td>데님 팬츠</td>\n",
       "      <td>15</td>\n",
       "      <td>여)오비안밴드 바이오스톤 탈색워싱  AL1DRS61-LB</td>\n",
       "      <td>잠뱅이</td>\n",
       "      <td>//image.msscdn.net/images/goods_img/20210408/1...</td>\n",
       "      <td>69,000원</td>\n",
       "      <td>...</td>\n",
       "      <td>0</td>\n",
       "      <td>0</td>\n",
       "      <td>0</td>\n",
       "      <td>0</td>\n",
       "      <td>0</td>\n",
       "      <td>0</td>\n",
       "      <td>0</td>\n",
       "      <td>0</td>\n",
       "      <td>0</td>\n",
       "      <td>0</td>\n",
       "    </tr>\n",
       "    <tr>\n",
       "      <th>57598</th>\n",
       "      <td>552678</td>\n",
       "      <td>3</td>\n",
       "      <td>바지</td>\n",
       "      <td>309</td>\n",
       "      <td>숏 팬츠</td>\n",
       "      <td>15</td>\n",
       "      <td>[5.11 택티컬] 스트라이크 반바지 (다크 네이비)</td>\n",
       "      <td>5.11택티컬</td>\n",
       "      <td>//image.msscdn.net/images/goods_img/20170510/5...</td>\n",
       "      <td>110,000원</td>\n",
       "      <td>...</td>\n",
       "      <td>0</td>\n",
       "      <td>0</td>\n",
       "      <td>0</td>\n",
       "      <td>0</td>\n",
       "      <td>0</td>\n",
       "      <td>0</td>\n",
       "      <td>0</td>\n",
       "      <td>0</td>\n",
       "      <td>0</td>\n",
       "      <td>0</td>\n",
       "    </tr>\n",
       "    <tr>\n",
       "      <th>57599</th>\n",
       "      <td>655497</td>\n",
       "      <td>3</td>\n",
       "      <td>바지</td>\n",
       "      <td>307</td>\n",
       "      <td>코튼 팬츠</td>\n",
       "      <td>15</td>\n",
       "      <td>[에머슨 기어] 블루라벨 트레이닝 팬츠 G3 (멀티캠)</td>\n",
       "      <td>에머슨</td>\n",
       "      <td>//image.msscdn.net/images/goods_img/20171018/6...</td>\n",
       "      <td>171,000원</td>\n",
       "      <td>...</td>\n",
       "      <td>0</td>\n",
       "      <td>0</td>\n",
       "      <td>0</td>\n",
       "      <td>0</td>\n",
       "      <td>0</td>\n",
       "      <td>0</td>\n",
       "      <td>0</td>\n",
       "      <td>0</td>\n",
       "      <td>0</td>\n",
       "      <td>0</td>\n",
       "    </tr>\n",
       "  </tbody>\n",
       "</table>\n",
       "<p>41150 rows × 26 columns</p>\n",
       "</div>"
      ],
      "text/plain": [
       "       clothId  largeCategory largeCategoryName  smallCategory  \\\n",
       "0      1971752              3                바지            306   \n",
       "1       726566              3                바지            304   \n",
       "2      2213618              3                바지            306   \n",
       "3      2265443              3                바지            308   \n",
       "4      2005302              3                바지            309   \n",
       "...        ...            ...               ...            ...   \n",
       "57595  1889420              3                바지            302   \n",
       "57596  1275944              3                바지            302   \n",
       "57597  1889504              3                바지            302   \n",
       "57598   552678              3                바지            309   \n",
       "57599   655497              3                바지            307   \n",
       "\n",
       "      smallCategoryName  colorNo                           clothName  \\\n",
       "0                 기타 바지        3  카치아 61360203000 CACCIA 006 여자 울 팬츠   \n",
       "1            트레이닝/조거 팬츠        3         SSC TEAM TRACK PANTS (GREY)   \n",
       "2                 기타 바지        3              미니투어맨 패턴 팬츠_L213PT403P   \n",
       "3             슈트 팬츠/슬랙스        3               [UNISEX] 턱 와이드 팬츠 그레이   \n",
       "4                  숏 팬츠        3             버뮤다 이지 숏 팬츠 OUOSP002-GY   \n",
       "...                 ...      ...                                 ...   \n",
       "57595             데님 팬츠       15   남)프리미엄 스모킹 포인트 빈티지 워싱 AL1DTA15-DB   \n",
       "57596             데님 팬츠       15            스키니스트레치지퍼데님팬츠 KJE8904_LB   \n",
       "57597             데님 팬츠       15     여)오비안밴드 바이오스톤 탈색워싱  AL1DRS61-LB   \n",
       "57598              숏 팬츠       15       [5.11 택티컬] 스트라이크 반바지 (다크 네이비)   \n",
       "57599             코튼 팬츠       15      [에머슨 기어] 블루라벨 트레이닝 팬츠 G3 (멀티캠)   \n",
       "\n",
       "          brand                                              image clothPrice  \\\n",
       "0          막스마라  //image.msscdn.net/images/goods_img/20210527/1...   130,000원   \n",
       "1           피피피  //image.msscdn.net/images/goods_img/20180228/7...    69,000원   \n",
       "2        피지에이투어  //image.msscdn.net/images/goods_img/20211103/2...   199,000원   \n",
       "3          니커보커  //image.msscdn.net/images/goods_img/20211210/2...    95,000원   \n",
       "4      오브젝트 뮤지엄  //image.msscdn.net/images/goods_img/20210622/2...    69,000원   \n",
       "...         ...                                                ...        ...   \n",
       "57595       잠뱅이  //image.msscdn.net/images/goods_img/20210408/1...   149,000원   \n",
       "57596       코너스  //image.msscdn.net/images/goods_img/20200120/1...    70,500원   \n",
       "57597       잠뱅이  //image.msscdn.net/images/goods_img/20210408/1...    69,000원   \n",
       "57598   5.11택티컬  //image.msscdn.net/images/goods_img/20170510/5...   110,000원   \n",
       "57599       에머슨  //image.msscdn.net/images/goods_img/20171018/6...   171,000원   \n",
       "\n",
       "       ...  clothReviewNo fit  feeling  stretch  visibility  thickness  \\\n",
       "0      ...              0   0        0        0           0          0   \n",
       "1      ...              0   0        0        0           0          0   \n",
       "2      ...              0   0        0        0           0          0   \n",
       "3      ...              0   0        0        0           0          0   \n",
       "4      ...              0   0        0        0           0          0   \n",
       "...    ...            ...  ..      ...      ...         ...        ...   \n",
       "57595  ...              0   0        0        0           0          0   \n",
       "57596  ...              0   0        0        0           0          0   \n",
       "57597  ...              0   0        0        0           0          0   \n",
       "57598  ...              0   0        0        0           0          0   \n",
       "57599  ...              0   0        0        0           0          0   \n",
       "\n",
       "      seasonSpring  seasonSummer  seasonFall  seasonWinter  \n",
       "0                0             0           0             0  \n",
       "1                0             0           0             0  \n",
       "2                0             0           0             0  \n",
       "3                0             0           0             0  \n",
       "4                0             0           0             0  \n",
       "...            ...           ...         ...           ...  \n",
       "57595            0             0           0             0  \n",
       "57596            0             0           0             0  \n",
       "57597            0             0           0             0  \n",
       "57598            0             0           0             0  \n",
       "57599            0             0           0             0  \n",
       "\n",
       "[41150 rows x 26 columns]"
      ]
     },
     "execution_count": 54,
     "metadata": {},
     "output_type": "execute_result"
    }
   ],
   "source": [
    "df_outer_cloth[~df_outer_cloth['clothId'].isin(outer_id)]"
   ]
  },
  {
   "cell_type": "code",
   "execution_count": null,
   "id": "f9759f24",
   "metadata": {},
   "outputs": [],
   "source": []
  },
  {
   "cell_type": "code",
   "execution_count": 110,
   "id": "1d2d5bd5",
   "metadata": {
    "scrolled": false
   },
   "outputs": [],
   "source": [
    "df_top = pd.read_csv('./musinsa_review_top4.csv')"
   ]
  },
  {
   "cell_type": "code",
   "execution_count": 111,
   "id": "011028fb",
   "metadata": {},
   "outputs": [
    {
     "data": {
      "text/plain": [
       "(457875, 19)"
      ]
     },
     "execution_count": 111,
     "metadata": {},
     "output_type": "execute_result"
    }
   ],
   "source": [
    "df_top.shape"
   ]
  },
  {
   "cell_type": "code",
   "execution_count": 112,
   "id": "224aede8",
   "metadata": {},
   "outputs": [],
   "source": [
    "df_top = df_top.drop_duplicates(subset=\"goodsNo\").reset_index(drop=True)"
   ]
  },
  {
   "cell_type": "code",
   "execution_count": 113,
   "id": "13ca3c1a",
   "metadata": {},
   "outputs": [
    {
     "data": {
      "text/plain": [
       "(13331, 19)"
      ]
     },
     "execution_count": 113,
     "metadata": {},
     "output_type": "execute_result"
    }
   ],
   "source": [
    "df_top.shape"
   ]
  },
  {
   "cell_type": "code",
   "execution_count": 114,
   "id": "0b10c020",
   "metadata": {},
   "outputs": [
    {
     "name": "stderr",
     "output_type": "stream",
     "text": [
      "C:\\Users\\SSAFY\\AppData\\Local\\Temp\\ipykernel_3008\\322730318.py:1: DtypeWarning: Columns (3) have mixed types. Specify dtype option on import or set low_memory=False.\n",
      "  top = pd.read_csv('./musinsa_clothes_top_4.csv')\n"
     ]
    }
   ],
   "source": [
    "top = pd.read_csv('./musinsa_clothes_top_4.csv')"
   ]
  },
  {
   "cell_type": "code",
   "execution_count": 115,
   "id": "4b9bb695",
   "metadata": {},
   "outputs": [],
   "source": [
    "top = top.drop_duplicates(subset='clothId').reset_index(drop=True)"
   ]
  },
  {
   "cell_type": "code",
   "execution_count": 116,
   "id": "67e3c6b7",
   "metadata": {},
   "outputs": [
    {
     "data": {
      "text/plain": [
       "(34280, 26)"
      ]
     },
     "execution_count": 116,
     "metadata": {},
     "output_type": "execute_result"
    }
   ],
   "source": [
    "top.shape"
   ]
  },
  {
   "cell_type": "code",
   "execution_count": 117,
   "id": "c9e54f6e",
   "metadata": {
    "scrolled": true
   },
   "outputs": [
    {
     "data": {
      "text/plain": [
       "0         0\n",
       "1         5\n",
       "2         0\n",
       "3        14\n",
       "4         0\n",
       "         ..\n",
       "34275     0\n",
       "34276     0\n",
       "34277     0\n",
       "34278     0\n",
       "34279     0\n",
       "Name: clothReviewNo, Length: 34280, dtype: int32"
      ]
     },
     "execution_count": 117,
     "metadata": {},
     "output_type": "execute_result"
    }
   ],
   "source": [
    "top['clothReviewNo'] = top['clothReviewNo'].apply(lambda x: x.replace(\",\", \"\"))\n",
    "top['clothReviewNo'] = top['clothReviewNo'].astype('int')\n",
    "top['clothReviewNo']"
   ]
  },
  {
   "cell_type": "code",
   "execution_count": 120,
   "id": "364ebc55",
   "metadata": {},
   "outputs": [
    {
     "data": {
      "text/plain": [
       "9674724"
      ]
     },
     "execution_count": 120,
     "metadata": {},
     "output_type": "execute_result"
    }
   ],
   "source": [
    "sum(top[top.clothId.isin(top_id)].clothReviewNo)"
   ]
  },
  {
   "cell_type": "code",
   "execution_count": 121,
   "id": "d796846a",
   "metadata": {},
   "outputs": [
    {
     "data": {
      "text/plain": [
       "204912"
      ]
     },
     "execution_count": 121,
     "metadata": {},
     "output_type": "execute_result"
    }
   ],
   "source": [
    "sum(top[~top.clothId.isin(top_id)].clothReviewNo)"
   ]
  },
  {
   "cell_type": "code",
   "execution_count": 122,
   "id": "6ca6f45d",
   "metadata": {},
   "outputs": [],
   "source": [
    "top_id = list(top[~top.clothId.isin(top_id)].clothId)"
   ]
  },
  {
   "cell_type": "code",
   "execution_count": 124,
   "id": "40447cdf",
   "metadata": {},
   "outputs": [
    {
     "name": "stdout",
     "output_type": "stream",
     "text": [
      "20949\n"
     ]
    }
   ],
   "source": [
    "print(len(top_id))"
   ]
  },
  {
   "cell_type": "code",
   "execution_count": 123,
   "id": "ce7e5eab",
   "metadata": {},
   "outputs": [],
   "source": [
    "with open('unique_id_top4_1.csv', 'w',newline='') as f: \n",
    "    write = csv.writer(f)\n",
    "    write.writerow(top_id)"
   ]
  },
  {
   "cell_type": "code",
   "execution_count": 119,
   "id": "8065965d",
   "metadata": {},
   "outputs": [],
   "source": [
    "top_id = df_top.goodsNo"
   ]
  },
  {
   "cell_type": "code",
   "execution_count": 50,
   "id": "5f4d8e00",
   "metadata": {},
   "outputs": [
    {
     "data": {
      "text/plain": [
       "0        2258181\n",
       "1        1281045\n",
       "2        2328543\n",
       "3        2346636\n",
       "4        2173494\n",
       "          ...   \n",
       "16445    1619031\n",
       "16446    2060719\n",
       "16447    2383006\n",
       "16448    1875032\n",
       "16449    2164743\n",
       "Name: goodsNo, Length: 16450, dtype: int64"
      ]
     },
     "execution_count": 50,
     "metadata": {},
     "output_type": "execute_result"
    }
   ],
   "source": [
    "top_id"
   ]
  },
  {
   "cell_type": "code",
   "execution_count": 54,
   "id": "0d3af1b0",
   "metadata": {},
   "outputs": [
    {
     "data": {
      "text/html": [
       "<div>\n",
       "<style scoped>\n",
       "    .dataframe tbody tr th:only-of-type {\n",
       "        vertical-align: middle;\n",
       "    }\n",
       "\n",
       "    .dataframe tbody tr th {\n",
       "        vertical-align: top;\n",
       "    }\n",
       "\n",
       "    .dataframe thead th {\n",
       "        text-align: right;\n",
       "    }\n",
       "</style>\n",
       "<table border=\"1\" class=\"dataframe\">\n",
       "  <thead>\n",
       "    <tr style=\"text-align: right;\">\n",
       "      <th></th>\n",
       "      <th>clothId</th>\n",
       "      <th>largeCategory</th>\n",
       "      <th>largeCategoryName</th>\n",
       "      <th>smallCategory</th>\n",
       "      <th>smallCategoryName</th>\n",
       "      <th>colorNo</th>\n",
       "      <th>clothName</th>\n",
       "      <th>brand</th>\n",
       "      <th>image</th>\n",
       "      <th>clothPrice</th>\n",
       "      <th>...</th>\n",
       "      <th>clothReviewNo</th>\n",
       "      <th>fit</th>\n",
       "      <th>feeling</th>\n",
       "      <th>stretch</th>\n",
       "      <th>visibility</th>\n",
       "      <th>thickness</th>\n",
       "      <th>seasonSpring</th>\n",
       "      <th>seasonSummer</th>\n",
       "      <th>seasonFall</th>\n",
       "      <th>seasonWinter</th>\n",
       "    </tr>\n",
       "  </thead>\n",
       "  <tbody>\n",
       "    <tr>\n",
       "      <th>0</th>\n",
       "      <td>1971752</td>\n",
       "      <td>3</td>\n",
       "      <td>바지</td>\n",
       "      <td>306</td>\n",
       "      <td>기타 바지</td>\n",
       "      <td>3</td>\n",
       "      <td>카치아 61360203000 CACCIA 006 여자 울 팬츠</td>\n",
       "      <td>막스마라</td>\n",
       "      <td>//image.msscdn.net/images/goods_img/20210527/1...</td>\n",
       "      <td>130,000원</td>\n",
       "      <td>...</td>\n",
       "      <td>0</td>\n",
       "      <td>0</td>\n",
       "      <td>0</td>\n",
       "      <td>0</td>\n",
       "      <td>0</td>\n",
       "      <td>0</td>\n",
       "      <td>0</td>\n",
       "      <td>0</td>\n",
       "      <td>0</td>\n",
       "      <td>0</td>\n",
       "    </tr>\n",
       "    <tr>\n",
       "      <th>1</th>\n",
       "      <td>726566</td>\n",
       "      <td>3</td>\n",
       "      <td>바지</td>\n",
       "      <td>304</td>\n",
       "      <td>트레이닝/조거 팬츠</td>\n",
       "      <td>3</td>\n",
       "      <td>SSC TEAM TRACK PANTS (GREY)</td>\n",
       "      <td>피피피</td>\n",
       "      <td>//image.msscdn.net/images/goods_img/20180228/7...</td>\n",
       "      <td>69,000원</td>\n",
       "      <td>...</td>\n",
       "      <td>0</td>\n",
       "      <td>0</td>\n",
       "      <td>0</td>\n",
       "      <td>0</td>\n",
       "      <td>0</td>\n",
       "      <td>0</td>\n",
       "      <td>0</td>\n",
       "      <td>0</td>\n",
       "      <td>0</td>\n",
       "      <td>0</td>\n",
       "    </tr>\n",
       "    <tr>\n",
       "      <th>2</th>\n",
       "      <td>2213618</td>\n",
       "      <td>3</td>\n",
       "      <td>바지</td>\n",
       "      <td>306</td>\n",
       "      <td>기타 바지</td>\n",
       "      <td>3</td>\n",
       "      <td>미니투어맨 패턴 팬츠_L213PT403P</td>\n",
       "      <td>피지에이투어</td>\n",
       "      <td>//image.msscdn.net/images/goods_img/20211103/2...</td>\n",
       "      <td>199,000원</td>\n",
       "      <td>...</td>\n",
       "      <td>0</td>\n",
       "      <td>0</td>\n",
       "      <td>0</td>\n",
       "      <td>0</td>\n",
       "      <td>0</td>\n",
       "      <td>0</td>\n",
       "      <td>0</td>\n",
       "      <td>0</td>\n",
       "      <td>0</td>\n",
       "      <td>0</td>\n",
       "    </tr>\n",
       "    <tr>\n",
       "      <th>3</th>\n",
       "      <td>2265443</td>\n",
       "      <td>3</td>\n",
       "      <td>바지</td>\n",
       "      <td>308</td>\n",
       "      <td>슈트 팬츠/슬랙스</td>\n",
       "      <td>3</td>\n",
       "      <td>[UNISEX] 턱 와이드 팬츠 그레이</td>\n",
       "      <td>니커보커</td>\n",
       "      <td>//image.msscdn.net/images/goods_img/20211210/2...</td>\n",
       "      <td>95,000원</td>\n",
       "      <td>...</td>\n",
       "      <td>0</td>\n",
       "      <td>0</td>\n",
       "      <td>0</td>\n",
       "      <td>0</td>\n",
       "      <td>0</td>\n",
       "      <td>0</td>\n",
       "      <td>0</td>\n",
       "      <td>0</td>\n",
       "      <td>0</td>\n",
       "      <td>0</td>\n",
       "    </tr>\n",
       "    <tr>\n",
       "      <th>4</th>\n",
       "      <td>2005302</td>\n",
       "      <td>3</td>\n",
       "      <td>바지</td>\n",
       "      <td>309</td>\n",
       "      <td>숏 팬츠</td>\n",
       "      <td>3</td>\n",
       "      <td>버뮤다 이지 숏 팬츠 OUOSP002-GY</td>\n",
       "      <td>오브젝트 뮤지엄</td>\n",
       "      <td>//image.msscdn.net/images/goods_img/20210622/2...</td>\n",
       "      <td>69,000원</td>\n",
       "      <td>...</td>\n",
       "      <td>0</td>\n",
       "      <td>0</td>\n",
       "      <td>0</td>\n",
       "      <td>0</td>\n",
       "      <td>0</td>\n",
       "      <td>0</td>\n",
       "      <td>0</td>\n",
       "      <td>0</td>\n",
       "      <td>0</td>\n",
       "      <td>0</td>\n",
       "    </tr>\n",
       "    <tr>\n",
       "      <th>...</th>\n",
       "      <td>...</td>\n",
       "      <td>...</td>\n",
       "      <td>...</td>\n",
       "      <td>...</td>\n",
       "      <td>...</td>\n",
       "      <td>...</td>\n",
       "      <td>...</td>\n",
       "      <td>...</td>\n",
       "      <td>...</td>\n",
       "      <td>...</td>\n",
       "      <td>...</td>\n",
       "      <td>...</td>\n",
       "      <td>...</td>\n",
       "      <td>...</td>\n",
       "      <td>...</td>\n",
       "      <td>...</td>\n",
       "      <td>...</td>\n",
       "      <td>...</td>\n",
       "      <td>...</td>\n",
       "      <td>...</td>\n",
       "      <td>...</td>\n",
       "    </tr>\n",
       "    <tr>\n",
       "      <th>57595</th>\n",
       "      <td>1889420</td>\n",
       "      <td>3</td>\n",
       "      <td>바지</td>\n",
       "      <td>302</td>\n",
       "      <td>데님 팬츠</td>\n",
       "      <td>15</td>\n",
       "      <td>남)프리미엄 스모킹 포인트 빈티지 워싱 AL1DTA15-DB</td>\n",
       "      <td>잠뱅이</td>\n",
       "      <td>//image.msscdn.net/images/goods_img/20210408/1...</td>\n",
       "      <td>149,000원</td>\n",
       "      <td>...</td>\n",
       "      <td>0</td>\n",
       "      <td>0</td>\n",
       "      <td>0</td>\n",
       "      <td>0</td>\n",
       "      <td>0</td>\n",
       "      <td>0</td>\n",
       "      <td>0</td>\n",
       "      <td>0</td>\n",
       "      <td>0</td>\n",
       "      <td>0</td>\n",
       "    </tr>\n",
       "    <tr>\n",
       "      <th>57596</th>\n",
       "      <td>1275944</td>\n",
       "      <td>3</td>\n",
       "      <td>바지</td>\n",
       "      <td>302</td>\n",
       "      <td>데님 팬츠</td>\n",
       "      <td>15</td>\n",
       "      <td>스키니스트레치지퍼데님팬츠 KJE8904_LB</td>\n",
       "      <td>코너스</td>\n",
       "      <td>//image.msscdn.net/images/goods_img/20200120/1...</td>\n",
       "      <td>70,500원</td>\n",
       "      <td>...</td>\n",
       "      <td>0</td>\n",
       "      <td>0</td>\n",
       "      <td>0</td>\n",
       "      <td>0</td>\n",
       "      <td>0</td>\n",
       "      <td>0</td>\n",
       "      <td>0</td>\n",
       "      <td>0</td>\n",
       "      <td>0</td>\n",
       "      <td>0</td>\n",
       "    </tr>\n",
       "    <tr>\n",
       "      <th>57597</th>\n",
       "      <td>1889504</td>\n",
       "      <td>3</td>\n",
       "      <td>바지</td>\n",
       "      <td>302</td>\n",
       "      <td>데님 팬츠</td>\n",
       "      <td>15</td>\n",
       "      <td>여)오비안밴드 바이오스톤 탈색워싱  AL1DRS61-LB</td>\n",
       "      <td>잠뱅이</td>\n",
       "      <td>//image.msscdn.net/images/goods_img/20210408/1...</td>\n",
       "      <td>69,000원</td>\n",
       "      <td>...</td>\n",
       "      <td>0</td>\n",
       "      <td>0</td>\n",
       "      <td>0</td>\n",
       "      <td>0</td>\n",
       "      <td>0</td>\n",
       "      <td>0</td>\n",
       "      <td>0</td>\n",
       "      <td>0</td>\n",
       "      <td>0</td>\n",
       "      <td>0</td>\n",
       "    </tr>\n",
       "    <tr>\n",
       "      <th>57598</th>\n",
       "      <td>552678</td>\n",
       "      <td>3</td>\n",
       "      <td>바지</td>\n",
       "      <td>309</td>\n",
       "      <td>숏 팬츠</td>\n",
       "      <td>15</td>\n",
       "      <td>[5.11 택티컬] 스트라이크 반바지 (다크 네이비)</td>\n",
       "      <td>5.11택티컬</td>\n",
       "      <td>//image.msscdn.net/images/goods_img/20170510/5...</td>\n",
       "      <td>110,000원</td>\n",
       "      <td>...</td>\n",
       "      <td>0</td>\n",
       "      <td>0</td>\n",
       "      <td>0</td>\n",
       "      <td>0</td>\n",
       "      <td>0</td>\n",
       "      <td>0</td>\n",
       "      <td>0</td>\n",
       "      <td>0</td>\n",
       "      <td>0</td>\n",
       "      <td>0</td>\n",
       "    </tr>\n",
       "    <tr>\n",
       "      <th>57599</th>\n",
       "      <td>655497</td>\n",
       "      <td>3</td>\n",
       "      <td>바지</td>\n",
       "      <td>307</td>\n",
       "      <td>코튼 팬츠</td>\n",
       "      <td>15</td>\n",
       "      <td>[에머슨 기어] 블루라벨 트레이닝 팬츠 G3 (멀티캠)</td>\n",
       "      <td>에머슨</td>\n",
       "      <td>//image.msscdn.net/images/goods_img/20171018/6...</td>\n",
       "      <td>171,000원</td>\n",
       "      <td>...</td>\n",
       "      <td>0</td>\n",
       "      <td>0</td>\n",
       "      <td>0</td>\n",
       "      <td>0</td>\n",
       "      <td>0</td>\n",
       "      <td>0</td>\n",
       "      <td>0</td>\n",
       "      <td>0</td>\n",
       "      <td>0</td>\n",
       "      <td>0</td>\n",
       "    </tr>\n",
       "  </tbody>\n",
       "</table>\n",
       "<p>41150 rows × 26 columns</p>\n",
       "</div>"
      ],
      "text/plain": [
       "       clothId  largeCategory largeCategoryName  smallCategory  \\\n",
       "0      1971752              3                바지            306   \n",
       "1       726566              3                바지            304   \n",
       "2      2213618              3                바지            306   \n",
       "3      2265443              3                바지            308   \n",
       "4      2005302              3                바지            309   \n",
       "...        ...            ...               ...            ...   \n",
       "57595  1889420              3                바지            302   \n",
       "57596  1275944              3                바지            302   \n",
       "57597  1889504              3                바지            302   \n",
       "57598   552678              3                바지            309   \n",
       "57599   655497              3                바지            307   \n",
       "\n",
       "      smallCategoryName  colorNo                           clothName  \\\n",
       "0                 기타 바지        3  카치아 61360203000 CACCIA 006 여자 울 팬츠   \n",
       "1            트레이닝/조거 팬츠        3         SSC TEAM TRACK PANTS (GREY)   \n",
       "2                 기타 바지        3              미니투어맨 패턴 팬츠_L213PT403P   \n",
       "3             슈트 팬츠/슬랙스        3               [UNISEX] 턱 와이드 팬츠 그레이   \n",
       "4                  숏 팬츠        3             버뮤다 이지 숏 팬츠 OUOSP002-GY   \n",
       "...                 ...      ...                                 ...   \n",
       "57595             데님 팬츠       15   남)프리미엄 스모킹 포인트 빈티지 워싱 AL1DTA15-DB   \n",
       "57596             데님 팬츠       15            스키니스트레치지퍼데님팬츠 KJE8904_LB   \n",
       "57597             데님 팬츠       15     여)오비안밴드 바이오스톤 탈색워싱  AL1DRS61-LB   \n",
       "57598              숏 팬츠       15       [5.11 택티컬] 스트라이크 반바지 (다크 네이비)   \n",
       "57599             코튼 팬츠       15      [에머슨 기어] 블루라벨 트레이닝 팬츠 G3 (멀티캠)   \n",
       "\n",
       "          brand                                              image clothPrice  \\\n",
       "0          막스마라  //image.msscdn.net/images/goods_img/20210527/1...   130,000원   \n",
       "1           피피피  //image.msscdn.net/images/goods_img/20180228/7...    69,000원   \n",
       "2        피지에이투어  //image.msscdn.net/images/goods_img/20211103/2...   199,000원   \n",
       "3          니커보커  //image.msscdn.net/images/goods_img/20211210/2...    95,000원   \n",
       "4      오브젝트 뮤지엄  //image.msscdn.net/images/goods_img/20210622/2...    69,000원   \n",
       "...         ...                                                ...        ...   \n",
       "57595       잠뱅이  //image.msscdn.net/images/goods_img/20210408/1...   149,000원   \n",
       "57596       코너스  //image.msscdn.net/images/goods_img/20200120/1...    70,500원   \n",
       "57597       잠뱅이  //image.msscdn.net/images/goods_img/20210408/1...    69,000원   \n",
       "57598   5.11택티컬  //image.msscdn.net/images/goods_img/20170510/5...   110,000원   \n",
       "57599       에머슨  //image.msscdn.net/images/goods_img/20171018/6...   171,000원   \n",
       "\n",
       "       ...  clothReviewNo fit  feeling  stretch  visibility  thickness  \\\n",
       "0      ...              0   0        0        0           0          0   \n",
       "1      ...              0   0        0        0           0          0   \n",
       "2      ...              0   0        0        0           0          0   \n",
       "3      ...              0   0        0        0           0          0   \n",
       "4      ...              0   0        0        0           0          0   \n",
       "...    ...            ...  ..      ...      ...         ...        ...   \n",
       "57595  ...              0   0        0        0           0          0   \n",
       "57596  ...              0   0        0        0           0          0   \n",
       "57597  ...              0   0        0        0           0          0   \n",
       "57598  ...              0   0        0        0           0          0   \n",
       "57599  ...              0   0        0        0           0          0   \n",
       "\n",
       "      seasonSpring  seasonSummer  seasonFall  seasonWinter  \n",
       "0                0             0           0             0  \n",
       "1                0             0           0             0  \n",
       "2                0             0           0             0  \n",
       "3                0             0           0             0  \n",
       "4                0             0           0             0  \n",
       "...            ...           ...         ...           ...  \n",
       "57595            0             0           0             0  \n",
       "57596            0             0           0             0  \n",
       "57597            0             0           0             0  \n",
       "57598            0             0           0             0  \n",
       "57599            0             0           0             0  \n",
       "\n",
       "[41150 rows x 26 columns]"
      ]
     },
     "execution_count": 54,
     "metadata": {},
     "output_type": "execute_result"
    }
   ],
   "source": [
    "top[~top['clothId'].isin(top_id)]"
   ]
  },
  {
   "cell_type": "code",
   "execution_count": null,
   "id": "27d0a160",
   "metadata": {},
   "outputs": [],
   "source": []
  },
  {
   "cell_type": "code",
   "execution_count": null,
   "id": "1b64e1f2",
   "metadata": {},
   "outputs": [],
   "source": []
  },
  {
   "cell_type": "code",
   "execution_count": null,
   "id": "4c63871c",
   "metadata": {},
   "outputs": [],
   "source": []
  },
  {
   "cell_type": "code",
   "execution_count": null,
   "id": "096309f0",
   "metadata": {},
   "outputs": [],
   "source": []
  },
  {
   "cell_type": "code",
   "execution_count": null,
   "id": "265da33e",
   "metadata": {},
   "outputs": [],
   "source": []
  },
  {
   "cell_type": "code",
   "execution_count": null,
   "id": "e34701cb",
   "metadata": {},
   "outputs": [],
   "source": []
  },
  {
   "cell_type": "code",
   "execution_count": null,
   "id": "802fc109",
   "metadata": {},
   "outputs": [],
   "source": []
  },
  {
   "cell_type": "code",
   "execution_count": null,
   "id": "d91297f0",
   "metadata": {},
   "outputs": [],
   "source": []
  },
  {
   "cell_type": "code",
   "execution_count": null,
   "id": "7d91973a",
   "metadata": {},
   "outputs": [],
   "source": []
  },
  {
   "cell_type": "code",
   "execution_count": null,
   "id": "48d8c1d4",
   "metadata": {},
   "outputs": [],
   "source": []
  },
  {
   "cell_type": "code",
   "execution_count": null,
   "id": "8d1ff2b8",
   "metadata": {},
   "outputs": [],
   "source": []
  },
  {
   "cell_type": "code",
   "execution_count": null,
   "id": "8508f660",
   "metadata": {},
   "outputs": [],
   "source": []
  },
  {
   "cell_type": "code",
   "execution_count": null,
   "id": "e9279306",
   "metadata": {},
   "outputs": [],
   "source": []
  },
  {
   "cell_type": "code",
   "execution_count": null,
   "id": "e5fe6403",
   "metadata": {},
   "outputs": [],
   "source": []
  },
  {
   "cell_type": "code",
   "execution_count": null,
   "id": "0a9bb916",
   "metadata": {},
   "outputs": [],
   "source": []
  },
  {
   "cell_type": "code",
   "execution_count": null,
   "id": "c54010f7",
   "metadata": {},
   "outputs": [],
   "source": []
  }
 ],
 "metadata": {
  "kernelspec": {
   "display_name": "Python 3 (ipykernel)",
   "language": "python",
   "name": "python3"
  },
  "language_info": {
   "codemirror_mode": {
    "name": "ipython",
    "version": 3
   },
   "file_extension": ".py",
   "mimetype": "text/x-python",
   "name": "python",
   "nbconvert_exporter": "python",
   "pygments_lexer": "ipython3",
   "version": "3.9.10"
  }
 },
 "nbformat": 4,
 "nbformat_minor": 5
}
