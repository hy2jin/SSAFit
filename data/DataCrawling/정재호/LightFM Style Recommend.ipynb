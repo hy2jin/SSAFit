{
 "cells": [
  {
   "cell_type": "markdown",
   "id": "35bc16f2",
   "metadata": {},
   "source": [
    "# 취향 분석"
   ]
  },
  {
   "cell_type": "code",
   "execution_count": 1,
   "id": "d9b0c883",
   "metadata": {},
   "outputs": [
    {
     "name": "stderr",
     "output_type": "stream",
     "text": [
      "C:\\Users\\SSAFY\\AppData\\Local\\Programs\\Python\\Python39\\lib\\site-packages\\lightfm\\_lightfm_fast.py:9: UserWarning: LightFM was compiled without OpenMP support. Only a single thread will be used.\n",
      "  warnings.warn(\n"
     ]
    }
   ],
   "source": [
    "import pandas as pd\n",
    "import numpy as np\n",
    "from lightfm.data import Dataset\n",
    "from lightfm.cross_validation import random_train_test_split\n",
    "from lightfm.evaluation import precision_at_k\n",
    "from lightfm import LightFM\n",
    "\n",
    "from hyperopt import fmin, hp, tpe, Trials\n",
    "from scipy.io import mmwrite"
   ]
  },
  {
   "cell_type": "code",
   "execution_count": 2,
   "id": "c992f414",
   "metadata": {},
   "outputs": [],
   "source": [
    "pd.set_option('display.max_columns', None)"
   ]
  },
  {
   "cell_type": "code",
   "execution_count": 23,
   "id": "e6693fef",
   "metadata": {},
   "outputs": [],
   "source": [
    "style_cloth_column = ['newClothId', 'fit', 'feeling', 'stretch', 'visibility', 'thickness']\n",
    "style_user_column = ['userId', 'size', 'bright', 'color', 'thickness']"
   ]
  },
  {
   "cell_type": "markdown",
   "id": "0b5196be",
   "metadata": {},
   "source": [
    "# Top"
   ]
  },
  {
   "cell_type": "code",
   "execution_count": 107,
   "id": "ce59ad5e",
   "metadata": {},
   "outputs": [],
   "source": [
    "transaction = pd.read_json('./transaction_top.json')\n",
    "cloth_meta = pd.read_json('./final_top.json')\n",
    "user_meta = pd.read_json('./user_top.json')\n",
    "transaction = transaction[['userId', 'newClothId', 'shopCnt']]"
   ]
  },
  {
   "cell_type": "code",
   "execution_count": 108,
   "id": "f6adf863",
   "metadata": {},
   "outputs": [
    {
     "data": {
      "text/plain": [
       "(286639, 3)"
      ]
     },
     "execution_count": 108,
     "metadata": {},
     "output_type": "execute_result"
    }
   ],
   "source": [
    "transaction = transaction[transaction.shopCnt > 1]\n",
    "transaction.shape"
   ]
  },
  {
   "cell_type": "code",
   "execution_count": 109,
   "id": "e3585e0b",
   "metadata": {},
   "outputs": [],
   "source": [
    "unique_id_cloth_meta = list(set(cloth_meta.newClothId))\n",
    "transaction=transaction.loc[transaction.newClothId.isin(unique_id_cloth_meta),:]"
   ]
  },
  {
   "cell_type": "code",
   "execution_count": 110,
   "id": "4ceb9200",
   "metadata": {
    "scrolled": false
   },
   "outputs": [],
   "source": [
    "a = transaction[['newClothId']]\n",
    "a.insert(1, 'idx', 0, True)\n",
    "a = a.drop_duplicates(['newClothId'])\n",
    "a.idx = range(len(a))"
   ]
  },
  {
   "cell_type": "code",
   "execution_count": 111,
   "id": "e88e06f0",
   "metadata": {},
   "outputs": [],
   "source": [
    "transaction = pd.merge(transaction, a, how=\"left\", on=\"newClothId\")"
   ]
  },
  {
   "cell_type": "code",
   "execution_count": 112,
   "id": "6defe4f1",
   "metadata": {
    "scrolled": true
   },
   "outputs": [],
   "source": [
    "user_meta = user_meta[style_user_column]"
   ]
  },
  {
   "cell_type": "code",
   "execution_count": 113,
   "id": "f3ff916a",
   "metadata": {},
   "outputs": [
    {
     "data": {
      "text/html": [
       "<div>\n",
       "<style scoped>\n",
       "    .dataframe tbody tr th:only-of-type {\n",
       "        vertical-align: middle;\n",
       "    }\n",
       "\n",
       "    .dataframe tbody tr th {\n",
       "        vertical-align: top;\n",
       "    }\n",
       "\n",
       "    .dataframe thead th {\n",
       "        text-align: right;\n",
       "    }\n",
       "</style>\n",
       "<table border=\"1\" class=\"dataframe\">\n",
       "  <thead>\n",
       "    <tr style=\"text-align: right;\">\n",
       "      <th></th>\n",
       "      <th>userId</th>\n",
       "      <th>size</th>\n",
       "      <th>bright</th>\n",
       "      <th>color</th>\n",
       "      <th>thickness</th>\n",
       "    </tr>\n",
       "  </thead>\n",
       "  <tbody>\n",
       "    <tr>\n",
       "      <th>0</th>\n",
       "      <td>858064</td>\n",
       "      <td>1.250000</td>\n",
       "      <td>1.000000</td>\n",
       "      <td>1.0</td>\n",
       "      <td>2.750000</td>\n",
       "    </tr>\n",
       "    <tr>\n",
       "      <th>1</th>\n",
       "      <td>858065</td>\n",
       "      <td>1.600000</td>\n",
       "      <td>1.800000</td>\n",
       "      <td>2.0</td>\n",
       "      <td>2.200000</td>\n",
       "    </tr>\n",
       "    <tr>\n",
       "      <th>2</th>\n",
       "      <td>858067</td>\n",
       "      <td>1.750000</td>\n",
       "      <td>2.000000</td>\n",
       "      <td>2.0</td>\n",
       "      <td>1.500000</td>\n",
       "    </tr>\n",
       "    <tr>\n",
       "      <th>3</th>\n",
       "      <td>858070</td>\n",
       "      <td>1.000000</td>\n",
       "      <td>2.000000</td>\n",
       "      <td>1.0</td>\n",
       "      <td>3.000000</td>\n",
       "    </tr>\n",
       "    <tr>\n",
       "      <th>4</th>\n",
       "      <td>858071</td>\n",
       "      <td>2.000000</td>\n",
       "      <td>1.800000</td>\n",
       "      <td>2.0</td>\n",
       "      <td>2.000000</td>\n",
       "    </tr>\n",
       "    <tr>\n",
       "      <th>...</th>\n",
       "      <td>...</td>\n",
       "      <td>...</td>\n",
       "      <td>...</td>\n",
       "      <td>...</td>\n",
       "      <td>...</td>\n",
       "    </tr>\n",
       "    <tr>\n",
       "      <th>131310</th>\n",
       "      <td>1416935</td>\n",
       "      <td>1.866667</td>\n",
       "      <td>2.000000</td>\n",
       "      <td>1.6</td>\n",
       "      <td>2.133333</td>\n",
       "    </tr>\n",
       "    <tr>\n",
       "      <th>131311</th>\n",
       "      <td>1416936</td>\n",
       "      <td>1.333333</td>\n",
       "      <td>1.666667</td>\n",
       "      <td>2.0</td>\n",
       "      <td>1.333333</td>\n",
       "    </tr>\n",
       "    <tr>\n",
       "      <th>131312</th>\n",
       "      <td>1416938</td>\n",
       "      <td>1.600000</td>\n",
       "      <td>2.200000</td>\n",
       "      <td>2.2</td>\n",
       "      <td>2.200000</td>\n",
       "    </tr>\n",
       "    <tr>\n",
       "      <th>131313</th>\n",
       "      <td>1416946</td>\n",
       "      <td>2.000000</td>\n",
       "      <td>2.000000</td>\n",
       "      <td>2.0</td>\n",
       "      <td>2.166667</td>\n",
       "    </tr>\n",
       "    <tr>\n",
       "      <th>131314</th>\n",
       "      <td>1416948</td>\n",
       "      <td>2.500000</td>\n",
       "      <td>2.000000</td>\n",
       "      <td>2.0</td>\n",
       "      <td>2.000000</td>\n",
       "    </tr>\n",
       "  </tbody>\n",
       "</table>\n",
       "<p>131315 rows × 5 columns</p>\n",
       "</div>"
      ],
      "text/plain": [
       "         userId      size    bright  color  thickness\n",
       "0        858064  1.250000  1.000000    1.0   2.750000\n",
       "1        858065  1.600000  1.800000    2.0   2.200000\n",
       "2        858067  1.750000  2.000000    2.0   1.500000\n",
       "3        858070  1.000000  2.000000    1.0   3.000000\n",
       "4        858071  2.000000  1.800000    2.0   2.000000\n",
       "...         ...       ...       ...    ...        ...\n",
       "131310  1416935  1.866667  2.000000    1.6   2.133333\n",
       "131311  1416936  1.333333  1.666667    2.0   1.333333\n",
       "131312  1416938  1.600000  2.200000    2.2   2.200000\n",
       "131313  1416946  2.000000  2.000000    2.0   2.166667\n",
       "131314  1416948  2.500000  2.000000    2.0   2.000000\n",
       "\n",
       "[131315 rows x 5 columns]"
      ]
     },
     "execution_count": 113,
     "metadata": {},
     "output_type": "execute_result"
    }
   ],
   "source": [
    "unique_id_user_meta = list(set(transaction.userId))\n",
    "user_meta=user_meta.loc[user_meta.userId.isin(unique_id_user_meta),:]\n",
    "user_meta = user_meta.reset_index(drop=True)\n",
    "user_meta"
   ]
  },
  {
   "cell_type": "code",
   "execution_count": 114,
   "id": "572e35e1",
   "metadata": {
    "scrolled": false
   },
   "outputs": [
    {
     "data": {
      "text/html": [
       "<div>\n",
       "<style scoped>\n",
       "    .dataframe tbody tr th:only-of-type {\n",
       "        vertical-align: middle;\n",
       "    }\n",
       "\n",
       "    .dataframe tbody tr th {\n",
       "        vertical-align: top;\n",
       "    }\n",
       "\n",
       "    .dataframe thead th {\n",
       "        text-align: right;\n",
       "    }\n",
       "</style>\n",
       "<table border=\"1\" class=\"dataframe\">\n",
       "  <thead>\n",
       "    <tr style=\"text-align: right;\">\n",
       "      <th></th>\n",
       "      <th>userId</th>\n",
       "      <th>size</th>\n",
       "      <th>bright</th>\n",
       "      <th>color</th>\n",
       "      <th>thickness</th>\n",
       "    </tr>\n",
       "  </thead>\n",
       "  <tbody>\n",
       "    <tr>\n",
       "      <th>0</th>\n",
       "      <td>8299.0</td>\n",
       "      <td>0.3</td>\n",
       "      <td>0.3</td>\n",
       "      <td>0.4</td>\n",
       "      <td>0.0</td>\n",
       "    </tr>\n",
       "  </tbody>\n",
       "</table>\n",
       "</div>"
      ],
      "text/plain": [
       "   userId  size  bright  color  thickness\n",
       "0  8299.0   0.3     0.3    0.4        0.0"
      ]
     },
     "execution_count": 114,
     "metadata": {},
     "output_type": "execute_result"
    }
   ],
   "source": [
    "new_user = pd.DataFrame(user_meta.loc[0]).transpose()\n",
    "new_user_idx = new_user.index\n",
    "new_user.loc[new_user_idx, ('userId')] = 8299\n",
    "new_user.loc[new_user_idx, ('size')] = 0.3\n",
    "new_user.loc[new_user_idx, ('bright')] = 0.3\n",
    "new_user.loc[new_user_idx, ('color')] = 0.4\n",
    "new_user.loc[new_user_idx, ('thickness')] = 0\n",
    "new_user = new_user[['userId',  'size', 'bright', 'color', 'thickness']]\n",
    "new_user"
   ]
  },
  {
   "cell_type": "code",
   "execution_count": 115,
   "id": "89cb31db",
   "metadata": {},
   "outputs": [],
   "source": [
    "from copy import deepcopy\n",
    "sub_user = deepcopy(user_meta)"
   ]
  },
  {
   "cell_type": "code",
   "execution_count": 116,
   "id": "a58811d2",
   "metadata": {},
   "outputs": [],
   "source": [
    "sub_user.size = sub_user.apply(lambda x: abs(x.size-new_user['size'].iloc[0]), axis=1)\n",
    "sub_user.bright = sub_user.apply(lambda x: abs(x.bright-new_user['bright'].iloc[0]), axis=1)\n",
    "sub_user.color = sub_user.apply(lambda x: abs(x.color-new_user['color'].iloc[0]), axis=1)\n",
    "sub_user.thickness = sub_user.apply(lambda x: abs(x.thickness-new_user['thickness'].iloc[0]), axis=1)"
   ]
  },
  {
   "cell_type": "code",
   "execution_count": 117,
   "id": "8c02d726",
   "metadata": {},
   "outputs": [],
   "source": [
    "sub_col = list(sub_user.columns)[1:]"
   ]
  },
  {
   "cell_type": "code",
   "execution_count": 118,
   "id": "9e89374b",
   "metadata": {},
   "outputs": [],
   "source": [
    "sub_user.insert(1, 'favorSum', 0, True)\n",
    "sub_user.favorSum = sum(sub_user[col_i] for col_i in sub_col)\n",
    "sub_user = sub_user.sort_values('favorSum')"
   ]
  },
  {
   "cell_type": "code",
   "execution_count": 119,
   "id": "e4c76a4e",
   "metadata": {},
   "outputs": [
    {
     "name": "stdout",
     "output_type": "stream",
     "text": [
      "[1070345, 882478, 1115384]\n"
     ]
    }
   ],
   "source": [
    "real_user = []\n",
    "for i in range(3):\n",
    "    real_user.append(sub_user.iloc[i].userId)\n",
    "real_user = [int(i) for i in real_user]\n",
    "print(real_user)"
   ]
  },
  {
   "cell_type": "code",
   "execution_count": 120,
   "id": "f6618cdf",
   "metadata": {},
   "outputs": [],
   "source": [
    "cloth_meta = cloth_meta[style_cloth_column]"
   ]
  },
  {
   "cell_type": "code",
   "execution_count": 121,
   "id": "5a5b30be",
   "metadata": {},
   "outputs": [
    {
     "data": {
      "text/html": [
       "<div>\n",
       "<style scoped>\n",
       "    .dataframe tbody tr th:only-of-type {\n",
       "        vertical-align: middle;\n",
       "    }\n",
       "\n",
       "    .dataframe tbody tr th {\n",
       "        vertical-align: top;\n",
       "    }\n",
       "\n",
       "    .dataframe thead th {\n",
       "        text-align: right;\n",
       "    }\n",
       "</style>\n",
       "<table border=\"1\" class=\"dataframe\">\n",
       "  <thead>\n",
       "    <tr style=\"text-align: right;\">\n",
       "      <th></th>\n",
       "      <th>newClothId</th>\n",
       "      <th>fit</th>\n",
       "      <th>feeling</th>\n",
       "      <th>stretch</th>\n",
       "      <th>visibility</th>\n",
       "      <th>thickness</th>\n",
       "    </tr>\n",
       "  </thead>\n",
       "  <tbody>\n",
       "    <tr>\n",
       "      <th>0</th>\n",
       "      <td>1929966</td>\n",
       "      <td>0</td>\n",
       "      <td>0</td>\n",
       "      <td>0</td>\n",
       "      <td>0</td>\n",
       "      <td>0</td>\n",
       "    </tr>\n",
       "    <tr>\n",
       "      <th>1</th>\n",
       "      <td>1927658</td>\n",
       "      <td>0</td>\n",
       "      <td>0</td>\n",
       "      <td>0</td>\n",
       "      <td>0</td>\n",
       "      <td>0</td>\n",
       "    </tr>\n",
       "    <tr>\n",
       "      <th>2</th>\n",
       "      <td>1927660131403</td>\n",
       "      <td>0</td>\n",
       "      <td>0</td>\n",
       "      <td>0</td>\n",
       "      <td>0</td>\n",
       "      <td>0</td>\n",
       "    </tr>\n",
       "    <tr>\n",
       "      <th>3</th>\n",
       "      <td>1928209</td>\n",
       "      <td>0</td>\n",
       "      <td>0</td>\n",
       "      <td>0</td>\n",
       "      <td>0</td>\n",
       "      <td>0</td>\n",
       "    </tr>\n",
       "    <tr>\n",
       "      <th>4</th>\n",
       "      <td>1927270</td>\n",
       "      <td>0</td>\n",
       "      <td>0</td>\n",
       "      <td>0</td>\n",
       "      <td>0</td>\n",
       "      <td>0</td>\n",
       "    </tr>\n",
       "    <tr>\n",
       "      <th>...</th>\n",
       "      <td>...</td>\n",
       "      <td>...</td>\n",
       "      <td>...</td>\n",
       "      <td>...</td>\n",
       "      <td>...</td>\n",
       "      <td>...</td>\n",
       "    </tr>\n",
       "    <tr>\n",
       "      <th>249601</th>\n",
       "      <td>1413008</td>\n",
       "      <td>0</td>\n",
       "      <td>0</td>\n",
       "      <td>0</td>\n",
       "      <td>0</td>\n",
       "      <td>0</td>\n",
       "    </tr>\n",
       "    <tr>\n",
       "      <th>249602</th>\n",
       "      <td>779965</td>\n",
       "      <td>3</td>\n",
       "      <td>3</td>\n",
       "      <td>3</td>\n",
       "      <td>3</td>\n",
       "      <td>1</td>\n",
       "    </tr>\n",
       "    <tr>\n",
       "      <th>249603</th>\n",
       "      <td>1353489</td>\n",
       "      <td>0</td>\n",
       "      <td>0</td>\n",
       "      <td>0</td>\n",
       "      <td>0</td>\n",
       "      <td>0</td>\n",
       "    </tr>\n",
       "    <tr>\n",
       "      <th>249604</th>\n",
       "      <td>1607233</td>\n",
       "      <td>0</td>\n",
       "      <td>0</td>\n",
       "      <td>0</td>\n",
       "      <td>0</td>\n",
       "      <td>0</td>\n",
       "    </tr>\n",
       "    <tr>\n",
       "      <th>249605</th>\n",
       "      <td>474858</td>\n",
       "      <td>0</td>\n",
       "      <td>0</td>\n",
       "      <td>0</td>\n",
       "      <td>0</td>\n",
       "      <td>0</td>\n",
       "    </tr>\n",
       "  </tbody>\n",
       "</table>\n",
       "<p>249606 rows × 6 columns</p>\n",
       "</div>"
      ],
      "text/plain": [
       "           newClothId  fit  feeling  stretch  visibility  thickness\n",
       "0             1929966    0        0        0           0          0\n",
       "1             1927658    0        0        0           0          0\n",
       "2       1927660131403    0        0        0           0          0\n",
       "3             1928209    0        0        0           0          0\n",
       "4             1927270    0        0        0           0          0\n",
       "...               ...  ...      ...      ...         ...        ...\n",
       "249601        1413008    0        0        0           0          0\n",
       "249602         779965    3        3        3           3          1\n",
       "249603        1353489    0        0        0           0          0\n",
       "249604        1607233    0        0        0           0          0\n",
       "249605         474858    0        0        0           0          0\n",
       "\n",
       "[249606 rows x 6 columns]"
      ]
     },
     "execution_count": 121,
     "metadata": {},
     "output_type": "execute_result"
    }
   ],
   "source": [
    "cloth_meta"
   ]
  },
  {
   "cell_type": "code",
   "execution_count": 122,
   "id": "d69a64dc",
   "metadata": {},
   "outputs": [],
   "source": [
    "cloth_meta = pd.merge(cloth_meta, a, how=\"left\", on=\"newClothId\")"
   ]
  },
  {
   "cell_type": "code",
   "execution_count": 123,
   "id": "9b2d9504",
   "metadata": {},
   "outputs": [
    {
     "data": {
      "text/plain": [
       "59819"
      ]
     },
     "execution_count": 123,
     "metadata": {},
     "output_type": "execute_result"
    }
   ],
   "source": [
    "unique_cloth_id = list(transaction['newClothId'].unique())\n",
    "len(unique_cloth_id)"
   ]
  },
  {
   "cell_type": "code",
   "execution_count": 124,
   "id": "b27b96b0",
   "metadata": {},
   "outputs": [],
   "source": [
    "a = cloth_meta.newClothId.isin(unique_cloth_id)\n",
    "cloth_meta = cloth_meta[a]\n",
    "cloth_meta.index = range(len(cloth_meta))"
   ]
  },
  {
   "cell_type": "code",
   "execution_count": 125,
   "id": "677ead7b",
   "metadata": {
    "scrolled": false
   },
   "outputs": [],
   "source": [
    "cloth_meta.idx = cloth_meta.idx.astype('int')"
   ]
  },
  {
   "cell_type": "code",
   "execution_count": 126,
   "id": "44d2f2e1",
   "metadata": {},
   "outputs": [],
   "source": [
    "transaction_source = [(transaction['userId'][i], transaction['idx'][i]) for i in range(transaction.shape[0])]"
   ]
  },
  {
   "cell_type": "code",
   "execution_count": 127,
   "id": "d80af2d3",
   "metadata": {},
   "outputs": [
    {
     "name": "stdout",
     "output_type": "stream",
     "text": [
      "userId의 유니크 개수 : 131315\n",
      "clothId의 유니크 개수 : 59819\n",
      "user테이블의 userId의 유니크 개수 : 131315\n",
      "cloth테이블의 clothId의 유니크 개수 : 59819\n"
     ]
    }
   ],
   "source": [
    "print('userId의 유니크 개수 :', len(transaction.userId.unique()))\n",
    "print('clothId의 유니크 개수 :', len(transaction.idx.unique()))\n",
    "print('user테이블의 userId의 유니크 개수 :', len(user_meta.userId.unique()))\n",
    "print('cloth테이블의 clothId의 유니크 개수 :', len(cloth_meta.idx.unique()))"
   ]
  },
  {
   "cell_type": "code",
   "execution_count": 128,
   "id": "33803aa6",
   "metadata": {},
   "outputs": [
    {
     "data": {
      "text/html": [
       "<div>\n",
       "<style scoped>\n",
       "    .dataframe tbody tr th:only-of-type {\n",
       "        vertical-align: middle;\n",
       "    }\n",
       "\n",
       "    .dataframe tbody tr th {\n",
       "        vertical-align: top;\n",
       "    }\n",
       "\n",
       "    .dataframe thead th {\n",
       "        text-align: right;\n",
       "    }\n",
       "</style>\n",
       "<table border=\"1\" class=\"dataframe\">\n",
       "  <thead>\n",
       "    <tr style=\"text-align: right;\">\n",
       "      <th></th>\n",
       "      <th>userId</th>\n",
       "      <th>size</th>\n",
       "      <th>bright</th>\n",
       "      <th>color</th>\n",
       "      <th>thickness</th>\n",
       "    </tr>\n",
       "  </thead>\n",
       "  <tbody>\n",
       "    <tr>\n",
       "      <th>0</th>\n",
       "      <td>858064</td>\n",
       "      <td>1.250000</td>\n",
       "      <td>1.000000</td>\n",
       "      <td>1.0</td>\n",
       "      <td>2.750000</td>\n",
       "    </tr>\n",
       "    <tr>\n",
       "      <th>1</th>\n",
       "      <td>858065</td>\n",
       "      <td>1.600000</td>\n",
       "      <td>1.800000</td>\n",
       "      <td>2.0</td>\n",
       "      <td>2.200000</td>\n",
       "    </tr>\n",
       "    <tr>\n",
       "      <th>2</th>\n",
       "      <td>858067</td>\n",
       "      <td>1.750000</td>\n",
       "      <td>2.000000</td>\n",
       "      <td>2.0</td>\n",
       "      <td>1.500000</td>\n",
       "    </tr>\n",
       "    <tr>\n",
       "      <th>3</th>\n",
       "      <td>858070</td>\n",
       "      <td>1.000000</td>\n",
       "      <td>2.000000</td>\n",
       "      <td>1.0</td>\n",
       "      <td>3.000000</td>\n",
       "    </tr>\n",
       "    <tr>\n",
       "      <th>4</th>\n",
       "      <td>858071</td>\n",
       "      <td>2.000000</td>\n",
       "      <td>1.800000</td>\n",
       "      <td>2.0</td>\n",
       "      <td>2.000000</td>\n",
       "    </tr>\n",
       "    <tr>\n",
       "      <th>...</th>\n",
       "      <td>...</td>\n",
       "      <td>...</td>\n",
       "      <td>...</td>\n",
       "      <td>...</td>\n",
       "      <td>...</td>\n",
       "    </tr>\n",
       "    <tr>\n",
       "      <th>131310</th>\n",
       "      <td>1416935</td>\n",
       "      <td>1.866667</td>\n",
       "      <td>2.000000</td>\n",
       "      <td>1.6</td>\n",
       "      <td>2.133333</td>\n",
       "    </tr>\n",
       "    <tr>\n",
       "      <th>131311</th>\n",
       "      <td>1416936</td>\n",
       "      <td>1.333333</td>\n",
       "      <td>1.666667</td>\n",
       "      <td>2.0</td>\n",
       "      <td>1.333333</td>\n",
       "    </tr>\n",
       "    <tr>\n",
       "      <th>131312</th>\n",
       "      <td>1416938</td>\n",
       "      <td>1.600000</td>\n",
       "      <td>2.200000</td>\n",
       "      <td>2.2</td>\n",
       "      <td>2.200000</td>\n",
       "    </tr>\n",
       "    <tr>\n",
       "      <th>131313</th>\n",
       "      <td>1416946</td>\n",
       "      <td>2.000000</td>\n",
       "      <td>2.000000</td>\n",
       "      <td>2.0</td>\n",
       "      <td>2.166667</td>\n",
       "    </tr>\n",
       "    <tr>\n",
       "      <th>131314</th>\n",
       "      <td>1416948</td>\n",
       "      <td>2.500000</td>\n",
       "      <td>2.000000</td>\n",
       "      <td>2.0</td>\n",
       "      <td>2.000000</td>\n",
       "    </tr>\n",
       "  </tbody>\n",
       "</table>\n",
       "<p>131315 rows × 5 columns</p>\n",
       "</div>"
      ],
      "text/plain": [
       "         userId      size    bright  color  thickness\n",
       "0        858064  1.250000  1.000000    1.0   2.750000\n",
       "1        858065  1.600000  1.800000    2.0   2.200000\n",
       "2        858067  1.750000  2.000000    2.0   1.500000\n",
       "3        858070  1.000000  2.000000    1.0   3.000000\n",
       "4        858071  2.000000  1.800000    2.0   2.000000\n",
       "...         ...       ...       ...    ...        ...\n",
       "131310  1416935  1.866667  2.000000    1.6   2.133333\n",
       "131311  1416936  1.333333  1.666667    2.0   1.333333\n",
       "131312  1416938  1.600000  2.200000    2.2   2.200000\n",
       "131313  1416946  2.000000  2.000000    2.0   2.166667\n",
       "131314  1416948  2.500000  2.000000    2.0   2.000000\n",
       "\n",
       "[131315 rows x 5 columns]"
      ]
     },
     "execution_count": 128,
     "metadata": {},
     "output_type": "execute_result"
    }
   ],
   "source": [
    "user_meta"
   ]
  },
  {
   "cell_type": "code",
   "execution_count": 129,
   "id": "ee472fe0",
   "metadata": {
    "scrolled": true
   },
   "outputs": [],
   "source": [
    "user_features_source = [(user_meta['userId'][i],\n",
    "                        [user_meta['size'][i], user_meta['bright'][i], user_meta['color'][i],\n",
    "                        user_meta['thickness'][i]]) for i in range(user_meta.shape[0])]"
   ]
  },
  {
   "cell_type": "code",
   "execution_count": 130,
   "id": "5a7dd0b2",
   "metadata": {},
   "outputs": [],
   "source": [
    "cloth_features_source = [(cloth_meta['idx'][i],\n",
    "                        [cloth_meta['fit'][i], cloth_meta['feeling'][i], cloth_meta['stretch'][i],\n",
    "                        cloth_meta['visibility'][i], cloth_meta['thickness'][i]]) for i in range(cloth_meta.shape[0])]"
   ]
  },
  {
   "cell_type": "code",
   "execution_count": 131,
   "id": "106bbb80",
   "metadata": {},
   "outputs": [],
   "source": [
    "dataset = Dataset()\n",
    "dataset.fit(users=transaction['userId'].unique(),\n",
    "           items=transaction['idx'].unique(),\n",
    "           user_features=user_meta[user_meta.columns[1:]].values.flatten(),\n",
    "           item_features=cloth_meta[cloth_meta.columns[1:]].values.flatten())"
   ]
  },
  {
   "cell_type": "code",
   "execution_count": 132,
   "id": "11a42356",
   "metadata": {},
   "outputs": [],
   "source": [
    "interactions, weights = dataset.build_interactions(transaction_source)"
   ]
  },
  {
   "cell_type": "code",
   "execution_count": 133,
   "id": "908b3a37",
   "metadata": {},
   "outputs": [],
   "source": [
    "user_features = dataset.build_user_features(user_features_source)"
   ]
  },
  {
   "cell_type": "code",
   "execution_count": 134,
   "id": "7d580846",
   "metadata": {
    "scrolled": true
   },
   "outputs": [],
   "source": [
    "cloth_features = dataset.build_item_features(cloth_features_source)"
   ]
  },
  {
   "cell_type": "code",
   "execution_count": 135,
   "id": "df956cdc",
   "metadata": {},
   "outputs": [],
   "source": [
    "train, test = random_train_test_split(interactions, test_percentage=0.2)\n",
    "train, test = train.tocsr().tocoo(), test.tocsr().tocoo()\n",
    "train_weights = train.multiply(weights).tocoo()\n",
    "test_weights = test.multiply(weights).tocoo()"
   ]
  },
  {
   "cell_type": "code",
   "execution_count": 30,
   "id": "03c32a76",
   "metadata": {},
   "outputs": [],
   "source": [
    "# no_components: 10\n",
    "# learning_rate : 0.05\n",
    "trials = Trials()\n",
    "space = [hp.choice('no_components', range(10, 21, 5)),\n",
    "         hp.uniform('learning_rate', 0.05, 0.1)]"
   ]
  },
  {
   "cell_type": "code",
   "execution_count": 85,
   "id": "c147633f",
   "metadata": {},
   "outputs": [],
   "source": [
    "# Define Objective Function\n",
    "def objective(params):\n",
    "    no_components, learning_rate = params\n",
    "    model = LightFM(no_components=no_components,\n",
    "                    learning_schedule='adagrad',\n",
    "                    loss='warp',\n",
    "                    learning_rate=learning_rate,\n",
    "                    random_state=0)\n",
    "\n",
    "    model.fit(interactions=train,\n",
    "              item_features=cloth_features,\n",
    "              user_features=user_features,\n",
    "              sample_weight=train_weights,\n",
    "              epochs=3,\n",
    "              verbose=False)\n",
    "\n",
    "    test_precision = precision_at_k(model, test, k=5, item_features=cloth_features, user_features=user_features).mean()\n",
    "    print(\"no_comp: {}, lrn_rate: {:.5f}, precision: {:.5f}\".format(\n",
    "      no_components, learning_rate, test_precision))\n",
    "    # test_auc = auc_score(model, test, item_features=item_features).mean()\n",
    "    output = -test_precision\n",
    "\n",
    "    if np.abs(output+1) < 0.01 or output < -1.0:\n",
    "        output = 0.0\n",
    "\n",
    "    return output"
   ]
  },
  {
   "cell_type": "code",
   "execution_count": null,
   "id": "9b889fec",
   "metadata": {},
   "outputs": [
    {
     "name": "stdout",
     "output_type": "stream",
     "text": [
      "\r",
      "  0%|          | 0/10 [00:00<?, ?trial/s, best loss=?]"
     ]
    }
   ],
   "source": [
    "best_params = fmin(fn=objective, space=space, algo=tpe.suggest, max_evals=10, trials=trials)"
   ]
  },
  {
   "cell_type": "code",
   "execution_count": 31,
   "id": "eeeed595",
   "metadata": {
    "scrolled": true
   },
   "outputs": [
    {
     "name": "stdout",
     "output_type": "stream",
     "text": [
      "0.05 2\n"
     ]
    }
   ],
   "source": [
    "learning_rate = round(best_params['learning_rate'], 3)\n",
    "no_components = best_params['no_components']\n",
    "print(learning_rate, no_components)"
   ]
  },
  {
   "cell_type": "code",
   "execution_count": 136,
   "id": "de02ac4d",
   "metadata": {},
   "outputs": [],
   "source": [
    "learning_rate = 0.03\n",
    "no_components = 3"
   ]
  },
  {
   "cell_type": "code",
   "execution_count": 137,
   "id": "22d5c726",
   "metadata": {},
   "outputs": [
    {
     "name": "stderr",
     "output_type": "stream",
     "text": [
      "Epoch: 100%|██████████| 10/10 [00:06<00:00,  1.61it/s]\n"
     ]
    },
    {
     "data": {
      "text/plain": [
       "<lightfm.lightfm.LightFM at 0x1f365e43760>"
      ]
     },
     "execution_count": 137,
     "metadata": {},
     "output_type": "execute_result"
    }
   ],
   "source": [
    "model = LightFM(no_components=no_components,\n",
    "                learning_schedule='adagrad',\n",
    "                loss='warp',\n",
    "                learning_rate=learning_rate,\n",
    "                random_state=0)\n",
    "\n",
    "model.fit(interactions=interactions,\n",
    "          item_features=cloth_features,\n",
    "          user_features=user_features,\n",
    "          sample_weight=weights,\n",
    "          epochs=10,\n",
    "          verbose=True)"
   ]
  },
  {
   "cell_type": "code",
   "execution_count": 138,
   "id": "b280b0eb",
   "metadata": {},
   "outputs": [],
   "source": [
    "# 모델 저장하기\n",
    "import pickle\n",
    "with open('model_style_top.pickle', 'wb') as fw:\n",
    "    pickle.dump(model, fw)"
   ]
  },
  {
   "cell_type": "code",
   "execution_count": 139,
   "id": "4583e5a9",
   "metadata": {},
   "outputs": [],
   "source": [
    "# 모델 불러오기\n",
    "import pickle\n",
    "with open('model_style_top.pickle', 'rb') as f:\n",
    "    model_top = pickle.load(f)"
   ]
  },
  {
   "cell_type": "code",
   "execution_count": 140,
   "id": "f4905096",
   "metadata": {},
   "outputs": [],
   "source": [
    "def sample_recommendation(model, idx, user_ids):\n",
    "    cnt = 1\n",
    "    for user_id in user_ids:\n",
    "        if cnt==1:\n",
    "            scores = model.predict(int(user_meta[user_meta.userId==user_id].index[0]), np.arange(len(cloth_meta)))\n",
    "        else:\n",
    "            scores += model.predict(int(user_meta[user_meta.userId==user_id].index[0]), np.arange(len(cloth_meta)))\n",
    "    \n",
    "    top_items = idx[np.argsort(-scores)]\n",
    "    \n",
    "    sub_clothes = []\n",
    "\n",
    "    for x in top_items[:10]:\n",
    "        sub_clothes.append(x)\n",
    "    \n",
    "    rec_clothes = []\n",
    "    \n",
    "    for i in sub_clothes:\n",
    "        rec_clothes.append(cloth_meta[cloth_meta.idx==i].newClothId.iloc[0])\n",
    "    \n",
    "    return rec_clothes"
   ]
  },
  {
   "cell_type": "code",
   "execution_count": 141,
   "id": "7f8e4079",
   "metadata": {
    "scrolled": false
   },
   "outputs": [
    {
     "data": {
      "text/plain": [
       "[2139133140300,\n",
       " 2139144142723,\n",
       " 1440587133960,\n",
       " 1282892131862,\n",
       " 1938650133697,\n",
       " 1572660131416,\n",
       " 1618882132452,\n",
       " 1873849131956,\n",
       " 1045284131496,\n",
       " 1804104134824]"
      ]
     },
     "execution_count": 141,
     "metadata": {},
     "output_type": "execute_result"
    }
   ],
   "source": [
    "rec_size_top = sample_recommendation(model_top, cloth_meta.idx, real_user)\n",
    "rec_size_top"
   ]
  },
  {
   "cell_type": "code",
   "execution_count": 142,
   "id": "cb0ebabb",
   "metadata": {},
   "outputs": [
    {
     "data": {
      "text/plain": [
       "[1070345, 882478, 1115384]"
      ]
     },
     "execution_count": 142,
     "metadata": {},
     "output_type": "execute_result"
    }
   ],
   "source": [
    "real_user"
   ]
  },
  {
   "cell_type": "code",
   "execution_count": 143,
   "id": "98c4dc9a",
   "metadata": {},
   "outputs": [],
   "source": [
    "cloth_meta.insert(7, 'what', 11, True)\n",
    "user_meta.insert(5, 'what', 11, True)"
   ]
  },
  {
   "cell_type": "code",
   "execution_count": 144,
   "id": "f763579d",
   "metadata": {
    "scrolled": false
   },
   "outputs": [
    {
     "data": {
      "text/html": [
       "<div>\n",
       "<style scoped>\n",
       "    .dataframe tbody tr th:only-of-type {\n",
       "        vertical-align: middle;\n",
       "    }\n",
       "\n",
       "    .dataframe tbody tr th {\n",
       "        vertical-align: top;\n",
       "    }\n",
       "\n",
       "    .dataframe thead th {\n",
       "        text-align: right;\n",
       "    }\n",
       "</style>\n",
       "<table border=\"1\" class=\"dataframe\">\n",
       "  <thead>\n",
       "    <tr style=\"text-align: right;\">\n",
       "      <th></th>\n",
       "      <th>newClothId</th>\n",
       "      <th>idx</th>\n",
       "      <th>what</th>\n",
       "    </tr>\n",
       "  </thead>\n",
       "  <tbody>\n",
       "    <tr>\n",
       "      <th>0</th>\n",
       "      <td>1440513131686</td>\n",
       "      <td>50031</td>\n",
       "      <td>11</td>\n",
       "    </tr>\n",
       "    <tr>\n",
       "      <th>1</th>\n",
       "      <td>1930909131765</td>\n",
       "      <td>7019</td>\n",
       "      <td>11</td>\n",
       "    </tr>\n",
       "    <tr>\n",
       "      <th>2</th>\n",
       "      <td>1930909131764</td>\n",
       "      <td>7840</td>\n",
       "      <td>11</td>\n",
       "    </tr>\n",
       "    <tr>\n",
       "      <th>3</th>\n",
       "      <td>1930909131766</td>\n",
       "      <td>7374</td>\n",
       "      <td>11</td>\n",
       "    </tr>\n",
       "    <tr>\n",
       "      <th>4</th>\n",
       "      <td>1931411131771</td>\n",
       "      <td>9496</td>\n",
       "      <td>11</td>\n",
       "    </tr>\n",
       "    <tr>\n",
       "      <th>...</th>\n",
       "      <td>...</td>\n",
       "      <td>...</td>\n",
       "      <td>...</td>\n",
       "    </tr>\n",
       "    <tr>\n",
       "      <th>59814</th>\n",
       "      <td>1281638267701</td>\n",
       "      <td>31274</td>\n",
       "      <td>11</td>\n",
       "    </tr>\n",
       "    <tr>\n",
       "      <th>59815</th>\n",
       "      <td>1622670267773</td>\n",
       "      <td>9458</td>\n",
       "      <td>11</td>\n",
       "    </tr>\n",
       "    <tr>\n",
       "      <th>59816</th>\n",
       "      <td>1556851267795</td>\n",
       "      <td>47549</td>\n",
       "      <td>11</td>\n",
       "    </tr>\n",
       "    <tr>\n",
       "      <th>59817</th>\n",
       "      <td>1651849267836</td>\n",
       "      <td>3995</td>\n",
       "      <td>11</td>\n",
       "    </tr>\n",
       "    <tr>\n",
       "      <th>59818</th>\n",
       "      <td>1680855267859</td>\n",
       "      <td>19742</td>\n",
       "      <td>11</td>\n",
       "    </tr>\n",
       "  </tbody>\n",
       "</table>\n",
       "<p>59819 rows × 3 columns</p>\n",
       "</div>"
      ],
      "text/plain": [
       "          newClothId    idx  what\n",
       "0      1440513131686  50031    11\n",
       "1      1930909131765   7019    11\n",
       "2      1930909131764   7840    11\n",
       "3      1930909131766   7374    11\n",
       "4      1931411131771   9496    11\n",
       "...              ...    ...   ...\n",
       "59814  1281638267701  31274    11\n",
       "59815  1622670267773   9458    11\n",
       "59816  1556851267795  47549    11\n",
       "59817  1651849267836   3995    11\n",
       "59818  1680855267859  19742    11\n",
       "\n",
       "[59819 rows x 3 columns]"
      ]
     },
     "execution_count": 144,
     "metadata": {},
     "output_type": "execute_result"
    }
   ],
   "source": [
    "cloth_meta = cloth_meta[[\"newClothId\", \"idx\", 'what']]\n",
    "cloth_meta"
   ]
  },
  {
   "cell_type": "code",
   "execution_count": 145,
   "id": "16f1dc96",
   "metadata": {},
   "outputs": [],
   "source": [
    "cloth_meta.to_json('style_top_cloth_meta.json', orient='records', force_ascii=False)\n",
    "user_meta.to_json('style_top_user_meta.json', orient='records', force_ascii=False)"
   ]
  },
  {
   "cell_type": "code",
   "execution_count": 146,
   "id": "4554c0d8",
   "metadata": {},
   "outputs": [
    {
     "data": {
      "text/html": [
       "<div>\n",
       "<style scoped>\n",
       "    .dataframe tbody tr th:only-of-type {\n",
       "        vertical-align: middle;\n",
       "    }\n",
       "\n",
       "    .dataframe tbody tr th {\n",
       "        vertical-align: top;\n",
       "    }\n",
       "\n",
       "    .dataframe thead th {\n",
       "        text-align: right;\n",
       "    }\n",
       "</style>\n",
       "<table border=\"1\" class=\"dataframe\">\n",
       "  <thead>\n",
       "    <tr style=\"text-align: right;\">\n",
       "      <th></th>\n",
       "      <th>userId</th>\n",
       "      <th>size</th>\n",
       "      <th>bright</th>\n",
       "      <th>color</th>\n",
       "      <th>thickness</th>\n",
       "      <th>what</th>\n",
       "    </tr>\n",
       "  </thead>\n",
       "  <tbody>\n",
       "    <tr>\n",
       "      <th>0</th>\n",
       "      <td>858064</td>\n",
       "      <td>1.250000</td>\n",
       "      <td>1.000000</td>\n",
       "      <td>1.0</td>\n",
       "      <td>2.750000</td>\n",
       "      <td>11</td>\n",
       "    </tr>\n",
       "    <tr>\n",
       "      <th>1</th>\n",
       "      <td>858065</td>\n",
       "      <td>1.600000</td>\n",
       "      <td>1.800000</td>\n",
       "      <td>2.0</td>\n",
       "      <td>2.200000</td>\n",
       "      <td>11</td>\n",
       "    </tr>\n",
       "    <tr>\n",
       "      <th>2</th>\n",
       "      <td>858067</td>\n",
       "      <td>1.750000</td>\n",
       "      <td>2.000000</td>\n",
       "      <td>2.0</td>\n",
       "      <td>1.500000</td>\n",
       "      <td>11</td>\n",
       "    </tr>\n",
       "    <tr>\n",
       "      <th>3</th>\n",
       "      <td>858070</td>\n",
       "      <td>1.000000</td>\n",
       "      <td>2.000000</td>\n",
       "      <td>1.0</td>\n",
       "      <td>3.000000</td>\n",
       "      <td>11</td>\n",
       "    </tr>\n",
       "    <tr>\n",
       "      <th>4</th>\n",
       "      <td>858071</td>\n",
       "      <td>2.000000</td>\n",
       "      <td>1.800000</td>\n",
       "      <td>2.0</td>\n",
       "      <td>2.000000</td>\n",
       "      <td>11</td>\n",
       "    </tr>\n",
       "    <tr>\n",
       "      <th>...</th>\n",
       "      <td>...</td>\n",
       "      <td>...</td>\n",
       "      <td>...</td>\n",
       "      <td>...</td>\n",
       "      <td>...</td>\n",
       "      <td>...</td>\n",
       "    </tr>\n",
       "    <tr>\n",
       "      <th>131310</th>\n",
       "      <td>1416935</td>\n",
       "      <td>1.866667</td>\n",
       "      <td>2.000000</td>\n",
       "      <td>1.6</td>\n",
       "      <td>2.133333</td>\n",
       "      <td>11</td>\n",
       "    </tr>\n",
       "    <tr>\n",
       "      <th>131311</th>\n",
       "      <td>1416936</td>\n",
       "      <td>1.333333</td>\n",
       "      <td>1.666667</td>\n",
       "      <td>2.0</td>\n",
       "      <td>1.333333</td>\n",
       "      <td>11</td>\n",
       "    </tr>\n",
       "    <tr>\n",
       "      <th>131312</th>\n",
       "      <td>1416938</td>\n",
       "      <td>1.600000</td>\n",
       "      <td>2.200000</td>\n",
       "      <td>2.2</td>\n",
       "      <td>2.200000</td>\n",
       "      <td>11</td>\n",
       "    </tr>\n",
       "    <tr>\n",
       "      <th>131313</th>\n",
       "      <td>1416946</td>\n",
       "      <td>2.000000</td>\n",
       "      <td>2.000000</td>\n",
       "      <td>2.0</td>\n",
       "      <td>2.166667</td>\n",
       "      <td>11</td>\n",
       "    </tr>\n",
       "    <tr>\n",
       "      <th>131314</th>\n",
       "      <td>1416948</td>\n",
       "      <td>2.500000</td>\n",
       "      <td>2.000000</td>\n",
       "      <td>2.0</td>\n",
       "      <td>2.000000</td>\n",
       "      <td>11</td>\n",
       "    </tr>\n",
       "  </tbody>\n",
       "</table>\n",
       "<p>131315 rows × 6 columns</p>\n",
       "</div>"
      ],
      "text/plain": [
       "         userId      size    bright  color  thickness  what\n",
       "0        858064  1.250000  1.000000    1.0   2.750000    11\n",
       "1        858065  1.600000  1.800000    2.0   2.200000    11\n",
       "2        858067  1.750000  2.000000    2.0   1.500000    11\n",
       "3        858070  1.000000  2.000000    1.0   3.000000    11\n",
       "4        858071  2.000000  1.800000    2.0   2.000000    11\n",
       "...         ...       ...       ...    ...        ...   ...\n",
       "131310  1416935  1.866667  2.000000    1.6   2.133333    11\n",
       "131311  1416936  1.333333  1.666667    2.0   1.333333    11\n",
       "131312  1416938  1.600000  2.200000    2.2   2.200000    11\n",
       "131313  1416946  2.000000  2.000000    2.0   2.166667    11\n",
       "131314  1416948  2.500000  2.000000    2.0   2.000000    11\n",
       "\n",
       "[131315 rows x 6 columns]"
      ]
     },
     "execution_count": 146,
     "metadata": {},
     "output_type": "execute_result"
    }
   ],
   "source": [
    "user_meta"
   ]
  },
  {
   "cell_type": "code",
   "execution_count": null,
   "id": "932b67a5",
   "metadata": {},
   "outputs": [],
   "source": []
  },
  {
   "cell_type": "code",
   "execution_count": null,
   "id": "a3ad1d65",
   "metadata": {},
   "outputs": [],
   "source": []
  },
  {
   "cell_type": "markdown",
   "id": "93bc7d72",
   "metadata": {},
   "source": [
    "# Outer"
   ]
  },
  {
   "cell_type": "code",
   "execution_count": 147,
   "id": "daf2b885",
   "metadata": {},
   "outputs": [],
   "source": [
    "transaction = pd.read_json('./transaction_outer.json')\n",
    "cloth_meta = pd.read_json('./final_outer.json')\n",
    "user_meta = pd.read_json('./user_outer.json')\n",
    "transaction = transaction[['userId', 'newClothId', 'shopCnt']]"
   ]
  },
  {
   "cell_type": "code",
   "execution_count": 148,
   "id": "f6adf863",
   "metadata": {},
   "outputs": [
    {
     "data": {
      "text/plain": [
       "(171253, 3)"
      ]
     },
     "execution_count": 148,
     "metadata": {},
     "output_type": "execute_result"
    }
   ],
   "source": [
    "transaction = transaction[transaction.shopCnt > 1]\n",
    "transaction.shape"
   ]
  },
  {
   "cell_type": "code",
   "execution_count": 149,
   "id": "e3585e0b",
   "metadata": {},
   "outputs": [],
   "source": [
    "unique_id_cloth_meta = list(set(cloth_meta.newClothId))\n",
    "transaction=transaction.loc[transaction.newClothId.isin(unique_id_cloth_meta),:]"
   ]
  },
  {
   "cell_type": "code",
   "execution_count": 150,
   "id": "4ceb9200",
   "metadata": {
    "scrolled": false
   },
   "outputs": [],
   "source": [
    "a = transaction[['newClothId']]\n",
    "a.insert(1, 'idx', 0, True)\n",
    "a = a.drop_duplicates(['newClothId'])\n",
    "a.idx = range(len(a))"
   ]
  },
  {
   "cell_type": "code",
   "execution_count": 151,
   "id": "e88e06f0",
   "metadata": {},
   "outputs": [],
   "source": [
    "transaction = pd.merge(transaction, a, how=\"left\", on=\"newClothId\")"
   ]
  },
  {
   "cell_type": "code",
   "execution_count": 152,
   "id": "6defe4f1",
   "metadata": {
    "scrolled": true
   },
   "outputs": [],
   "source": [
    "user_meta = user_meta[style_user_column]"
   ]
  },
  {
   "cell_type": "code",
   "execution_count": 153,
   "id": "f3ff916a",
   "metadata": {},
   "outputs": [
    {
     "data": {
      "text/html": [
       "<div>\n",
       "<style scoped>\n",
       "    .dataframe tbody tr th:only-of-type {\n",
       "        vertical-align: middle;\n",
       "    }\n",
       "\n",
       "    .dataframe tbody tr th {\n",
       "        vertical-align: top;\n",
       "    }\n",
       "\n",
       "    .dataframe thead th {\n",
       "        text-align: right;\n",
       "    }\n",
       "</style>\n",
       "<table border=\"1\" class=\"dataframe\">\n",
       "  <thead>\n",
       "    <tr style=\"text-align: right;\">\n",
       "      <th></th>\n",
       "      <th>userId</th>\n",
       "      <th>size</th>\n",
       "      <th>bright</th>\n",
       "      <th>color</th>\n",
       "      <th>thickness</th>\n",
       "    </tr>\n",
       "  </thead>\n",
       "  <tbody>\n",
       "    <tr>\n",
       "      <th>0</th>\n",
       "      <td>488503</td>\n",
       "      <td>2.0</td>\n",
       "      <td>2.000000</td>\n",
       "      <td>2.000000</td>\n",
       "      <td>0.000000</td>\n",
       "    </tr>\n",
       "    <tr>\n",
       "      <th>1</th>\n",
       "      <td>488504</td>\n",
       "      <td>2.0</td>\n",
       "      <td>2.000000</td>\n",
       "      <td>3.000000</td>\n",
       "      <td>0.000000</td>\n",
       "    </tr>\n",
       "    <tr>\n",
       "      <th>2</th>\n",
       "      <td>488506</td>\n",
       "      <td>2.0</td>\n",
       "      <td>2.000000</td>\n",
       "      <td>2.000000</td>\n",
       "      <td>3.000000</td>\n",
       "    </tr>\n",
       "    <tr>\n",
       "      <th>3</th>\n",
       "      <td>488507</td>\n",
       "      <td>2.0</td>\n",
       "      <td>2.000000</td>\n",
       "      <td>1.666667</td>\n",
       "      <td>2.000000</td>\n",
       "    </tr>\n",
       "    <tr>\n",
       "      <th>4</th>\n",
       "      <td>488509</td>\n",
       "      <td>1.0</td>\n",
       "      <td>2.000000</td>\n",
       "      <td>2.000000</td>\n",
       "      <td>1.000000</td>\n",
       "    </tr>\n",
       "    <tr>\n",
       "      <th>...</th>\n",
       "      <td>...</td>\n",
       "      <td>...</td>\n",
       "      <td>...</td>\n",
       "      <td>...</td>\n",
       "      <td>...</td>\n",
       "    </tr>\n",
       "    <tr>\n",
       "      <th>93245</th>\n",
       "      <td>858056</td>\n",
       "      <td>2.2</td>\n",
       "      <td>2.000000</td>\n",
       "      <td>1.400000</td>\n",
       "      <td>1.600000</td>\n",
       "    </tr>\n",
       "    <tr>\n",
       "      <th>93246</th>\n",
       "      <td>858057</td>\n",
       "      <td>2.0</td>\n",
       "      <td>2.333333</td>\n",
       "      <td>1.000000</td>\n",
       "      <td>2.333333</td>\n",
       "    </tr>\n",
       "    <tr>\n",
       "      <th>93247</th>\n",
       "      <td>858058</td>\n",
       "      <td>2.0</td>\n",
       "      <td>3.000000</td>\n",
       "      <td>2.000000</td>\n",
       "      <td>3.000000</td>\n",
       "    </tr>\n",
       "    <tr>\n",
       "      <th>93248</th>\n",
       "      <td>858060</td>\n",
       "      <td>1.0</td>\n",
       "      <td>1.000000</td>\n",
       "      <td>1.000000</td>\n",
       "      <td>1.000000</td>\n",
       "    </tr>\n",
       "    <tr>\n",
       "      <th>93249</th>\n",
       "      <td>858062</td>\n",
       "      <td>2.0</td>\n",
       "      <td>2.000000</td>\n",
       "      <td>2.000000</td>\n",
       "      <td>2.000000</td>\n",
       "    </tr>\n",
       "  </tbody>\n",
       "</table>\n",
       "<p>93250 rows × 5 columns</p>\n",
       "</div>"
      ],
      "text/plain": [
       "       userId  size    bright     color  thickness\n",
       "0      488503   2.0  2.000000  2.000000   0.000000\n",
       "1      488504   2.0  2.000000  3.000000   0.000000\n",
       "2      488506   2.0  2.000000  2.000000   3.000000\n",
       "3      488507   2.0  2.000000  1.666667   2.000000\n",
       "4      488509   1.0  2.000000  2.000000   1.000000\n",
       "...       ...   ...       ...       ...        ...\n",
       "93245  858056   2.2  2.000000  1.400000   1.600000\n",
       "93246  858057   2.0  2.333333  1.000000   2.333333\n",
       "93247  858058   2.0  3.000000  2.000000   3.000000\n",
       "93248  858060   1.0  1.000000  1.000000   1.000000\n",
       "93249  858062   2.0  2.000000  2.000000   2.000000\n",
       "\n",
       "[93250 rows x 5 columns]"
      ]
     },
     "execution_count": 153,
     "metadata": {},
     "output_type": "execute_result"
    }
   ],
   "source": [
    "unique_id_user_meta = list(set(transaction.userId))\n",
    "user_meta=user_meta.loc[user_meta.userId.isin(unique_id_user_meta),:]\n",
    "user_meta = user_meta.reset_index(drop=True)\n",
    "user_meta"
   ]
  },
  {
   "cell_type": "code",
   "execution_count": 154,
   "id": "572e35e1",
   "metadata": {
    "scrolled": false
   },
   "outputs": [
    {
     "data": {
      "text/html": [
       "<div>\n",
       "<style scoped>\n",
       "    .dataframe tbody tr th:only-of-type {\n",
       "        vertical-align: middle;\n",
       "    }\n",
       "\n",
       "    .dataframe tbody tr th {\n",
       "        vertical-align: top;\n",
       "    }\n",
       "\n",
       "    .dataframe thead th {\n",
       "        text-align: right;\n",
       "    }\n",
       "</style>\n",
       "<table border=\"1\" class=\"dataframe\">\n",
       "  <thead>\n",
       "    <tr style=\"text-align: right;\">\n",
       "      <th></th>\n",
       "      <th>userId</th>\n",
       "      <th>size</th>\n",
       "      <th>bright</th>\n",
       "      <th>color</th>\n",
       "      <th>thickness</th>\n",
       "    </tr>\n",
       "  </thead>\n",
       "  <tbody>\n",
       "    <tr>\n",
       "      <th>0</th>\n",
       "      <td>8299.0</td>\n",
       "      <td>0.3</td>\n",
       "      <td>0.3</td>\n",
       "      <td>0.4</td>\n",
       "      <td>0.0</td>\n",
       "    </tr>\n",
       "  </tbody>\n",
       "</table>\n",
       "</div>"
      ],
      "text/plain": [
       "   userId  size  bright  color  thickness\n",
       "0  8299.0   0.3     0.3    0.4        0.0"
      ]
     },
     "execution_count": 154,
     "metadata": {},
     "output_type": "execute_result"
    }
   ],
   "source": [
    "new_user = pd.DataFrame(user_meta.loc[0]).transpose()\n",
    "new_user_idx = new_user.index\n",
    "new_user.loc[new_user_idx, ('userId')] = 8299\n",
    "new_user.loc[new_user_idx, ('size')] = 0.3\n",
    "new_user.loc[new_user_idx, ('bright')] = 0.3\n",
    "new_user.loc[new_user_idx, ('color')] = 0.4\n",
    "new_user.loc[new_user_idx, ('thickness')] = 0\n",
    "new_user = new_user[['userId',  'size', 'bright', 'color', 'thickness']]\n",
    "new_user"
   ]
  },
  {
   "cell_type": "code",
   "execution_count": 155,
   "id": "be480bb4",
   "metadata": {},
   "outputs": [],
   "source": [
    "from copy import deepcopy\n",
    "sub_user = deepcopy(user_meta)"
   ]
  },
  {
   "cell_type": "code",
   "execution_count": 156,
   "id": "a58811d2",
   "metadata": {},
   "outputs": [],
   "source": [
    "sub_user.size = sub_user.apply(lambda x: abs(x.size-new_user['size'].iloc[0]), axis=1)\n",
    "sub_user.bright = sub_user.apply(lambda x: abs(x.bright-new_user['bright'].iloc[0]), axis=1)\n",
    "sub_user.color = sub_user.apply(lambda x: abs(x.color-new_user['color'].iloc[0]), axis=1)\n",
    "sub_user.thickness = sub_user.apply(lambda x: abs(x.thickness-new_user['thickness'].iloc[0]), axis=1)"
   ]
  },
  {
   "cell_type": "code",
   "execution_count": 157,
   "id": "8c02d726",
   "metadata": {},
   "outputs": [],
   "source": [
    "sub_col = list(sub_user.columns)[1:]"
   ]
  },
  {
   "cell_type": "code",
   "execution_count": 158,
   "id": "9e89374b",
   "metadata": {},
   "outputs": [],
   "source": [
    "sub_user.insert(1, 'favorSum', 0, True)\n",
    "sub_user.favorSum = sum(sub_user[col_i] for col_i in sub_col)\n",
    "sub_user = sub_user.sort_values('favorSum')"
   ]
  },
  {
   "cell_type": "code",
   "execution_count": 159,
   "id": "e4c76a4e",
   "metadata": {},
   "outputs": [
    {
     "name": "stdout",
     "output_type": "stream",
     "text": [
      "[774953, 774971, 604362]\n"
     ]
    }
   ],
   "source": [
    "real_user = []\n",
    "for i in range(3):\n",
    "    real_user.append(sub_user.iloc[i].userId)\n",
    "real_user = [int(i) for i in real_user]\n",
    "print(real_user)"
   ]
  },
  {
   "cell_type": "code",
   "execution_count": 160,
   "id": "f6618cdf",
   "metadata": {},
   "outputs": [],
   "source": [
    "cloth_meta = cloth_meta[style_cloth_column]"
   ]
  },
  {
   "cell_type": "code",
   "execution_count": 161,
   "id": "5a5b30be",
   "metadata": {},
   "outputs": [
    {
     "data": {
      "text/html": [
       "<div>\n",
       "<style scoped>\n",
       "    .dataframe tbody tr th:only-of-type {\n",
       "        vertical-align: middle;\n",
       "    }\n",
       "\n",
       "    .dataframe tbody tr th {\n",
       "        vertical-align: top;\n",
       "    }\n",
       "\n",
       "    .dataframe thead th {\n",
       "        text-align: right;\n",
       "    }\n",
       "</style>\n",
       "<table border=\"1\" class=\"dataframe\">\n",
       "  <thead>\n",
       "    <tr style=\"text-align: right;\">\n",
       "      <th></th>\n",
       "      <th>newClothId</th>\n",
       "      <th>fit</th>\n",
       "      <th>feeling</th>\n",
       "      <th>stretch</th>\n",
       "      <th>visibility</th>\n",
       "      <th>thickness</th>\n",
       "    </tr>\n",
       "  </thead>\n",
       "  <tbody>\n",
       "    <tr>\n",
       "      <th>0</th>\n",
       "      <td>2401813</td>\n",
       "      <td>0</td>\n",
       "      <td>0</td>\n",
       "      <td>0</td>\n",
       "      <td>0</td>\n",
       "      <td>0</td>\n",
       "    </tr>\n",
       "    <tr>\n",
       "      <th>1</th>\n",
       "      <td>234005278848</td>\n",
       "      <td>2</td>\n",
       "      <td>3</td>\n",
       "      <td>3</td>\n",
       "      <td>5</td>\n",
       "      <td>3</td>\n",
       "    </tr>\n",
       "    <tr>\n",
       "      <th>2</th>\n",
       "      <td>2379678</td>\n",
       "      <td>0</td>\n",
       "      <td>0</td>\n",
       "      <td>0</td>\n",
       "      <td>0</td>\n",
       "      <td>0</td>\n",
       "    </tr>\n",
       "    <tr>\n",
       "      <th>3</th>\n",
       "      <td>2360803</td>\n",
       "      <td>0</td>\n",
       "      <td>0</td>\n",
       "      <td>0</td>\n",
       "      <td>0</td>\n",
       "      <td>0</td>\n",
       "    </tr>\n",
       "    <tr>\n",
       "      <th>4</th>\n",
       "      <td>2354237</td>\n",
       "      <td>0</td>\n",
       "      <td>0</td>\n",
       "      <td>0</td>\n",
       "      <td>0</td>\n",
       "      <td>0</td>\n",
       "    </tr>\n",
       "    <tr>\n",
       "      <th>...</th>\n",
       "      <td>...</td>\n",
       "      <td>...</td>\n",
       "      <td>...</td>\n",
       "      <td>...</td>\n",
       "      <td>...</td>\n",
       "      <td>...</td>\n",
       "    </tr>\n",
       "    <tr>\n",
       "      <th>85636</th>\n",
       "      <td>2322135130506</td>\n",
       "      <td>0</td>\n",
       "      <td>0</td>\n",
       "      <td>0</td>\n",
       "      <td>0</td>\n",
       "      <td>0</td>\n",
       "    </tr>\n",
       "    <tr>\n",
       "      <th>85637</th>\n",
       "      <td>2322135130507</td>\n",
       "      <td>0</td>\n",
       "      <td>0</td>\n",
       "      <td>0</td>\n",
       "      <td>0</td>\n",
       "      <td>0</td>\n",
       "    </tr>\n",
       "    <tr>\n",
       "      <th>85638</th>\n",
       "      <td>2322135130508</td>\n",
       "      <td>0</td>\n",
       "      <td>0</td>\n",
       "      <td>0</td>\n",
       "      <td>0</td>\n",
       "      <td>0</td>\n",
       "    </tr>\n",
       "    <tr>\n",
       "      <th>85639</th>\n",
       "      <td>2352578</td>\n",
       "      <td>0</td>\n",
       "      <td>0</td>\n",
       "      <td>0</td>\n",
       "      <td>0</td>\n",
       "      <td>0</td>\n",
       "    </tr>\n",
       "    <tr>\n",
       "      <th>85640</th>\n",
       "      <td>2398671</td>\n",
       "      <td>0</td>\n",
       "      <td>0</td>\n",
       "      <td>0</td>\n",
       "      <td>0</td>\n",
       "      <td>0</td>\n",
       "    </tr>\n",
       "  </tbody>\n",
       "</table>\n",
       "<p>85641 rows × 6 columns</p>\n",
       "</div>"
      ],
      "text/plain": [
       "          newClothId  fit  feeling  stretch  visibility  thickness\n",
       "0            2401813    0        0        0           0          0\n",
       "1       234005278848    2        3        3           5          3\n",
       "2            2379678    0        0        0           0          0\n",
       "3            2360803    0        0        0           0          0\n",
       "4            2354237    0        0        0           0          0\n",
       "...              ...  ...      ...      ...         ...        ...\n",
       "85636  2322135130506    0        0        0           0          0\n",
       "85637  2322135130507    0        0        0           0          0\n",
       "85638  2322135130508    0        0        0           0          0\n",
       "85639        2352578    0        0        0           0          0\n",
       "85640        2398671    0        0        0           0          0\n",
       "\n",
       "[85641 rows x 6 columns]"
      ]
     },
     "execution_count": 161,
     "metadata": {},
     "output_type": "execute_result"
    }
   ],
   "source": [
    "cloth_meta"
   ]
  },
  {
   "cell_type": "code",
   "execution_count": 162,
   "id": "d69a64dc",
   "metadata": {},
   "outputs": [],
   "source": [
    "cloth_meta = pd.merge(cloth_meta, a, how=\"left\", on=\"newClothId\")"
   ]
  },
  {
   "cell_type": "code",
   "execution_count": 163,
   "id": "9b2d9504",
   "metadata": {},
   "outputs": [
    {
     "data": {
      "text/plain": [
       "25916"
      ]
     },
     "execution_count": 163,
     "metadata": {},
     "output_type": "execute_result"
    }
   ],
   "source": [
    "unique_cloth_id = list(transaction['newClothId'].unique())\n",
    "len(unique_cloth_id)"
   ]
  },
  {
   "cell_type": "code",
   "execution_count": 164,
   "id": "b27b96b0",
   "metadata": {},
   "outputs": [],
   "source": [
    "a = cloth_meta.newClothId.isin(unique_cloth_id)\n",
    "cloth_meta = cloth_meta[a]\n",
    "cloth_meta.index = range(len(cloth_meta))"
   ]
  },
  {
   "cell_type": "code",
   "execution_count": 165,
   "id": "677ead7b",
   "metadata": {
    "scrolled": false
   },
   "outputs": [],
   "source": [
    "cloth_meta.idx = cloth_meta.idx.astype('int')"
   ]
  },
  {
   "cell_type": "code",
   "execution_count": 166,
   "id": "44d2f2e1",
   "metadata": {},
   "outputs": [],
   "source": [
    "transaction_source = [(transaction['userId'][i], transaction['idx'][i]) for i in range(transaction.shape[0])]"
   ]
  },
  {
   "cell_type": "code",
   "execution_count": 167,
   "id": "d80af2d3",
   "metadata": {},
   "outputs": [
    {
     "name": "stdout",
     "output_type": "stream",
     "text": [
      "userId의 유니크 개수 : 93250\n",
      "clothId의 유니크 개수 : 25916\n",
      "user테이블의 userId의 유니크 개수 : 93250\n",
      "cloth테이블의 clothId의 유니크 개수 : 25916\n"
     ]
    }
   ],
   "source": [
    "print('userId의 유니크 개수 :', len(transaction.userId.unique()))\n",
    "print('clothId의 유니크 개수 :', len(transaction.idx.unique()))\n",
    "print('user테이블의 userId의 유니크 개수 :', len(user_meta.userId.unique()))\n",
    "print('cloth테이블의 clothId의 유니크 개수 :', len(cloth_meta.idx.unique()))"
   ]
  },
  {
   "cell_type": "code",
   "execution_count": 168,
   "id": "91e172cd",
   "metadata": {},
   "outputs": [
    {
     "data": {
      "text/html": [
       "<div>\n",
       "<style scoped>\n",
       "    .dataframe tbody tr th:only-of-type {\n",
       "        vertical-align: middle;\n",
       "    }\n",
       "\n",
       "    .dataframe tbody tr th {\n",
       "        vertical-align: top;\n",
       "    }\n",
       "\n",
       "    .dataframe thead th {\n",
       "        text-align: right;\n",
       "    }\n",
       "</style>\n",
       "<table border=\"1\" class=\"dataframe\">\n",
       "  <thead>\n",
       "    <tr style=\"text-align: right;\">\n",
       "      <th></th>\n",
       "      <th>userId</th>\n",
       "      <th>size</th>\n",
       "      <th>bright</th>\n",
       "      <th>color</th>\n",
       "      <th>thickness</th>\n",
       "    </tr>\n",
       "  </thead>\n",
       "  <tbody>\n",
       "    <tr>\n",
       "      <th>0</th>\n",
       "      <td>488503</td>\n",
       "      <td>2.0</td>\n",
       "      <td>2.000000</td>\n",
       "      <td>2.000000</td>\n",
       "      <td>0.000000</td>\n",
       "    </tr>\n",
       "    <tr>\n",
       "      <th>1</th>\n",
       "      <td>488504</td>\n",
       "      <td>2.0</td>\n",
       "      <td>2.000000</td>\n",
       "      <td>3.000000</td>\n",
       "      <td>0.000000</td>\n",
       "    </tr>\n",
       "    <tr>\n",
       "      <th>2</th>\n",
       "      <td>488506</td>\n",
       "      <td>2.0</td>\n",
       "      <td>2.000000</td>\n",
       "      <td>2.000000</td>\n",
       "      <td>3.000000</td>\n",
       "    </tr>\n",
       "    <tr>\n",
       "      <th>3</th>\n",
       "      <td>488507</td>\n",
       "      <td>2.0</td>\n",
       "      <td>2.000000</td>\n",
       "      <td>1.666667</td>\n",
       "      <td>2.000000</td>\n",
       "    </tr>\n",
       "    <tr>\n",
       "      <th>4</th>\n",
       "      <td>488509</td>\n",
       "      <td>1.0</td>\n",
       "      <td>2.000000</td>\n",
       "      <td>2.000000</td>\n",
       "      <td>1.000000</td>\n",
       "    </tr>\n",
       "    <tr>\n",
       "      <th>...</th>\n",
       "      <td>...</td>\n",
       "      <td>...</td>\n",
       "      <td>...</td>\n",
       "      <td>...</td>\n",
       "      <td>...</td>\n",
       "    </tr>\n",
       "    <tr>\n",
       "      <th>93245</th>\n",
       "      <td>858056</td>\n",
       "      <td>2.2</td>\n",
       "      <td>2.000000</td>\n",
       "      <td>1.400000</td>\n",
       "      <td>1.600000</td>\n",
       "    </tr>\n",
       "    <tr>\n",
       "      <th>93246</th>\n",
       "      <td>858057</td>\n",
       "      <td>2.0</td>\n",
       "      <td>2.333333</td>\n",
       "      <td>1.000000</td>\n",
       "      <td>2.333333</td>\n",
       "    </tr>\n",
       "    <tr>\n",
       "      <th>93247</th>\n",
       "      <td>858058</td>\n",
       "      <td>2.0</td>\n",
       "      <td>3.000000</td>\n",
       "      <td>2.000000</td>\n",
       "      <td>3.000000</td>\n",
       "    </tr>\n",
       "    <tr>\n",
       "      <th>93248</th>\n",
       "      <td>858060</td>\n",
       "      <td>1.0</td>\n",
       "      <td>1.000000</td>\n",
       "      <td>1.000000</td>\n",
       "      <td>1.000000</td>\n",
       "    </tr>\n",
       "    <tr>\n",
       "      <th>93249</th>\n",
       "      <td>858062</td>\n",
       "      <td>2.0</td>\n",
       "      <td>2.000000</td>\n",
       "      <td>2.000000</td>\n",
       "      <td>2.000000</td>\n",
       "    </tr>\n",
       "  </tbody>\n",
       "</table>\n",
       "<p>93250 rows × 5 columns</p>\n",
       "</div>"
      ],
      "text/plain": [
       "       userId  size    bright     color  thickness\n",
       "0      488503   2.0  2.000000  2.000000   0.000000\n",
       "1      488504   2.0  2.000000  3.000000   0.000000\n",
       "2      488506   2.0  2.000000  2.000000   3.000000\n",
       "3      488507   2.0  2.000000  1.666667   2.000000\n",
       "4      488509   1.0  2.000000  2.000000   1.000000\n",
       "...       ...   ...       ...       ...        ...\n",
       "93245  858056   2.2  2.000000  1.400000   1.600000\n",
       "93246  858057   2.0  2.333333  1.000000   2.333333\n",
       "93247  858058   2.0  3.000000  2.000000   3.000000\n",
       "93248  858060   1.0  1.000000  1.000000   1.000000\n",
       "93249  858062   2.0  2.000000  2.000000   2.000000\n",
       "\n",
       "[93250 rows x 5 columns]"
      ]
     },
     "execution_count": 168,
     "metadata": {},
     "output_type": "execute_result"
    }
   ],
   "source": [
    "user_meta"
   ]
  },
  {
   "cell_type": "code",
   "execution_count": 169,
   "id": "ee472fe0",
   "metadata": {
    "scrolled": true
   },
   "outputs": [],
   "source": [
    "user_features_source = [(user_meta['userId'][i],\n",
    "                        [user_meta['size'][i], user_meta['bright'][i], user_meta['color'][i],\n",
    "                        user_meta['thickness'][i]]) for i in range(user_meta.shape[0])]"
   ]
  },
  {
   "cell_type": "code",
   "execution_count": 170,
   "id": "5a7dd0b2",
   "metadata": {},
   "outputs": [],
   "source": [
    "cloth_features_source = [(cloth_meta['idx'][i],\n",
    "                        [cloth_meta['fit'][i], cloth_meta['feeling'][i], cloth_meta['stretch'][i],\n",
    "                        cloth_meta['visibility'][i], cloth_meta['thickness'][i]]) for i in range(cloth_meta.shape[0])]"
   ]
  },
  {
   "cell_type": "code",
   "execution_count": 171,
   "id": "106bbb80",
   "metadata": {},
   "outputs": [],
   "source": [
    "dataset = Dataset()\n",
    "dataset.fit(users=transaction['userId'].unique(),\n",
    "           items=transaction['idx'].unique(),\n",
    "           user_features=user_meta[user_meta.columns[1:]].values.flatten(),\n",
    "           item_features=cloth_meta[cloth_meta.columns[1:]].values.flatten())"
   ]
  },
  {
   "cell_type": "code",
   "execution_count": 172,
   "id": "11a42356",
   "metadata": {},
   "outputs": [],
   "source": [
    "interactions, weights = dataset.build_interactions(transaction_source)"
   ]
  },
  {
   "cell_type": "code",
   "execution_count": 173,
   "id": "908b3a37",
   "metadata": {},
   "outputs": [],
   "source": [
    "user_features = dataset.build_user_features(user_features_source)"
   ]
  },
  {
   "cell_type": "code",
   "execution_count": 174,
   "id": "7d580846",
   "metadata": {
    "scrolled": true
   },
   "outputs": [],
   "source": [
    "cloth_features = dataset.build_item_features(cloth_features_source)"
   ]
  },
  {
   "cell_type": "code",
   "execution_count": 175,
   "id": "df956cdc",
   "metadata": {},
   "outputs": [],
   "source": [
    "train, test = random_train_test_split(interactions, test_percentage=0.2)\n",
    "train, test = train.tocsr().tocoo(), test.tocsr().tocoo()\n",
    "train_weights = train.multiply(weights).tocoo()\n",
    "test_weights = test.multiply(weights).tocoo()"
   ]
  },
  {
   "cell_type": "code",
   "execution_count": 30,
   "id": "03c32a76",
   "metadata": {},
   "outputs": [],
   "source": [
    "# no_components: 10\n",
    "# learning_rate : 0.05\n",
    "trials = Trials()\n",
    "space = [hp.choice('no_components', range(10, 21, 5)),\n",
    "         hp.uniform('learning_rate', 0.05, 0.1)]"
   ]
  },
  {
   "cell_type": "code",
   "execution_count": 85,
   "id": "c147633f",
   "metadata": {},
   "outputs": [],
   "source": [
    "# Define Objective Function\n",
    "def objective(params):\n",
    "    no_components, learning_rate = params\n",
    "    model = LightFM(no_components=no_components,\n",
    "                    learning_schedule='adagrad',\n",
    "                    loss='warp',\n",
    "                    learning_rate=learning_rate,\n",
    "                    random_state=0)\n",
    "\n",
    "    model.fit(interactions=train,\n",
    "              item_features=cloth_features,\n",
    "              user_features=user_features,\n",
    "              sample_weight=train_weights,\n",
    "              epochs=3,\n",
    "              verbose=False)\n",
    "\n",
    "    test_precision = precision_at_k(model, test, k=5, item_features=cloth_features, user_features=user_features).mean()\n",
    "    print(\"no_comp: {}, lrn_rate: {:.5f}, precision: {:.5f}\".format(\n",
    "      no_components, learning_rate, test_precision))\n",
    "    # test_auc = auc_score(model, test, item_features=item_features).mean()\n",
    "    output = -test_precision\n",
    "\n",
    "    if np.abs(output+1) < 0.01 or output < -1.0:\n",
    "        output = 0.0\n",
    "\n",
    "    return output"
   ]
  },
  {
   "cell_type": "code",
   "execution_count": null,
   "id": "9b889fec",
   "metadata": {},
   "outputs": [
    {
     "name": "stdout",
     "output_type": "stream",
     "text": [
      "\r",
      "  0%|          | 0/10 [00:00<?, ?trial/s, best loss=?]"
     ]
    }
   ],
   "source": [
    "best_params = fmin(fn=objective, space=space, algo=tpe.suggest, max_evals=10, trials=trials)"
   ]
  },
  {
   "cell_type": "code",
   "execution_count": 31,
   "id": "eeeed595",
   "metadata": {
    "scrolled": true
   },
   "outputs": [
    {
     "name": "stdout",
     "output_type": "stream",
     "text": [
      "0.05 2\n"
     ]
    }
   ],
   "source": [
    "learning_rate = round(best_params['learning_rate'], 3)\n",
    "no_components = best_params['no_components']\n",
    "print(learning_rate, no_components)"
   ]
  },
  {
   "cell_type": "code",
   "execution_count": 176,
   "id": "de02ac4d",
   "metadata": {},
   "outputs": [],
   "source": [
    "learning_rate = 0.03\n",
    "no_components = 3"
   ]
  },
  {
   "cell_type": "code",
   "execution_count": 177,
   "id": "22d5c726",
   "metadata": {},
   "outputs": [
    {
     "name": "stderr",
     "output_type": "stream",
     "text": [
      "Epoch: 100%|██████████| 10/10 [00:03<00:00,  3.06it/s]\n"
     ]
    },
    {
     "data": {
      "text/plain": [
       "<lightfm.lightfm.LightFM at 0x1f365e5cb20>"
      ]
     },
     "execution_count": 177,
     "metadata": {},
     "output_type": "execute_result"
    }
   ],
   "source": [
    "model = LightFM(no_components=no_components,\n",
    "                learning_schedule='adagrad',\n",
    "                loss='warp',\n",
    "                learning_rate=learning_rate,\n",
    "                random_state=0)\n",
    "\n",
    "model.fit(interactions=interactions,\n",
    "          item_features=cloth_features,\n",
    "          user_features=user_features,\n",
    "          sample_weight=weights,\n",
    "          epochs=10,\n",
    "          verbose=True)"
   ]
  },
  {
   "cell_type": "code",
   "execution_count": 178,
   "id": "b280b0eb",
   "metadata": {},
   "outputs": [],
   "source": [
    "# 모델 저장하기\n",
    "import pickle\n",
    "with open('model_style_outer.pickle', 'wb') as fw:\n",
    "    pickle.dump(model, fw)"
   ]
  },
  {
   "cell_type": "code",
   "execution_count": 179,
   "id": "4583e5a9",
   "metadata": {},
   "outputs": [],
   "source": [
    "# 모델 불러오기\n",
    "import pickle\n",
    "with open('model_style_outer.pickle', 'rb') as f:\n",
    "    model_outer = pickle.load(f)"
   ]
  },
  {
   "cell_type": "code",
   "execution_count": 180,
   "id": "f4905096",
   "metadata": {},
   "outputs": [],
   "source": [
    "def sample_recommendation(model, idx, user_ids):\n",
    "    cnt = 1\n",
    "    for user_id in user_ids:\n",
    "        if cnt==1:\n",
    "            scores = model.predict(int(user_meta[user_meta.userId==user_id].index[0]), np.arange(len(cloth_meta)))\n",
    "        else:\n",
    "            scores += model.predict(int(user_meta[user_meta.userId==user_id].index[0]), np.arange(len(cloth_meta)))\n",
    "    \n",
    "    top_items = idx[np.argsort(-scores)]\n",
    "    \n",
    "    sub_clothes = []\n",
    "\n",
    "    for x in top_items[:10]:\n",
    "        sub_clothes.append(x)\n",
    "    \n",
    "    rec_clothes = []\n",
    "    \n",
    "    for i in sub_clothes:\n",
    "        rec_clothes.append(cloth_meta[cloth_meta.idx==i].newClothId.iloc[0])\n",
    "    \n",
    "    return rec_clothes"
   ]
  },
  {
   "cell_type": "code",
   "execution_count": 181,
   "id": "7f8e4079",
   "metadata": {
    "scrolled": false
   },
   "outputs": [
    {
     "data": {
      "text/plain": [
       "[177840683604,\n",
       " 238071082834,\n",
       " 157135683282,\n",
       " 231905785481,\n",
       " 132418381736,\n",
       " 209117486230,\n",
       " 1736613110797,\n",
       " 1855501110996,\n",
       " 2339203110659,\n",
       " 835897085946]"
      ]
     },
     "execution_count": 181,
     "metadata": {},
     "output_type": "execute_result"
    }
   ],
   "source": [
    "rec_size_top = sample_recommendation(model_outer, cloth_meta.idx, real_user)\n",
    "rec_size_top"
   ]
  },
  {
   "cell_type": "code",
   "execution_count": 182,
   "id": "cb0ebabb",
   "metadata": {},
   "outputs": [
    {
     "data": {
      "text/plain": [
       "[774953, 774971, 604362]"
      ]
     },
     "execution_count": 182,
     "metadata": {},
     "output_type": "execute_result"
    }
   ],
   "source": [
    "real_user"
   ]
  },
  {
   "cell_type": "code",
   "execution_count": 183,
   "id": "98c4dc9a",
   "metadata": {},
   "outputs": [],
   "source": [
    "cloth_meta.insert(7, 'what', 12, True)\n",
    "user_meta.insert(5, 'what', 12, True)"
   ]
  },
  {
   "cell_type": "code",
   "execution_count": 184,
   "id": "f763579d",
   "metadata": {
    "scrolled": false
   },
   "outputs": [
    {
     "data": {
      "text/html": [
       "<div>\n",
       "<style scoped>\n",
       "    .dataframe tbody tr th:only-of-type {\n",
       "        vertical-align: middle;\n",
       "    }\n",
       "\n",
       "    .dataframe tbody tr th {\n",
       "        vertical-align: top;\n",
       "    }\n",
       "\n",
       "    .dataframe thead th {\n",
       "        text-align: right;\n",
       "    }\n",
       "</style>\n",
       "<table border=\"1\" class=\"dataframe\">\n",
       "  <thead>\n",
       "    <tr style=\"text-align: right;\">\n",
       "      <th></th>\n",
       "      <th>newClothId</th>\n",
       "      <th>idx</th>\n",
       "      <th>what</th>\n",
       "    </tr>\n",
       "  </thead>\n",
       "  <tbody>\n",
       "    <tr>\n",
       "      <th>0</th>\n",
       "      <td>234005278848</td>\n",
       "      <td>25240</td>\n",
       "      <td>12</td>\n",
       "    </tr>\n",
       "    <tr>\n",
       "      <th>1</th>\n",
       "      <td>208155079211</td>\n",
       "      <td>20700</td>\n",
       "      <td>12</td>\n",
       "    </tr>\n",
       "    <tr>\n",
       "      <th>2</th>\n",
       "      <td>208155079212</td>\n",
       "      <td>15426</td>\n",
       "      <td>12</td>\n",
       "    </tr>\n",
       "    <tr>\n",
       "      <th>3</th>\n",
       "      <td>208155079213</td>\n",
       "      <td>23065</td>\n",
       "      <td>12</td>\n",
       "    </tr>\n",
       "    <tr>\n",
       "      <th>4</th>\n",
       "      <td>208155079214</td>\n",
       "      <td>1832</td>\n",
       "      <td>12</td>\n",
       "    </tr>\n",
       "    <tr>\n",
       "      <th>...</th>\n",
       "      <td>...</td>\n",
       "      <td>...</td>\n",
       "      <td>...</td>\n",
       "    </tr>\n",
       "    <tr>\n",
       "      <th>25911</th>\n",
       "      <td>2080918130502</td>\n",
       "      <td>10939</td>\n",
       "      <td>12</td>\n",
       "    </tr>\n",
       "    <tr>\n",
       "      <th>25912</th>\n",
       "      <td>2080918130504</td>\n",
       "      <td>7261</td>\n",
       "      <td>12</td>\n",
       "    </tr>\n",
       "    <tr>\n",
       "      <th>25913</th>\n",
       "      <td>2322135130506</td>\n",
       "      <td>21919</td>\n",
       "      <td>12</td>\n",
       "    </tr>\n",
       "    <tr>\n",
       "      <th>25914</th>\n",
       "      <td>2322135130507</td>\n",
       "      <td>20550</td>\n",
       "      <td>12</td>\n",
       "    </tr>\n",
       "    <tr>\n",
       "      <th>25915</th>\n",
       "      <td>2322135130508</td>\n",
       "      <td>14176</td>\n",
       "      <td>12</td>\n",
       "    </tr>\n",
       "  </tbody>\n",
       "</table>\n",
       "<p>25916 rows × 3 columns</p>\n",
       "</div>"
      ],
      "text/plain": [
       "          newClothId    idx  what\n",
       "0       234005278848  25240    12\n",
       "1       208155079211  20700    12\n",
       "2       208155079212  15426    12\n",
       "3       208155079213  23065    12\n",
       "4       208155079214   1832    12\n",
       "...              ...    ...   ...\n",
       "25911  2080918130502  10939    12\n",
       "25912  2080918130504   7261    12\n",
       "25913  2322135130506  21919    12\n",
       "25914  2322135130507  20550    12\n",
       "25915  2322135130508  14176    12\n",
       "\n",
       "[25916 rows x 3 columns]"
      ]
     },
     "execution_count": 184,
     "metadata": {},
     "output_type": "execute_result"
    }
   ],
   "source": [
    "cloth_meta = cloth_meta[[\"newClothId\", \"idx\", 'what']]\n",
    "cloth_meta"
   ]
  },
  {
   "cell_type": "code",
   "execution_count": 185,
   "id": "16f1dc96",
   "metadata": {},
   "outputs": [],
   "source": [
    "cloth_meta.to_json('style_outer_cloth_meta.json', orient='records', force_ascii=False)\n",
    "user_meta.to_json('style_outer_user_meta.json', orient='records', force_ascii=False)"
   ]
  },
  {
   "cell_type": "code",
   "execution_count": 186,
   "id": "4554c0d8",
   "metadata": {},
   "outputs": [
    {
     "data": {
      "text/html": [
       "<div>\n",
       "<style scoped>\n",
       "    .dataframe tbody tr th:only-of-type {\n",
       "        vertical-align: middle;\n",
       "    }\n",
       "\n",
       "    .dataframe tbody tr th {\n",
       "        vertical-align: top;\n",
       "    }\n",
       "\n",
       "    .dataframe thead th {\n",
       "        text-align: right;\n",
       "    }\n",
       "</style>\n",
       "<table border=\"1\" class=\"dataframe\">\n",
       "  <thead>\n",
       "    <tr style=\"text-align: right;\">\n",
       "      <th></th>\n",
       "      <th>userId</th>\n",
       "      <th>size</th>\n",
       "      <th>bright</th>\n",
       "      <th>color</th>\n",
       "      <th>thickness</th>\n",
       "      <th>what</th>\n",
       "    </tr>\n",
       "  </thead>\n",
       "  <tbody>\n",
       "    <tr>\n",
       "      <th>0</th>\n",
       "      <td>488503</td>\n",
       "      <td>2.0</td>\n",
       "      <td>2.000000</td>\n",
       "      <td>2.000000</td>\n",
       "      <td>0.000000</td>\n",
       "      <td>12</td>\n",
       "    </tr>\n",
       "    <tr>\n",
       "      <th>1</th>\n",
       "      <td>488504</td>\n",
       "      <td>2.0</td>\n",
       "      <td>2.000000</td>\n",
       "      <td>3.000000</td>\n",
       "      <td>0.000000</td>\n",
       "      <td>12</td>\n",
       "    </tr>\n",
       "    <tr>\n",
       "      <th>2</th>\n",
       "      <td>488506</td>\n",
       "      <td>2.0</td>\n",
       "      <td>2.000000</td>\n",
       "      <td>2.000000</td>\n",
       "      <td>3.000000</td>\n",
       "      <td>12</td>\n",
       "    </tr>\n",
       "    <tr>\n",
       "      <th>3</th>\n",
       "      <td>488507</td>\n",
       "      <td>2.0</td>\n",
       "      <td>2.000000</td>\n",
       "      <td>1.666667</td>\n",
       "      <td>2.000000</td>\n",
       "      <td>12</td>\n",
       "    </tr>\n",
       "    <tr>\n",
       "      <th>4</th>\n",
       "      <td>488509</td>\n",
       "      <td>1.0</td>\n",
       "      <td>2.000000</td>\n",
       "      <td>2.000000</td>\n",
       "      <td>1.000000</td>\n",
       "      <td>12</td>\n",
       "    </tr>\n",
       "    <tr>\n",
       "      <th>...</th>\n",
       "      <td>...</td>\n",
       "      <td>...</td>\n",
       "      <td>...</td>\n",
       "      <td>...</td>\n",
       "      <td>...</td>\n",
       "      <td>...</td>\n",
       "    </tr>\n",
       "    <tr>\n",
       "      <th>93245</th>\n",
       "      <td>858056</td>\n",
       "      <td>2.2</td>\n",
       "      <td>2.000000</td>\n",
       "      <td>1.400000</td>\n",
       "      <td>1.600000</td>\n",
       "      <td>12</td>\n",
       "    </tr>\n",
       "    <tr>\n",
       "      <th>93246</th>\n",
       "      <td>858057</td>\n",
       "      <td>2.0</td>\n",
       "      <td>2.333333</td>\n",
       "      <td>1.000000</td>\n",
       "      <td>2.333333</td>\n",
       "      <td>12</td>\n",
       "    </tr>\n",
       "    <tr>\n",
       "      <th>93247</th>\n",
       "      <td>858058</td>\n",
       "      <td>2.0</td>\n",
       "      <td>3.000000</td>\n",
       "      <td>2.000000</td>\n",
       "      <td>3.000000</td>\n",
       "      <td>12</td>\n",
       "    </tr>\n",
       "    <tr>\n",
       "      <th>93248</th>\n",
       "      <td>858060</td>\n",
       "      <td>1.0</td>\n",
       "      <td>1.000000</td>\n",
       "      <td>1.000000</td>\n",
       "      <td>1.000000</td>\n",
       "      <td>12</td>\n",
       "    </tr>\n",
       "    <tr>\n",
       "      <th>93249</th>\n",
       "      <td>858062</td>\n",
       "      <td>2.0</td>\n",
       "      <td>2.000000</td>\n",
       "      <td>2.000000</td>\n",
       "      <td>2.000000</td>\n",
       "      <td>12</td>\n",
       "    </tr>\n",
       "  </tbody>\n",
       "</table>\n",
       "<p>93250 rows × 6 columns</p>\n",
       "</div>"
      ],
      "text/plain": [
       "       userId  size    bright     color  thickness  what\n",
       "0      488503   2.0  2.000000  2.000000   0.000000    12\n",
       "1      488504   2.0  2.000000  3.000000   0.000000    12\n",
       "2      488506   2.0  2.000000  2.000000   3.000000    12\n",
       "3      488507   2.0  2.000000  1.666667   2.000000    12\n",
       "4      488509   1.0  2.000000  2.000000   1.000000    12\n",
       "...       ...   ...       ...       ...        ...   ...\n",
       "93245  858056   2.2  2.000000  1.400000   1.600000    12\n",
       "93246  858057   2.0  2.333333  1.000000   2.333333    12\n",
       "93247  858058   2.0  3.000000  2.000000   3.000000    12\n",
       "93248  858060   1.0  1.000000  1.000000   1.000000    12\n",
       "93249  858062   2.0  2.000000  2.000000   2.000000    12\n",
       "\n",
       "[93250 rows x 6 columns]"
      ]
     },
     "execution_count": 186,
     "metadata": {},
     "output_type": "execute_result"
    }
   ],
   "source": [
    "user_meta"
   ]
  },
  {
   "cell_type": "code",
   "execution_count": null,
   "id": "70a779c2",
   "metadata": {},
   "outputs": [],
   "source": []
  },
  {
   "cell_type": "code",
   "execution_count": null,
   "id": "99e71c24",
   "metadata": {},
   "outputs": [],
   "source": []
  },
  {
   "cell_type": "markdown",
   "id": "3de660d4",
   "metadata": {},
   "source": [
    "# Pants"
   ]
  },
  {
   "cell_type": "code",
   "execution_count": 187,
   "id": "ce59ad5e",
   "metadata": {},
   "outputs": [],
   "source": [
    "transaction = pd.read_json('./transaction_pants.json')\n",
    "cloth_meta = pd.read_json('./final_pants.json')\n",
    "user_meta = pd.read_json('./user_pants.json')\n",
    "transaction = transaction[['userId', 'newClothId', 'shopCnt']]"
   ]
  },
  {
   "cell_type": "code",
   "execution_count": 188,
   "id": "f6adf863",
   "metadata": {},
   "outputs": [
    {
     "data": {
      "text/plain": [
       "(273862, 3)"
      ]
     },
     "execution_count": 188,
     "metadata": {},
     "output_type": "execute_result"
    }
   ],
   "source": [
    "transaction = transaction[transaction.shopCnt > 1]\n",
    "transaction.shape"
   ]
  },
  {
   "cell_type": "code",
   "execution_count": 189,
   "id": "e3585e0b",
   "metadata": {},
   "outputs": [],
   "source": [
    "unique_id_cloth_meta = list(set(cloth_meta.newClothId))\n",
    "transaction=transaction.loc[transaction.newClothId.isin(unique_id_cloth_meta),:]"
   ]
  },
  {
   "cell_type": "code",
   "execution_count": 190,
   "id": "4ceb9200",
   "metadata": {
    "scrolled": false
   },
   "outputs": [],
   "source": [
    "a = transaction[['newClothId']]\n",
    "a.insert(1, 'idx', 0, True)\n",
    "a = a.drop_duplicates(['newClothId'])\n",
    "a.idx = range(len(a))"
   ]
  },
  {
   "cell_type": "code",
   "execution_count": 191,
   "id": "e88e06f0",
   "metadata": {},
   "outputs": [],
   "source": [
    "transaction = pd.merge(transaction, a, how=\"left\", on=\"newClothId\")"
   ]
  },
  {
   "cell_type": "code",
   "execution_count": 192,
   "id": "6defe4f1",
   "metadata": {
    "scrolled": true
   },
   "outputs": [],
   "source": [
    "user_meta = user_meta[style_user_column]"
   ]
  },
  {
   "cell_type": "code",
   "execution_count": 193,
   "id": "f3ff916a",
   "metadata": {},
   "outputs": [
    {
     "data": {
      "text/html": [
       "<div>\n",
       "<style scoped>\n",
       "    .dataframe tbody tr th:only-of-type {\n",
       "        vertical-align: middle;\n",
       "    }\n",
       "\n",
       "    .dataframe tbody tr th {\n",
       "        vertical-align: top;\n",
       "    }\n",
       "\n",
       "    .dataframe thead th {\n",
       "        text-align: right;\n",
       "    }\n",
       "</style>\n",
       "<table border=\"1\" class=\"dataframe\">\n",
       "  <thead>\n",
       "    <tr style=\"text-align: right;\">\n",
       "      <th></th>\n",
       "      <th>userId</th>\n",
       "      <th>size</th>\n",
       "      <th>bright</th>\n",
       "      <th>color</th>\n",
       "      <th>thickness</th>\n",
       "    </tr>\n",
       "  </thead>\n",
       "  <tbody>\n",
       "    <tr>\n",
       "      <th>0</th>\n",
       "      <td>14135</td>\n",
       "      <td>1.428571</td>\n",
       "      <td>2.000000</td>\n",
       "      <td>2.000000</td>\n",
       "      <td>2.000000</td>\n",
       "    </tr>\n",
       "    <tr>\n",
       "      <th>1</th>\n",
       "      <td>14141</td>\n",
       "      <td>1.937500</td>\n",
       "      <td>2.000000</td>\n",
       "      <td>2.000000</td>\n",
       "      <td>2.250000</td>\n",
       "    </tr>\n",
       "    <tr>\n",
       "      <th>2</th>\n",
       "      <td>14146</td>\n",
       "      <td>1.000000</td>\n",
       "      <td>2.000000</td>\n",
       "      <td>2.000000</td>\n",
       "      <td>2.000000</td>\n",
       "    </tr>\n",
       "    <tr>\n",
       "      <th>3</th>\n",
       "      <td>14148</td>\n",
       "      <td>2.000000</td>\n",
       "      <td>2.000000</td>\n",
       "      <td>2.000000</td>\n",
       "      <td>2.000000</td>\n",
       "    </tr>\n",
       "    <tr>\n",
       "      <th>4</th>\n",
       "      <td>14158</td>\n",
       "      <td>1.870968</td>\n",
       "      <td>1.870968</td>\n",
       "      <td>2.000000</td>\n",
       "      <td>2.096774</td>\n",
       "    </tr>\n",
       "    <tr>\n",
       "      <th>...</th>\n",
       "      <td>...</td>\n",
       "      <td>...</td>\n",
       "      <td>...</td>\n",
       "      <td>...</td>\n",
       "      <td>...</td>\n",
       "    </tr>\n",
       "    <tr>\n",
       "      <th>115960</th>\n",
       "      <td>488479</td>\n",
       "      <td>1.884615</td>\n",
       "      <td>1.846154</td>\n",
       "      <td>1.846154</td>\n",
       "      <td>2.000000</td>\n",
       "    </tr>\n",
       "    <tr>\n",
       "      <th>115961</th>\n",
       "      <td>488483</td>\n",
       "      <td>1.000000</td>\n",
       "      <td>2.200000</td>\n",
       "      <td>1.000000</td>\n",
       "      <td>1.400000</td>\n",
       "    </tr>\n",
       "    <tr>\n",
       "      <th>115962</th>\n",
       "      <td>488490</td>\n",
       "      <td>1.583333</td>\n",
       "      <td>2.000000</td>\n",
       "      <td>1.916667</td>\n",
       "      <td>2.083333</td>\n",
       "    </tr>\n",
       "    <tr>\n",
       "      <th>115963</th>\n",
       "      <td>488491</td>\n",
       "      <td>2.000000</td>\n",
       "      <td>1.000000</td>\n",
       "      <td>2.000000</td>\n",
       "      <td>2.000000</td>\n",
       "    </tr>\n",
       "    <tr>\n",
       "      <th>115964</th>\n",
       "      <td>488502</td>\n",
       "      <td>2.000000</td>\n",
       "      <td>2.000000</td>\n",
       "      <td>1.500000</td>\n",
       "      <td>2.000000</td>\n",
       "    </tr>\n",
       "  </tbody>\n",
       "</table>\n",
       "<p>115965 rows × 5 columns</p>\n",
       "</div>"
      ],
      "text/plain": [
       "        userId      size    bright     color  thickness\n",
       "0        14135  1.428571  2.000000  2.000000   2.000000\n",
       "1        14141  1.937500  2.000000  2.000000   2.250000\n",
       "2        14146  1.000000  2.000000  2.000000   2.000000\n",
       "3        14148  2.000000  2.000000  2.000000   2.000000\n",
       "4        14158  1.870968  1.870968  2.000000   2.096774\n",
       "...        ...       ...       ...       ...        ...\n",
       "115960  488479  1.884615  1.846154  1.846154   2.000000\n",
       "115961  488483  1.000000  2.200000  1.000000   1.400000\n",
       "115962  488490  1.583333  2.000000  1.916667   2.083333\n",
       "115963  488491  2.000000  1.000000  2.000000   2.000000\n",
       "115964  488502  2.000000  2.000000  1.500000   2.000000\n",
       "\n",
       "[115965 rows x 5 columns]"
      ]
     },
     "execution_count": 193,
     "metadata": {},
     "output_type": "execute_result"
    }
   ],
   "source": [
    "unique_id_user_meta = list(set(transaction.userId))\n",
    "user_meta=user_meta.loc[user_meta.userId.isin(unique_id_user_meta),:]\n",
    "user_meta = user_meta.reset_index(drop=True)\n",
    "user_meta"
   ]
  },
  {
   "cell_type": "code",
   "execution_count": 194,
   "id": "572e35e1",
   "metadata": {
    "scrolled": false
   },
   "outputs": [
    {
     "data": {
      "text/html": [
       "<div>\n",
       "<style scoped>\n",
       "    .dataframe tbody tr th:only-of-type {\n",
       "        vertical-align: middle;\n",
       "    }\n",
       "\n",
       "    .dataframe tbody tr th {\n",
       "        vertical-align: top;\n",
       "    }\n",
       "\n",
       "    .dataframe thead th {\n",
       "        text-align: right;\n",
       "    }\n",
       "</style>\n",
       "<table border=\"1\" class=\"dataframe\">\n",
       "  <thead>\n",
       "    <tr style=\"text-align: right;\">\n",
       "      <th></th>\n",
       "      <th>userId</th>\n",
       "      <th>size</th>\n",
       "      <th>bright</th>\n",
       "      <th>color</th>\n",
       "      <th>thickness</th>\n",
       "    </tr>\n",
       "  </thead>\n",
       "  <tbody>\n",
       "    <tr>\n",
       "      <th>0</th>\n",
       "      <td>8299.0</td>\n",
       "      <td>0.3</td>\n",
       "      <td>0.3</td>\n",
       "      <td>0.4</td>\n",
       "      <td>0.0</td>\n",
       "    </tr>\n",
       "  </tbody>\n",
       "</table>\n",
       "</div>"
      ],
      "text/plain": [
       "   userId  size  bright  color  thickness\n",
       "0  8299.0   0.3     0.3    0.4        0.0"
      ]
     },
     "execution_count": 194,
     "metadata": {},
     "output_type": "execute_result"
    }
   ],
   "source": [
    "new_user = pd.DataFrame(user_meta.loc[0]).transpose()\n",
    "new_user_idx = new_user.index\n",
    "new_user.loc[new_user_idx, ('userId')] = 8299\n",
    "new_user.loc[new_user_idx, ('size')] = 0.3\n",
    "new_user.loc[new_user_idx, ('bright')] = 0.3\n",
    "new_user.loc[new_user_idx, ('color')] = 0.4\n",
    "new_user.loc[new_user_idx, ('thickness')] = 0\n",
    "new_user = new_user[['userId',  'size', 'bright', 'color', 'thickness']]\n",
    "new_user"
   ]
  },
  {
   "cell_type": "code",
   "execution_count": 195,
   "id": "3dde0c7f",
   "metadata": {},
   "outputs": [],
   "source": [
    "from copy import deepcopy\n",
    "sub_user = deepcopy(user_meta)"
   ]
  },
  {
   "cell_type": "code",
   "execution_count": 196,
   "id": "a58811d2",
   "metadata": {},
   "outputs": [],
   "source": [
    "sub_user.size = sub_user.apply(lambda x: abs(x.size-new_user['size'].iloc[0]), axis=1)\n",
    "sub_user.bright = sub_user.apply(lambda x: abs(x.bright-new_user['bright'].iloc[0]), axis=1)\n",
    "sub_user.color = sub_user.apply(lambda x: abs(x.color-new_user['color'].iloc[0]), axis=1)\n",
    "sub_user.thickness = sub_user.apply(lambda x: abs(x.thickness-new_user['thickness'].iloc[0]), axis=1)"
   ]
  },
  {
   "cell_type": "code",
   "execution_count": 197,
   "id": "8c02d726",
   "metadata": {},
   "outputs": [],
   "source": [
    "sub_col = list(sub_user.columns)[1:]"
   ]
  },
  {
   "cell_type": "code",
   "execution_count": 198,
   "id": "9e89374b",
   "metadata": {},
   "outputs": [],
   "source": [
    "sub_user.insert(1, 'favorSum', 0, True)\n",
    "sub_user.favorSum = sum(sub_user[col_i] for col_i in sub_col)\n",
    "sub_user = sub_user.sort_values('favorSum')"
   ]
  },
  {
   "cell_type": "code",
   "execution_count": 199,
   "id": "e4c76a4e",
   "metadata": {},
   "outputs": [
    {
     "name": "stdout",
     "output_type": "stream",
     "text": [
      "[382066, 42286, 31870]\n"
     ]
    }
   ],
   "source": [
    "real_user = []\n",
    "for i in range(3):\n",
    "    real_user.append(sub_user.iloc[i].userId)\n",
    "real_user = [int(i) for i in real_user]\n",
    "print(real_user)"
   ]
  },
  {
   "cell_type": "code",
   "execution_count": 200,
   "id": "f6618cdf",
   "metadata": {},
   "outputs": [],
   "source": [
    "cloth_meta = cloth_meta[style_cloth_column]"
   ]
  },
  {
   "cell_type": "code",
   "execution_count": 201,
   "id": "5a5b30be",
   "metadata": {},
   "outputs": [
    {
     "data": {
      "text/html": [
       "<div>\n",
       "<style scoped>\n",
       "    .dataframe tbody tr th:only-of-type {\n",
       "        vertical-align: middle;\n",
       "    }\n",
       "\n",
       "    .dataframe tbody tr th {\n",
       "        vertical-align: top;\n",
       "    }\n",
       "\n",
       "    .dataframe thead th {\n",
       "        text-align: right;\n",
       "    }\n",
       "</style>\n",
       "<table border=\"1\" class=\"dataframe\">\n",
       "  <thead>\n",
       "    <tr style=\"text-align: right;\">\n",
       "      <th></th>\n",
       "      <th>newClothId</th>\n",
       "      <th>fit</th>\n",
       "      <th>feeling</th>\n",
       "      <th>stretch</th>\n",
       "      <th>visibility</th>\n",
       "      <th>thickness</th>\n",
       "    </tr>\n",
       "  </thead>\n",
       "  <tbody>\n",
       "    <tr>\n",
       "      <th>0</th>\n",
       "      <td>1971752</td>\n",
       "      <td>0</td>\n",
       "      <td>0</td>\n",
       "      <td>0</td>\n",
       "      <td>0</td>\n",
       "      <td>0</td>\n",
       "    </tr>\n",
       "    <tr>\n",
       "      <th>1</th>\n",
       "      <td>726566</td>\n",
       "      <td>0</td>\n",
       "      <td>0</td>\n",
       "      <td>0</td>\n",
       "      <td>0</td>\n",
       "      <td>0</td>\n",
       "    </tr>\n",
       "    <tr>\n",
       "      <th>2</th>\n",
       "      <td>2213618</td>\n",
       "      <td>0</td>\n",
       "      <td>0</td>\n",
       "      <td>0</td>\n",
       "      <td>0</td>\n",
       "      <td>0</td>\n",
       "    </tr>\n",
       "    <tr>\n",
       "      <th>3</th>\n",
       "      <td>2265443</td>\n",
       "      <td>0</td>\n",
       "      <td>0</td>\n",
       "      <td>0</td>\n",
       "      <td>0</td>\n",
       "      <td>0</td>\n",
       "    </tr>\n",
       "    <tr>\n",
       "      <th>4</th>\n",
       "      <td>2005302</td>\n",
       "      <td>0</td>\n",
       "      <td>0</td>\n",
       "      <td>0</td>\n",
       "      <td>0</td>\n",
       "      <td>0</td>\n",
       "    </tr>\n",
       "    <tr>\n",
       "      <th>...</th>\n",
       "      <td>...</td>\n",
       "      <td>...</td>\n",
       "      <td>...</td>\n",
       "      <td>...</td>\n",
       "      <td>...</td>\n",
       "      <td>...</td>\n",
       "    </tr>\n",
       "    <tr>\n",
       "      <th>106873</th>\n",
       "      <td>1889420</td>\n",
       "      <td>0</td>\n",
       "      <td>0</td>\n",
       "      <td>0</td>\n",
       "      <td>0</td>\n",
       "      <td>0</td>\n",
       "    </tr>\n",
       "    <tr>\n",
       "      <th>106874</th>\n",
       "      <td>1275944</td>\n",
       "      <td>0</td>\n",
       "      <td>0</td>\n",
       "      <td>0</td>\n",
       "      <td>0</td>\n",
       "      <td>0</td>\n",
       "    </tr>\n",
       "    <tr>\n",
       "      <th>106875</th>\n",
       "      <td>1889504</td>\n",
       "      <td>0</td>\n",
       "      <td>0</td>\n",
       "      <td>0</td>\n",
       "      <td>0</td>\n",
       "      <td>0</td>\n",
       "    </tr>\n",
       "    <tr>\n",
       "      <th>106876</th>\n",
       "      <td>552678</td>\n",
       "      <td>0</td>\n",
       "      <td>0</td>\n",
       "      <td>0</td>\n",
       "      <td>0</td>\n",
       "      <td>0</td>\n",
       "    </tr>\n",
       "    <tr>\n",
       "      <th>106877</th>\n",
       "      <td>655497</td>\n",
       "      <td>0</td>\n",
       "      <td>0</td>\n",
       "      <td>0</td>\n",
       "      <td>0</td>\n",
       "      <td>0</td>\n",
       "    </tr>\n",
       "  </tbody>\n",
       "</table>\n",
       "<p>106878 rows × 6 columns</p>\n",
       "</div>"
      ],
      "text/plain": [
       "        newClothId  fit  feeling  stretch  visibility  thickness\n",
       "0          1971752    0        0        0           0          0\n",
       "1           726566    0        0        0           0          0\n",
       "2          2213618    0        0        0           0          0\n",
       "3          2265443    0        0        0           0          0\n",
       "4          2005302    0        0        0           0          0\n",
       "...            ...  ...      ...      ...         ...        ...\n",
       "106873     1889420    0        0        0           0          0\n",
       "106874     1275944    0        0        0           0          0\n",
       "106875     1889504    0        0        0           0          0\n",
       "106876      552678    0        0        0           0          0\n",
       "106877      655497    0        0        0           0          0\n",
       "\n",
       "[106878 rows x 6 columns]"
      ]
     },
     "execution_count": 201,
     "metadata": {},
     "output_type": "execute_result"
    }
   ],
   "source": [
    "cloth_meta"
   ]
  },
  {
   "cell_type": "code",
   "execution_count": 202,
   "id": "d69a64dc",
   "metadata": {},
   "outputs": [],
   "source": [
    "cloth_meta = pd.merge(cloth_meta, a, how=\"left\", on=\"newClothId\")"
   ]
  },
  {
   "cell_type": "code",
   "execution_count": 203,
   "id": "9b2d9504",
   "metadata": {},
   "outputs": [
    {
     "data": {
      "text/plain": [
       "33530"
      ]
     },
     "execution_count": 203,
     "metadata": {},
     "output_type": "execute_result"
    }
   ],
   "source": [
    "unique_cloth_id = list(transaction['newClothId'].unique())\n",
    "len(unique_cloth_id)"
   ]
  },
  {
   "cell_type": "code",
   "execution_count": 204,
   "id": "b27b96b0",
   "metadata": {},
   "outputs": [],
   "source": [
    "a = cloth_meta.newClothId.isin(unique_cloth_id)\n",
    "cloth_meta = cloth_meta[a]\n",
    "cloth_meta.index = range(len(cloth_meta))"
   ]
  },
  {
   "cell_type": "code",
   "execution_count": 205,
   "id": "677ead7b",
   "metadata": {
    "scrolled": false
   },
   "outputs": [],
   "source": [
    "cloth_meta.idx = cloth_meta.idx.astype('int')"
   ]
  },
  {
   "cell_type": "code",
   "execution_count": 206,
   "id": "44d2f2e1",
   "metadata": {},
   "outputs": [],
   "source": [
    "transaction_source = [(transaction['userId'][i], transaction['idx'][i]) for i in range(transaction.shape[0])]"
   ]
  },
  {
   "cell_type": "code",
   "execution_count": 207,
   "id": "d80af2d3",
   "metadata": {},
   "outputs": [
    {
     "name": "stdout",
     "output_type": "stream",
     "text": [
      "userId의 유니크 개수 : 115965\n",
      "clothId의 유니크 개수 : 33530\n",
      "user테이블의 userId의 유니크 개수 : 115965\n",
      "cloth테이블의 clothId의 유니크 개수 : 33530\n"
     ]
    }
   ],
   "source": [
    "print('userId의 유니크 개수 :', len(transaction.userId.unique()))\n",
    "print('clothId의 유니크 개수 :', len(transaction.idx.unique()))\n",
    "print('user테이블의 userId의 유니크 개수 :', len(user_meta.userId.unique()))\n",
    "print('cloth테이블의 clothId의 유니크 개수 :', len(cloth_meta.idx.unique()))"
   ]
  },
  {
   "cell_type": "code",
   "execution_count": 208,
   "id": "21542216",
   "metadata": {},
   "outputs": [
    {
     "data": {
      "text/html": [
       "<div>\n",
       "<style scoped>\n",
       "    .dataframe tbody tr th:only-of-type {\n",
       "        vertical-align: middle;\n",
       "    }\n",
       "\n",
       "    .dataframe tbody tr th {\n",
       "        vertical-align: top;\n",
       "    }\n",
       "\n",
       "    .dataframe thead th {\n",
       "        text-align: right;\n",
       "    }\n",
       "</style>\n",
       "<table border=\"1\" class=\"dataframe\">\n",
       "  <thead>\n",
       "    <tr style=\"text-align: right;\">\n",
       "      <th></th>\n",
       "      <th>userId</th>\n",
       "      <th>size</th>\n",
       "      <th>bright</th>\n",
       "      <th>color</th>\n",
       "      <th>thickness</th>\n",
       "    </tr>\n",
       "  </thead>\n",
       "  <tbody>\n",
       "    <tr>\n",
       "      <th>0</th>\n",
       "      <td>14135</td>\n",
       "      <td>1.428571</td>\n",
       "      <td>2.000000</td>\n",
       "      <td>2.000000</td>\n",
       "      <td>2.000000</td>\n",
       "    </tr>\n",
       "    <tr>\n",
       "      <th>1</th>\n",
       "      <td>14141</td>\n",
       "      <td>1.937500</td>\n",
       "      <td>2.000000</td>\n",
       "      <td>2.000000</td>\n",
       "      <td>2.250000</td>\n",
       "    </tr>\n",
       "    <tr>\n",
       "      <th>2</th>\n",
       "      <td>14146</td>\n",
       "      <td>1.000000</td>\n",
       "      <td>2.000000</td>\n",
       "      <td>2.000000</td>\n",
       "      <td>2.000000</td>\n",
       "    </tr>\n",
       "    <tr>\n",
       "      <th>3</th>\n",
       "      <td>14148</td>\n",
       "      <td>2.000000</td>\n",
       "      <td>2.000000</td>\n",
       "      <td>2.000000</td>\n",
       "      <td>2.000000</td>\n",
       "    </tr>\n",
       "    <tr>\n",
       "      <th>4</th>\n",
       "      <td>14158</td>\n",
       "      <td>1.870968</td>\n",
       "      <td>1.870968</td>\n",
       "      <td>2.000000</td>\n",
       "      <td>2.096774</td>\n",
       "    </tr>\n",
       "    <tr>\n",
       "      <th>...</th>\n",
       "      <td>...</td>\n",
       "      <td>...</td>\n",
       "      <td>...</td>\n",
       "      <td>...</td>\n",
       "      <td>...</td>\n",
       "    </tr>\n",
       "    <tr>\n",
       "      <th>115960</th>\n",
       "      <td>488479</td>\n",
       "      <td>1.884615</td>\n",
       "      <td>1.846154</td>\n",
       "      <td>1.846154</td>\n",
       "      <td>2.000000</td>\n",
       "    </tr>\n",
       "    <tr>\n",
       "      <th>115961</th>\n",
       "      <td>488483</td>\n",
       "      <td>1.000000</td>\n",
       "      <td>2.200000</td>\n",
       "      <td>1.000000</td>\n",
       "      <td>1.400000</td>\n",
       "    </tr>\n",
       "    <tr>\n",
       "      <th>115962</th>\n",
       "      <td>488490</td>\n",
       "      <td>1.583333</td>\n",
       "      <td>2.000000</td>\n",
       "      <td>1.916667</td>\n",
       "      <td>2.083333</td>\n",
       "    </tr>\n",
       "    <tr>\n",
       "      <th>115963</th>\n",
       "      <td>488491</td>\n",
       "      <td>2.000000</td>\n",
       "      <td>1.000000</td>\n",
       "      <td>2.000000</td>\n",
       "      <td>2.000000</td>\n",
       "    </tr>\n",
       "    <tr>\n",
       "      <th>115964</th>\n",
       "      <td>488502</td>\n",
       "      <td>2.000000</td>\n",
       "      <td>2.000000</td>\n",
       "      <td>1.500000</td>\n",
       "      <td>2.000000</td>\n",
       "    </tr>\n",
       "  </tbody>\n",
       "</table>\n",
       "<p>115965 rows × 5 columns</p>\n",
       "</div>"
      ],
      "text/plain": [
       "        userId      size    bright     color  thickness\n",
       "0        14135  1.428571  2.000000  2.000000   2.000000\n",
       "1        14141  1.937500  2.000000  2.000000   2.250000\n",
       "2        14146  1.000000  2.000000  2.000000   2.000000\n",
       "3        14148  2.000000  2.000000  2.000000   2.000000\n",
       "4        14158  1.870968  1.870968  2.000000   2.096774\n",
       "...        ...       ...       ...       ...        ...\n",
       "115960  488479  1.884615  1.846154  1.846154   2.000000\n",
       "115961  488483  1.000000  2.200000  1.000000   1.400000\n",
       "115962  488490  1.583333  2.000000  1.916667   2.083333\n",
       "115963  488491  2.000000  1.000000  2.000000   2.000000\n",
       "115964  488502  2.000000  2.000000  1.500000   2.000000\n",
       "\n",
       "[115965 rows x 5 columns]"
      ]
     },
     "execution_count": 208,
     "metadata": {},
     "output_type": "execute_result"
    }
   ],
   "source": [
    "user_meta"
   ]
  },
  {
   "cell_type": "code",
   "execution_count": 209,
   "id": "ee472fe0",
   "metadata": {
    "scrolled": true
   },
   "outputs": [],
   "source": [
    "user_features_source = [(user_meta['userId'][i],\n",
    "                        [user_meta['size'][i], user_meta['bright'][i], user_meta['color'][i],\n",
    "                        user_meta['thickness'][i]]) for i in range(user_meta.shape[0])]"
   ]
  },
  {
   "cell_type": "code",
   "execution_count": 210,
   "id": "5a7dd0b2",
   "metadata": {},
   "outputs": [],
   "source": [
    "cloth_features_source = [(cloth_meta['idx'][i],\n",
    "                        [cloth_meta['fit'][i], cloth_meta['feeling'][i], cloth_meta['stretch'][i],\n",
    "                        cloth_meta['visibility'][i], cloth_meta['thickness'][i]]) for i in range(cloth_meta.shape[0])]"
   ]
  },
  {
   "cell_type": "code",
   "execution_count": 211,
   "id": "106bbb80",
   "metadata": {},
   "outputs": [],
   "source": [
    "dataset = Dataset()\n",
    "dataset.fit(users=transaction['userId'].unique(),\n",
    "           items=transaction['idx'].unique(),\n",
    "           user_features=user_meta[user_meta.columns[1:]].values.flatten(),\n",
    "           item_features=cloth_meta[cloth_meta.columns[1:]].values.flatten())"
   ]
  },
  {
   "cell_type": "code",
   "execution_count": 212,
   "id": "11a42356",
   "metadata": {},
   "outputs": [],
   "source": [
    "interactions, weights = dataset.build_interactions(transaction_source)"
   ]
  },
  {
   "cell_type": "code",
   "execution_count": 213,
   "id": "908b3a37",
   "metadata": {},
   "outputs": [],
   "source": [
    "user_features = dataset.build_user_features(user_features_source)"
   ]
  },
  {
   "cell_type": "code",
   "execution_count": 214,
   "id": "7d580846",
   "metadata": {
    "scrolled": true
   },
   "outputs": [],
   "source": [
    "cloth_features = dataset.build_item_features(cloth_features_source)"
   ]
  },
  {
   "cell_type": "code",
   "execution_count": 215,
   "id": "df956cdc",
   "metadata": {},
   "outputs": [],
   "source": [
    "train, test = random_train_test_split(interactions, test_percentage=0.2)\n",
    "train, test = train.tocsr().tocoo(), test.tocsr().tocoo()\n",
    "train_weights = train.multiply(weights).tocoo()\n",
    "test_weights = test.multiply(weights).tocoo()"
   ]
  },
  {
   "cell_type": "code",
   "execution_count": 30,
   "id": "03c32a76",
   "metadata": {},
   "outputs": [],
   "source": [
    "# no_components: 10\n",
    "# learning_rate : 0.05\n",
    "trials = Trials()\n",
    "space = [hp.choice('no_components', range(10, 21, 5)),\n",
    "         hp.uniform('learning_rate', 0.05, 0.1)]"
   ]
  },
  {
   "cell_type": "code",
   "execution_count": 85,
   "id": "c147633f",
   "metadata": {},
   "outputs": [],
   "source": [
    "# Define Objective Function\n",
    "def objective(params):\n",
    "    no_components, learning_rate = params\n",
    "    model = LightFM(no_components=no_components,\n",
    "                    learning_schedule='adagrad',\n",
    "                    loss='warp',\n",
    "                    learning_rate=learning_rate,\n",
    "                    random_state=0)\n",
    "\n",
    "    model.fit(interactions=train,\n",
    "              item_features=cloth_features,\n",
    "              user_features=user_features,\n",
    "              sample_weight=train_weights,\n",
    "              epochs=3,\n",
    "              verbose=False)\n",
    "\n",
    "    test_precision = precision_at_k(model, test, k=5, item_features=cloth_features, user_features=user_features).mean()\n",
    "    print(\"no_comp: {}, lrn_rate: {:.5f}, precision: {:.5f}\".format(\n",
    "      no_components, learning_rate, test_precision))\n",
    "    # test_auc = auc_score(model, test, item_features=item_features).mean()\n",
    "    output = -test_precision\n",
    "\n",
    "    if np.abs(output+1) < 0.01 or output < -1.0:\n",
    "        output = 0.0\n",
    "\n",
    "    return output"
   ]
  },
  {
   "cell_type": "code",
   "execution_count": null,
   "id": "9b889fec",
   "metadata": {},
   "outputs": [
    {
     "name": "stdout",
     "output_type": "stream",
     "text": [
      "\r",
      "  0%|          | 0/10 [00:00<?, ?trial/s, best loss=?]"
     ]
    }
   ],
   "source": [
    "best_params = fmin(fn=objective, space=space, algo=tpe.suggest, max_evals=10, trials=trials)"
   ]
  },
  {
   "cell_type": "code",
   "execution_count": 31,
   "id": "eeeed595",
   "metadata": {
    "scrolled": true
   },
   "outputs": [
    {
     "name": "stdout",
     "output_type": "stream",
     "text": [
      "0.05 2\n"
     ]
    }
   ],
   "source": [
    "learning_rate = round(best_params['learning_rate'], 3)\n",
    "no_components = best_params['no_components']\n",
    "print(learning_rate, no_components)"
   ]
  },
  {
   "cell_type": "code",
   "execution_count": 216,
   "id": "de02ac4d",
   "metadata": {},
   "outputs": [],
   "source": [
    "learning_rate = 0.03\n",
    "no_components = 3"
   ]
  },
  {
   "cell_type": "code",
   "execution_count": 217,
   "id": "22d5c726",
   "metadata": {},
   "outputs": [
    {
     "name": "stderr",
     "output_type": "stream",
     "text": [
      "Epoch: 100%|██████████| 10/10 [00:05<00:00,  1.79it/s]\n"
     ]
    },
    {
     "data": {
      "text/plain": [
       "<lightfm.lightfm.LightFM at 0x1f305516b80>"
      ]
     },
     "execution_count": 217,
     "metadata": {},
     "output_type": "execute_result"
    }
   ],
   "source": [
    "model = LightFM(no_components=no_components,\n",
    "                learning_schedule='adagrad',\n",
    "                loss='warp',\n",
    "                learning_rate=learning_rate,\n",
    "                random_state=0)\n",
    "\n",
    "model.fit(interactions=interactions,\n",
    "          item_features=cloth_features,\n",
    "          user_features=user_features,\n",
    "          sample_weight=weights,\n",
    "          epochs=10,\n",
    "          verbose=True)"
   ]
  },
  {
   "cell_type": "code",
   "execution_count": 218,
   "id": "b280b0eb",
   "metadata": {},
   "outputs": [],
   "source": [
    "# 모델 저장하기\n",
    "import pickle\n",
    "with open('model_style_pants.pickle', 'wb') as fw:\n",
    "    pickle.dump(model, fw)"
   ]
  },
  {
   "cell_type": "code",
   "execution_count": 219,
   "id": "4583e5a9",
   "metadata": {},
   "outputs": [],
   "source": [
    "# 모델 불러오기\n",
    "import pickle\n",
    "with open('model_style_pants.pickle', 'rb') as f:\n",
    "    model_pants = pickle.load(f)"
   ]
  },
  {
   "cell_type": "code",
   "execution_count": 220,
   "id": "f4905096",
   "metadata": {},
   "outputs": [],
   "source": [
    "def sample_recommendation(model, idx, user_ids):\n",
    "    cnt = 1\n",
    "    for user_id in user_ids:\n",
    "        if cnt==1:\n",
    "            scores = model.predict(int(user_meta[user_meta.userId==user_id].index[0]), np.arange(len(cloth_meta)))\n",
    "        else:\n",
    "            scores += model.predict(int(user_meta[user_meta.userId==user_id].index[0]), np.arange(len(cloth_meta)))\n",
    "    \n",
    "    top_items = idx[np.argsort(-scores)]\n",
    "    \n",
    "    sub_clothes = []\n",
    "\n",
    "    for x in top_items[:10]:\n",
    "        sub_clothes.append(x)\n",
    "    \n",
    "    rec_clothes = []\n",
    "    \n",
    "    for i in sub_clothes:\n",
    "        rec_clothes.append(cloth_meta[cloth_meta.idx==i].newClothId.iloc[0])\n",
    "    \n",
    "    return rec_clothes"
   ]
  },
  {
   "cell_type": "code",
   "execution_count": 221,
   "id": "7f8e4079",
   "metadata": {
    "scrolled": false
   },
   "outputs": [
    {
     "data": {
      "text/plain": [
       "[17611826560,\n",
       " 214926918340,\n",
       " 141285112055,\n",
       " 23422909921,\n",
       " 162996026109,\n",
       " 166869912945,\n",
       " 21801229810,\n",
       " 131203916970,\n",
       " 164792415298,\n",
       " 174162315741]"
      ]
     },
     "execution_count": 221,
     "metadata": {},
     "output_type": "execute_result"
    }
   ],
   "source": [
    "rec_size_top = sample_recommendation(model_pants, cloth_meta.idx, real_user)\n",
    "rec_size_top"
   ]
  },
  {
   "cell_type": "code",
   "execution_count": 222,
   "id": "cb0ebabb",
   "metadata": {},
   "outputs": [
    {
     "data": {
      "text/plain": [
       "[382066, 42286, 31870]"
      ]
     },
     "execution_count": 222,
     "metadata": {},
     "output_type": "execute_result"
    }
   ],
   "source": [
    "real_user"
   ]
  },
  {
   "cell_type": "code",
   "execution_count": 223,
   "id": "98c4dc9a",
   "metadata": {},
   "outputs": [],
   "source": [
    "cloth_meta.insert(7, 'what', 13, True)\n",
    "user_meta.insert(5, 'what', 13, True)"
   ]
  },
  {
   "cell_type": "code",
   "execution_count": 224,
   "id": "f763579d",
   "metadata": {
    "scrolled": false
   },
   "outputs": [
    {
     "data": {
      "text/html": [
       "<div>\n",
       "<style scoped>\n",
       "    .dataframe tbody tr th:only-of-type {\n",
       "        vertical-align: middle;\n",
       "    }\n",
       "\n",
       "    .dataframe tbody tr th {\n",
       "        vertical-align: top;\n",
       "    }\n",
       "\n",
       "    .dataframe thead th {\n",
       "        text-align: right;\n",
       "    }\n",
       "</style>\n",
       "<table border=\"1\" class=\"dataframe\">\n",
       "  <thead>\n",
       "    <tr style=\"text-align: right;\">\n",
       "      <th></th>\n",
       "      <th>newClothId</th>\n",
       "      <th>idx</th>\n",
       "      <th>what</th>\n",
       "    </tr>\n",
       "  </thead>\n",
       "  <tbody>\n",
       "    <tr>\n",
       "      <th>0</th>\n",
       "      <td>16225354884</td>\n",
       "      <td>11720</td>\n",
       "      <td>13</td>\n",
       "    </tr>\n",
       "    <tr>\n",
       "      <th>1</th>\n",
       "      <td>14988915210</td>\n",
       "      <td>15601</td>\n",
       "      <td>13</td>\n",
       "    </tr>\n",
       "    <tr>\n",
       "      <th>2</th>\n",
       "      <td>19409615513</td>\n",
       "      <td>29005</td>\n",
       "      <td>13</td>\n",
       "    </tr>\n",
       "    <tr>\n",
       "      <th>3</th>\n",
       "      <td>20193975542</td>\n",
       "      <td>22897</td>\n",
       "      <td>13</td>\n",
       "    </tr>\n",
       "    <tr>\n",
       "      <th>4</th>\n",
       "      <td>18466875743</td>\n",
       "      <td>17729</td>\n",
       "      <td>13</td>\n",
       "    </tr>\n",
       "    <tr>\n",
       "      <th>...</th>\n",
       "      <td>...</td>\n",
       "      <td>...</td>\n",
       "      <td>...</td>\n",
       "    </tr>\n",
       "    <tr>\n",
       "      <th>33525</th>\n",
       "      <td>180323169094</td>\n",
       "      <td>6877</td>\n",
       "      <td>13</td>\n",
       "    </tr>\n",
       "    <tr>\n",
       "      <th>33526</th>\n",
       "      <td>182037869103</td>\n",
       "      <td>19148</td>\n",
       "      <td>13</td>\n",
       "    </tr>\n",
       "    <tr>\n",
       "      <th>33527</th>\n",
       "      <td>194119769137</td>\n",
       "      <td>18084</td>\n",
       "      <td>13</td>\n",
       "    </tr>\n",
       "    <tr>\n",
       "      <th>33528</th>\n",
       "      <td>179115969145</td>\n",
       "      <td>16294</td>\n",
       "      <td>13</td>\n",
       "    </tr>\n",
       "    <tr>\n",
       "      <th>33529</th>\n",
       "      <td>153871869161</td>\n",
       "      <td>12900</td>\n",
       "      <td>13</td>\n",
       "    </tr>\n",
       "  </tbody>\n",
       "</table>\n",
       "<p>33530 rows × 3 columns</p>\n",
       "</div>"
      ],
      "text/plain": [
       "         newClothId    idx  what\n",
       "0       16225354884  11720    13\n",
       "1       14988915210  15601    13\n",
       "2       19409615513  29005    13\n",
       "3       20193975542  22897    13\n",
       "4       18466875743  17729    13\n",
       "...             ...    ...   ...\n",
       "33525  180323169094   6877    13\n",
       "33526  182037869103  19148    13\n",
       "33527  194119769137  18084    13\n",
       "33528  179115969145  16294    13\n",
       "33529  153871869161  12900    13\n",
       "\n",
       "[33530 rows x 3 columns]"
      ]
     },
     "execution_count": 224,
     "metadata": {},
     "output_type": "execute_result"
    }
   ],
   "source": [
    "cloth_meta = cloth_meta[[\"newClothId\", \"idx\", 'what']]\n",
    "cloth_meta"
   ]
  },
  {
   "cell_type": "code",
   "execution_count": 225,
   "id": "16f1dc96",
   "metadata": {},
   "outputs": [],
   "source": [
    "cloth_meta.to_json('style_pants_cloth_meta.json', orient='records', force_ascii=False)\n",
    "user_meta.to_json('style_pants_user_meta.json', orient='records', force_ascii=False)"
   ]
  },
  {
   "cell_type": "code",
   "execution_count": 226,
   "id": "4554c0d8",
   "metadata": {},
   "outputs": [
    {
     "data": {
      "text/html": [
       "<div>\n",
       "<style scoped>\n",
       "    .dataframe tbody tr th:only-of-type {\n",
       "        vertical-align: middle;\n",
       "    }\n",
       "\n",
       "    .dataframe tbody tr th {\n",
       "        vertical-align: top;\n",
       "    }\n",
       "\n",
       "    .dataframe thead th {\n",
       "        text-align: right;\n",
       "    }\n",
       "</style>\n",
       "<table border=\"1\" class=\"dataframe\">\n",
       "  <thead>\n",
       "    <tr style=\"text-align: right;\">\n",
       "      <th></th>\n",
       "      <th>userId</th>\n",
       "      <th>size</th>\n",
       "      <th>bright</th>\n",
       "      <th>color</th>\n",
       "      <th>thickness</th>\n",
       "      <th>what</th>\n",
       "    </tr>\n",
       "  </thead>\n",
       "  <tbody>\n",
       "    <tr>\n",
       "      <th>0</th>\n",
       "      <td>14135</td>\n",
       "      <td>1.428571</td>\n",
       "      <td>2.000000</td>\n",
       "      <td>2.000000</td>\n",
       "      <td>2.000000</td>\n",
       "      <td>13</td>\n",
       "    </tr>\n",
       "    <tr>\n",
       "      <th>1</th>\n",
       "      <td>14141</td>\n",
       "      <td>1.937500</td>\n",
       "      <td>2.000000</td>\n",
       "      <td>2.000000</td>\n",
       "      <td>2.250000</td>\n",
       "      <td>13</td>\n",
       "    </tr>\n",
       "    <tr>\n",
       "      <th>2</th>\n",
       "      <td>14146</td>\n",
       "      <td>1.000000</td>\n",
       "      <td>2.000000</td>\n",
       "      <td>2.000000</td>\n",
       "      <td>2.000000</td>\n",
       "      <td>13</td>\n",
       "    </tr>\n",
       "    <tr>\n",
       "      <th>3</th>\n",
       "      <td>14148</td>\n",
       "      <td>2.000000</td>\n",
       "      <td>2.000000</td>\n",
       "      <td>2.000000</td>\n",
       "      <td>2.000000</td>\n",
       "      <td>13</td>\n",
       "    </tr>\n",
       "    <tr>\n",
       "      <th>4</th>\n",
       "      <td>14158</td>\n",
       "      <td>1.870968</td>\n",
       "      <td>1.870968</td>\n",
       "      <td>2.000000</td>\n",
       "      <td>2.096774</td>\n",
       "      <td>13</td>\n",
       "    </tr>\n",
       "    <tr>\n",
       "      <th>...</th>\n",
       "      <td>...</td>\n",
       "      <td>...</td>\n",
       "      <td>...</td>\n",
       "      <td>...</td>\n",
       "      <td>...</td>\n",
       "      <td>...</td>\n",
       "    </tr>\n",
       "    <tr>\n",
       "      <th>115960</th>\n",
       "      <td>488479</td>\n",
       "      <td>1.884615</td>\n",
       "      <td>1.846154</td>\n",
       "      <td>1.846154</td>\n",
       "      <td>2.000000</td>\n",
       "      <td>13</td>\n",
       "    </tr>\n",
       "    <tr>\n",
       "      <th>115961</th>\n",
       "      <td>488483</td>\n",
       "      <td>1.000000</td>\n",
       "      <td>2.200000</td>\n",
       "      <td>1.000000</td>\n",
       "      <td>1.400000</td>\n",
       "      <td>13</td>\n",
       "    </tr>\n",
       "    <tr>\n",
       "      <th>115962</th>\n",
       "      <td>488490</td>\n",
       "      <td>1.583333</td>\n",
       "      <td>2.000000</td>\n",
       "      <td>1.916667</td>\n",
       "      <td>2.083333</td>\n",
       "      <td>13</td>\n",
       "    </tr>\n",
       "    <tr>\n",
       "      <th>115963</th>\n",
       "      <td>488491</td>\n",
       "      <td>2.000000</td>\n",
       "      <td>1.000000</td>\n",
       "      <td>2.000000</td>\n",
       "      <td>2.000000</td>\n",
       "      <td>13</td>\n",
       "    </tr>\n",
       "    <tr>\n",
       "      <th>115964</th>\n",
       "      <td>488502</td>\n",
       "      <td>2.000000</td>\n",
       "      <td>2.000000</td>\n",
       "      <td>1.500000</td>\n",
       "      <td>2.000000</td>\n",
       "      <td>13</td>\n",
       "    </tr>\n",
       "  </tbody>\n",
       "</table>\n",
       "<p>115965 rows × 6 columns</p>\n",
       "</div>"
      ],
      "text/plain": [
       "        userId      size    bright     color  thickness  what\n",
       "0        14135  1.428571  2.000000  2.000000   2.000000    13\n",
       "1        14141  1.937500  2.000000  2.000000   2.250000    13\n",
       "2        14146  1.000000  2.000000  2.000000   2.000000    13\n",
       "3        14148  2.000000  2.000000  2.000000   2.000000    13\n",
       "4        14158  1.870968  1.870968  2.000000   2.096774    13\n",
       "...        ...       ...       ...       ...        ...   ...\n",
       "115960  488479  1.884615  1.846154  1.846154   2.000000    13\n",
       "115961  488483  1.000000  2.200000  1.000000   1.400000    13\n",
       "115962  488490  1.583333  2.000000  1.916667   2.083333    13\n",
       "115963  488491  2.000000  1.000000  2.000000   2.000000    13\n",
       "115964  488502  2.000000  2.000000  1.500000   2.000000    13\n",
       "\n",
       "[115965 rows x 6 columns]"
      ]
     },
     "execution_count": 226,
     "metadata": {},
     "output_type": "execute_result"
    }
   ],
   "source": [
    "user_meta"
   ]
  },
  {
   "cell_type": "code",
   "execution_count": null,
   "id": "d58d1f28",
   "metadata": {},
   "outputs": [],
   "source": []
  },
  {
   "cell_type": "code",
   "execution_count": null,
   "id": "e8a034af",
   "metadata": {},
   "outputs": [],
   "source": []
  },
  {
   "cell_type": "markdown",
   "id": "921921fa",
   "metadata": {},
   "source": [
    "# Onepiece"
   ]
  },
  {
   "cell_type": "code",
   "execution_count": 227,
   "id": "ce59ad5e",
   "metadata": {},
   "outputs": [],
   "source": [
    "transaction = pd.read_json('./transaction_onepiece.json')\n",
    "cloth_meta = pd.read_json('./final_onepiece.json')\n",
    "user_meta = pd.read_json('./user_onepiece.json')\n",
    "transaction = transaction[['userId', 'newClothId', 'shopCnt']]"
   ]
  },
  {
   "cell_type": "code",
   "execution_count": 228,
   "id": "e3585e0b",
   "metadata": {},
   "outputs": [],
   "source": [
    "unique_id_cloth_meta = list(set(cloth_meta.newClothId))\n",
    "transaction=transaction.loc[transaction.newClothId.isin(unique_id_cloth_meta),:]"
   ]
  },
  {
   "cell_type": "code",
   "execution_count": 229,
   "id": "4ceb9200",
   "metadata": {
    "scrolled": false
   },
   "outputs": [],
   "source": [
    "a = transaction[['newClothId']]\n",
    "a.insert(1, 'idx', 0, True)\n",
    "a = a.drop_duplicates(['newClothId'])\n",
    "a.idx = range(len(a))"
   ]
  },
  {
   "cell_type": "code",
   "execution_count": 230,
   "id": "e88e06f0",
   "metadata": {},
   "outputs": [],
   "source": [
    "transaction = pd.merge(transaction, a, how=\"left\", on=\"newClothId\")"
   ]
  },
  {
   "cell_type": "code",
   "execution_count": 231,
   "id": "6defe4f1",
   "metadata": {
    "scrolled": true
   },
   "outputs": [],
   "source": [
    "user_meta = user_meta[style_user_column]"
   ]
  },
  {
   "cell_type": "code",
   "execution_count": 232,
   "id": "f3ff916a",
   "metadata": {},
   "outputs": [
    {
     "data": {
      "text/html": [
       "<div>\n",
       "<style scoped>\n",
       "    .dataframe tbody tr th:only-of-type {\n",
       "        vertical-align: middle;\n",
       "    }\n",
       "\n",
       "    .dataframe tbody tr th {\n",
       "        vertical-align: top;\n",
       "    }\n",
       "\n",
       "    .dataframe thead th {\n",
       "        text-align: right;\n",
       "    }\n",
       "</style>\n",
       "<table border=\"1\" class=\"dataframe\">\n",
       "  <thead>\n",
       "    <tr style=\"text-align: right;\">\n",
       "      <th></th>\n",
       "      <th>userId</th>\n",
       "      <th>size</th>\n",
       "      <th>bright</th>\n",
       "      <th>color</th>\n",
       "      <th>thickness</th>\n",
       "    </tr>\n",
       "  </thead>\n",
       "  <tbody>\n",
       "    <tr>\n",
       "      <th>0</th>\n",
       "      <td>8297</td>\n",
       "      <td>2.0</td>\n",
       "      <td>1.0</td>\n",
       "      <td>2.0</td>\n",
       "      <td>0</td>\n",
       "    </tr>\n",
       "    <tr>\n",
       "      <th>1</th>\n",
       "      <td>8298</td>\n",
       "      <td>2.0</td>\n",
       "      <td>3.0</td>\n",
       "      <td>1.0</td>\n",
       "      <td>0</td>\n",
       "    </tr>\n",
       "    <tr>\n",
       "      <th>2</th>\n",
       "      <td>8299</td>\n",
       "      <td>2.0</td>\n",
       "      <td>1.0</td>\n",
       "      <td>1.0</td>\n",
       "      <td>0</td>\n",
       "    </tr>\n",
       "    <tr>\n",
       "      <th>3</th>\n",
       "      <td>8300</td>\n",
       "      <td>2.0</td>\n",
       "      <td>1.0</td>\n",
       "      <td>2.0</td>\n",
       "      <td>0</td>\n",
       "    </tr>\n",
       "    <tr>\n",
       "      <th>4</th>\n",
       "      <td>8301</td>\n",
       "      <td>1.0</td>\n",
       "      <td>1.0</td>\n",
       "      <td>1.0</td>\n",
       "      <td>0</td>\n",
       "    </tr>\n",
       "    <tr>\n",
       "      <th>...</th>\n",
       "      <td>...</td>\n",
       "      <td>...</td>\n",
       "      <td>...</td>\n",
       "      <td>...</td>\n",
       "      <td>...</td>\n",
       "    </tr>\n",
       "    <tr>\n",
       "      <th>5832</th>\n",
       "      <td>14129</td>\n",
       "      <td>1.5</td>\n",
       "      <td>1.5</td>\n",
       "      <td>1.0</td>\n",
       "      <td>0</td>\n",
       "    </tr>\n",
       "    <tr>\n",
       "      <th>5833</th>\n",
       "      <td>14130</td>\n",
       "      <td>2.0</td>\n",
       "      <td>2.0</td>\n",
       "      <td>2.0</td>\n",
       "      <td>0</td>\n",
       "    </tr>\n",
       "    <tr>\n",
       "      <th>5834</th>\n",
       "      <td>14131</td>\n",
       "      <td>2.0</td>\n",
       "      <td>2.0</td>\n",
       "      <td>2.0</td>\n",
       "      <td>0</td>\n",
       "    </tr>\n",
       "    <tr>\n",
       "      <th>5835</th>\n",
       "      <td>14132</td>\n",
       "      <td>2.0</td>\n",
       "      <td>3.0</td>\n",
       "      <td>1.0</td>\n",
       "      <td>0</td>\n",
       "    </tr>\n",
       "    <tr>\n",
       "      <th>5836</th>\n",
       "      <td>14133</td>\n",
       "      <td>2.0</td>\n",
       "      <td>2.0</td>\n",
       "      <td>2.0</td>\n",
       "      <td>0</td>\n",
       "    </tr>\n",
       "  </tbody>\n",
       "</table>\n",
       "<p>5837 rows × 5 columns</p>\n",
       "</div>"
      ],
      "text/plain": [
       "      userId  size  bright  color  thickness\n",
       "0       8297   2.0     1.0    2.0          0\n",
       "1       8298   2.0     3.0    1.0          0\n",
       "2       8299   2.0     1.0    1.0          0\n",
       "3       8300   2.0     1.0    2.0          0\n",
       "4       8301   1.0     1.0    1.0          0\n",
       "...      ...   ...     ...    ...        ...\n",
       "5832   14129   1.5     1.5    1.0          0\n",
       "5833   14130   2.0     2.0    2.0          0\n",
       "5834   14131   2.0     2.0    2.0          0\n",
       "5835   14132   2.0     3.0    1.0          0\n",
       "5836   14133   2.0     2.0    2.0          0\n",
       "\n",
       "[5837 rows x 5 columns]"
      ]
     },
     "execution_count": 232,
     "metadata": {},
     "output_type": "execute_result"
    }
   ],
   "source": [
    "unique_id_user_meta = list(set(transaction.userId))\n",
    "user_meta=user_meta.loc[user_meta.userId.isin(unique_id_user_meta),:]\n",
    "user_meta = user_meta.reset_index(drop=True)\n",
    "user_meta"
   ]
  },
  {
   "cell_type": "code",
   "execution_count": 233,
   "id": "572e35e1",
   "metadata": {
    "scrolled": false
   },
   "outputs": [
    {
     "data": {
      "text/html": [
       "<div>\n",
       "<style scoped>\n",
       "    .dataframe tbody tr th:only-of-type {\n",
       "        vertical-align: middle;\n",
       "    }\n",
       "\n",
       "    .dataframe tbody tr th {\n",
       "        vertical-align: top;\n",
       "    }\n",
       "\n",
       "    .dataframe thead th {\n",
       "        text-align: right;\n",
       "    }\n",
       "</style>\n",
       "<table border=\"1\" class=\"dataframe\">\n",
       "  <thead>\n",
       "    <tr style=\"text-align: right;\">\n",
       "      <th></th>\n",
       "      <th>userId</th>\n",
       "      <th>size</th>\n",
       "      <th>bright</th>\n",
       "      <th>color</th>\n",
       "      <th>thickness</th>\n",
       "    </tr>\n",
       "  </thead>\n",
       "  <tbody>\n",
       "    <tr>\n",
       "      <th>0</th>\n",
       "      <td>8299.0</td>\n",
       "      <td>0.3</td>\n",
       "      <td>0.3</td>\n",
       "      <td>0.4</td>\n",
       "      <td>0.0</td>\n",
       "    </tr>\n",
       "  </tbody>\n",
       "</table>\n",
       "</div>"
      ],
      "text/plain": [
       "   userId  size  bright  color  thickness\n",
       "0  8299.0   0.3     0.3    0.4        0.0"
      ]
     },
     "execution_count": 233,
     "metadata": {},
     "output_type": "execute_result"
    }
   ],
   "source": [
    "new_user = pd.DataFrame(user_meta.loc[0]).transpose()\n",
    "new_user_idx = new_user.index\n",
    "new_user.loc[new_user_idx, ('userId')] = 8299\n",
    "new_user.loc[new_user_idx, ('size')] = 0.3\n",
    "new_user.loc[new_user_idx, ('bright')] = 0.3\n",
    "new_user.loc[new_user_idx, ('color')] = 0.4\n",
    "new_user.loc[new_user_idx, ('thickness')] = 0\n",
    "new_user = new_user[['userId',  'size', 'bright', 'color', 'thickness']]\n",
    "new_user"
   ]
  },
  {
   "cell_type": "code",
   "execution_count": 234,
   "id": "f398fa87",
   "metadata": {},
   "outputs": [],
   "source": [
    "from copy import deepcopy\n",
    "sub_user = deepcopy(user_meta)"
   ]
  },
  {
   "cell_type": "code",
   "execution_count": 235,
   "id": "a58811d2",
   "metadata": {},
   "outputs": [],
   "source": [
    "sub_user.size = sub_user.apply(lambda x: abs(x.size-new_user['size'].iloc[0]), axis=1)\n",
    "sub_user.bright = sub_user.apply(lambda x: abs(x.bright-new_user['bright'].iloc[0]), axis=1)\n",
    "sub_user.color = sub_user.apply(lambda x: abs(x.color-new_user['color'].iloc[0]), axis=1)\n",
    "sub_user.thickness = sub_user.apply(lambda x: abs(x.thickness-new_user['thickness'].iloc[0]), axis=1)"
   ]
  },
  {
   "cell_type": "code",
   "execution_count": 236,
   "id": "8c02d726",
   "metadata": {},
   "outputs": [],
   "source": [
    "sub_col = list(sub_user.columns)[1:]"
   ]
  },
  {
   "cell_type": "code",
   "execution_count": 237,
   "id": "9e89374b",
   "metadata": {},
   "outputs": [],
   "source": [
    "sub_user.insert(1, 'favorSum', 0, True)\n",
    "sub_user.favorSum = sum(sub_user[col_i] for col_i in sub_col)\n",
    "sub_user = sub_user.sort_values('favorSum')"
   ]
  },
  {
   "cell_type": "code",
   "execution_count": 238,
   "id": "e4c76a4e",
   "metadata": {},
   "outputs": [
    {
     "name": "stdout",
     "output_type": "stream",
     "text": [
      "[8936, 12844, 13730]\n"
     ]
    }
   ],
   "source": [
    "real_user = []\n",
    "for i in range(3):\n",
    "    real_user.append(sub_user.iloc[i].userId)\n",
    "real_user = [int(i) for i in real_user]\n",
    "print(real_user)"
   ]
  },
  {
   "cell_type": "code",
   "execution_count": 239,
   "id": "f6618cdf",
   "metadata": {},
   "outputs": [],
   "source": [
    "cloth_meta = cloth_meta[style_cloth_column]"
   ]
  },
  {
   "cell_type": "code",
   "execution_count": 240,
   "id": "5a5b30be",
   "metadata": {},
   "outputs": [
    {
     "data": {
      "text/html": [
       "<div>\n",
       "<style scoped>\n",
       "    .dataframe tbody tr th:only-of-type {\n",
       "        vertical-align: middle;\n",
       "    }\n",
       "\n",
       "    .dataframe tbody tr th {\n",
       "        vertical-align: top;\n",
       "    }\n",
       "\n",
       "    .dataframe thead th {\n",
       "        text-align: right;\n",
       "    }\n",
       "</style>\n",
       "<table border=\"1\" class=\"dataframe\">\n",
       "  <thead>\n",
       "    <tr style=\"text-align: right;\">\n",
       "      <th></th>\n",
       "      <th>newClothId</th>\n",
       "      <th>fit</th>\n",
       "      <th>feeling</th>\n",
       "      <th>stretch</th>\n",
       "      <th>visibility</th>\n",
       "      <th>thickness</th>\n",
       "    </tr>\n",
       "  </thead>\n",
       "  <tbody>\n",
       "    <tr>\n",
       "      <th>0</th>\n",
       "      <td>1475941</td>\n",
       "      <td>0</td>\n",
       "      <td>0</td>\n",
       "      <td>0</td>\n",
       "      <td>0</td>\n",
       "      <td>0</td>\n",
       "    </tr>\n",
       "    <tr>\n",
       "      <th>1</th>\n",
       "      <td>1995082</td>\n",
       "      <td>3</td>\n",
       "      <td>1</td>\n",
       "      <td>1</td>\n",
       "      <td>2</td>\n",
       "      <td>1</td>\n",
       "    </tr>\n",
       "    <tr>\n",
       "      <th>2</th>\n",
       "      <td>1723870</td>\n",
       "      <td>0</td>\n",
       "      <td>0</td>\n",
       "      <td>0</td>\n",
       "      <td>0</td>\n",
       "      <td>0</td>\n",
       "    </tr>\n",
       "    <tr>\n",
       "      <th>3</th>\n",
       "      <td>2197982</td>\n",
       "      <td>0</td>\n",
       "      <td>0</td>\n",
       "      <td>0</td>\n",
       "      <td>0</td>\n",
       "      <td>0</td>\n",
       "    </tr>\n",
       "    <tr>\n",
       "      <th>4</th>\n",
       "      <td>2247825</td>\n",
       "      <td>0</td>\n",
       "      <td>0</td>\n",
       "      <td>0</td>\n",
       "      <td>0</td>\n",
       "      <td>0</td>\n",
       "    </tr>\n",
       "    <tr>\n",
       "      <th>...</th>\n",
       "      <td>...</td>\n",
       "      <td>...</td>\n",
       "      <td>...</td>\n",
       "      <td>...</td>\n",
       "      <td>...</td>\n",
       "      <td>...</td>\n",
       "    </tr>\n",
       "    <tr>\n",
       "      <th>9870</th>\n",
       "      <td>2324195</td>\n",
       "      <td>0</td>\n",
       "      <td>0</td>\n",
       "      <td>0</td>\n",
       "      <td>0</td>\n",
       "      <td>0</td>\n",
       "    </tr>\n",
       "    <tr>\n",
       "      <th>9871</th>\n",
       "      <td>14649944700</td>\n",
       "      <td>0</td>\n",
       "      <td>0</td>\n",
       "      <td>0</td>\n",
       "      <td>0</td>\n",
       "      <td>0</td>\n",
       "    </tr>\n",
       "    <tr>\n",
       "      <th>9872</th>\n",
       "      <td>2352427</td>\n",
       "      <td>0</td>\n",
       "      <td>0</td>\n",
       "      <td>0</td>\n",
       "      <td>0</td>\n",
       "      <td>0</td>\n",
       "    </tr>\n",
       "    <tr>\n",
       "      <th>9873</th>\n",
       "      <td>1457626</td>\n",
       "      <td>0</td>\n",
       "      <td>0</td>\n",
       "      <td>0</td>\n",
       "      <td>0</td>\n",
       "      <td>0</td>\n",
       "    </tr>\n",
       "    <tr>\n",
       "      <th>9874</th>\n",
       "      <td>1503801</td>\n",
       "      <td>0</td>\n",
       "      <td>0</td>\n",
       "      <td>0</td>\n",
       "      <td>0</td>\n",
       "      <td>0</td>\n",
       "    </tr>\n",
       "  </tbody>\n",
       "</table>\n",
       "<p>9875 rows × 6 columns</p>\n",
       "</div>"
      ],
      "text/plain": [
       "       newClothId  fit  feeling  stretch  visibility  thickness\n",
       "0         1475941    0        0        0           0          0\n",
       "1         1995082    3        1        1           2          1\n",
       "2         1723870    0        0        0           0          0\n",
       "3         2197982    0        0        0           0          0\n",
       "4         2247825    0        0        0           0          0\n",
       "...           ...  ...      ...      ...         ...        ...\n",
       "9870      2324195    0        0        0           0          0\n",
       "9871  14649944700    0        0        0           0          0\n",
       "9872      2352427    0        0        0           0          0\n",
       "9873      1457626    0        0        0           0          0\n",
       "9874      1503801    0        0        0           0          0\n",
       "\n",
       "[9875 rows x 6 columns]"
      ]
     },
     "execution_count": 240,
     "metadata": {},
     "output_type": "execute_result"
    }
   ],
   "source": [
    "cloth_meta"
   ]
  },
  {
   "cell_type": "code",
   "execution_count": 241,
   "id": "d69a64dc",
   "metadata": {},
   "outputs": [],
   "source": [
    "cloth_meta = pd.merge(cloth_meta, a, how=\"left\", on=\"newClothId\")"
   ]
  },
  {
   "cell_type": "code",
   "execution_count": 242,
   "id": "9b2d9504",
   "metadata": {},
   "outputs": [
    {
     "data": {
      "text/plain": [
       "2047"
      ]
     },
     "execution_count": 242,
     "metadata": {},
     "output_type": "execute_result"
    }
   ],
   "source": [
    "unique_cloth_id = list(transaction['newClothId'].unique())\n",
    "len(unique_cloth_id)"
   ]
  },
  {
   "cell_type": "code",
   "execution_count": 243,
   "id": "b27b96b0",
   "metadata": {},
   "outputs": [],
   "source": [
    "a = cloth_meta.newClothId.isin(unique_cloth_id)\n",
    "cloth_meta = cloth_meta[a]\n",
    "cloth_meta.index = range(len(cloth_meta))"
   ]
  },
  {
   "cell_type": "code",
   "execution_count": 244,
   "id": "677ead7b",
   "metadata": {
    "scrolled": false
   },
   "outputs": [],
   "source": [
    "cloth_meta.idx = cloth_meta.idx.astype('int')"
   ]
  },
  {
   "cell_type": "code",
   "execution_count": 245,
   "id": "44d2f2e1",
   "metadata": {},
   "outputs": [],
   "source": [
    "transaction_source = [(transaction['userId'][i], transaction['idx'][i]) for i in range(transaction.shape[0])]"
   ]
  },
  {
   "cell_type": "code",
   "execution_count": 246,
   "id": "d80af2d3",
   "metadata": {},
   "outputs": [
    {
     "name": "stdout",
     "output_type": "stream",
     "text": [
      "userId의 유니크 개수 : 5837\n",
      "clothId의 유니크 개수 : 2047\n",
      "user테이블의 userId의 유니크 개수 : 5837\n",
      "cloth테이블의 clothId의 유니크 개수 : 2047\n"
     ]
    }
   ],
   "source": [
    "print('userId의 유니크 개수 :', len(transaction.userId.unique()))\n",
    "print('clothId의 유니크 개수 :', len(transaction.idx.unique()))\n",
    "print('user테이블의 userId의 유니크 개수 :', len(user_meta.userId.unique()))\n",
    "print('cloth테이블의 clothId의 유니크 개수 :', len(cloth_meta.idx.unique()))"
   ]
  },
  {
   "cell_type": "code",
   "execution_count": 247,
   "id": "28e8a9ae",
   "metadata": {},
   "outputs": [
    {
     "data": {
      "text/html": [
       "<div>\n",
       "<style scoped>\n",
       "    .dataframe tbody tr th:only-of-type {\n",
       "        vertical-align: middle;\n",
       "    }\n",
       "\n",
       "    .dataframe tbody tr th {\n",
       "        vertical-align: top;\n",
       "    }\n",
       "\n",
       "    .dataframe thead th {\n",
       "        text-align: right;\n",
       "    }\n",
       "</style>\n",
       "<table border=\"1\" class=\"dataframe\">\n",
       "  <thead>\n",
       "    <tr style=\"text-align: right;\">\n",
       "      <th></th>\n",
       "      <th>userId</th>\n",
       "      <th>size</th>\n",
       "      <th>bright</th>\n",
       "      <th>color</th>\n",
       "      <th>thickness</th>\n",
       "    </tr>\n",
       "  </thead>\n",
       "  <tbody>\n",
       "    <tr>\n",
       "      <th>0</th>\n",
       "      <td>8297</td>\n",
       "      <td>2.0</td>\n",
       "      <td>1.0</td>\n",
       "      <td>2.0</td>\n",
       "      <td>0</td>\n",
       "    </tr>\n",
       "    <tr>\n",
       "      <th>1</th>\n",
       "      <td>8298</td>\n",
       "      <td>2.0</td>\n",
       "      <td>3.0</td>\n",
       "      <td>1.0</td>\n",
       "      <td>0</td>\n",
       "    </tr>\n",
       "    <tr>\n",
       "      <th>2</th>\n",
       "      <td>8299</td>\n",
       "      <td>2.0</td>\n",
       "      <td>1.0</td>\n",
       "      <td>1.0</td>\n",
       "      <td>0</td>\n",
       "    </tr>\n",
       "    <tr>\n",
       "      <th>3</th>\n",
       "      <td>8300</td>\n",
       "      <td>2.0</td>\n",
       "      <td>1.0</td>\n",
       "      <td>2.0</td>\n",
       "      <td>0</td>\n",
       "    </tr>\n",
       "    <tr>\n",
       "      <th>4</th>\n",
       "      <td>8301</td>\n",
       "      <td>1.0</td>\n",
       "      <td>1.0</td>\n",
       "      <td>1.0</td>\n",
       "      <td>0</td>\n",
       "    </tr>\n",
       "    <tr>\n",
       "      <th>...</th>\n",
       "      <td>...</td>\n",
       "      <td>...</td>\n",
       "      <td>...</td>\n",
       "      <td>...</td>\n",
       "      <td>...</td>\n",
       "    </tr>\n",
       "    <tr>\n",
       "      <th>5832</th>\n",
       "      <td>14129</td>\n",
       "      <td>1.5</td>\n",
       "      <td>1.5</td>\n",
       "      <td>1.0</td>\n",
       "      <td>0</td>\n",
       "    </tr>\n",
       "    <tr>\n",
       "      <th>5833</th>\n",
       "      <td>14130</td>\n",
       "      <td>2.0</td>\n",
       "      <td>2.0</td>\n",
       "      <td>2.0</td>\n",
       "      <td>0</td>\n",
       "    </tr>\n",
       "    <tr>\n",
       "      <th>5834</th>\n",
       "      <td>14131</td>\n",
       "      <td>2.0</td>\n",
       "      <td>2.0</td>\n",
       "      <td>2.0</td>\n",
       "      <td>0</td>\n",
       "    </tr>\n",
       "    <tr>\n",
       "      <th>5835</th>\n",
       "      <td>14132</td>\n",
       "      <td>2.0</td>\n",
       "      <td>3.0</td>\n",
       "      <td>1.0</td>\n",
       "      <td>0</td>\n",
       "    </tr>\n",
       "    <tr>\n",
       "      <th>5836</th>\n",
       "      <td>14133</td>\n",
       "      <td>2.0</td>\n",
       "      <td>2.0</td>\n",
       "      <td>2.0</td>\n",
       "      <td>0</td>\n",
       "    </tr>\n",
       "  </tbody>\n",
       "</table>\n",
       "<p>5837 rows × 5 columns</p>\n",
       "</div>"
      ],
      "text/plain": [
       "      userId  size  bright  color  thickness\n",
       "0       8297   2.0     1.0    2.0          0\n",
       "1       8298   2.0     3.0    1.0          0\n",
       "2       8299   2.0     1.0    1.0          0\n",
       "3       8300   2.0     1.0    2.0          0\n",
       "4       8301   1.0     1.0    1.0          0\n",
       "...      ...   ...     ...    ...        ...\n",
       "5832   14129   1.5     1.5    1.0          0\n",
       "5833   14130   2.0     2.0    2.0          0\n",
       "5834   14131   2.0     2.0    2.0          0\n",
       "5835   14132   2.0     3.0    1.0          0\n",
       "5836   14133   2.0     2.0    2.0          0\n",
       "\n",
       "[5837 rows x 5 columns]"
      ]
     },
     "execution_count": 247,
     "metadata": {},
     "output_type": "execute_result"
    }
   ],
   "source": [
    "user_meta"
   ]
  },
  {
   "cell_type": "code",
   "execution_count": 248,
   "id": "ee472fe0",
   "metadata": {
    "scrolled": true
   },
   "outputs": [],
   "source": [
    "user_features_source = [(user_meta['userId'][i],\n",
    "                        [user_meta['size'][i], user_meta['bright'][i], user_meta['color'][i],\n",
    "                        user_meta['thickness'][i]]) for i in range(user_meta.shape[0])]"
   ]
  },
  {
   "cell_type": "code",
   "execution_count": 249,
   "id": "5a7dd0b2",
   "metadata": {},
   "outputs": [],
   "source": [
    "cloth_features_source = [(cloth_meta['idx'][i],\n",
    "                        [cloth_meta['fit'][i], cloth_meta['feeling'][i], cloth_meta['stretch'][i],\n",
    "                        cloth_meta['visibility'][i], cloth_meta['thickness'][i]]) for i in range(cloth_meta.shape[0])]"
   ]
  },
  {
   "cell_type": "code",
   "execution_count": 250,
   "id": "106bbb80",
   "metadata": {},
   "outputs": [],
   "source": [
    "dataset = Dataset()\n",
    "dataset.fit(users=transaction['userId'].unique(),\n",
    "           items=transaction['idx'].unique(),\n",
    "           user_features=user_meta[user_meta.columns[1:]].values.flatten(),\n",
    "           item_features=cloth_meta[cloth_meta.columns[1:]].values.flatten())"
   ]
  },
  {
   "cell_type": "code",
   "execution_count": 251,
   "id": "11a42356",
   "metadata": {},
   "outputs": [],
   "source": [
    "interactions, weights = dataset.build_interactions(transaction_source)"
   ]
  },
  {
   "cell_type": "code",
   "execution_count": 252,
   "id": "908b3a37",
   "metadata": {},
   "outputs": [],
   "source": [
    "user_features = dataset.build_user_features(user_features_source)"
   ]
  },
  {
   "cell_type": "code",
   "execution_count": 253,
   "id": "7d580846",
   "metadata": {
    "scrolled": true
   },
   "outputs": [],
   "source": [
    "cloth_features = dataset.build_item_features(cloth_features_source)"
   ]
  },
  {
   "cell_type": "code",
   "execution_count": 254,
   "id": "df956cdc",
   "metadata": {},
   "outputs": [],
   "source": [
    "train, test = random_train_test_split(interactions, test_percentage=0.2)\n",
    "train, test = train.tocsr().tocoo(), test.tocsr().tocoo()\n",
    "train_weights = train.multiply(weights).tocoo()\n",
    "test_weights = test.multiply(weights).tocoo()"
   ]
  },
  {
   "cell_type": "code",
   "execution_count": 255,
   "id": "03c32a76",
   "metadata": {},
   "outputs": [],
   "source": [
    "# no_components: 10\n",
    "# learning_rate : 0.05\n",
    "trials = Trials()\n",
    "space = [hp.choice('no_components', range(10, 21, 5)),\n",
    "         hp.uniform('learning_rate', 0.05, 0.1)]"
   ]
  },
  {
   "cell_type": "code",
   "execution_count": 256,
   "id": "c147633f",
   "metadata": {},
   "outputs": [],
   "source": [
    "# Define Objective Function\n",
    "def objective(params):\n",
    "    no_components, learning_rate = params\n",
    "    model = LightFM(no_components=no_components,\n",
    "                    learning_schedule='adagrad',\n",
    "                    loss='warp',\n",
    "                    learning_rate=learning_rate,\n",
    "                    random_state=0)\n",
    "\n",
    "    model.fit(interactions=train,\n",
    "              item_features=cloth_features,\n",
    "              user_features=user_features,\n",
    "              sample_weight=train_weights,\n",
    "              epochs=3,\n",
    "              verbose=False)\n",
    "\n",
    "    test_precision = precision_at_k(model, test, k=5, item_features=cloth_features, user_features=user_features).mean()\n",
    "    print(\"no_comp: {}, lrn_rate: {:.5f}, precision: {:.5f}\".format(\n",
    "      no_components, learning_rate, test_precision))\n",
    "    # test_auc = auc_score(model, test, item_features=item_features).mean()\n",
    "    output = -test_precision\n",
    "\n",
    "    if np.abs(output+1) < 0.01 or output < -1.0:\n",
    "        output = 0.0\n",
    "\n",
    "    return output"
   ]
  },
  {
   "cell_type": "code",
   "execution_count": 257,
   "id": "9b889fec",
   "metadata": {},
   "outputs": [
    {
     "name": "stdout",
     "output_type": "stream",
     "text": [
      "no_comp: 15, lrn_rate: 0.09908, precision: 0.01002    \n",
      "no_comp: 20, lrn_rate: 0.06562, precision: 0.00957                                 \n",
      "no_comp: 20, lrn_rate: 0.08387, precision: 0.00883                                 \n",
      "no_comp: 20, lrn_rate: 0.07244, precision: 0.00868                                 \n",
      "no_comp: 10, lrn_rate: 0.09425, precision: 0.00823                                 \n",
      "no_comp: 10, lrn_rate: 0.05816, precision: 0.00987                                 \n",
      "no_comp: 15, lrn_rate: 0.09676, precision: 0.00942                                 \n",
      "no_comp: 20, lrn_rate: 0.09489, precision: 0.00972                                 \n",
      "no_comp: 20, lrn_rate: 0.05142, precision: 0.00927                                 \n",
      "no_comp: 10, lrn_rate: 0.09477, precision: 0.00927                                 \n",
      "100%|██████████| 10/10 [00:03<00:00,  2.92trial/s, best loss: -0.010022438131272793]\n"
     ]
    }
   ],
   "source": [
    "best_params = fmin(fn=objective, space=space, algo=tpe.suggest, max_evals=10, trials=trials)"
   ]
  },
  {
   "cell_type": "code",
   "execution_count": 258,
   "id": "eeeed595",
   "metadata": {
    "scrolled": true
   },
   "outputs": [
    {
     "name": "stdout",
     "output_type": "stream",
     "text": [
      "0.099 1\n"
     ]
    }
   ],
   "source": [
    "learning_rate = round(best_params['learning_rate'], 3)\n",
    "no_components = best_params['no_components']\n",
    "print(learning_rate, no_components)"
   ]
  },
  {
   "cell_type": "code",
   "execution_count": 259,
   "id": "22d5c726",
   "metadata": {},
   "outputs": [
    {
     "name": "stderr",
     "output_type": "stream",
     "text": [
      "Epoch: 100%|██████████| 10/10 [00:00<00:00, 112.59it/s]\n"
     ]
    },
    {
     "data": {
      "text/plain": [
       "<lightfm.lightfm.LightFM at 0x1f30655e520>"
      ]
     },
     "execution_count": 259,
     "metadata": {},
     "output_type": "execute_result"
    }
   ],
   "source": [
    "model = LightFM(no_components=no_components,\n",
    "                learning_schedule='adagrad',\n",
    "                loss='warp',\n",
    "                learning_rate=learning_rate,\n",
    "                random_state=0)\n",
    "\n",
    "model.fit(interactions=interactions,\n",
    "          item_features=cloth_features,\n",
    "          user_features=user_features,\n",
    "          sample_weight=weights,\n",
    "          epochs=10,\n",
    "          verbose=True)"
   ]
  },
  {
   "cell_type": "code",
   "execution_count": 260,
   "id": "b280b0eb",
   "metadata": {},
   "outputs": [],
   "source": [
    "# 모델 저장하기\n",
    "import pickle\n",
    "with open('model_style_onepiece.pickle', 'wb') as fw:\n",
    "    pickle.dump(model, fw)"
   ]
  },
  {
   "cell_type": "code",
   "execution_count": 261,
   "id": "4583e5a9",
   "metadata": {},
   "outputs": [],
   "source": [
    "# 모델 불러오기\n",
    "import pickle\n",
    "with open('model_style_onepiece.pickle', 'rb') as f:\n",
    "    model_onepiece = pickle.load(f)"
   ]
  },
  {
   "cell_type": "code",
   "execution_count": 262,
   "id": "f4905096",
   "metadata": {},
   "outputs": [],
   "source": [
    "def sample_recommendation(model, idx, user_ids):\n",
    "    cnt = 1\n",
    "    for user_id in user_ids:\n",
    "        if cnt==1:\n",
    "            scores = model.predict(int(user_meta[user_meta.userId==user_id].index[0]), np.arange(len(cloth_meta)))\n",
    "        else:\n",
    "            scores += model.predict(int(user_meta[user_meta.userId==user_id].index[0]), np.arange(len(cloth_meta)))\n",
    "    \n",
    "    top_items = idx[np.argsort(-scores)]\n",
    "    \n",
    "    sub_clothes = []\n",
    "\n",
    "    for x in top_items[:10]:\n",
    "        sub_clothes.append(x)\n",
    "    \n",
    "    rec_clothes = []\n",
    "    \n",
    "    for i in sub_clothes:\n",
    "        rec_clothes.append(cloth_meta[cloth_meta.idx==i].newClothId.iloc[0])\n",
    "    \n",
    "    return rec_clothes"
   ]
  },
  {
   "cell_type": "code",
   "execution_count": 263,
   "id": "7f8e4079",
   "metadata": {
    "scrolled": false
   },
   "outputs": [
    {
     "data": {
      "text/plain": [
       "[14435003027,\n",
       " 19186162758,\n",
       " 19345122958,\n",
       " 21430112964,\n",
       " 23792962867,\n",
       " 21101903074,\n",
       " 20163412966,\n",
       " 19186162757,\n",
       " 18594522933,\n",
       " 13633132986]"
      ]
     },
     "execution_count": 263,
     "metadata": {},
     "output_type": "execute_result"
    }
   ],
   "source": [
    "rec_size_top = sample_recommendation(model_onepiece, cloth_meta.idx, real_user)\n",
    "rec_size_top"
   ]
  },
  {
   "cell_type": "code",
   "execution_count": 264,
   "id": "cb0ebabb",
   "metadata": {},
   "outputs": [
    {
     "data": {
      "text/plain": [
       "[8936, 12844, 13730]"
      ]
     },
     "execution_count": 264,
     "metadata": {},
     "output_type": "execute_result"
    }
   ],
   "source": [
    "real_user"
   ]
  },
  {
   "cell_type": "code",
   "execution_count": 265,
   "id": "98c4dc9a",
   "metadata": {},
   "outputs": [],
   "source": [
    "cloth_meta.insert(7, 'what', 14, True)\n",
    "user_meta.insert(5, 'what', 14, True)"
   ]
  },
  {
   "cell_type": "code",
   "execution_count": 266,
   "id": "f763579d",
   "metadata": {
    "scrolled": false
   },
   "outputs": [
    {
     "data": {
      "text/html": [
       "<div>\n",
       "<style scoped>\n",
       "    .dataframe tbody tr th:only-of-type {\n",
       "        vertical-align: middle;\n",
       "    }\n",
       "\n",
       "    .dataframe tbody tr th {\n",
       "        vertical-align: top;\n",
       "    }\n",
       "\n",
       "    .dataframe thead th {\n",
       "        text-align: right;\n",
       "    }\n",
       "</style>\n",
       "<table border=\"1\" class=\"dataframe\">\n",
       "  <thead>\n",
       "    <tr style=\"text-align: right;\">\n",
       "      <th></th>\n",
       "      <th>newClothId</th>\n",
       "      <th>idx</th>\n",
       "      <th>what</th>\n",
       "    </tr>\n",
       "  </thead>\n",
       "  <tbody>\n",
       "    <tr>\n",
       "      <th>0</th>\n",
       "      <td>14094532674</td>\n",
       "      <td>279</td>\n",
       "      <td>14</td>\n",
       "    </tr>\n",
       "    <tr>\n",
       "      <th>1</th>\n",
       "      <td>14163822698</td>\n",
       "      <td>1239</td>\n",
       "      <td>14</td>\n",
       "    </tr>\n",
       "    <tr>\n",
       "      <th>2</th>\n",
       "      <td>18962342742</td>\n",
       "      <td>78</td>\n",
       "      <td>14</td>\n",
       "    </tr>\n",
       "    <tr>\n",
       "      <th>3</th>\n",
       "      <td>14829532807</td>\n",
       "      <td>1135</td>\n",
       "      <td>14</td>\n",
       "    </tr>\n",
       "    <tr>\n",
       "      <th>4</th>\n",
       "      <td>13617652829</td>\n",
       "      <td>1543</td>\n",
       "      <td>14</td>\n",
       "    </tr>\n",
       "    <tr>\n",
       "      <th>...</th>\n",
       "      <td>...</td>\n",
       "      <td>...</td>\n",
       "      <td>...</td>\n",
       "    </tr>\n",
       "    <tr>\n",
       "      <th>2042</th>\n",
       "      <td>20653784693</td>\n",
       "      <td>298</td>\n",
       "      <td>14</td>\n",
       "    </tr>\n",
       "    <tr>\n",
       "      <th>2043</th>\n",
       "      <td>13105704695</td>\n",
       "      <td>1719</td>\n",
       "      <td>14</td>\n",
       "    </tr>\n",
       "    <tr>\n",
       "      <th>2044</th>\n",
       "      <td>14406794698</td>\n",
       "      <td>837</td>\n",
       "      <td>14</td>\n",
       "    </tr>\n",
       "    <tr>\n",
       "      <th>2045</th>\n",
       "      <td>19412954699</td>\n",
       "      <td>1421</td>\n",
       "      <td>14</td>\n",
       "    </tr>\n",
       "    <tr>\n",
       "      <th>2046</th>\n",
       "      <td>14649944700</td>\n",
       "      <td>1319</td>\n",
       "      <td>14</td>\n",
       "    </tr>\n",
       "  </tbody>\n",
       "</table>\n",
       "<p>2047 rows × 3 columns</p>\n",
       "</div>"
      ],
      "text/plain": [
       "       newClothId   idx  what\n",
       "0     14094532674   279    14\n",
       "1     14163822698  1239    14\n",
       "2     18962342742    78    14\n",
       "3     14829532807  1135    14\n",
       "4     13617652829  1543    14\n",
       "...           ...   ...   ...\n",
       "2042  20653784693   298    14\n",
       "2043  13105704695  1719    14\n",
       "2044  14406794698   837    14\n",
       "2045  19412954699  1421    14\n",
       "2046  14649944700  1319    14\n",
       "\n",
       "[2047 rows x 3 columns]"
      ]
     },
     "execution_count": 266,
     "metadata": {},
     "output_type": "execute_result"
    }
   ],
   "source": [
    "cloth_meta = cloth_meta[[\"newClothId\", \"idx\", 'what']]\n",
    "cloth_meta"
   ]
  },
  {
   "cell_type": "code",
   "execution_count": 267,
   "id": "16f1dc96",
   "metadata": {},
   "outputs": [],
   "source": [
    "cloth_meta.to_json('style_onepiece_cloth_meta.json', orient='records', force_ascii=False)\n",
    "user_meta.to_json('style_onepiece_user_meta.json', orient='records', force_ascii=False)"
   ]
  },
  {
   "cell_type": "code",
   "execution_count": 268,
   "id": "4554c0d8",
   "metadata": {},
   "outputs": [
    {
     "data": {
      "text/html": [
       "<div>\n",
       "<style scoped>\n",
       "    .dataframe tbody tr th:only-of-type {\n",
       "        vertical-align: middle;\n",
       "    }\n",
       "\n",
       "    .dataframe tbody tr th {\n",
       "        vertical-align: top;\n",
       "    }\n",
       "\n",
       "    .dataframe thead th {\n",
       "        text-align: right;\n",
       "    }\n",
       "</style>\n",
       "<table border=\"1\" class=\"dataframe\">\n",
       "  <thead>\n",
       "    <tr style=\"text-align: right;\">\n",
       "      <th></th>\n",
       "      <th>userId</th>\n",
       "      <th>size</th>\n",
       "      <th>bright</th>\n",
       "      <th>color</th>\n",
       "      <th>thickness</th>\n",
       "      <th>what</th>\n",
       "    </tr>\n",
       "  </thead>\n",
       "  <tbody>\n",
       "    <tr>\n",
       "      <th>0</th>\n",
       "      <td>8297</td>\n",
       "      <td>2.0</td>\n",
       "      <td>1.0</td>\n",
       "      <td>2.0</td>\n",
       "      <td>0</td>\n",
       "      <td>14</td>\n",
       "    </tr>\n",
       "    <tr>\n",
       "      <th>1</th>\n",
       "      <td>8298</td>\n",
       "      <td>2.0</td>\n",
       "      <td>3.0</td>\n",
       "      <td>1.0</td>\n",
       "      <td>0</td>\n",
       "      <td>14</td>\n",
       "    </tr>\n",
       "    <tr>\n",
       "      <th>2</th>\n",
       "      <td>8299</td>\n",
       "      <td>2.0</td>\n",
       "      <td>1.0</td>\n",
       "      <td>1.0</td>\n",
       "      <td>0</td>\n",
       "      <td>14</td>\n",
       "    </tr>\n",
       "    <tr>\n",
       "      <th>3</th>\n",
       "      <td>8300</td>\n",
       "      <td>2.0</td>\n",
       "      <td>1.0</td>\n",
       "      <td>2.0</td>\n",
       "      <td>0</td>\n",
       "      <td>14</td>\n",
       "    </tr>\n",
       "    <tr>\n",
       "      <th>4</th>\n",
       "      <td>8301</td>\n",
       "      <td>1.0</td>\n",
       "      <td>1.0</td>\n",
       "      <td>1.0</td>\n",
       "      <td>0</td>\n",
       "      <td>14</td>\n",
       "    </tr>\n",
       "    <tr>\n",
       "      <th>...</th>\n",
       "      <td>...</td>\n",
       "      <td>...</td>\n",
       "      <td>...</td>\n",
       "      <td>...</td>\n",
       "      <td>...</td>\n",
       "      <td>...</td>\n",
       "    </tr>\n",
       "    <tr>\n",
       "      <th>5832</th>\n",
       "      <td>14129</td>\n",
       "      <td>1.5</td>\n",
       "      <td>1.5</td>\n",
       "      <td>1.0</td>\n",
       "      <td>0</td>\n",
       "      <td>14</td>\n",
       "    </tr>\n",
       "    <tr>\n",
       "      <th>5833</th>\n",
       "      <td>14130</td>\n",
       "      <td>2.0</td>\n",
       "      <td>2.0</td>\n",
       "      <td>2.0</td>\n",
       "      <td>0</td>\n",
       "      <td>14</td>\n",
       "    </tr>\n",
       "    <tr>\n",
       "      <th>5834</th>\n",
       "      <td>14131</td>\n",
       "      <td>2.0</td>\n",
       "      <td>2.0</td>\n",
       "      <td>2.0</td>\n",
       "      <td>0</td>\n",
       "      <td>14</td>\n",
       "    </tr>\n",
       "    <tr>\n",
       "      <th>5835</th>\n",
       "      <td>14132</td>\n",
       "      <td>2.0</td>\n",
       "      <td>3.0</td>\n",
       "      <td>1.0</td>\n",
       "      <td>0</td>\n",
       "      <td>14</td>\n",
       "    </tr>\n",
       "    <tr>\n",
       "      <th>5836</th>\n",
       "      <td>14133</td>\n",
       "      <td>2.0</td>\n",
       "      <td>2.0</td>\n",
       "      <td>2.0</td>\n",
       "      <td>0</td>\n",
       "      <td>14</td>\n",
       "    </tr>\n",
       "  </tbody>\n",
       "</table>\n",
       "<p>5837 rows × 6 columns</p>\n",
       "</div>"
      ],
      "text/plain": [
       "      userId  size  bright  color  thickness  what\n",
       "0       8297   2.0     1.0    2.0          0    14\n",
       "1       8298   2.0     3.0    1.0          0    14\n",
       "2       8299   2.0     1.0    1.0          0    14\n",
       "3       8300   2.0     1.0    2.0          0    14\n",
       "4       8301   1.0     1.0    1.0          0    14\n",
       "...      ...   ...     ...    ...        ...   ...\n",
       "5832   14129   1.5     1.5    1.0          0    14\n",
       "5833   14130   2.0     2.0    2.0          0    14\n",
       "5834   14131   2.0     2.0    2.0          0    14\n",
       "5835   14132   2.0     3.0    1.0          0    14\n",
       "5836   14133   2.0     2.0    2.0          0    14\n",
       "\n",
       "[5837 rows x 6 columns]"
      ]
     },
     "execution_count": 268,
     "metadata": {},
     "output_type": "execute_result"
    }
   ],
   "source": [
    "user_meta"
   ]
  },
  {
   "cell_type": "code",
   "execution_count": null,
   "id": "ff36698a",
   "metadata": {},
   "outputs": [],
   "source": []
  },
  {
   "cell_type": "code",
   "execution_count": null,
   "id": "dda7ebc8",
   "metadata": {},
   "outputs": [],
   "source": []
  },
  {
   "cell_type": "markdown",
   "id": "be40be92",
   "metadata": {},
   "source": [
    "# Skirt"
   ]
  },
  {
   "cell_type": "code",
   "execution_count": 269,
   "id": "ce59ad5e",
   "metadata": {},
   "outputs": [],
   "source": [
    "transaction = pd.read_json('./transaction_skirt.json')\n",
    "cloth_meta = pd.read_json('./final_skirt.json')\n",
    "user_meta = pd.read_json('./user_skirt.json')\n",
    "transaction = transaction[['userId', 'newClothId', 'shopCnt']]"
   ]
  },
  {
   "cell_type": "code",
   "execution_count": 270,
   "id": "e3585e0b",
   "metadata": {},
   "outputs": [],
   "source": [
    "unique_id_cloth_meta = list(set(cloth_meta.newClothId))\n",
    "transaction=transaction.loc[transaction.newClothId.isin(unique_id_cloth_meta),:]"
   ]
  },
  {
   "cell_type": "code",
   "execution_count": 271,
   "id": "4ceb9200",
   "metadata": {
    "scrolled": false
   },
   "outputs": [],
   "source": [
    "a = transaction[['newClothId']]\n",
    "a.insert(1, 'idx', 0, True)\n",
    "a = a.drop_duplicates(['newClothId'])\n",
    "a.idx = range(len(a))"
   ]
  },
  {
   "cell_type": "code",
   "execution_count": 272,
   "id": "e88e06f0",
   "metadata": {},
   "outputs": [],
   "source": [
    "transaction = pd.merge(transaction, a, how=\"left\", on=\"newClothId\")"
   ]
  },
  {
   "cell_type": "code",
   "execution_count": 273,
   "id": "6defe4f1",
   "metadata": {
    "scrolled": true
   },
   "outputs": [],
   "source": [
    "user_meta = user_meta[style_user_column]"
   ]
  },
  {
   "cell_type": "code",
   "execution_count": 274,
   "id": "f3ff916a",
   "metadata": {},
   "outputs": [
    {
     "data": {
      "text/html": [
       "<div>\n",
       "<style scoped>\n",
       "    .dataframe tbody tr th:only-of-type {\n",
       "        vertical-align: middle;\n",
       "    }\n",
       "\n",
       "    .dataframe tbody tr th {\n",
       "        vertical-align: top;\n",
       "    }\n",
       "\n",
       "    .dataframe thead th {\n",
       "        text-align: right;\n",
       "    }\n",
       "</style>\n",
       "<table border=\"1\" class=\"dataframe\">\n",
       "  <thead>\n",
       "    <tr style=\"text-align: right;\">\n",
       "      <th></th>\n",
       "      <th>userId</th>\n",
       "      <th>size</th>\n",
       "      <th>bright</th>\n",
       "      <th>color</th>\n",
       "      <th>thickness</th>\n",
       "    </tr>\n",
       "  </thead>\n",
       "  <tbody>\n",
       "    <tr>\n",
       "      <th>0</th>\n",
       "      <td>0</td>\n",
       "      <td>2.0</td>\n",
       "      <td>2.0</td>\n",
       "      <td>2.00</td>\n",
       "      <td>0.0</td>\n",
       "    </tr>\n",
       "    <tr>\n",
       "      <th>1</th>\n",
       "      <td>1</td>\n",
       "      <td>2.0</td>\n",
       "      <td>2.0</td>\n",
       "      <td>2.00</td>\n",
       "      <td>0.0</td>\n",
       "    </tr>\n",
       "    <tr>\n",
       "      <th>2</th>\n",
       "      <td>2</td>\n",
       "      <td>1.0</td>\n",
       "      <td>2.0</td>\n",
       "      <td>2.00</td>\n",
       "      <td>0.0</td>\n",
       "    </tr>\n",
       "    <tr>\n",
       "      <th>3</th>\n",
       "      <td>3</td>\n",
       "      <td>2.0</td>\n",
       "      <td>2.0</td>\n",
       "      <td>1.00</td>\n",
       "      <td>0.0</td>\n",
       "    </tr>\n",
       "    <tr>\n",
       "      <th>4</th>\n",
       "      <td>4</td>\n",
       "      <td>1.5</td>\n",
       "      <td>1.5</td>\n",
       "      <td>1.25</td>\n",
       "      <td>0.0</td>\n",
       "    </tr>\n",
       "    <tr>\n",
       "      <th>...</th>\n",
       "      <td>...</td>\n",
       "      <td>...</td>\n",
       "      <td>...</td>\n",
       "      <td>...</td>\n",
       "      <td>...</td>\n",
       "    </tr>\n",
       "    <tr>\n",
       "      <th>8292</th>\n",
       "      <td>8292</td>\n",
       "      <td>3.0</td>\n",
       "      <td>3.0</td>\n",
       "      <td>1.00</td>\n",
       "      <td>0.0</td>\n",
       "    </tr>\n",
       "    <tr>\n",
       "      <th>8293</th>\n",
       "      <td>8293</td>\n",
       "      <td>2.0</td>\n",
       "      <td>2.0</td>\n",
       "      <td>1.00</td>\n",
       "      <td>0.0</td>\n",
       "    </tr>\n",
       "    <tr>\n",
       "      <th>8294</th>\n",
       "      <td>8294</td>\n",
       "      <td>2.0</td>\n",
       "      <td>2.0</td>\n",
       "      <td>2.00</td>\n",
       "      <td>0.0</td>\n",
       "    </tr>\n",
       "    <tr>\n",
       "      <th>8295</th>\n",
       "      <td>8295</td>\n",
       "      <td>2.0</td>\n",
       "      <td>2.0</td>\n",
       "      <td>2.00</td>\n",
       "      <td>0.0</td>\n",
       "    </tr>\n",
       "    <tr>\n",
       "      <th>8296</th>\n",
       "      <td>8296</td>\n",
       "      <td>2.0</td>\n",
       "      <td>2.0</td>\n",
       "      <td>2.00</td>\n",
       "      <td>0.0</td>\n",
       "    </tr>\n",
       "  </tbody>\n",
       "</table>\n",
       "<p>8297 rows × 5 columns</p>\n",
       "</div>"
      ],
      "text/plain": [
       "      userId  size  bright  color  thickness\n",
       "0          0   2.0     2.0   2.00        0.0\n",
       "1          1   2.0     2.0   2.00        0.0\n",
       "2          2   1.0     2.0   2.00        0.0\n",
       "3          3   2.0     2.0   1.00        0.0\n",
       "4          4   1.5     1.5   1.25        0.0\n",
       "...      ...   ...     ...    ...        ...\n",
       "8292    8292   3.0     3.0   1.00        0.0\n",
       "8293    8293   2.0     2.0   1.00        0.0\n",
       "8294    8294   2.0     2.0   2.00        0.0\n",
       "8295    8295   2.0     2.0   2.00        0.0\n",
       "8296    8296   2.0     2.0   2.00        0.0\n",
       "\n",
       "[8297 rows x 5 columns]"
      ]
     },
     "execution_count": 274,
     "metadata": {},
     "output_type": "execute_result"
    }
   ],
   "source": [
    "unique_id_user_meta = list(set(transaction.userId))\n",
    "user_meta=user_meta.loc[user_meta.userId.isin(unique_id_user_meta),:]\n",
    "user_meta = user_meta.reset_index(drop=True)\n",
    "user_meta"
   ]
  },
  {
   "cell_type": "code",
   "execution_count": 275,
   "id": "572e35e1",
   "metadata": {
    "scrolled": false
   },
   "outputs": [
    {
     "data": {
      "text/html": [
       "<div>\n",
       "<style scoped>\n",
       "    .dataframe tbody tr th:only-of-type {\n",
       "        vertical-align: middle;\n",
       "    }\n",
       "\n",
       "    .dataframe tbody tr th {\n",
       "        vertical-align: top;\n",
       "    }\n",
       "\n",
       "    .dataframe thead th {\n",
       "        text-align: right;\n",
       "    }\n",
       "</style>\n",
       "<table border=\"1\" class=\"dataframe\">\n",
       "  <thead>\n",
       "    <tr style=\"text-align: right;\">\n",
       "      <th></th>\n",
       "      <th>userId</th>\n",
       "      <th>size</th>\n",
       "      <th>bright</th>\n",
       "      <th>color</th>\n",
       "      <th>thickness</th>\n",
       "    </tr>\n",
       "  </thead>\n",
       "  <tbody>\n",
       "    <tr>\n",
       "      <th>0</th>\n",
       "      <td>8299.0</td>\n",
       "      <td>0.3</td>\n",
       "      <td>0.3</td>\n",
       "      <td>0.4</td>\n",
       "      <td>0.0</td>\n",
       "    </tr>\n",
       "  </tbody>\n",
       "</table>\n",
       "</div>"
      ],
      "text/plain": [
       "   userId  size  bright  color  thickness\n",
       "0  8299.0   0.3     0.3    0.4        0.0"
      ]
     },
     "execution_count": 275,
     "metadata": {},
     "output_type": "execute_result"
    }
   ],
   "source": [
    "new_user = pd.DataFrame(user_meta.loc[0]).transpose()\n",
    "new_user_idx = new_user.index\n",
    "new_user.loc[new_user_idx, ('userId')] = 8299\n",
    "new_user.loc[new_user_idx, ('size')] = 0.3\n",
    "new_user.loc[new_user_idx, ('bright')] = 0.3\n",
    "new_user.loc[new_user_idx, ('color')] = 0.4\n",
    "new_user.loc[new_user_idx, ('thickness')] = 0\n",
    "new_user = new_user[['userId',  'size', 'bright', 'color', 'thickness']]\n",
    "new_user"
   ]
  },
  {
   "cell_type": "code",
   "execution_count": 276,
   "id": "aec769af",
   "metadata": {},
   "outputs": [],
   "source": [
    "from copy import deepcopy\n",
    "sub_user = deepcopy(user_meta)"
   ]
  },
  {
   "cell_type": "code",
   "execution_count": 277,
   "id": "a58811d2",
   "metadata": {},
   "outputs": [],
   "source": [
    "sub_user.size = sub_user.apply(lambda x: abs(x.size-new_user['size'].iloc[0]), axis=1)\n",
    "sub_user.bright = sub_user.apply(lambda x: abs(x.bright-new_user['bright'].iloc[0]), axis=1)\n",
    "sub_user.color = sub_user.apply(lambda x: abs(x.color-new_user['color'].iloc[0]), axis=1)\n",
    "sub_user.thickness = sub_user.apply(lambda x: abs(x.thickness-new_user['thickness'].iloc[0]), axis=1)"
   ]
  },
  {
   "cell_type": "code",
   "execution_count": 278,
   "id": "8c02d726",
   "metadata": {},
   "outputs": [],
   "source": [
    "sub_col = list(sub_user.columns)[1:]"
   ]
  },
  {
   "cell_type": "code",
   "execution_count": 279,
   "id": "9e89374b",
   "metadata": {},
   "outputs": [],
   "source": [
    "sub_user.insert(1, 'favorSum', 0, True)\n",
    "sub_user.favorSum = sum(sub_user[col_i] for col_i in sub_col)\n",
    "sub_user = sub_user.sort_values('favorSum')"
   ]
  },
  {
   "cell_type": "code",
   "execution_count": 280,
   "id": "e4c76a4e",
   "metadata": {},
   "outputs": [
    {
     "name": "stdout",
     "output_type": "stream",
     "text": [
      "[6802, 1006, 5145]\n"
     ]
    }
   ],
   "source": [
    "real_user = []\n",
    "for i in range(3):\n",
    "    real_user.append(sub_user.iloc[i].userId)\n",
    "real_user = [int(i) for i in real_user]\n",
    "print(real_user)"
   ]
  },
  {
   "cell_type": "code",
   "execution_count": 281,
   "id": "f6618cdf",
   "metadata": {},
   "outputs": [],
   "source": [
    "cloth_meta = cloth_meta[style_cloth_column]"
   ]
  },
  {
   "cell_type": "code",
   "execution_count": 282,
   "id": "5a5b30be",
   "metadata": {},
   "outputs": [
    {
     "data": {
      "text/html": [
       "<div>\n",
       "<style scoped>\n",
       "    .dataframe tbody tr th:only-of-type {\n",
       "        vertical-align: middle;\n",
       "    }\n",
       "\n",
       "    .dataframe tbody tr th {\n",
       "        vertical-align: top;\n",
       "    }\n",
       "\n",
       "    .dataframe thead th {\n",
       "        text-align: right;\n",
       "    }\n",
       "</style>\n",
       "<table border=\"1\" class=\"dataframe\">\n",
       "  <thead>\n",
       "    <tr style=\"text-align: right;\">\n",
       "      <th></th>\n",
       "      <th>newClothId</th>\n",
       "      <th>fit</th>\n",
       "      <th>feeling</th>\n",
       "      <th>stretch</th>\n",
       "      <th>visibility</th>\n",
       "      <th>thickness</th>\n",
       "    </tr>\n",
       "  </thead>\n",
       "  <tbody>\n",
       "    <tr>\n",
       "      <th>0</th>\n",
       "      <td>2018790</td>\n",
       "      <td>5</td>\n",
       "      <td>1</td>\n",
       "      <td>5</td>\n",
       "      <td>5</td>\n",
       "      <td>3</td>\n",
       "    </tr>\n",
       "    <tr>\n",
       "      <th>1</th>\n",
       "      <td>1844574</td>\n",
       "      <td>0</td>\n",
       "      <td>0</td>\n",
       "      <td>0</td>\n",
       "      <td>0</td>\n",
       "      <td>0</td>\n",
       "    </tr>\n",
       "    <tr>\n",
       "      <th>2</th>\n",
       "      <td>1672093</td>\n",
       "      <td>3</td>\n",
       "      <td>3</td>\n",
       "      <td>1</td>\n",
       "      <td>5</td>\n",
       "      <td>5</td>\n",
       "    </tr>\n",
       "    <tr>\n",
       "      <th>3</th>\n",
       "      <td>1687533</td>\n",
       "      <td>2</td>\n",
       "      <td>3</td>\n",
       "      <td>1</td>\n",
       "      <td>5</td>\n",
       "      <td>4</td>\n",
       "    </tr>\n",
       "    <tr>\n",
       "      <th>4</th>\n",
       "      <td>2338446</td>\n",
       "      <td>0</td>\n",
       "      <td>0</td>\n",
       "      <td>0</td>\n",
       "      <td>0</td>\n",
       "      <td>0</td>\n",
       "    </tr>\n",
       "    <tr>\n",
       "      <th>...</th>\n",
       "      <td>...</td>\n",
       "      <td>...</td>\n",
       "      <td>...</td>\n",
       "      <td>...</td>\n",
       "      <td>...</td>\n",
       "      <td>...</td>\n",
       "    </tr>\n",
       "    <tr>\n",
       "      <th>8871</th>\n",
       "      <td>21172562649</td>\n",
       "      <td>2</td>\n",
       "      <td>2</td>\n",
       "      <td>5</td>\n",
       "      <td>5</td>\n",
       "      <td>3</td>\n",
       "    </tr>\n",
       "    <tr>\n",
       "      <th>8872</th>\n",
       "      <td>21172562648</td>\n",
       "      <td>2</td>\n",
       "      <td>2</td>\n",
       "      <td>5</td>\n",
       "      <td>5</td>\n",
       "      <td>3</td>\n",
       "    </tr>\n",
       "    <tr>\n",
       "      <th>8873</th>\n",
       "      <td>23400702652</td>\n",
       "      <td>2</td>\n",
       "      <td>2</td>\n",
       "      <td>4</td>\n",
       "      <td>5</td>\n",
       "      <td>3</td>\n",
       "    </tr>\n",
       "    <tr>\n",
       "      <th>8874</th>\n",
       "      <td>23400702653</td>\n",
       "      <td>2</td>\n",
       "      <td>2</td>\n",
       "      <td>4</td>\n",
       "      <td>5</td>\n",
       "      <td>3</td>\n",
       "    </tr>\n",
       "    <tr>\n",
       "      <th>8875</th>\n",
       "      <td>2340082</td>\n",
       "      <td>2</td>\n",
       "      <td>3</td>\n",
       "      <td>3</td>\n",
       "      <td>5</td>\n",
       "      <td>0</td>\n",
       "    </tr>\n",
       "  </tbody>\n",
       "</table>\n",
       "<p>8876 rows × 6 columns</p>\n",
       "</div>"
      ],
      "text/plain": [
       "       newClothId  fit  feeling  stretch  visibility  thickness\n",
       "0         2018790    5        1        5           5          3\n",
       "1         1844574    0        0        0           0          0\n",
       "2         1672093    3        3        1           5          5\n",
       "3         1687533    2        3        1           5          4\n",
       "4         2338446    0        0        0           0          0\n",
       "...           ...  ...      ...      ...         ...        ...\n",
       "8871  21172562649    2        2        5           5          3\n",
       "8872  21172562648    2        2        5           5          3\n",
       "8873  23400702652    2        2        4           5          3\n",
       "8874  23400702653    2        2        4           5          3\n",
       "8875      2340082    2        3        3           5          0\n",
       "\n",
       "[8876 rows x 6 columns]"
      ]
     },
     "execution_count": 282,
     "metadata": {},
     "output_type": "execute_result"
    }
   ],
   "source": [
    "cloth_meta"
   ]
  },
  {
   "cell_type": "code",
   "execution_count": 283,
   "id": "d69a64dc",
   "metadata": {},
   "outputs": [],
   "source": [
    "cloth_meta = pd.merge(cloth_meta, a, how=\"left\", on=\"newClothId\")"
   ]
  },
  {
   "cell_type": "code",
   "execution_count": 284,
   "id": "9b2d9504",
   "metadata": {},
   "outputs": [
    {
     "data": {
      "text/plain": [
       "2654"
      ]
     },
     "execution_count": 284,
     "metadata": {},
     "output_type": "execute_result"
    }
   ],
   "source": [
    "unique_cloth_id = list(transaction['newClothId'].unique())\n",
    "len(unique_cloth_id)"
   ]
  },
  {
   "cell_type": "code",
   "execution_count": 285,
   "id": "b27b96b0",
   "metadata": {},
   "outputs": [],
   "source": [
    "a = cloth_meta.newClothId.isin(unique_cloth_id)\n",
    "cloth_meta = cloth_meta[a]\n",
    "cloth_meta.index = range(len(cloth_meta))"
   ]
  },
  {
   "cell_type": "code",
   "execution_count": 286,
   "id": "677ead7b",
   "metadata": {
    "scrolled": false
   },
   "outputs": [],
   "source": [
    "cloth_meta.idx = cloth_meta.idx.astype('int')"
   ]
  },
  {
   "cell_type": "code",
   "execution_count": 287,
   "id": "44d2f2e1",
   "metadata": {},
   "outputs": [],
   "source": [
    "transaction_source = [(transaction['userId'][i], transaction['idx'][i]) for i in range(transaction.shape[0])]"
   ]
  },
  {
   "cell_type": "code",
   "execution_count": 288,
   "id": "d80af2d3",
   "metadata": {},
   "outputs": [
    {
     "name": "stdout",
     "output_type": "stream",
     "text": [
      "userId의 유니크 개수 : 8297\n",
      "clothId의 유니크 개수 : 2654\n",
      "user테이블의 userId의 유니크 개수 : 8297\n",
      "cloth테이블의 clothId의 유니크 개수 : 2654\n"
     ]
    }
   ],
   "source": [
    "print('userId의 유니크 개수 :', len(transaction.userId.unique()))\n",
    "print('clothId의 유니크 개수 :', len(transaction.idx.unique()))\n",
    "print('user테이블의 userId의 유니크 개수 :', len(user_meta.userId.unique()))\n",
    "print('cloth테이블의 clothId의 유니크 개수 :', len(cloth_meta.idx.unique()))"
   ]
  },
  {
   "cell_type": "code",
   "execution_count": 289,
   "id": "d50f53b5",
   "metadata": {},
   "outputs": [
    {
     "data": {
      "text/html": [
       "<div>\n",
       "<style scoped>\n",
       "    .dataframe tbody tr th:only-of-type {\n",
       "        vertical-align: middle;\n",
       "    }\n",
       "\n",
       "    .dataframe tbody tr th {\n",
       "        vertical-align: top;\n",
       "    }\n",
       "\n",
       "    .dataframe thead th {\n",
       "        text-align: right;\n",
       "    }\n",
       "</style>\n",
       "<table border=\"1\" class=\"dataframe\">\n",
       "  <thead>\n",
       "    <tr style=\"text-align: right;\">\n",
       "      <th></th>\n",
       "      <th>userId</th>\n",
       "      <th>size</th>\n",
       "      <th>bright</th>\n",
       "      <th>color</th>\n",
       "      <th>thickness</th>\n",
       "    </tr>\n",
       "  </thead>\n",
       "  <tbody>\n",
       "    <tr>\n",
       "      <th>0</th>\n",
       "      <td>0</td>\n",
       "      <td>2.0</td>\n",
       "      <td>2.0</td>\n",
       "      <td>2.00</td>\n",
       "      <td>0.0</td>\n",
       "    </tr>\n",
       "    <tr>\n",
       "      <th>1</th>\n",
       "      <td>1</td>\n",
       "      <td>2.0</td>\n",
       "      <td>2.0</td>\n",
       "      <td>2.00</td>\n",
       "      <td>0.0</td>\n",
       "    </tr>\n",
       "    <tr>\n",
       "      <th>2</th>\n",
       "      <td>2</td>\n",
       "      <td>1.0</td>\n",
       "      <td>2.0</td>\n",
       "      <td>2.00</td>\n",
       "      <td>0.0</td>\n",
       "    </tr>\n",
       "    <tr>\n",
       "      <th>3</th>\n",
       "      <td>3</td>\n",
       "      <td>2.0</td>\n",
       "      <td>2.0</td>\n",
       "      <td>1.00</td>\n",
       "      <td>0.0</td>\n",
       "    </tr>\n",
       "    <tr>\n",
       "      <th>4</th>\n",
       "      <td>4</td>\n",
       "      <td>1.5</td>\n",
       "      <td>1.5</td>\n",
       "      <td>1.25</td>\n",
       "      <td>0.0</td>\n",
       "    </tr>\n",
       "    <tr>\n",
       "      <th>...</th>\n",
       "      <td>...</td>\n",
       "      <td>...</td>\n",
       "      <td>...</td>\n",
       "      <td>...</td>\n",
       "      <td>...</td>\n",
       "    </tr>\n",
       "    <tr>\n",
       "      <th>8292</th>\n",
       "      <td>8292</td>\n",
       "      <td>3.0</td>\n",
       "      <td>3.0</td>\n",
       "      <td>1.00</td>\n",
       "      <td>0.0</td>\n",
       "    </tr>\n",
       "    <tr>\n",
       "      <th>8293</th>\n",
       "      <td>8293</td>\n",
       "      <td>2.0</td>\n",
       "      <td>2.0</td>\n",
       "      <td>1.00</td>\n",
       "      <td>0.0</td>\n",
       "    </tr>\n",
       "    <tr>\n",
       "      <th>8294</th>\n",
       "      <td>8294</td>\n",
       "      <td>2.0</td>\n",
       "      <td>2.0</td>\n",
       "      <td>2.00</td>\n",
       "      <td>0.0</td>\n",
       "    </tr>\n",
       "    <tr>\n",
       "      <th>8295</th>\n",
       "      <td>8295</td>\n",
       "      <td>2.0</td>\n",
       "      <td>2.0</td>\n",
       "      <td>2.00</td>\n",
       "      <td>0.0</td>\n",
       "    </tr>\n",
       "    <tr>\n",
       "      <th>8296</th>\n",
       "      <td>8296</td>\n",
       "      <td>2.0</td>\n",
       "      <td>2.0</td>\n",
       "      <td>2.00</td>\n",
       "      <td>0.0</td>\n",
       "    </tr>\n",
       "  </tbody>\n",
       "</table>\n",
       "<p>8297 rows × 5 columns</p>\n",
       "</div>"
      ],
      "text/plain": [
       "      userId  size  bright  color  thickness\n",
       "0          0   2.0     2.0   2.00        0.0\n",
       "1          1   2.0     2.0   2.00        0.0\n",
       "2          2   1.0     2.0   2.00        0.0\n",
       "3          3   2.0     2.0   1.00        0.0\n",
       "4          4   1.5     1.5   1.25        0.0\n",
       "...      ...   ...     ...    ...        ...\n",
       "8292    8292   3.0     3.0   1.00        0.0\n",
       "8293    8293   2.0     2.0   1.00        0.0\n",
       "8294    8294   2.0     2.0   2.00        0.0\n",
       "8295    8295   2.0     2.0   2.00        0.0\n",
       "8296    8296   2.0     2.0   2.00        0.0\n",
       "\n",
       "[8297 rows x 5 columns]"
      ]
     },
     "execution_count": 289,
     "metadata": {},
     "output_type": "execute_result"
    }
   ],
   "source": [
    "user_meta"
   ]
  },
  {
   "cell_type": "code",
   "execution_count": 290,
   "id": "ee472fe0",
   "metadata": {
    "scrolled": true
   },
   "outputs": [],
   "source": [
    "user_features_source = [(user_meta['userId'][i],\n",
    "                        [user_meta['size'][i], user_meta['bright'][i], user_meta['color'][i],\n",
    "                        user_meta['thickness'][i]]) for i in range(user_meta.shape[0])]"
   ]
  },
  {
   "cell_type": "code",
   "execution_count": 291,
   "id": "5a7dd0b2",
   "metadata": {},
   "outputs": [],
   "source": [
    "cloth_features_source = [(cloth_meta['idx'][i],\n",
    "                        [cloth_meta['fit'][i], cloth_meta['feeling'][i], cloth_meta['stretch'][i],\n",
    "                        cloth_meta['visibility'][i], cloth_meta['thickness'][i]]) for i in range(cloth_meta.shape[0])]"
   ]
  },
  {
   "cell_type": "code",
   "execution_count": 292,
   "id": "106bbb80",
   "metadata": {},
   "outputs": [],
   "source": [
    "dataset = Dataset()\n",
    "dataset.fit(users=transaction['userId'].unique(),\n",
    "           items=transaction['idx'].unique(),\n",
    "           user_features=user_meta[user_meta.columns[1:]].values.flatten(),\n",
    "           item_features=cloth_meta[cloth_meta.columns[1:]].values.flatten())"
   ]
  },
  {
   "cell_type": "code",
   "execution_count": 293,
   "id": "11a42356",
   "metadata": {},
   "outputs": [],
   "source": [
    "interactions, weights = dataset.build_interactions(transaction_source)"
   ]
  },
  {
   "cell_type": "code",
   "execution_count": 294,
   "id": "908b3a37",
   "metadata": {},
   "outputs": [],
   "source": [
    "user_features = dataset.build_user_features(user_features_source)"
   ]
  },
  {
   "cell_type": "code",
   "execution_count": 295,
   "id": "7d580846",
   "metadata": {
    "scrolled": true
   },
   "outputs": [],
   "source": [
    "cloth_features = dataset.build_item_features(cloth_features_source)"
   ]
  },
  {
   "cell_type": "code",
   "execution_count": 296,
   "id": "df956cdc",
   "metadata": {},
   "outputs": [],
   "source": [
    "train, test = random_train_test_split(interactions, test_percentage=0.2)\n",
    "train, test = train.tocsr().tocoo(), test.tocsr().tocoo()\n",
    "train_weights = train.multiply(weights).tocoo()\n",
    "test_weights = test.multiply(weights).tocoo()"
   ]
  },
  {
   "cell_type": "code",
   "execution_count": 297,
   "id": "03c32a76",
   "metadata": {},
   "outputs": [],
   "source": [
    "# no_components: 10\n",
    "# learning_rate : 0.05\n",
    "trials = Trials()\n",
    "space = [hp.choice('no_components', range(10, 21, 5)),\n",
    "         hp.uniform('learning_rate', 0.05, 0.1)]"
   ]
  },
  {
   "cell_type": "code",
   "execution_count": 298,
   "id": "c147633f",
   "metadata": {},
   "outputs": [],
   "source": [
    "# Define Objective Function\n",
    "def objective(params):\n",
    "    no_components, learning_rate = params\n",
    "    model = LightFM(no_components=no_components,\n",
    "                    learning_schedule='adagrad',\n",
    "                    loss='warp',\n",
    "                    learning_rate=learning_rate,\n",
    "                    random_state=0)\n",
    "\n",
    "    model.fit(interactions=train,\n",
    "              item_features=cloth_features,\n",
    "              user_features=user_features,\n",
    "              sample_weight=train_weights,\n",
    "              epochs=3,\n",
    "              verbose=False)\n",
    "\n",
    "    test_precision = precision_at_k(model, test, k=5, item_features=cloth_features, user_features=user_features).mean()\n",
    "    print(\"no_comp: {}, lrn_rate: {:.5f}, precision: {:.5f}\".format(\n",
    "      no_components, learning_rate, test_precision))\n",
    "    # test_auc = auc_score(model, test, item_features=item_features).mean()\n",
    "    output = -test_precision\n",
    "\n",
    "    if np.abs(output+1) < 0.01 or output < -1.0:\n",
    "        output = 0.0\n",
    "\n",
    "    return output"
   ]
  },
  {
   "cell_type": "code",
   "execution_count": 299,
   "id": "9b889fec",
   "metadata": {},
   "outputs": [
    {
     "name": "stdout",
     "output_type": "stream",
     "text": [
      "no_comp: 15, lrn_rate: 0.08926, precision: 0.01167    \n",
      "no_comp: 20, lrn_rate: 0.06650, precision: 0.01218                               \n",
      "no_comp: 20, lrn_rate: 0.09574, precision: 0.01095                                 \n",
      "no_comp: 20, lrn_rate: 0.09329, precision: 0.01075                                 \n",
      "no_comp: 15, lrn_rate: 0.05361, precision: 0.01085                                 \n",
      "no_comp: 10, lrn_rate: 0.08258, precision: 0.01126                                 \n",
      "no_comp: 10, lrn_rate: 0.05632, precision: 0.01177                                 \n",
      "no_comp: 10, lrn_rate: 0.07900, precision: 0.01085                                 \n",
      "no_comp: 10, lrn_rate: 0.08728, precision: 0.01085                                 \n",
      "no_comp: 20, lrn_rate: 0.05193, precision: 0.01095                                 \n",
      "100%|██████████| 10/10 [00:05<00:00,  1.81trial/s, best loss: -0.012180143035948277]\n"
     ]
    }
   ],
   "source": [
    "best_params = fmin(fn=objective, space=space, algo=tpe.suggest, max_evals=10, trials=trials)"
   ]
  },
  {
   "cell_type": "code",
   "execution_count": 300,
   "id": "eeeed595",
   "metadata": {
    "scrolled": true
   },
   "outputs": [
    {
     "name": "stdout",
     "output_type": "stream",
     "text": [
      "0.067 2\n"
     ]
    }
   ],
   "source": [
    "learning_rate = round(best_params['learning_rate'], 3)\n",
    "no_components = best_params['no_components']\n",
    "print(learning_rate, no_components)"
   ]
  },
  {
   "cell_type": "code",
   "execution_count": 301,
   "id": "22d5c726",
   "metadata": {},
   "outputs": [
    {
     "name": "stderr",
     "output_type": "stream",
     "text": [
      "Epoch: 100%|██████████| 10/10 [00:00<00:00, 65.44it/s]\n"
     ]
    },
    {
     "data": {
      "text/plain": [
       "<lightfm.lightfm.LightFM at 0x1f365e4ff70>"
      ]
     },
     "execution_count": 301,
     "metadata": {},
     "output_type": "execute_result"
    }
   ],
   "source": [
    "model = LightFM(no_components=no_components,\n",
    "                learning_schedule='adagrad',\n",
    "                loss='warp',\n",
    "                learning_rate=learning_rate,\n",
    "                random_state=0)\n",
    "\n",
    "model.fit(interactions=interactions,\n",
    "          item_features=cloth_features,\n",
    "          user_features=user_features,\n",
    "          sample_weight=weights,\n",
    "          epochs=10,\n",
    "          verbose=True)"
   ]
  },
  {
   "cell_type": "code",
   "execution_count": 302,
   "id": "b280b0eb",
   "metadata": {},
   "outputs": [],
   "source": [
    "# 모델 저장하기\n",
    "import pickle\n",
    "with open('model_style_skirt.pickle', 'wb') as fw:\n",
    "    pickle.dump(model, fw)"
   ]
  },
  {
   "cell_type": "code",
   "execution_count": 303,
   "id": "4583e5a9",
   "metadata": {},
   "outputs": [],
   "source": [
    "# 모델 불러오기\n",
    "import pickle\n",
    "with open('model_style_skirt.pickle', 'rb') as f:\n",
    "    model_skirt = pickle.load(f)"
   ]
  },
  {
   "cell_type": "code",
   "execution_count": 304,
   "id": "f4905096",
   "metadata": {},
   "outputs": [],
   "source": [
    "def sample_recommendation(model, idx, user_ids):\n",
    "    cnt = 1\n",
    "    for user_id in user_ids:\n",
    "        if cnt==1:\n",
    "            scores = model.predict(int(user_meta[user_meta.userId==user_id].index[0]), np.arange(len(cloth_meta)))\n",
    "        else:\n",
    "            scores += model.predict(int(user_meta[user_meta.userId==user_id].index[0]), np.arange(len(cloth_meta)))\n",
    "    \n",
    "    top_items = idx[np.argsort(-scores)]\n",
    "    \n",
    "    sub_clothes = []\n",
    "\n",
    "    for x in top_items[:10]:\n",
    "        sub_clothes.append(x)\n",
    "    \n",
    "    rec_clothes = []\n",
    "    \n",
    "    for i in sub_clothes:\n",
    "        rec_clothes.append(cloth_meta[cloth_meta.idx==i].newClothId.iloc[0])\n",
    "    \n",
    "    return rec_clothes"
   ]
  },
  {
   "cell_type": "code",
   "execution_count": 305,
   "id": "7f8e4079",
   "metadata": {
    "scrolled": false
   },
   "outputs": [
    {
     "data": {
      "text/plain": [
       "[150926840,\n",
       " 2054486283,\n",
       " 1907111403,\n",
       " 117363976,\n",
       " 2017517424,\n",
       " 1773210461,\n",
       " 1618698368,\n",
       " 1248001459,\n",
       " 1969751296,\n",
       " 1882209439]"
      ]
     },
     "execution_count": 305,
     "metadata": {},
     "output_type": "execute_result"
    }
   ],
   "source": [
    "rec_size_top = sample_recommendation(model_skirt, cloth_meta.idx, real_user)\n",
    "rec_size_top"
   ]
  },
  {
   "cell_type": "code",
   "execution_count": 306,
   "id": "cb0ebabb",
   "metadata": {},
   "outputs": [
    {
     "data": {
      "text/plain": [
       "[6802, 1006, 5145]"
      ]
     },
     "execution_count": 306,
     "metadata": {},
     "output_type": "execute_result"
    }
   ],
   "source": [
    "real_user"
   ]
  },
  {
   "cell_type": "code",
   "execution_count": 307,
   "id": "98c4dc9a",
   "metadata": {},
   "outputs": [],
   "source": [
    "cloth_meta.insert(7, 'what', 15, True)\n",
    "user_meta.insert(5, 'what', 15, True)"
   ]
  },
  {
   "cell_type": "code",
   "execution_count": 308,
   "id": "f763579d",
   "metadata": {
    "scrolled": true
   },
   "outputs": [
    {
     "data": {
      "text/html": [
       "<div>\n",
       "<style scoped>\n",
       "    .dataframe tbody tr th:only-of-type {\n",
       "        vertical-align: middle;\n",
       "    }\n",
       "\n",
       "    .dataframe tbody tr th {\n",
       "        vertical-align: top;\n",
       "    }\n",
       "\n",
       "    .dataframe thead th {\n",
       "        text-align: right;\n",
       "    }\n",
       "</style>\n",
       "<table border=\"1\" class=\"dataframe\">\n",
       "  <thead>\n",
       "    <tr style=\"text-align: right;\">\n",
       "      <th></th>\n",
       "      <th>newClothId</th>\n",
       "      <th>idx</th>\n",
       "      <th>what</th>\n",
       "    </tr>\n",
       "  </thead>\n",
       "  <tbody>\n",
       "    <tr>\n",
       "      <th>0</th>\n",
       "      <td>161812522</td>\n",
       "      <td>1682</td>\n",
       "      <td>15</td>\n",
       "    </tr>\n",
       "    <tr>\n",
       "      <th>1</th>\n",
       "      <td>161812521</td>\n",
       "      <td>896</td>\n",
       "      <td>15</td>\n",
       "    </tr>\n",
       "    <tr>\n",
       "      <th>2</th>\n",
       "      <td>185310349</td>\n",
       "      <td>1662</td>\n",
       "      <td>15</td>\n",
       "    </tr>\n",
       "    <tr>\n",
       "      <th>3</th>\n",
       "      <td>1884867110</td>\n",
       "      <td>2304</td>\n",
       "      <td>15</td>\n",
       "    </tr>\n",
       "    <tr>\n",
       "      <th>4</th>\n",
       "      <td>1629303146</td>\n",
       "      <td>965</td>\n",
       "      <td>15</td>\n",
       "    </tr>\n",
       "    <tr>\n",
       "      <th>...</th>\n",
       "      <td>...</td>\n",
       "      <td>...</td>\n",
       "      <td>...</td>\n",
       "    </tr>\n",
       "    <tr>\n",
       "      <th>2649</th>\n",
       "      <td>21172562650</td>\n",
       "      <td>22</td>\n",
       "      <td>15</td>\n",
       "    </tr>\n",
       "    <tr>\n",
       "      <th>2650</th>\n",
       "      <td>21172562649</td>\n",
       "      <td>2</td>\n",
       "      <td>15</td>\n",
       "    </tr>\n",
       "    <tr>\n",
       "      <th>2651</th>\n",
       "      <td>21172562648</td>\n",
       "      <td>531</td>\n",
       "      <td>15</td>\n",
       "    </tr>\n",
       "    <tr>\n",
       "      <th>2652</th>\n",
       "      <td>23400702652</td>\n",
       "      <td>1441</td>\n",
       "      <td>15</td>\n",
       "    </tr>\n",
       "    <tr>\n",
       "      <th>2653</th>\n",
       "      <td>23400702653</td>\n",
       "      <td>1273</td>\n",
       "      <td>15</td>\n",
       "    </tr>\n",
       "  </tbody>\n",
       "</table>\n",
       "<p>2654 rows × 3 columns</p>\n",
       "</div>"
      ],
      "text/plain": [
       "       newClothId   idx  what\n",
       "0       161812522  1682    15\n",
       "1       161812521   896    15\n",
       "2       185310349  1662    15\n",
       "3      1884867110  2304    15\n",
       "4      1629303146   965    15\n",
       "...           ...   ...   ...\n",
       "2649  21172562650    22    15\n",
       "2650  21172562649     2    15\n",
       "2651  21172562648   531    15\n",
       "2652  23400702652  1441    15\n",
       "2653  23400702653  1273    15\n",
       "\n",
       "[2654 rows x 3 columns]"
      ]
     },
     "execution_count": 308,
     "metadata": {},
     "output_type": "execute_result"
    }
   ],
   "source": [
    "cloth_meta = cloth_meta[[\"newClothId\", \"idx\", 'what']]\n",
    "cloth_meta"
   ]
  },
  {
   "cell_type": "code",
   "execution_count": 309,
   "id": "16f1dc96",
   "metadata": {},
   "outputs": [],
   "source": [
    "cloth_meta.to_json('style_skirt_cloth_meta.json', orient='records', force_ascii=False)\n",
    "user_meta.to_json('style_skirt_user_meta.json', orient='records', force_ascii=False)"
   ]
  },
  {
   "cell_type": "code",
   "execution_count": 310,
   "id": "4554c0d8",
   "metadata": {},
   "outputs": [
    {
     "data": {
      "text/html": [
       "<div>\n",
       "<style scoped>\n",
       "    .dataframe tbody tr th:only-of-type {\n",
       "        vertical-align: middle;\n",
       "    }\n",
       "\n",
       "    .dataframe tbody tr th {\n",
       "        vertical-align: top;\n",
       "    }\n",
       "\n",
       "    .dataframe thead th {\n",
       "        text-align: right;\n",
       "    }\n",
       "</style>\n",
       "<table border=\"1\" class=\"dataframe\">\n",
       "  <thead>\n",
       "    <tr style=\"text-align: right;\">\n",
       "      <th></th>\n",
       "      <th>userId</th>\n",
       "      <th>size</th>\n",
       "      <th>bright</th>\n",
       "      <th>color</th>\n",
       "      <th>thickness</th>\n",
       "      <th>what</th>\n",
       "    </tr>\n",
       "  </thead>\n",
       "  <tbody>\n",
       "    <tr>\n",
       "      <th>0</th>\n",
       "      <td>0</td>\n",
       "      <td>2.0</td>\n",
       "      <td>2.0</td>\n",
       "      <td>2.00</td>\n",
       "      <td>0.0</td>\n",
       "      <td>15</td>\n",
       "    </tr>\n",
       "    <tr>\n",
       "      <th>1</th>\n",
       "      <td>1</td>\n",
       "      <td>2.0</td>\n",
       "      <td>2.0</td>\n",
       "      <td>2.00</td>\n",
       "      <td>0.0</td>\n",
       "      <td>15</td>\n",
       "    </tr>\n",
       "    <tr>\n",
       "      <th>2</th>\n",
       "      <td>2</td>\n",
       "      <td>1.0</td>\n",
       "      <td>2.0</td>\n",
       "      <td>2.00</td>\n",
       "      <td>0.0</td>\n",
       "      <td>15</td>\n",
       "    </tr>\n",
       "    <tr>\n",
       "      <th>3</th>\n",
       "      <td>3</td>\n",
       "      <td>2.0</td>\n",
       "      <td>2.0</td>\n",
       "      <td>1.00</td>\n",
       "      <td>0.0</td>\n",
       "      <td>15</td>\n",
       "    </tr>\n",
       "    <tr>\n",
       "      <th>4</th>\n",
       "      <td>4</td>\n",
       "      <td>1.5</td>\n",
       "      <td>1.5</td>\n",
       "      <td>1.25</td>\n",
       "      <td>0.0</td>\n",
       "      <td>15</td>\n",
       "    </tr>\n",
       "    <tr>\n",
       "      <th>...</th>\n",
       "      <td>...</td>\n",
       "      <td>...</td>\n",
       "      <td>...</td>\n",
       "      <td>...</td>\n",
       "      <td>...</td>\n",
       "      <td>...</td>\n",
       "    </tr>\n",
       "    <tr>\n",
       "      <th>8292</th>\n",
       "      <td>8292</td>\n",
       "      <td>3.0</td>\n",
       "      <td>3.0</td>\n",
       "      <td>1.00</td>\n",
       "      <td>0.0</td>\n",
       "      <td>15</td>\n",
       "    </tr>\n",
       "    <tr>\n",
       "      <th>8293</th>\n",
       "      <td>8293</td>\n",
       "      <td>2.0</td>\n",
       "      <td>2.0</td>\n",
       "      <td>1.00</td>\n",
       "      <td>0.0</td>\n",
       "      <td>15</td>\n",
       "    </tr>\n",
       "    <tr>\n",
       "      <th>8294</th>\n",
       "      <td>8294</td>\n",
       "      <td>2.0</td>\n",
       "      <td>2.0</td>\n",
       "      <td>2.00</td>\n",
       "      <td>0.0</td>\n",
       "      <td>15</td>\n",
       "    </tr>\n",
       "    <tr>\n",
       "      <th>8295</th>\n",
       "      <td>8295</td>\n",
       "      <td>2.0</td>\n",
       "      <td>2.0</td>\n",
       "      <td>2.00</td>\n",
       "      <td>0.0</td>\n",
       "      <td>15</td>\n",
       "    </tr>\n",
       "    <tr>\n",
       "      <th>8296</th>\n",
       "      <td>8296</td>\n",
       "      <td>2.0</td>\n",
       "      <td>2.0</td>\n",
       "      <td>2.00</td>\n",
       "      <td>0.0</td>\n",
       "      <td>15</td>\n",
       "    </tr>\n",
       "  </tbody>\n",
       "</table>\n",
       "<p>8297 rows × 6 columns</p>\n",
       "</div>"
      ],
      "text/plain": [
       "      userId  size  bright  color  thickness  what\n",
       "0          0   2.0     2.0   2.00        0.0    15\n",
       "1          1   2.0     2.0   2.00        0.0    15\n",
       "2          2   1.0     2.0   2.00        0.0    15\n",
       "3          3   2.0     2.0   1.00        0.0    15\n",
       "4          4   1.5     1.5   1.25        0.0    15\n",
       "...      ...   ...     ...    ...        ...   ...\n",
       "8292    8292   3.0     3.0   1.00        0.0    15\n",
       "8293    8293   2.0     2.0   1.00        0.0    15\n",
       "8294    8294   2.0     2.0   2.00        0.0    15\n",
       "8295    8295   2.0     2.0   2.00        0.0    15\n",
       "8296    8296   2.0     2.0   2.00        0.0    15\n",
       "\n",
       "[8297 rows x 6 columns]"
      ]
     },
     "execution_count": 310,
     "metadata": {},
     "output_type": "execute_result"
    }
   ],
   "source": [
    "user_meta"
   ]
  },
  {
   "cell_type": "code",
   "execution_count": null,
   "id": "a9aee760",
   "metadata": {},
   "outputs": [],
   "source": []
  },
  {
   "cell_type": "code",
   "execution_count": null,
   "id": "92bdd665",
   "metadata": {},
   "outputs": [],
   "source": []
  },
  {
   "cell_type": "code",
   "execution_count": null,
   "id": "6cbdcd72",
   "metadata": {},
   "outputs": [],
   "source": []
  }
 ],
 "metadata": {
  "kernelspec": {
   "display_name": "Python 3 (ipykernel)",
   "language": "python",
   "name": "python3"
  },
  "language_info": {
   "codemirror_mode": {
    "name": "ipython",
    "version": 3
   },
   "file_extension": ".py",
   "mimetype": "text/x-python",
   "name": "python",
   "nbconvert_exporter": "python",
   "pygments_lexer": "ipython3",
   "version": "3.9.10"
  }
 },
 "nbformat": 4,
 "nbformat_minor": 5
}
