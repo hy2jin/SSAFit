{
 "cells": [
  {
   "cell_type": "markdown",
   "id": "35bc16f2",
   "metadata": {},
   "source": [
    "# 취향 분석"
   ]
  },
  {
   "cell_type": "code",
   "execution_count": 1,
   "id": "d9b0c883",
   "metadata": {},
   "outputs": [
    {
     "name": "stderr",
     "output_type": "stream",
     "text": [
      "C:\\Users\\SSAFY\\AppData\\Local\\Programs\\Python\\Python39\\lib\\site-packages\\lightfm\\_lightfm_fast.py:9: UserWarning: LightFM was compiled without OpenMP support. Only a single thread will be used.\n",
      "  warnings.warn(\n"
     ]
    }
   ],
   "source": [
    "import pandas as pd\n",
    "import numpy as np\n",
    "from lightfm.data import Dataset\n",
    "from lightfm.cross_validation import random_train_test_split\n",
    "from lightfm.evaluation import precision_at_k\n",
    "from lightfm import LightFM\n",
    "\n",
    "from hyperopt import fmin, hp, tpe, Trials\n",
    "from scipy.io import mmwrite"
   ]
  },
  {
   "cell_type": "code",
   "execution_count": 2,
   "id": "c992f414",
   "metadata": {},
   "outputs": [],
   "source": [
    "pd.set_option('display.max_columns', None)"
   ]
  },
  {
   "cell_type": "code",
   "execution_count": 3,
   "id": "e6693fef",
   "metadata": {},
   "outputs": [],
   "source": [
    "category_top_cloth_column = ['newClothId', 'smallCategoryHalfshort', 'smallCategoryShirt', 'smallCategoryCollar', 'smallCategoryHoody', 'smallCategorySweatshirt', 'smallCategoryKnit',\n",
    "        'smallCategoryLong', 'smallCategoryShort', 'smallCategoryOthers']\n",
    "category_outer_cloth_column = ['newClothId', 'smallCategoryHoodie', 'smallCategoryBlouson', 'smallCategoryRiders', 'smallCategoryMustang', 'smallCategoryCardigan', 'smallCategoryFleece',\n",
    "        'smallCategoryCoat', 'smallCategoryPaddedcoat', 'smallCategoryVest', 'smallCategoryJacket', 'smallCategoryOthers']\n",
    "category_pants_cloth_column = ['newClothId', 'smallCategoryDenimpants', 'smallCategoryCottonpants', 'smallCategorySlacks', 'smallCategoryJoggerpants', 'smallCategoryShortpants', 'smallCategoryLeggings',\n",
    "       'smallCategoryJumpsuit', 'smallCategoryOthers']\n",
    "category_onepiece_cloth_column = ['newClothId', 'smallCategoryMinidress', 'smallCategoryMidi', 'smallCategoryMaxidress']\n",
    "category_skirt_cloth_column = ['newClothId', 'smallCategoryMiniskirt', 'smallCategoryMidi', 'smallCategoryLongskirt']\n",
    "category_top_user_column = ['userId', 'smallCategoryHalfshort', 'smallCategoryShirt',\n",
    "       'smallCategoryCollar', 'smallCategoryHoody', 'smallCategorySweatshirt', 'smallCategoryKnit', 'smallCategoryLong', 'smallCategoryShort',\n",
    "       'smallCategoryOthers']\n",
    "category_outer_user_column = ['userId', \n",
    "       'smallCategoryHoodie', 'smallCategoryBlouson', 'smallCategoryRiders', 'smallCategoryMustang', 'smallCategoryCardigan', 'smallCategoryFleece',\n",
    "        'smallCategoryCoat', 'smallCategoryPaddedcoat', 'smallCategoryVest', 'smallCategoryJacket', 'smallCategoryOthers']\n",
    "category_pants_user_column = ['userId', 'smallCategoryDenimpants', 'smallCategoryCottonpants', 'smallCategorySlacks', 'smallCategoryJoggerpants', 'smallCategoryShortpants', 'smallCategoryLeggings',\n",
    "       'smallCategoryJumpsuit', 'smallCategoryOthers']\n",
    "category_onepiece_user_column = ['userId', 'smallCategoryMinidress', 'smallCategoryMidi', 'smallCategoryMaxidress']\n",
    "category_skirt_user_column = ['userId', 'smallCategoryMiniskirt', 'smallCategoryMidi', 'smallCategoryLongskirt']"
   ]
  },
  {
   "cell_type": "code",
   "execution_count": 4,
   "id": "ce59ad5e",
   "metadata": {},
   "outputs": [],
   "source": [
    "transaction = pd.read_json('./transaction_top.json')\n",
    "cloth_meta = pd.read_json('./final_top.json')\n",
    "user_meta = pd.read_json('./user_top.json')\n",
    "transaction = transaction[['userId', 'newClothId', 'shopCnt']]"
   ]
  },
  {
   "cell_type": "code",
   "execution_count": 5,
   "id": "f6adf863",
   "metadata": {},
   "outputs": [
    {
     "data": {
      "text/plain": [
       "(281090, 3)"
      ]
     },
     "execution_count": 5,
     "metadata": {},
     "output_type": "execute_result"
    }
   ],
   "source": [
    "transaction = transaction[transaction.shopCnt > 1]\n",
    "transaction.shape"
   ]
  },
  {
   "cell_type": "code",
   "execution_count": 6,
   "id": "6c13ea4f",
   "metadata": {},
   "outputs": [
    {
     "name": "stdout",
     "output_type": "stream",
     "text": [
      "131315\n",
      "59819\n"
     ]
    }
   ],
   "source": [
    "user_top_list = pd.DataFrame(transaction.userId.unique())\n",
    "cloth_top_list = pd.DataFrame(transaction.newClothId.unique())\n",
    "print(len(user_top_list))\n",
    "print(len(cloth_top_list))\n",
    "user_top_list.to_json('user_top_list.json', orient='records', force_ascii=False)\n",
    "cloth_top_list.to_json('cloth_top_list.json', orient='records', force_ascii=False)"
   ]
  },
  {
   "cell_type": "code",
   "execution_count": 7,
   "id": "e3585e0b",
   "metadata": {},
   "outputs": [],
   "source": [
    "unique_id_cloth_meta = list(set(cloth_meta.newClothId))\n",
    "transaction=transaction.loc[transaction.newClothId.isin(unique_id_cloth_meta),:]"
   ]
  },
  {
   "cell_type": "code",
   "execution_count": 8,
   "id": "4ceb9200",
   "metadata": {
    "scrolled": false
   },
   "outputs": [],
   "source": [
    "a = transaction[['newClothId']]\n",
    "a.insert(1, 'idx', 0, True)\n",
    "a = a.drop_duplicates(['newClothId'])\n",
    "a.idx = range(len(a))"
   ]
  },
  {
   "cell_type": "code",
   "execution_count": 9,
   "id": "e88e06f0",
   "metadata": {},
   "outputs": [],
   "source": [
    "transaction = pd.merge(transaction, a, how=\"left\", on=\"newClothId\")"
   ]
  },
  {
   "cell_type": "code",
   "execution_count": 10,
   "id": "6defe4f1",
   "metadata": {
    "scrolled": true
   },
   "outputs": [],
   "source": [
    "user_meta = user_meta[category_top_user_column]"
   ]
  },
  {
   "cell_type": "code",
   "execution_count": 11,
   "id": "f3ff916a",
   "metadata": {},
   "outputs": [
    {
     "data": {
      "text/html": [
       "<div>\n",
       "<style scoped>\n",
       "    .dataframe tbody tr th:only-of-type {\n",
       "        vertical-align: middle;\n",
       "    }\n",
       "\n",
       "    .dataframe tbody tr th {\n",
       "        vertical-align: top;\n",
       "    }\n",
       "\n",
       "    .dataframe thead th {\n",
       "        text-align: right;\n",
       "    }\n",
       "</style>\n",
       "<table border=\"1\" class=\"dataframe\">\n",
       "  <thead>\n",
       "    <tr style=\"text-align: right;\">\n",
       "      <th></th>\n",
       "      <th>userId</th>\n",
       "      <th>smallCategoryHalfshort</th>\n",
       "      <th>smallCategoryShirt</th>\n",
       "      <th>smallCategoryCollar</th>\n",
       "      <th>smallCategoryHoody</th>\n",
       "      <th>smallCategorySweatshirt</th>\n",
       "      <th>smallCategoryKnit</th>\n",
       "      <th>smallCategoryLong</th>\n",
       "      <th>smallCategoryShort</th>\n",
       "      <th>smallCategoryOthers</th>\n",
       "    </tr>\n",
       "  </thead>\n",
       "  <tbody>\n",
       "    <tr>\n",
       "      <th>0</th>\n",
       "      <td>858064</td>\n",
       "      <td>0.000000</td>\n",
       "      <td>0.000000</td>\n",
       "      <td>0.0</td>\n",
       "      <td>0.000000</td>\n",
       "      <td>0.333333</td>\n",
       "      <td>0.000000</td>\n",
       "      <td>0.666667</td>\n",
       "      <td>0.0</td>\n",
       "      <td>0.0</td>\n",
       "    </tr>\n",
       "    <tr>\n",
       "      <th>1</th>\n",
       "      <td>858065</td>\n",
       "      <td>0.500000</td>\n",
       "      <td>0.500000</td>\n",
       "      <td>0.0</td>\n",
       "      <td>0.000000</td>\n",
       "      <td>0.000000</td>\n",
       "      <td>0.000000</td>\n",
       "      <td>0.000000</td>\n",
       "      <td>0.0</td>\n",
       "      <td>0.0</td>\n",
       "    </tr>\n",
       "    <tr>\n",
       "      <th>2</th>\n",
       "      <td>858067</td>\n",
       "      <td>0.250000</td>\n",
       "      <td>0.000000</td>\n",
       "      <td>0.0</td>\n",
       "      <td>0.500000</td>\n",
       "      <td>0.250000</td>\n",
       "      <td>0.000000</td>\n",
       "      <td>0.000000</td>\n",
       "      <td>0.0</td>\n",
       "      <td>0.0</td>\n",
       "    </tr>\n",
       "    <tr>\n",
       "      <th>3</th>\n",
       "      <td>858070</td>\n",
       "      <td>1.000000</td>\n",
       "      <td>0.000000</td>\n",
       "      <td>0.0</td>\n",
       "      <td>0.000000</td>\n",
       "      <td>0.000000</td>\n",
       "      <td>0.000000</td>\n",
       "      <td>0.000000</td>\n",
       "      <td>0.0</td>\n",
       "      <td>0.0</td>\n",
       "    </tr>\n",
       "    <tr>\n",
       "      <th>4</th>\n",
       "      <td>858071</td>\n",
       "      <td>0.400000</td>\n",
       "      <td>0.000000</td>\n",
       "      <td>0.0</td>\n",
       "      <td>0.000000</td>\n",
       "      <td>0.000000</td>\n",
       "      <td>0.400000</td>\n",
       "      <td>0.200000</td>\n",
       "      <td>0.0</td>\n",
       "      <td>0.0</td>\n",
       "    </tr>\n",
       "    <tr>\n",
       "      <th>...</th>\n",
       "      <td>...</td>\n",
       "      <td>...</td>\n",
       "      <td>...</td>\n",
       "      <td>...</td>\n",
       "      <td>...</td>\n",
       "      <td>...</td>\n",
       "      <td>...</td>\n",
       "      <td>...</td>\n",
       "      <td>...</td>\n",
       "      <td>...</td>\n",
       "    </tr>\n",
       "    <tr>\n",
       "      <th>131310</th>\n",
       "      <td>1416935</td>\n",
       "      <td>0.214286</td>\n",
       "      <td>0.000000</td>\n",
       "      <td>0.0</td>\n",
       "      <td>0.071429</td>\n",
       "      <td>0.214286</td>\n",
       "      <td>0.285714</td>\n",
       "      <td>0.214286</td>\n",
       "      <td>0.0</td>\n",
       "      <td>0.0</td>\n",
       "    </tr>\n",
       "    <tr>\n",
       "      <th>131311</th>\n",
       "      <td>1416936</td>\n",
       "      <td>0.000000</td>\n",
       "      <td>0.333333</td>\n",
       "      <td>0.0</td>\n",
       "      <td>0.000000</td>\n",
       "      <td>0.000000</td>\n",
       "      <td>0.666667</td>\n",
       "      <td>0.000000</td>\n",
       "      <td>0.0</td>\n",
       "      <td>0.0</td>\n",
       "    </tr>\n",
       "    <tr>\n",
       "      <th>131312</th>\n",
       "      <td>1416938</td>\n",
       "      <td>0.000000</td>\n",
       "      <td>0.000000</td>\n",
       "      <td>0.0</td>\n",
       "      <td>0.400000</td>\n",
       "      <td>0.400000</td>\n",
       "      <td>0.200000</td>\n",
       "      <td>0.000000</td>\n",
       "      <td>0.0</td>\n",
       "      <td>0.0</td>\n",
       "    </tr>\n",
       "    <tr>\n",
       "      <th>131313</th>\n",
       "      <td>1416946</td>\n",
       "      <td>0.166667</td>\n",
       "      <td>0.000000</td>\n",
       "      <td>0.0</td>\n",
       "      <td>0.166667</td>\n",
       "      <td>0.166667</td>\n",
       "      <td>0.166667</td>\n",
       "      <td>0.333333</td>\n",
       "      <td>0.0</td>\n",
       "      <td>0.0</td>\n",
       "    </tr>\n",
       "    <tr>\n",
       "      <th>131314</th>\n",
       "      <td>1416948</td>\n",
       "      <td>0.500000</td>\n",
       "      <td>0.500000</td>\n",
       "      <td>0.0</td>\n",
       "      <td>0.000000</td>\n",
       "      <td>0.000000</td>\n",
       "      <td>0.000000</td>\n",
       "      <td>0.000000</td>\n",
       "      <td>0.0</td>\n",
       "      <td>0.0</td>\n",
       "    </tr>\n",
       "  </tbody>\n",
       "</table>\n",
       "<p>131315 rows × 10 columns</p>\n",
       "</div>"
      ],
      "text/plain": [
       "         userId  smallCategoryHalfshort  smallCategoryShirt  \\\n",
       "0        858064                0.000000            0.000000   \n",
       "1        858065                0.500000            0.500000   \n",
       "2        858067                0.250000            0.000000   \n",
       "3        858070                1.000000            0.000000   \n",
       "4        858071                0.400000            0.000000   \n",
       "...         ...                     ...                 ...   \n",
       "131310  1416935                0.214286            0.000000   \n",
       "131311  1416936                0.000000            0.333333   \n",
       "131312  1416938                0.000000            0.000000   \n",
       "131313  1416946                0.166667            0.000000   \n",
       "131314  1416948                0.500000            0.500000   \n",
       "\n",
       "        smallCategoryCollar  smallCategoryHoody  smallCategorySweatshirt  \\\n",
       "0                       0.0            0.000000                 0.333333   \n",
       "1                       0.0            0.000000                 0.000000   \n",
       "2                       0.0            0.500000                 0.250000   \n",
       "3                       0.0            0.000000                 0.000000   \n",
       "4                       0.0            0.000000                 0.000000   \n",
       "...                     ...                 ...                      ...   \n",
       "131310                  0.0            0.071429                 0.214286   \n",
       "131311                  0.0            0.000000                 0.000000   \n",
       "131312                  0.0            0.400000                 0.400000   \n",
       "131313                  0.0            0.166667                 0.166667   \n",
       "131314                  0.0            0.000000                 0.000000   \n",
       "\n",
       "        smallCategoryKnit  smallCategoryLong  smallCategoryShort  \\\n",
       "0                0.000000           0.666667                 0.0   \n",
       "1                0.000000           0.000000                 0.0   \n",
       "2                0.000000           0.000000                 0.0   \n",
       "3                0.000000           0.000000                 0.0   \n",
       "4                0.400000           0.200000                 0.0   \n",
       "...                   ...                ...                 ...   \n",
       "131310           0.285714           0.214286                 0.0   \n",
       "131311           0.666667           0.000000                 0.0   \n",
       "131312           0.200000           0.000000                 0.0   \n",
       "131313           0.166667           0.333333                 0.0   \n",
       "131314           0.000000           0.000000                 0.0   \n",
       "\n",
       "        smallCategoryOthers  \n",
       "0                       0.0  \n",
       "1                       0.0  \n",
       "2                       0.0  \n",
       "3                       0.0  \n",
       "4                       0.0  \n",
       "...                     ...  \n",
       "131310                  0.0  \n",
       "131311                  0.0  \n",
       "131312                  0.0  \n",
       "131313                  0.0  \n",
       "131314                  0.0  \n",
       "\n",
       "[131315 rows x 10 columns]"
      ]
     },
     "execution_count": 11,
     "metadata": {},
     "output_type": "execute_result"
    }
   ],
   "source": [
    "unique_id_user_meta = list(set(transaction.userId))\n",
    "user_meta=user_meta.loc[user_meta.userId.isin(unique_id_user_meta),:]\n",
    "user_meta = user_meta.reset_index(drop=True)\n",
    "user_meta"
   ]
  },
  {
   "cell_type": "code",
   "execution_count": 12,
   "id": "572e35e1",
   "metadata": {
    "scrolled": false
   },
   "outputs": [
    {
     "data": {
      "text/html": [
       "<div>\n",
       "<style scoped>\n",
       "    .dataframe tbody tr th:only-of-type {\n",
       "        vertical-align: middle;\n",
       "    }\n",
       "\n",
       "    .dataframe tbody tr th {\n",
       "        vertical-align: top;\n",
       "    }\n",
       "\n",
       "    .dataframe thead th {\n",
       "        text-align: right;\n",
       "    }\n",
       "</style>\n",
       "<table border=\"1\" class=\"dataframe\">\n",
       "  <thead>\n",
       "    <tr style=\"text-align: right;\">\n",
       "      <th></th>\n",
       "      <th>userId</th>\n",
       "      <th>smallCategoryHalfshort</th>\n",
       "      <th>smallCategoryShirt</th>\n",
       "      <th>smallCategoryCollar</th>\n",
       "      <th>smallCategoryHoody</th>\n",
       "      <th>smallCategorySweatshirt</th>\n",
       "      <th>smallCategoryKnit</th>\n",
       "      <th>smallCategoryLong</th>\n",
       "      <th>smallCategoryShort</th>\n",
       "      <th>smallCategoryOthers</th>\n",
       "    </tr>\n",
       "  </thead>\n",
       "  <tbody>\n",
       "    <tr>\n",
       "      <th>0</th>\n",
       "      <td>8299.0</td>\n",
       "      <td>0.3</td>\n",
       "      <td>0.3</td>\n",
       "      <td>0.4</td>\n",
       "      <td>0.0</td>\n",
       "      <td>0.0</td>\n",
       "      <td>0.0</td>\n",
       "      <td>0.0</td>\n",
       "      <td>0.0</td>\n",
       "      <td>0.0</td>\n",
       "    </tr>\n",
       "  </tbody>\n",
       "</table>\n",
       "</div>"
      ],
      "text/plain": [
       "   userId  smallCategoryHalfshort  smallCategoryShirt  smallCategoryCollar  \\\n",
       "0  8299.0                     0.3                 0.3                  0.4   \n",
       "\n",
       "   smallCategoryHoody  smallCategorySweatshirt  smallCategoryKnit  \\\n",
       "0                 0.0                      0.0                0.0   \n",
       "\n",
       "   smallCategoryLong  smallCategoryShort  smallCategoryOthers  \n",
       "0                0.0                 0.0                  0.0  "
      ]
     },
     "execution_count": 12,
     "metadata": {},
     "output_type": "execute_result"
    }
   ],
   "source": [
    "new_user = pd.DataFrame(user_meta.loc[0]).transpose()\n",
    "new_user_idx = new_user.index\n",
    "new_user.loc[new_user_idx, ('userId')] = 8299\n",
    "new_user.loc[new_user_idx, ('smallCategoryHalfshort')] = 0.3\n",
    "new_user.loc[new_user_idx, ('smallCategoryShirt')] = 0.3\n",
    "new_user.loc[new_user_idx, ('smallCategoryCollar')] = 0.4\n",
    "new_user.loc[new_user_idx, ('smallCategoryHoody')] = 0\n",
    "new_user.loc[new_user_idx, ('smallCategorySweatshirt')] = 0\n",
    "new_user.loc[new_user_idx, ('smallCategoryKnit')] = 0\n",
    "new_user.loc[new_user_idx, ('smallCategoryLong')] = 0\n",
    "new_user.loc[new_user_idx, ('smallCategoryShort')] = 0\n",
    "new_user.loc[new_user_idx, ('smallCategoryOthers')] = 0\n",
    "new_user = new_user[['userId',  'smallCategoryHalfshort', 'smallCategoryShirt', 'smallCategoryCollar',\n",
    "       'smallCategoryHoody', 'smallCategorySweatshirt', 'smallCategoryKnit',\n",
    "       'smallCategoryLong', 'smallCategoryShort', 'smallCategoryOthers']]\n",
    "new_user"
   ]
  },
  {
   "cell_type": "code",
   "execution_count": 13,
   "id": "baf3135e",
   "metadata": {},
   "outputs": [
    {
     "name": "stdout",
     "output_type": "stream",
     "text": [
      "['userId', 'smallCategoryHalfshort', 'smallCategoryShirt', 'smallCategoryCollar']\n"
     ]
    }
   ],
   "source": [
    "colum = list(new_user.columns)\n",
    "di = dict()\n",
    "for i in range(len(colum)):\n",
    "    di[colum[i]] = new_user[colum[i]][0]\n",
    "col_list = []\n",
    "for idx, key in enumerate(di):\n",
    "    if idx > 0 and di[key] > 0.2:\n",
    "        col_list.append(key)\n",
    "col_list.insert(0, 'userId')\n",
    "print(col_list)"
   ]
  },
  {
   "cell_type": "code",
   "execution_count": 14,
   "id": "3e23b525",
   "metadata": {},
   "outputs": [],
   "source": [
    "from copy import deepcopy\n",
    "sub_user = deepcopy(user_meta)"
   ]
  },
  {
   "cell_type": "code",
   "execution_count": 15,
   "id": "f1bde0ff",
   "metadata": {},
   "outputs": [],
   "source": [
    "for i in range(1, len(col_list)):\n",
    "    sub_user[col_list[i]] = sub_user.apply(lambda x: abs(x[col_list[i]]-new_user[col_list[i]].iloc[0]), axis=1)"
   ]
  },
  {
   "cell_type": "code",
   "execution_count": 16,
   "id": "7e45bce0",
   "metadata": {},
   "outputs": [],
   "source": [
    "sub_col = list(sub_user.columns)[1:]"
   ]
  },
  {
   "cell_type": "code",
   "execution_count": 17,
   "id": "9e89374b",
   "metadata": {},
   "outputs": [],
   "source": [
    "sub_user.insert(1, 'favorSum', 0, True)\n",
    "sub_user.favorSum = sum(sub_user[col_i] for col_i in sub_col)\n",
    "sub_user = sub_user.sort_values('favorSum')"
   ]
  },
  {
   "cell_type": "code",
   "execution_count": 18,
   "id": "e4c76a4e",
   "metadata": {},
   "outputs": [
    {
     "name": "stdout",
     "output_type": "stream",
     "text": [
      "[904030, 871998, 1214425]\n"
     ]
    }
   ],
   "source": [
    "real_user = []\n",
    "for i in range(3):\n",
    "    real_user.append(sub_user.iloc[i].userId)\n",
    "real_user = [int(i) for i in real_user]\n",
    "print(real_user)"
   ]
  },
  {
   "cell_type": "code",
   "execution_count": 19,
   "id": "f6618cdf",
   "metadata": {},
   "outputs": [],
   "source": [
    "cloth_meta = cloth_meta[category_top_cloth_column]"
   ]
  },
  {
   "cell_type": "code",
   "execution_count": 20,
   "id": "3d51bf55",
   "metadata": {},
   "outputs": [
    {
     "data": {
      "text/html": [
       "<div>\n",
       "<style scoped>\n",
       "    .dataframe tbody tr th:only-of-type {\n",
       "        vertical-align: middle;\n",
       "    }\n",
       "\n",
       "    .dataframe tbody tr th {\n",
       "        vertical-align: top;\n",
       "    }\n",
       "\n",
       "    .dataframe thead th {\n",
       "        text-align: right;\n",
       "    }\n",
       "</style>\n",
       "<table border=\"1\" class=\"dataframe\">\n",
       "  <thead>\n",
       "    <tr style=\"text-align: right;\">\n",
       "      <th></th>\n",
       "      <th>newClothId</th>\n",
       "      <th>smallCategoryHalfshort</th>\n",
       "      <th>smallCategoryShirt</th>\n",
       "      <th>smallCategoryCollar</th>\n",
       "      <th>smallCategoryHoody</th>\n",
       "      <th>smallCategorySweatshirt</th>\n",
       "      <th>smallCategoryKnit</th>\n",
       "      <th>smallCategoryLong</th>\n",
       "      <th>smallCategoryShort</th>\n",
       "      <th>smallCategoryOthers</th>\n",
       "    </tr>\n",
       "  </thead>\n",
       "  <tbody>\n",
       "    <tr>\n",
       "      <th>0</th>\n",
       "      <td>1929966</td>\n",
       "      <td>1</td>\n",
       "      <td>0</td>\n",
       "      <td>0</td>\n",
       "      <td>0</td>\n",
       "      <td>0</td>\n",
       "      <td>0</td>\n",
       "      <td>0</td>\n",
       "      <td>0</td>\n",
       "      <td>0</td>\n",
       "    </tr>\n",
       "    <tr>\n",
       "      <th>1</th>\n",
       "      <td>1927658</td>\n",
       "      <td>1</td>\n",
       "      <td>0</td>\n",
       "      <td>0</td>\n",
       "      <td>0</td>\n",
       "      <td>0</td>\n",
       "      <td>0</td>\n",
       "      <td>0</td>\n",
       "      <td>0</td>\n",
       "      <td>0</td>\n",
       "    </tr>\n",
       "    <tr>\n",
       "      <th>2</th>\n",
       "      <td>1927660131403</td>\n",
       "      <td>1</td>\n",
       "      <td>0</td>\n",
       "      <td>0</td>\n",
       "      <td>0</td>\n",
       "      <td>0</td>\n",
       "      <td>0</td>\n",
       "      <td>0</td>\n",
       "      <td>0</td>\n",
       "      <td>0</td>\n",
       "    </tr>\n",
       "    <tr>\n",
       "      <th>3</th>\n",
       "      <td>1928209</td>\n",
       "      <td>1</td>\n",
       "      <td>0</td>\n",
       "      <td>0</td>\n",
       "      <td>0</td>\n",
       "      <td>0</td>\n",
       "      <td>0</td>\n",
       "      <td>0</td>\n",
       "      <td>0</td>\n",
       "      <td>0</td>\n",
       "    </tr>\n",
       "    <tr>\n",
       "      <th>4</th>\n",
       "      <td>1927270</td>\n",
       "      <td>1</td>\n",
       "      <td>0</td>\n",
       "      <td>0</td>\n",
       "      <td>0</td>\n",
       "      <td>0</td>\n",
       "      <td>0</td>\n",
       "      <td>0</td>\n",
       "      <td>0</td>\n",
       "      <td>0</td>\n",
       "    </tr>\n",
       "    <tr>\n",
       "      <th>...</th>\n",
       "      <td>...</td>\n",
       "      <td>...</td>\n",
       "      <td>...</td>\n",
       "      <td>...</td>\n",
       "      <td>...</td>\n",
       "      <td>...</td>\n",
       "      <td>...</td>\n",
       "      <td>...</td>\n",
       "      <td>...</td>\n",
       "      <td>...</td>\n",
       "    </tr>\n",
       "    <tr>\n",
       "      <th>249601</th>\n",
       "      <td>1413008</td>\n",
       "      <td>1</td>\n",
       "      <td>0</td>\n",
       "      <td>0</td>\n",
       "      <td>0</td>\n",
       "      <td>0</td>\n",
       "      <td>0</td>\n",
       "      <td>0</td>\n",
       "      <td>0</td>\n",
       "      <td>0</td>\n",
       "    </tr>\n",
       "    <tr>\n",
       "      <th>249602</th>\n",
       "      <td>779965</td>\n",
       "      <td>0</td>\n",
       "      <td>1</td>\n",
       "      <td>0</td>\n",
       "      <td>0</td>\n",
       "      <td>0</td>\n",
       "      <td>0</td>\n",
       "      <td>0</td>\n",
       "      <td>0</td>\n",
       "      <td>0</td>\n",
       "    </tr>\n",
       "    <tr>\n",
       "      <th>249603</th>\n",
       "      <td>1353489</td>\n",
       "      <td>1</td>\n",
       "      <td>0</td>\n",
       "      <td>0</td>\n",
       "      <td>0</td>\n",
       "      <td>0</td>\n",
       "      <td>0</td>\n",
       "      <td>0</td>\n",
       "      <td>0</td>\n",
       "      <td>0</td>\n",
       "    </tr>\n",
       "    <tr>\n",
       "      <th>249604</th>\n",
       "      <td>1607233</td>\n",
       "      <td>0</td>\n",
       "      <td>0</td>\n",
       "      <td>0</td>\n",
       "      <td>0</td>\n",
       "      <td>0</td>\n",
       "      <td>0</td>\n",
       "      <td>1</td>\n",
       "      <td>0</td>\n",
       "      <td>0</td>\n",
       "    </tr>\n",
       "    <tr>\n",
       "      <th>249605</th>\n",
       "      <td>474858</td>\n",
       "      <td>0</td>\n",
       "      <td>0</td>\n",
       "      <td>0</td>\n",
       "      <td>0</td>\n",
       "      <td>0</td>\n",
       "      <td>0</td>\n",
       "      <td>1</td>\n",
       "      <td>0</td>\n",
       "      <td>0</td>\n",
       "    </tr>\n",
       "  </tbody>\n",
       "</table>\n",
       "<p>249606 rows × 10 columns</p>\n",
       "</div>"
      ],
      "text/plain": [
       "           newClothId  smallCategoryHalfshort  smallCategoryShirt  \\\n",
       "0             1929966                       1                   0   \n",
       "1             1927658                       1                   0   \n",
       "2       1927660131403                       1                   0   \n",
       "3             1928209                       1                   0   \n",
       "4             1927270                       1                   0   \n",
       "...               ...                     ...                 ...   \n",
       "249601        1413008                       1                   0   \n",
       "249602         779965                       0                   1   \n",
       "249603        1353489                       1                   0   \n",
       "249604        1607233                       0                   0   \n",
       "249605         474858                       0                   0   \n",
       "\n",
       "        smallCategoryCollar  smallCategoryHoody  smallCategorySweatshirt  \\\n",
       "0                         0                   0                        0   \n",
       "1                         0                   0                        0   \n",
       "2                         0                   0                        0   \n",
       "3                         0                   0                        0   \n",
       "4                         0                   0                        0   \n",
       "...                     ...                 ...                      ...   \n",
       "249601                    0                   0                        0   \n",
       "249602                    0                   0                        0   \n",
       "249603                    0                   0                        0   \n",
       "249604                    0                   0                        0   \n",
       "249605                    0                   0                        0   \n",
       "\n",
       "        smallCategoryKnit  smallCategoryLong  smallCategoryShort  \\\n",
       "0                       0                  0                   0   \n",
       "1                       0                  0                   0   \n",
       "2                       0                  0                   0   \n",
       "3                       0                  0                   0   \n",
       "4                       0                  0                   0   \n",
       "...                   ...                ...                 ...   \n",
       "249601                  0                  0                   0   \n",
       "249602                  0                  0                   0   \n",
       "249603                  0                  0                   0   \n",
       "249604                  0                  1                   0   \n",
       "249605                  0                  1                   0   \n",
       "\n",
       "        smallCategoryOthers  \n",
       "0                         0  \n",
       "1                         0  \n",
       "2                         0  \n",
       "3                         0  \n",
       "4                         0  \n",
       "...                     ...  \n",
       "249601                    0  \n",
       "249602                    0  \n",
       "249603                    0  \n",
       "249604                    0  \n",
       "249605                    0  \n",
       "\n",
       "[249606 rows x 10 columns]"
      ]
     },
     "execution_count": 20,
     "metadata": {},
     "output_type": "execute_result"
    }
   ],
   "source": [
    "cloth_meta"
   ]
  },
  {
   "cell_type": "code",
   "execution_count": 21,
   "id": "d69a64dc",
   "metadata": {},
   "outputs": [],
   "source": [
    "cloth_meta = pd.merge(cloth_meta, a, how=\"left\", on=\"newClothId\")"
   ]
  },
  {
   "cell_type": "code",
   "execution_count": 22,
   "id": "9b2d9504",
   "metadata": {},
   "outputs": [
    {
     "data": {
      "text/plain": [
       "59819"
      ]
     },
     "execution_count": 22,
     "metadata": {},
     "output_type": "execute_result"
    }
   ],
   "source": [
    "unique_cloth_id = list(transaction['newClothId'].unique())\n",
    "len(unique_cloth_id)"
   ]
  },
  {
   "cell_type": "code",
   "execution_count": 23,
   "id": "b27b96b0",
   "metadata": {},
   "outputs": [],
   "source": [
    "a = cloth_meta.newClothId.isin(unique_cloth_id)\n",
    "cloth_meta = cloth_meta[a]\n",
    "cloth_meta.index = range(len(cloth_meta))"
   ]
  },
  {
   "cell_type": "code",
   "execution_count": 24,
   "id": "677ead7b",
   "metadata": {
    "scrolled": false
   },
   "outputs": [],
   "source": [
    "cloth_meta.idx = cloth_meta.idx.astype('int')"
   ]
  },
  {
   "cell_type": "code",
   "execution_count": 25,
   "id": "44d2f2e1",
   "metadata": {},
   "outputs": [],
   "source": [
    "transaction_source = [(transaction['userId'][i], transaction['idx'][i]) for i in range(transaction.shape[0])]"
   ]
  },
  {
   "cell_type": "code",
   "execution_count": 26,
   "id": "d80af2d3",
   "metadata": {},
   "outputs": [
    {
     "name": "stdout",
     "output_type": "stream",
     "text": [
      "userId의 유니크 개수 : 131315\n",
      "clothId의 유니크 개수 : 59819\n",
      "user테이블의 userId의 유니크 개수 : 131315\n",
      "cloth테이블의 clothId의 유니크 개수 : 59819\n"
     ]
    }
   ],
   "source": [
    "print('userId의 유니크 개수 :', len(transaction.userId.unique()))\n",
    "print('clothId의 유니크 개수 :', len(transaction.idx.unique()))\n",
    "print('user테이블의 userId의 유니크 개수 :', len(user_meta.userId.unique()))\n",
    "print('cloth테이블의 clothId의 유니크 개수 :', len(cloth_meta.idx.unique()))"
   ]
  },
  {
   "cell_type": "code",
   "execution_count": 27,
   "id": "0f96f51e",
   "metadata": {},
   "outputs": [
    {
     "data": {
      "text/html": [
       "<div>\n",
       "<style scoped>\n",
       "    .dataframe tbody tr th:only-of-type {\n",
       "        vertical-align: middle;\n",
       "    }\n",
       "\n",
       "    .dataframe tbody tr th {\n",
       "        vertical-align: top;\n",
       "    }\n",
       "\n",
       "    .dataframe thead th {\n",
       "        text-align: right;\n",
       "    }\n",
       "</style>\n",
       "<table border=\"1\" class=\"dataframe\">\n",
       "  <thead>\n",
       "    <tr style=\"text-align: right;\">\n",
       "      <th></th>\n",
       "      <th>newClothId</th>\n",
       "      <th>smallCategoryHalfshort</th>\n",
       "      <th>smallCategoryShirt</th>\n",
       "      <th>smallCategoryCollar</th>\n",
       "      <th>smallCategoryHoody</th>\n",
       "      <th>smallCategorySweatshirt</th>\n",
       "      <th>smallCategoryKnit</th>\n",
       "      <th>smallCategoryLong</th>\n",
       "      <th>smallCategoryShort</th>\n",
       "      <th>smallCategoryOthers</th>\n",
       "      <th>idx</th>\n",
       "    </tr>\n",
       "  </thead>\n",
       "  <tbody>\n",
       "    <tr>\n",
       "      <th>0</th>\n",
       "      <td>1440513131686</td>\n",
       "      <td>1</td>\n",
       "      <td>0</td>\n",
       "      <td>0</td>\n",
       "      <td>0</td>\n",
       "      <td>0</td>\n",
       "      <td>0</td>\n",
       "      <td>0</td>\n",
       "      <td>0</td>\n",
       "      <td>0</td>\n",
       "      <td>50031</td>\n",
       "    </tr>\n",
       "    <tr>\n",
       "      <th>1</th>\n",
       "      <td>1930909131765</td>\n",
       "      <td>0</td>\n",
       "      <td>0</td>\n",
       "      <td>0</td>\n",
       "      <td>0</td>\n",
       "      <td>0</td>\n",
       "      <td>0</td>\n",
       "      <td>1</td>\n",
       "      <td>0</td>\n",
       "      <td>0</td>\n",
       "      <td>7019</td>\n",
       "    </tr>\n",
       "    <tr>\n",
       "      <th>2</th>\n",
       "      <td>1930909131764</td>\n",
       "      <td>0</td>\n",
       "      <td>0</td>\n",
       "      <td>0</td>\n",
       "      <td>0</td>\n",
       "      <td>0</td>\n",
       "      <td>0</td>\n",
       "      <td>1</td>\n",
       "      <td>0</td>\n",
       "      <td>0</td>\n",
       "      <td>7840</td>\n",
       "    </tr>\n",
       "    <tr>\n",
       "      <th>3</th>\n",
       "      <td>1930909131766</td>\n",
       "      <td>0</td>\n",
       "      <td>0</td>\n",
       "      <td>0</td>\n",
       "      <td>0</td>\n",
       "      <td>0</td>\n",
       "      <td>0</td>\n",
       "      <td>1</td>\n",
       "      <td>0</td>\n",
       "      <td>0</td>\n",
       "      <td>7374</td>\n",
       "    </tr>\n",
       "    <tr>\n",
       "      <th>4</th>\n",
       "      <td>1931411131771</td>\n",
       "      <td>1</td>\n",
       "      <td>0</td>\n",
       "      <td>0</td>\n",
       "      <td>0</td>\n",
       "      <td>0</td>\n",
       "      <td>0</td>\n",
       "      <td>0</td>\n",
       "      <td>0</td>\n",
       "      <td>0</td>\n",
       "      <td>9496</td>\n",
       "    </tr>\n",
       "    <tr>\n",
       "      <th>...</th>\n",
       "      <td>...</td>\n",
       "      <td>...</td>\n",
       "      <td>...</td>\n",
       "      <td>...</td>\n",
       "      <td>...</td>\n",
       "      <td>...</td>\n",
       "      <td>...</td>\n",
       "      <td>...</td>\n",
       "      <td>...</td>\n",
       "      <td>...</td>\n",
       "      <td>...</td>\n",
       "    </tr>\n",
       "    <tr>\n",
       "      <th>59814</th>\n",
       "      <td>1281638267701</td>\n",
       "      <td>0</td>\n",
       "      <td>0</td>\n",
       "      <td>0</td>\n",
       "      <td>1</td>\n",
       "      <td>0</td>\n",
       "      <td>0</td>\n",
       "      <td>0</td>\n",
       "      <td>0</td>\n",
       "      <td>0</td>\n",
       "      <td>31274</td>\n",
       "    </tr>\n",
       "    <tr>\n",
       "      <th>59815</th>\n",
       "      <td>1622670267773</td>\n",
       "      <td>0</td>\n",
       "      <td>1</td>\n",
       "      <td>0</td>\n",
       "      <td>0</td>\n",
       "      <td>0</td>\n",
       "      <td>0</td>\n",
       "      <td>0</td>\n",
       "      <td>0</td>\n",
       "      <td>0</td>\n",
       "      <td>9458</td>\n",
       "    </tr>\n",
       "    <tr>\n",
       "      <th>59816</th>\n",
       "      <td>1556851267795</td>\n",
       "      <td>0</td>\n",
       "      <td>0</td>\n",
       "      <td>0</td>\n",
       "      <td>0</td>\n",
       "      <td>0</td>\n",
       "      <td>1</td>\n",
       "      <td>0</td>\n",
       "      <td>0</td>\n",
       "      <td>0</td>\n",
       "      <td>47549</td>\n",
       "    </tr>\n",
       "    <tr>\n",
       "      <th>59817</th>\n",
       "      <td>1651849267836</td>\n",
       "      <td>0</td>\n",
       "      <td>0</td>\n",
       "      <td>0</td>\n",
       "      <td>0</td>\n",
       "      <td>0</td>\n",
       "      <td>1</td>\n",
       "      <td>0</td>\n",
       "      <td>0</td>\n",
       "      <td>0</td>\n",
       "      <td>3995</td>\n",
       "    </tr>\n",
       "    <tr>\n",
       "      <th>59818</th>\n",
       "      <td>1680855267859</td>\n",
       "      <td>0</td>\n",
       "      <td>1</td>\n",
       "      <td>0</td>\n",
       "      <td>0</td>\n",
       "      <td>0</td>\n",
       "      <td>0</td>\n",
       "      <td>0</td>\n",
       "      <td>0</td>\n",
       "      <td>0</td>\n",
       "      <td>19742</td>\n",
       "    </tr>\n",
       "  </tbody>\n",
       "</table>\n",
       "<p>59819 rows × 11 columns</p>\n",
       "</div>"
      ],
      "text/plain": [
       "          newClothId  smallCategoryHalfshort  smallCategoryShirt  \\\n",
       "0      1440513131686                       1                   0   \n",
       "1      1930909131765                       0                   0   \n",
       "2      1930909131764                       0                   0   \n",
       "3      1930909131766                       0                   0   \n",
       "4      1931411131771                       1                   0   \n",
       "...              ...                     ...                 ...   \n",
       "59814  1281638267701                       0                   0   \n",
       "59815  1622670267773                       0                   1   \n",
       "59816  1556851267795                       0                   0   \n",
       "59817  1651849267836                       0                   0   \n",
       "59818  1680855267859                       0                   1   \n",
       "\n",
       "       smallCategoryCollar  smallCategoryHoody  smallCategorySweatshirt  \\\n",
       "0                        0                   0                        0   \n",
       "1                        0                   0                        0   \n",
       "2                        0                   0                        0   \n",
       "3                        0                   0                        0   \n",
       "4                        0                   0                        0   \n",
       "...                    ...                 ...                      ...   \n",
       "59814                    0                   1                        0   \n",
       "59815                    0                   0                        0   \n",
       "59816                    0                   0                        0   \n",
       "59817                    0                   0                        0   \n",
       "59818                    0                   0                        0   \n",
       "\n",
       "       smallCategoryKnit  smallCategoryLong  smallCategoryShort  \\\n",
       "0                      0                  0                   0   \n",
       "1                      0                  1                   0   \n",
       "2                      0                  1                   0   \n",
       "3                      0                  1                   0   \n",
       "4                      0                  0                   0   \n",
       "...                  ...                ...                 ...   \n",
       "59814                  0                  0                   0   \n",
       "59815                  0                  0                   0   \n",
       "59816                  1                  0                   0   \n",
       "59817                  1                  0                   0   \n",
       "59818                  0                  0                   0   \n",
       "\n",
       "       smallCategoryOthers    idx  \n",
       "0                        0  50031  \n",
       "1                        0   7019  \n",
       "2                        0   7840  \n",
       "3                        0   7374  \n",
       "4                        0   9496  \n",
       "...                    ...    ...  \n",
       "59814                    0  31274  \n",
       "59815                    0   9458  \n",
       "59816                    0  47549  \n",
       "59817                    0   3995  \n",
       "59818                    0  19742  \n",
       "\n",
       "[59819 rows x 11 columns]"
      ]
     },
     "execution_count": 27,
     "metadata": {},
     "output_type": "execute_result"
    }
   ],
   "source": [
    "cloth_meta"
   ]
  },
  {
   "cell_type": "code",
   "execution_count": 28,
   "id": "ee472fe0",
   "metadata": {},
   "outputs": [],
   "source": [
    "user_features_source = [(user_meta['userId'][i],\n",
    "                        [user_meta['smallCategoryHalfshort'][i], user_meta['smallCategoryShirt'][i], user_meta['smallCategoryCollar'][i],\n",
    "                        user_meta['smallCategoryHoody'][i], user_meta['smallCategorySweatshirt'][i], user_meta['smallCategoryKnit'][i],\n",
    "                        user_meta['smallCategoryLong'][i], user_meta['smallCategoryShort'][i], user_meta['smallCategoryOthers'][i]]) for i in range(user_meta.shape[0])]"
   ]
  },
  {
   "cell_type": "code",
   "execution_count": 29,
   "id": "5a7dd0b2",
   "metadata": {},
   "outputs": [],
   "source": [
    "cloth_features_source = [(cloth_meta['idx'][i],\n",
    "                        [cloth_meta['smallCategoryHalfshort'][i], cloth_meta['smallCategoryShirt'][i], cloth_meta['smallCategoryCollar'][i],\n",
    "                        cloth_meta['smallCategoryHoody'][i], cloth_meta['smallCategorySweatshirt'][i], cloth_meta['smallCategoryKnit'][i],\n",
    "                        cloth_meta['smallCategoryLong'][i], cloth_meta['smallCategoryShort'][i], cloth_meta['smallCategoryOthers'][i]]) for i in range(cloth_meta.shape[0])]"
   ]
  },
  {
   "cell_type": "code",
   "execution_count": 30,
   "id": "106bbb80",
   "metadata": {},
   "outputs": [],
   "source": [
    "dataset = Dataset()\n",
    "dataset.fit(users=transaction['userId'].unique(),\n",
    "           items=transaction['idx'].unique(),\n",
    "           user_features=user_meta[user_meta.columns[1:]].values.flatten(),\n",
    "           item_features=cloth_meta[cloth_meta.columns[1:]].values.flatten())"
   ]
  },
  {
   "cell_type": "code",
   "execution_count": 31,
   "id": "11a42356",
   "metadata": {},
   "outputs": [],
   "source": [
    "interactions, weights = dataset.build_interactions(transaction_source)"
   ]
  },
  {
   "cell_type": "code",
   "execution_count": 32,
   "id": "908b3a37",
   "metadata": {},
   "outputs": [],
   "source": [
    "user_features = dataset.build_user_features(user_features_source)"
   ]
  },
  {
   "cell_type": "code",
   "execution_count": 33,
   "id": "7d580846",
   "metadata": {
    "scrolled": true
   },
   "outputs": [],
   "source": [
    "cloth_features = dataset.build_item_features(cloth_features_source)"
   ]
  },
  {
   "cell_type": "code",
   "execution_count": 34,
   "id": "df956cdc",
   "metadata": {},
   "outputs": [],
   "source": [
    "train, test = random_train_test_split(interactions, test_percentage=0.2)\n",
    "train, test = train.tocsr().tocoo(), test.tocsr().tocoo()\n",
    "train_weights = train.multiply(weights).tocoo()\n",
    "test_weights = test.multiply(weights).tocoo()"
   ]
  },
  {
   "cell_type": "code",
   "execution_count": 35,
   "id": "03c32a76",
   "metadata": {},
   "outputs": [],
   "source": [
    "# no_components: 10\n",
    "# learning_rate : 0.05\n",
    "trials = Trials()\n",
    "space = [hp.choice('no_components', range(10, 21, 5)),\n",
    "         hp.uniform('learning_rate', 0.05, 0.1)]"
   ]
  },
  {
   "cell_type": "code",
   "execution_count": 36,
   "id": "c147633f",
   "metadata": {},
   "outputs": [],
   "source": [
    "# Define Objective Function\n",
    "def objective(params):\n",
    "    no_components, learning_rate = params\n",
    "    model = LightFM(no_components=no_components,\n",
    "                    learning_schedule='adagrad',\n",
    "                    loss='warp',\n",
    "                    learning_rate=learning_rate,\n",
    "                    random_state=0)\n",
    "\n",
    "    model.fit(interactions=train,\n",
    "              item_features=cloth_features,\n",
    "              user_features=user_features,\n",
    "              sample_weight=train_weights,\n",
    "              epochs=3,\n",
    "              verbose=False)\n",
    "\n",
    "    test_precision = precision_at_k(model, test, k=5, item_features=cloth_features, user_features=user_features).mean()\n",
    "    print(\"no_comp: {}, lrn_rate: {:.5f}, precision: {:.5f}\".format(\n",
    "      no_components, learning_rate, test_precision))\n",
    "    # test_auc = auc_score(model, test, item_features=item_features).mean()\n",
    "    output = -test_precision\n",
    "\n",
    "    if np.abs(output+1) < 0.01 or output < -1.0:\n",
    "        output = 0.0\n",
    "\n",
    "    return output"
   ]
  },
  {
   "cell_type": "code",
   "execution_count": 37,
   "id": "9b889fec",
   "metadata": {},
   "outputs": [
    {
     "name": "stdout",
     "output_type": "stream",
     "text": [
      "no_comp: 15, lrn_rate: 0.08011, precision: 0.00319                                                                     \n",
      "no_comp: 10, lrn_rate: 0.07910, precision: 0.00327                                                                     \n",
      "no_comp: 10, lrn_rate: 0.09059, precision: 0.00318                                                                     \n",
      "no_comp: 10, lrn_rate: 0.06772, precision: 0.00321                                                                     \n",
      "no_comp: 20, lrn_rate: 0.08772, precision: 0.00266                                                                     \n",
      "no_comp: 10, lrn_rate: 0.07315, precision: 0.00305                                                                     \n",
      "no_comp: 20, lrn_rate: 0.09748, precision: 0.00289                                                                     \n",
      "no_comp: 15, lrn_rate: 0.06291, precision: 0.00311                                                                     \n",
      "no_comp: 15, lrn_rate: 0.06201, precision: 0.00335                                                                     \n",
      "no_comp: 20, lrn_rate: 0.07793, precision: 0.00290                                                                     \n",
      "100%|████████████████████████████████████████████| 10/10 [36:38<00:00, 219.80s/trial, best loss: -0.003353079780936241]\n"
     ]
    }
   ],
   "source": [
    "best_params = fmin(fn=objective, space=space, algo=tpe.suggest, max_evals=10, trials=trials)"
   ]
  },
  {
   "cell_type": "code",
   "execution_count": 38,
   "id": "eeeed595",
   "metadata": {
    "scrolled": true
   },
   "outputs": [
    {
     "name": "stdout",
     "output_type": "stream",
     "text": [
      "0.062 1\n"
     ]
    }
   ],
   "source": [
    "learning_rate = round(best_params['learning_rate'], 3)\n",
    "no_components = best_params['no_components']\n",
    "print(learning_rate, no_components)"
   ]
  },
  {
   "cell_type": "code",
   "execution_count": 39,
   "id": "22d5c726",
   "metadata": {},
   "outputs": [
    {
     "name": "stderr",
     "output_type": "stream",
     "text": [
      "Epoch: 100%|███████████████████████████████████████████████████████████████████████████| 10/10 [00:05<00:00,  1.91it/s]\n"
     ]
    },
    {
     "data": {
      "text/plain": [
       "<lightfm.lightfm.LightFM at 0x2c8d6c31f40>"
      ]
     },
     "execution_count": 39,
     "metadata": {},
     "output_type": "execute_result"
    }
   ],
   "source": [
    "model = LightFM(no_components=no_components,\n",
    "                learning_schedule='adagrad',\n",
    "                loss='warp',\n",
    "                learning_rate=learning_rate,\n",
    "                random_state=0)\n",
    "\n",
    "model.fit(interactions=interactions,\n",
    "          item_features=cloth_features,\n",
    "          user_features=user_features,\n",
    "          sample_weight=weights,\n",
    "          epochs=10,\n",
    "          verbose=True)"
   ]
  },
  {
   "cell_type": "code",
   "execution_count": 40,
   "id": "b280b0eb",
   "metadata": {},
   "outputs": [],
   "source": [
    "# 모델 저장하기\n",
    "import pickle\n",
    "with open('model_category_top.pickle', 'wb') as fw:\n",
    "    pickle.dump(model, fw)"
   ]
  },
  {
   "cell_type": "code",
   "execution_count": 40,
   "id": "4583e5a9",
   "metadata": {},
   "outputs": [],
   "source": [
    "# 모델 불러오기\n",
    "import pickle\n",
    "with open('model_category_top.pickle', 'rb') as f:\n",
    "    model_top = pickle.load(f)"
   ]
  },
  {
   "cell_type": "code",
   "execution_count": 41,
   "id": "f4905096",
   "metadata": {},
   "outputs": [],
   "source": [
    "def sample_recommendation(model, idx, user_ids):\n",
    "    cnt = 1\n",
    "    for user_id in user_ids:\n",
    "        if cnt==1:\n",
    "            scores = model.predict(int(user_meta[user_meta.userId==user_id].index[0]), np.arange(len(cloth_meta)))\n",
    "        else:\n",
    "            scores += model.predict(int(user_meta[user_meta.userId==user_id].index[0]), np.arange(len(cloth_meta)))\n",
    "    \n",
    "    top_items = idx[np.argsort(-scores)]\n",
    "    \n",
    "    sub_clothes = []\n",
    "\n",
    "    for x in top_items[:10]:\n",
    "        sub_clothes.append(x)\n",
    "    \n",
    "    rec_clothes = []\n",
    "    \n",
    "    for i in sub_clothes:\n",
    "        rec_clothes.append(cloth_meta[cloth_meta.idx==i].newClothId.iloc[0])\n",
    "    \n",
    "    return rec_clothes"
   ]
  },
  {
   "cell_type": "code",
   "execution_count": 42,
   "id": "7f8e4079",
   "metadata": {
    "scrolled": false
   },
   "outputs": [
    {
     "data": {
      "text/plain": [
       "[1440587133960,\n",
       " 1282892131862,\n",
       " 2139133140300,\n",
       " 2152337133146,\n",
       " 1648578142971,\n",
       " 1803785131756,\n",
       " 1804104134824,\n",
       " 1931904131835,\n",
       " 1572660131416,\n",
       " 2139144142723]"
      ]
     },
     "execution_count": 42,
     "metadata": {},
     "output_type": "execute_result"
    }
   ],
   "source": [
    "rec_size_top = sample_recommendation(model_top, cloth_meta.idx, real_user)\n",
    "rec_size_top"
   ]
  },
  {
   "cell_type": "code",
   "execution_count": 45,
   "id": "cb0ebabb",
   "metadata": {},
   "outputs": [
    {
     "data": {
      "text/plain": [
       "[904030, 871998, 1214425]"
      ]
     },
     "execution_count": 45,
     "metadata": {},
     "output_type": "execute_result"
    }
   ],
   "source": [
    "real_user"
   ]
  },
  {
   "cell_type": "code",
   "execution_count": 46,
   "id": "98c4dc9a",
   "metadata": {},
   "outputs": [],
   "source": [
    "cloth_meta.insert(11, 'what', 16, True)\n",
    "user_meta.insert(10, 'what', 16, True)"
   ]
  },
  {
   "cell_type": "code",
   "execution_count": 47,
   "id": "f763579d",
   "metadata": {
    "scrolled": false
   },
   "outputs": [
    {
     "data": {
      "text/html": [
       "<div>\n",
       "<style scoped>\n",
       "    .dataframe tbody tr th:only-of-type {\n",
       "        vertical-align: middle;\n",
       "    }\n",
       "\n",
       "    .dataframe tbody tr th {\n",
       "        vertical-align: top;\n",
       "    }\n",
       "\n",
       "    .dataframe thead th {\n",
       "        text-align: right;\n",
       "    }\n",
       "</style>\n",
       "<table border=\"1\" class=\"dataframe\">\n",
       "  <thead>\n",
       "    <tr style=\"text-align: right;\">\n",
       "      <th></th>\n",
       "      <th>newClothId</th>\n",
       "      <th>idx</th>\n",
       "      <th>what</th>\n",
       "    </tr>\n",
       "  </thead>\n",
       "  <tbody>\n",
       "    <tr>\n",
       "      <th>0</th>\n",
       "      <td>1440513131686</td>\n",
       "      <td>50031</td>\n",
       "      <td>16</td>\n",
       "    </tr>\n",
       "    <tr>\n",
       "      <th>1</th>\n",
       "      <td>1930909131765</td>\n",
       "      <td>7019</td>\n",
       "      <td>16</td>\n",
       "    </tr>\n",
       "    <tr>\n",
       "      <th>2</th>\n",
       "      <td>1930909131764</td>\n",
       "      <td>7840</td>\n",
       "      <td>16</td>\n",
       "    </tr>\n",
       "    <tr>\n",
       "      <th>3</th>\n",
       "      <td>1930909131766</td>\n",
       "      <td>7374</td>\n",
       "      <td>16</td>\n",
       "    </tr>\n",
       "    <tr>\n",
       "      <th>4</th>\n",
       "      <td>1931411131771</td>\n",
       "      <td>9496</td>\n",
       "      <td>16</td>\n",
       "    </tr>\n",
       "    <tr>\n",
       "      <th>...</th>\n",
       "      <td>...</td>\n",
       "      <td>...</td>\n",
       "      <td>...</td>\n",
       "    </tr>\n",
       "    <tr>\n",
       "      <th>59814</th>\n",
       "      <td>1281638267701</td>\n",
       "      <td>31274</td>\n",
       "      <td>16</td>\n",
       "    </tr>\n",
       "    <tr>\n",
       "      <th>59815</th>\n",
       "      <td>1622670267773</td>\n",
       "      <td>9458</td>\n",
       "      <td>16</td>\n",
       "    </tr>\n",
       "    <tr>\n",
       "      <th>59816</th>\n",
       "      <td>1556851267795</td>\n",
       "      <td>47549</td>\n",
       "      <td>16</td>\n",
       "    </tr>\n",
       "    <tr>\n",
       "      <th>59817</th>\n",
       "      <td>1651849267836</td>\n",
       "      <td>3995</td>\n",
       "      <td>16</td>\n",
       "    </tr>\n",
       "    <tr>\n",
       "      <th>59818</th>\n",
       "      <td>1680855267859</td>\n",
       "      <td>19742</td>\n",
       "      <td>16</td>\n",
       "    </tr>\n",
       "  </tbody>\n",
       "</table>\n",
       "<p>59819 rows × 3 columns</p>\n",
       "</div>"
      ],
      "text/plain": [
       "          newClothId    idx  what\n",
       "0      1440513131686  50031    16\n",
       "1      1930909131765   7019    16\n",
       "2      1930909131764   7840    16\n",
       "3      1930909131766   7374    16\n",
       "4      1931411131771   9496    16\n",
       "...              ...    ...   ...\n",
       "59814  1281638267701  31274    16\n",
       "59815  1622670267773   9458    16\n",
       "59816  1556851267795  47549    16\n",
       "59817  1651849267836   3995    16\n",
       "59818  1680855267859  19742    16\n",
       "\n",
       "[59819 rows x 3 columns]"
      ]
     },
     "execution_count": 47,
     "metadata": {},
     "output_type": "execute_result"
    }
   ],
   "source": [
    "cloth_meta = cloth_meta[[\"newClothId\", \"idx\", 'what']]\n",
    "cloth_meta"
   ]
  },
  {
   "cell_type": "code",
   "execution_count": 48,
   "id": "16f1dc96",
   "metadata": {},
   "outputs": [],
   "source": [
    "cloth_meta.to_json('category_top_cloth_meta.json', orient='records', force_ascii=False)\n",
    "user_meta.to_json('category_top_user_meta.json', orient='records', force_ascii=False)"
   ]
  },
  {
   "cell_type": "code",
   "execution_count": 49,
   "id": "4554c0d8",
   "metadata": {},
   "outputs": [
    {
     "data": {
      "text/html": [
       "<div>\n",
       "<style scoped>\n",
       "    .dataframe tbody tr th:only-of-type {\n",
       "        vertical-align: middle;\n",
       "    }\n",
       "\n",
       "    .dataframe tbody tr th {\n",
       "        vertical-align: top;\n",
       "    }\n",
       "\n",
       "    .dataframe thead th {\n",
       "        text-align: right;\n",
       "    }\n",
       "</style>\n",
       "<table border=\"1\" class=\"dataframe\">\n",
       "  <thead>\n",
       "    <tr style=\"text-align: right;\">\n",
       "      <th></th>\n",
       "      <th>userId</th>\n",
       "      <th>smallCategoryHalfshort</th>\n",
       "      <th>smallCategoryShirt</th>\n",
       "      <th>smallCategoryCollar</th>\n",
       "      <th>smallCategoryHoody</th>\n",
       "      <th>smallCategorySweatshirt</th>\n",
       "      <th>smallCategoryKnit</th>\n",
       "      <th>smallCategoryLong</th>\n",
       "      <th>smallCategoryShort</th>\n",
       "      <th>smallCategoryOthers</th>\n",
       "      <th>what</th>\n",
       "    </tr>\n",
       "  </thead>\n",
       "  <tbody>\n",
       "    <tr>\n",
       "      <th>0</th>\n",
       "      <td>858064</td>\n",
       "      <td>0.000000</td>\n",
       "      <td>0.000000</td>\n",
       "      <td>0.0</td>\n",
       "      <td>0.000000</td>\n",
       "      <td>0.333333</td>\n",
       "      <td>0.000000</td>\n",
       "      <td>0.666667</td>\n",
       "      <td>0.0</td>\n",
       "      <td>0.0</td>\n",
       "      <td>16</td>\n",
       "    </tr>\n",
       "    <tr>\n",
       "      <th>1</th>\n",
       "      <td>858065</td>\n",
       "      <td>0.500000</td>\n",
       "      <td>0.500000</td>\n",
       "      <td>0.0</td>\n",
       "      <td>0.000000</td>\n",
       "      <td>0.000000</td>\n",
       "      <td>0.000000</td>\n",
       "      <td>0.000000</td>\n",
       "      <td>0.0</td>\n",
       "      <td>0.0</td>\n",
       "      <td>16</td>\n",
       "    </tr>\n",
       "    <tr>\n",
       "      <th>2</th>\n",
       "      <td>858067</td>\n",
       "      <td>0.250000</td>\n",
       "      <td>0.000000</td>\n",
       "      <td>0.0</td>\n",
       "      <td>0.500000</td>\n",
       "      <td>0.250000</td>\n",
       "      <td>0.000000</td>\n",
       "      <td>0.000000</td>\n",
       "      <td>0.0</td>\n",
       "      <td>0.0</td>\n",
       "      <td>16</td>\n",
       "    </tr>\n",
       "    <tr>\n",
       "      <th>3</th>\n",
       "      <td>858070</td>\n",
       "      <td>1.000000</td>\n",
       "      <td>0.000000</td>\n",
       "      <td>0.0</td>\n",
       "      <td>0.000000</td>\n",
       "      <td>0.000000</td>\n",
       "      <td>0.000000</td>\n",
       "      <td>0.000000</td>\n",
       "      <td>0.0</td>\n",
       "      <td>0.0</td>\n",
       "      <td>16</td>\n",
       "    </tr>\n",
       "    <tr>\n",
       "      <th>4</th>\n",
       "      <td>858071</td>\n",
       "      <td>0.400000</td>\n",
       "      <td>0.000000</td>\n",
       "      <td>0.0</td>\n",
       "      <td>0.000000</td>\n",
       "      <td>0.000000</td>\n",
       "      <td>0.400000</td>\n",
       "      <td>0.200000</td>\n",
       "      <td>0.0</td>\n",
       "      <td>0.0</td>\n",
       "      <td>16</td>\n",
       "    </tr>\n",
       "    <tr>\n",
       "      <th>...</th>\n",
       "      <td>...</td>\n",
       "      <td>...</td>\n",
       "      <td>...</td>\n",
       "      <td>...</td>\n",
       "      <td>...</td>\n",
       "      <td>...</td>\n",
       "      <td>...</td>\n",
       "      <td>...</td>\n",
       "      <td>...</td>\n",
       "      <td>...</td>\n",
       "      <td>...</td>\n",
       "    </tr>\n",
       "    <tr>\n",
       "      <th>131310</th>\n",
       "      <td>1416935</td>\n",
       "      <td>0.214286</td>\n",
       "      <td>0.000000</td>\n",
       "      <td>0.0</td>\n",
       "      <td>0.071429</td>\n",
       "      <td>0.214286</td>\n",
       "      <td>0.285714</td>\n",
       "      <td>0.214286</td>\n",
       "      <td>0.0</td>\n",
       "      <td>0.0</td>\n",
       "      <td>16</td>\n",
       "    </tr>\n",
       "    <tr>\n",
       "      <th>131311</th>\n",
       "      <td>1416936</td>\n",
       "      <td>0.000000</td>\n",
       "      <td>0.333333</td>\n",
       "      <td>0.0</td>\n",
       "      <td>0.000000</td>\n",
       "      <td>0.000000</td>\n",
       "      <td>0.666667</td>\n",
       "      <td>0.000000</td>\n",
       "      <td>0.0</td>\n",
       "      <td>0.0</td>\n",
       "      <td>16</td>\n",
       "    </tr>\n",
       "    <tr>\n",
       "      <th>131312</th>\n",
       "      <td>1416938</td>\n",
       "      <td>0.000000</td>\n",
       "      <td>0.000000</td>\n",
       "      <td>0.0</td>\n",
       "      <td>0.400000</td>\n",
       "      <td>0.400000</td>\n",
       "      <td>0.200000</td>\n",
       "      <td>0.000000</td>\n",
       "      <td>0.0</td>\n",
       "      <td>0.0</td>\n",
       "      <td>16</td>\n",
       "    </tr>\n",
       "    <tr>\n",
       "      <th>131313</th>\n",
       "      <td>1416946</td>\n",
       "      <td>0.166667</td>\n",
       "      <td>0.000000</td>\n",
       "      <td>0.0</td>\n",
       "      <td>0.166667</td>\n",
       "      <td>0.166667</td>\n",
       "      <td>0.166667</td>\n",
       "      <td>0.333333</td>\n",
       "      <td>0.0</td>\n",
       "      <td>0.0</td>\n",
       "      <td>16</td>\n",
       "    </tr>\n",
       "    <tr>\n",
       "      <th>131314</th>\n",
       "      <td>1416948</td>\n",
       "      <td>0.500000</td>\n",
       "      <td>0.500000</td>\n",
       "      <td>0.0</td>\n",
       "      <td>0.000000</td>\n",
       "      <td>0.000000</td>\n",
       "      <td>0.000000</td>\n",
       "      <td>0.000000</td>\n",
       "      <td>0.0</td>\n",
       "      <td>0.0</td>\n",
       "      <td>16</td>\n",
       "    </tr>\n",
       "  </tbody>\n",
       "</table>\n",
       "<p>131315 rows × 11 columns</p>\n",
       "</div>"
      ],
      "text/plain": [
       "         userId  smallCategoryHalfshort  smallCategoryShirt  \\\n",
       "0        858064                0.000000            0.000000   \n",
       "1        858065                0.500000            0.500000   \n",
       "2        858067                0.250000            0.000000   \n",
       "3        858070                1.000000            0.000000   \n",
       "4        858071                0.400000            0.000000   \n",
       "...         ...                     ...                 ...   \n",
       "131310  1416935                0.214286            0.000000   \n",
       "131311  1416936                0.000000            0.333333   \n",
       "131312  1416938                0.000000            0.000000   \n",
       "131313  1416946                0.166667            0.000000   \n",
       "131314  1416948                0.500000            0.500000   \n",
       "\n",
       "        smallCategoryCollar  smallCategoryHoody  smallCategorySweatshirt  \\\n",
       "0                       0.0            0.000000                 0.333333   \n",
       "1                       0.0            0.000000                 0.000000   \n",
       "2                       0.0            0.500000                 0.250000   \n",
       "3                       0.0            0.000000                 0.000000   \n",
       "4                       0.0            0.000000                 0.000000   \n",
       "...                     ...                 ...                      ...   \n",
       "131310                  0.0            0.071429                 0.214286   \n",
       "131311                  0.0            0.000000                 0.000000   \n",
       "131312                  0.0            0.400000                 0.400000   \n",
       "131313                  0.0            0.166667                 0.166667   \n",
       "131314                  0.0            0.000000                 0.000000   \n",
       "\n",
       "        smallCategoryKnit  smallCategoryLong  smallCategoryShort  \\\n",
       "0                0.000000           0.666667                 0.0   \n",
       "1                0.000000           0.000000                 0.0   \n",
       "2                0.000000           0.000000                 0.0   \n",
       "3                0.000000           0.000000                 0.0   \n",
       "4                0.400000           0.200000                 0.0   \n",
       "...                   ...                ...                 ...   \n",
       "131310           0.285714           0.214286                 0.0   \n",
       "131311           0.666667           0.000000                 0.0   \n",
       "131312           0.200000           0.000000                 0.0   \n",
       "131313           0.166667           0.333333                 0.0   \n",
       "131314           0.000000           0.000000                 0.0   \n",
       "\n",
       "        smallCategoryOthers  what  \n",
       "0                       0.0    16  \n",
       "1                       0.0    16  \n",
       "2                       0.0    16  \n",
       "3                       0.0    16  \n",
       "4                       0.0    16  \n",
       "...                     ...   ...  \n",
       "131310                  0.0    16  \n",
       "131311                  0.0    16  \n",
       "131312                  0.0    16  \n",
       "131313                  0.0    16  \n",
       "131314                  0.0    16  \n",
       "\n",
       "[131315 rows x 11 columns]"
      ]
     },
     "execution_count": 49,
     "metadata": {},
     "output_type": "execute_result"
    }
   ],
   "source": [
    "user_meta"
   ]
  },
  {
   "cell_type": "code",
   "execution_count": null,
   "id": "932b67a5",
   "metadata": {},
   "outputs": [],
   "source": []
  },
  {
   "cell_type": "code",
   "execution_count": null,
   "id": "a3ad1d65",
   "metadata": {},
   "outputs": [],
   "source": []
  },
  {
   "cell_type": "markdown",
   "id": "93bc7d72",
   "metadata": {},
   "source": [
    "# Outer"
   ]
  },
  {
   "cell_type": "code",
   "execution_count": 41,
   "id": "ab277d5f",
   "metadata": {},
   "outputs": [],
   "source": [
    "transaction = pd.read_json('./transaction_outer.json')\n",
    "cloth_meta = pd.read_json('./final_outer.json')\n",
    "user_meta = pd.read_json('./user_outer.json')\n",
    "transaction = transaction[['userId', 'newClothId', 'shopCnt']]"
   ]
  },
  {
   "cell_type": "code",
   "execution_count": 42,
   "id": "5b8708d3",
   "metadata": {},
   "outputs": [
    {
     "data": {
      "text/plain": [
       "(171253, 3)"
      ]
     },
     "execution_count": 42,
     "metadata": {},
     "output_type": "execute_result"
    }
   ],
   "source": [
    "transaction = transaction[transaction.shopCnt > 1]\n",
    "transaction.shape"
   ]
  },
  {
   "cell_type": "code",
   "execution_count": 43,
   "id": "d02c477e",
   "metadata": {},
   "outputs": [
    {
     "name": "stdout",
     "output_type": "stream",
     "text": [
      "93511\n",
      "26877\n"
     ]
    }
   ],
   "source": [
    "user_outer_list = pd.DataFrame(transaction.userId.unique())\n",
    "cloth_outer_list = pd.DataFrame(transaction.newClothId.unique())\n",
    "print(len(user_outer_list))\n",
    "print(len(cloth_outer_list))\n",
    "user_outer_list.to_json('user_outer_list.json', orient='records', force_ascii=False)\n",
    "cloth_outer_list.to_json('cloth_outer_list.json', orient='records', force_ascii=False)"
   ]
  },
  {
   "cell_type": "code",
   "execution_count": 44,
   "id": "89ea12da",
   "metadata": {},
   "outputs": [],
   "source": [
    "unique_id_cloth_meta = list(set(cloth_meta.newClothId))\n",
    "transaction=transaction.loc[transaction.newClothId.isin(unique_id_cloth_meta),:]"
   ]
  },
  {
   "cell_type": "code",
   "execution_count": 45,
   "id": "2f1702e9",
   "metadata": {
    "scrolled": false
   },
   "outputs": [],
   "source": [
    "a = transaction[['newClothId']]\n",
    "a.insert(1, 'idx', 0, True)\n",
    "a = a.drop_duplicates(['newClothId'])\n",
    "a.idx = range(len(a))"
   ]
  },
  {
   "cell_type": "code",
   "execution_count": 46,
   "id": "55a43a64",
   "metadata": {},
   "outputs": [],
   "source": [
    "transaction = pd.merge(transaction, a, how=\"left\", on=\"newClothId\")"
   ]
  },
  {
   "cell_type": "code",
   "execution_count": 47,
   "id": "2702e331",
   "metadata": {
    "scrolled": true
   },
   "outputs": [],
   "source": [
    "user_meta = user_meta[category_outer_user_column]"
   ]
  },
  {
   "cell_type": "code",
   "execution_count": 48,
   "id": "902e2f12",
   "metadata": {},
   "outputs": [
    {
     "data": {
      "text/html": [
       "<div>\n",
       "<style scoped>\n",
       "    .dataframe tbody tr th:only-of-type {\n",
       "        vertical-align: middle;\n",
       "    }\n",
       "\n",
       "    .dataframe tbody tr th {\n",
       "        vertical-align: top;\n",
       "    }\n",
       "\n",
       "    .dataframe thead th {\n",
       "        text-align: right;\n",
       "    }\n",
       "</style>\n",
       "<table border=\"1\" class=\"dataframe\">\n",
       "  <thead>\n",
       "    <tr style=\"text-align: right;\">\n",
       "      <th></th>\n",
       "      <th>userId</th>\n",
       "      <th>smallCategoryHoodie</th>\n",
       "      <th>smallCategoryBlouson</th>\n",
       "      <th>smallCategoryRiders</th>\n",
       "      <th>smallCategoryMustang</th>\n",
       "      <th>smallCategoryCardigan</th>\n",
       "      <th>smallCategoryFleece</th>\n",
       "      <th>smallCategoryCoat</th>\n",
       "      <th>smallCategoryPaddedcoat</th>\n",
       "      <th>smallCategoryVest</th>\n",
       "      <th>smallCategoryJacket</th>\n",
       "      <th>smallCategoryOthers</th>\n",
       "    </tr>\n",
       "  </thead>\n",
       "  <tbody>\n",
       "    <tr>\n",
       "      <th>0</th>\n",
       "      <td>488503</td>\n",
       "      <td>0.0</td>\n",
       "      <td>0.000000</td>\n",
       "      <td>0.000000</td>\n",
       "      <td>0.000000</td>\n",
       "      <td>0.0</td>\n",
       "      <td>0.0</td>\n",
       "      <td>0.0</td>\n",
       "      <td>1.0</td>\n",
       "      <td>0.0</td>\n",
       "      <td>0.000000</td>\n",
       "      <td>0.0</td>\n",
       "    </tr>\n",
       "    <tr>\n",
       "      <th>1</th>\n",
       "      <td>488504</td>\n",
       "      <td>0.0</td>\n",
       "      <td>0.000000</td>\n",
       "      <td>0.000000</td>\n",
       "      <td>0.000000</td>\n",
       "      <td>0.0</td>\n",
       "      <td>0.0</td>\n",
       "      <td>0.0</td>\n",
       "      <td>1.0</td>\n",
       "      <td>0.0</td>\n",
       "      <td>0.000000</td>\n",
       "      <td>0.0</td>\n",
       "    </tr>\n",
       "    <tr>\n",
       "      <th>2</th>\n",
       "      <td>488506</td>\n",
       "      <td>1.0</td>\n",
       "      <td>0.000000</td>\n",
       "      <td>0.000000</td>\n",
       "      <td>0.000000</td>\n",
       "      <td>0.0</td>\n",
       "      <td>0.0</td>\n",
       "      <td>0.0</td>\n",
       "      <td>0.0</td>\n",
       "      <td>0.0</td>\n",
       "      <td>0.000000</td>\n",
       "      <td>0.0</td>\n",
       "    </tr>\n",
       "    <tr>\n",
       "      <th>3</th>\n",
       "      <td>488507</td>\n",
       "      <td>0.0</td>\n",
       "      <td>0.000000</td>\n",
       "      <td>0.000000</td>\n",
       "      <td>0.666667</td>\n",
       "      <td>0.0</td>\n",
       "      <td>0.0</td>\n",
       "      <td>0.0</td>\n",
       "      <td>0.0</td>\n",
       "      <td>0.0</td>\n",
       "      <td>0.333333</td>\n",
       "      <td>0.0</td>\n",
       "    </tr>\n",
       "    <tr>\n",
       "      <th>4</th>\n",
       "      <td>488509</td>\n",
       "      <td>0.0</td>\n",
       "      <td>0.000000</td>\n",
       "      <td>0.000000</td>\n",
       "      <td>0.000000</td>\n",
       "      <td>0.0</td>\n",
       "      <td>0.0</td>\n",
       "      <td>0.0</td>\n",
       "      <td>0.0</td>\n",
       "      <td>1.0</td>\n",
       "      <td>0.000000</td>\n",
       "      <td>0.0</td>\n",
       "    </tr>\n",
       "    <tr>\n",
       "      <th>...</th>\n",
       "      <td>...</td>\n",
       "      <td>...</td>\n",
       "      <td>...</td>\n",
       "      <td>...</td>\n",
       "      <td>...</td>\n",
       "      <td>...</td>\n",
       "      <td>...</td>\n",
       "      <td>...</td>\n",
       "      <td>...</td>\n",
       "      <td>...</td>\n",
       "      <td>...</td>\n",
       "      <td>...</td>\n",
       "    </tr>\n",
       "    <tr>\n",
       "      <th>93245</th>\n",
       "      <td>858056</td>\n",
       "      <td>0.0</td>\n",
       "      <td>0.000000</td>\n",
       "      <td>0.000000</td>\n",
       "      <td>0.000000</td>\n",
       "      <td>0.0</td>\n",
       "      <td>0.0</td>\n",
       "      <td>0.0</td>\n",
       "      <td>0.4</td>\n",
       "      <td>0.0</td>\n",
       "      <td>0.600000</td>\n",
       "      <td>0.0</td>\n",
       "    </tr>\n",
       "    <tr>\n",
       "      <th>93246</th>\n",
       "      <td>858057</td>\n",
       "      <td>0.0</td>\n",
       "      <td>0.333333</td>\n",
       "      <td>0.666667</td>\n",
       "      <td>0.000000</td>\n",
       "      <td>0.0</td>\n",
       "      <td>0.0</td>\n",
       "      <td>0.0</td>\n",
       "      <td>0.0</td>\n",
       "      <td>0.0</td>\n",
       "      <td>0.000000</td>\n",
       "      <td>0.0</td>\n",
       "    </tr>\n",
       "    <tr>\n",
       "      <th>93247</th>\n",
       "      <td>858058</td>\n",
       "      <td>0.0</td>\n",
       "      <td>0.000000</td>\n",
       "      <td>0.000000</td>\n",
       "      <td>0.000000</td>\n",
       "      <td>0.0</td>\n",
       "      <td>0.0</td>\n",
       "      <td>0.0</td>\n",
       "      <td>0.0</td>\n",
       "      <td>0.0</td>\n",
       "      <td>1.000000</td>\n",
       "      <td>0.0</td>\n",
       "    </tr>\n",
       "    <tr>\n",
       "      <th>93248</th>\n",
       "      <td>858060</td>\n",
       "      <td>0.0</td>\n",
       "      <td>0.000000</td>\n",
       "      <td>0.000000</td>\n",
       "      <td>0.000000</td>\n",
       "      <td>0.0</td>\n",
       "      <td>1.0</td>\n",
       "      <td>0.0</td>\n",
       "      <td>0.0</td>\n",
       "      <td>0.0</td>\n",
       "      <td>0.000000</td>\n",
       "      <td>0.0</td>\n",
       "    </tr>\n",
       "    <tr>\n",
       "      <th>93249</th>\n",
       "      <td>858062</td>\n",
       "      <td>0.0</td>\n",
       "      <td>0.000000</td>\n",
       "      <td>1.000000</td>\n",
       "      <td>0.000000</td>\n",
       "      <td>0.0</td>\n",
       "      <td>0.0</td>\n",
       "      <td>0.0</td>\n",
       "      <td>0.0</td>\n",
       "      <td>0.0</td>\n",
       "      <td>0.000000</td>\n",
       "      <td>0.0</td>\n",
       "    </tr>\n",
       "  </tbody>\n",
       "</table>\n",
       "<p>93250 rows × 12 columns</p>\n",
       "</div>"
      ],
      "text/plain": [
       "       userId  smallCategoryHoodie  smallCategoryBlouson  smallCategoryRiders  \\\n",
       "0      488503                  0.0              0.000000             0.000000   \n",
       "1      488504                  0.0              0.000000             0.000000   \n",
       "2      488506                  1.0              0.000000             0.000000   \n",
       "3      488507                  0.0              0.000000             0.000000   \n",
       "4      488509                  0.0              0.000000             0.000000   \n",
       "...       ...                  ...                   ...                  ...   \n",
       "93245  858056                  0.0              0.000000             0.000000   \n",
       "93246  858057                  0.0              0.333333             0.666667   \n",
       "93247  858058                  0.0              0.000000             0.000000   \n",
       "93248  858060                  0.0              0.000000             0.000000   \n",
       "93249  858062                  0.0              0.000000             1.000000   \n",
       "\n",
       "       smallCategoryMustang  smallCategoryCardigan  smallCategoryFleece  \\\n",
       "0                  0.000000                    0.0                  0.0   \n",
       "1                  0.000000                    0.0                  0.0   \n",
       "2                  0.000000                    0.0                  0.0   \n",
       "3                  0.666667                    0.0                  0.0   \n",
       "4                  0.000000                    0.0                  0.0   \n",
       "...                     ...                    ...                  ...   \n",
       "93245              0.000000                    0.0                  0.0   \n",
       "93246              0.000000                    0.0                  0.0   \n",
       "93247              0.000000                    0.0                  0.0   \n",
       "93248              0.000000                    0.0                  1.0   \n",
       "93249              0.000000                    0.0                  0.0   \n",
       "\n",
       "       smallCategoryCoat  smallCategoryPaddedcoat  smallCategoryVest  \\\n",
       "0                    0.0                      1.0                0.0   \n",
       "1                    0.0                      1.0                0.0   \n",
       "2                    0.0                      0.0                0.0   \n",
       "3                    0.0                      0.0                0.0   \n",
       "4                    0.0                      0.0                1.0   \n",
       "...                  ...                      ...                ...   \n",
       "93245                0.0                      0.4                0.0   \n",
       "93246                0.0                      0.0                0.0   \n",
       "93247                0.0                      0.0                0.0   \n",
       "93248                0.0                      0.0                0.0   \n",
       "93249                0.0                      0.0                0.0   \n",
       "\n",
       "       smallCategoryJacket  smallCategoryOthers  \n",
       "0                 0.000000                  0.0  \n",
       "1                 0.000000                  0.0  \n",
       "2                 0.000000                  0.0  \n",
       "3                 0.333333                  0.0  \n",
       "4                 0.000000                  0.0  \n",
       "...                    ...                  ...  \n",
       "93245             0.600000                  0.0  \n",
       "93246             0.000000                  0.0  \n",
       "93247             1.000000                  0.0  \n",
       "93248             0.000000                  0.0  \n",
       "93249             0.000000                  0.0  \n",
       "\n",
       "[93250 rows x 12 columns]"
      ]
     },
     "execution_count": 48,
     "metadata": {},
     "output_type": "execute_result"
    }
   ],
   "source": [
    "unique_id_user_meta = list(set(transaction.userId))\n",
    "user_meta=user_meta.loc[user_meta.userId.isin(unique_id_user_meta),:]\n",
    "user_meta = user_meta.reset_index(drop=True)\n",
    "user_meta"
   ]
  },
  {
   "cell_type": "code",
   "execution_count": 49,
   "id": "f9e77623",
   "metadata": {
    "scrolled": false
   },
   "outputs": [
    {
     "data": {
      "text/html": [
       "<div>\n",
       "<style scoped>\n",
       "    .dataframe tbody tr th:only-of-type {\n",
       "        vertical-align: middle;\n",
       "    }\n",
       "\n",
       "    .dataframe tbody tr th {\n",
       "        vertical-align: top;\n",
       "    }\n",
       "\n",
       "    .dataframe thead th {\n",
       "        text-align: right;\n",
       "    }\n",
       "</style>\n",
       "<table border=\"1\" class=\"dataframe\">\n",
       "  <thead>\n",
       "    <tr style=\"text-align: right;\">\n",
       "      <th></th>\n",
       "      <th>userId</th>\n",
       "      <th>smallCategoryHoodie</th>\n",
       "      <th>smallCategoryBlouson</th>\n",
       "      <th>smallCategoryRiders</th>\n",
       "      <th>smallCategoryMustang</th>\n",
       "      <th>smallCategoryCardigan</th>\n",
       "      <th>smallCategoryFleece</th>\n",
       "      <th>smallCategoryCoat</th>\n",
       "      <th>smallCategoryPaddedcoat</th>\n",
       "      <th>smallCategoryVest</th>\n",
       "      <th>smallCategoryJacket</th>\n",
       "      <th>smallCategoryOthers</th>\n",
       "    </tr>\n",
       "  </thead>\n",
       "  <tbody>\n",
       "    <tr>\n",
       "      <th>0</th>\n",
       "      <td>8299.0</td>\n",
       "      <td>0.3</td>\n",
       "      <td>0.3</td>\n",
       "      <td>0.4</td>\n",
       "      <td>0.0</td>\n",
       "      <td>0.0</td>\n",
       "      <td>0.0</td>\n",
       "      <td>0.0</td>\n",
       "      <td>0.0</td>\n",
       "      <td>0.0</td>\n",
       "      <td>0.0</td>\n",
       "      <td>0.0</td>\n",
       "    </tr>\n",
       "  </tbody>\n",
       "</table>\n",
       "</div>"
      ],
      "text/plain": [
       "   userId  smallCategoryHoodie  smallCategoryBlouson  smallCategoryRiders  \\\n",
       "0  8299.0                  0.3                   0.3                  0.4   \n",
       "\n",
       "   smallCategoryMustang  smallCategoryCardigan  smallCategoryFleece  \\\n",
       "0                   0.0                    0.0                  0.0   \n",
       "\n",
       "   smallCategoryCoat  smallCategoryPaddedcoat  smallCategoryVest  \\\n",
       "0                0.0                      0.0                0.0   \n",
       "\n",
       "   smallCategoryJacket  smallCategoryOthers  \n",
       "0                  0.0                  0.0  "
      ]
     },
     "execution_count": 49,
     "metadata": {},
     "output_type": "execute_result"
    }
   ],
   "source": [
    "new_user = pd.DataFrame(user_meta.loc[0]).transpose()\n",
    "new_user_idx = new_user.index\n",
    "new_user.loc[new_user_idx, ('userId')] = 8299\n",
    "new_user.loc[new_user_idx, ('smallCategoryHoodie')] = 0.3\n",
    "new_user.loc[new_user_idx, ('smallCategoryBlouson')] = 0.3\n",
    "new_user.loc[new_user_idx, ('smallCategoryRiders')] = 0.4\n",
    "new_user.loc[new_user_idx, ('smallCategoryMustang')] = 0\n",
    "new_user.loc[new_user_idx, ('smallCategoryCardigan')] = 0\n",
    "new_user.loc[new_user_idx, ('smallCategoryFleece')] = 0\n",
    "new_user.loc[new_user_idx, ('smallCategoryCoat')] = 0\n",
    "new_user.loc[new_user_idx, ('smallCategoryPaddedcoat')] = 0\n",
    "new_user.loc[new_user_idx, ('smallCategoryVest')] = 0\n",
    "new_user.loc[new_user_idx, ('smallCategoryJacket')] = 0\n",
    "new_user.loc[new_user_idx, ('smallCategoryOthers')] = 0\n",
    "new_user = new_user[['userId', 'smallCategoryHoodie', 'smallCategoryBlouson',\n",
    "       'smallCategoryRiders', 'smallCategoryMustang', 'smallCategoryCardigan',\n",
    "       'smallCategoryFleece', 'smallCategoryCoat', 'smallCategoryPaddedcoat',\n",
    "       'smallCategoryVest', 'smallCategoryJacket', 'smallCategoryOthers']]\n",
    "new_user"
   ]
  },
  {
   "cell_type": "code",
   "execution_count": 50,
   "id": "13fc47d9",
   "metadata": {},
   "outputs": [
    {
     "name": "stdout",
     "output_type": "stream",
     "text": [
      "['userId', 'smallCategoryHoodie', 'smallCategoryBlouson', 'smallCategoryRiders']\n"
     ]
    }
   ],
   "source": [
    "colum = list(new_user.columns)\n",
    "di = dict()\n",
    "for i in range(len(colum)):\n",
    "    di[colum[i]] = new_user[colum[i]][0]\n",
    "col_list = []\n",
    "for idx, key in enumerate(di):\n",
    "    if idx > 0 and di[key] > 0.2:\n",
    "        col_list.append(key)\n",
    "col_list.insert(0, 'userId')\n",
    "print(col_list)"
   ]
  },
  {
   "cell_type": "code",
   "execution_count": 51,
   "id": "773504b7",
   "metadata": {},
   "outputs": [],
   "source": [
    "from copy import deepcopy\n",
    "sub_user = deepcopy(user_meta)"
   ]
  },
  {
   "cell_type": "code",
   "execution_count": 52,
   "id": "fe20b0bf",
   "metadata": {},
   "outputs": [],
   "source": [
    "for i in range(1, len(col_list)):\n",
    "    sub_user[col_list[i]] = sub_user.apply(lambda x: abs(x[col_list[i]]-new_user[col_list[i]].iloc[0]), axis=1)"
   ]
  },
  {
   "cell_type": "code",
   "execution_count": 53,
   "id": "cec575ec",
   "metadata": {},
   "outputs": [],
   "source": [
    "sub_col = list(sub_user.columns)[1:]"
   ]
  },
  {
   "cell_type": "code",
   "execution_count": 54,
   "id": "de6d4395",
   "metadata": {},
   "outputs": [],
   "source": [
    "sub_user.insert(1, 'favorSum', 0, True)\n",
    "sub_user.favorSum = sum(sub_user[col_i] for col_i in sub_col)\n",
    "sub_user = sub_user.sort_values('favorSum')"
   ]
  },
  {
   "cell_type": "code",
   "execution_count": 55,
   "id": "fff11fd9",
   "metadata": {},
   "outputs": [
    {
     "name": "stdout",
     "output_type": "stream",
     "text": [
      "[604845, 842621, 515560]\n"
     ]
    }
   ],
   "source": [
    "real_user = []\n",
    "for i in range(3):\n",
    "    real_user.append(sub_user.iloc[i].userId)\n",
    "real_user = [int(i) for i in real_user]\n",
    "print(real_user)"
   ]
  },
  {
   "cell_type": "code",
   "execution_count": 56,
   "id": "e9e65466",
   "metadata": {},
   "outputs": [],
   "source": [
    "cloth_meta = cloth_meta[category_outer_cloth_column]"
   ]
  },
  {
   "cell_type": "code",
   "execution_count": 57,
   "id": "18eba566",
   "metadata": {},
   "outputs": [
    {
     "data": {
      "text/html": [
       "<div>\n",
       "<style scoped>\n",
       "    .dataframe tbody tr th:only-of-type {\n",
       "        vertical-align: middle;\n",
       "    }\n",
       "\n",
       "    .dataframe tbody tr th {\n",
       "        vertical-align: top;\n",
       "    }\n",
       "\n",
       "    .dataframe thead th {\n",
       "        text-align: right;\n",
       "    }\n",
       "</style>\n",
       "<table border=\"1\" class=\"dataframe\">\n",
       "  <thead>\n",
       "    <tr style=\"text-align: right;\">\n",
       "      <th></th>\n",
       "      <th>newClothId</th>\n",
       "      <th>smallCategoryHoodie</th>\n",
       "      <th>smallCategoryBlouson</th>\n",
       "      <th>smallCategoryRiders</th>\n",
       "      <th>smallCategoryMustang</th>\n",
       "      <th>smallCategoryCardigan</th>\n",
       "      <th>smallCategoryFleece</th>\n",
       "      <th>smallCategoryCoat</th>\n",
       "      <th>smallCategoryPaddedcoat</th>\n",
       "      <th>smallCategoryVest</th>\n",
       "      <th>smallCategoryJacket</th>\n",
       "      <th>smallCategoryOthers</th>\n",
       "    </tr>\n",
       "  </thead>\n",
       "  <tbody>\n",
       "    <tr>\n",
       "      <th>0</th>\n",
       "      <td>2401813</td>\n",
       "      <td>0</td>\n",
       "      <td>0</td>\n",
       "      <td>0</td>\n",
       "      <td>0</td>\n",
       "      <td>0</td>\n",
       "      <td>0</td>\n",
       "      <td>0</td>\n",
       "      <td>0</td>\n",
       "      <td>0</td>\n",
       "      <td>1</td>\n",
       "      <td>0</td>\n",
       "    </tr>\n",
       "    <tr>\n",
       "      <th>1</th>\n",
       "      <td>234005278848</td>\n",
       "      <td>0</td>\n",
       "      <td>0</td>\n",
       "      <td>0</td>\n",
       "      <td>0</td>\n",
       "      <td>1</td>\n",
       "      <td>0</td>\n",
       "      <td>0</td>\n",
       "      <td>0</td>\n",
       "      <td>0</td>\n",
       "      <td>0</td>\n",
       "      <td>0</td>\n",
       "    </tr>\n",
       "    <tr>\n",
       "      <th>2</th>\n",
       "      <td>2379678</td>\n",
       "      <td>0</td>\n",
       "      <td>1</td>\n",
       "      <td>0</td>\n",
       "      <td>0</td>\n",
       "      <td>0</td>\n",
       "      <td>0</td>\n",
       "      <td>0</td>\n",
       "      <td>0</td>\n",
       "      <td>0</td>\n",
       "      <td>0</td>\n",
       "      <td>0</td>\n",
       "    </tr>\n",
       "    <tr>\n",
       "      <th>3</th>\n",
       "      <td>2360803</td>\n",
       "      <td>0</td>\n",
       "      <td>0</td>\n",
       "      <td>0</td>\n",
       "      <td>0</td>\n",
       "      <td>0</td>\n",
       "      <td>0</td>\n",
       "      <td>0</td>\n",
       "      <td>1</td>\n",
       "      <td>0</td>\n",
       "      <td>0</td>\n",
       "      <td>0</td>\n",
       "    </tr>\n",
       "    <tr>\n",
       "      <th>4</th>\n",
       "      <td>2354237</td>\n",
       "      <td>0</td>\n",
       "      <td>0</td>\n",
       "      <td>0</td>\n",
       "      <td>0</td>\n",
       "      <td>0</td>\n",
       "      <td>0</td>\n",
       "      <td>0</td>\n",
       "      <td>0</td>\n",
       "      <td>0</td>\n",
       "      <td>1</td>\n",
       "      <td>0</td>\n",
       "    </tr>\n",
       "    <tr>\n",
       "      <th>...</th>\n",
       "      <td>...</td>\n",
       "      <td>...</td>\n",
       "      <td>...</td>\n",
       "      <td>...</td>\n",
       "      <td>...</td>\n",
       "      <td>...</td>\n",
       "      <td>...</td>\n",
       "      <td>...</td>\n",
       "      <td>...</td>\n",
       "      <td>...</td>\n",
       "      <td>...</td>\n",
       "      <td>...</td>\n",
       "    </tr>\n",
       "    <tr>\n",
       "      <th>85636</th>\n",
       "      <td>2322135130506</td>\n",
       "      <td>0</td>\n",
       "      <td>0</td>\n",
       "      <td>0</td>\n",
       "      <td>0</td>\n",
       "      <td>0</td>\n",
       "      <td>0</td>\n",
       "      <td>0</td>\n",
       "      <td>0</td>\n",
       "      <td>0</td>\n",
       "      <td>1</td>\n",
       "      <td>0</td>\n",
       "    </tr>\n",
       "    <tr>\n",
       "      <th>85637</th>\n",
       "      <td>2322135130507</td>\n",
       "      <td>0</td>\n",
       "      <td>0</td>\n",
       "      <td>0</td>\n",
       "      <td>0</td>\n",
       "      <td>0</td>\n",
       "      <td>0</td>\n",
       "      <td>0</td>\n",
       "      <td>0</td>\n",
       "      <td>0</td>\n",
       "      <td>1</td>\n",
       "      <td>0</td>\n",
       "    </tr>\n",
       "    <tr>\n",
       "      <th>85638</th>\n",
       "      <td>2322135130508</td>\n",
       "      <td>0</td>\n",
       "      <td>0</td>\n",
       "      <td>0</td>\n",
       "      <td>0</td>\n",
       "      <td>0</td>\n",
       "      <td>0</td>\n",
       "      <td>0</td>\n",
       "      <td>0</td>\n",
       "      <td>0</td>\n",
       "      <td>1</td>\n",
       "      <td>0</td>\n",
       "    </tr>\n",
       "    <tr>\n",
       "      <th>85639</th>\n",
       "      <td>2352578</td>\n",
       "      <td>0</td>\n",
       "      <td>1</td>\n",
       "      <td>0</td>\n",
       "      <td>0</td>\n",
       "      <td>0</td>\n",
       "      <td>0</td>\n",
       "      <td>0</td>\n",
       "      <td>0</td>\n",
       "      <td>0</td>\n",
       "      <td>0</td>\n",
       "      <td>0</td>\n",
       "    </tr>\n",
       "    <tr>\n",
       "      <th>85640</th>\n",
       "      <td>2398671</td>\n",
       "      <td>0</td>\n",
       "      <td>0</td>\n",
       "      <td>0</td>\n",
       "      <td>0</td>\n",
       "      <td>0</td>\n",
       "      <td>0</td>\n",
       "      <td>0</td>\n",
       "      <td>0</td>\n",
       "      <td>0</td>\n",
       "      <td>0</td>\n",
       "      <td>1</td>\n",
       "    </tr>\n",
       "  </tbody>\n",
       "</table>\n",
       "<p>85641 rows × 12 columns</p>\n",
       "</div>"
      ],
      "text/plain": [
       "          newClothId  smallCategoryHoodie  smallCategoryBlouson  \\\n",
       "0            2401813                    0                     0   \n",
       "1       234005278848                    0                     0   \n",
       "2            2379678                    0                     1   \n",
       "3            2360803                    0                     0   \n",
       "4            2354237                    0                     0   \n",
       "...              ...                  ...                   ...   \n",
       "85636  2322135130506                    0                     0   \n",
       "85637  2322135130507                    0                     0   \n",
       "85638  2322135130508                    0                     0   \n",
       "85639        2352578                    0                     1   \n",
       "85640        2398671                    0                     0   \n",
       "\n",
       "       smallCategoryRiders  smallCategoryMustang  smallCategoryCardigan  \\\n",
       "0                        0                     0                      0   \n",
       "1                        0                     0                      1   \n",
       "2                        0                     0                      0   \n",
       "3                        0                     0                      0   \n",
       "4                        0                     0                      0   \n",
       "...                    ...                   ...                    ...   \n",
       "85636                    0                     0                      0   \n",
       "85637                    0                     0                      0   \n",
       "85638                    0                     0                      0   \n",
       "85639                    0                     0                      0   \n",
       "85640                    0                     0                      0   \n",
       "\n",
       "       smallCategoryFleece  smallCategoryCoat  smallCategoryPaddedcoat  \\\n",
       "0                        0                  0                        0   \n",
       "1                        0                  0                        0   \n",
       "2                        0                  0                        0   \n",
       "3                        0                  0                        1   \n",
       "4                        0                  0                        0   \n",
       "...                    ...                ...                      ...   \n",
       "85636                    0                  0                        0   \n",
       "85637                    0                  0                        0   \n",
       "85638                    0                  0                        0   \n",
       "85639                    0                  0                        0   \n",
       "85640                    0                  0                        0   \n",
       "\n",
       "       smallCategoryVest  smallCategoryJacket  smallCategoryOthers  \n",
       "0                      0                    1                    0  \n",
       "1                      0                    0                    0  \n",
       "2                      0                    0                    0  \n",
       "3                      0                    0                    0  \n",
       "4                      0                    1                    0  \n",
       "...                  ...                  ...                  ...  \n",
       "85636                  0                    1                    0  \n",
       "85637                  0                    1                    0  \n",
       "85638                  0                    1                    0  \n",
       "85639                  0                    0                    0  \n",
       "85640                  0                    0                    1  \n",
       "\n",
       "[85641 rows x 12 columns]"
      ]
     },
     "execution_count": 57,
     "metadata": {},
     "output_type": "execute_result"
    }
   ],
   "source": [
    "cloth_meta"
   ]
  },
  {
   "cell_type": "code",
   "execution_count": 58,
   "id": "88ebf67a",
   "metadata": {},
   "outputs": [],
   "source": [
    "cloth_meta = pd.merge(cloth_meta, a, how=\"left\", on=\"newClothId\")"
   ]
  },
  {
   "cell_type": "code",
   "execution_count": 59,
   "id": "02598b1e",
   "metadata": {},
   "outputs": [
    {
     "data": {
      "text/plain": [
       "25916"
      ]
     },
     "execution_count": 59,
     "metadata": {},
     "output_type": "execute_result"
    }
   ],
   "source": [
    "unique_cloth_id = list(transaction['newClothId'].unique())\n",
    "len(unique_cloth_id)"
   ]
  },
  {
   "cell_type": "code",
   "execution_count": 60,
   "id": "b27b96b0",
   "metadata": {},
   "outputs": [],
   "source": [
    "a = cloth_meta.newClothId.isin(unique_cloth_id)\n",
    "cloth_meta = cloth_meta[a]\n",
    "cloth_meta.index = range(len(cloth_meta))"
   ]
  },
  {
   "cell_type": "code",
   "execution_count": 61,
   "id": "677ead7b",
   "metadata": {
    "scrolled": false
   },
   "outputs": [],
   "source": [
    "cloth_meta.idx = cloth_meta.idx.astype('int')"
   ]
  },
  {
   "cell_type": "code",
   "execution_count": 62,
   "id": "44d2f2e1",
   "metadata": {},
   "outputs": [],
   "source": [
    "transaction_source = [(transaction['userId'][i], transaction['idx'][i]) for i in range(transaction.shape[0])]"
   ]
  },
  {
   "cell_type": "code",
   "execution_count": 63,
   "id": "d80af2d3",
   "metadata": {},
   "outputs": [
    {
     "name": "stdout",
     "output_type": "stream",
     "text": [
      "userId의 유니크 개수 : 93250\n",
      "clothId의 유니크 개수 : 25916\n",
      "user테이블의 userId의 유니크 개수 : 93250\n",
      "cloth테이블의 clothId의 유니크 개수 : 25916\n"
     ]
    }
   ],
   "source": [
    "print('userId의 유니크 개수 :', len(transaction.userId.unique()))\n",
    "print('clothId의 유니크 개수 :', len(transaction.idx.unique()))\n",
    "print('user테이블의 userId의 유니크 개수 :', len(user_meta.userId.unique()))\n",
    "print('cloth테이블의 clothId의 유니크 개수 :', len(cloth_meta.idx.unique()))"
   ]
  },
  {
   "cell_type": "code",
   "execution_count": 64,
   "id": "c9f12648",
   "metadata": {},
   "outputs": [
    {
     "data": {
      "text/plain": [
       "Index(['userId', 'smallCategoryHoodie', 'smallCategoryBlouson',\n",
       "       'smallCategoryRiders', 'smallCategoryMustang', 'smallCategoryCardigan',\n",
       "       'smallCategoryFleece', 'smallCategoryCoat', 'smallCategoryPaddedcoat',\n",
       "       'smallCategoryVest', 'smallCategoryJacket', 'smallCategoryOthers'],\n",
       "      dtype='object')"
      ]
     },
     "execution_count": 64,
     "metadata": {},
     "output_type": "execute_result"
    }
   ],
   "source": [
    "user_meta.columns"
   ]
  },
  {
   "cell_type": "code",
   "execution_count": 65,
   "id": "ee472fe0",
   "metadata": {},
   "outputs": [],
   "source": [
    "user_features_source = [(user_meta['userId'][i],\n",
    "                        [user_meta['smallCategoryHoodie'][i], user_meta['smallCategoryBlouson'][i], user_meta['smallCategoryRiders'][i],\n",
    "                        user_meta['smallCategoryMustang'][i], user_meta['smallCategoryCardigan'][i], user_meta['smallCategoryFleece'][i],\n",
    "                        user_meta['smallCategoryCoat'][i], user_meta['smallCategoryPaddedcoat'][i], user_meta['smallCategoryVest'][i],\n",
    "                        user_meta['smallCategoryJacket'][i], user_meta['smallCategoryOthers'][i]]) for i in range(user_meta.shape[0])]"
   ]
  },
  {
   "cell_type": "code",
   "execution_count": 66,
   "id": "5a7dd0b2",
   "metadata": {},
   "outputs": [],
   "source": [
    "cloth_features_source = [(cloth_meta['idx'][i],\n",
    "                        [cloth_meta['smallCategoryHoodie'][i], cloth_meta['smallCategoryBlouson'][i], cloth_meta['smallCategoryRiders'][i],\n",
    "                        cloth_meta['smallCategoryMustang'][i], cloth_meta['smallCategoryCardigan'][i], cloth_meta['smallCategoryFleece'][i],\n",
    "                        cloth_meta['smallCategoryCoat'][i], cloth_meta['smallCategoryPaddedcoat'][i], cloth_meta['smallCategoryVest'][i],\n",
    "                        cloth_meta['smallCategoryJacket'][i], cloth_meta['smallCategoryOthers'][i]]) for i in range(cloth_meta.shape[0])]"
   ]
  },
  {
   "cell_type": "code",
   "execution_count": 67,
   "id": "106bbb80",
   "metadata": {},
   "outputs": [],
   "source": [
    "dataset = Dataset()\n",
    "dataset.fit(users=transaction['userId'].unique(),\n",
    "           items=transaction['idx'].unique(),\n",
    "           user_features=user_meta[user_meta.columns[1:]].values.flatten(),\n",
    "           item_features=cloth_meta[cloth_meta.columns[1:]].values.flatten())"
   ]
  },
  {
   "cell_type": "code",
   "execution_count": 68,
   "id": "11a42356",
   "metadata": {},
   "outputs": [],
   "source": [
    "interactions, weights = dataset.build_interactions(transaction_source)"
   ]
  },
  {
   "cell_type": "code",
   "execution_count": 69,
   "id": "908b3a37",
   "metadata": {},
   "outputs": [],
   "source": [
    "user_features = dataset.build_user_features(user_features_source)"
   ]
  },
  {
   "cell_type": "code",
   "execution_count": 70,
   "id": "7d580846",
   "metadata": {
    "scrolled": true
   },
   "outputs": [],
   "source": [
    "cloth_features = dataset.build_item_features(cloth_features_source)"
   ]
  },
  {
   "cell_type": "code",
   "execution_count": 71,
   "id": "df956cdc",
   "metadata": {},
   "outputs": [],
   "source": [
    "train, test = random_train_test_split(interactions, test_percentage=0.2)\n",
    "train, test = train.tocsr().tocoo(), test.tocsr().tocoo()\n",
    "train_weights = train.multiply(weights).tocoo()\n",
    "test_weights = test.multiply(weights).tocoo()"
   ]
  },
  {
   "cell_type": "code",
   "execution_count": 72,
   "id": "03c32a76",
   "metadata": {},
   "outputs": [],
   "source": [
    "# no_components: 10\n",
    "# learning_rate : 0.05\n",
    "trials = Trials()\n",
    "space = [hp.choice('no_components', range(10, 21, 5)),\n",
    "         hp.uniform('learning_rate', 0.05, 0.1)]"
   ]
  },
  {
   "cell_type": "code",
   "execution_count": 73,
   "id": "c147633f",
   "metadata": {},
   "outputs": [],
   "source": [
    "# Define Objective Function\n",
    "def objective(params):\n",
    "    no_components, learning_rate = params\n",
    "    model = LightFM(no_components=no_components,\n",
    "                    learning_schedule='adagrad',\n",
    "                    loss='warp',\n",
    "                    learning_rate=learning_rate,\n",
    "                    random_state=0)\n",
    "\n",
    "    model.fit(interactions=train,\n",
    "              item_features=cloth_features,\n",
    "              user_features=user_features,\n",
    "              sample_weight=train_weights,\n",
    "              epochs=3,\n",
    "              verbose=False)\n",
    "\n",
    "    test_precision = precision_at_k(model, test, k=5, item_features=cloth_features, user_features=user_features).mean()\n",
    "    print(\"no_comp: {}, lrn_rate: {:.5f}, precision: {:.5f}\".format(\n",
    "      no_components, learning_rate, test_precision))\n",
    "    # test_auc = auc_score(model, test, item_features=item_features).mean()\n",
    "    output = -test_precision\n",
    "\n",
    "    if np.abs(output+1) < 0.01 or output < -1.0:\n",
    "        output = 0.0\n",
    "\n",
    "    return output"
   ]
  },
  {
   "cell_type": "code",
   "execution_count": 74,
   "id": "9b889fec",
   "metadata": {},
   "outputs": [
    {
     "name": "stdout",
     "output_type": "stream",
     "text": [
      "no_comp: 20, lrn_rate: 0.05732, precision: 0.00526                                                                     \n",
      "no_comp: 10, lrn_rate: 0.06129, precision: 0.00578                                                                     \n",
      "no_comp: 10, lrn_rate: 0.09980, precision: 0.00558                                                                     \n",
      "no_comp: 20, lrn_rate: 0.06102, precision: 0.00576                                                                     \n",
      "no_comp: 20, lrn_rate: 0.09003, precision: 0.00541                                                                     \n",
      "no_comp: 20, lrn_rate: 0.06343, precision: 0.00531                                                                     \n",
      "no_comp: 10, lrn_rate: 0.09975, precision: 0.00562                                                                     \n",
      "no_comp: 15, lrn_rate: 0.09506, precision: 0.00494                                                                     \n",
      "no_comp: 20, lrn_rate: 0.08807, precision: 0.00541                                                                     \n",
      "no_comp: 15, lrn_rate: 0.08114, precision: 0.00565                                                                     \n",
      "100%|████████████████████████████████████████████| 10/10 [10:36<00:00, 63.67s/trial, best loss: -0.0057792277075350285]\n"
     ]
    }
   ],
   "source": [
    "best_params = fmin(fn=objective, space=space, algo=tpe.suggest, max_evals=10, trials=trials)"
   ]
  },
  {
   "cell_type": "code",
   "execution_count": 31,
   "id": "eeeed595",
   "metadata": {
    "scrolled": true
   },
   "outputs": [
    {
     "name": "stdout",
     "output_type": "stream",
     "text": [
      "0.05 2\n"
     ]
    }
   ],
   "source": [
    "learning_rate = round(best_params['learning_rate'], 3)\n",
    "no_components = best_params['no_components']\n",
    "print(learning_rate, no_components)"
   ]
  },
  {
   "cell_type": "code",
   "execution_count": 75,
   "id": "22d5c726",
   "metadata": {},
   "outputs": [
    {
     "name": "stderr",
     "output_type": "stream",
     "text": [
      "Epoch: 100%|███████████████████████████████████████████████████████████████████████████| 10/10 [00:02<00:00,  4.11it/s]\n"
     ]
    },
    {
     "data": {
      "text/plain": [
       "<lightfm.lightfm.LightFM at 0x2c8de2d8310>"
      ]
     },
     "execution_count": 75,
     "metadata": {},
     "output_type": "execute_result"
    }
   ],
   "source": [
    "model = LightFM(no_components=no_components,\n",
    "                learning_schedule='adagrad',\n",
    "                loss='warp',\n",
    "                learning_rate=learning_rate,\n",
    "                random_state=0)\n",
    "\n",
    "model.fit(interactions=interactions,\n",
    "          item_features=cloth_features,\n",
    "          user_features=user_features,\n",
    "          sample_weight=weights,\n",
    "          epochs=10,\n",
    "          verbose=True)"
   ]
  },
  {
   "cell_type": "code",
   "execution_count": 76,
   "id": "b280b0eb",
   "metadata": {},
   "outputs": [],
   "source": [
    "# 모델 저장하기\n",
    "import pickle\n",
    "with open('model_category_outer.pickle', 'wb') as fw:\n",
    "    pickle.dump(model, fw)"
   ]
  },
  {
   "cell_type": "code",
   "execution_count": 84,
   "id": "4583e5a9",
   "metadata": {},
   "outputs": [],
   "source": [
    "# 모델 불러오기\n",
    "import pickle\n",
    "with open('model_category_outer.pickle', 'rb') as f:\n",
    "    model_outer = pickle.load(f)"
   ]
  },
  {
   "cell_type": "code",
   "execution_count": 85,
   "id": "f4905096",
   "metadata": {},
   "outputs": [],
   "source": [
    "def sample_recommendation(model, idx, user_ids):\n",
    "    cnt = 1\n",
    "    for user_id in user_ids:\n",
    "        if cnt==1:\n",
    "            scores = model.predict(int(user_meta[user_meta.userId==user_id].index[0]), np.arange(len(cloth_meta)))\n",
    "        else:\n",
    "            scores += model.predict(int(user_meta[user_meta.userId==user_id].index[0]), np.arange(len(cloth_meta)))\n",
    "    \n",
    "    top_items = idx[np.argsort(-scores)]\n",
    "    \n",
    "    sub_clothes = []\n",
    "\n",
    "    for x in top_items[:10]:\n",
    "        sub_clothes.append(x)\n",
    "    \n",
    "    rec_clothes = []\n",
    "    \n",
    "    for i in sub_clothes:\n",
    "        rec_clothes.append(cloth_meta[cloth_meta.idx==i].newClothId.iloc[0])\n",
    "    \n",
    "    return rec_clothes"
   ]
  },
  {
   "cell_type": "code",
   "execution_count": 86,
   "id": "7f8e4079",
   "metadata": {
    "scrolled": false
   },
   "outputs": [
    {
     "data": {
      "text/plain": [
       "[157135683282,\n",
       " 238071082834,\n",
       " 231905785481,\n",
       " 117337981361,\n",
       " 1577133111047,\n",
       " 208840683451,\n",
       " 132418381736,\n",
       " 208155079212,\n",
       " 177400380239,\n",
       " 1736613110797]"
      ]
     },
     "execution_count": 86,
     "metadata": {},
     "output_type": "execute_result"
    }
   ],
   "source": [
    "rec_size_top = sample_recommendation(model_outer, cloth_meta.idx, real_user)\n",
    "rec_size_top"
   ]
  },
  {
   "cell_type": "code",
   "execution_count": 87,
   "id": "cb0ebabb",
   "metadata": {},
   "outputs": [
    {
     "data": {
      "text/plain": [
       "[604845, 842621, 515560]"
      ]
     },
     "execution_count": 87,
     "metadata": {},
     "output_type": "execute_result"
    }
   ],
   "source": [
    "real_user"
   ]
  },
  {
   "cell_type": "code",
   "execution_count": 88,
   "id": "98c4dc9a",
   "metadata": {},
   "outputs": [],
   "source": [
    "cloth_meta.insert(11, 'what', 17, True)\n",
    "user_meta.insert(10, 'what', 17, True)"
   ]
  },
  {
   "cell_type": "code",
   "execution_count": 89,
   "id": "f763579d",
   "metadata": {
    "scrolled": false
   },
   "outputs": [
    {
     "data": {
      "text/html": [
       "<div>\n",
       "<style scoped>\n",
       "    .dataframe tbody tr th:only-of-type {\n",
       "        vertical-align: middle;\n",
       "    }\n",
       "\n",
       "    .dataframe tbody tr th {\n",
       "        vertical-align: top;\n",
       "    }\n",
       "\n",
       "    .dataframe thead th {\n",
       "        text-align: right;\n",
       "    }\n",
       "</style>\n",
       "<table border=\"1\" class=\"dataframe\">\n",
       "  <thead>\n",
       "    <tr style=\"text-align: right;\">\n",
       "      <th></th>\n",
       "      <th>newClothId</th>\n",
       "      <th>idx</th>\n",
       "      <th>what</th>\n",
       "    </tr>\n",
       "  </thead>\n",
       "  <tbody>\n",
       "    <tr>\n",
       "      <th>0</th>\n",
       "      <td>234005278848</td>\n",
       "      <td>25240</td>\n",
       "      <td>17</td>\n",
       "    </tr>\n",
       "    <tr>\n",
       "      <th>1</th>\n",
       "      <td>208155079211</td>\n",
       "      <td>20700</td>\n",
       "      <td>17</td>\n",
       "    </tr>\n",
       "    <tr>\n",
       "      <th>2</th>\n",
       "      <td>208155079212</td>\n",
       "      <td>15426</td>\n",
       "      <td>17</td>\n",
       "    </tr>\n",
       "    <tr>\n",
       "      <th>3</th>\n",
       "      <td>208155079213</td>\n",
       "      <td>23065</td>\n",
       "      <td>17</td>\n",
       "    </tr>\n",
       "    <tr>\n",
       "      <th>4</th>\n",
       "      <td>208155079214</td>\n",
       "      <td>1832</td>\n",
       "      <td>17</td>\n",
       "    </tr>\n",
       "    <tr>\n",
       "      <th>...</th>\n",
       "      <td>...</td>\n",
       "      <td>...</td>\n",
       "      <td>...</td>\n",
       "    </tr>\n",
       "    <tr>\n",
       "      <th>25911</th>\n",
       "      <td>2080918130502</td>\n",
       "      <td>10939</td>\n",
       "      <td>17</td>\n",
       "    </tr>\n",
       "    <tr>\n",
       "      <th>25912</th>\n",
       "      <td>2080918130504</td>\n",
       "      <td>7261</td>\n",
       "      <td>17</td>\n",
       "    </tr>\n",
       "    <tr>\n",
       "      <th>25913</th>\n",
       "      <td>2322135130506</td>\n",
       "      <td>21919</td>\n",
       "      <td>17</td>\n",
       "    </tr>\n",
       "    <tr>\n",
       "      <th>25914</th>\n",
       "      <td>2322135130507</td>\n",
       "      <td>20550</td>\n",
       "      <td>17</td>\n",
       "    </tr>\n",
       "    <tr>\n",
       "      <th>25915</th>\n",
       "      <td>2322135130508</td>\n",
       "      <td>14176</td>\n",
       "      <td>17</td>\n",
       "    </tr>\n",
       "  </tbody>\n",
       "</table>\n",
       "<p>25916 rows × 3 columns</p>\n",
       "</div>"
      ],
      "text/plain": [
       "          newClothId    idx  what\n",
       "0       234005278848  25240    17\n",
       "1       208155079211  20700    17\n",
       "2       208155079212  15426    17\n",
       "3       208155079213  23065    17\n",
       "4       208155079214   1832    17\n",
       "...              ...    ...   ...\n",
       "25911  2080918130502  10939    17\n",
       "25912  2080918130504   7261    17\n",
       "25913  2322135130506  21919    17\n",
       "25914  2322135130507  20550    17\n",
       "25915  2322135130508  14176    17\n",
       "\n",
       "[25916 rows x 3 columns]"
      ]
     },
     "execution_count": 89,
     "metadata": {},
     "output_type": "execute_result"
    }
   ],
   "source": [
    "cloth_meta = cloth_meta[[\"newClothId\", \"idx\", 'what']]\n",
    "cloth_meta"
   ]
  },
  {
   "cell_type": "code",
   "execution_count": 90,
   "id": "16f1dc96",
   "metadata": {},
   "outputs": [],
   "source": [
    "cloth_meta.to_json('category_outer_cloth_meta.json', orient='records', force_ascii=False)\n",
    "user_meta.to_json('category_outer_user_meta.json', orient='records', force_ascii=False)"
   ]
  },
  {
   "cell_type": "code",
   "execution_count": 91,
   "id": "4554c0d8",
   "metadata": {},
   "outputs": [
    {
     "data": {
      "text/html": [
       "<div>\n",
       "<style scoped>\n",
       "    .dataframe tbody tr th:only-of-type {\n",
       "        vertical-align: middle;\n",
       "    }\n",
       "\n",
       "    .dataframe tbody tr th {\n",
       "        vertical-align: top;\n",
       "    }\n",
       "\n",
       "    .dataframe thead th {\n",
       "        text-align: right;\n",
       "    }\n",
       "</style>\n",
       "<table border=\"1\" class=\"dataframe\">\n",
       "  <thead>\n",
       "    <tr style=\"text-align: right;\">\n",
       "      <th></th>\n",
       "      <th>userId</th>\n",
       "      <th>smallCategoryHoodie</th>\n",
       "      <th>smallCategoryBlouson</th>\n",
       "      <th>smallCategoryRiders</th>\n",
       "      <th>smallCategoryMustang</th>\n",
       "      <th>smallCategoryCardigan</th>\n",
       "      <th>smallCategoryFleece</th>\n",
       "      <th>smallCategoryCoat</th>\n",
       "      <th>smallCategoryPaddedcoat</th>\n",
       "      <th>smallCategoryVest</th>\n",
       "      <th>what</th>\n",
       "      <th>smallCategoryJacket</th>\n",
       "      <th>smallCategoryOthers</th>\n",
       "    </tr>\n",
       "  </thead>\n",
       "  <tbody>\n",
       "    <tr>\n",
       "      <th>0</th>\n",
       "      <td>488503</td>\n",
       "      <td>0.0</td>\n",
       "      <td>0.000000</td>\n",
       "      <td>0.000000</td>\n",
       "      <td>0.000000</td>\n",
       "      <td>0.0</td>\n",
       "      <td>0.0</td>\n",
       "      <td>0.0</td>\n",
       "      <td>1.0</td>\n",
       "      <td>0.0</td>\n",
       "      <td>17</td>\n",
       "      <td>0.000000</td>\n",
       "      <td>0.0</td>\n",
       "    </tr>\n",
       "    <tr>\n",
       "      <th>1</th>\n",
       "      <td>488504</td>\n",
       "      <td>0.0</td>\n",
       "      <td>0.000000</td>\n",
       "      <td>0.000000</td>\n",
       "      <td>0.000000</td>\n",
       "      <td>0.0</td>\n",
       "      <td>0.0</td>\n",
       "      <td>0.0</td>\n",
       "      <td>1.0</td>\n",
       "      <td>0.0</td>\n",
       "      <td>17</td>\n",
       "      <td>0.000000</td>\n",
       "      <td>0.0</td>\n",
       "    </tr>\n",
       "    <tr>\n",
       "      <th>2</th>\n",
       "      <td>488506</td>\n",
       "      <td>1.0</td>\n",
       "      <td>0.000000</td>\n",
       "      <td>0.000000</td>\n",
       "      <td>0.000000</td>\n",
       "      <td>0.0</td>\n",
       "      <td>0.0</td>\n",
       "      <td>0.0</td>\n",
       "      <td>0.0</td>\n",
       "      <td>0.0</td>\n",
       "      <td>17</td>\n",
       "      <td>0.000000</td>\n",
       "      <td>0.0</td>\n",
       "    </tr>\n",
       "    <tr>\n",
       "      <th>3</th>\n",
       "      <td>488507</td>\n",
       "      <td>0.0</td>\n",
       "      <td>0.000000</td>\n",
       "      <td>0.000000</td>\n",
       "      <td>0.666667</td>\n",
       "      <td>0.0</td>\n",
       "      <td>0.0</td>\n",
       "      <td>0.0</td>\n",
       "      <td>0.0</td>\n",
       "      <td>0.0</td>\n",
       "      <td>17</td>\n",
       "      <td>0.333333</td>\n",
       "      <td>0.0</td>\n",
       "    </tr>\n",
       "    <tr>\n",
       "      <th>4</th>\n",
       "      <td>488509</td>\n",
       "      <td>0.0</td>\n",
       "      <td>0.000000</td>\n",
       "      <td>0.000000</td>\n",
       "      <td>0.000000</td>\n",
       "      <td>0.0</td>\n",
       "      <td>0.0</td>\n",
       "      <td>0.0</td>\n",
       "      <td>0.0</td>\n",
       "      <td>1.0</td>\n",
       "      <td>17</td>\n",
       "      <td>0.000000</td>\n",
       "      <td>0.0</td>\n",
       "    </tr>\n",
       "    <tr>\n",
       "      <th>...</th>\n",
       "      <td>...</td>\n",
       "      <td>...</td>\n",
       "      <td>...</td>\n",
       "      <td>...</td>\n",
       "      <td>...</td>\n",
       "      <td>...</td>\n",
       "      <td>...</td>\n",
       "      <td>...</td>\n",
       "      <td>...</td>\n",
       "      <td>...</td>\n",
       "      <td>...</td>\n",
       "      <td>...</td>\n",
       "      <td>...</td>\n",
       "    </tr>\n",
       "    <tr>\n",
       "      <th>93245</th>\n",
       "      <td>858056</td>\n",
       "      <td>0.0</td>\n",
       "      <td>0.000000</td>\n",
       "      <td>0.000000</td>\n",
       "      <td>0.000000</td>\n",
       "      <td>0.0</td>\n",
       "      <td>0.0</td>\n",
       "      <td>0.0</td>\n",
       "      <td>0.4</td>\n",
       "      <td>0.0</td>\n",
       "      <td>17</td>\n",
       "      <td>0.600000</td>\n",
       "      <td>0.0</td>\n",
       "    </tr>\n",
       "    <tr>\n",
       "      <th>93246</th>\n",
       "      <td>858057</td>\n",
       "      <td>0.0</td>\n",
       "      <td>0.333333</td>\n",
       "      <td>0.666667</td>\n",
       "      <td>0.000000</td>\n",
       "      <td>0.0</td>\n",
       "      <td>0.0</td>\n",
       "      <td>0.0</td>\n",
       "      <td>0.0</td>\n",
       "      <td>0.0</td>\n",
       "      <td>17</td>\n",
       "      <td>0.000000</td>\n",
       "      <td>0.0</td>\n",
       "    </tr>\n",
       "    <tr>\n",
       "      <th>93247</th>\n",
       "      <td>858058</td>\n",
       "      <td>0.0</td>\n",
       "      <td>0.000000</td>\n",
       "      <td>0.000000</td>\n",
       "      <td>0.000000</td>\n",
       "      <td>0.0</td>\n",
       "      <td>0.0</td>\n",
       "      <td>0.0</td>\n",
       "      <td>0.0</td>\n",
       "      <td>0.0</td>\n",
       "      <td>17</td>\n",
       "      <td>1.000000</td>\n",
       "      <td>0.0</td>\n",
       "    </tr>\n",
       "    <tr>\n",
       "      <th>93248</th>\n",
       "      <td>858060</td>\n",
       "      <td>0.0</td>\n",
       "      <td>0.000000</td>\n",
       "      <td>0.000000</td>\n",
       "      <td>0.000000</td>\n",
       "      <td>0.0</td>\n",
       "      <td>1.0</td>\n",
       "      <td>0.0</td>\n",
       "      <td>0.0</td>\n",
       "      <td>0.0</td>\n",
       "      <td>17</td>\n",
       "      <td>0.000000</td>\n",
       "      <td>0.0</td>\n",
       "    </tr>\n",
       "    <tr>\n",
       "      <th>93249</th>\n",
       "      <td>858062</td>\n",
       "      <td>0.0</td>\n",
       "      <td>0.000000</td>\n",
       "      <td>1.000000</td>\n",
       "      <td>0.000000</td>\n",
       "      <td>0.0</td>\n",
       "      <td>0.0</td>\n",
       "      <td>0.0</td>\n",
       "      <td>0.0</td>\n",
       "      <td>0.0</td>\n",
       "      <td>17</td>\n",
       "      <td>0.000000</td>\n",
       "      <td>0.0</td>\n",
       "    </tr>\n",
       "  </tbody>\n",
       "</table>\n",
       "<p>93250 rows × 13 columns</p>\n",
       "</div>"
      ],
      "text/plain": [
       "       userId  smallCategoryHoodie  smallCategoryBlouson  smallCategoryRiders  \\\n",
       "0      488503                  0.0              0.000000             0.000000   \n",
       "1      488504                  0.0              0.000000             0.000000   \n",
       "2      488506                  1.0              0.000000             0.000000   \n",
       "3      488507                  0.0              0.000000             0.000000   \n",
       "4      488509                  0.0              0.000000             0.000000   \n",
       "...       ...                  ...                   ...                  ...   \n",
       "93245  858056                  0.0              0.000000             0.000000   \n",
       "93246  858057                  0.0              0.333333             0.666667   \n",
       "93247  858058                  0.0              0.000000             0.000000   \n",
       "93248  858060                  0.0              0.000000             0.000000   \n",
       "93249  858062                  0.0              0.000000             1.000000   \n",
       "\n",
       "       smallCategoryMustang  smallCategoryCardigan  smallCategoryFleece  \\\n",
       "0                  0.000000                    0.0                  0.0   \n",
       "1                  0.000000                    0.0                  0.0   \n",
       "2                  0.000000                    0.0                  0.0   \n",
       "3                  0.666667                    0.0                  0.0   \n",
       "4                  0.000000                    0.0                  0.0   \n",
       "...                     ...                    ...                  ...   \n",
       "93245              0.000000                    0.0                  0.0   \n",
       "93246              0.000000                    0.0                  0.0   \n",
       "93247              0.000000                    0.0                  0.0   \n",
       "93248              0.000000                    0.0                  1.0   \n",
       "93249              0.000000                    0.0                  0.0   \n",
       "\n",
       "       smallCategoryCoat  smallCategoryPaddedcoat  smallCategoryVest  what  \\\n",
       "0                    0.0                      1.0                0.0    17   \n",
       "1                    0.0                      1.0                0.0    17   \n",
       "2                    0.0                      0.0                0.0    17   \n",
       "3                    0.0                      0.0                0.0    17   \n",
       "4                    0.0                      0.0                1.0    17   \n",
       "...                  ...                      ...                ...   ...   \n",
       "93245                0.0                      0.4                0.0    17   \n",
       "93246                0.0                      0.0                0.0    17   \n",
       "93247                0.0                      0.0                0.0    17   \n",
       "93248                0.0                      0.0                0.0    17   \n",
       "93249                0.0                      0.0                0.0    17   \n",
       "\n",
       "       smallCategoryJacket  smallCategoryOthers  \n",
       "0                 0.000000                  0.0  \n",
       "1                 0.000000                  0.0  \n",
       "2                 0.000000                  0.0  \n",
       "3                 0.333333                  0.0  \n",
       "4                 0.000000                  0.0  \n",
       "...                    ...                  ...  \n",
       "93245             0.600000                  0.0  \n",
       "93246             0.000000                  0.0  \n",
       "93247             1.000000                  0.0  \n",
       "93248             0.000000                  0.0  \n",
       "93249             0.000000                  0.0  \n",
       "\n",
       "[93250 rows x 13 columns]"
      ]
     },
     "execution_count": 91,
     "metadata": {},
     "output_type": "execute_result"
    }
   ],
   "source": [
    "user_meta"
   ]
  },
  {
   "cell_type": "code",
   "execution_count": null,
   "id": "70a779c2",
   "metadata": {},
   "outputs": [],
   "source": []
  },
  {
   "cell_type": "code",
   "execution_count": null,
   "id": "45356c15",
   "metadata": {},
   "outputs": [],
   "source": []
  },
  {
   "cell_type": "markdown",
   "id": "3de660d4",
   "metadata": {},
   "source": [
    "# Pants"
   ]
  },
  {
   "cell_type": "code",
   "execution_count": 77,
   "id": "ce59ad5e",
   "metadata": {},
   "outputs": [],
   "source": [
    "transaction = pd.read_json('./transaction_pants.json')\n",
    "cloth_meta = pd.read_json('./final_pants.json')\n",
    "user_meta = pd.read_json('./user_pants.json')\n",
    "transaction = transaction[['userId', 'newClothId', 'shopCnt']]"
   ]
  },
  {
   "cell_type": "code",
   "execution_count": 78,
   "id": "f6adf863",
   "metadata": {},
   "outputs": [
    {
     "data": {
      "text/plain": [
       "(273862, 3)"
      ]
     },
     "execution_count": 78,
     "metadata": {},
     "output_type": "execute_result"
    }
   ],
   "source": [
    "transaction = transaction[transaction.shopCnt > 1]\n",
    "transaction.shape"
   ]
  },
  {
   "cell_type": "code",
   "execution_count": 79,
   "id": "1867ab56",
   "metadata": {},
   "outputs": [
    {
     "name": "stdout",
     "output_type": "stream",
     "text": [
      "120991\n",
      "37083\n"
     ]
    }
   ],
   "source": [
    "user_pants_list = pd.DataFrame(transaction.userId.unique())\n",
    "cloth_pants_list = pd.DataFrame(transaction.newClothId.unique())\n",
    "print(len(user_pants_list))\n",
    "print(len(cloth_pants_list))\n",
    "user_pants_list.to_json('user_pants_list.json', orient='records', force_ascii=False)\n",
    "cloth_pants_list.to_json('cloth_pants_list.json', orient='records', force_ascii=False)"
   ]
  },
  {
   "cell_type": "code",
   "execution_count": 80,
   "id": "e3585e0b",
   "metadata": {},
   "outputs": [],
   "source": [
    "unique_id_cloth_meta = list(set(cloth_meta.newClothId))\n",
    "transaction=transaction.loc[transaction.newClothId.isin(unique_id_cloth_meta),:]"
   ]
  },
  {
   "cell_type": "code",
   "execution_count": 81,
   "id": "4ceb9200",
   "metadata": {
    "scrolled": false
   },
   "outputs": [],
   "source": [
    "a = transaction[['newClothId']]\n",
    "a.insert(1, 'idx', 0, True)\n",
    "a = a.drop_duplicates(['newClothId'])\n",
    "a.idx = range(len(a))"
   ]
  },
  {
   "cell_type": "code",
   "execution_count": 82,
   "id": "e88e06f0",
   "metadata": {},
   "outputs": [],
   "source": [
    "transaction = pd.merge(transaction, a, how=\"left\", on=\"newClothId\")"
   ]
  },
  {
   "cell_type": "code",
   "execution_count": 83,
   "id": "6defe4f1",
   "metadata": {
    "scrolled": true
   },
   "outputs": [],
   "source": [
    "user_meta = user_meta[category_pants_user_column]"
   ]
  },
  {
   "cell_type": "code",
   "execution_count": 84,
   "id": "f3ff916a",
   "metadata": {},
   "outputs": [
    {
     "data": {
      "text/html": [
       "<div>\n",
       "<style scoped>\n",
       "    .dataframe tbody tr th:only-of-type {\n",
       "        vertical-align: middle;\n",
       "    }\n",
       "\n",
       "    .dataframe tbody tr th {\n",
       "        vertical-align: top;\n",
       "    }\n",
       "\n",
       "    .dataframe thead th {\n",
       "        text-align: right;\n",
       "    }\n",
       "</style>\n",
       "<table border=\"1\" class=\"dataframe\">\n",
       "  <thead>\n",
       "    <tr style=\"text-align: right;\">\n",
       "      <th></th>\n",
       "      <th>userId</th>\n",
       "      <th>smallCategoryDenimpants</th>\n",
       "      <th>smallCategoryCottonpants</th>\n",
       "      <th>smallCategorySlacks</th>\n",
       "      <th>smallCategoryJoggerpants</th>\n",
       "      <th>smallCategoryShortpants</th>\n",
       "      <th>smallCategoryLeggings</th>\n",
       "      <th>smallCategoryJumpsuit</th>\n",
       "      <th>smallCategoryOthers</th>\n",
       "    </tr>\n",
       "  </thead>\n",
       "  <tbody>\n",
       "    <tr>\n",
       "      <th>0</th>\n",
       "      <td>14135</td>\n",
       "      <td>0.666667</td>\n",
       "      <td>0.000000</td>\n",
       "      <td>0.000000</td>\n",
       "      <td>0.333333</td>\n",
       "      <td>0.000000</td>\n",
       "      <td>0.0</td>\n",
       "      <td>0.0</td>\n",
       "      <td>0.000000</td>\n",
       "    </tr>\n",
       "    <tr>\n",
       "      <th>1</th>\n",
       "      <td>14141</td>\n",
       "      <td>0.407407</td>\n",
       "      <td>0.222222</td>\n",
       "      <td>0.185185</td>\n",
       "      <td>0.185185</td>\n",
       "      <td>0.000000</td>\n",
       "      <td>0.0</td>\n",
       "      <td>0.0</td>\n",
       "      <td>0.000000</td>\n",
       "    </tr>\n",
       "    <tr>\n",
       "      <th>2</th>\n",
       "      <td>14146</td>\n",
       "      <td>0.000000</td>\n",
       "      <td>0.000000</td>\n",
       "      <td>0.000000</td>\n",
       "      <td>1.000000</td>\n",
       "      <td>0.000000</td>\n",
       "      <td>0.0</td>\n",
       "      <td>0.0</td>\n",
       "      <td>0.000000</td>\n",
       "    </tr>\n",
       "    <tr>\n",
       "      <th>3</th>\n",
       "      <td>14148</td>\n",
       "      <td>0.500000</td>\n",
       "      <td>0.000000</td>\n",
       "      <td>0.000000</td>\n",
       "      <td>0.500000</td>\n",
       "      <td>0.000000</td>\n",
       "      <td>0.0</td>\n",
       "      <td>0.0</td>\n",
       "      <td>0.000000</td>\n",
       "    </tr>\n",
       "    <tr>\n",
       "      <th>4</th>\n",
       "      <td>14158</td>\n",
       "      <td>0.500000</td>\n",
       "      <td>0.200000</td>\n",
       "      <td>0.150000</td>\n",
       "      <td>0.150000</td>\n",
       "      <td>0.000000</td>\n",
       "      <td>0.0</td>\n",
       "      <td>0.0</td>\n",
       "      <td>0.000000</td>\n",
       "    </tr>\n",
       "    <tr>\n",
       "      <th>...</th>\n",
       "      <td>...</td>\n",
       "      <td>...</td>\n",
       "      <td>...</td>\n",
       "      <td>...</td>\n",
       "      <td>...</td>\n",
       "      <td>...</td>\n",
       "      <td>...</td>\n",
       "      <td>...</td>\n",
       "      <td>...</td>\n",
       "    </tr>\n",
       "    <tr>\n",
       "      <th>115960</th>\n",
       "      <td>488479</td>\n",
       "      <td>0.423077</td>\n",
       "      <td>0.153846</td>\n",
       "      <td>0.230769</td>\n",
       "      <td>0.153846</td>\n",
       "      <td>0.000000</td>\n",
       "      <td>0.0</td>\n",
       "      <td>0.0</td>\n",
       "      <td>0.038462</td>\n",
       "    </tr>\n",
       "    <tr>\n",
       "      <th>115961</th>\n",
       "      <td>488483</td>\n",
       "      <td>0.000000</td>\n",
       "      <td>0.000000</td>\n",
       "      <td>0.000000</td>\n",
       "      <td>1.000000</td>\n",
       "      <td>0.000000</td>\n",
       "      <td>0.0</td>\n",
       "      <td>0.0</td>\n",
       "      <td>0.000000</td>\n",
       "    </tr>\n",
       "    <tr>\n",
       "      <th>115962</th>\n",
       "      <td>488490</td>\n",
       "      <td>0.181818</td>\n",
       "      <td>0.272727</td>\n",
       "      <td>0.000000</td>\n",
       "      <td>0.272727</td>\n",
       "      <td>0.181818</td>\n",
       "      <td>0.0</td>\n",
       "      <td>0.0</td>\n",
       "      <td>0.090909</td>\n",
       "    </tr>\n",
       "    <tr>\n",
       "      <th>115963</th>\n",
       "      <td>488491</td>\n",
       "      <td>0.000000</td>\n",
       "      <td>0.000000</td>\n",
       "      <td>1.000000</td>\n",
       "      <td>0.000000</td>\n",
       "      <td>0.000000</td>\n",
       "      <td>0.0</td>\n",
       "      <td>0.0</td>\n",
       "      <td>0.000000</td>\n",
       "    </tr>\n",
       "    <tr>\n",
       "      <th>115964</th>\n",
       "      <td>488502</td>\n",
       "      <td>0.000000</td>\n",
       "      <td>0.000000</td>\n",
       "      <td>0.000000</td>\n",
       "      <td>1.000000</td>\n",
       "      <td>0.000000</td>\n",
       "      <td>0.0</td>\n",
       "      <td>0.0</td>\n",
       "      <td>0.000000</td>\n",
       "    </tr>\n",
       "  </tbody>\n",
       "</table>\n",
       "<p>115965 rows × 9 columns</p>\n",
       "</div>"
      ],
      "text/plain": [
       "        userId  smallCategoryDenimpants  smallCategoryCottonpants  \\\n",
       "0        14135                 0.666667                  0.000000   \n",
       "1        14141                 0.407407                  0.222222   \n",
       "2        14146                 0.000000                  0.000000   \n",
       "3        14148                 0.500000                  0.000000   \n",
       "4        14158                 0.500000                  0.200000   \n",
       "...        ...                      ...                       ...   \n",
       "115960  488479                 0.423077                  0.153846   \n",
       "115961  488483                 0.000000                  0.000000   \n",
       "115962  488490                 0.181818                  0.272727   \n",
       "115963  488491                 0.000000                  0.000000   \n",
       "115964  488502                 0.000000                  0.000000   \n",
       "\n",
       "        smallCategorySlacks  smallCategoryJoggerpants  \\\n",
       "0                  0.000000                  0.333333   \n",
       "1                  0.185185                  0.185185   \n",
       "2                  0.000000                  1.000000   \n",
       "3                  0.000000                  0.500000   \n",
       "4                  0.150000                  0.150000   \n",
       "...                     ...                       ...   \n",
       "115960             0.230769                  0.153846   \n",
       "115961             0.000000                  1.000000   \n",
       "115962             0.000000                  0.272727   \n",
       "115963             1.000000                  0.000000   \n",
       "115964             0.000000                  1.000000   \n",
       "\n",
       "        smallCategoryShortpants  smallCategoryLeggings  smallCategoryJumpsuit  \\\n",
       "0                      0.000000                    0.0                    0.0   \n",
       "1                      0.000000                    0.0                    0.0   \n",
       "2                      0.000000                    0.0                    0.0   \n",
       "3                      0.000000                    0.0                    0.0   \n",
       "4                      0.000000                    0.0                    0.0   \n",
       "...                         ...                    ...                    ...   \n",
       "115960                 0.000000                    0.0                    0.0   \n",
       "115961                 0.000000                    0.0                    0.0   \n",
       "115962                 0.181818                    0.0                    0.0   \n",
       "115963                 0.000000                    0.0                    0.0   \n",
       "115964                 0.000000                    0.0                    0.0   \n",
       "\n",
       "        smallCategoryOthers  \n",
       "0                  0.000000  \n",
       "1                  0.000000  \n",
       "2                  0.000000  \n",
       "3                  0.000000  \n",
       "4                  0.000000  \n",
       "...                     ...  \n",
       "115960             0.038462  \n",
       "115961             0.000000  \n",
       "115962             0.090909  \n",
       "115963             0.000000  \n",
       "115964             0.000000  \n",
       "\n",
       "[115965 rows x 9 columns]"
      ]
     },
     "execution_count": 84,
     "metadata": {},
     "output_type": "execute_result"
    }
   ],
   "source": [
    "unique_id_user_meta = list(set(transaction.userId))\n",
    "user_meta=user_meta.loc[user_meta.userId.isin(unique_id_user_meta),:]\n",
    "user_meta = user_meta.reset_index(drop=True)\n",
    "user_meta"
   ]
  },
  {
   "cell_type": "code",
   "execution_count": 85,
   "id": "572e35e1",
   "metadata": {
    "scrolled": false
   },
   "outputs": [
    {
     "data": {
      "text/html": [
       "<div>\n",
       "<style scoped>\n",
       "    .dataframe tbody tr th:only-of-type {\n",
       "        vertical-align: middle;\n",
       "    }\n",
       "\n",
       "    .dataframe tbody tr th {\n",
       "        vertical-align: top;\n",
       "    }\n",
       "\n",
       "    .dataframe thead th {\n",
       "        text-align: right;\n",
       "    }\n",
       "</style>\n",
       "<table border=\"1\" class=\"dataframe\">\n",
       "  <thead>\n",
       "    <tr style=\"text-align: right;\">\n",
       "      <th></th>\n",
       "      <th>userId</th>\n",
       "      <th>smallCategoryDenimpants</th>\n",
       "      <th>smallCategoryCottonpants</th>\n",
       "      <th>smallCategorySlacks</th>\n",
       "      <th>smallCategoryJoggerpants</th>\n",
       "      <th>smallCategoryShortpants</th>\n",
       "      <th>smallCategoryLeggings</th>\n",
       "      <th>smallCategoryJumpsuit</th>\n",
       "      <th>smallCategoryOthers</th>\n",
       "    </tr>\n",
       "  </thead>\n",
       "  <tbody>\n",
       "    <tr>\n",
       "      <th>0</th>\n",
       "      <td>8299.0</td>\n",
       "      <td>0.3</td>\n",
       "      <td>0.3</td>\n",
       "      <td>0.4</td>\n",
       "      <td>0.0</td>\n",
       "      <td>0.0</td>\n",
       "      <td>0.0</td>\n",
       "      <td>0.0</td>\n",
       "      <td>0.0</td>\n",
       "    </tr>\n",
       "  </tbody>\n",
       "</table>\n",
       "</div>"
      ],
      "text/plain": [
       "   userId  smallCategoryDenimpants  smallCategoryCottonpants  \\\n",
       "0  8299.0                      0.3                       0.3   \n",
       "\n",
       "   smallCategorySlacks  smallCategoryJoggerpants  smallCategoryShortpants  \\\n",
       "0                  0.4                       0.0                      0.0   \n",
       "\n",
       "   smallCategoryLeggings  smallCategoryJumpsuit  smallCategoryOthers  \n",
       "0                    0.0                    0.0                  0.0  "
      ]
     },
     "execution_count": 85,
     "metadata": {},
     "output_type": "execute_result"
    }
   ],
   "source": [
    "new_user = pd.DataFrame(user_meta.loc[0]).transpose()\n",
    "new_user_idx = new_user.index\n",
    "new_user.loc[new_user_idx, ('userId')] = 8299\n",
    "new_user.loc[new_user_idx, ('smallCategoryDenimpants')] = 0.3\n",
    "new_user.loc[new_user_idx, ('smallCategoryCottonpants')] = 0.3\n",
    "new_user.loc[new_user_idx, ('smallCategorySlacks')] = 0.4\n",
    "new_user.loc[new_user_idx, ('smallCategoryJoggerpants')] = 0\n",
    "new_user.loc[new_user_idx, ('smallCategoryShortpants')] = 0\n",
    "new_user.loc[new_user_idx, ('smallCategoryLeggings')] = 0\n",
    "new_user.loc[new_user_idx, ('smallCategoryJumpsuit')] = 0\n",
    "new_user.loc[new_user_idx, ('smallCategoryOthers')] = 0\n",
    "new_user = new_user[['userId',  'smallCategoryDenimpants', 'smallCategoryCottonpants',\n",
    "       'smallCategorySlacks', 'smallCategoryJoggerpants',\n",
    "       'smallCategoryShortpants', 'smallCategoryLeggings',\n",
    "       'smallCategoryJumpsuit', 'smallCategoryOthers']]\n",
    "new_user"
   ]
  },
  {
   "cell_type": "code",
   "execution_count": 86,
   "id": "f1ecf5b0",
   "metadata": {},
   "outputs": [
    {
     "name": "stdout",
     "output_type": "stream",
     "text": [
      "['userId', 'smallCategoryDenimpants', 'smallCategoryCottonpants', 'smallCategorySlacks']\n"
     ]
    }
   ],
   "source": [
    "colum = list(new_user.columns)\n",
    "di = dict()\n",
    "for i in range(len(colum)):\n",
    "    di[colum[i]] = new_user[colum[i]][0]\n",
    "col_list = []\n",
    "for idx, key in enumerate(di):\n",
    "    if idx > 0 and di[key] > 0.2:\n",
    "        col_list.append(key)\n",
    "col_list.insert(0, 'userId')\n",
    "print(col_list)"
   ]
  },
  {
   "cell_type": "code",
   "execution_count": 87,
   "id": "4a4be937",
   "metadata": {},
   "outputs": [],
   "source": [
    "from copy import deepcopy\n",
    "sub_user = deepcopy(user_meta)"
   ]
  },
  {
   "cell_type": "code",
   "execution_count": 88,
   "id": "5b559d93",
   "metadata": {},
   "outputs": [],
   "source": [
    "for i in range(1, len(col_list)):\n",
    "    sub_user[col_list[i]] = sub_user.apply(lambda x: abs(x[col_list[i]]-new_user[col_list[i]].iloc[0]), axis=1)"
   ]
  },
  {
   "cell_type": "code",
   "execution_count": 89,
   "id": "9922e758",
   "metadata": {},
   "outputs": [],
   "source": [
    "sub_col = list(sub_user.columns)[1:]"
   ]
  },
  {
   "cell_type": "code",
   "execution_count": 90,
   "id": "9e89374b",
   "metadata": {},
   "outputs": [],
   "source": [
    "sub_user.insert(1, 'favorSum', 0, True)\n",
    "sub_user.favorSum = sum(sub_user[col_i] for col_i in sub_col)\n",
    "sub_user = sub_user.sort_values('favorSum')"
   ]
  },
  {
   "cell_type": "code",
   "execution_count": 91,
   "id": "e4c76a4e",
   "metadata": {},
   "outputs": [
    {
     "name": "stdout",
     "output_type": "stream",
     "text": [
      "[295116, 454959, 79013]\n"
     ]
    }
   ],
   "source": [
    "real_user = []\n",
    "for i in range(3):\n",
    "    real_user.append(sub_user.iloc[i].userId)\n",
    "real_user = [int(i) for i in real_user]\n",
    "print(real_user)"
   ]
  },
  {
   "cell_type": "code",
   "execution_count": 92,
   "id": "f6618cdf",
   "metadata": {},
   "outputs": [],
   "source": [
    "cloth_meta = cloth_meta[category_pants_cloth_column]"
   ]
  },
  {
   "cell_type": "code",
   "execution_count": 93,
   "id": "0c2dfac4",
   "metadata": {},
   "outputs": [
    {
     "data": {
      "text/html": [
       "<div>\n",
       "<style scoped>\n",
       "    .dataframe tbody tr th:only-of-type {\n",
       "        vertical-align: middle;\n",
       "    }\n",
       "\n",
       "    .dataframe tbody tr th {\n",
       "        vertical-align: top;\n",
       "    }\n",
       "\n",
       "    .dataframe thead th {\n",
       "        text-align: right;\n",
       "    }\n",
       "</style>\n",
       "<table border=\"1\" class=\"dataframe\">\n",
       "  <thead>\n",
       "    <tr style=\"text-align: right;\">\n",
       "      <th></th>\n",
       "      <th>newClothId</th>\n",
       "      <th>smallCategoryDenimpants</th>\n",
       "      <th>smallCategoryCottonpants</th>\n",
       "      <th>smallCategorySlacks</th>\n",
       "      <th>smallCategoryJoggerpants</th>\n",
       "      <th>smallCategoryShortpants</th>\n",
       "      <th>smallCategoryLeggings</th>\n",
       "      <th>smallCategoryJumpsuit</th>\n",
       "      <th>smallCategoryOthers</th>\n",
       "    </tr>\n",
       "  </thead>\n",
       "  <tbody>\n",
       "    <tr>\n",
       "      <th>0</th>\n",
       "      <td>1971752</td>\n",
       "      <td>0</td>\n",
       "      <td>0</td>\n",
       "      <td>0</td>\n",
       "      <td>0</td>\n",
       "      <td>0</td>\n",
       "      <td>0</td>\n",
       "      <td>0</td>\n",
       "      <td>1</td>\n",
       "    </tr>\n",
       "    <tr>\n",
       "      <th>1</th>\n",
       "      <td>726566</td>\n",
       "      <td>0</td>\n",
       "      <td>0</td>\n",
       "      <td>0</td>\n",
       "      <td>1</td>\n",
       "      <td>0</td>\n",
       "      <td>0</td>\n",
       "      <td>0</td>\n",
       "      <td>0</td>\n",
       "    </tr>\n",
       "    <tr>\n",
       "      <th>2</th>\n",
       "      <td>2213618</td>\n",
       "      <td>0</td>\n",
       "      <td>0</td>\n",
       "      <td>0</td>\n",
       "      <td>0</td>\n",
       "      <td>0</td>\n",
       "      <td>0</td>\n",
       "      <td>0</td>\n",
       "      <td>1</td>\n",
       "    </tr>\n",
       "    <tr>\n",
       "      <th>3</th>\n",
       "      <td>2265443</td>\n",
       "      <td>0</td>\n",
       "      <td>0</td>\n",
       "      <td>1</td>\n",
       "      <td>0</td>\n",
       "      <td>0</td>\n",
       "      <td>0</td>\n",
       "      <td>0</td>\n",
       "      <td>0</td>\n",
       "    </tr>\n",
       "    <tr>\n",
       "      <th>4</th>\n",
       "      <td>2005302</td>\n",
       "      <td>0</td>\n",
       "      <td>0</td>\n",
       "      <td>0</td>\n",
       "      <td>0</td>\n",
       "      <td>1</td>\n",
       "      <td>0</td>\n",
       "      <td>0</td>\n",
       "      <td>0</td>\n",
       "    </tr>\n",
       "    <tr>\n",
       "      <th>...</th>\n",
       "      <td>...</td>\n",
       "      <td>...</td>\n",
       "      <td>...</td>\n",
       "      <td>...</td>\n",
       "      <td>...</td>\n",
       "      <td>...</td>\n",
       "      <td>...</td>\n",
       "      <td>...</td>\n",
       "      <td>...</td>\n",
       "    </tr>\n",
       "    <tr>\n",
       "      <th>106873</th>\n",
       "      <td>1889420</td>\n",
       "      <td>1</td>\n",
       "      <td>0</td>\n",
       "      <td>0</td>\n",
       "      <td>0</td>\n",
       "      <td>0</td>\n",
       "      <td>0</td>\n",
       "      <td>0</td>\n",
       "      <td>0</td>\n",
       "    </tr>\n",
       "    <tr>\n",
       "      <th>106874</th>\n",
       "      <td>1275944</td>\n",
       "      <td>1</td>\n",
       "      <td>0</td>\n",
       "      <td>0</td>\n",
       "      <td>0</td>\n",
       "      <td>0</td>\n",
       "      <td>0</td>\n",
       "      <td>0</td>\n",
       "      <td>0</td>\n",
       "    </tr>\n",
       "    <tr>\n",
       "      <th>106875</th>\n",
       "      <td>1889504</td>\n",
       "      <td>1</td>\n",
       "      <td>0</td>\n",
       "      <td>0</td>\n",
       "      <td>0</td>\n",
       "      <td>0</td>\n",
       "      <td>0</td>\n",
       "      <td>0</td>\n",
       "      <td>0</td>\n",
       "    </tr>\n",
       "    <tr>\n",
       "      <th>106876</th>\n",
       "      <td>552678</td>\n",
       "      <td>0</td>\n",
       "      <td>0</td>\n",
       "      <td>0</td>\n",
       "      <td>0</td>\n",
       "      <td>1</td>\n",
       "      <td>0</td>\n",
       "      <td>0</td>\n",
       "      <td>0</td>\n",
       "    </tr>\n",
       "    <tr>\n",
       "      <th>106877</th>\n",
       "      <td>655497</td>\n",
       "      <td>0</td>\n",
       "      <td>1</td>\n",
       "      <td>0</td>\n",
       "      <td>0</td>\n",
       "      <td>0</td>\n",
       "      <td>0</td>\n",
       "      <td>0</td>\n",
       "      <td>0</td>\n",
       "    </tr>\n",
       "  </tbody>\n",
       "</table>\n",
       "<p>106878 rows × 9 columns</p>\n",
       "</div>"
      ],
      "text/plain": [
       "        newClothId  smallCategoryDenimpants  smallCategoryCottonpants  \\\n",
       "0          1971752                        0                         0   \n",
       "1           726566                        0                         0   \n",
       "2          2213618                        0                         0   \n",
       "3          2265443                        0                         0   \n",
       "4          2005302                        0                         0   \n",
       "...            ...                      ...                       ...   \n",
       "106873     1889420                        1                         0   \n",
       "106874     1275944                        1                         0   \n",
       "106875     1889504                        1                         0   \n",
       "106876      552678                        0                         0   \n",
       "106877      655497                        0                         1   \n",
       "\n",
       "        smallCategorySlacks  smallCategoryJoggerpants  \\\n",
       "0                         0                         0   \n",
       "1                         0                         1   \n",
       "2                         0                         0   \n",
       "3                         1                         0   \n",
       "4                         0                         0   \n",
       "...                     ...                       ...   \n",
       "106873                    0                         0   \n",
       "106874                    0                         0   \n",
       "106875                    0                         0   \n",
       "106876                    0                         0   \n",
       "106877                    0                         0   \n",
       "\n",
       "        smallCategoryShortpants  smallCategoryLeggings  smallCategoryJumpsuit  \\\n",
       "0                             0                      0                      0   \n",
       "1                             0                      0                      0   \n",
       "2                             0                      0                      0   \n",
       "3                             0                      0                      0   \n",
       "4                             1                      0                      0   \n",
       "...                         ...                    ...                    ...   \n",
       "106873                        0                      0                      0   \n",
       "106874                        0                      0                      0   \n",
       "106875                        0                      0                      0   \n",
       "106876                        1                      0                      0   \n",
       "106877                        0                      0                      0   \n",
       "\n",
       "        smallCategoryOthers  \n",
       "0                         1  \n",
       "1                         0  \n",
       "2                         1  \n",
       "3                         0  \n",
       "4                         0  \n",
       "...                     ...  \n",
       "106873                    0  \n",
       "106874                    0  \n",
       "106875                    0  \n",
       "106876                    0  \n",
       "106877                    0  \n",
       "\n",
       "[106878 rows x 9 columns]"
      ]
     },
     "execution_count": 93,
     "metadata": {},
     "output_type": "execute_result"
    }
   ],
   "source": [
    "cloth_meta"
   ]
  },
  {
   "cell_type": "code",
   "execution_count": 94,
   "id": "d69a64dc",
   "metadata": {},
   "outputs": [],
   "source": [
    "cloth_meta = pd.merge(cloth_meta, a, how=\"left\", on=\"newClothId\")"
   ]
  },
  {
   "cell_type": "code",
   "execution_count": 95,
   "id": "9b2d9504",
   "metadata": {},
   "outputs": [
    {
     "data": {
      "text/plain": [
       "33530"
      ]
     },
     "execution_count": 95,
     "metadata": {},
     "output_type": "execute_result"
    }
   ],
   "source": [
    "unique_cloth_id = list(transaction['newClothId'].unique())\n",
    "len(unique_cloth_id)"
   ]
  },
  {
   "cell_type": "code",
   "execution_count": 96,
   "id": "b27b96b0",
   "metadata": {},
   "outputs": [],
   "source": [
    "a = cloth_meta.newClothId.isin(unique_cloth_id)\n",
    "cloth_meta = cloth_meta[a]\n",
    "cloth_meta.index = range(len(cloth_meta))"
   ]
  },
  {
   "cell_type": "code",
   "execution_count": 97,
   "id": "677ead7b",
   "metadata": {
    "scrolled": false
   },
   "outputs": [],
   "source": [
    "cloth_meta.idx = cloth_meta.idx.astype('int')"
   ]
  },
  {
   "cell_type": "code",
   "execution_count": 98,
   "id": "44d2f2e1",
   "metadata": {},
   "outputs": [],
   "source": [
    "transaction_source = [(transaction['userId'][i], transaction['idx'][i]) for i in range(transaction.shape[0])]"
   ]
  },
  {
   "cell_type": "code",
   "execution_count": 99,
   "id": "d80af2d3",
   "metadata": {},
   "outputs": [
    {
     "name": "stdout",
     "output_type": "stream",
     "text": [
      "userId의 유니크 개수 : 115965\n",
      "clothId의 유니크 개수 : 33530\n",
      "user테이블의 userId의 유니크 개수 : 115965\n",
      "cloth테이블의 clothId의 유니크 개수 : 33530\n"
     ]
    }
   ],
   "source": [
    "print('userId의 유니크 개수 :', len(transaction.userId.unique()))\n",
    "print('clothId의 유니크 개수 :', len(transaction.idx.unique()))\n",
    "print('user테이블의 userId의 유니크 개수 :', len(user_meta.userId.unique()))\n",
    "print('cloth테이블의 clothId의 유니크 개수 :', len(cloth_meta.idx.unique()))"
   ]
  },
  {
   "cell_type": "code",
   "execution_count": 100,
   "id": "cc6d1638",
   "metadata": {},
   "outputs": [
    {
     "data": {
      "text/plain": [
       "Index(['userId', 'smallCategoryDenimpants', 'smallCategoryCottonpants',\n",
       "       'smallCategorySlacks', 'smallCategoryJoggerpants',\n",
       "       'smallCategoryShortpants', 'smallCategoryLeggings',\n",
       "       'smallCategoryJumpsuit', 'smallCategoryOthers'],\n",
       "      dtype='object')"
      ]
     },
     "execution_count": 100,
     "metadata": {},
     "output_type": "execute_result"
    }
   ],
   "source": [
    "user_meta.columns"
   ]
  },
  {
   "cell_type": "code",
   "execution_count": 101,
   "id": "ee472fe0",
   "metadata": {},
   "outputs": [],
   "source": [
    "user_features_source = [(user_meta['userId'][i],\n",
    "                        [user_meta['smallCategoryDenimpants'][i], user_meta['smallCategoryCottonpants'][i], user_meta['smallCategorySlacks'][i],\n",
    "                        user_meta['smallCategoryJoggerpants'][i], user_meta['smallCategoryShortpants'][i], user_meta['smallCategoryLeggings'][i],\n",
    "                        user_meta['smallCategoryJumpsuit'][i], user_meta['smallCategoryOthers'][i]]) for i in range(user_meta.shape[0])]"
   ]
  },
  {
   "cell_type": "code",
   "execution_count": 102,
   "id": "5a7dd0b2",
   "metadata": {},
   "outputs": [],
   "source": [
    "cloth_features_source = [(cloth_meta['idx'][i],\n",
    "                        [cloth_meta['smallCategoryDenimpants'][i], cloth_meta['smallCategoryCottonpants'][i], cloth_meta['smallCategorySlacks'][i],\n",
    "                        cloth_meta['smallCategoryJoggerpants'][i], cloth_meta['smallCategoryShortpants'][i], cloth_meta['smallCategoryLeggings'][i],\n",
    "                        cloth_meta['smallCategoryJumpsuit'][i], cloth_meta['smallCategoryOthers'][i]]) for i in range(cloth_meta.shape[0])]"
   ]
  },
  {
   "cell_type": "code",
   "execution_count": 103,
   "id": "106bbb80",
   "metadata": {},
   "outputs": [],
   "source": [
    "dataset = Dataset()\n",
    "dataset.fit(users=transaction['userId'].unique(),\n",
    "           items=transaction['idx'].unique(),\n",
    "           user_features=user_meta[user_meta.columns[1:]].values.flatten(),\n",
    "           item_features=cloth_meta[cloth_meta.columns[1:]].values.flatten())"
   ]
  },
  {
   "cell_type": "code",
   "execution_count": 104,
   "id": "11a42356",
   "metadata": {},
   "outputs": [],
   "source": [
    "interactions, weights = dataset.build_interactions(transaction_source)"
   ]
  },
  {
   "cell_type": "code",
   "execution_count": 105,
   "id": "908b3a37",
   "metadata": {},
   "outputs": [],
   "source": [
    "user_features = dataset.build_user_features(user_features_source)"
   ]
  },
  {
   "cell_type": "code",
   "execution_count": 106,
   "id": "7d580846",
   "metadata": {
    "scrolled": true
   },
   "outputs": [],
   "source": [
    "cloth_features = dataset.build_item_features(cloth_features_source)"
   ]
  },
  {
   "cell_type": "code",
   "execution_count": 107,
   "id": "df956cdc",
   "metadata": {},
   "outputs": [],
   "source": [
    "train, test = random_train_test_split(interactions, test_percentage=0.2)\n",
    "train, test = train.tocsr().tocoo(), test.tocsr().tocoo()\n",
    "train_weights = train.multiply(weights).tocoo()\n",
    "test_weights = test.multiply(weights).tocoo()"
   ]
  },
  {
   "cell_type": "code",
   "execution_count": 108,
   "id": "03c32a76",
   "metadata": {},
   "outputs": [],
   "source": [
    "# no_components: 10\n",
    "# learning_rate : 0.05\n",
    "trials = Trials()\n",
    "space = [hp.choice('no_components', range(10, 21, 5)),\n",
    "         hp.uniform('learning_rate', 0.05, 0.1)]"
   ]
  },
  {
   "cell_type": "code",
   "execution_count": 109,
   "id": "c147633f",
   "metadata": {},
   "outputs": [],
   "source": [
    "# Define Objective Function\n",
    "def objective(params):\n",
    "    no_components, learning_rate = params\n",
    "    model = LightFM(no_components=no_components,\n",
    "                    learning_schedule='adagrad',\n",
    "                    loss='warp',\n",
    "                    learning_rate=learning_rate,\n",
    "                    random_state=0)\n",
    "\n",
    "    model.fit(interactions=train,\n",
    "              item_features=cloth_features,\n",
    "              user_features=user_features,\n",
    "              sample_weight=train_weights,\n",
    "              epochs=3,\n",
    "              verbose=False)\n",
    "\n",
    "    test_precision = precision_at_k(model, test, k=5, item_features=cloth_features, user_features=user_features).mean()\n",
    "    print(\"no_comp: {}, lrn_rate: {:.5f}, precision: {:.5f}\".format(\n",
    "      no_components, learning_rate, test_precision))\n",
    "    # test_auc = auc_score(model, test, item_features=item_features).mean()\n",
    "    output = -test_precision\n",
    "\n",
    "    if np.abs(output+1) < 0.01 or output < -1.0:\n",
    "        output = 0.0\n",
    "\n",
    "    return output"
   ]
  },
  {
   "cell_type": "code",
   "execution_count": 110,
   "id": "9b889fec",
   "metadata": {},
   "outputs": [
    {
     "name": "stdout",
     "output_type": "stream",
     "text": [
      "no_comp: 15, lrn_rate: 0.09627, precision: 0.00533                                                                     \n",
      "no_comp: 10, lrn_rate: 0.06310, precision: 0.00525                                                                     \n",
      "no_comp: 10, lrn_rate: 0.08575, precision: 0.00533                                                                     \n",
      "no_comp: 15, lrn_rate: 0.09512, precision: 0.00537                                                                     \n",
      "no_comp: 10, lrn_rate: 0.06560, precision: 0.00535                                                                     \n",
      "no_comp: 20, lrn_rate: 0.08718, precision: 0.00494                                                                     \n",
      "no_comp: 15, lrn_rate: 0.06641, precision: 0.00480                                                                     \n",
      "no_comp: 20, lrn_rate: 0.08875, precision: 0.00498                                                                     \n",
      "no_comp: 20, lrn_rate: 0.05384, precision: 0.00531                                                                     \n",
      "no_comp: 20, lrn_rate: 0.06215, precision: 0.00498                                                                     \n",
      "100%|█████████████████████████████████████████████| 10/10 [19:08<00:00, 114.85s/trial, best loss: -0.00537155382335186]\n"
     ]
    }
   ],
   "source": [
    "best_params = fmin(fn=objective, space=space, algo=tpe.suggest, max_evals=10, trials=trials)"
   ]
  },
  {
   "cell_type": "code",
   "execution_count": 111,
   "id": "eeeed595",
   "metadata": {
    "scrolled": true
   },
   "outputs": [
    {
     "name": "stdout",
     "output_type": "stream",
     "text": [
      "0.095 1\n"
     ]
    }
   ],
   "source": [
    "learning_rate = round(best_params['learning_rate'], 3)\n",
    "no_components = best_params['no_components']\n",
    "print(learning_rate, no_components)"
   ]
  },
  {
   "cell_type": "code",
   "execution_count": 112,
   "id": "22d5c726",
   "metadata": {},
   "outputs": [
    {
     "name": "stderr",
     "output_type": "stream",
     "text": [
      "Epoch: 100%|███████████████████████████████████████████████████████████████████████████| 10/10 [00:04<00:00,  2.45it/s]\n"
     ]
    },
    {
     "data": {
      "text/plain": [
       "<lightfm.lightfm.LightFM at 0x2c8de6f0b50>"
      ]
     },
     "execution_count": 112,
     "metadata": {},
     "output_type": "execute_result"
    }
   ],
   "source": [
    "model = LightFM(no_components=no_components,\n",
    "                learning_schedule='adagrad',\n",
    "                loss='warp',\n",
    "                learning_rate=learning_rate,\n",
    "                random_state=0)\n",
    "\n",
    "model.fit(interactions=interactions,\n",
    "          item_features=cloth_features,\n",
    "          user_features=user_features,\n",
    "          sample_weight=weights,\n",
    "          epochs=10,\n",
    "          verbose=True)"
   ]
  },
  {
   "cell_type": "code",
   "execution_count": 113,
   "id": "b280b0eb",
   "metadata": {},
   "outputs": [],
   "source": [
    "# 모델 저장하기\n",
    "import pickle\n",
    "with open('model_category_pants.pickle', 'wb') as fw:\n",
    "    pickle.dump(model, fw)"
   ]
  },
  {
   "cell_type": "code",
   "execution_count": 127,
   "id": "4583e5a9",
   "metadata": {},
   "outputs": [],
   "source": [
    "# 모델 불러오기\n",
    "import pickle\n",
    "with open('model_category_pants.pickle', 'rb') as f:\n",
    "    model_pants = pickle.load(f)"
   ]
  },
  {
   "cell_type": "code",
   "execution_count": 128,
   "id": "f4905096",
   "metadata": {},
   "outputs": [],
   "source": [
    "def sample_recommendation(model, idx, user_ids):\n",
    "    cnt = 1\n",
    "    for user_id in user_ids:\n",
    "        if cnt==1:\n",
    "            scores = model.predict(int(user_meta[user_meta.userId==user_id].index[0]), np.arange(len(cloth_meta)))\n",
    "        else:\n",
    "            scores += model.predict(int(user_meta[user_meta.userId==user_id].index[0]), np.arange(len(cloth_meta)))\n",
    "    \n",
    "    top_items = idx[np.argsort(-scores)]\n",
    "    \n",
    "    sub_clothes = []\n",
    "\n",
    "    for x in top_items[:10]:\n",
    "        sub_clothes.append(x)\n",
    "    \n",
    "    rec_clothes = []\n",
    "    \n",
    "    for i in sub_clothes:\n",
    "        rec_clothes.append(cloth_meta[cloth_meta.idx==i].newClothId.iloc[0])\n",
    "    \n",
    "    return rec_clothes"
   ]
  },
  {
   "cell_type": "code",
   "execution_count": 129,
   "id": "7f8e4079",
   "metadata": {
    "scrolled": false
   },
   "outputs": [
    {
     "data": {
      "text/plain": [
       "[19409615513,\n",
       " 214926918340,\n",
       " 21801229810,\n",
       " 12086734993,\n",
       " 141285112055,\n",
       " 166869912945,\n",
       " 17611826560,\n",
       " 174162315738,\n",
       " 196639011167,\n",
       " 23422909921]"
      ]
     },
     "execution_count": 129,
     "metadata": {},
     "output_type": "execute_result"
    }
   ],
   "source": [
    "rec_size_top = sample_recommendation(model_pants, cloth_meta.idx, real_user)\n",
    "rec_size_top"
   ]
  },
  {
   "cell_type": "code",
   "execution_count": 130,
   "id": "cb0ebabb",
   "metadata": {},
   "outputs": [
    {
     "data": {
      "text/plain": [
       "[295116, 454959, 79013]"
      ]
     },
     "execution_count": 130,
     "metadata": {},
     "output_type": "execute_result"
    }
   ],
   "source": [
    "real_user"
   ]
  },
  {
   "cell_type": "code",
   "execution_count": 134,
   "id": "98c4dc9a",
   "metadata": {},
   "outputs": [],
   "source": [
    "cloth_meta.insert(10, 'what', 18, True)\n",
    "user_meta.insert(9, 'what', 18, True)"
   ]
  },
  {
   "cell_type": "code",
   "execution_count": 135,
   "id": "f763579d",
   "metadata": {
    "scrolled": false
   },
   "outputs": [
    {
     "data": {
      "text/html": [
       "<div>\n",
       "<style scoped>\n",
       "    .dataframe tbody tr th:only-of-type {\n",
       "        vertical-align: middle;\n",
       "    }\n",
       "\n",
       "    .dataframe tbody tr th {\n",
       "        vertical-align: top;\n",
       "    }\n",
       "\n",
       "    .dataframe thead th {\n",
       "        text-align: right;\n",
       "    }\n",
       "</style>\n",
       "<table border=\"1\" class=\"dataframe\">\n",
       "  <thead>\n",
       "    <tr style=\"text-align: right;\">\n",
       "      <th></th>\n",
       "      <th>newClothId</th>\n",
       "      <th>idx</th>\n",
       "      <th>what</th>\n",
       "    </tr>\n",
       "  </thead>\n",
       "  <tbody>\n",
       "    <tr>\n",
       "      <th>0</th>\n",
       "      <td>16225354884</td>\n",
       "      <td>11720</td>\n",
       "      <td>18</td>\n",
       "    </tr>\n",
       "    <tr>\n",
       "      <th>1</th>\n",
       "      <td>14988915210</td>\n",
       "      <td>15601</td>\n",
       "      <td>18</td>\n",
       "    </tr>\n",
       "    <tr>\n",
       "      <th>2</th>\n",
       "      <td>19409615513</td>\n",
       "      <td>29005</td>\n",
       "      <td>18</td>\n",
       "    </tr>\n",
       "    <tr>\n",
       "      <th>3</th>\n",
       "      <td>20193975542</td>\n",
       "      <td>22897</td>\n",
       "      <td>18</td>\n",
       "    </tr>\n",
       "    <tr>\n",
       "      <th>4</th>\n",
       "      <td>18466875743</td>\n",
       "      <td>17729</td>\n",
       "      <td>18</td>\n",
       "    </tr>\n",
       "    <tr>\n",
       "      <th>...</th>\n",
       "      <td>...</td>\n",
       "      <td>...</td>\n",
       "      <td>...</td>\n",
       "    </tr>\n",
       "    <tr>\n",
       "      <th>33525</th>\n",
       "      <td>180323169094</td>\n",
       "      <td>6877</td>\n",
       "      <td>18</td>\n",
       "    </tr>\n",
       "    <tr>\n",
       "      <th>33526</th>\n",
       "      <td>182037869103</td>\n",
       "      <td>19148</td>\n",
       "      <td>18</td>\n",
       "    </tr>\n",
       "    <tr>\n",
       "      <th>33527</th>\n",
       "      <td>194119769137</td>\n",
       "      <td>18084</td>\n",
       "      <td>18</td>\n",
       "    </tr>\n",
       "    <tr>\n",
       "      <th>33528</th>\n",
       "      <td>179115969145</td>\n",
       "      <td>16294</td>\n",
       "      <td>18</td>\n",
       "    </tr>\n",
       "    <tr>\n",
       "      <th>33529</th>\n",
       "      <td>153871869161</td>\n",
       "      <td>12900</td>\n",
       "      <td>18</td>\n",
       "    </tr>\n",
       "  </tbody>\n",
       "</table>\n",
       "<p>33530 rows × 3 columns</p>\n",
       "</div>"
      ],
      "text/plain": [
       "         newClothId    idx  what\n",
       "0       16225354884  11720    18\n",
       "1       14988915210  15601    18\n",
       "2       19409615513  29005    18\n",
       "3       20193975542  22897    18\n",
       "4       18466875743  17729    18\n",
       "...             ...    ...   ...\n",
       "33525  180323169094   6877    18\n",
       "33526  182037869103  19148    18\n",
       "33527  194119769137  18084    18\n",
       "33528  179115969145  16294    18\n",
       "33529  153871869161  12900    18\n",
       "\n",
       "[33530 rows x 3 columns]"
      ]
     },
     "execution_count": 135,
     "metadata": {},
     "output_type": "execute_result"
    }
   ],
   "source": [
    "cloth_meta = cloth_meta[[\"newClothId\", \"idx\", 'what']]\n",
    "cloth_meta"
   ]
  },
  {
   "cell_type": "code",
   "execution_count": 136,
   "id": "16f1dc96",
   "metadata": {},
   "outputs": [],
   "source": [
    "cloth_meta.to_json('category_pants_cloth_meta.json', orient='records', force_ascii=False)\n",
    "user_meta.to_json('category_pants_user_meta.json', orient='records', force_ascii=False)"
   ]
  },
  {
   "cell_type": "code",
   "execution_count": 137,
   "id": "4554c0d8",
   "metadata": {},
   "outputs": [
    {
     "data": {
      "text/html": [
       "<div>\n",
       "<style scoped>\n",
       "    .dataframe tbody tr th:only-of-type {\n",
       "        vertical-align: middle;\n",
       "    }\n",
       "\n",
       "    .dataframe tbody tr th {\n",
       "        vertical-align: top;\n",
       "    }\n",
       "\n",
       "    .dataframe thead th {\n",
       "        text-align: right;\n",
       "    }\n",
       "</style>\n",
       "<table border=\"1\" class=\"dataframe\">\n",
       "  <thead>\n",
       "    <tr style=\"text-align: right;\">\n",
       "      <th></th>\n",
       "      <th>userId</th>\n",
       "      <th>smallCategoryDenimpants</th>\n",
       "      <th>smallCategoryCottonpants</th>\n",
       "      <th>smallCategorySlacks</th>\n",
       "      <th>smallCategoryJoggerpants</th>\n",
       "      <th>smallCategoryShortpants</th>\n",
       "      <th>smallCategoryLeggings</th>\n",
       "      <th>smallCategoryJumpsuit</th>\n",
       "      <th>smallCategoryOthers</th>\n",
       "      <th>what</th>\n",
       "    </tr>\n",
       "  </thead>\n",
       "  <tbody>\n",
       "    <tr>\n",
       "      <th>0</th>\n",
       "      <td>14135</td>\n",
       "      <td>0.666667</td>\n",
       "      <td>0.000000</td>\n",
       "      <td>0.000000</td>\n",
       "      <td>0.333333</td>\n",
       "      <td>0.000000</td>\n",
       "      <td>0.0</td>\n",
       "      <td>0.0</td>\n",
       "      <td>0.000000</td>\n",
       "      <td>18</td>\n",
       "    </tr>\n",
       "    <tr>\n",
       "      <th>1</th>\n",
       "      <td>14141</td>\n",
       "      <td>0.407407</td>\n",
       "      <td>0.222222</td>\n",
       "      <td>0.185185</td>\n",
       "      <td>0.185185</td>\n",
       "      <td>0.000000</td>\n",
       "      <td>0.0</td>\n",
       "      <td>0.0</td>\n",
       "      <td>0.000000</td>\n",
       "      <td>18</td>\n",
       "    </tr>\n",
       "    <tr>\n",
       "      <th>2</th>\n",
       "      <td>14146</td>\n",
       "      <td>0.000000</td>\n",
       "      <td>0.000000</td>\n",
       "      <td>0.000000</td>\n",
       "      <td>1.000000</td>\n",
       "      <td>0.000000</td>\n",
       "      <td>0.0</td>\n",
       "      <td>0.0</td>\n",
       "      <td>0.000000</td>\n",
       "      <td>18</td>\n",
       "    </tr>\n",
       "    <tr>\n",
       "      <th>3</th>\n",
       "      <td>14148</td>\n",
       "      <td>0.500000</td>\n",
       "      <td>0.000000</td>\n",
       "      <td>0.000000</td>\n",
       "      <td>0.500000</td>\n",
       "      <td>0.000000</td>\n",
       "      <td>0.0</td>\n",
       "      <td>0.0</td>\n",
       "      <td>0.000000</td>\n",
       "      <td>18</td>\n",
       "    </tr>\n",
       "    <tr>\n",
       "      <th>4</th>\n",
       "      <td>14158</td>\n",
       "      <td>0.500000</td>\n",
       "      <td>0.200000</td>\n",
       "      <td>0.150000</td>\n",
       "      <td>0.150000</td>\n",
       "      <td>0.000000</td>\n",
       "      <td>0.0</td>\n",
       "      <td>0.0</td>\n",
       "      <td>0.000000</td>\n",
       "      <td>18</td>\n",
       "    </tr>\n",
       "    <tr>\n",
       "      <th>...</th>\n",
       "      <td>...</td>\n",
       "      <td>...</td>\n",
       "      <td>...</td>\n",
       "      <td>...</td>\n",
       "      <td>...</td>\n",
       "      <td>...</td>\n",
       "      <td>...</td>\n",
       "      <td>...</td>\n",
       "      <td>...</td>\n",
       "      <td>...</td>\n",
       "    </tr>\n",
       "    <tr>\n",
       "      <th>115960</th>\n",
       "      <td>488479</td>\n",
       "      <td>0.423077</td>\n",
       "      <td>0.153846</td>\n",
       "      <td>0.230769</td>\n",
       "      <td>0.153846</td>\n",
       "      <td>0.000000</td>\n",
       "      <td>0.0</td>\n",
       "      <td>0.0</td>\n",
       "      <td>0.038462</td>\n",
       "      <td>18</td>\n",
       "    </tr>\n",
       "    <tr>\n",
       "      <th>115961</th>\n",
       "      <td>488483</td>\n",
       "      <td>0.000000</td>\n",
       "      <td>0.000000</td>\n",
       "      <td>0.000000</td>\n",
       "      <td>1.000000</td>\n",
       "      <td>0.000000</td>\n",
       "      <td>0.0</td>\n",
       "      <td>0.0</td>\n",
       "      <td>0.000000</td>\n",
       "      <td>18</td>\n",
       "    </tr>\n",
       "    <tr>\n",
       "      <th>115962</th>\n",
       "      <td>488490</td>\n",
       "      <td>0.181818</td>\n",
       "      <td>0.272727</td>\n",
       "      <td>0.000000</td>\n",
       "      <td>0.272727</td>\n",
       "      <td>0.181818</td>\n",
       "      <td>0.0</td>\n",
       "      <td>0.0</td>\n",
       "      <td>0.090909</td>\n",
       "      <td>18</td>\n",
       "    </tr>\n",
       "    <tr>\n",
       "      <th>115963</th>\n",
       "      <td>488491</td>\n",
       "      <td>0.000000</td>\n",
       "      <td>0.000000</td>\n",
       "      <td>1.000000</td>\n",
       "      <td>0.000000</td>\n",
       "      <td>0.000000</td>\n",
       "      <td>0.0</td>\n",
       "      <td>0.0</td>\n",
       "      <td>0.000000</td>\n",
       "      <td>18</td>\n",
       "    </tr>\n",
       "    <tr>\n",
       "      <th>115964</th>\n",
       "      <td>488502</td>\n",
       "      <td>0.000000</td>\n",
       "      <td>0.000000</td>\n",
       "      <td>0.000000</td>\n",
       "      <td>1.000000</td>\n",
       "      <td>0.000000</td>\n",
       "      <td>0.0</td>\n",
       "      <td>0.0</td>\n",
       "      <td>0.000000</td>\n",
       "      <td>18</td>\n",
       "    </tr>\n",
       "  </tbody>\n",
       "</table>\n",
       "<p>115965 rows × 10 columns</p>\n",
       "</div>"
      ],
      "text/plain": [
       "        userId  smallCategoryDenimpants  smallCategoryCottonpants  \\\n",
       "0        14135                 0.666667                  0.000000   \n",
       "1        14141                 0.407407                  0.222222   \n",
       "2        14146                 0.000000                  0.000000   \n",
       "3        14148                 0.500000                  0.000000   \n",
       "4        14158                 0.500000                  0.200000   \n",
       "...        ...                      ...                       ...   \n",
       "115960  488479                 0.423077                  0.153846   \n",
       "115961  488483                 0.000000                  0.000000   \n",
       "115962  488490                 0.181818                  0.272727   \n",
       "115963  488491                 0.000000                  0.000000   \n",
       "115964  488502                 0.000000                  0.000000   \n",
       "\n",
       "        smallCategorySlacks  smallCategoryJoggerpants  \\\n",
       "0                  0.000000                  0.333333   \n",
       "1                  0.185185                  0.185185   \n",
       "2                  0.000000                  1.000000   \n",
       "3                  0.000000                  0.500000   \n",
       "4                  0.150000                  0.150000   \n",
       "...                     ...                       ...   \n",
       "115960             0.230769                  0.153846   \n",
       "115961             0.000000                  1.000000   \n",
       "115962             0.000000                  0.272727   \n",
       "115963             1.000000                  0.000000   \n",
       "115964             0.000000                  1.000000   \n",
       "\n",
       "        smallCategoryShortpants  smallCategoryLeggings  smallCategoryJumpsuit  \\\n",
       "0                      0.000000                    0.0                    0.0   \n",
       "1                      0.000000                    0.0                    0.0   \n",
       "2                      0.000000                    0.0                    0.0   \n",
       "3                      0.000000                    0.0                    0.0   \n",
       "4                      0.000000                    0.0                    0.0   \n",
       "...                         ...                    ...                    ...   \n",
       "115960                 0.000000                    0.0                    0.0   \n",
       "115961                 0.000000                    0.0                    0.0   \n",
       "115962                 0.181818                    0.0                    0.0   \n",
       "115963                 0.000000                    0.0                    0.0   \n",
       "115964                 0.000000                    0.0                    0.0   \n",
       "\n",
       "        smallCategoryOthers  what  \n",
       "0                  0.000000    18  \n",
       "1                  0.000000    18  \n",
       "2                  0.000000    18  \n",
       "3                  0.000000    18  \n",
       "4                  0.000000    18  \n",
       "...                     ...   ...  \n",
       "115960             0.038462    18  \n",
       "115961             0.000000    18  \n",
       "115962             0.090909    18  \n",
       "115963             0.000000    18  \n",
       "115964             0.000000    18  \n",
       "\n",
       "[115965 rows x 10 columns]"
      ]
     },
     "execution_count": 137,
     "metadata": {},
     "output_type": "execute_result"
    }
   ],
   "source": [
    "user_meta"
   ]
  },
  {
   "cell_type": "code",
   "execution_count": null,
   "id": "e7f1120a",
   "metadata": {},
   "outputs": [],
   "source": []
  },
  {
   "cell_type": "code",
   "execution_count": null,
   "id": "197986d6",
   "metadata": {},
   "outputs": [],
   "source": []
  },
  {
   "cell_type": "markdown",
   "id": "921921fa",
   "metadata": {},
   "source": [
    "# Onepiece"
   ]
  },
  {
   "cell_type": "code",
   "execution_count": 138,
   "id": "ce59ad5e",
   "metadata": {},
   "outputs": [],
   "source": [
    "transaction = pd.read_json('./transaction_onepiece.json')\n",
    "cloth_meta = pd.read_json('./final_onepiece.json')\n",
    "user_meta = pd.read_json('./user_onepiece.json')\n",
    "transaction = transaction[['userId', 'newClothId', 'shopCnt']]"
   ]
  },
  {
   "cell_type": "code",
   "execution_count": 139,
   "id": "e3585e0b",
   "metadata": {},
   "outputs": [],
   "source": [
    "unique_id_cloth_meta = list(set(cloth_meta.newClothId))\n",
    "transaction=transaction.loc[transaction.newClothId.isin(unique_id_cloth_meta),:]"
   ]
  },
  {
   "cell_type": "code",
   "execution_count": 140,
   "id": "4ceb9200",
   "metadata": {
    "scrolled": false
   },
   "outputs": [],
   "source": [
    "a = transaction[['newClothId']]\n",
    "a.insert(1, 'idx', 0, True)\n",
    "a = a.drop_duplicates(['newClothId'])\n",
    "a.idx = range(len(a))"
   ]
  },
  {
   "cell_type": "code",
   "execution_count": 141,
   "id": "e88e06f0",
   "metadata": {},
   "outputs": [],
   "source": [
    "transaction = pd.merge(transaction, a, how=\"left\", on=\"newClothId\")"
   ]
  },
  {
   "cell_type": "code",
   "execution_count": 142,
   "id": "6defe4f1",
   "metadata": {
    "scrolled": true
   },
   "outputs": [],
   "source": [
    "user_meta = user_meta[category_onepiece_user_column]"
   ]
  },
  {
   "cell_type": "code",
   "execution_count": 143,
   "id": "f3ff916a",
   "metadata": {},
   "outputs": [
    {
     "data": {
      "text/html": [
       "<div>\n",
       "<style scoped>\n",
       "    .dataframe tbody tr th:only-of-type {\n",
       "        vertical-align: middle;\n",
       "    }\n",
       "\n",
       "    .dataframe tbody tr th {\n",
       "        vertical-align: top;\n",
       "    }\n",
       "\n",
       "    .dataframe thead th {\n",
       "        text-align: right;\n",
       "    }\n",
       "</style>\n",
       "<table border=\"1\" class=\"dataframe\">\n",
       "  <thead>\n",
       "    <tr style=\"text-align: right;\">\n",
       "      <th></th>\n",
       "      <th>userId</th>\n",
       "      <th>smallCategoryMinidress</th>\n",
       "      <th>smallCategoryMidi</th>\n",
       "      <th>smallCategoryMaxidress</th>\n",
       "    </tr>\n",
       "  </thead>\n",
       "  <tbody>\n",
       "    <tr>\n",
       "      <th>0</th>\n",
       "      <td>8297</td>\n",
       "      <td>1.0</td>\n",
       "      <td>0.0</td>\n",
       "      <td>0.0</td>\n",
       "    </tr>\n",
       "    <tr>\n",
       "      <th>1</th>\n",
       "      <td>8298</td>\n",
       "      <td>1.0</td>\n",
       "      <td>0.0</td>\n",
       "      <td>0.0</td>\n",
       "    </tr>\n",
       "    <tr>\n",
       "      <th>2</th>\n",
       "      <td>8299</td>\n",
       "      <td>0.0</td>\n",
       "      <td>1.0</td>\n",
       "      <td>0.0</td>\n",
       "    </tr>\n",
       "    <tr>\n",
       "      <th>3</th>\n",
       "      <td>8300</td>\n",
       "      <td>1.0</td>\n",
       "      <td>0.0</td>\n",
       "      <td>0.0</td>\n",
       "    </tr>\n",
       "    <tr>\n",
       "      <th>4</th>\n",
       "      <td>8301</td>\n",
       "      <td>0.0</td>\n",
       "      <td>0.0</td>\n",
       "      <td>1.0</td>\n",
       "    </tr>\n",
       "    <tr>\n",
       "      <th>...</th>\n",
       "      <td>...</td>\n",
       "      <td>...</td>\n",
       "      <td>...</td>\n",
       "      <td>...</td>\n",
       "    </tr>\n",
       "    <tr>\n",
       "      <th>5832</th>\n",
       "      <td>14129</td>\n",
       "      <td>0.0</td>\n",
       "      <td>1.0</td>\n",
       "      <td>0.0</td>\n",
       "    </tr>\n",
       "    <tr>\n",
       "      <th>5833</th>\n",
       "      <td>14130</td>\n",
       "      <td>1.0</td>\n",
       "      <td>0.0</td>\n",
       "      <td>0.0</td>\n",
       "    </tr>\n",
       "    <tr>\n",
       "      <th>5834</th>\n",
       "      <td>14131</td>\n",
       "      <td>0.5</td>\n",
       "      <td>0.5</td>\n",
       "      <td>0.0</td>\n",
       "    </tr>\n",
       "    <tr>\n",
       "      <th>5835</th>\n",
       "      <td>14132</td>\n",
       "      <td>1.0</td>\n",
       "      <td>0.0</td>\n",
       "      <td>0.0</td>\n",
       "    </tr>\n",
       "    <tr>\n",
       "      <th>5836</th>\n",
       "      <td>14133</td>\n",
       "      <td>1.0</td>\n",
       "      <td>0.0</td>\n",
       "      <td>0.0</td>\n",
       "    </tr>\n",
       "  </tbody>\n",
       "</table>\n",
       "<p>5837 rows × 4 columns</p>\n",
       "</div>"
      ],
      "text/plain": [
       "      userId  smallCategoryMinidress  smallCategoryMidi  \\\n",
       "0       8297                     1.0                0.0   \n",
       "1       8298                     1.0                0.0   \n",
       "2       8299                     0.0                1.0   \n",
       "3       8300                     1.0                0.0   \n",
       "4       8301                     0.0                0.0   \n",
       "...      ...                     ...                ...   \n",
       "5832   14129                     0.0                1.0   \n",
       "5833   14130                     1.0                0.0   \n",
       "5834   14131                     0.5                0.5   \n",
       "5835   14132                     1.0                0.0   \n",
       "5836   14133                     1.0                0.0   \n",
       "\n",
       "      smallCategoryMaxidress  \n",
       "0                        0.0  \n",
       "1                        0.0  \n",
       "2                        0.0  \n",
       "3                        0.0  \n",
       "4                        1.0  \n",
       "...                      ...  \n",
       "5832                     0.0  \n",
       "5833                     0.0  \n",
       "5834                     0.0  \n",
       "5835                     0.0  \n",
       "5836                     0.0  \n",
       "\n",
       "[5837 rows x 4 columns]"
      ]
     },
     "execution_count": 143,
     "metadata": {},
     "output_type": "execute_result"
    }
   ],
   "source": [
    "unique_id_user_meta = list(set(transaction.userId))\n",
    "user_meta=user_meta.loc[user_meta.userId.isin(unique_id_user_meta),:]\n",
    "user_meta = user_meta.reset_index(drop=True)\n",
    "user_meta"
   ]
  },
  {
   "cell_type": "code",
   "execution_count": 144,
   "id": "572e35e1",
   "metadata": {
    "scrolled": false
   },
   "outputs": [
    {
     "data": {
      "text/html": [
       "<div>\n",
       "<style scoped>\n",
       "    .dataframe tbody tr th:only-of-type {\n",
       "        vertical-align: middle;\n",
       "    }\n",
       "\n",
       "    .dataframe tbody tr th {\n",
       "        vertical-align: top;\n",
       "    }\n",
       "\n",
       "    .dataframe thead th {\n",
       "        text-align: right;\n",
       "    }\n",
       "</style>\n",
       "<table border=\"1\" class=\"dataframe\">\n",
       "  <thead>\n",
       "    <tr style=\"text-align: right;\">\n",
       "      <th></th>\n",
       "      <th>userId</th>\n",
       "      <th>smallCategoryMinidress</th>\n",
       "      <th>smallCategoryMidi</th>\n",
       "      <th>smallCategoryMaxidress</th>\n",
       "    </tr>\n",
       "  </thead>\n",
       "  <tbody>\n",
       "    <tr>\n",
       "      <th>0</th>\n",
       "      <td>8299.0</td>\n",
       "      <td>0.3</td>\n",
       "      <td>0.3</td>\n",
       "      <td>0.4</td>\n",
       "    </tr>\n",
       "  </tbody>\n",
       "</table>\n",
       "</div>"
      ],
      "text/plain": [
       "   userId  smallCategoryMinidress  smallCategoryMidi  smallCategoryMaxidress\n",
       "0  8299.0                     0.3                0.3                     0.4"
      ]
     },
     "execution_count": 144,
     "metadata": {},
     "output_type": "execute_result"
    }
   ],
   "source": [
    "new_user = pd.DataFrame(user_meta.loc[0]).transpose()\n",
    "new_user_idx = new_user.index\n",
    "new_user.loc[new_user_idx, ('userId')] = 8299\n",
    "new_user.loc[new_user_idx, ('smallCategoryMinidress')] = 0.3\n",
    "new_user.loc[new_user_idx, ('smallCategoryMidi')] = 0.3\n",
    "new_user.loc[new_user_idx, ('smallCategoryMaxidress')] = 0.4\n",
    "new_user = new_user[['userId',  'smallCategoryMinidress', 'smallCategoryMidi', 'smallCategoryMaxidress']]\n",
    "new_user"
   ]
  },
  {
   "cell_type": "code",
   "execution_count": 158,
   "id": "8c804307",
   "metadata": {},
   "outputs": [],
   "source": [
    "from copy import deepcopy\n",
    "sub_user = deepcopy(user_meta)"
   ]
  },
  {
   "cell_type": "code",
   "execution_count": 159,
   "id": "4dbab74f",
   "metadata": {},
   "outputs": [],
   "source": [
    "sub_user.smallCategoryMinidress = sub_user.apply(lambda x: abs(x.smallCategoryMinidress-new_user.smallCategoryMinidress.iloc[0]), axis=1)\n",
    "sub_user.smallCategoryMidi = sub_user.apply(lambda x: abs(x.smallCategoryMidi-new_user.smallCategoryMidi.iloc[0]), axis=1)\n",
    "sub_user.smallCategoryMaxidress = sub_user.apply(lambda x: abs(x.smallCategoryMaxidress-new_user.smallCategoryMaxidress.iloc[0]), axis=1)"
   ]
  },
  {
   "cell_type": "code",
   "execution_count": 160,
   "id": "9e89374b",
   "metadata": {},
   "outputs": [],
   "source": [
    "sub_user.insert(1, 'favorSum', 0, True)\n",
    "sub_user.favorSum = sub_user.smallCategoryMinidress+sub_user.smallCategoryMidi+sub_user.smallCategoryMaxidress\n",
    "sub_user = sub_user.sort_values('favorSum')"
   ]
  },
  {
   "cell_type": "code",
   "execution_count": 161,
   "id": "e4c76a4e",
   "metadata": {},
   "outputs": [
    {
     "name": "stdout",
     "output_type": "stream",
     "text": [
      "[13651, 8841, 9688]\n"
     ]
    }
   ],
   "source": [
    "real_user = []\n",
    "for i in range(3):\n",
    "    real_user.append(sub_user.iloc[i].userId)\n",
    "real_user = [int(i) for i in real_user]\n",
    "print(real_user)"
   ]
  },
  {
   "cell_type": "code",
   "execution_count": 165,
   "id": "f6618cdf",
   "metadata": {},
   "outputs": [],
   "source": [
    "cloth_meta = cloth_meta[category_onepiece_cloth_column]"
   ]
  },
  {
   "cell_type": "code",
   "execution_count": 166,
   "id": "cac39695",
   "metadata": {},
   "outputs": [
    {
     "data": {
      "text/html": [
       "<div>\n",
       "<style scoped>\n",
       "    .dataframe tbody tr th:only-of-type {\n",
       "        vertical-align: middle;\n",
       "    }\n",
       "\n",
       "    .dataframe tbody tr th {\n",
       "        vertical-align: top;\n",
       "    }\n",
       "\n",
       "    .dataframe thead th {\n",
       "        text-align: right;\n",
       "    }\n",
       "</style>\n",
       "<table border=\"1\" class=\"dataframe\">\n",
       "  <thead>\n",
       "    <tr style=\"text-align: right;\">\n",
       "      <th></th>\n",
       "      <th>newClothId</th>\n",
       "      <th>smallCategoryMinidress</th>\n",
       "      <th>smallCategoryMidi</th>\n",
       "      <th>smallCategoryMaxidress</th>\n",
       "    </tr>\n",
       "  </thead>\n",
       "  <tbody>\n",
       "    <tr>\n",
       "      <th>0</th>\n",
       "      <td>1475941</td>\n",
       "      <td>0</td>\n",
       "      <td>1</td>\n",
       "      <td>0</td>\n",
       "    </tr>\n",
       "    <tr>\n",
       "      <th>1</th>\n",
       "      <td>1995082</td>\n",
       "      <td>0</td>\n",
       "      <td>0</td>\n",
       "      <td>1</td>\n",
       "    </tr>\n",
       "    <tr>\n",
       "      <th>2</th>\n",
       "      <td>1723870</td>\n",
       "      <td>0</td>\n",
       "      <td>1</td>\n",
       "      <td>0</td>\n",
       "    </tr>\n",
       "    <tr>\n",
       "      <th>3</th>\n",
       "      <td>2197982</td>\n",
       "      <td>0</td>\n",
       "      <td>1</td>\n",
       "      <td>0</td>\n",
       "    </tr>\n",
       "    <tr>\n",
       "      <th>4</th>\n",
       "      <td>2247825</td>\n",
       "      <td>0</td>\n",
       "      <td>0</td>\n",
       "      <td>1</td>\n",
       "    </tr>\n",
       "    <tr>\n",
       "      <th>...</th>\n",
       "      <td>...</td>\n",
       "      <td>...</td>\n",
       "      <td>...</td>\n",
       "      <td>...</td>\n",
       "    </tr>\n",
       "    <tr>\n",
       "      <th>9870</th>\n",
       "      <td>2324195</td>\n",
       "      <td>0</td>\n",
       "      <td>1</td>\n",
       "      <td>0</td>\n",
       "    </tr>\n",
       "    <tr>\n",
       "      <th>9871</th>\n",
       "      <td>14649944700</td>\n",
       "      <td>0</td>\n",
       "      <td>0</td>\n",
       "      <td>1</td>\n",
       "    </tr>\n",
       "    <tr>\n",
       "      <th>9872</th>\n",
       "      <td>2352427</td>\n",
       "      <td>0</td>\n",
       "      <td>1</td>\n",
       "      <td>0</td>\n",
       "    </tr>\n",
       "    <tr>\n",
       "      <th>9873</th>\n",
       "      <td>1457626</td>\n",
       "      <td>1</td>\n",
       "      <td>0</td>\n",
       "      <td>0</td>\n",
       "    </tr>\n",
       "    <tr>\n",
       "      <th>9874</th>\n",
       "      <td>1503801</td>\n",
       "      <td>1</td>\n",
       "      <td>0</td>\n",
       "      <td>0</td>\n",
       "    </tr>\n",
       "  </tbody>\n",
       "</table>\n",
       "<p>9875 rows × 4 columns</p>\n",
       "</div>"
      ],
      "text/plain": [
       "       newClothId  smallCategoryMinidress  smallCategoryMidi  \\\n",
       "0         1475941                       0                  1   \n",
       "1         1995082                       0                  0   \n",
       "2         1723870                       0                  1   \n",
       "3         2197982                       0                  1   \n",
       "4         2247825                       0                  0   \n",
       "...           ...                     ...                ...   \n",
       "9870      2324195                       0                  1   \n",
       "9871  14649944700                       0                  0   \n",
       "9872      2352427                       0                  1   \n",
       "9873      1457626                       1                  0   \n",
       "9874      1503801                       1                  0   \n",
       "\n",
       "      smallCategoryMaxidress  \n",
       "0                          0  \n",
       "1                          1  \n",
       "2                          0  \n",
       "3                          0  \n",
       "4                          1  \n",
       "...                      ...  \n",
       "9870                       0  \n",
       "9871                       1  \n",
       "9872                       0  \n",
       "9873                       0  \n",
       "9874                       0  \n",
       "\n",
       "[9875 rows x 4 columns]"
      ]
     },
     "execution_count": 166,
     "metadata": {},
     "output_type": "execute_result"
    }
   ],
   "source": [
    "cloth_meta"
   ]
  },
  {
   "cell_type": "code",
   "execution_count": 167,
   "id": "d69a64dc",
   "metadata": {},
   "outputs": [],
   "source": [
    "cloth_meta = pd.merge(cloth_meta, a, how=\"left\", on=\"newClothId\")"
   ]
  },
  {
   "cell_type": "code",
   "execution_count": 168,
   "id": "9b2d9504",
   "metadata": {},
   "outputs": [
    {
     "data": {
      "text/plain": [
       "2047"
      ]
     },
     "execution_count": 168,
     "metadata": {},
     "output_type": "execute_result"
    }
   ],
   "source": [
    "unique_cloth_id = list(transaction['newClothId'].unique())\n",
    "len(unique_cloth_id)"
   ]
  },
  {
   "cell_type": "code",
   "execution_count": 169,
   "id": "b27b96b0",
   "metadata": {},
   "outputs": [],
   "source": [
    "a = cloth_meta.newClothId.isin(unique_cloth_id)\n",
    "cloth_meta = cloth_meta[a]\n",
    "cloth_meta.index = range(len(cloth_meta))"
   ]
  },
  {
   "cell_type": "code",
   "execution_count": 170,
   "id": "677ead7b",
   "metadata": {
    "scrolled": false
   },
   "outputs": [],
   "source": [
    "cloth_meta.idx = cloth_meta.idx.astype('int')"
   ]
  },
  {
   "cell_type": "code",
   "execution_count": 171,
   "id": "44d2f2e1",
   "metadata": {},
   "outputs": [],
   "source": [
    "transaction_source = [(transaction['userId'][i], transaction['idx'][i]) for i in range(transaction.shape[0])]"
   ]
  },
  {
   "cell_type": "code",
   "execution_count": 172,
   "id": "d80af2d3",
   "metadata": {},
   "outputs": [
    {
     "name": "stdout",
     "output_type": "stream",
     "text": [
      "userId의 유니크 개수 : 5837\n",
      "clothId의 유니크 개수 : 2047\n",
      "user테이블의 userId의 유니크 개수 : 5837\n",
      "cloth테이블의 clothId의 유니크 개수 : 2047\n"
     ]
    }
   ],
   "source": [
    "print('userId의 유니크 개수 :', len(transaction.userId.unique()))\n",
    "print('clothId의 유니크 개수 :', len(transaction.idx.unique()))\n",
    "print('user테이블의 userId의 유니크 개수 :', len(user_meta.userId.unique()))\n",
    "print('cloth테이블의 clothId의 유니크 개수 :', len(cloth_meta.idx.unique()))"
   ]
  },
  {
   "cell_type": "code",
   "execution_count": 173,
   "id": "e614c190",
   "metadata": {},
   "outputs": [
    {
     "data": {
      "text/html": [
       "<div>\n",
       "<style scoped>\n",
       "    .dataframe tbody tr th:only-of-type {\n",
       "        vertical-align: middle;\n",
       "    }\n",
       "\n",
       "    .dataframe tbody tr th {\n",
       "        vertical-align: top;\n",
       "    }\n",
       "\n",
       "    .dataframe thead th {\n",
       "        text-align: right;\n",
       "    }\n",
       "</style>\n",
       "<table border=\"1\" class=\"dataframe\">\n",
       "  <thead>\n",
       "    <tr style=\"text-align: right;\">\n",
       "      <th></th>\n",
       "      <th>userId</th>\n",
       "      <th>smallCategoryMinidress</th>\n",
       "      <th>smallCategoryMidi</th>\n",
       "      <th>smallCategoryMaxidress</th>\n",
       "    </tr>\n",
       "  </thead>\n",
       "  <tbody>\n",
       "    <tr>\n",
       "      <th>0</th>\n",
       "      <td>8297</td>\n",
       "      <td>1.0</td>\n",
       "      <td>0.0</td>\n",
       "      <td>0.0</td>\n",
       "    </tr>\n",
       "    <tr>\n",
       "      <th>1</th>\n",
       "      <td>8298</td>\n",
       "      <td>1.0</td>\n",
       "      <td>0.0</td>\n",
       "      <td>0.0</td>\n",
       "    </tr>\n",
       "    <tr>\n",
       "      <th>2</th>\n",
       "      <td>8299</td>\n",
       "      <td>0.0</td>\n",
       "      <td>1.0</td>\n",
       "      <td>0.0</td>\n",
       "    </tr>\n",
       "    <tr>\n",
       "      <th>3</th>\n",
       "      <td>8300</td>\n",
       "      <td>1.0</td>\n",
       "      <td>0.0</td>\n",
       "      <td>0.0</td>\n",
       "    </tr>\n",
       "    <tr>\n",
       "      <th>4</th>\n",
       "      <td>8301</td>\n",
       "      <td>0.0</td>\n",
       "      <td>0.0</td>\n",
       "      <td>1.0</td>\n",
       "    </tr>\n",
       "    <tr>\n",
       "      <th>...</th>\n",
       "      <td>...</td>\n",
       "      <td>...</td>\n",
       "      <td>...</td>\n",
       "      <td>...</td>\n",
       "    </tr>\n",
       "    <tr>\n",
       "      <th>5832</th>\n",
       "      <td>14129</td>\n",
       "      <td>0.0</td>\n",
       "      <td>1.0</td>\n",
       "      <td>0.0</td>\n",
       "    </tr>\n",
       "    <tr>\n",
       "      <th>5833</th>\n",
       "      <td>14130</td>\n",
       "      <td>1.0</td>\n",
       "      <td>0.0</td>\n",
       "      <td>0.0</td>\n",
       "    </tr>\n",
       "    <tr>\n",
       "      <th>5834</th>\n",
       "      <td>14131</td>\n",
       "      <td>0.5</td>\n",
       "      <td>0.5</td>\n",
       "      <td>0.0</td>\n",
       "    </tr>\n",
       "    <tr>\n",
       "      <th>5835</th>\n",
       "      <td>14132</td>\n",
       "      <td>1.0</td>\n",
       "      <td>0.0</td>\n",
       "      <td>0.0</td>\n",
       "    </tr>\n",
       "    <tr>\n",
       "      <th>5836</th>\n",
       "      <td>14133</td>\n",
       "      <td>1.0</td>\n",
       "      <td>0.0</td>\n",
       "      <td>0.0</td>\n",
       "    </tr>\n",
       "  </tbody>\n",
       "</table>\n",
       "<p>5837 rows × 4 columns</p>\n",
       "</div>"
      ],
      "text/plain": [
       "      userId  smallCategoryMinidress  smallCategoryMidi  \\\n",
       "0       8297                     1.0                0.0   \n",
       "1       8298                     1.0                0.0   \n",
       "2       8299                     0.0                1.0   \n",
       "3       8300                     1.0                0.0   \n",
       "4       8301                     0.0                0.0   \n",
       "...      ...                     ...                ...   \n",
       "5832   14129                     0.0                1.0   \n",
       "5833   14130                     1.0                0.0   \n",
       "5834   14131                     0.5                0.5   \n",
       "5835   14132                     1.0                0.0   \n",
       "5836   14133                     1.0                0.0   \n",
       "\n",
       "      smallCategoryMaxidress  \n",
       "0                        0.0  \n",
       "1                        0.0  \n",
       "2                        0.0  \n",
       "3                        0.0  \n",
       "4                        1.0  \n",
       "...                      ...  \n",
       "5832                     0.0  \n",
       "5833                     0.0  \n",
       "5834                     0.0  \n",
       "5835                     0.0  \n",
       "5836                     0.0  \n",
       "\n",
       "[5837 rows x 4 columns]"
      ]
     },
     "execution_count": 173,
     "metadata": {},
     "output_type": "execute_result"
    }
   ],
   "source": [
    "user_meta"
   ]
  },
  {
   "cell_type": "code",
   "execution_count": 174,
   "id": "ee472fe0",
   "metadata": {},
   "outputs": [],
   "source": [
    "user_features_source = [(user_meta['userId'][i],\n",
    "                        [user_meta['smallCategoryMinidress'][i], user_meta['smallCategoryMidi'][i], user_meta['smallCategoryMaxidress'][i]]) for i in range(user_meta.shape[0])]"
   ]
  },
  {
   "cell_type": "code",
   "execution_count": 175,
   "id": "5a7dd0b2",
   "metadata": {},
   "outputs": [],
   "source": [
    "cloth_features_source = [(cloth_meta['idx'][i],\n",
    "                        [cloth_meta['smallCategoryMinidress'][i], cloth_meta['smallCategoryMidi'][i], cloth_meta['smallCategoryMaxidress'][i]]) for i in range(cloth_meta.shape[0])]"
   ]
  },
  {
   "cell_type": "code",
   "execution_count": 176,
   "id": "106bbb80",
   "metadata": {},
   "outputs": [],
   "source": [
    "dataset = Dataset()\n",
    "dataset.fit(users=transaction['userId'].unique(),\n",
    "           items=transaction['idx'].unique(),\n",
    "           user_features=user_meta[user_meta.columns[1:]].values.flatten(),\n",
    "           item_features=cloth_meta[cloth_meta.columns[1:]].values.flatten())"
   ]
  },
  {
   "cell_type": "code",
   "execution_count": 177,
   "id": "11a42356",
   "metadata": {},
   "outputs": [],
   "source": [
    "interactions, weights = dataset.build_interactions(transaction_source)"
   ]
  },
  {
   "cell_type": "code",
   "execution_count": 178,
   "id": "908b3a37",
   "metadata": {},
   "outputs": [],
   "source": [
    "user_features = dataset.build_user_features(user_features_source)"
   ]
  },
  {
   "cell_type": "code",
   "execution_count": 179,
   "id": "7d580846",
   "metadata": {
    "scrolled": true
   },
   "outputs": [],
   "source": [
    "cloth_features = dataset.build_item_features(cloth_features_source)"
   ]
  },
  {
   "cell_type": "code",
   "execution_count": 180,
   "id": "df956cdc",
   "metadata": {},
   "outputs": [],
   "source": [
    "train, test = random_train_test_split(interactions, test_percentage=0.2)\n",
    "train, test = train.tocsr().tocoo(), test.tocsr().tocoo()\n",
    "train_weights = train.multiply(weights).tocoo()\n",
    "test_weights = test.multiply(weights).tocoo()"
   ]
  },
  {
   "cell_type": "code",
   "execution_count": 181,
   "id": "03c32a76",
   "metadata": {},
   "outputs": [],
   "source": [
    "# no_components: 10\n",
    "# learning_rate : 0.05\n",
    "trials = Trials()\n",
    "space = [hp.choice('no_components', range(10, 21, 5)),\n",
    "         hp.uniform('learning_rate', 0.05, 0.1)]"
   ]
  },
  {
   "cell_type": "code",
   "execution_count": 182,
   "id": "c147633f",
   "metadata": {},
   "outputs": [],
   "source": [
    "# Define Objective Function\n",
    "def objective(params):\n",
    "    no_components, learning_rate = params\n",
    "    model = LightFM(no_components=no_components,\n",
    "                    learning_schedule='adagrad',\n",
    "                    loss='warp',\n",
    "                    learning_rate=learning_rate,\n",
    "                    random_state=0)\n",
    "\n",
    "    model.fit(interactions=train,\n",
    "              item_features=cloth_features,\n",
    "              user_features=user_features,\n",
    "              sample_weight=train_weights,\n",
    "              epochs=3,\n",
    "              verbose=False)\n",
    "\n",
    "    test_precision = precision_at_k(model, test, k=5, item_features=cloth_features, user_features=user_features).mean()\n",
    "    print(\"no_comp: {}, lrn_rate: {:.5f}, precision: {:.5f}\".format(\n",
    "      no_components, learning_rate, test_precision))\n",
    "    # test_auc = auc_score(model, test, item_features=item_features).mean()\n",
    "    output = -test_precision\n",
    "\n",
    "    if np.abs(output+1) < 0.01 or output < -1.0:\n",
    "        output = 0.0\n",
    "\n",
    "    return output"
   ]
  },
  {
   "cell_type": "code",
   "execution_count": 183,
   "id": "9b889fec",
   "metadata": {},
   "outputs": [
    {
     "name": "stdout",
     "output_type": "stream",
     "text": [
      "no_comp: 10, lrn_rate: 0.09564, precision: 0.00773    \n",
      "no_comp: 20, lrn_rate: 0.05525, precision: 0.01010                                 \n",
      "no_comp: 15, lrn_rate: 0.08130, precision: 0.01204                                 \n",
      "no_comp: 10, lrn_rate: 0.06293, precision: 0.00624                                 \n",
      "no_comp: 15, lrn_rate: 0.05524, precision: 0.01159                                \n",
      "no_comp: 20, lrn_rate: 0.06829, precision: 0.00966                                \n",
      "no_comp: 15, lrn_rate: 0.07060, precision: 0.00981                                \n",
      "no_comp: 15, lrn_rate: 0.08503, precision: 0.01085                                \n",
      "no_comp: 10, lrn_rate: 0.09954, precision: 0.00698                                \n",
      "no_comp: 10, lrn_rate: 0.06966, precision: 0.00579                                \n",
      "100%|██████████| 10/10 [00:03<00:00,  3.26trial/s, best loss: -0.01203566137701273]\n"
     ]
    }
   ],
   "source": [
    "best_params = fmin(fn=objective, space=space, algo=tpe.suggest, max_evals=10, trials=trials)"
   ]
  },
  {
   "cell_type": "code",
   "execution_count": 184,
   "id": "eeeed595",
   "metadata": {
    "scrolled": true
   },
   "outputs": [
    {
     "name": "stdout",
     "output_type": "stream",
     "text": [
      "0.081 1\n"
     ]
    }
   ],
   "source": [
    "learning_rate = round(best_params['learning_rate'], 3)\n",
    "no_components = best_params['no_components']\n",
    "print(learning_rate, no_components)"
   ]
  },
  {
   "cell_type": "code",
   "execution_count": 185,
   "id": "de02ac4d",
   "metadata": {},
   "outputs": [],
   "source": [
    "learning_rate = 0.03\n",
    "no_components = 3"
   ]
  },
  {
   "cell_type": "code",
   "execution_count": 186,
   "id": "22d5c726",
   "metadata": {},
   "outputs": [
    {
     "name": "stderr",
     "output_type": "stream",
     "text": [
      "Epoch: 100%|██████████| 10/10 [00:00<00:00, 70.66it/s]\n"
     ]
    },
    {
     "data": {
      "text/plain": [
       "<lightfm.lightfm.LightFM at 0x1c53cb48e80>"
      ]
     },
     "execution_count": 186,
     "metadata": {},
     "output_type": "execute_result"
    }
   ],
   "source": [
    "model = LightFM(no_components=no_components,\n",
    "                learning_schedule='adagrad',\n",
    "                loss='warp',\n",
    "                learning_rate=learning_rate,\n",
    "                random_state=0)\n",
    "\n",
    "model.fit(interactions=interactions,\n",
    "          item_features=cloth_features,\n",
    "          user_features=user_features,\n",
    "          sample_weight=weights,\n",
    "          epochs=10,\n",
    "          verbose=True)"
   ]
  },
  {
   "cell_type": "code",
   "execution_count": 187,
   "id": "b280b0eb",
   "metadata": {},
   "outputs": [],
   "source": [
    "# 모델 저장하기\n",
    "import pickle\n",
    "with open('model_category_onepiece.pickle', 'wb') as fw:\n",
    "    pickle.dump(model, fw)"
   ]
  },
  {
   "cell_type": "code",
   "execution_count": 188,
   "id": "4583e5a9",
   "metadata": {},
   "outputs": [],
   "source": [
    "# 모델 불러오기\n",
    "import pickle\n",
    "with open('model_category_onepiece.pickle', 'rb') as f:\n",
    "    model_onepiece = pickle.load(f)"
   ]
  },
  {
   "cell_type": "code",
   "execution_count": 189,
   "id": "f4905096",
   "metadata": {},
   "outputs": [],
   "source": [
    "def sample_recommendation(model, idx, user_ids):\n",
    "    cnt = 1\n",
    "    for user_id in user_ids:\n",
    "        if cnt==1:\n",
    "            scores = model.predict(int(user_meta[user_meta.userId==user_id].index[0]), np.arange(len(cloth_meta)))\n",
    "        else:\n",
    "            scores += model.predict(int(user_meta[user_meta.userId==user_id].index[0]), np.arange(len(cloth_meta)))\n",
    "    \n",
    "    top_items = idx[np.argsort(-scores)]\n",
    "    \n",
    "    sub_clothes = []\n",
    "\n",
    "    for x in top_items[:10]:\n",
    "        sub_clothes.append(x)\n",
    "    \n",
    "    rec_clothes = []\n",
    "    \n",
    "    for i in sub_clothes:\n",
    "        rec_clothes.append(cloth_meta[cloth_meta.idx==i].newClothId.iloc[0])\n",
    "    \n",
    "    return rec_clothes"
   ]
  },
  {
   "cell_type": "code",
   "execution_count": 190,
   "id": "7f8e4079",
   "metadata": {
    "scrolled": false
   },
   "outputs": [
    {
     "data": {
      "text/plain": [
       "[22207502998,\n",
       " 20163412966,\n",
       " 17093152675,\n",
       " 14435003027,\n",
       " 19345122958,\n",
       " 21430112964,\n",
       " 19186162758,\n",
       " 19186162757,\n",
       " 19173573021,\n",
       " 21101903074]"
      ]
     },
     "execution_count": 190,
     "metadata": {},
     "output_type": "execute_result"
    }
   ],
   "source": [
    "rec_size_top = sample_recommendation(model_onepiece, cloth_meta.idx, real_user)\n",
    "rec_size_top"
   ]
  },
  {
   "cell_type": "code",
   "execution_count": 191,
   "id": "cb0ebabb",
   "metadata": {},
   "outputs": [
    {
     "data": {
      "text/plain": [
       "[13651, 8841, 9688]"
      ]
     },
     "execution_count": 191,
     "metadata": {},
     "output_type": "execute_result"
    }
   ],
   "source": [
    "real_user"
   ]
  },
  {
   "cell_type": "code",
   "execution_count": 194,
   "id": "98c4dc9a",
   "metadata": {},
   "outputs": [],
   "source": [
    "cloth_meta.insert(5, 'what', 19, True)\n",
    "user_meta.insert(4, 'what', 19, True)"
   ]
  },
  {
   "cell_type": "code",
   "execution_count": 195,
   "id": "f763579d",
   "metadata": {
    "scrolled": false
   },
   "outputs": [
    {
     "data": {
      "text/html": [
       "<div>\n",
       "<style scoped>\n",
       "    .dataframe tbody tr th:only-of-type {\n",
       "        vertical-align: middle;\n",
       "    }\n",
       "\n",
       "    .dataframe tbody tr th {\n",
       "        vertical-align: top;\n",
       "    }\n",
       "\n",
       "    .dataframe thead th {\n",
       "        text-align: right;\n",
       "    }\n",
       "</style>\n",
       "<table border=\"1\" class=\"dataframe\">\n",
       "  <thead>\n",
       "    <tr style=\"text-align: right;\">\n",
       "      <th></th>\n",
       "      <th>newClothId</th>\n",
       "      <th>idx</th>\n",
       "      <th>what</th>\n",
       "    </tr>\n",
       "  </thead>\n",
       "  <tbody>\n",
       "    <tr>\n",
       "      <th>0</th>\n",
       "      <td>14094532674</td>\n",
       "      <td>279</td>\n",
       "      <td>19</td>\n",
       "    </tr>\n",
       "    <tr>\n",
       "      <th>1</th>\n",
       "      <td>14163822698</td>\n",
       "      <td>1239</td>\n",
       "      <td>19</td>\n",
       "    </tr>\n",
       "    <tr>\n",
       "      <th>2</th>\n",
       "      <td>18962342742</td>\n",
       "      <td>78</td>\n",
       "      <td>19</td>\n",
       "    </tr>\n",
       "    <tr>\n",
       "      <th>3</th>\n",
       "      <td>14829532807</td>\n",
       "      <td>1135</td>\n",
       "      <td>19</td>\n",
       "    </tr>\n",
       "    <tr>\n",
       "      <th>4</th>\n",
       "      <td>13617652829</td>\n",
       "      <td>1543</td>\n",
       "      <td>19</td>\n",
       "    </tr>\n",
       "    <tr>\n",
       "      <th>...</th>\n",
       "      <td>...</td>\n",
       "      <td>...</td>\n",
       "      <td>...</td>\n",
       "    </tr>\n",
       "    <tr>\n",
       "      <th>2042</th>\n",
       "      <td>20653784693</td>\n",
       "      <td>298</td>\n",
       "      <td>19</td>\n",
       "    </tr>\n",
       "    <tr>\n",
       "      <th>2043</th>\n",
       "      <td>13105704695</td>\n",
       "      <td>1719</td>\n",
       "      <td>19</td>\n",
       "    </tr>\n",
       "    <tr>\n",
       "      <th>2044</th>\n",
       "      <td>14406794698</td>\n",
       "      <td>837</td>\n",
       "      <td>19</td>\n",
       "    </tr>\n",
       "    <tr>\n",
       "      <th>2045</th>\n",
       "      <td>19412954699</td>\n",
       "      <td>1421</td>\n",
       "      <td>19</td>\n",
       "    </tr>\n",
       "    <tr>\n",
       "      <th>2046</th>\n",
       "      <td>14649944700</td>\n",
       "      <td>1319</td>\n",
       "      <td>19</td>\n",
       "    </tr>\n",
       "  </tbody>\n",
       "</table>\n",
       "<p>2047 rows × 3 columns</p>\n",
       "</div>"
      ],
      "text/plain": [
       "       newClothId   idx  what\n",
       "0     14094532674   279    19\n",
       "1     14163822698  1239    19\n",
       "2     18962342742    78    19\n",
       "3     14829532807  1135    19\n",
       "4     13617652829  1543    19\n",
       "...           ...   ...   ...\n",
       "2042  20653784693   298    19\n",
       "2043  13105704695  1719    19\n",
       "2044  14406794698   837    19\n",
       "2045  19412954699  1421    19\n",
       "2046  14649944700  1319    19\n",
       "\n",
       "[2047 rows x 3 columns]"
      ]
     },
     "execution_count": 195,
     "metadata": {},
     "output_type": "execute_result"
    }
   ],
   "source": [
    "cloth_meta = cloth_meta[[\"newClothId\", \"idx\", 'what']]\n",
    "cloth_meta"
   ]
  },
  {
   "cell_type": "code",
   "execution_count": 196,
   "id": "16f1dc96",
   "metadata": {},
   "outputs": [],
   "source": [
    "cloth_meta.to_json('category_onepiece_cloth_meta.json', orient='records', force_ascii=False)\n",
    "user_meta.to_json('category_onepiece_user_meta.json', orient='records', force_ascii=False)"
   ]
  },
  {
   "cell_type": "code",
   "execution_count": 197,
   "id": "4554c0d8",
   "metadata": {},
   "outputs": [
    {
     "data": {
      "text/html": [
       "<div>\n",
       "<style scoped>\n",
       "    .dataframe tbody tr th:only-of-type {\n",
       "        vertical-align: middle;\n",
       "    }\n",
       "\n",
       "    .dataframe tbody tr th {\n",
       "        vertical-align: top;\n",
       "    }\n",
       "\n",
       "    .dataframe thead th {\n",
       "        text-align: right;\n",
       "    }\n",
       "</style>\n",
       "<table border=\"1\" class=\"dataframe\">\n",
       "  <thead>\n",
       "    <tr style=\"text-align: right;\">\n",
       "      <th></th>\n",
       "      <th>userId</th>\n",
       "      <th>smallCategoryMinidress</th>\n",
       "      <th>smallCategoryMidi</th>\n",
       "      <th>smallCategoryMaxidress</th>\n",
       "      <th>what</th>\n",
       "    </tr>\n",
       "  </thead>\n",
       "  <tbody>\n",
       "    <tr>\n",
       "      <th>0</th>\n",
       "      <td>8297</td>\n",
       "      <td>1.0</td>\n",
       "      <td>0.0</td>\n",
       "      <td>0.0</td>\n",
       "      <td>19</td>\n",
       "    </tr>\n",
       "    <tr>\n",
       "      <th>1</th>\n",
       "      <td>8298</td>\n",
       "      <td>1.0</td>\n",
       "      <td>0.0</td>\n",
       "      <td>0.0</td>\n",
       "      <td>19</td>\n",
       "    </tr>\n",
       "    <tr>\n",
       "      <th>2</th>\n",
       "      <td>8299</td>\n",
       "      <td>0.0</td>\n",
       "      <td>1.0</td>\n",
       "      <td>0.0</td>\n",
       "      <td>19</td>\n",
       "    </tr>\n",
       "    <tr>\n",
       "      <th>3</th>\n",
       "      <td>8300</td>\n",
       "      <td>1.0</td>\n",
       "      <td>0.0</td>\n",
       "      <td>0.0</td>\n",
       "      <td>19</td>\n",
       "    </tr>\n",
       "    <tr>\n",
       "      <th>4</th>\n",
       "      <td>8301</td>\n",
       "      <td>0.0</td>\n",
       "      <td>0.0</td>\n",
       "      <td>1.0</td>\n",
       "      <td>19</td>\n",
       "    </tr>\n",
       "    <tr>\n",
       "      <th>...</th>\n",
       "      <td>...</td>\n",
       "      <td>...</td>\n",
       "      <td>...</td>\n",
       "      <td>...</td>\n",
       "      <td>...</td>\n",
       "    </tr>\n",
       "    <tr>\n",
       "      <th>5832</th>\n",
       "      <td>14129</td>\n",
       "      <td>0.0</td>\n",
       "      <td>1.0</td>\n",
       "      <td>0.0</td>\n",
       "      <td>19</td>\n",
       "    </tr>\n",
       "    <tr>\n",
       "      <th>5833</th>\n",
       "      <td>14130</td>\n",
       "      <td>1.0</td>\n",
       "      <td>0.0</td>\n",
       "      <td>0.0</td>\n",
       "      <td>19</td>\n",
       "    </tr>\n",
       "    <tr>\n",
       "      <th>5834</th>\n",
       "      <td>14131</td>\n",
       "      <td>0.5</td>\n",
       "      <td>0.5</td>\n",
       "      <td>0.0</td>\n",
       "      <td>19</td>\n",
       "    </tr>\n",
       "    <tr>\n",
       "      <th>5835</th>\n",
       "      <td>14132</td>\n",
       "      <td>1.0</td>\n",
       "      <td>0.0</td>\n",
       "      <td>0.0</td>\n",
       "      <td>19</td>\n",
       "    </tr>\n",
       "    <tr>\n",
       "      <th>5836</th>\n",
       "      <td>14133</td>\n",
       "      <td>1.0</td>\n",
       "      <td>0.0</td>\n",
       "      <td>0.0</td>\n",
       "      <td>19</td>\n",
       "    </tr>\n",
       "  </tbody>\n",
       "</table>\n",
       "<p>5837 rows × 5 columns</p>\n",
       "</div>"
      ],
      "text/plain": [
       "      userId  smallCategoryMinidress  smallCategoryMidi  \\\n",
       "0       8297                     1.0                0.0   \n",
       "1       8298                     1.0                0.0   \n",
       "2       8299                     0.0                1.0   \n",
       "3       8300                     1.0                0.0   \n",
       "4       8301                     0.0                0.0   \n",
       "...      ...                     ...                ...   \n",
       "5832   14129                     0.0                1.0   \n",
       "5833   14130                     1.0                0.0   \n",
       "5834   14131                     0.5                0.5   \n",
       "5835   14132                     1.0                0.0   \n",
       "5836   14133                     1.0                0.0   \n",
       "\n",
       "      smallCategoryMaxidress  what  \n",
       "0                        0.0    19  \n",
       "1                        0.0    19  \n",
       "2                        0.0    19  \n",
       "3                        0.0    19  \n",
       "4                        1.0    19  \n",
       "...                      ...   ...  \n",
       "5832                     0.0    19  \n",
       "5833                     0.0    19  \n",
       "5834                     0.0    19  \n",
       "5835                     0.0    19  \n",
       "5836                     0.0    19  \n",
       "\n",
       "[5837 rows x 5 columns]"
      ]
     },
     "execution_count": 197,
     "metadata": {},
     "output_type": "execute_result"
    }
   ],
   "source": [
    "user_meta"
   ]
  },
  {
   "cell_type": "code",
   "execution_count": null,
   "id": "0b1e8126",
   "metadata": {},
   "outputs": [],
   "source": []
  },
  {
   "cell_type": "code",
   "execution_count": null,
   "id": "f9a28474",
   "metadata": {},
   "outputs": [],
   "source": []
  },
  {
   "cell_type": "markdown",
   "id": "be40be92",
   "metadata": {},
   "source": [
    "# Skirt"
   ]
  },
  {
   "cell_type": "code",
   "execution_count": 198,
   "id": "ce59ad5e",
   "metadata": {},
   "outputs": [],
   "source": [
    "transaction = pd.read_json('./transaction_skirt.json')\n",
    "cloth_meta = pd.read_json('./final_skirt.json')\n",
    "user_meta = pd.read_json('./user_skirt.json')\n",
    "transaction = transaction[['userId', 'newClothId', 'shopCnt']]"
   ]
  },
  {
   "cell_type": "code",
   "execution_count": 199,
   "id": "e3585e0b",
   "metadata": {},
   "outputs": [],
   "source": [
    "unique_id_cloth_meta = list(set(cloth_meta.newClothId))\n",
    "transaction=transaction.loc[transaction.newClothId.isin(unique_id_cloth_meta),:]"
   ]
  },
  {
   "cell_type": "code",
   "execution_count": 200,
   "id": "4ceb9200",
   "metadata": {
    "scrolled": false
   },
   "outputs": [],
   "source": [
    "a = transaction[['newClothId']]\n",
    "a.insert(1, 'idx', 0, True)\n",
    "a = a.drop_duplicates(['newClothId'])\n",
    "a.idx = range(len(a))"
   ]
  },
  {
   "cell_type": "code",
   "execution_count": 201,
   "id": "e88e06f0",
   "metadata": {},
   "outputs": [],
   "source": [
    "transaction = pd.merge(transaction, a, how=\"left\", on=\"newClothId\")"
   ]
  },
  {
   "cell_type": "code",
   "execution_count": 202,
   "id": "6defe4f1",
   "metadata": {
    "scrolled": true
   },
   "outputs": [],
   "source": [
    "user_meta = user_meta[category_skirt_user_column]"
   ]
  },
  {
   "cell_type": "code",
   "execution_count": 203,
   "id": "f3ff916a",
   "metadata": {},
   "outputs": [
    {
     "data": {
      "text/html": [
       "<div>\n",
       "<style scoped>\n",
       "    .dataframe tbody tr th:only-of-type {\n",
       "        vertical-align: middle;\n",
       "    }\n",
       "\n",
       "    .dataframe tbody tr th {\n",
       "        vertical-align: top;\n",
       "    }\n",
       "\n",
       "    .dataframe thead th {\n",
       "        text-align: right;\n",
       "    }\n",
       "</style>\n",
       "<table border=\"1\" class=\"dataframe\">\n",
       "  <thead>\n",
       "    <tr style=\"text-align: right;\">\n",
       "      <th></th>\n",
       "      <th>userId</th>\n",
       "      <th>smallCategoryMiniskirt</th>\n",
       "      <th>smallCategoryMidi</th>\n",
       "      <th>smallCategoryLongskirt</th>\n",
       "    </tr>\n",
       "  </thead>\n",
       "  <tbody>\n",
       "    <tr>\n",
       "      <th>0</th>\n",
       "      <td>0</td>\n",
       "      <td>0.0</td>\n",
       "      <td>0.0</td>\n",
       "      <td>1.0</td>\n",
       "    </tr>\n",
       "    <tr>\n",
       "      <th>1</th>\n",
       "      <td>1</td>\n",
       "      <td>0.5</td>\n",
       "      <td>0.0</td>\n",
       "      <td>0.5</td>\n",
       "    </tr>\n",
       "    <tr>\n",
       "      <th>2</th>\n",
       "      <td>2</td>\n",
       "      <td>1.0</td>\n",
       "      <td>0.0</td>\n",
       "      <td>0.0</td>\n",
       "    </tr>\n",
       "    <tr>\n",
       "      <th>3</th>\n",
       "      <td>3</td>\n",
       "      <td>1.0</td>\n",
       "      <td>0.0</td>\n",
       "      <td>0.0</td>\n",
       "    </tr>\n",
       "    <tr>\n",
       "      <th>4</th>\n",
       "      <td>4</td>\n",
       "      <td>1.0</td>\n",
       "      <td>0.0</td>\n",
       "      <td>0.0</td>\n",
       "    </tr>\n",
       "    <tr>\n",
       "      <th>...</th>\n",
       "      <td>...</td>\n",
       "      <td>...</td>\n",
       "      <td>...</td>\n",
       "      <td>...</td>\n",
       "    </tr>\n",
       "    <tr>\n",
       "      <th>8292</th>\n",
       "      <td>8292</td>\n",
       "      <td>0.0</td>\n",
       "      <td>0.0</td>\n",
       "      <td>1.0</td>\n",
       "    </tr>\n",
       "    <tr>\n",
       "      <th>8293</th>\n",
       "      <td>8293</td>\n",
       "      <td>0.0</td>\n",
       "      <td>0.0</td>\n",
       "      <td>1.0</td>\n",
       "    </tr>\n",
       "    <tr>\n",
       "      <th>8294</th>\n",
       "      <td>8294</td>\n",
       "      <td>1.0</td>\n",
       "      <td>0.0</td>\n",
       "      <td>0.0</td>\n",
       "    </tr>\n",
       "    <tr>\n",
       "      <th>8295</th>\n",
       "      <td>8295</td>\n",
       "      <td>1.0</td>\n",
       "      <td>0.0</td>\n",
       "      <td>0.0</td>\n",
       "    </tr>\n",
       "    <tr>\n",
       "      <th>8296</th>\n",
       "      <td>8296</td>\n",
       "      <td>1.0</td>\n",
       "      <td>0.0</td>\n",
       "      <td>0.0</td>\n",
       "    </tr>\n",
       "  </tbody>\n",
       "</table>\n",
       "<p>8297 rows × 4 columns</p>\n",
       "</div>"
      ],
      "text/plain": [
       "      userId  smallCategoryMiniskirt  smallCategoryMidi  \\\n",
       "0          0                     0.0                0.0   \n",
       "1          1                     0.5                0.0   \n",
       "2          2                     1.0                0.0   \n",
       "3          3                     1.0                0.0   \n",
       "4          4                     1.0                0.0   \n",
       "...      ...                     ...                ...   \n",
       "8292    8292                     0.0                0.0   \n",
       "8293    8293                     0.0                0.0   \n",
       "8294    8294                     1.0                0.0   \n",
       "8295    8295                     1.0                0.0   \n",
       "8296    8296                     1.0                0.0   \n",
       "\n",
       "      smallCategoryLongskirt  \n",
       "0                        1.0  \n",
       "1                        0.5  \n",
       "2                        0.0  \n",
       "3                        0.0  \n",
       "4                        0.0  \n",
       "...                      ...  \n",
       "8292                     1.0  \n",
       "8293                     1.0  \n",
       "8294                     0.0  \n",
       "8295                     0.0  \n",
       "8296                     0.0  \n",
       "\n",
       "[8297 rows x 4 columns]"
      ]
     },
     "execution_count": 203,
     "metadata": {},
     "output_type": "execute_result"
    }
   ],
   "source": [
    "unique_id_user_meta = list(set(transaction.userId))\n",
    "user_meta=user_meta.loc[user_meta.userId.isin(unique_id_user_meta),:]\n",
    "user_meta = user_meta.reset_index(drop=True)\n",
    "user_meta"
   ]
  },
  {
   "cell_type": "code",
   "execution_count": 205,
   "id": "572e35e1",
   "metadata": {
    "scrolled": false
   },
   "outputs": [
    {
     "data": {
      "text/html": [
       "<div>\n",
       "<style scoped>\n",
       "    .dataframe tbody tr th:only-of-type {\n",
       "        vertical-align: middle;\n",
       "    }\n",
       "\n",
       "    .dataframe tbody tr th {\n",
       "        vertical-align: top;\n",
       "    }\n",
       "\n",
       "    .dataframe thead th {\n",
       "        text-align: right;\n",
       "    }\n",
       "</style>\n",
       "<table border=\"1\" class=\"dataframe\">\n",
       "  <thead>\n",
       "    <tr style=\"text-align: right;\">\n",
       "      <th></th>\n",
       "      <th>userId</th>\n",
       "      <th>smallCategoryMiniskirt</th>\n",
       "      <th>smallCategoryMidi</th>\n",
       "      <th>smallCategoryLongskirt</th>\n",
       "    </tr>\n",
       "  </thead>\n",
       "  <tbody>\n",
       "    <tr>\n",
       "      <th>0</th>\n",
       "      <td>8299.0</td>\n",
       "      <td>0.3</td>\n",
       "      <td>0.3</td>\n",
       "      <td>0.4</td>\n",
       "    </tr>\n",
       "  </tbody>\n",
       "</table>\n",
       "</div>"
      ],
      "text/plain": [
       "   userId  smallCategoryMiniskirt  smallCategoryMidi  smallCategoryLongskirt\n",
       "0  8299.0                     0.3                0.3                     0.4"
      ]
     },
     "execution_count": 205,
     "metadata": {},
     "output_type": "execute_result"
    }
   ],
   "source": [
    "new_user = pd.DataFrame(user_meta.loc[0]).transpose()\n",
    "new_user_idx = new_user.index\n",
    "new_user.loc[new_user_idx, ('userId')] = 8299\n",
    "new_user.loc[new_user_idx, ('smallCategoryMiniskirt')] = 0.3\n",
    "new_user.loc[new_user_idx, ('smallCategoryMidi')] = 0.3\n",
    "new_user.loc[new_user_idx, ('smallCategoryLongskirt')] = 0.4\n",
    "new_user = new_user[['userId',  'smallCategoryMiniskirt', 'smallCategoryMidi', 'smallCategoryLongskirt']]\n",
    "new_user"
   ]
  },
  {
   "cell_type": "code",
   "execution_count": 206,
   "id": "1622be5d",
   "metadata": {},
   "outputs": [],
   "source": [
    "from copy import deepcopy\n",
    "sub_user = deepcopy(user_meta)"
   ]
  },
  {
   "cell_type": "code",
   "execution_count": 207,
   "id": "4dbab74f",
   "metadata": {},
   "outputs": [],
   "source": [
    "sub_user.smallCategoryMiniskirt = sub_user.apply(lambda x: abs(x.smallCategoryMiniskirt-new_user.smallCategoryMiniskirt.iloc[0]), axis=1)\n",
    "sub_user.smallCategoryMidi = sub_user.apply(lambda x: abs(x.smallCategoryMidi-new_user.smallCategoryMidi.iloc[0]), axis=1)\n",
    "sub_user.smallCategoryLongskirt = sub_user.apply(lambda x: abs(x.smallCategoryLongskirt-new_user.smallCategoryLongskirt.iloc[0]), axis=1)"
   ]
  },
  {
   "cell_type": "code",
   "execution_count": 208,
   "id": "9e89374b",
   "metadata": {},
   "outputs": [],
   "source": [
    "sub_user.insert(1, 'favorSum', 0, True)\n",
    "sub_user.favorSum = sub_user.smallCategoryMiniskirt+sub_user.smallCategoryMidi+sub_user.smallCategoryLongskirt\n",
    "sub_user = sub_user.sort_values('favorSum')"
   ]
  },
  {
   "cell_type": "code",
   "execution_count": 209,
   "id": "e4c76a4e",
   "metadata": {},
   "outputs": [
    {
     "name": "stdout",
     "output_type": "stream",
     "text": [
      "[7389, 6361, 257]\n"
     ]
    }
   ],
   "source": [
    "real_user = []\n",
    "for i in range(3):\n",
    "    real_user.append(sub_user.iloc[i].userId)\n",
    "real_user = [int(i) for i in real_user]\n",
    "print(real_user)"
   ]
  },
  {
   "cell_type": "code",
   "execution_count": 210,
   "id": "f6618cdf",
   "metadata": {},
   "outputs": [],
   "source": [
    "cloth_meta = cloth_meta[category_skirt_cloth_column]"
   ]
  },
  {
   "cell_type": "code",
   "execution_count": 211,
   "id": "ef65414f",
   "metadata": {},
   "outputs": [
    {
     "data": {
      "text/html": [
       "<div>\n",
       "<style scoped>\n",
       "    .dataframe tbody tr th:only-of-type {\n",
       "        vertical-align: middle;\n",
       "    }\n",
       "\n",
       "    .dataframe tbody tr th {\n",
       "        vertical-align: top;\n",
       "    }\n",
       "\n",
       "    .dataframe thead th {\n",
       "        text-align: right;\n",
       "    }\n",
       "</style>\n",
       "<table border=\"1\" class=\"dataframe\">\n",
       "  <thead>\n",
       "    <tr style=\"text-align: right;\">\n",
       "      <th></th>\n",
       "      <th>newClothId</th>\n",
       "      <th>smallCategoryMiniskirt</th>\n",
       "      <th>smallCategoryMidi</th>\n",
       "      <th>smallCategoryLongskirt</th>\n",
       "    </tr>\n",
       "  </thead>\n",
       "  <tbody>\n",
       "    <tr>\n",
       "      <th>0</th>\n",
       "      <td>2018790</td>\n",
       "      <td>0</td>\n",
       "      <td>0</td>\n",
       "      <td>1</td>\n",
       "    </tr>\n",
       "    <tr>\n",
       "      <th>1</th>\n",
       "      <td>1844574</td>\n",
       "      <td>1</td>\n",
       "      <td>0</td>\n",
       "      <td>0</td>\n",
       "    </tr>\n",
       "    <tr>\n",
       "      <th>2</th>\n",
       "      <td>1672093</td>\n",
       "      <td>0</td>\n",
       "      <td>1</td>\n",
       "      <td>0</td>\n",
       "    </tr>\n",
       "    <tr>\n",
       "      <th>3</th>\n",
       "      <td>1687533</td>\n",
       "      <td>0</td>\n",
       "      <td>1</td>\n",
       "      <td>0</td>\n",
       "    </tr>\n",
       "    <tr>\n",
       "      <th>4</th>\n",
       "      <td>2338446</td>\n",
       "      <td>0</td>\n",
       "      <td>1</td>\n",
       "      <td>0</td>\n",
       "    </tr>\n",
       "    <tr>\n",
       "      <th>...</th>\n",
       "      <td>...</td>\n",
       "      <td>...</td>\n",
       "      <td>...</td>\n",
       "      <td>...</td>\n",
       "    </tr>\n",
       "    <tr>\n",
       "      <th>8871</th>\n",
       "      <td>21172562649</td>\n",
       "      <td>0</td>\n",
       "      <td>0</td>\n",
       "      <td>1</td>\n",
       "    </tr>\n",
       "    <tr>\n",
       "      <th>8872</th>\n",
       "      <td>21172562648</td>\n",
       "      <td>0</td>\n",
       "      <td>0</td>\n",
       "      <td>1</td>\n",
       "    </tr>\n",
       "    <tr>\n",
       "      <th>8873</th>\n",
       "      <td>23400702652</td>\n",
       "      <td>1</td>\n",
       "      <td>0</td>\n",
       "      <td>0</td>\n",
       "    </tr>\n",
       "    <tr>\n",
       "      <th>8874</th>\n",
       "      <td>23400702653</td>\n",
       "      <td>1</td>\n",
       "      <td>0</td>\n",
       "      <td>0</td>\n",
       "    </tr>\n",
       "    <tr>\n",
       "      <th>8875</th>\n",
       "      <td>2340082</td>\n",
       "      <td>1</td>\n",
       "      <td>0</td>\n",
       "      <td>0</td>\n",
       "    </tr>\n",
       "  </tbody>\n",
       "</table>\n",
       "<p>8876 rows × 4 columns</p>\n",
       "</div>"
      ],
      "text/plain": [
       "       newClothId  smallCategoryMiniskirt  smallCategoryMidi  \\\n",
       "0         2018790                       0                  0   \n",
       "1         1844574                       1                  0   \n",
       "2         1672093                       0                  1   \n",
       "3         1687533                       0                  1   \n",
       "4         2338446                       0                  1   \n",
       "...           ...                     ...                ...   \n",
       "8871  21172562649                       0                  0   \n",
       "8872  21172562648                       0                  0   \n",
       "8873  23400702652                       1                  0   \n",
       "8874  23400702653                       1                  0   \n",
       "8875      2340082                       1                  0   \n",
       "\n",
       "      smallCategoryLongskirt  \n",
       "0                          1  \n",
       "1                          0  \n",
       "2                          0  \n",
       "3                          0  \n",
       "4                          0  \n",
       "...                      ...  \n",
       "8871                       1  \n",
       "8872                       1  \n",
       "8873                       0  \n",
       "8874                       0  \n",
       "8875                       0  \n",
       "\n",
       "[8876 rows x 4 columns]"
      ]
     },
     "execution_count": 211,
     "metadata": {},
     "output_type": "execute_result"
    }
   ],
   "source": [
    "cloth_meta"
   ]
  },
  {
   "cell_type": "code",
   "execution_count": 212,
   "id": "d69a64dc",
   "metadata": {},
   "outputs": [],
   "source": [
    "cloth_meta = pd.merge(cloth_meta, a, how=\"left\", on=\"newClothId\")"
   ]
  },
  {
   "cell_type": "code",
   "execution_count": 213,
   "id": "9b2d9504",
   "metadata": {},
   "outputs": [
    {
     "data": {
      "text/plain": [
       "2654"
      ]
     },
     "execution_count": 213,
     "metadata": {},
     "output_type": "execute_result"
    }
   ],
   "source": [
    "unique_cloth_id = list(transaction['newClothId'].unique())\n",
    "len(unique_cloth_id)"
   ]
  },
  {
   "cell_type": "code",
   "execution_count": 214,
   "id": "b27b96b0",
   "metadata": {},
   "outputs": [],
   "source": [
    "a = cloth_meta.newClothId.isin(unique_cloth_id)\n",
    "cloth_meta = cloth_meta[a]\n",
    "cloth_meta.index = range(len(cloth_meta))"
   ]
  },
  {
   "cell_type": "code",
   "execution_count": 215,
   "id": "677ead7b",
   "metadata": {
    "scrolled": false
   },
   "outputs": [],
   "source": [
    "cloth_meta.idx = cloth_meta.idx.astype('int')"
   ]
  },
  {
   "cell_type": "code",
   "execution_count": 216,
   "id": "44d2f2e1",
   "metadata": {},
   "outputs": [],
   "source": [
    "transaction_source = [(transaction['userId'][i], transaction['idx'][i]) for i in range(transaction.shape[0])]"
   ]
  },
  {
   "cell_type": "code",
   "execution_count": 217,
   "id": "d80af2d3",
   "metadata": {},
   "outputs": [
    {
     "name": "stdout",
     "output_type": "stream",
     "text": [
      "userId의 유니크 개수 : 8297\n",
      "clothId의 유니크 개수 : 2654\n",
      "user테이블의 userId의 유니크 개수 : 8297\n",
      "cloth테이블의 clothId의 유니크 개수 : 2654\n"
     ]
    }
   ],
   "source": [
    "print('userId의 유니크 개수 :', len(transaction.userId.unique()))\n",
    "print('clothId의 유니크 개수 :', len(transaction.idx.unique()))\n",
    "print('user테이블의 userId의 유니크 개수 :', len(user_meta.userId.unique()))\n",
    "print('cloth테이블의 clothId의 유니크 개수 :', len(cloth_meta.idx.unique()))"
   ]
  },
  {
   "cell_type": "code",
   "execution_count": 219,
   "id": "ee472fe0",
   "metadata": {},
   "outputs": [],
   "source": [
    "user_features_source = [(user_meta['userId'][i],\n",
    "                        [user_meta['smallCategoryMiniskirt'][i], user_meta['smallCategoryMidi'][i], user_meta['smallCategoryLongskirt'][i]]) for i in range(user_meta.shape[0])]"
   ]
  },
  {
   "cell_type": "code",
   "execution_count": 220,
   "id": "5a7dd0b2",
   "metadata": {},
   "outputs": [],
   "source": [
    "cloth_features_source = [(cloth_meta['idx'][i],\n",
    "                        [cloth_meta['smallCategoryMiniskirt'][i], cloth_meta['smallCategoryMidi'][i], cloth_meta['smallCategoryLongskirt'][i]]) for i in range(cloth_meta.shape[0])]"
   ]
  },
  {
   "cell_type": "code",
   "execution_count": 221,
   "id": "106bbb80",
   "metadata": {},
   "outputs": [],
   "source": [
    "dataset = Dataset()\n",
    "dataset.fit(users=transaction['userId'].unique(),\n",
    "           items=transaction['idx'].unique(),\n",
    "           user_features=user_meta[user_meta.columns[1:]].values.flatten(),\n",
    "           item_features=cloth_meta[cloth_meta.columns[1:]].values.flatten())"
   ]
  },
  {
   "cell_type": "code",
   "execution_count": 222,
   "id": "11a42356",
   "metadata": {},
   "outputs": [],
   "source": [
    "interactions, weights = dataset.build_interactions(transaction_source)"
   ]
  },
  {
   "cell_type": "code",
   "execution_count": 223,
   "id": "908b3a37",
   "metadata": {},
   "outputs": [],
   "source": [
    "user_features = dataset.build_user_features(user_features_source)"
   ]
  },
  {
   "cell_type": "code",
   "execution_count": 224,
   "id": "7d580846",
   "metadata": {
    "scrolled": true
   },
   "outputs": [],
   "source": [
    "cloth_features = dataset.build_item_features(cloth_features_source)"
   ]
  },
  {
   "cell_type": "code",
   "execution_count": 225,
   "id": "df956cdc",
   "metadata": {},
   "outputs": [],
   "source": [
    "train, test = random_train_test_split(interactions, test_percentage=0.2)\n",
    "train, test = train.tocsr().tocoo(), test.tocsr().tocoo()\n",
    "train_weights = train.multiply(weights).tocoo()\n",
    "test_weights = test.multiply(weights).tocoo()"
   ]
  },
  {
   "cell_type": "code",
   "execution_count": 226,
   "id": "03c32a76",
   "metadata": {},
   "outputs": [],
   "source": [
    "# no_components: 10\n",
    "# learning_rate : 0.05\n",
    "trials = Trials()\n",
    "space = [hp.choice('no_components', range(10, 21, 5)),\n",
    "         hp.uniform('learning_rate', 0.05, 0.1)]"
   ]
  },
  {
   "cell_type": "code",
   "execution_count": 227,
   "id": "c147633f",
   "metadata": {},
   "outputs": [],
   "source": [
    "# Define Objective Function\n",
    "def objective(params):\n",
    "    no_components, learning_rate = params\n",
    "    model = LightFM(no_components=no_components,\n",
    "                    learning_schedule='adagrad',\n",
    "                    loss='warp',\n",
    "                    learning_rate=learning_rate,\n",
    "                    random_state=0)\n",
    "\n",
    "    model.fit(interactions=train,\n",
    "              item_features=cloth_features,\n",
    "              user_features=user_features,\n",
    "              sample_weight=train_weights,\n",
    "              epochs=3,\n",
    "              verbose=False)\n",
    "\n",
    "    test_precision = precision_at_k(model, test, k=5, item_features=cloth_features, user_features=user_features).mean()\n",
    "    print(\"no_comp: {}, lrn_rate: {:.5f}, precision: {:.5f}\".format(\n",
    "      no_components, learning_rate, test_precision))\n",
    "    # test_auc = auc_score(model, test, item_features=item_features).mean()\n",
    "    output = -test_precision\n",
    "\n",
    "    if np.abs(output+1) < 0.01 or output < -1.0:\n",
    "        output = 0.0\n",
    "\n",
    "    return output"
   ]
  },
  {
   "cell_type": "code",
   "execution_count": 228,
   "id": "9b889fec",
   "metadata": {},
   "outputs": [
    {
     "name": "stdout",
     "output_type": "stream",
     "text": [
      "no_comp: 15, lrn_rate: 0.05733, precision: 0.01111    \n",
      "no_comp: 15, lrn_rate: 0.07954, precision: 0.01111                                 \n",
      "no_comp: 10, lrn_rate: 0.07706, precision: 0.01111                                 \n",
      "no_comp: 20, lrn_rate: 0.05411, precision: 0.00978                                 \n",
      "no_comp: 10, lrn_rate: 0.06632, precision: 0.01029                                 \n",
      "no_comp: 10, lrn_rate: 0.05032, precision: 0.01100                                 \n",
      "no_comp: 20, lrn_rate: 0.09722, precision: 0.00968                                 \n",
      "no_comp: 20, lrn_rate: 0.06064, precision: 0.01111                                 \n",
      "no_comp: 15, lrn_rate: 0.08470, precision: 0.01039                                 \n",
      "no_comp: 10, lrn_rate: 0.07113, precision: 0.01172                                 \n",
      "100%|██████████| 10/10 [00:05<00:00,  1.86trial/s, best loss: -0.011716759763658047]\n"
     ]
    }
   ],
   "source": [
    "best_params = fmin(fn=objective, space=space, algo=tpe.suggest, max_evals=10, trials=trials)"
   ]
  },
  {
   "cell_type": "code",
   "execution_count": 229,
   "id": "eeeed595",
   "metadata": {
    "scrolled": true
   },
   "outputs": [
    {
     "name": "stdout",
     "output_type": "stream",
     "text": [
      "0.071 0\n"
     ]
    }
   ],
   "source": [
    "learning_rate = round(best_params['learning_rate'], 3)\n",
    "no_components = best_params['no_components']\n",
    "print(learning_rate, no_components)"
   ]
  },
  {
   "cell_type": "code",
   "execution_count": 230,
   "id": "de02ac4d",
   "metadata": {},
   "outputs": [],
   "source": [
    "learning_rate = 0.03\n",
    "no_components = 3"
   ]
  },
  {
   "cell_type": "code",
   "execution_count": 231,
   "id": "22d5c726",
   "metadata": {},
   "outputs": [
    {
     "name": "stderr",
     "output_type": "stream",
     "text": [
      "Epoch: 100%|██████████| 10/10 [00:00<00:00, 52.62it/s]\n"
     ]
    },
    {
     "data": {
      "text/plain": [
       "<lightfm.lightfm.LightFM at 0x1c53cb2c070>"
      ]
     },
     "execution_count": 231,
     "metadata": {},
     "output_type": "execute_result"
    }
   ],
   "source": [
    "model = LightFM(no_components=no_components,\n",
    "                learning_schedule='adagrad',\n",
    "                loss='warp',\n",
    "                learning_rate=learning_rate,\n",
    "                random_state=0)\n",
    "\n",
    "model.fit(interactions=interactions,\n",
    "          item_features=cloth_features,\n",
    "          user_features=user_features,\n",
    "          sample_weight=weights,\n",
    "          epochs=10,\n",
    "          verbose=True)"
   ]
  },
  {
   "cell_type": "code",
   "execution_count": 232,
   "id": "b280b0eb",
   "metadata": {},
   "outputs": [],
   "source": [
    "# 모델 저장하기\n",
    "import pickle\n",
    "with open('model_category_skirt.pickle', 'wb') as fw:\n",
    "    pickle.dump(model, fw)"
   ]
  },
  {
   "cell_type": "code",
   "execution_count": 233,
   "id": "4583e5a9",
   "metadata": {},
   "outputs": [],
   "source": [
    "# 모델 불러오기\n",
    "import pickle\n",
    "with open('model_category_skirt.pickle', 'rb') as f:\n",
    "    model_skirt = pickle.load(f)"
   ]
  },
  {
   "cell_type": "code",
   "execution_count": 234,
   "id": "f4905096",
   "metadata": {},
   "outputs": [],
   "source": [
    "def sample_recommendation(model, idx, user_ids):\n",
    "    cnt = 1\n",
    "    for user_id in user_ids:\n",
    "        if cnt==1:\n",
    "            scores = model.predict(int(user_meta[user_meta.userId==user_id].index[0]), np.arange(len(cloth_meta)))\n",
    "        else:\n",
    "            scores += model.predict(int(user_meta[user_meta.userId==user_id].index[0]), np.arange(len(cloth_meta)))\n",
    "    \n",
    "    top_items = idx[np.argsort(-scores)]\n",
    "    \n",
    "    sub_clothes = []\n",
    "\n",
    "    for x in top_items[:10]:\n",
    "        sub_clothes.append(x)\n",
    "    \n",
    "    rec_clothes = []\n",
    "    \n",
    "    for i in sub_clothes:\n",
    "        rec_clothes.append(cloth_meta[cloth_meta.idx==i].newClothId.iloc[0])\n",
    "    \n",
    "    return rec_clothes"
   ]
  },
  {
   "cell_type": "code",
   "execution_count": 235,
   "id": "7f8e4079",
   "metadata": {
    "scrolled": false
   },
   "outputs": [
    {
     "data": {
      "text/plain": [
       "[2017517424,\n",
       " 150926840,\n",
       " 1618698367,\n",
       " 1907111403,\n",
       " 1773210461,\n",
       " 1173636175,\n",
       " 2152938406,\n",
       " 1618698368,\n",
       " 1775973474,\n",
       " 117363976]"
      ]
     },
     "execution_count": 235,
     "metadata": {},
     "output_type": "execute_result"
    }
   ],
   "source": [
    "rec_size_top = sample_recommendation(model_skirt, cloth_meta.idx, real_user)\n",
    "rec_size_top"
   ]
  },
  {
   "cell_type": "code",
   "execution_count": 236,
   "id": "cb0ebabb",
   "metadata": {},
   "outputs": [
    {
     "data": {
      "text/plain": [
       "[7389, 6361, 257]"
      ]
     },
     "execution_count": 236,
     "metadata": {},
     "output_type": "execute_result"
    }
   ],
   "source": [
    "real_user"
   ]
  },
  {
   "cell_type": "code",
   "execution_count": 238,
   "id": "98c4dc9a",
   "metadata": {},
   "outputs": [],
   "source": [
    "cloth_meta.insert(5, 'what', 20, True)\n",
    "user_meta.insert(4, 'what', 20, True)"
   ]
  },
  {
   "cell_type": "code",
   "execution_count": 239,
   "id": "f763579d",
   "metadata": {
    "scrolled": false
   },
   "outputs": [
    {
     "data": {
      "text/html": [
       "<div>\n",
       "<style scoped>\n",
       "    .dataframe tbody tr th:only-of-type {\n",
       "        vertical-align: middle;\n",
       "    }\n",
       "\n",
       "    .dataframe tbody tr th {\n",
       "        vertical-align: top;\n",
       "    }\n",
       "\n",
       "    .dataframe thead th {\n",
       "        text-align: right;\n",
       "    }\n",
       "</style>\n",
       "<table border=\"1\" class=\"dataframe\">\n",
       "  <thead>\n",
       "    <tr style=\"text-align: right;\">\n",
       "      <th></th>\n",
       "      <th>newClothId</th>\n",
       "      <th>idx</th>\n",
       "      <th>what</th>\n",
       "    </tr>\n",
       "  </thead>\n",
       "  <tbody>\n",
       "    <tr>\n",
       "      <th>0</th>\n",
       "      <td>161812522</td>\n",
       "      <td>1682</td>\n",
       "      <td>20</td>\n",
       "    </tr>\n",
       "    <tr>\n",
       "      <th>1</th>\n",
       "      <td>161812521</td>\n",
       "      <td>896</td>\n",
       "      <td>20</td>\n",
       "    </tr>\n",
       "    <tr>\n",
       "      <th>2</th>\n",
       "      <td>185310349</td>\n",
       "      <td>1662</td>\n",
       "      <td>20</td>\n",
       "    </tr>\n",
       "    <tr>\n",
       "      <th>3</th>\n",
       "      <td>1884867110</td>\n",
       "      <td>2304</td>\n",
       "      <td>20</td>\n",
       "    </tr>\n",
       "    <tr>\n",
       "      <th>4</th>\n",
       "      <td>1629303146</td>\n",
       "      <td>965</td>\n",
       "      <td>20</td>\n",
       "    </tr>\n",
       "    <tr>\n",
       "      <th>...</th>\n",
       "      <td>...</td>\n",
       "      <td>...</td>\n",
       "      <td>...</td>\n",
       "    </tr>\n",
       "    <tr>\n",
       "      <th>2649</th>\n",
       "      <td>21172562650</td>\n",
       "      <td>22</td>\n",
       "      <td>20</td>\n",
       "    </tr>\n",
       "    <tr>\n",
       "      <th>2650</th>\n",
       "      <td>21172562649</td>\n",
       "      <td>2</td>\n",
       "      <td>20</td>\n",
       "    </tr>\n",
       "    <tr>\n",
       "      <th>2651</th>\n",
       "      <td>21172562648</td>\n",
       "      <td>531</td>\n",
       "      <td>20</td>\n",
       "    </tr>\n",
       "    <tr>\n",
       "      <th>2652</th>\n",
       "      <td>23400702652</td>\n",
       "      <td>1441</td>\n",
       "      <td>20</td>\n",
       "    </tr>\n",
       "    <tr>\n",
       "      <th>2653</th>\n",
       "      <td>23400702653</td>\n",
       "      <td>1273</td>\n",
       "      <td>20</td>\n",
       "    </tr>\n",
       "  </tbody>\n",
       "</table>\n",
       "<p>2654 rows × 3 columns</p>\n",
       "</div>"
      ],
      "text/plain": [
       "       newClothId   idx  what\n",
       "0       161812522  1682    20\n",
       "1       161812521   896    20\n",
       "2       185310349  1662    20\n",
       "3      1884867110  2304    20\n",
       "4      1629303146   965    20\n",
       "...           ...   ...   ...\n",
       "2649  21172562650    22    20\n",
       "2650  21172562649     2    20\n",
       "2651  21172562648   531    20\n",
       "2652  23400702652  1441    20\n",
       "2653  23400702653  1273    20\n",
       "\n",
       "[2654 rows x 3 columns]"
      ]
     },
     "execution_count": 239,
     "metadata": {},
     "output_type": "execute_result"
    }
   ],
   "source": [
    "cloth_meta = cloth_meta[[\"newClothId\", \"idx\", 'what']]\n",
    "cloth_meta"
   ]
  },
  {
   "cell_type": "code",
   "execution_count": 240,
   "id": "16f1dc96",
   "metadata": {},
   "outputs": [],
   "source": [
    "cloth_meta.to_json('category_skirt_cloth_meta.json', orient='records', force_ascii=False)\n",
    "user_meta.to_json('category_skirt_user_meta.json', orient='records', force_ascii=False)"
   ]
  },
  {
   "cell_type": "code",
   "execution_count": 241,
   "id": "4554c0d8",
   "metadata": {},
   "outputs": [
    {
     "data": {
      "text/html": [
       "<div>\n",
       "<style scoped>\n",
       "    .dataframe tbody tr th:only-of-type {\n",
       "        vertical-align: middle;\n",
       "    }\n",
       "\n",
       "    .dataframe tbody tr th {\n",
       "        vertical-align: top;\n",
       "    }\n",
       "\n",
       "    .dataframe thead th {\n",
       "        text-align: right;\n",
       "    }\n",
       "</style>\n",
       "<table border=\"1\" class=\"dataframe\">\n",
       "  <thead>\n",
       "    <tr style=\"text-align: right;\">\n",
       "      <th></th>\n",
       "      <th>userId</th>\n",
       "      <th>smallCategoryMiniskirt</th>\n",
       "      <th>smallCategoryMidi</th>\n",
       "      <th>smallCategoryLongskirt</th>\n",
       "      <th>what</th>\n",
       "    </tr>\n",
       "  </thead>\n",
       "  <tbody>\n",
       "    <tr>\n",
       "      <th>0</th>\n",
       "      <td>0</td>\n",
       "      <td>0.0</td>\n",
       "      <td>0.0</td>\n",
       "      <td>1.0</td>\n",
       "      <td>20</td>\n",
       "    </tr>\n",
       "    <tr>\n",
       "      <th>1</th>\n",
       "      <td>1</td>\n",
       "      <td>0.5</td>\n",
       "      <td>0.0</td>\n",
       "      <td>0.5</td>\n",
       "      <td>20</td>\n",
       "    </tr>\n",
       "    <tr>\n",
       "      <th>2</th>\n",
       "      <td>2</td>\n",
       "      <td>1.0</td>\n",
       "      <td>0.0</td>\n",
       "      <td>0.0</td>\n",
       "      <td>20</td>\n",
       "    </tr>\n",
       "    <tr>\n",
       "      <th>3</th>\n",
       "      <td>3</td>\n",
       "      <td>1.0</td>\n",
       "      <td>0.0</td>\n",
       "      <td>0.0</td>\n",
       "      <td>20</td>\n",
       "    </tr>\n",
       "    <tr>\n",
       "      <th>4</th>\n",
       "      <td>4</td>\n",
       "      <td>1.0</td>\n",
       "      <td>0.0</td>\n",
       "      <td>0.0</td>\n",
       "      <td>20</td>\n",
       "    </tr>\n",
       "    <tr>\n",
       "      <th>...</th>\n",
       "      <td>...</td>\n",
       "      <td>...</td>\n",
       "      <td>...</td>\n",
       "      <td>...</td>\n",
       "      <td>...</td>\n",
       "    </tr>\n",
       "    <tr>\n",
       "      <th>8292</th>\n",
       "      <td>8292</td>\n",
       "      <td>0.0</td>\n",
       "      <td>0.0</td>\n",
       "      <td>1.0</td>\n",
       "      <td>20</td>\n",
       "    </tr>\n",
       "    <tr>\n",
       "      <th>8293</th>\n",
       "      <td>8293</td>\n",
       "      <td>0.0</td>\n",
       "      <td>0.0</td>\n",
       "      <td>1.0</td>\n",
       "      <td>20</td>\n",
       "    </tr>\n",
       "    <tr>\n",
       "      <th>8294</th>\n",
       "      <td>8294</td>\n",
       "      <td>1.0</td>\n",
       "      <td>0.0</td>\n",
       "      <td>0.0</td>\n",
       "      <td>20</td>\n",
       "    </tr>\n",
       "    <tr>\n",
       "      <th>8295</th>\n",
       "      <td>8295</td>\n",
       "      <td>1.0</td>\n",
       "      <td>0.0</td>\n",
       "      <td>0.0</td>\n",
       "      <td>20</td>\n",
       "    </tr>\n",
       "    <tr>\n",
       "      <th>8296</th>\n",
       "      <td>8296</td>\n",
       "      <td>1.0</td>\n",
       "      <td>0.0</td>\n",
       "      <td>0.0</td>\n",
       "      <td>20</td>\n",
       "    </tr>\n",
       "  </tbody>\n",
       "</table>\n",
       "<p>8297 rows × 5 columns</p>\n",
       "</div>"
      ],
      "text/plain": [
       "      userId  smallCategoryMiniskirt  smallCategoryMidi  \\\n",
       "0          0                     0.0                0.0   \n",
       "1          1                     0.5                0.0   \n",
       "2          2                     1.0                0.0   \n",
       "3          3                     1.0                0.0   \n",
       "4          4                     1.0                0.0   \n",
       "...      ...                     ...                ...   \n",
       "8292    8292                     0.0                0.0   \n",
       "8293    8293                     0.0                0.0   \n",
       "8294    8294                     1.0                0.0   \n",
       "8295    8295                     1.0                0.0   \n",
       "8296    8296                     1.0                0.0   \n",
       "\n",
       "      smallCategoryLongskirt  what  \n",
       "0                        1.0    20  \n",
       "1                        0.5    20  \n",
       "2                        0.0    20  \n",
       "3                        0.0    20  \n",
       "4                        0.0    20  \n",
       "...                      ...   ...  \n",
       "8292                     1.0    20  \n",
       "8293                     1.0    20  \n",
       "8294                     0.0    20  \n",
       "8295                     0.0    20  \n",
       "8296                     0.0    20  \n",
       "\n",
       "[8297 rows x 5 columns]"
      ]
     },
     "execution_count": 241,
     "metadata": {},
     "output_type": "execute_result"
    }
   ],
   "source": [
    "user_meta"
   ]
  },
  {
   "cell_type": "code",
   "execution_count": null,
   "id": "f8634c0b",
   "metadata": {},
   "outputs": [],
   "source": []
  },
  {
   "cell_type": "code",
   "execution_count": null,
   "id": "eeb7debb",
   "metadata": {},
   "outputs": [],
   "source": []
  },
  {
   "cell_type": "code",
   "execution_count": null,
   "id": "ae929d08",
   "metadata": {},
   "outputs": [],
   "source": []
  }
 ],
 "metadata": {
  "kernelspec": {
   "display_name": "Python 3 (ipykernel)",
   "language": "python",
   "name": "python3"
  },
  "language_info": {
   "codemirror_mode": {
    "name": "ipython",
    "version": 3
   },
   "file_extension": ".py",
   "mimetype": "text/x-python",
   "name": "python",
   "nbconvert_exporter": "python",
   "pygments_lexer": "ipython3",
   "version": "3.9.10"
  }
 },
 "nbformat": 4,
 "nbformat_minor": 5
}
